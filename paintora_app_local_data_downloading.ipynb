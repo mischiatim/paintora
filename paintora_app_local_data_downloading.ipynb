{
 "cells": [
  {
   "cell_type": "code",
   "execution_count": 1,
   "metadata": {},
   "outputs": [],
   "source": [
    "import requests\n",
    "import json \n",
    "from dotenv import dotenv_values\n",
    "\n",
    "import pandas as pd"
   ]
  },
  {
   "cell_type": "code",
   "execution_count": 2,
   "metadata": {},
   "outputs": [],
   "source": [
    "#Read private API key \n",
    "#Note: will need to deal with this with Heroku's config vars for deployment\n",
    "config = dotenv_values('.env')\n",
    "etsy_key = config['x-api-key']\n"
   ]
  },
  {
   "cell_type": "code",
   "execution_count": 3,
   "metadata": {},
   "outputs": [],
   "source": [
    "headers = { 'x-api-key' : etsy_key }"
   ]
  },
  {
   "cell_type": "markdown",
   "metadata": {},
   "source": [
    "# Part I: Download basic listing data (price, dimensions, materials, etc.) for all paintings for sale within a certain price range. "
   ]
  },
  {
   "cell_type": "markdown",
   "metadata": {},
   "source": [
    "## Preparatory Steps"
   ]
  },
  {
   "cell_type": "markdown",
   "metadata": {},
   "source": [
    "### Get the full hierarchy tree of seller taxonomy nodes, to find the one I am interested in (paintings)"
   ]
  },
  {
   "cell_type": "code",
   "execution_count": 4,
   "metadata": {},
   "outputs": [],
   "source": [
    "url_taxonomy = 'https://openapi.etsy.com/v3/application/seller-taxonomy/nodes'"
   ]
  },
  {
   "cell_type": "code",
   "execution_count": 5,
   "metadata": {},
   "outputs": [],
   "source": [
    "response_taxonomy = requests.get(url_taxonomy, headers = headers)"
   ]
  },
  {
   "cell_type": "code",
   "execution_count": 6,
   "metadata": {},
   "outputs": [
    {
     "data": {
      "text/plain": [
       "<Response [200]>"
      ]
     },
     "execution_count": 6,
     "metadata": {},
     "output_type": "execute_result"
    }
   ],
   "source": [
    "response_taxonomy"
   ]
  },
  {
   "cell_type": "code",
   "execution_count": 7,
   "metadata": {},
   "outputs": [],
   "source": [
    "response_taxonomy_data = response_taxonomy.json() "
   ]
  },
  {
   "cell_type": "code",
   "execution_count": 8,
   "metadata": {},
   "outputs": [
    {
     "data": {
      "text/plain": [
       "dict_keys(['count', 'results'])"
      ]
     },
     "execution_count": 8,
     "metadata": {},
     "output_type": "execute_result"
    }
   ],
   "source": [
    "response_taxonomy_data.keys()"
   ]
  },
  {
   "cell_type": "code",
   "execution_count": 9,
   "metadata": {},
   "outputs": [
    {
     "data": {
      "text/plain": [
       "15"
      ]
     },
     "execution_count": 9,
     "metadata": {},
     "output_type": "execute_result"
    }
   ],
   "source": [
    "#results is a list of nested dictionaries\n",
    "len(response_taxonomy_data['results'])"
   ]
  },
  {
   "cell_type": "code",
   "execution_count": 10,
   "metadata": {},
   "outputs": [
    {
     "data": {
      "text/plain": [
       "[('Accessories', 0),\n",
       " ('Art & Collectibles', 1),\n",
       " ('Bags & Purses', 2),\n",
       " ('Bath & Beauty', 3),\n",
       " ('Books, Movies & Music', 4),\n",
       " ('Clothing', 5),\n",
       " ('Craft Supplies & Tools', 6),\n",
       " ('Electronics & Accessories', 7),\n",
       " ('Home & Living', 8),\n",
       " ('Jewelry', 9),\n",
       " ('Paper & Party Supplies', 10),\n",
       " ('Pet Supplies', 11),\n",
       " ('Shoes', 12),\n",
       " ('Toys & Games', 13),\n",
       " ('Weddings', 14)]"
      ]
     },
     "execution_count": 10,
     "metadata": {},
     "output_type": "execute_result"
    }
   ],
   "source": [
    "#lets's start with the main tree to see the 15 main categories and find where painting may be\n",
    "[(main_category['name'], counter) for counter, main_category in enumerate(response_taxonomy_data['results'])]"
   ]
  },
  {
   "cell_type": "code",
   "execution_count": 11,
   "metadata": {},
   "outputs": [
    {
     "data": {
      "text/plain": [
       "[('Collectibles', 0),\n",
       " ('Drawing & Illustration', 1),\n",
       " ('Fiber Arts', 2),\n",
       " ('Mixed Media & Collage', 3),\n",
       " ('Glass Art', 4),\n",
       " ('Painting', 5),\n",
       " ('Photography', 6),\n",
       " ('Prints', 7),\n",
       " ('Sculpture', 8),\n",
       " ('Dolls & Miniatures', 9),\n",
       " ('Artist Trading Cards', 10),\n",
       " ('Fine Art Ceramics', 11)]"
      ]
     },
     "execution_count": 11,
     "metadata": {},
     "output_type": "execute_result"
    }
   ],
   "source": [
    "#Let's dive into Art and Collectibles\n",
    "[(art_category['name'], counter) for counter, art_category in enumerate(response_taxonomy_data['results'][1]['children'])]\n",
    "#response_taxonomy_data['results'][1]['children']"
   ]
  },
  {
   "cell_type": "code",
   "execution_count": 12,
   "metadata": {},
   "outputs": [
    {
     "data": {
      "text/plain": [
       "{'id': 105,\n",
       " 'level': 2,\n",
       " 'name': 'Painting',\n",
       " 'parent_id': 66,\n",
       " 'children': [{'id': 106,\n",
       "   'level': 3,\n",
       "   'name': 'Acrylic',\n",
       "   'parent_id': 105,\n",
       "   'children': [],\n",
       "   'full_path_taxonomy_ids': [66, 105, 106]},\n",
       "  {'id': 107,\n",
       "   'level': 3,\n",
       "   'name': 'Combination',\n",
       "   'parent_id': 105,\n",
       "   'children': [],\n",
       "   'full_path_taxonomy_ids': [66, 105, 107]},\n",
       "  {'id': 108,\n",
       "   'level': 3,\n",
       "   'name': 'Encaustics',\n",
       "   'parent_id': 105,\n",
       "   'children': [],\n",
       "   'full_path_taxonomy_ids': [66, 105, 108]},\n",
       "  {'id': 109,\n",
       "   'level': 3,\n",
       "   'name': 'Gouache',\n",
       "   'parent_id': 105,\n",
       "   'children': [],\n",
       "   'full_path_taxonomy_ids': [66, 105, 109]},\n",
       "  {'id': 110,\n",
       "   'level': 3,\n",
       "   'name': 'Ink',\n",
       "   'parent_id': 105,\n",
       "   'children': [],\n",
       "   'full_path_taxonomy_ids': [66, 105, 110]},\n",
       "  {'id': 111,\n",
       "   'level': 3,\n",
       "   'name': 'Mixed',\n",
       "   'parent_id': 105,\n",
       "   'children': [],\n",
       "   'full_path_taxonomy_ids': [66, 105, 111]},\n",
       "  {'id': 112,\n",
       "   'level': 3,\n",
       "   'name': 'Oil',\n",
       "   'parent_id': 105,\n",
       "   'children': [],\n",
       "   'full_path_taxonomy_ids': [66, 105, 112]},\n",
       "  {'id': 113,\n",
       "   'level': 3,\n",
       "   'name': 'Spray Paint',\n",
       "   'parent_id': 105,\n",
       "   'children': [],\n",
       "   'full_path_taxonomy_ids': [66, 105, 113]},\n",
       "  {'id': 114,\n",
       "   'level': 3,\n",
       "   'name': 'Watercolor',\n",
       "   'parent_id': 105,\n",
       "   'children': [],\n",
       "   'full_path_taxonomy_ids': [66, 105, 114]}],\n",
       " 'full_path_taxonomy_ids': [66, 105]}"
      ]
     },
     "execution_count": 12,
     "metadata": {},
     "output_type": "execute_result"
    }
   ],
   "source": [
    "#Let's look at painting\n",
    "response_taxonomy_data['results'][1]['children'][5]"
   ]
  },
  {
   "cell_type": "code",
   "execution_count": 13,
   "metadata": {},
   "outputs": [
    {
     "data": {
      "text/plain": [
       "[('Acrylic', 106, [66, 105, 106]),\n",
       " ('Combination', 107, [66, 105, 107]),\n",
       " ('Encaustics', 108, [66, 105, 108]),\n",
       " ('Gouache', 109, [66, 105, 109]),\n",
       " ('Ink', 110, [66, 105, 110]),\n",
       " ('Mixed', 111, [66, 105, 111]),\n",
       " ('Oil', 112, [66, 105, 112]),\n",
       " ('Spray Paint', 113, [66, 105, 113]),\n",
       " ('Watercolor', 114, [66, 105, 114])]"
      ]
     },
     "execution_count": 13,
     "metadata": {},
     "output_type": "execute_result"
    }
   ],
   "source": [
    "#Paintings are themselves divided into different groups based on materials, and there are no more children, so I can now collect the taxonomy id's and the full path taxonomy id's just in case\n",
    "paintings_taxonomy_list = [(painting_category['name'], painting_category['id'], painting_category['full_path_taxonomy_ids']) for painting_category in response_taxonomy_data['results'][1]['children'][5]['children']]\n",
    "paintings_taxonomy_list"
   ]
  },
  {
   "cell_type": "markdown",
   "metadata": {},
   "source": [
    "### Paintings taxonomy"
   ]
  },
  {
   "cell_type": "code",
   "execution_count": 14,
   "metadata": {},
   "outputs": [],
   "source": [
    "paintings_taxonomy_df = pd.DataFrame(paintings_taxonomy_list, columns = ['Material','Taxonomy Id','Full path Id'])"
   ]
  },
  {
   "cell_type": "code",
   "execution_count": 15,
   "metadata": {},
   "outputs": [
    {
     "data": {
      "text/html": [
       "<div>\n",
       "<style scoped>\n",
       "    .dataframe tbody tr th:only-of-type {\n",
       "        vertical-align: middle;\n",
       "    }\n",
       "\n",
       "    .dataframe tbody tr th {\n",
       "        vertical-align: top;\n",
       "    }\n",
       "\n",
       "    .dataframe thead th {\n",
       "        text-align: right;\n",
       "    }\n",
       "</style>\n",
       "<table border=\"1\" class=\"dataframe\">\n",
       "  <thead>\n",
       "    <tr style=\"text-align: right;\">\n",
       "      <th></th>\n",
       "      <th>Material</th>\n",
       "      <th>Taxonomy Id</th>\n",
       "      <th>Full path Id</th>\n",
       "    </tr>\n",
       "  </thead>\n",
       "  <tbody>\n",
       "    <tr>\n",
       "      <th>0</th>\n",
       "      <td>Acrylic</td>\n",
       "      <td>106</td>\n",
       "      <td>[66, 105, 106]</td>\n",
       "    </tr>\n",
       "    <tr>\n",
       "      <th>1</th>\n",
       "      <td>Combination</td>\n",
       "      <td>107</td>\n",
       "      <td>[66, 105, 107]</td>\n",
       "    </tr>\n",
       "    <tr>\n",
       "      <th>2</th>\n",
       "      <td>Encaustics</td>\n",
       "      <td>108</td>\n",
       "      <td>[66, 105, 108]</td>\n",
       "    </tr>\n",
       "    <tr>\n",
       "      <th>3</th>\n",
       "      <td>Gouache</td>\n",
       "      <td>109</td>\n",
       "      <td>[66, 105, 109]</td>\n",
       "    </tr>\n",
       "    <tr>\n",
       "      <th>4</th>\n",
       "      <td>Ink</td>\n",
       "      <td>110</td>\n",
       "      <td>[66, 105, 110]</td>\n",
       "    </tr>\n",
       "    <tr>\n",
       "      <th>5</th>\n",
       "      <td>Mixed</td>\n",
       "      <td>111</td>\n",
       "      <td>[66, 105, 111]</td>\n",
       "    </tr>\n",
       "    <tr>\n",
       "      <th>6</th>\n",
       "      <td>Oil</td>\n",
       "      <td>112</td>\n",
       "      <td>[66, 105, 112]</td>\n",
       "    </tr>\n",
       "    <tr>\n",
       "      <th>7</th>\n",
       "      <td>Spray Paint</td>\n",
       "      <td>113</td>\n",
       "      <td>[66, 105, 113]</td>\n",
       "    </tr>\n",
       "    <tr>\n",
       "      <th>8</th>\n",
       "      <td>Watercolor</td>\n",
       "      <td>114</td>\n",
       "      <td>[66, 105, 114]</td>\n",
       "    </tr>\n",
       "  </tbody>\n",
       "</table>\n",
       "</div>"
      ],
      "text/plain": [
       "      Material  Taxonomy Id    Full path Id\n",
       "0      Acrylic          106  [66, 105, 106]\n",
       "1  Combination          107  [66, 105, 107]\n",
       "2   Encaustics          108  [66, 105, 108]\n",
       "3      Gouache          109  [66, 105, 109]\n",
       "4          Ink          110  [66, 105, 110]\n",
       "5        Mixed          111  [66, 105, 111]\n",
       "6          Oil          112  [66, 105, 112]\n",
       "7  Spray Paint          113  [66, 105, 113]\n",
       "8   Watercolor          114  [66, 105, 114]"
      ]
     },
     "execution_count": 15,
     "metadata": {},
     "output_type": "execute_result"
    }
   ],
   "source": [
    "paintings_taxonomy_df"
   ]
  },
  {
   "cell_type": "code",
   "execution_count": 143,
   "metadata": {},
   "outputs": [],
   "source": [
    "#I am also adding the number of available paintings in the price range of my interest ($250-$500), which I manually checked (as of 10/5):\n",
    "#paintings_taxonomy_df['num_listings_250to500USD']=[75333, 4084, 579, 1088, 1137, 6312, 77630, 354, 16597]\n",
    "paintings_taxonomy_df['num_listings_250to750USD']=[92172, 5068, 721, 1299, 1371, 8026, 97396, 422, 19796]"
   ]
  },
  {
   "cell_type": "code",
   "execution_count": 142,
   "metadata": {},
   "outputs": [
    {
     "data": {
      "text/html": [
       "<div>\n",
       "<style scoped>\n",
       "    .dataframe tbody tr th:only-of-type {\n",
       "        vertical-align: middle;\n",
       "    }\n",
       "\n",
       "    .dataframe tbody tr th {\n",
       "        vertical-align: top;\n",
       "    }\n",
       "\n",
       "    .dataframe thead th {\n",
       "        text-align: right;\n",
       "    }\n",
       "</style>\n",
       "<table border=\"1\" class=\"dataframe\">\n",
       "  <thead>\n",
       "    <tr style=\"text-align: right;\">\n",
       "      <th></th>\n",
       "      <th>Material</th>\n",
       "      <th>Taxonomy Id</th>\n",
       "      <th>Full path Id</th>\n",
       "      <th>num_listings_250to750USD</th>\n",
       "    </tr>\n",
       "  </thead>\n",
       "  <tbody>\n",
       "    <tr>\n",
       "      <th>0</th>\n",
       "      <td>Acrylic</td>\n",
       "      <td>106</td>\n",
       "      <td>[66, 105, 106]</td>\n",
       "      <td>92172</td>\n",
       "    </tr>\n",
       "    <tr>\n",
       "      <th>1</th>\n",
       "      <td>Combination</td>\n",
       "      <td>107</td>\n",
       "      <td>[66, 105, 107]</td>\n",
       "      <td>5068</td>\n",
       "    </tr>\n",
       "    <tr>\n",
       "      <th>2</th>\n",
       "      <td>Encaustics</td>\n",
       "      <td>108</td>\n",
       "      <td>[66, 105, 108]</td>\n",
       "      <td>721</td>\n",
       "    </tr>\n",
       "    <tr>\n",
       "      <th>3</th>\n",
       "      <td>Gouache</td>\n",
       "      <td>109</td>\n",
       "      <td>[66, 105, 109]</td>\n",
       "      <td>1299</td>\n",
       "    </tr>\n",
       "    <tr>\n",
       "      <th>4</th>\n",
       "      <td>Ink</td>\n",
       "      <td>110</td>\n",
       "      <td>[66, 105, 110]</td>\n",
       "      <td>1371</td>\n",
       "    </tr>\n",
       "    <tr>\n",
       "      <th>5</th>\n",
       "      <td>Mixed</td>\n",
       "      <td>111</td>\n",
       "      <td>[66, 105, 111]</td>\n",
       "      <td>8026</td>\n",
       "    </tr>\n",
       "    <tr>\n",
       "      <th>6</th>\n",
       "      <td>Oil</td>\n",
       "      <td>112</td>\n",
       "      <td>[66, 105, 112]</td>\n",
       "      <td>97596</td>\n",
       "    </tr>\n",
       "    <tr>\n",
       "      <th>7</th>\n",
       "      <td>Spray Paint</td>\n",
       "      <td>113</td>\n",
       "      <td>[66, 105, 113]</td>\n",
       "      <td>422</td>\n",
       "    </tr>\n",
       "    <tr>\n",
       "      <th>8</th>\n",
       "      <td>Watercolor</td>\n",
       "      <td>114</td>\n",
       "      <td>[66, 105, 114]</td>\n",
       "      <td>19796</td>\n",
       "    </tr>\n",
       "  </tbody>\n",
       "</table>\n",
       "</div>"
      ],
      "text/plain": [
       "      Material  Taxonomy Id    Full path Id  num_listings_250to750USD\n",
       "0      Acrylic          106  [66, 105, 106]                     92172\n",
       "1  Combination          107  [66, 105, 107]                      5068\n",
       "2   Encaustics          108  [66, 105, 108]                       721\n",
       "3      Gouache          109  [66, 105, 109]                      1299\n",
       "4          Ink          110  [66, 105, 110]                      1371\n",
       "5        Mixed          111  [66, 105, 111]                      8026\n",
       "6          Oil          112  [66, 105, 112]                     97596\n",
       "7  Spray Paint          113  [66, 105, 113]                       422\n",
       "8   Watercolor          114  [66, 105, 114]                     19796"
      ]
     },
     "execution_count": 142,
     "metadata": {},
     "output_type": "execute_result"
    }
   ],
   "source": [
    "paintings_taxonomy_df"
   ]
  },
  {
   "cell_type": "code",
   "execution_count": 18,
   "metadata": {},
   "outputs": [
    {
     "data": {
      "text/plain": [
       "229471"
      ]
     },
     "execution_count": 18,
     "metadata": {},
     "output_type": "execute_result"
    }
   ],
   "source": [
    "paintings_taxonomy_df['num_listings_250to750USD'].sum()"
   ]
  },
  {
   "cell_type": "code",
   "execution_count": 19,
   "metadata": {},
   "outputs": [
    {
     "data": {
      "text/html": [
       "<div>\n",
       "<style scoped>\n",
       "    .dataframe tbody tr th:only-of-type {\n",
       "        vertical-align: middle;\n",
       "    }\n",
       "\n",
       "    .dataframe tbody tr th {\n",
       "        vertical-align: top;\n",
       "    }\n",
       "\n",
       "    .dataframe thead th {\n",
       "        text-align: right;\n",
       "    }\n",
       "</style>\n",
       "<table border=\"1\" class=\"dataframe\">\n",
       "  <thead>\n",
       "    <tr style=\"text-align: right;\">\n",
       "      <th></th>\n",
       "      <th>Material</th>\n",
       "      <th>Full path Id</th>\n",
       "      <th>num_listings_250to750USD</th>\n",
       "    </tr>\n",
       "    <tr>\n",
       "      <th>Taxonomy Id</th>\n",
       "      <th></th>\n",
       "      <th></th>\n",
       "      <th></th>\n",
       "    </tr>\n",
       "  </thead>\n",
       "  <tbody>\n",
       "    <tr>\n",
       "      <th>106</th>\n",
       "      <td>Acrylic</td>\n",
       "      <td>[66, 105, 106]</td>\n",
       "      <td>95172</td>\n",
       "    </tr>\n",
       "    <tr>\n",
       "      <th>107</th>\n",
       "      <td>Combination</td>\n",
       "      <td>[66, 105, 107]</td>\n",
       "      <td>5068</td>\n",
       "    </tr>\n",
       "    <tr>\n",
       "      <th>108</th>\n",
       "      <td>Encaustics</td>\n",
       "      <td>[66, 105, 108]</td>\n",
       "      <td>721</td>\n",
       "    </tr>\n",
       "    <tr>\n",
       "      <th>109</th>\n",
       "      <td>Gouache</td>\n",
       "      <td>[66, 105, 109]</td>\n",
       "      <td>1299</td>\n",
       "    </tr>\n",
       "    <tr>\n",
       "      <th>110</th>\n",
       "      <td>Ink</td>\n",
       "      <td>[66, 105, 110]</td>\n",
       "      <td>1371</td>\n",
       "    </tr>\n",
       "    <tr>\n",
       "      <th>111</th>\n",
       "      <td>Mixed</td>\n",
       "      <td>[66, 105, 111]</td>\n",
       "      <td>8026</td>\n",
       "    </tr>\n",
       "    <tr>\n",
       "      <th>112</th>\n",
       "      <td>Oil</td>\n",
       "      <td>[66, 105, 112]</td>\n",
       "      <td>97596</td>\n",
       "    </tr>\n",
       "    <tr>\n",
       "      <th>113</th>\n",
       "      <td>Spray Paint</td>\n",
       "      <td>[66, 105, 113]</td>\n",
       "      <td>422</td>\n",
       "    </tr>\n",
       "    <tr>\n",
       "      <th>114</th>\n",
       "      <td>Watercolor</td>\n",
       "      <td>[66, 105, 114]</td>\n",
       "      <td>19796</td>\n",
       "    </tr>\n",
       "  </tbody>\n",
       "</table>\n",
       "</div>"
      ],
      "text/plain": [
       "                Material    Full path Id  num_listings_250to750USD\n",
       "Taxonomy Id                                                       \n",
       "106              Acrylic  [66, 105, 106]                     95172\n",
       "107          Combination  [66, 105, 107]                      5068\n",
       "108           Encaustics  [66, 105, 108]                       721\n",
       "109              Gouache  [66, 105, 109]                      1299\n",
       "110                  Ink  [66, 105, 110]                      1371\n",
       "111                Mixed  [66, 105, 111]                      8026\n",
       "112                  Oil  [66, 105, 112]                     97596\n",
       "113          Spray Paint  [66, 105, 113]                       422\n",
       "114           Watercolor  [66, 105, 114]                     19796"
      ]
     },
     "execution_count": 19,
     "metadata": {},
     "output_type": "execute_result"
    }
   ],
   "source": [
    "paintings_taxonomy_df.set_index('Taxonomy Id')\n"
   ]
  },
  {
   "cell_type": "code",
   "execution_count": 20,
   "metadata": {},
   "outputs": [
    {
     "data": {
      "text/plain": [
       "Material                           Acrylic\n",
       "Full path Id                [66, 105, 106]\n",
       "num_listings_250to750USD             95172\n",
       "Name: 106, dtype: object"
      ]
     },
     "execution_count": 20,
     "metadata": {},
     "output_type": "execute_result"
    }
   ],
   "source": [
    "paintings_taxonomy_df.set_index('Taxonomy Id').loc[106]"
   ]
  },
  {
   "cell_type": "code",
   "execution_count": 21,
   "metadata": {},
   "outputs": [],
   "source": [
    "#Now let's request the properties given for each listing in these categories, with a separate request\n",
    "url_properties_acrylic = 'https://openapi.etsy.com/v3/application/seller-taxonomy/nodes/106/properties'\n",
    "response_properties_acrylic = requests.get(url_properties_acrylic, headers = headers)\n",
    "response_properties_acrylic_data = response_properties_acrylic.json() "
   ]
  },
  {
   "cell_type": "code",
   "execution_count": 22,
   "metadata": {},
   "outputs": [
    {
     "data": {
      "text/plain": [
       "dict_keys(['count', 'results'])"
      ]
     },
     "execution_count": 22,
     "metadata": {},
     "output_type": "execute_result"
    }
   ],
   "source": [
    "response_properties_acrylic_data.keys()"
   ]
  },
  {
   "cell_type": "code",
   "execution_count": 23,
   "metadata": {},
   "outputs": [
    {
     "data": {
      "text/plain": [
       "[(200, 'Primary color'),\n",
       " (52047899002, 'Secondary color'),\n",
       " (400394338806, 'Art subject'),\n",
       " (570246213481, 'Art style'),\n",
       " (145330288652, 'Home style'),\n",
       " (570246213482, 'Surface material'),\n",
       " (406291158455, 'Orientation'),\n",
       " (145330288558, 'Framing'),\n",
       " (47626759834, 'Height'),\n",
       " (47626759898, 'Width'),\n",
       " (54142602037, 'Depth'),\n",
       " (145330288592, 'Room'),\n",
       " (46803063659, 'Holiday'),\n",
       " (46803063641, 'Occasion'),\n",
       " (504, 'Diameter'),\n",
       " (501, 'Dimensions'),\n",
       " (502, 'Fabric'),\n",
       " (500, 'Finish'),\n",
       " (503, 'Flavor'),\n",
       " (506, 'Length'),\n",
       " (507, 'Material'),\n",
       " (508, 'Pattern'),\n",
       " (509, 'Scent'),\n",
       " (100, 'TeeShirtSize'),\n",
       " (510, 'Style'),\n",
       " (511, 'Weight'),\n",
       " (515, 'Device'),\n",
       " (513, 'Custom1'),\n",
       " (514, 'Custom2')]"
      ]
     },
     "execution_count": 23,
     "metadata": {},
     "output_type": "execute_result"
    }
   ],
   "source": [
    "paintings_property_list_acrylic = [(painting_property['property_id'], painting_property['name']) for painting_property in response_properties_acrylic_data['results']]\n",
    "paintings_property_list_acrylic"
   ]
  },
  {
   "cell_type": "code",
   "execution_count": 24,
   "metadata": {},
   "outputs": [],
   "source": [
    "#Let's check that the same properties and code apply to the other paintings' types, e.g. spray paint:\n",
    "\n",
    "url_properties_spraypaint = 'https://openapi.etsy.com/v3/application/seller-taxonomy/nodes/113/properties'\n",
    "response_properties_spraypaint = requests.get(url_properties_spraypaint, headers = headers)\n",
    "response_properties_spraypaint_data = response_properties_spraypaint.json() \n"
   ]
  },
  {
   "cell_type": "code",
   "execution_count": 25,
   "metadata": {},
   "outputs": [
    {
     "data": {
      "text/plain": [
       "[(200, 'Primary color'),\n",
       " (52047899002, 'Secondary color'),\n",
       " (400394338806, 'Art subject'),\n",
       " (570246213481, 'Art style'),\n",
       " (145330288652, 'Home style'),\n",
       " (570246213482, 'Surface material'),\n",
       " (406291158455, 'Orientation'),\n",
       " (145330288558, 'Framing'),\n",
       " (47626759834, 'Height'),\n",
       " (47626759898, 'Width'),\n",
       " (54142602037, 'Depth'),\n",
       " (145330288592, 'Room'),\n",
       " (46803063659, 'Holiday'),\n",
       " (46803063641, 'Occasion'),\n",
       " (504, 'Diameter'),\n",
       " (501, 'Dimensions'),\n",
       " (502, 'Fabric'),\n",
       " (500, 'Finish'),\n",
       " (503, 'Flavor'),\n",
       " (506, 'Length'),\n",
       " (507, 'Material'),\n",
       " (508, 'Pattern'),\n",
       " (509, 'Scent'),\n",
       " (100, 'TeeShirtSize'),\n",
       " (510, 'Style'),\n",
       " (511, 'Weight'),\n",
       " (515, 'Device'),\n",
       " (513, 'Custom1'),\n",
       " (514, 'Custom2')]"
      ]
     },
     "execution_count": 25,
     "metadata": {},
     "output_type": "execute_result"
    }
   ],
   "source": [
    "paintings_property_list_spraypaint = [(painting_property['property_id'], painting_property['name']) for painting_property in response_properties_spraypaint_data['results']]\n",
    "paintings_property_list_spraypaint"
   ]
  },
  {
   "cell_type": "code",
   "execution_count": 26,
   "metadata": {},
   "outputs": [],
   "source": [
    "#So this confirms that the possible properties for a painting don't change by material "
   ]
  },
  {
   "cell_type": "code",
   "execution_count": 27,
   "metadata": {},
   "outputs": [],
   "source": [
    "paintings_properties_df = pd.DataFrame(paintings_property_list_spraypaint, columns = ['Property Id','Property'])"
   ]
  },
  {
   "cell_type": "code",
   "execution_count": 28,
   "metadata": {},
   "outputs": [
    {
     "data": {
      "text/html": [
       "<div>\n",
       "<style scoped>\n",
       "    .dataframe tbody tr th:only-of-type {\n",
       "        vertical-align: middle;\n",
       "    }\n",
       "\n",
       "    .dataframe tbody tr th {\n",
       "        vertical-align: top;\n",
       "    }\n",
       "\n",
       "    .dataframe thead th {\n",
       "        text-align: right;\n",
       "    }\n",
       "</style>\n",
       "<table border=\"1\" class=\"dataframe\">\n",
       "  <thead>\n",
       "    <tr style=\"text-align: right;\">\n",
       "      <th></th>\n",
       "      <th>Property Id</th>\n",
       "      <th>Property</th>\n",
       "    </tr>\n",
       "  </thead>\n",
       "  <tbody>\n",
       "    <tr>\n",
       "      <th>0</th>\n",
       "      <td>200</td>\n",
       "      <td>Primary color</td>\n",
       "    </tr>\n",
       "    <tr>\n",
       "      <th>1</th>\n",
       "      <td>52047899002</td>\n",
       "      <td>Secondary color</td>\n",
       "    </tr>\n",
       "    <tr>\n",
       "      <th>2</th>\n",
       "      <td>400394338806</td>\n",
       "      <td>Art subject</td>\n",
       "    </tr>\n",
       "    <tr>\n",
       "      <th>3</th>\n",
       "      <td>570246213481</td>\n",
       "      <td>Art style</td>\n",
       "    </tr>\n",
       "    <tr>\n",
       "      <th>4</th>\n",
       "      <td>145330288652</td>\n",
       "      <td>Home style</td>\n",
       "    </tr>\n",
       "    <tr>\n",
       "      <th>5</th>\n",
       "      <td>570246213482</td>\n",
       "      <td>Surface material</td>\n",
       "    </tr>\n",
       "    <tr>\n",
       "      <th>6</th>\n",
       "      <td>406291158455</td>\n",
       "      <td>Orientation</td>\n",
       "    </tr>\n",
       "    <tr>\n",
       "      <th>7</th>\n",
       "      <td>145330288558</td>\n",
       "      <td>Framing</td>\n",
       "    </tr>\n",
       "    <tr>\n",
       "      <th>8</th>\n",
       "      <td>47626759834</td>\n",
       "      <td>Height</td>\n",
       "    </tr>\n",
       "    <tr>\n",
       "      <th>9</th>\n",
       "      <td>47626759898</td>\n",
       "      <td>Width</td>\n",
       "    </tr>\n",
       "    <tr>\n",
       "      <th>10</th>\n",
       "      <td>54142602037</td>\n",
       "      <td>Depth</td>\n",
       "    </tr>\n",
       "    <tr>\n",
       "      <th>11</th>\n",
       "      <td>145330288592</td>\n",
       "      <td>Room</td>\n",
       "    </tr>\n",
       "    <tr>\n",
       "      <th>12</th>\n",
       "      <td>46803063659</td>\n",
       "      <td>Holiday</td>\n",
       "    </tr>\n",
       "    <tr>\n",
       "      <th>13</th>\n",
       "      <td>46803063641</td>\n",
       "      <td>Occasion</td>\n",
       "    </tr>\n",
       "    <tr>\n",
       "      <th>14</th>\n",
       "      <td>504</td>\n",
       "      <td>Diameter</td>\n",
       "    </tr>\n",
       "    <tr>\n",
       "      <th>15</th>\n",
       "      <td>501</td>\n",
       "      <td>Dimensions</td>\n",
       "    </tr>\n",
       "    <tr>\n",
       "      <th>16</th>\n",
       "      <td>502</td>\n",
       "      <td>Fabric</td>\n",
       "    </tr>\n",
       "    <tr>\n",
       "      <th>17</th>\n",
       "      <td>500</td>\n",
       "      <td>Finish</td>\n",
       "    </tr>\n",
       "    <tr>\n",
       "      <th>18</th>\n",
       "      <td>503</td>\n",
       "      <td>Flavor</td>\n",
       "    </tr>\n",
       "    <tr>\n",
       "      <th>19</th>\n",
       "      <td>506</td>\n",
       "      <td>Length</td>\n",
       "    </tr>\n",
       "    <tr>\n",
       "      <th>20</th>\n",
       "      <td>507</td>\n",
       "      <td>Material</td>\n",
       "    </tr>\n",
       "    <tr>\n",
       "      <th>21</th>\n",
       "      <td>508</td>\n",
       "      <td>Pattern</td>\n",
       "    </tr>\n",
       "    <tr>\n",
       "      <th>22</th>\n",
       "      <td>509</td>\n",
       "      <td>Scent</td>\n",
       "    </tr>\n",
       "    <tr>\n",
       "      <th>23</th>\n",
       "      <td>100</td>\n",
       "      <td>TeeShirtSize</td>\n",
       "    </tr>\n",
       "    <tr>\n",
       "      <th>24</th>\n",
       "      <td>510</td>\n",
       "      <td>Style</td>\n",
       "    </tr>\n",
       "    <tr>\n",
       "      <th>25</th>\n",
       "      <td>511</td>\n",
       "      <td>Weight</td>\n",
       "    </tr>\n",
       "    <tr>\n",
       "      <th>26</th>\n",
       "      <td>515</td>\n",
       "      <td>Device</td>\n",
       "    </tr>\n",
       "    <tr>\n",
       "      <th>27</th>\n",
       "      <td>513</td>\n",
       "      <td>Custom1</td>\n",
       "    </tr>\n",
       "    <tr>\n",
       "      <th>28</th>\n",
       "      <td>514</td>\n",
       "      <td>Custom2</td>\n",
       "    </tr>\n",
       "  </tbody>\n",
       "</table>\n",
       "</div>"
      ],
      "text/plain": [
       "     Property Id          Property\n",
       "0            200     Primary color\n",
       "1    52047899002   Secondary color\n",
       "2   400394338806       Art subject\n",
       "3   570246213481         Art style\n",
       "4   145330288652        Home style\n",
       "5   570246213482  Surface material\n",
       "6   406291158455       Orientation\n",
       "7   145330288558           Framing\n",
       "8    47626759834            Height\n",
       "9    47626759898             Width\n",
       "10   54142602037             Depth\n",
       "11  145330288592              Room\n",
       "12   46803063659           Holiday\n",
       "13   46803063641          Occasion\n",
       "14           504          Diameter\n",
       "15           501        Dimensions\n",
       "16           502            Fabric\n",
       "17           500            Finish\n",
       "18           503            Flavor\n",
       "19           506            Length\n",
       "20           507          Material\n",
       "21           508           Pattern\n",
       "22           509             Scent\n",
       "23           100      TeeShirtSize\n",
       "24           510             Style\n",
       "25           511            Weight\n",
       "26           515            Device\n",
       "27           513           Custom1\n",
       "28           514           Custom2"
      ]
     },
     "execution_count": 28,
     "metadata": {},
     "output_type": "execute_result"
    }
   ],
   "source": [
    "paintings_properties_df"
   ]
  },
  {
   "cell_type": "markdown",
   "metadata": {},
   "source": [
    "### Test GET request of the 'find all listings' type\n",
    "\n",
    "limit = num. listings to return (1-100, default 25)\n",
    "\n",
    "offset = for skipping responses (default 0)\n",
    "\n",
    "#keywords = search term or phrase that must appear (e.g. tree)\n",
    "\n",
    "sort_on = can be ('created', 'price', 'updated', default 'created')\n",
    "\n",
    "sort_order = 'ascending' or 'descending'\n",
    "\n",
    "min_price, max_price \n",
    "\n",
    "taxonomy_id = code for the type of painting: (106-114, 106 = acrylic, ...., 114=watercolor)"
   ]
  },
  {
   "cell_type": "code",
   "execution_count": 29,
   "metadata": {},
   "outputs": [],
   "source": [
    "params = { 'limit' :100, #listings to return (1-100, default 25)\n",
    "            'offset' : 0,  #for skipping responses (default 0)\n",
    "            'sort_on': 'price',  #can be ('created', 'price', 'updated', default 'created')\n",
    "            'sort_order' : 'ascending', #'descending'\n",
    "             'min_price' : 250.0,\n",
    "             'max_price' : 750.0,\n",
    "             'taxonomy_id' : 106 #106 = acrylic, ...., 114=watercolor \n",
    "         }"
   ]
  },
  {
   "cell_type": "code",
   "execution_count": 30,
   "metadata": {},
   "outputs": [],
   "source": [
    "url_listings_active = 'https://openapi.etsy.com/v3/application/listings/active'"
   ]
  },
  {
   "cell_type": "code",
   "execution_count": 31,
   "metadata": {},
   "outputs": [],
   "source": [
    "response_paintings_active = requests.get(url_listings_active, params=params, headers = headers)"
   ]
  },
  {
   "cell_type": "code",
   "execution_count": 32,
   "metadata": {},
   "outputs": [
    {
     "data": {
      "text/plain": [
       "<Response [200]>"
      ]
     },
     "execution_count": 32,
     "metadata": {},
     "output_type": "execute_result"
    }
   ],
   "source": [
    "response_paintings_active"
   ]
  },
  {
   "cell_type": "code",
   "execution_count": 33,
   "metadata": {},
   "outputs": [],
   "source": [
    "response_paintings_active_data = response_paintings_active.json() "
   ]
  },
  {
   "cell_type": "code",
   "execution_count": 34,
   "metadata": {},
   "outputs": [
    {
     "data": {
      "text/plain": [
       "dict_keys(['count', 'results'])"
      ]
     },
     "execution_count": 34,
     "metadata": {},
     "output_type": "execute_result"
    }
   ],
   "source": [
    "response_paintings_active_data.keys()"
   ]
  },
  {
   "cell_type": "code",
   "execution_count": 35,
   "metadata": {},
   "outputs": [
    {
     "data": {
      "text/plain": [
       "[{'listing_id': 709728321,\n",
       "  'user_id': 51263324,\n",
       "  'shop_id': 9800755,\n",
       "  'title': 'Original Orchid Flower Painting, Flower Painting Still Life, Small Original Painting',\n",
       "  'description': 'Acrylic on Hardboard',\n",
       "  'state': 'active',\n",
       "  'creation_timestamp': 1631647252,\n",
       "  'ending_timestamp': 1642191652,\n",
       "  'original_creation_timestamp': 1559054965,\n",
       "  'last_modified_timestamp': 1631647252,\n",
       "  'state_timestamp': 1569768624,\n",
       "  'quantity': 1,\n",
       "  'shop_section_id': 26402930,\n",
       "  'featured_rank': -1,\n",
       "  'url': 'https://www.etsy.com/listing/709728321/original-orchid-flower-painting-flower',\n",
       "  'num_favorers': 29,\n",
       "  'non_taxable': False,\n",
       "  'is_customizable': False,\n",
       "  'is_personalizable': False,\n",
       "  'personalization_is_required': False,\n",
       "  'personalization_char_count_max': None,\n",
       "  'personalization_instructions': None,\n",
       "  'listing_type': 0,\n",
       "  'tags': ['Floral Painting',\n",
       "   'Still Life Painting',\n",
       "   'Orchid Painting',\n",
       "   'Flower Painting',\n",
       "   'Acrylic Painting',\n",
       "   'Anniversary Gift',\n",
       "   'Birthday Gift',\n",
       "   'Original Art',\n",
       "   'Small Painting',\n",
       "   'Office Decor',\n",
       "   'Home Decor',\n",
       "   'Orchids',\n",
       "   'Wedding Gift'],\n",
       "  'materials': ['Acrylic', 'Hardboard'],\n",
       "  'shipping_profile_id': 72150568630,\n",
       "  'processing_min': 3,\n",
       "  'processing_max': 5,\n",
       "  'who_made': 'i_did',\n",
       "  'when_made': None,\n",
       "  'is_supply': False,\n",
       "  'item_weight': '32',\n",
       "  'item_weight_unit': 'oz',\n",
       "  'item_length': '24',\n",
       "  'item_width': '18',\n",
       "  'item_height': '1',\n",
       "  'item_dimensions_unit': 'in',\n",
       "  'is_private': False,\n",
       "  'style': [],\n",
       "  'file_data': '',\n",
       "  'has_variations': False,\n",
       "  'should_auto_renew': True,\n",
       "  'language': 'en-US',\n",
       "  'price': {'amount': 25000, 'divisor': 100, 'currency_code': 'USD'},\n",
       "  'taxonomy_id': 106,\n",
       "  'production_partners': []},\n",
       " {'listing_id': 819018692,\n",
       "  'user_id': 221539362,\n",
       "  'shop_id': 20402975,\n",
       "  'title': 'Long wall art, Oversized wall art, Large Abstract Painting, Extra large wall art, Pink wall art, Impasto painting Acrylic painting on canvas',\n",
       "  'description': 'Long wall art, Oversized wall art, Large Abstract Painting, Extra large wall art, Pink wall art, Impasto painting Acrylic painting on canvas\\n\\n👁\\u200d🗨⇒We understand your doubts when ordering a painting in the online gallery, so we promise to send you a photo and video of the working process. You can tell us some color corrections to make the painting better match your interior... or we will refund you money. It is very important for us that you are 100% satisfied.\\n◼◼◼◼◼◼◼◼◼◼◼◼◼◼◼◼◼◼◼◼◼◼\\n🛫⇒ FREE OF CHARGE shipping. We use DHL, FedEx, DPD, EMS Postal Service.\\n◼◼◼◼◼◼◼◼◼◼◼◼◼◼◼◼◼◼◼◼◼◼\\n\\n🖐 Welcome to the world of my painting! \\n🎨⇒ This painting is made by me with acrylic on canvas.\\n⏳⇒ I can repeat this nice piece of contemporary art for you within 10-14 business days.\\n🖌⇒ It won &#39;t be an absolutely exact copy, but very similar painting because it &#39;s handmade. \\n📸⇒ I&#39;ll send you photos and videos of your picture, after that we can make changes, for example, your requirements about shades. \\n⚙⇒ Paintings come both stretched onto a wooden base and fully prepared to be hung on a wall and not stretched, having an extra white edge for a convenient stretch, it can also be colored at your request (🆓 you don’t need to pay extra money for option). If you order painting on non stretched canvas you will be able to stretch the painting in any workshop nearest to you, as well as to frame or leave without it.\\n🔳⇒ Frames on images are just an idea of \\u200b\\u200bhow they might look at the interior. Painting is delivered without framework.\\n📐⇒ Please find desired print size at the drop-down menu. Size can be change by your request.\\n👍 5 ⭐⇒ It is very important for me that you will be absolutely satisfied and give 5 stars *****, and, of course, that it will bring a joy to you every day.\\n📝⇒ I take individual orders, feel free to write to me with any questions and suggestions.\\n🛒 ⇒ Thank you for your order!',\n",
       "  'state': 'active',\n",
       "  'creation_timestamp': 1629146443,\n",
       "  'ending_timestamp': 1639690843,\n",
       "  'original_creation_timestamp': 1593681450,\n",
       "  'last_modified_timestamp': 1633613182,\n",
       "  'state_timestamp': 1596744285,\n",
       "  'quantity': 7,\n",
       "  'shop_section_id': 29747506,\n",
       "  'featured_rank': -1,\n",
       "  'url': 'https://www.etsy.com/listing/819018692/long-wall-art-oversized-wall-art-large',\n",
       "  'num_favorers': 2,\n",
       "  'non_taxable': False,\n",
       "  'is_customizable': False,\n",
       "  'is_personalizable': False,\n",
       "  'personalization_is_required': False,\n",
       "  'personalization_char_count_max': None,\n",
       "  'personalization_instructions': None,\n",
       "  'listing_type': 0,\n",
       "  'tags': ['Original painting',\n",
       "   'Modern art paintings',\n",
       "   'painting acrylic',\n",
       "   'abstract painting',\n",
       "   'housewarming gift',\n",
       "   'Oversized canvas',\n",
       "   'Long canvas',\n",
       "   'impasto extra large',\n",
       "   'Decor above bed',\n",
       "   'abstract acrylic art',\n",
       "   'Handmade wall art',\n",
       "   'bedroom wall art',\n",
       "   'Living room decor'],\n",
       "  'materials': ['acrylic', 'pastels', 'paper roll'],\n",
       "  'shipping_profile_id': 104365072381,\n",
       "  'processing_min': 5,\n",
       "  'processing_max': 10,\n",
       "  'who_made': 'i_did',\n",
       "  'when_made': '2020_2021',\n",
       "  'is_supply': False,\n",
       "  'item_weight': None,\n",
       "  'item_weight_unit': None,\n",
       "  'item_length': None,\n",
       "  'item_width': None,\n",
       "  'item_height': None,\n",
       "  'item_dimensions_unit': None,\n",
       "  'is_private': False,\n",
       "  'style': [],\n",
       "  'file_data': '',\n",
       "  'has_variations': True,\n",
       "  'should_auto_renew': True,\n",
       "  'language': 'en-US',\n",
       "  'price': {'amount': 25000, 'divisor': 100, 'currency_code': 'USD'},\n",
       "  'taxonomy_id': 106,\n",
       "  'production_partners': []}]"
      ]
     },
     "execution_count": 35,
     "metadata": {},
     "output_type": "execute_result"
    }
   ],
   "source": [
    "response_paintings_active_data['results'][0:2]"
   ]
  },
  {
   "cell_type": "code",
   "execution_count": 36,
   "metadata": {},
   "outputs": [],
   "source": [
    "first_100acrylic_paintings_df =  pd.DataFrame(response_paintings_active_data['results'],columns=['listing_id','user_id','shop_id','title','num_favorers','url','materials','item_length','item_width','item_dimensions_unit','style','price','taxonomy_id'])"
   ]
  },
  {
   "cell_type": "code",
   "execution_count": 37,
   "metadata": {},
   "outputs": [
    {
     "data": {
      "text/html": [
       "<div>\n",
       "<style scoped>\n",
       "    .dataframe tbody tr th:only-of-type {\n",
       "        vertical-align: middle;\n",
       "    }\n",
       "\n",
       "    .dataframe tbody tr th {\n",
       "        vertical-align: top;\n",
       "    }\n",
       "\n",
       "    .dataframe thead th {\n",
       "        text-align: right;\n",
       "    }\n",
       "</style>\n",
       "<table border=\"1\" class=\"dataframe\">\n",
       "  <thead>\n",
       "    <tr style=\"text-align: right;\">\n",
       "      <th></th>\n",
       "      <th>listing_id</th>\n",
       "      <th>user_id</th>\n",
       "      <th>shop_id</th>\n",
       "      <th>title</th>\n",
       "      <th>num_favorers</th>\n",
       "      <th>url</th>\n",
       "      <th>materials</th>\n",
       "      <th>item_length</th>\n",
       "      <th>item_width</th>\n",
       "      <th>item_dimensions_unit</th>\n",
       "      <th>style</th>\n",
       "      <th>price</th>\n",
       "      <th>taxonomy_id</th>\n",
       "    </tr>\n",
       "  </thead>\n",
       "  <tbody>\n",
       "    <tr>\n",
       "      <th>0</th>\n",
       "      <td>709728321</td>\n",
       "      <td>51263324</td>\n",
       "      <td>9800755</td>\n",
       "      <td>Original Orchid Flower Painting, Flower Painti...</td>\n",
       "      <td>29</td>\n",
       "      <td>https://www.etsy.com/listing/709728321/origina...</td>\n",
       "      <td>[Acrylic, Hardboard]</td>\n",
       "      <td>24</td>\n",
       "      <td>18</td>\n",
       "      <td>in</td>\n",
       "      <td>[]</td>\n",
       "      <td>{'amount': 25000, 'divisor': 100, 'currency_co...</td>\n",
       "      <td>106</td>\n",
       "    </tr>\n",
       "    <tr>\n",
       "      <th>1</th>\n",
       "      <td>819018692</td>\n",
       "      <td>221539362</td>\n",
       "      <td>20402975</td>\n",
       "      <td>Long wall art, Oversized wall art, Large Abstr...</td>\n",
       "      <td>2</td>\n",
       "      <td>https://www.etsy.com/listing/819018692/long-wa...</td>\n",
       "      <td>[acrylic, pastels, paper roll]</td>\n",
       "      <td>None</td>\n",
       "      <td>None</td>\n",
       "      <td>None</td>\n",
       "      <td>[]</td>\n",
       "      <td>{'amount': 25000, 'divisor': 100, 'currency_co...</td>\n",
       "      <td>106</td>\n",
       "    </tr>\n",
       "    <tr>\n",
       "      <th>2</th>\n",
       "      <td>1076101360</td>\n",
       "      <td>74239808</td>\n",
       "      <td>25674777</td>\n",
       "      <td>Deep Blue Sea</td>\n",
       "      <td>0</td>\n",
       "      <td>https://www.etsy.com/listing/1076101360/deep-b...</td>\n",
       "      <td>[]</td>\n",
       "      <td>20</td>\n",
       "      <td>1</td>\n",
       "      <td>in</td>\n",
       "      <td>[]</td>\n",
       "      <td>{'amount': 25000, 'divisor': 100, 'currency_co...</td>\n",
       "      <td>106</td>\n",
       "    </tr>\n",
       "    <tr>\n",
       "      <th>3</th>\n",
       "      <td>1001369872</td>\n",
       "      <td>440513424</td>\n",
       "      <td>27718104</td>\n",
       "      <td>Colosal ocean wave</td>\n",
       "      <td>0</td>\n",
       "      <td>https://www.etsy.com/listing/1001369872/colosa...</td>\n",
       "      <td>[Stretched canvas]</td>\n",
       "      <td>23.5</td>\n",
       "      <td>1.5</td>\n",
       "      <td>in</td>\n",
       "      <td>[]</td>\n",
       "      <td>{'amount': 25000, 'divisor': 100, 'currency_co...</td>\n",
       "      <td>106</td>\n",
       "    </tr>\n",
       "    <tr>\n",
       "      <th>4</th>\n",
       "      <td>968717160</td>\n",
       "      <td>21677727</td>\n",
       "      <td>6902246</td>\n",
       "      <td>Freedom 8x10 framed</td>\n",
       "      <td>0</td>\n",
       "      <td>https://www.etsy.com/listing/968717160/freedom...</td>\n",
       "      <td>[]</td>\n",
       "      <td>10</td>\n",
       "      <td>8</td>\n",
       "      <td>in</td>\n",
       "      <td>[]</td>\n",
       "      <td>{'amount': 25000, 'divisor': 100, 'currency_co...</td>\n",
       "      <td>106</td>\n",
       "    </tr>\n",
       "    <tr>\n",
       "      <th>...</th>\n",
       "      <td>...</td>\n",
       "      <td>...</td>\n",
       "      <td>...</td>\n",
       "      <td>...</td>\n",
       "      <td>...</td>\n",
       "      <td>...</td>\n",
       "      <td>...</td>\n",
       "      <td>...</td>\n",
       "      <td>...</td>\n",
       "      <td>...</td>\n",
       "      <td>...</td>\n",
       "      <td>...</td>\n",
       "      <td>...</td>\n",
       "    </tr>\n",
       "    <tr>\n",
       "      <th>95</th>\n",
       "      <td>895747673</td>\n",
       "      <td>230092638</td>\n",
       "      <td>20768657</td>\n",
       "      <td>Peacock</td>\n",
       "      <td>0</td>\n",
       "      <td>https://www.etsy.com/listing/895747673/peacock</td>\n",
       "      <td>[Stretched canvas]</td>\n",
       "      <td>16</td>\n",
       "      <td>12</td>\n",
       "      <td>in</td>\n",
       "      <td>[]</td>\n",
       "      <td>{'amount': 25000, 'divisor': 100, 'currency_co...</td>\n",
       "      <td>106</td>\n",
       "    </tr>\n",
       "    <tr>\n",
       "      <th>96</th>\n",
       "      <td>828089877</td>\n",
       "      <td>13023446</td>\n",
       "      <td>12985729</td>\n",
       "      <td>Peonies for my father</td>\n",
       "      <td>1</td>\n",
       "      <td>https://www.etsy.com/listing/828089877/peonies...</td>\n",
       "      <td>[Stretched canvas]</td>\n",
       "      <td>35</td>\n",
       "      <td>28</td>\n",
       "      <td>in</td>\n",
       "      <td>[]</td>\n",
       "      <td>{'amount': 25000, 'divisor': 100, 'currency_co...</td>\n",
       "      <td>106</td>\n",
       "    </tr>\n",
       "    <tr>\n",
       "      <th>97</th>\n",
       "      <td>771054512</td>\n",
       "      <td>273090558</td>\n",
       "      <td>22377768</td>\n",
       "      <td>Guacamole Architecture. Abstract art and divin...</td>\n",
       "      <td>0</td>\n",
       "      <td>https://www.etsy.com/listing/771054512/guacamo...</td>\n",
       "      <td>[acrylic, metallic]</td>\n",
       "      <td>25</td>\n",
       "      <td>17</td>\n",
       "      <td>in</td>\n",
       "      <td>[]</td>\n",
       "      <td>{'amount': 25000, 'divisor': 100, 'currency_co...</td>\n",
       "      <td>106</td>\n",
       "    </tr>\n",
       "    <tr>\n",
       "      <th>98</th>\n",
       "      <td>583235330</td>\n",
       "      <td>64566326</td>\n",
       "      <td>11093744</td>\n",
       "      <td>Pure - Original Artwork</td>\n",
       "      <td>0</td>\n",
       "      <td>https://www.etsy.com/listing/583235330/pure-or...</td>\n",
       "      <td>[glass, acrylic, paint, gold, blue, red, white...</td>\n",
       "      <td>42</td>\n",
       "      <td>11</td>\n",
       "      <td>in</td>\n",
       "      <td>[]</td>\n",
       "      <td>{'amount': 25000, 'divisor': 100, 'currency_co...</td>\n",
       "      <td>106</td>\n",
       "    </tr>\n",
       "    <tr>\n",
       "      <th>99</th>\n",
       "      <td>623194521</td>\n",
       "      <td>10617451</td>\n",
       "      <td>17481714</td>\n",
       "      <td>Will it Go Round in Circles</td>\n",
       "      <td>1</td>\n",
       "      <td>https://www.etsy.com/listing/623194521/will-it...</td>\n",
       "      <td>[acrylic paint]</td>\n",
       "      <td>20</td>\n",
       "      <td>16</td>\n",
       "      <td>in</td>\n",
       "      <td>[]</td>\n",
       "      <td>{'amount': 25000, 'divisor': 100, 'currency_co...</td>\n",
       "      <td>106</td>\n",
       "    </tr>\n",
       "  </tbody>\n",
       "</table>\n",
       "<p>100 rows × 13 columns</p>\n",
       "</div>"
      ],
      "text/plain": [
       "    listing_id    user_id   shop_id  \\\n",
       "0    709728321   51263324   9800755   \n",
       "1    819018692  221539362  20402975   \n",
       "2   1076101360   74239808  25674777   \n",
       "3   1001369872  440513424  27718104   \n",
       "4    968717160   21677727   6902246   \n",
       "..         ...        ...       ...   \n",
       "95   895747673  230092638  20768657   \n",
       "96   828089877   13023446  12985729   \n",
       "97   771054512  273090558  22377768   \n",
       "98   583235330   64566326  11093744   \n",
       "99   623194521   10617451  17481714   \n",
       "\n",
       "                                                title  num_favorers  \\\n",
       "0   Original Orchid Flower Painting, Flower Painti...            29   \n",
       "1   Long wall art, Oversized wall art, Large Abstr...             2   \n",
       "2                                       Deep Blue Sea             0   \n",
       "3                                  Colosal ocean wave             0   \n",
       "4                                 Freedom 8x10 framed             0   \n",
       "..                                                ...           ...   \n",
       "95                                            Peacock             0   \n",
       "96                              Peonies for my father             1   \n",
       "97  Guacamole Architecture. Abstract art and divin...             0   \n",
       "98                            Pure - Original Artwork             0   \n",
       "99                        Will it Go Round in Circles             1   \n",
       "\n",
       "                                                  url  \\\n",
       "0   https://www.etsy.com/listing/709728321/origina...   \n",
       "1   https://www.etsy.com/listing/819018692/long-wa...   \n",
       "2   https://www.etsy.com/listing/1076101360/deep-b...   \n",
       "3   https://www.etsy.com/listing/1001369872/colosa...   \n",
       "4   https://www.etsy.com/listing/968717160/freedom...   \n",
       "..                                                ...   \n",
       "95     https://www.etsy.com/listing/895747673/peacock   \n",
       "96  https://www.etsy.com/listing/828089877/peonies...   \n",
       "97  https://www.etsy.com/listing/771054512/guacamo...   \n",
       "98  https://www.etsy.com/listing/583235330/pure-or...   \n",
       "99  https://www.etsy.com/listing/623194521/will-it...   \n",
       "\n",
       "                                            materials item_length item_width  \\\n",
       "0                                [Acrylic, Hardboard]          24         18   \n",
       "1                      [acrylic, pastels, paper roll]        None       None   \n",
       "2                                                  []          20          1   \n",
       "3                                  [Stretched canvas]        23.5        1.5   \n",
       "4                                                  []          10          8   \n",
       "..                                                ...         ...        ...   \n",
       "95                                 [Stretched canvas]          16         12   \n",
       "96                                 [Stretched canvas]          35         28   \n",
       "97                                [acrylic, metallic]          25         17   \n",
       "98  [glass, acrylic, paint, gold, blue, red, white...          42         11   \n",
       "99                                    [acrylic paint]          20         16   \n",
       "\n",
       "   item_dimensions_unit style  \\\n",
       "0                    in    []   \n",
       "1                  None    []   \n",
       "2                    in    []   \n",
       "3                    in    []   \n",
       "4                    in    []   \n",
       "..                  ...   ...   \n",
       "95                   in    []   \n",
       "96                   in    []   \n",
       "97                   in    []   \n",
       "98                   in    []   \n",
       "99                   in    []   \n",
       "\n",
       "                                                price  taxonomy_id  \n",
       "0   {'amount': 25000, 'divisor': 100, 'currency_co...          106  \n",
       "1   {'amount': 25000, 'divisor': 100, 'currency_co...          106  \n",
       "2   {'amount': 25000, 'divisor': 100, 'currency_co...          106  \n",
       "3   {'amount': 25000, 'divisor': 100, 'currency_co...          106  \n",
       "4   {'amount': 25000, 'divisor': 100, 'currency_co...          106  \n",
       "..                                                ...          ...  \n",
       "95  {'amount': 25000, 'divisor': 100, 'currency_co...          106  \n",
       "96  {'amount': 25000, 'divisor': 100, 'currency_co...          106  \n",
       "97  {'amount': 25000, 'divisor': 100, 'currency_co...          106  \n",
       "98  {'amount': 25000, 'divisor': 100, 'currency_co...          106  \n",
       "99  {'amount': 25000, 'divisor': 100, 'currency_co...          106  \n",
       "\n",
       "[100 rows x 13 columns]"
      ]
     },
     "execution_count": 37,
     "metadata": {},
     "output_type": "execute_result"
    }
   ],
   "source": [
    "first_100acrylic_paintings_df"
   ]
  },
  {
   "cell_type": "code",
   "execution_count": 38,
   "metadata": {},
   "outputs": [
    {
     "data": {
      "text/html": [
       "<div>\n",
       "<style scoped>\n",
       "    .dataframe tbody tr th:only-of-type {\n",
       "        vertical-align: middle;\n",
       "    }\n",
       "\n",
       "    .dataframe tbody tr th {\n",
       "        vertical-align: top;\n",
       "    }\n",
       "\n",
       "    .dataframe thead th {\n",
       "        text-align: right;\n",
       "    }\n",
       "</style>\n",
       "<table border=\"1\" class=\"dataframe\">\n",
       "  <thead>\n",
       "    <tr style=\"text-align: right;\">\n",
       "      <th></th>\n",
       "      <th>listing_id</th>\n",
       "      <th>user_id</th>\n",
       "      <th>shop_id</th>\n",
       "      <th>title</th>\n",
       "      <th>description</th>\n",
       "      <th>state</th>\n",
       "      <th>creation_timestamp</th>\n",
       "      <th>ending_timestamp</th>\n",
       "      <th>original_creation_timestamp</th>\n",
       "      <th>last_modified_timestamp</th>\n",
       "      <th>...</th>\n",
       "      <th>item_dimensions_unit</th>\n",
       "      <th>is_private</th>\n",
       "      <th>style</th>\n",
       "      <th>file_data</th>\n",
       "      <th>has_variations</th>\n",
       "      <th>should_auto_renew</th>\n",
       "      <th>language</th>\n",
       "      <th>price</th>\n",
       "      <th>taxonomy_id</th>\n",
       "      <th>production_partners</th>\n",
       "    </tr>\n",
       "  </thead>\n",
       "  <tbody>\n",
       "    <tr>\n",
       "      <th>0</th>\n",
       "      <td>709728321</td>\n",
       "      <td>51263324</td>\n",
       "      <td>9800755</td>\n",
       "      <td>Original Orchid Flower Painting, Flower Painti...</td>\n",
       "      <td>Acrylic on Hardboard</td>\n",
       "      <td>active</td>\n",
       "      <td>1631647252</td>\n",
       "      <td>1642191652</td>\n",
       "      <td>1559054965</td>\n",
       "      <td>1631647252</td>\n",
       "      <td>...</td>\n",
       "      <td>in</td>\n",
       "      <td>False</td>\n",
       "      <td>[]</td>\n",
       "      <td></td>\n",
       "      <td>False</td>\n",
       "      <td>True</td>\n",
       "      <td>en-US</td>\n",
       "      <td>{'amount': 25000, 'divisor': 100, 'currency_co...</td>\n",
       "      <td>106</td>\n",
       "      <td>[]</td>\n",
       "    </tr>\n",
       "    <tr>\n",
       "      <th>1</th>\n",
       "      <td>819018692</td>\n",
       "      <td>221539362</td>\n",
       "      <td>20402975</td>\n",
       "      <td>Long wall art, Oversized wall art, Large Abstr...</td>\n",
       "      <td>Long wall art, Oversized wall art, Large Abstr...</td>\n",
       "      <td>active</td>\n",
       "      <td>1629146443</td>\n",
       "      <td>1639690843</td>\n",
       "      <td>1593681450</td>\n",
       "      <td>1633613182</td>\n",
       "      <td>...</td>\n",
       "      <td>None</td>\n",
       "      <td>False</td>\n",
       "      <td>[]</td>\n",
       "      <td></td>\n",
       "      <td>True</td>\n",
       "      <td>True</td>\n",
       "      <td>en-US</td>\n",
       "      <td>{'amount': 25000, 'divisor': 100, 'currency_co...</td>\n",
       "      <td>106</td>\n",
       "      <td>[]</td>\n",
       "    </tr>\n",
       "    <tr>\n",
       "      <th>2</th>\n",
       "      <td>1076101360</td>\n",
       "      <td>74239808</td>\n",
       "      <td>25674777</td>\n",
       "      <td>Deep Blue Sea</td>\n",
       "      <td>Bucket of blues in this acrylic painting on a ...</td>\n",
       "      <td>active</td>\n",
       "      <td>1632432869</td>\n",
       "      <td>1642977269</td>\n",
       "      <td>1632432869</td>\n",
       "      <td>1632632468</td>\n",
       "      <td>...</td>\n",
       "      <td>in</td>\n",
       "      <td>False</td>\n",
       "      <td>[]</td>\n",
       "      <td></td>\n",
       "      <td>False</td>\n",
       "      <td>True</td>\n",
       "      <td>en-US</td>\n",
       "      <td>{'amount': 25000, 'divisor': 100, 'currency_co...</td>\n",
       "      <td>106</td>\n",
       "      <td>[]</td>\n",
       "    </tr>\n",
       "    <tr>\n",
       "      <th>3</th>\n",
       "      <td>1001369872</td>\n",
       "      <td>440513424</td>\n",
       "      <td>27718104</td>\n",
       "      <td>Colosal ocean wave</td>\n",
       "      <td>Abstract modern acrylic painting</td>\n",
       "      <td>active</td>\n",
       "      <td>1631137250</td>\n",
       "      <td>1641681650</td>\n",
       "      <td>1620423588</td>\n",
       "      <td>1631137250</td>\n",
       "      <td>...</td>\n",
       "      <td>in</td>\n",
       "      <td>False</td>\n",
       "      <td>[]</td>\n",
       "      <td></td>\n",
       "      <td>False</td>\n",
       "      <td>True</td>\n",
       "      <td>en-US</td>\n",
       "      <td>{'amount': 25000, 'divisor': 100, 'currency_co...</td>\n",
       "      <td>106</td>\n",
       "      <td>[]</td>\n",
       "    </tr>\n",
       "    <tr>\n",
       "      <th>4</th>\n",
       "      <td>968717160</td>\n",
       "      <td>21677727</td>\n",
       "      <td>6902246</td>\n",
       "      <td>Freedom 8x10 framed</td>\n",
       "      <td>Freedom \\n8x10 in a high quality frame \\nAll p...</td>\n",
       "      <td>active</td>\n",
       "      <td>1626605436</td>\n",
       "      <td>1637236236</td>\n",
       "      <td>1615978050</td>\n",
       "      <td>1626605436</td>\n",
       "      <td>...</td>\n",
       "      <td>in</td>\n",
       "      <td>False</td>\n",
       "      <td>[]</td>\n",
       "      <td></td>\n",
       "      <td>False</td>\n",
       "      <td>True</td>\n",
       "      <td>en-US</td>\n",
       "      <td>{'amount': 25000, 'divisor': 100, 'currency_co...</td>\n",
       "      <td>106</td>\n",
       "      <td>[]</td>\n",
       "    </tr>\n",
       "    <tr>\n",
       "      <th>...</th>\n",
       "      <td>...</td>\n",
       "      <td>...</td>\n",
       "      <td>...</td>\n",
       "      <td>...</td>\n",
       "      <td>...</td>\n",
       "      <td>...</td>\n",
       "      <td>...</td>\n",
       "      <td>...</td>\n",
       "      <td>...</td>\n",
       "      <td>...</td>\n",
       "      <td>...</td>\n",
       "      <td>...</td>\n",
       "      <td>...</td>\n",
       "      <td>...</td>\n",
       "      <td>...</td>\n",
       "      <td>...</td>\n",
       "      <td>...</td>\n",
       "      <td>...</td>\n",
       "      <td>...</td>\n",
       "      <td>...</td>\n",
       "      <td>...</td>\n",
       "    </tr>\n",
       "    <tr>\n",
       "      <th>95</th>\n",
       "      <td>895747673</td>\n",
       "      <td>230092638</td>\n",
       "      <td>20768657</td>\n",
       "      <td>Peacock</td>\n",
       "      <td>Blue Peacock \\nPainting on stretched canvas\\n\\...</td>\n",
       "      <td>active</td>\n",
       "      <td>1604083431</td>\n",
       "      <td>1614541431</td>\n",
       "      <td>1604082908</td>\n",
       "      <td>1616747092</td>\n",
       "      <td>...</td>\n",
       "      <td>in</td>\n",
       "      <td>False</td>\n",
       "      <td>[]</td>\n",
       "      <td></td>\n",
       "      <td>False</td>\n",
       "      <td>False</td>\n",
       "      <td>en-US</td>\n",
       "      <td>{'amount': 25000, 'divisor': 100, 'currency_co...</td>\n",
       "      <td>106</td>\n",
       "      <td>[]</td>\n",
       "    </tr>\n",
       "    <tr>\n",
       "      <th>96</th>\n",
       "      <td>828089877</td>\n",
       "      <td>13023446</td>\n",
       "      <td>12985729</td>\n",
       "      <td>Peonies for my father</td>\n",
       "      <td>Acrylic painting of peonies in a vase\\n- paint...</td>\n",
       "      <td>active</td>\n",
       "      <td>1624637433</td>\n",
       "      <td>1635178233</td>\n",
       "      <td>1592841613</td>\n",
       "      <td>1624637433</td>\n",
       "      <td>...</td>\n",
       "      <td>in</td>\n",
       "      <td>False</td>\n",
       "      <td>[]</td>\n",
       "      <td></td>\n",
       "      <td>False</td>\n",
       "      <td>True</td>\n",
       "      <td>en-US</td>\n",
       "      <td>{'amount': 25000, 'divisor': 100, 'currency_co...</td>\n",
       "      <td>106</td>\n",
       "      <td>[]</td>\n",
       "    </tr>\n",
       "    <tr>\n",
       "      <th>97</th>\n",
       "      <td>771054512</td>\n",
       "      <td>273090558</td>\n",
       "      <td>22377768</td>\n",
       "      <td>Guacamole Architecture. Abstract art and divin...</td>\n",
       "      <td>Guacamole Architecture is part of a larger ser...</td>\n",
       "      <td>active</td>\n",
       "      <td>1626035433</td>\n",
       "      <td>1636666233</td>\n",
       "      <td>1583614746</td>\n",
       "      <td>1626035433</td>\n",
       "      <td>...</td>\n",
       "      <td>in</td>\n",
       "      <td>False</td>\n",
       "      <td>[]</td>\n",
       "      <td></td>\n",
       "      <td>False</td>\n",
       "      <td>True</td>\n",
       "      <td>en-US</td>\n",
       "      <td>{'amount': 25000, 'divisor': 100, 'currency_co...</td>\n",
       "      <td>106</td>\n",
       "      <td>[]</td>\n",
       "    </tr>\n",
       "    <tr>\n",
       "      <th>98</th>\n",
       "      <td>583235330</td>\n",
       "      <td>64566326</td>\n",
       "      <td>11093744</td>\n",
       "      <td>Pure - Original Artwork</td>\n",
       "      <td>This original piece is sure to make a statemen...</td>\n",
       "      <td>active</td>\n",
       "      <td>1625725230</td>\n",
       "      <td>1636356030</td>\n",
       "      <td>1519801011</td>\n",
       "      <td>1625725230</td>\n",
       "      <td>...</td>\n",
       "      <td>in</td>\n",
       "      <td>False</td>\n",
       "      <td>[]</td>\n",
       "      <td></td>\n",
       "      <td>False</td>\n",
       "      <td>True</td>\n",
       "      <td>en-US</td>\n",
       "      <td>{'amount': 25000, 'divisor': 100, 'currency_co...</td>\n",
       "      <td>106</td>\n",
       "      <td>[]</td>\n",
       "    </tr>\n",
       "    <tr>\n",
       "      <th>99</th>\n",
       "      <td>623194521</td>\n",
       "      <td>10617451</td>\n",
       "      <td>17481714</td>\n",
       "      <td>Will it Go Round in Circles</td>\n",
       "      <td>Each painting is a one of a kind unique and in...</td>\n",
       "      <td>active</td>\n",
       "      <td>1631002830</td>\n",
       "      <td>1641547230</td>\n",
       "      <td>1529916691</td>\n",
       "      <td>1631002830</td>\n",
       "      <td>...</td>\n",
       "      <td>in</td>\n",
       "      <td>False</td>\n",
       "      <td>[]</td>\n",
       "      <td></td>\n",
       "      <td>False</td>\n",
       "      <td>True</td>\n",
       "      <td>en-US</td>\n",
       "      <td>{'amount': 25000, 'divisor': 100, 'currency_co...</td>\n",
       "      <td>106</td>\n",
       "      <td>[]</td>\n",
       "    </tr>\n",
       "  </tbody>\n",
       "</table>\n",
       "<p>100 rows × 46 columns</p>\n",
       "</div>"
      ],
      "text/plain": [
       "    listing_id    user_id   shop_id  \\\n",
       "0    709728321   51263324   9800755   \n",
       "1    819018692  221539362  20402975   \n",
       "2   1076101360   74239808  25674777   \n",
       "3   1001369872  440513424  27718104   \n",
       "4    968717160   21677727   6902246   \n",
       "..         ...        ...       ...   \n",
       "95   895747673  230092638  20768657   \n",
       "96   828089877   13023446  12985729   \n",
       "97   771054512  273090558  22377768   \n",
       "98   583235330   64566326  11093744   \n",
       "99   623194521   10617451  17481714   \n",
       "\n",
       "                                                title  \\\n",
       "0   Original Orchid Flower Painting, Flower Painti...   \n",
       "1   Long wall art, Oversized wall art, Large Abstr...   \n",
       "2                                       Deep Blue Sea   \n",
       "3                                  Colosal ocean wave   \n",
       "4                                 Freedom 8x10 framed   \n",
       "..                                                ...   \n",
       "95                                            Peacock   \n",
       "96                              Peonies for my father   \n",
       "97  Guacamole Architecture. Abstract art and divin...   \n",
       "98                            Pure - Original Artwork   \n",
       "99                        Will it Go Round in Circles   \n",
       "\n",
       "                                          description   state  \\\n",
       "0                                Acrylic on Hardboard  active   \n",
       "1   Long wall art, Oversized wall art, Large Abstr...  active   \n",
       "2   Bucket of blues in this acrylic painting on a ...  active   \n",
       "3                    Abstract modern acrylic painting  active   \n",
       "4   Freedom \\n8x10 in a high quality frame \\nAll p...  active   \n",
       "..                                                ...     ...   \n",
       "95  Blue Peacock \\nPainting on stretched canvas\\n\\...  active   \n",
       "96  Acrylic painting of peonies in a vase\\n- paint...  active   \n",
       "97  Guacamole Architecture is part of a larger ser...  active   \n",
       "98  This original piece is sure to make a statemen...  active   \n",
       "99  Each painting is a one of a kind unique and in...  active   \n",
       "\n",
       "    creation_timestamp  ending_timestamp  original_creation_timestamp  \\\n",
       "0           1631647252        1642191652                   1559054965   \n",
       "1           1629146443        1639690843                   1593681450   \n",
       "2           1632432869        1642977269                   1632432869   \n",
       "3           1631137250        1641681650                   1620423588   \n",
       "4           1626605436        1637236236                   1615978050   \n",
       "..                 ...               ...                          ...   \n",
       "95          1604083431        1614541431                   1604082908   \n",
       "96          1624637433        1635178233                   1592841613   \n",
       "97          1626035433        1636666233                   1583614746   \n",
       "98          1625725230        1636356030                   1519801011   \n",
       "99          1631002830        1641547230                   1529916691   \n",
       "\n",
       "    last_modified_timestamp  ...  item_dimensions_unit  is_private  style  \\\n",
       "0                1631647252  ...                    in       False     []   \n",
       "1                1633613182  ...                  None       False     []   \n",
       "2                1632632468  ...                    in       False     []   \n",
       "3                1631137250  ...                    in       False     []   \n",
       "4                1626605436  ...                    in       False     []   \n",
       "..                      ...  ...                   ...         ...    ...   \n",
       "95               1616747092  ...                    in       False     []   \n",
       "96               1624637433  ...                    in       False     []   \n",
       "97               1626035433  ...                    in       False     []   \n",
       "98               1625725230  ...                    in       False     []   \n",
       "99               1631002830  ...                    in       False     []   \n",
       "\n",
       "    file_data has_variations  should_auto_renew  language  \\\n",
       "0                      False               True     en-US   \n",
       "1                       True               True     en-US   \n",
       "2                      False               True     en-US   \n",
       "3                      False               True     en-US   \n",
       "4                      False               True     en-US   \n",
       "..        ...            ...                ...       ...   \n",
       "95                     False              False     en-US   \n",
       "96                     False               True     en-US   \n",
       "97                     False               True     en-US   \n",
       "98                     False               True     en-US   \n",
       "99                     False               True     en-US   \n",
       "\n",
       "                                                price  taxonomy_id  \\\n",
       "0   {'amount': 25000, 'divisor': 100, 'currency_co...          106   \n",
       "1   {'amount': 25000, 'divisor': 100, 'currency_co...          106   \n",
       "2   {'amount': 25000, 'divisor': 100, 'currency_co...          106   \n",
       "3   {'amount': 25000, 'divisor': 100, 'currency_co...          106   \n",
       "4   {'amount': 25000, 'divisor': 100, 'currency_co...          106   \n",
       "..                                                ...          ...   \n",
       "95  {'amount': 25000, 'divisor': 100, 'currency_co...          106   \n",
       "96  {'amount': 25000, 'divisor': 100, 'currency_co...          106   \n",
       "97  {'amount': 25000, 'divisor': 100, 'currency_co...          106   \n",
       "98  {'amount': 25000, 'divisor': 100, 'currency_co...          106   \n",
       "99  {'amount': 25000, 'divisor': 100, 'currency_co...          106   \n",
       "\n",
       "    production_partners  \n",
       "0                    []  \n",
       "1                    []  \n",
       "2                    []  \n",
       "3                    []  \n",
       "4                    []  \n",
       "..                  ...  \n",
       "95                   []  \n",
       "96                   []  \n",
       "97                   []  \n",
       "98                   []  \n",
       "99                   []  \n",
       "\n",
       "[100 rows x 46 columns]"
      ]
     },
     "execution_count": 38,
     "metadata": {},
     "output_type": "execute_result"
    }
   ],
   "source": [
    "first_100acrylic_paintings_df =  pd.DataFrame(response_paintings_active_data['results'])\n",
    "first_100acrylic_paintings_df"
   ]
  },
  {
   "cell_type": "code",
   "execution_count": 39,
   "metadata": {},
   "outputs": [],
   "source": [
    "#Other available requests are: 'FindAllActiveListingsbyShop', 'getListing' (to get a single listing), 'getListingsByListingIds' (pass a list of ids),  'getListingProperties' (to return a single property by id)\n",
    "#'getAllListingFiles' that returns all the files associated to a listing (including images?) - this requires OAuth2 "
   ]
  },
  {
   "cell_type": "code",
   "execution_count": 40,
   "metadata": {},
   "outputs": [],
   "source": [
    "#Test of concatenation\n",
    "first50acrylic_paintings_df = first_100acrylic_paintings_df.iloc[:50]"
   ]
  },
  {
   "cell_type": "code",
   "execution_count": 41,
   "metadata": {},
   "outputs": [],
   "source": [
    "second50acrylic_paintings_df = first_100acrylic_paintings_df.iloc[50:]"
   ]
  },
  {
   "cell_type": "code",
   "execution_count": 42,
   "metadata": {},
   "outputs": [],
   "source": [
    "first50acrylic_paintings_df = pd.concat([first50acrylic_paintings_df,second50acrylic_paintings_df])"
   ]
  },
  {
   "cell_type": "code",
   "execution_count": 43,
   "metadata": {},
   "outputs": [
    {
     "data": {
      "text/html": [
       "<div>\n",
       "<style scoped>\n",
       "    .dataframe tbody tr th:only-of-type {\n",
       "        vertical-align: middle;\n",
       "    }\n",
       "\n",
       "    .dataframe tbody tr th {\n",
       "        vertical-align: top;\n",
       "    }\n",
       "\n",
       "    .dataframe thead th {\n",
       "        text-align: right;\n",
       "    }\n",
       "</style>\n",
       "<table border=\"1\" class=\"dataframe\">\n",
       "  <thead>\n",
       "    <tr style=\"text-align: right;\">\n",
       "      <th></th>\n",
       "      <th>listing_id</th>\n",
       "      <th>user_id</th>\n",
       "      <th>shop_id</th>\n",
       "      <th>title</th>\n",
       "      <th>description</th>\n",
       "      <th>state</th>\n",
       "      <th>creation_timestamp</th>\n",
       "      <th>ending_timestamp</th>\n",
       "      <th>original_creation_timestamp</th>\n",
       "      <th>last_modified_timestamp</th>\n",
       "      <th>...</th>\n",
       "      <th>item_dimensions_unit</th>\n",
       "      <th>is_private</th>\n",
       "      <th>style</th>\n",
       "      <th>file_data</th>\n",
       "      <th>has_variations</th>\n",
       "      <th>should_auto_renew</th>\n",
       "      <th>language</th>\n",
       "      <th>price</th>\n",
       "      <th>taxonomy_id</th>\n",
       "      <th>production_partners</th>\n",
       "    </tr>\n",
       "  </thead>\n",
       "  <tbody>\n",
       "    <tr>\n",
       "      <th>0</th>\n",
       "      <td>709728321</td>\n",
       "      <td>51263324</td>\n",
       "      <td>9800755</td>\n",
       "      <td>Original Orchid Flower Painting, Flower Painti...</td>\n",
       "      <td>Acrylic on Hardboard</td>\n",
       "      <td>active</td>\n",
       "      <td>1631647252</td>\n",
       "      <td>1642191652</td>\n",
       "      <td>1559054965</td>\n",
       "      <td>1631647252</td>\n",
       "      <td>...</td>\n",
       "      <td>in</td>\n",
       "      <td>False</td>\n",
       "      <td>[]</td>\n",
       "      <td></td>\n",
       "      <td>False</td>\n",
       "      <td>True</td>\n",
       "      <td>en-US</td>\n",
       "      <td>{'amount': 25000, 'divisor': 100, 'currency_co...</td>\n",
       "      <td>106</td>\n",
       "      <td>[]</td>\n",
       "    </tr>\n",
       "    <tr>\n",
       "      <th>1</th>\n",
       "      <td>819018692</td>\n",
       "      <td>221539362</td>\n",
       "      <td>20402975</td>\n",
       "      <td>Long wall art, Oversized wall art, Large Abstr...</td>\n",
       "      <td>Long wall art, Oversized wall art, Large Abstr...</td>\n",
       "      <td>active</td>\n",
       "      <td>1629146443</td>\n",
       "      <td>1639690843</td>\n",
       "      <td>1593681450</td>\n",
       "      <td>1633613182</td>\n",
       "      <td>...</td>\n",
       "      <td>None</td>\n",
       "      <td>False</td>\n",
       "      <td>[]</td>\n",
       "      <td></td>\n",
       "      <td>True</td>\n",
       "      <td>True</td>\n",
       "      <td>en-US</td>\n",
       "      <td>{'amount': 25000, 'divisor': 100, 'currency_co...</td>\n",
       "      <td>106</td>\n",
       "      <td>[]</td>\n",
       "    </tr>\n",
       "    <tr>\n",
       "      <th>2</th>\n",
       "      <td>1076101360</td>\n",
       "      <td>74239808</td>\n",
       "      <td>25674777</td>\n",
       "      <td>Deep Blue Sea</td>\n",
       "      <td>Bucket of blues in this acrylic painting on a ...</td>\n",
       "      <td>active</td>\n",
       "      <td>1632432869</td>\n",
       "      <td>1642977269</td>\n",
       "      <td>1632432869</td>\n",
       "      <td>1632632468</td>\n",
       "      <td>...</td>\n",
       "      <td>in</td>\n",
       "      <td>False</td>\n",
       "      <td>[]</td>\n",
       "      <td></td>\n",
       "      <td>False</td>\n",
       "      <td>True</td>\n",
       "      <td>en-US</td>\n",
       "      <td>{'amount': 25000, 'divisor': 100, 'currency_co...</td>\n",
       "      <td>106</td>\n",
       "      <td>[]</td>\n",
       "    </tr>\n",
       "    <tr>\n",
       "      <th>3</th>\n",
       "      <td>1001369872</td>\n",
       "      <td>440513424</td>\n",
       "      <td>27718104</td>\n",
       "      <td>Colosal ocean wave</td>\n",
       "      <td>Abstract modern acrylic painting</td>\n",
       "      <td>active</td>\n",
       "      <td>1631137250</td>\n",
       "      <td>1641681650</td>\n",
       "      <td>1620423588</td>\n",
       "      <td>1631137250</td>\n",
       "      <td>...</td>\n",
       "      <td>in</td>\n",
       "      <td>False</td>\n",
       "      <td>[]</td>\n",
       "      <td></td>\n",
       "      <td>False</td>\n",
       "      <td>True</td>\n",
       "      <td>en-US</td>\n",
       "      <td>{'amount': 25000, 'divisor': 100, 'currency_co...</td>\n",
       "      <td>106</td>\n",
       "      <td>[]</td>\n",
       "    </tr>\n",
       "    <tr>\n",
       "      <th>4</th>\n",
       "      <td>968717160</td>\n",
       "      <td>21677727</td>\n",
       "      <td>6902246</td>\n",
       "      <td>Freedom 8x10 framed</td>\n",
       "      <td>Freedom \\n8x10 in a high quality frame \\nAll p...</td>\n",
       "      <td>active</td>\n",
       "      <td>1626605436</td>\n",
       "      <td>1637236236</td>\n",
       "      <td>1615978050</td>\n",
       "      <td>1626605436</td>\n",
       "      <td>...</td>\n",
       "      <td>in</td>\n",
       "      <td>False</td>\n",
       "      <td>[]</td>\n",
       "      <td></td>\n",
       "      <td>False</td>\n",
       "      <td>True</td>\n",
       "      <td>en-US</td>\n",
       "      <td>{'amount': 25000, 'divisor': 100, 'currency_co...</td>\n",
       "      <td>106</td>\n",
       "      <td>[]</td>\n",
       "    </tr>\n",
       "    <tr>\n",
       "      <th>...</th>\n",
       "      <td>...</td>\n",
       "      <td>...</td>\n",
       "      <td>...</td>\n",
       "      <td>...</td>\n",
       "      <td>...</td>\n",
       "      <td>...</td>\n",
       "      <td>...</td>\n",
       "      <td>...</td>\n",
       "      <td>...</td>\n",
       "      <td>...</td>\n",
       "      <td>...</td>\n",
       "      <td>...</td>\n",
       "      <td>...</td>\n",
       "      <td>...</td>\n",
       "      <td>...</td>\n",
       "      <td>...</td>\n",
       "      <td>...</td>\n",
       "      <td>...</td>\n",
       "      <td>...</td>\n",
       "      <td>...</td>\n",
       "      <td>...</td>\n",
       "    </tr>\n",
       "    <tr>\n",
       "      <th>95</th>\n",
       "      <td>895747673</td>\n",
       "      <td>230092638</td>\n",
       "      <td>20768657</td>\n",
       "      <td>Peacock</td>\n",
       "      <td>Blue Peacock \\nPainting on stretched canvas\\n\\...</td>\n",
       "      <td>active</td>\n",
       "      <td>1604083431</td>\n",
       "      <td>1614541431</td>\n",
       "      <td>1604082908</td>\n",
       "      <td>1616747092</td>\n",
       "      <td>...</td>\n",
       "      <td>in</td>\n",
       "      <td>False</td>\n",
       "      <td>[]</td>\n",
       "      <td></td>\n",
       "      <td>False</td>\n",
       "      <td>False</td>\n",
       "      <td>en-US</td>\n",
       "      <td>{'amount': 25000, 'divisor': 100, 'currency_co...</td>\n",
       "      <td>106</td>\n",
       "      <td>[]</td>\n",
       "    </tr>\n",
       "    <tr>\n",
       "      <th>96</th>\n",
       "      <td>828089877</td>\n",
       "      <td>13023446</td>\n",
       "      <td>12985729</td>\n",
       "      <td>Peonies for my father</td>\n",
       "      <td>Acrylic painting of peonies in a vase\\n- paint...</td>\n",
       "      <td>active</td>\n",
       "      <td>1624637433</td>\n",
       "      <td>1635178233</td>\n",
       "      <td>1592841613</td>\n",
       "      <td>1624637433</td>\n",
       "      <td>...</td>\n",
       "      <td>in</td>\n",
       "      <td>False</td>\n",
       "      <td>[]</td>\n",
       "      <td></td>\n",
       "      <td>False</td>\n",
       "      <td>True</td>\n",
       "      <td>en-US</td>\n",
       "      <td>{'amount': 25000, 'divisor': 100, 'currency_co...</td>\n",
       "      <td>106</td>\n",
       "      <td>[]</td>\n",
       "    </tr>\n",
       "    <tr>\n",
       "      <th>97</th>\n",
       "      <td>771054512</td>\n",
       "      <td>273090558</td>\n",
       "      <td>22377768</td>\n",
       "      <td>Guacamole Architecture. Abstract art and divin...</td>\n",
       "      <td>Guacamole Architecture is part of a larger ser...</td>\n",
       "      <td>active</td>\n",
       "      <td>1626035433</td>\n",
       "      <td>1636666233</td>\n",
       "      <td>1583614746</td>\n",
       "      <td>1626035433</td>\n",
       "      <td>...</td>\n",
       "      <td>in</td>\n",
       "      <td>False</td>\n",
       "      <td>[]</td>\n",
       "      <td></td>\n",
       "      <td>False</td>\n",
       "      <td>True</td>\n",
       "      <td>en-US</td>\n",
       "      <td>{'amount': 25000, 'divisor': 100, 'currency_co...</td>\n",
       "      <td>106</td>\n",
       "      <td>[]</td>\n",
       "    </tr>\n",
       "    <tr>\n",
       "      <th>98</th>\n",
       "      <td>583235330</td>\n",
       "      <td>64566326</td>\n",
       "      <td>11093744</td>\n",
       "      <td>Pure - Original Artwork</td>\n",
       "      <td>This original piece is sure to make a statemen...</td>\n",
       "      <td>active</td>\n",
       "      <td>1625725230</td>\n",
       "      <td>1636356030</td>\n",
       "      <td>1519801011</td>\n",
       "      <td>1625725230</td>\n",
       "      <td>...</td>\n",
       "      <td>in</td>\n",
       "      <td>False</td>\n",
       "      <td>[]</td>\n",
       "      <td></td>\n",
       "      <td>False</td>\n",
       "      <td>True</td>\n",
       "      <td>en-US</td>\n",
       "      <td>{'amount': 25000, 'divisor': 100, 'currency_co...</td>\n",
       "      <td>106</td>\n",
       "      <td>[]</td>\n",
       "    </tr>\n",
       "    <tr>\n",
       "      <th>99</th>\n",
       "      <td>623194521</td>\n",
       "      <td>10617451</td>\n",
       "      <td>17481714</td>\n",
       "      <td>Will it Go Round in Circles</td>\n",
       "      <td>Each painting is a one of a kind unique and in...</td>\n",
       "      <td>active</td>\n",
       "      <td>1631002830</td>\n",
       "      <td>1641547230</td>\n",
       "      <td>1529916691</td>\n",
       "      <td>1631002830</td>\n",
       "      <td>...</td>\n",
       "      <td>in</td>\n",
       "      <td>False</td>\n",
       "      <td>[]</td>\n",
       "      <td></td>\n",
       "      <td>False</td>\n",
       "      <td>True</td>\n",
       "      <td>en-US</td>\n",
       "      <td>{'amount': 25000, 'divisor': 100, 'currency_co...</td>\n",
       "      <td>106</td>\n",
       "      <td>[]</td>\n",
       "    </tr>\n",
       "  </tbody>\n",
       "</table>\n",
       "<p>100 rows × 46 columns</p>\n",
       "</div>"
      ],
      "text/plain": [
       "    listing_id    user_id   shop_id  \\\n",
       "0    709728321   51263324   9800755   \n",
       "1    819018692  221539362  20402975   \n",
       "2   1076101360   74239808  25674777   \n",
       "3   1001369872  440513424  27718104   \n",
       "4    968717160   21677727   6902246   \n",
       "..         ...        ...       ...   \n",
       "95   895747673  230092638  20768657   \n",
       "96   828089877   13023446  12985729   \n",
       "97   771054512  273090558  22377768   \n",
       "98   583235330   64566326  11093744   \n",
       "99   623194521   10617451  17481714   \n",
       "\n",
       "                                                title  \\\n",
       "0   Original Orchid Flower Painting, Flower Painti...   \n",
       "1   Long wall art, Oversized wall art, Large Abstr...   \n",
       "2                                       Deep Blue Sea   \n",
       "3                                  Colosal ocean wave   \n",
       "4                                 Freedom 8x10 framed   \n",
       "..                                                ...   \n",
       "95                                            Peacock   \n",
       "96                              Peonies for my father   \n",
       "97  Guacamole Architecture. Abstract art and divin...   \n",
       "98                            Pure - Original Artwork   \n",
       "99                        Will it Go Round in Circles   \n",
       "\n",
       "                                          description   state  \\\n",
       "0                                Acrylic on Hardboard  active   \n",
       "1   Long wall art, Oversized wall art, Large Abstr...  active   \n",
       "2   Bucket of blues in this acrylic painting on a ...  active   \n",
       "3                    Abstract modern acrylic painting  active   \n",
       "4   Freedom \\n8x10 in a high quality frame \\nAll p...  active   \n",
       "..                                                ...     ...   \n",
       "95  Blue Peacock \\nPainting on stretched canvas\\n\\...  active   \n",
       "96  Acrylic painting of peonies in a vase\\n- paint...  active   \n",
       "97  Guacamole Architecture is part of a larger ser...  active   \n",
       "98  This original piece is sure to make a statemen...  active   \n",
       "99  Each painting is a one of a kind unique and in...  active   \n",
       "\n",
       "    creation_timestamp  ending_timestamp  original_creation_timestamp  \\\n",
       "0           1631647252        1642191652                   1559054965   \n",
       "1           1629146443        1639690843                   1593681450   \n",
       "2           1632432869        1642977269                   1632432869   \n",
       "3           1631137250        1641681650                   1620423588   \n",
       "4           1626605436        1637236236                   1615978050   \n",
       "..                 ...               ...                          ...   \n",
       "95          1604083431        1614541431                   1604082908   \n",
       "96          1624637433        1635178233                   1592841613   \n",
       "97          1626035433        1636666233                   1583614746   \n",
       "98          1625725230        1636356030                   1519801011   \n",
       "99          1631002830        1641547230                   1529916691   \n",
       "\n",
       "    last_modified_timestamp  ...  item_dimensions_unit  is_private  style  \\\n",
       "0                1631647252  ...                    in       False     []   \n",
       "1                1633613182  ...                  None       False     []   \n",
       "2                1632632468  ...                    in       False     []   \n",
       "3                1631137250  ...                    in       False     []   \n",
       "4                1626605436  ...                    in       False     []   \n",
       "..                      ...  ...                   ...         ...    ...   \n",
       "95               1616747092  ...                    in       False     []   \n",
       "96               1624637433  ...                    in       False     []   \n",
       "97               1626035433  ...                    in       False     []   \n",
       "98               1625725230  ...                    in       False     []   \n",
       "99               1631002830  ...                    in       False     []   \n",
       "\n",
       "    file_data has_variations  should_auto_renew  language  \\\n",
       "0                      False               True     en-US   \n",
       "1                       True               True     en-US   \n",
       "2                      False               True     en-US   \n",
       "3                      False               True     en-US   \n",
       "4                      False               True     en-US   \n",
       "..        ...            ...                ...       ...   \n",
       "95                     False              False     en-US   \n",
       "96                     False               True     en-US   \n",
       "97                     False               True     en-US   \n",
       "98                     False               True     en-US   \n",
       "99                     False               True     en-US   \n",
       "\n",
       "                                                price  taxonomy_id  \\\n",
       "0   {'amount': 25000, 'divisor': 100, 'currency_co...          106   \n",
       "1   {'amount': 25000, 'divisor': 100, 'currency_co...          106   \n",
       "2   {'amount': 25000, 'divisor': 100, 'currency_co...          106   \n",
       "3   {'amount': 25000, 'divisor': 100, 'currency_co...          106   \n",
       "4   {'amount': 25000, 'divisor': 100, 'currency_co...          106   \n",
       "..                                                ...          ...   \n",
       "95  {'amount': 25000, 'divisor': 100, 'currency_co...          106   \n",
       "96  {'amount': 25000, 'divisor': 100, 'currency_co...          106   \n",
       "97  {'amount': 25000, 'divisor': 100, 'currency_co...          106   \n",
       "98  {'amount': 25000, 'divisor': 100, 'currency_co...          106   \n",
       "99  {'amount': 25000, 'divisor': 100, 'currency_co...          106   \n",
       "\n",
       "    production_partners  \n",
       "0                    []  \n",
       "1                    []  \n",
       "2                    []  \n",
       "3                    []  \n",
       "4                    []  \n",
       "..                  ...  \n",
       "95                   []  \n",
       "96                   []  \n",
       "97                   []  \n",
       "98                   []  \n",
       "99                   []  \n",
       "\n",
       "[100 rows x 46 columns]"
      ]
     },
     "execution_count": 43,
     "metadata": {},
     "output_type": "execute_result"
    }
   ],
   "source": [
    "first50acrylic_paintings_df"
   ]
  },
  {
   "cell_type": "code",
   "execution_count": 44,
   "metadata": {},
   "outputs": [
    {
     "data": {
      "text/plain": [
       "250.0"
      ]
     },
     "execution_count": 44,
     "metadata": {},
     "output_type": "execute_result"
    }
   ],
   "source": [
    "test = first50acrylic_paintings_df.iloc[98]['price']\n",
    "test['amount']/test['divisor']"
   ]
  },
  {
   "cell_type": "markdown",
   "metadata": {},
   "source": [
    "## Here is the actual loop requesting, organizing and saving all paintings listings of a particular material (from code 106=acrylic to code 114=watercolor) within the $250-750 price range  "
   ]
  },
  {
   "cell_type": "code",
   "execution_count": 46,
   "metadata": {},
   "outputs": [],
   "source": [
    "from ediblepickle import checkpoint\n",
    "import os\n",
    "from urllib.parse import quote\n",
    "\n",
    "cache_dir = './Git_exclude/cache'\n",
    "if not os.path.exists(cache_dir):\n",
    "    os.mkdir(cache_dir)"
   ]
  },
  {
   "cell_type": "code",
   "execution_count": 47,
   "metadata": {},
   "outputs": [],
   "source": [
    "import time"
   ]
  },
  {
   "cell_type": "code",
   "execution_count": 48,
   "metadata": {},
   "outputs": [],
   "source": [
    "from retrying import retry"
   ]
  },
  {
   "cell_type": "code",
   "execution_count": 49,
   "metadata": {},
   "outputs": [],
   "source": [
    "url_listings_active = 'https://openapi.etsy.com/v3/application/listings/active'"
   ]
  },
  {
   "cell_type": "code",
   "execution_count": 144,
   "metadata": {},
   "outputs": [],
   "source": [
    "#This is the main workhorse function  to get 100 listings at a time, transform to dataframe and \n",
    "#the first decorator saves the results of any call with given parameters to cache, the second one keeps retrying if attampts fail\n",
    "@retry(stop_max_attempt_number=100,wait_fixed=1000)\n",
    "@checkpoint(key=lambda args, kwargs: 'tax'+ str(args[0]) + '_off'+ str(args[1]) + '_from' +str(int(min_price)) +'.pkl', work_dir=cache_dir)\n",
    "def get_100painting_listings(taxonomy_id,offset,min_price,max_price):\n",
    "    #basic parameters for the getAllListings call\n",
    "    params = {'limit' :100, #listings to return (1-100, default 25)\n",
    "            'offset' : offset,  #for skipping responses (default 0, it seems to work only up to 12000)\n",
    "            'sort_on': 'price',  #can be ('created', 'price', 'updated', default 'created')\n",
    "            'sort_order' : 'ascending', #'descending'\n",
    "             'min_price' : min_price,\n",
    "             'max_price' : max_price,\n",
    "             'taxonomy_id' : taxonomy_id #106 = acrylic, 107 = combination,  ...., 114=watercolor \n",
    "              }\n",
    "    response_100paintings = requests.get(url_listings_active, params=params, headers = headers)\n",
    "    response_100paintings_data = response_100paintings.json() \n",
    "    response_100paintings_df =  pd.DataFrame(response_100paintings_data['results'])\n",
    "    return response_100paintings_df"
   ]
  },
  {
   "cell_type": "code",
   "execution_count": 118,
   "metadata": {},
   "outputs": [],
   "source": [
    "#I want a function to format the prices, that are returned by Etsy as a weird string like:\n",
    "#\"{'amount': 25000, 'divisor': 100, 'currency_code': 'USD'}\"\n",
    "#I want to convert the price into a floating value (amount/divisor) and throw away price that are not in USDollars as that would throw off my algorithm\n",
    "import numpy as np\n",
    "def format_price_USD(price_field_Etsy):\n",
    "    if price_field_Etsy['currency_code']=='USD':\n",
    "        return price_field_Etsy['amount']/price_field_Etsy['divisor']\n",
    "    else:\n",
    "        return np.nan"
   ]
  },
  {
   "cell_type": "code",
   "execution_count": 51,
   "metadata": {},
   "outputs": [],
   "source": [
    "#Testing the basic iteration on taxonomy_id = 107 (combination) since there shouldn't be too many of these listings\n",
    "\n",
    "# taxonomy_id = 107\n",
    "\n",
    "# min_price = 250.0\n",
    "# max_price = 750.0\n",
    "\n",
    "# tax107_filename = './Git_exclude/Data/tax107_all_paintings_from_USD250.csv'\n",
    "\n",
    "# #If the files with the listing data already exists for this taxonomy id, I load it:\n",
    "# try:\n",
    "#     tax107_all_paintings_df_test = pd.read_csv(tax107_filename)\n",
    "\n",
    "#     print('Loaded listings file for taxonomy id 107.')\n",
    "\n",
    "# except:\n",
    "\n",
    "#     #Let's launch it a first time to initialize the dataframe with the first 100 listings of a given type\n",
    "#     offset = 0\n",
    "#     tax107_all_paintings_df = get_100painting_listings(taxonomy_id,offset,min_price,max_price)\n",
    "    \n",
    "#     #Then iterate over all paintings of that same type, which number is given in the paintings taxonomy df filled earlier\n",
    "#     tax107_num_listings = paintings_taxonomy_df.set_index('Taxonomy Id').loc[107]['num_listings_250to750USD']\n",
    "#     tax107_offsets_list = range(100,tax107_num_listings,100)\n",
    "    \n",
    "#     for offset in tax107_offsets_list:\n",
    "#         tax107_100paintings_df = get_100painting_listings(107,offset,min_price,max_price)\n",
    "#         tax107_all_paintings_df = pd.concat([tax107_all_paintings_df, tax107_100paintings_df])\n",
    "#         time.sleep(1)\n",
    "    \n",
    "#     #save to .csv file\n",
    "#     tax107_all_paintings_df.to_csv(tax107_filename,index=False)\n",
    "        \n",
    "#     print('Saved listings file for taxonomy id 107.')    "
   ]
  },
  {
   "cell_type": "code",
   "execution_count": 52,
   "metadata": {},
   "outputs": [],
   "source": [
    "#Testing a more complicated iteration on taxonomy_id = 114, which has ~20000 entries, but I want to break the results into chunks of at most 12000 entries each\n",
    "#because request calls with offset>=12000 fail and so need to be handled appropriately\n",
    "\n",
    "# taxonomy_id = 114\n",
    "\n",
    "# tax114_filename = './Git_exclude/Data/tax114_all_paintings_from_USD250.csv'\n",
    "\n",
    "# #total number of listings:\n",
    "# tax_id_num_listings = paintings_taxonomy_df.set_index('Taxonomy Id').loc[taxonomy_id]['num_listings_250to750USD']\n",
    "# tax_id_num_listings\n",
    "\n",
    "# #starting offsets for each chunk:\n",
    "# starting_offsets = range(0,tax_id_num_listings,12000)\n",
    "\n",
    "# min_price = 250.0\n",
    "# max_price = 750.0\n",
    "\n",
    "# for i,starting_offset in enumerate(starting_offsets):\n",
    "    \n",
    "#     if i>0:\n",
    "#         tax114_next_csv_filename = tax114_filename[:-4]+f'_{i}.csv'\n",
    "#     else:\n",
    "#         tax114_next_csv_filename = tax114_filename\n",
    "    \n",
    "\n",
    "#     #If the files with the listing data already exists for this taxonomy id, I load it:\n",
    "#     try:\n",
    "#         tax_id_all_paintings_df = pd.read_csv(tax114_next_csv_filename)\n",
    "\n",
    "#         print(f'Loaded listings file {tax114_next_csv_filename} for taxonomy id {taxonomy_id}.')\n",
    "\n",
    "#     except:\n",
    "\n",
    "#         #Since the GET request seem to work only for offset<=12000, i.e. only for the first iteration of this code, for the following iterations\n",
    "#         #I use the following trick: after every multiple of 12000, I update the min price to look for and then use offset numbers modulo 12000\n",
    "        \n",
    "#         #Let's launch get_100painting_listings a first time to initialize the dataframe with the first 100 listings of a given type\n",
    "#         tax_id_all_paintings_df = get_100painting_listings(taxonomy_id,starting_offset%12000,min_price,max_price)\n",
    "\n",
    "#         #Then iterate attaching 100 painting listings at a time until reaching 12000 or the end\n",
    "#         if i<(len(starting_offsets)-1):\n",
    "#             tax_id_offsets_list = range(starting_offset+100,starting_offsets[i+1],100)\n",
    "#         else:\n",
    "#             tax_id_offsets_list = range(starting_offset+100,tax_id_num_listings,100)\n",
    "\n",
    "#         for offset in tax_id_offsets_list:\n",
    "#             tax_id_100paintings_df = get_100painting_listings(taxonomy_id,offset%12000,min_price,max_price)\n",
    "#             tax_id_all_paintings_df = pd.concat([tax_id_all_paintings_df, tax_id_100paintings_df])\n",
    "#             time.sleep(1)\n",
    "            \n",
    "#         #if I reached here and this is not the last call, update the min price to the next integer value so that the next block of 12000 offsets does not overlap with the previous\n",
    "#         #set of entries:\n",
    "#         if i<(len(starting_offsets)-1):\n",
    "#             last_price_field = tax_id_all_paintings_df.iloc[-1]['price']\n",
    "#             min_price = 0.1 + (last_price_field['amount']/last_price_field['divisor'])\n",
    "            \n",
    "#         #save to .csv file\n",
    "#         tax_id_all_paintings_df.to_csv(tax114_next_csv_filename,index=False)\n",
    "#         print(f'Saved listings file {tax114_next_csv_filename} for taxonomy id {taxonomy_id}.')\n",
    "\n",
    "    "
   ]
  },
  {
   "cell_type": "code",
   "execution_count": 145,
   "metadata": {},
   "outputs": [
    {
     "name": "stdout",
     "output_type": "stream",
     "text": [
      "Loaded listings file ./Git_exclude/Data/tax106_all_paintings_from_USD250.csv for taxonomy id 106.\n",
      "270.1\n",
      "Loaded listings file ./Git_exclude/Data/tax106_all_paintings_from_USD250_1.csv for taxonomy id 106.\n",
      "300.1\n",
      "Loaded listings file ./Git_exclude/Data/tax106_all_paintings_from_USD250_2.csv for taxonomy id 106.\n",
      "350.1\n",
      "Loaded listings file ./Git_exclude/Data/tax106_all_paintings_from_USD250_3.csv for taxonomy id 106.\n",
      "400.1\n",
      "Loaded listings file ./Git_exclude/Data/tax106_all_paintings_from_USD250_4.csv for taxonomy id 106.\n",
      "457.65000000000003\n",
      "Loaded listings file ./Git_exclude/Data/tax106_all_paintings_from_USD250_5.csv for taxonomy id 106.\n",
      "529.1\n",
      "Loaded listings file ./Git_exclude/Data/tax106_all_paintings_from_USD250_6.csv for taxonomy id 106.\n",
      "648.1\n",
      "Saved listings file ./Git_exclude/Data/tax106_all_paintings_from_USD250_7.csv for taxonomy id 106.\n"
     ]
    }
   ],
   "source": [
    "#Iterate over all taxonomies of interest\n",
    "\n",
    "taxonomies_of_interest = [106] #[106, 107, 108, 109, 110, 111, 112, 113, 114]\n",
    "\n",
    "for taxonomy_id in taxonomies_of_interest:\n",
    "\n",
    "    min_price = 250.0\n",
    "    max_price = 750.0\n",
    "    \n",
    "    csv_filename = f'./Git_exclude/Data/tax{taxonomy_id}_all_paintings_from_USD{int(min_price)}.csv'\n",
    "    \n",
    "    #total number of listings:\n",
    "    tax_id_num_listings = paintings_taxonomy_df.set_index('Taxonomy Id').loc[taxonomy_id]['num_listings_250to750USD']\n",
    "\n",
    "    #I want to break this into chunks of at most 12000 entries each (because requests with larger offsets fail)\n",
    "    \n",
    "    #starting offsets for each chunk:\n",
    "    starting_offsets = range(0,tax_id_num_listings,12000)\n",
    "    \n",
    "    for i,starting_offset in enumerate(starting_offsets):\n",
    "\n",
    "        if i>0:\n",
    "            next_csv_filename = csv_filename[:-4]+f'_{i}.csv'\n",
    "        else:\n",
    "            next_csv_filename = csv_filename\n",
    "\n",
    "        #If the files with the listing data already exists for this taxonomy id, I load it:\n",
    "        try:\n",
    "            tax_id_all_paintings_df = pd.read_csv(next_csv_filename)\n",
    "\n",
    "            print(f'Loaded listings file {next_csv_filename} for taxonomy id {taxonomy_id}.')\n",
    "            \n",
    "            #if I reached here and this is not the last call, update the min price to the next decimal value so that the next block of 12000 offsets does not overlap with the previous\n",
    "            #set of entries:\n",
    "            if i<(len(starting_offsets)-1):\n",
    "                last_price = tax_id_all_paintings_df.iloc[-1]['price']\n",
    "                min_price = 0.1 + last_price\n",
    "                print(min_price)\n",
    "\n",
    "        except:\n",
    "\n",
    "            #Since the GET request seem to work only for offset<=12000, i.e. only for the first iteration of this code, for the following iterations\n",
    "            #I use the following trick: after every multiple of 12000, I update the min price to look for and then use offset numbers modulo 12000\n",
    "\n",
    "            #Let's launch get_100painting_listings a first time to initialize the dataframe with the first 100 listings of a given type\n",
    "            tax_id_all_paintings_df = get_100painting_listings(taxonomy_id,starting_offset%12000,min_price,max_price)\n",
    "\n",
    "            #Then iterate attaching 100 painting listings at a time until reaching 12000 or the end\n",
    "            if i<(len(starting_offsets)-1):\n",
    "                tax_id_offsets_list = range(starting_offset+100,starting_offsets[i+1],100)\n",
    "            else:\n",
    "                tax_id_offsets_list = range(starting_offset+100,tax_id_num_listings,100)\n",
    "\n",
    "            for offset in tax_id_offsets_list:\n",
    "                tax_id_100paintings_df = get_100painting_listings(taxonomy_id,offset%12000,min_price,max_price)\n",
    "                tax_id_all_paintings_df = pd.concat([tax_id_all_paintings_df, tax_id_100paintings_df])\n",
    "                time.sleep(1)\n",
    "\n",
    "            #clean the price column by making it into a float and removing if currency is not USD    \n",
    "            tax_id_all_paintings_df['price']=tax_id_all_paintings_df['price'].apply(format_price_USD)\n",
    "            tax_id_all_paintings_df.dropna(axis=0,subset=['price'],inplace=True)\n",
    "                \n",
    "            #if I reached here and this is not the last call, update the min price to the next decimal value so that the next block of 12000 offsets does not overlap with the previous\n",
    "            #set of entries:\n",
    "            if i<(len(starting_offsets)-1):\n",
    "                last_price = tax_id_all_paintings_df.iloc[-1]['price']\n",
    "                min_price = 0.1 + last_price\n",
    "\n",
    "            #save to .csv file\n",
    "            tax_id_all_paintings_df.to_csv(next_csv_filename,index=False)\n",
    "            print(f'Saved listings file {next_csv_filename} for taxonomy id {taxonomy_id}.')\n"
   ]
  },
  {
   "cell_type": "code",
   "execution_count": 130,
   "metadata": {},
   "outputs": [
    {
     "data": {
      "text/plain": [
       "95172"
      ]
     },
     "execution_count": 130,
     "metadata": {},
     "output_type": "execute_result"
    }
   ],
   "source": [
    "tax_id_num_listings"
   ]
  },
  {
   "cell_type": "code",
   "execution_count": 131,
   "metadata": {},
   "outputs": [
    {
     "data": {
      "text/plain": [
       "[0, 12000, 24000, 36000, 48000, 60000, 72000, 84000]"
      ]
     },
     "execution_count": 131,
     "metadata": {},
     "output_type": "execute_result"
    }
   ],
   "source": [
    "list(range(0,tax_id_num_listings,12000))"
   ]
  },
  {
   "cell_type": "code",
   "execution_count": 138,
   "metadata": {},
   "outputs": [],
   "source": [
    "\n",
    "params = {'limit' :100, #listings to return (1-100, default 25)\n",
    "            'offset' : 8400,  #for skipping responses (default 0, it seems to work only up to 12000)\n",
    "            'sort_on': 'price',  #can be ('created', 'price', 'updated', default 'created')\n",
    "            'sort_order' : 'ascending', #'descending'\n",
    "             'min_price' : 648.1,\n",
    "             'max_price' : 750.0,\n",
    "             'taxonomy_id' : 106 #106 = acrylic, 107 = combination,  ...., 114=watercolor \n",
    "              }\n",
    "\n",
    "response_100paintings = requests.get(url_listings_active, params=params, headers = headers)\n",
    "\n",
    "#test = get_100painting_listings(106,8400,648.1,750.0)"
   ]
  },
  {
   "cell_type": "code",
   "execution_count": 140,
   "metadata": {},
   "outputs": [
    {
     "data": {
      "text/plain": [
       "'Bad Request'"
      ]
     },
     "execution_count": 140,
     "metadata": {},
     "output_type": "execute_result"
    }
   ],
   "source": [
    "response_100paintings.reason"
   ]
  },
  {
   "cell_type": "code",
   "execution_count": null,
   "metadata": {},
   "outputs": [],
   "source": []
  },
  {
   "cell_type": "code",
   "execution_count": null,
   "metadata": {},
   "outputs": [],
   "source": []
  },
  {
   "cell_type": "code",
   "execution_count": 405,
   "metadata": {},
   "outputs": [],
   "source": [
    "#check taxonomy 111:\n",
    "csv_filename = f'./Git_exclude/Data/tax{111}_all_paintings.csv'"
   ]
  },
  {
   "cell_type": "code",
   "execution_count": 406,
   "metadata": {},
   "outputs": [],
   "source": [
    "tax_111_all_paintings_df_test = pd.read_csv(csv_filename)"
   ]
  },
  {
   "cell_type": "code",
   "execution_count": 407,
   "metadata": {},
   "outputs": [
    {
     "data": {
      "text/plain": [
       "8100"
      ]
     },
     "execution_count": 407,
     "metadata": {},
     "output_type": "execute_result"
    }
   ],
   "source": [
    "len(tax_111_all_paintings_df_test)"
   ]
  },
  {
   "cell_type": "code",
   "execution_count": 414,
   "metadata": {},
   "outputs": [
    {
     "data": {
      "text/plain": [
       "0       {'amount': 25000, 'divisor': 100, 'currency_co...\n",
       "1       {'amount': 25000, 'divisor': 100, 'currency_co...\n",
       "2       {'amount': 25000, 'divisor': 100, 'currency_co...\n",
       "3       {'amount': 25000, 'divisor': 100, 'currency_co...\n",
       "4       {'amount': 25000, 'divisor': 100, 'currency_co...\n",
       "                              ...                        \n",
       "8095    {'amount': 65000, 'divisor': 100, 'currency_co...\n",
       "8096    {'amount': 65000, 'divisor': 100, 'currency_co...\n",
       "8097    {'amount': 65000, 'divisor': 100, 'currency_co...\n",
       "8098    {'amount': 65000, 'divisor': 100, 'currency_co...\n",
       "8099    {'amount': 65000, 'divisor': 100, 'currency_co...\n",
       "Name: price, Length: 8100, dtype: object"
      ]
     },
     "execution_count": 414,
     "metadata": {},
     "output_type": "execute_result"
    }
   ],
   "source": [
    "tax_111_all_paintings_df_test['price']"
   ]
  },
  {
   "cell_type": "code",
   "execution_count": null,
   "metadata": {},
   "outputs": [],
   "source": []
  },
  {
   "cell_type": "code",
   "execution_count": null,
   "metadata": {},
   "outputs": [],
   "source": []
  },
  {
   "cell_type": "code",
   "execution_count": null,
   "metadata": {},
   "outputs": [],
   "source": []
  },
  {
   "cell_type": "markdown",
   "metadata": {},
   "source": [
    "# PART 2: Download Listing IMAGE information (urls of jpeg images, mean colors, etc.)"
   ]
  },
  {
   "cell_type": "markdown",
   "metadata": {},
   "source": [
    "### Investigate information available about the images associated to a listing"
   ]
  },
  {
   "cell_type": "code",
   "execution_count": 143,
   "metadata": {},
   "outputs": [
    {
     "data": {
      "text/plain": [
       "26357829"
      ]
     },
     "execution_count": 143,
     "metadata": {},
     "output_type": "execute_result"
    }
   ],
   "source": [
    "#What I am interested though are the methods to get the listing image or images associated with a painting: getListingImage or get ListingImages\n",
    "#e.g. to get the images associated with the first painting above:\n",
    "\n",
    "first_100acrylic_paintings_df.iloc[0]['shop_id']"
   ]
  },
  {
   "cell_type": "code",
   "execution_count": 136,
   "metadata": {},
   "outputs": [
    {
     "data": {
      "text/plain": [
       "'https://openapi.etsy.com/v3/application/shops/26357829/listings/1016665059/images'"
      ]
     },
     "execution_count": 136,
     "metadata": {},
     "output_type": "execute_result"
    }
   ],
   "source": [
    "url_listing_images = 'https://openapi.etsy.com/v3/application/shops/{shop_id}/listings/{listing_id}/images'.format(shop_id=first_100acrylic_paintings_df.iloc[0]['shop_id'],listing_id=first_100acrylic_paintings_df.iloc[0]['listing_id'])\n",
    "url_listing_images"
   ]
  },
  {
   "cell_type": "code",
   "execution_count": 137,
   "metadata": {},
   "outputs": [],
   "source": [
    "response_listing_images = requests.get(url_listing_images, headers = headers)\n",
    "response_listing_images_data = response_listing_images.json() "
   ]
  },
  {
   "cell_type": "code",
   "execution_count": 147,
   "metadata": {},
   "outputs": [
    {
     "data": {
      "text/plain": [
       "{'count': 5,\n",
       " 'results': [{'listing_id': 1016665059,\n",
       "   'listing_image_id': 3120353037,\n",
       "   'hex_code': '5C6878',\n",
       "   'red': 92,\n",
       "   'green': 104,\n",
       "   'blue': 120,\n",
       "   'hue': 214,\n",
       "   'saturation': 23,\n",
       "   'brightness': 47,\n",
       "   'is_black_and_white': False,\n",
       "   'creation_tsz': 1620658270,\n",
       "   'rank': 1,\n",
       "   'url_75x75': 'https://i.etsystatic.com/26357829/r/il/8d32d2/3120353037/il_75x75.3120353037_hxif.jpg',\n",
       "   'url_170x135': 'https://i.etsystatic.com/26357829/r/il/8d32d2/3120353037/il_170x135.3120353037_hxif.jpg',\n",
       "   'url_570xN': 'https://i.etsystatic.com/26357829/r/il/8d32d2/3120353037/il_570xN.3120353037_hxif.jpg',\n",
       "   'url_fullxfull': 'https://i.etsystatic.com/26357829/r/il/8d32d2/3120353037/il_fullxfull.3120353037_hxif.jpg',\n",
       "   'full_height': 1000,\n",
       "   'full_width': 1000},\n",
       "  {'listing_id': 1016665059,\n",
       "   'listing_image_id': 3072618496,\n",
       "   'hex_code': '536869',\n",
       "   'red': 83,\n",
       "   'green': 104,\n",
       "   'blue': 105,\n",
       "   'hue': 183,\n",
       "   'saturation': 20,\n",
       "   'brightness': 41,\n",
       "   'is_black_and_white': False,\n",
       "   'creation_tsz': 1620658270,\n",
       "   'rank': 2,\n",
       "   'url_75x75': 'https://i.etsystatic.com/26357829/r/il/540db4/3072618496/il_75x75.3072618496_4zg7.jpg',\n",
       "   'url_170x135': 'https://i.etsystatic.com/26357829/r/il/540db4/3072618496/il_170x135.3072618496_4zg7.jpg',\n",
       "   'url_570xN': 'https://i.etsystatic.com/26357829/r/il/540db4/3072618496/il_570xN.3072618496_4zg7.jpg',\n",
       "   'url_fullxfull': 'https://i.etsystatic.com/26357829/r/il/540db4/3072618496/il_fullxfull.3072618496_4zg7.jpg',\n",
       "   'full_height': 2000,\n",
       "   'full_width': 2000},\n",
       "  {'listing_id': 1016665059,\n",
       "   'listing_image_id': 3120353963,\n",
       "   'hex_code': '86868C',\n",
       "   'red': 134,\n",
       "   'green': 134,\n",
       "   'blue': 140,\n",
       "   'hue': 240,\n",
       "   'saturation': 4,\n",
       "   'brightness': 54,\n",
       "   'is_black_and_white': False,\n",
       "   'creation_tsz': 1620658270,\n",
       "   'rank': 3,\n",
       "   'url_75x75': 'https://i.etsystatic.com/26357829/r/il/1f9250/3120353963/il_75x75.3120353963_mu8h.jpg',\n",
       "   'url_170x135': 'https://i.etsystatic.com/26357829/r/il/1f9250/3120353963/il_170x135.3120353963_mu8h.jpg',\n",
       "   'url_570xN': 'https://i.etsystatic.com/26357829/r/il/1f9250/3120353963/il_570xN.3120353963_mu8h.jpg',\n",
       "   'url_fullxfull': 'https://i.etsystatic.com/26357829/r/il/1f9250/3120353963/il_fullxfull.3120353963_mu8h.jpg',\n",
       "   'full_height': 1200,\n",
       "   'full_width': 960},\n",
       "  {'listing_id': 1016665059,\n",
       "   'listing_image_id': 3072619138,\n",
       "   'hex_code': '73767D',\n",
       "   'red': 115,\n",
       "   'green': 118,\n",
       "   'blue': 125,\n",
       "   'hue': 222,\n",
       "   'saturation': 8,\n",
       "   'brightness': 49,\n",
       "   'is_black_and_white': False,\n",
       "   'creation_tsz': 1620658270,\n",
       "   'rank': 4,\n",
       "   'url_75x75': 'https://i.etsystatic.com/26357829/r/il/9a144d/3072619138/il_75x75.3072619138_j8xc.jpg',\n",
       "   'url_170x135': 'https://i.etsystatic.com/26357829/r/il/9a144d/3072619138/il_170x135.3072619138_j8xc.jpg',\n",
       "   'url_570xN': 'https://i.etsystatic.com/26357829/r/il/9a144d/3072619138/il_570xN.3072619138_j8xc.jpg',\n",
       "   'url_fullxfull': 'https://i.etsystatic.com/26357829/r/il/9a144d/3072619138/il_fullxfull.3072619138_j8xc.jpg',\n",
       "   'full_height': 1334,\n",
       "   'full_width': 2000},\n",
       "  {'listing_id': 1016665059,\n",
       "   'listing_image_id': 3072619482,\n",
       "   'hex_code': '6E7A87',\n",
       "   'red': 110,\n",
       "   'green': 122,\n",
       "   'blue': 135,\n",
       "   'hue': 211,\n",
       "   'saturation': 18,\n",
       "   'brightness': 52,\n",
       "   'is_black_and_white': False,\n",
       "   'creation_tsz': 1620658270,\n",
       "   'rank': 5,\n",
       "   'url_75x75': 'https://i.etsystatic.com/26357829/r/il/59e9df/3072619482/il_75x75.3072619482_19hs.jpg',\n",
       "   'url_170x135': 'https://i.etsystatic.com/26357829/r/il/59e9df/3072619482/il_170x135.3072619482_19hs.jpg',\n",
       "   'url_570xN': 'https://i.etsystatic.com/26357829/r/il/59e9df/3072619482/il_570xN.3072619482_19hs.jpg',\n",
       "   'url_fullxfull': 'https://i.etsystatic.com/26357829/r/il/59e9df/3072619482/il_fullxfull.3072619482_19hs.jpg',\n",
       "   'full_height': 1260,\n",
       "   'full_width': 2000}]}"
      ]
     },
     "execution_count": 147,
     "metadata": {},
     "output_type": "execute_result"
    }
   ],
   "source": [
    "response_listing_images_data"
   ]
  },
  {
   "cell_type": "code",
   "execution_count": 148,
   "metadata": {},
   "outputs": [
    {
     "data": {
      "text/html": [
       "<div>\n",
       "<style scoped>\n",
       "    .dataframe tbody tr th:only-of-type {\n",
       "        vertical-align: middle;\n",
       "    }\n",
       "\n",
       "    .dataframe tbody tr th {\n",
       "        vertical-align: top;\n",
       "    }\n",
       "\n",
       "    .dataframe thead th {\n",
       "        text-align: right;\n",
       "    }\n",
       "</style>\n",
       "<table border=\"1\" class=\"dataframe\">\n",
       "  <thead>\n",
       "    <tr style=\"text-align: right;\">\n",
       "      <th></th>\n",
       "      <th>listing_id</th>\n",
       "      <th>listing_image_id</th>\n",
       "      <th>hex_code</th>\n",
       "      <th>red</th>\n",
       "      <th>green</th>\n",
       "      <th>blue</th>\n",
       "      <th>hue</th>\n",
       "      <th>saturation</th>\n",
       "      <th>brightness</th>\n",
       "      <th>is_black_and_white</th>\n",
       "      <th>creation_tsz</th>\n",
       "      <th>rank</th>\n",
       "      <th>url_75x75</th>\n",
       "      <th>url_170x135</th>\n",
       "      <th>url_570xN</th>\n",
       "      <th>url_fullxfull</th>\n",
       "      <th>full_height</th>\n",
       "      <th>full_width</th>\n",
       "    </tr>\n",
       "  </thead>\n",
       "  <tbody>\n",
       "    <tr>\n",
       "      <th>0</th>\n",
       "      <td>1016665059</td>\n",
       "      <td>3120353037</td>\n",
       "      <td>5C6878</td>\n",
       "      <td>92</td>\n",
       "      <td>104</td>\n",
       "      <td>120</td>\n",
       "      <td>214</td>\n",
       "      <td>23</td>\n",
       "      <td>47</td>\n",
       "      <td>False</td>\n",
       "      <td>1620658270</td>\n",
       "      <td>1</td>\n",
       "      <td>https://i.etsystatic.com/26357829/r/il/8d32d2/...</td>\n",
       "      <td>https://i.etsystatic.com/26357829/r/il/8d32d2/...</td>\n",
       "      <td>https://i.etsystatic.com/26357829/r/il/8d32d2/...</td>\n",
       "      <td>https://i.etsystatic.com/26357829/r/il/8d32d2/...</td>\n",
       "      <td>1000</td>\n",
       "      <td>1000</td>\n",
       "    </tr>\n",
       "    <tr>\n",
       "      <th>1</th>\n",
       "      <td>1016665059</td>\n",
       "      <td>3072618496</td>\n",
       "      <td>536869</td>\n",
       "      <td>83</td>\n",
       "      <td>104</td>\n",
       "      <td>105</td>\n",
       "      <td>183</td>\n",
       "      <td>20</td>\n",
       "      <td>41</td>\n",
       "      <td>False</td>\n",
       "      <td>1620658270</td>\n",
       "      <td>2</td>\n",
       "      <td>https://i.etsystatic.com/26357829/r/il/540db4/...</td>\n",
       "      <td>https://i.etsystatic.com/26357829/r/il/540db4/...</td>\n",
       "      <td>https://i.etsystatic.com/26357829/r/il/540db4/...</td>\n",
       "      <td>https://i.etsystatic.com/26357829/r/il/540db4/...</td>\n",
       "      <td>2000</td>\n",
       "      <td>2000</td>\n",
       "    </tr>\n",
       "    <tr>\n",
       "      <th>2</th>\n",
       "      <td>1016665059</td>\n",
       "      <td>3120353963</td>\n",
       "      <td>86868C</td>\n",
       "      <td>134</td>\n",
       "      <td>134</td>\n",
       "      <td>140</td>\n",
       "      <td>240</td>\n",
       "      <td>4</td>\n",
       "      <td>54</td>\n",
       "      <td>False</td>\n",
       "      <td>1620658270</td>\n",
       "      <td>3</td>\n",
       "      <td>https://i.etsystatic.com/26357829/r/il/1f9250/...</td>\n",
       "      <td>https://i.etsystatic.com/26357829/r/il/1f9250/...</td>\n",
       "      <td>https://i.etsystatic.com/26357829/r/il/1f9250/...</td>\n",
       "      <td>https://i.etsystatic.com/26357829/r/il/1f9250/...</td>\n",
       "      <td>1200</td>\n",
       "      <td>960</td>\n",
       "    </tr>\n",
       "    <tr>\n",
       "      <th>3</th>\n",
       "      <td>1016665059</td>\n",
       "      <td>3072619138</td>\n",
       "      <td>73767D</td>\n",
       "      <td>115</td>\n",
       "      <td>118</td>\n",
       "      <td>125</td>\n",
       "      <td>222</td>\n",
       "      <td>8</td>\n",
       "      <td>49</td>\n",
       "      <td>False</td>\n",
       "      <td>1620658270</td>\n",
       "      <td>4</td>\n",
       "      <td>https://i.etsystatic.com/26357829/r/il/9a144d/...</td>\n",
       "      <td>https://i.etsystatic.com/26357829/r/il/9a144d/...</td>\n",
       "      <td>https://i.etsystatic.com/26357829/r/il/9a144d/...</td>\n",
       "      <td>https://i.etsystatic.com/26357829/r/il/9a144d/...</td>\n",
       "      <td>1334</td>\n",
       "      <td>2000</td>\n",
       "    </tr>\n",
       "    <tr>\n",
       "      <th>4</th>\n",
       "      <td>1016665059</td>\n",
       "      <td>3072619482</td>\n",
       "      <td>6E7A87</td>\n",
       "      <td>110</td>\n",
       "      <td>122</td>\n",
       "      <td>135</td>\n",
       "      <td>211</td>\n",
       "      <td>18</td>\n",
       "      <td>52</td>\n",
       "      <td>False</td>\n",
       "      <td>1620658270</td>\n",
       "      <td>5</td>\n",
       "      <td>https://i.etsystatic.com/26357829/r/il/59e9df/...</td>\n",
       "      <td>https://i.etsystatic.com/26357829/r/il/59e9df/...</td>\n",
       "      <td>https://i.etsystatic.com/26357829/r/il/59e9df/...</td>\n",
       "      <td>https://i.etsystatic.com/26357829/r/il/59e9df/...</td>\n",
       "      <td>1260</td>\n",
       "      <td>2000</td>\n",
       "    </tr>\n",
       "  </tbody>\n",
       "</table>\n",
       "</div>"
      ],
      "text/plain": [
       "   listing_id  listing_image_id hex_code  red  green  blue  hue  saturation  \\\n",
       "0  1016665059        3120353037   5C6878   92    104   120  214          23   \n",
       "1  1016665059        3072618496   536869   83    104   105  183          20   \n",
       "2  1016665059        3120353963   86868C  134    134   140  240           4   \n",
       "3  1016665059        3072619138   73767D  115    118   125  222           8   \n",
       "4  1016665059        3072619482   6E7A87  110    122   135  211          18   \n",
       "\n",
       "   brightness  is_black_and_white  creation_tsz  rank  \\\n",
       "0          47               False    1620658270     1   \n",
       "1          41               False    1620658270     2   \n",
       "2          54               False    1620658270     3   \n",
       "3          49               False    1620658270     4   \n",
       "4          52               False    1620658270     5   \n",
       "\n",
       "                                           url_75x75  \\\n",
       "0  https://i.etsystatic.com/26357829/r/il/8d32d2/...   \n",
       "1  https://i.etsystatic.com/26357829/r/il/540db4/...   \n",
       "2  https://i.etsystatic.com/26357829/r/il/1f9250/...   \n",
       "3  https://i.etsystatic.com/26357829/r/il/9a144d/...   \n",
       "4  https://i.etsystatic.com/26357829/r/il/59e9df/...   \n",
       "\n",
       "                                         url_170x135  \\\n",
       "0  https://i.etsystatic.com/26357829/r/il/8d32d2/...   \n",
       "1  https://i.etsystatic.com/26357829/r/il/540db4/...   \n",
       "2  https://i.etsystatic.com/26357829/r/il/1f9250/...   \n",
       "3  https://i.etsystatic.com/26357829/r/il/9a144d/...   \n",
       "4  https://i.etsystatic.com/26357829/r/il/59e9df/...   \n",
       "\n",
       "                                           url_570xN  \\\n",
       "0  https://i.etsystatic.com/26357829/r/il/8d32d2/...   \n",
       "1  https://i.etsystatic.com/26357829/r/il/540db4/...   \n",
       "2  https://i.etsystatic.com/26357829/r/il/1f9250/...   \n",
       "3  https://i.etsystatic.com/26357829/r/il/9a144d/...   \n",
       "4  https://i.etsystatic.com/26357829/r/il/59e9df/...   \n",
       "\n",
       "                                       url_fullxfull  full_height  full_width  \n",
       "0  https://i.etsystatic.com/26357829/r/il/8d32d2/...         1000        1000  \n",
       "1  https://i.etsystatic.com/26357829/r/il/540db4/...         2000        2000  \n",
       "2  https://i.etsystatic.com/26357829/r/il/1f9250/...         1200         960  \n",
       "3  https://i.etsystatic.com/26357829/r/il/9a144d/...         1334        2000  \n",
       "4  https://i.etsystatic.com/26357829/r/il/59e9df/...         1260        2000  "
      ]
     },
     "execution_count": 148,
     "metadata": {},
     "output_type": "execute_result"
    }
   ],
   "source": [
    "sample_listing_all_images_df =  pd.DataFrame(response_listing_images_data['results'])\n",
    "sample_listing_all_images_df"
   ]
  },
  {
   "cell_type": "code",
   "execution_count": 140,
   "metadata": {},
   "outputs": [],
   "source": [
    "#Note that the mean colors are provided for each image... but are they the colors of the painting or of the image (in which the painted is often photographed in a room, etc.)?\n",
    "#Let's investigate"
   ]
  },
  {
   "cell_type": "code",
   "execution_count": 303,
   "metadata": {},
   "outputs": [
    {
     "data": {
      "text/plain": [
       "'https://openapi.etsy.com/v3/application/shops/26357829/listings/1016665059/images/3120353037'"
      ]
     },
     "execution_count": 303,
     "metadata": {},
     "output_type": "execute_result"
    }
   ],
   "source": [
    "#Let me check by importing for example the first image and computing average colors myself. \n",
    "#We'll download the 570xN version of the image\n",
    "url_listing_sample_image_570N = 'https://openapi.etsy.com/v3/application/shops/{shop_id}/listings/{listing_id}/images/{listing_image_id}'.format(shop_id=first_100acrylic_paintings_df.iloc[0]['shop_id'],\n",
    "                                                        listing_id=first_100acrylic_paintings_df.iloc[0]['listing_id'], listing_image_id=sample_listing_all_images_df['listing_image_id'].iloc[0])\n",
    "url_listing_sample_image_570N\n",
    "\n"
   ]
  },
  {
   "cell_type": "markdown",
   "metadata": {},
   "source": [
    "### Let's try to actually download a listing image"
   ]
  },
  {
   "cell_type": "code",
   "execution_count": 151,
   "metadata": {},
   "outputs": [],
   "source": [
    "response_listing_sample_image = requests.get(url_listing_sample_image_570N, headers = headers)"
   ]
  },
  {
   "cell_type": "code",
   "execution_count": 152,
   "metadata": {},
   "outputs": [
    {
     "data": {
      "text/plain": [
       "<Response [200]>"
      ]
     },
     "execution_count": 152,
     "metadata": {},
     "output_type": "execute_result"
    }
   ],
   "source": [
    "response_listing_sample_image"
   ]
  },
  {
   "cell_type": "code",
   "execution_count": 154,
   "metadata": {},
   "outputs": [],
   "source": [
    "response_listing_sample_image_data = response_listing_sample_image.json() "
   ]
  },
  {
   "cell_type": "code",
   "execution_count": 156,
   "metadata": {},
   "outputs": [
    {
     "data": {
      "text/plain": [
       "dict_keys(['listing_id', 'listing_image_id', 'hex_code', 'red', 'green', 'blue', 'hue', 'saturation', 'brightness', 'is_black_and_white', 'creation_tsz', 'rank', 'url_75x75', 'url_170x135', 'url_570xN', 'url_fullxfull', 'full_height', 'full_width'])"
      ]
     },
     "execution_count": 156,
     "metadata": {},
     "output_type": "execute_result"
    }
   ],
   "source": [
    "response_listing_sample_image_data.keys()"
   ]
  },
  {
   "cell_type": "code",
   "execution_count": null,
   "metadata": {},
   "outputs": [],
   "source": [
    "#The above doesn't return the image itself.. only metadata"
   ]
  },
  {
   "cell_type": "code",
   "execution_count": 159,
   "metadata": {},
   "outputs": [
    {
     "data": {
      "text/plain": [
       "'https://i.etsystatic.com/26357829/r/il/8d32d2/3120353037/il_570xN.3120353037_hxif.jpg'"
      ]
     },
     "execution_count": 159,
     "metadata": {},
     "output_type": "execute_result"
    }
   ],
   "source": [
    "url_listing_sample_image_570N_img = sample_listing_all_images_df['url_570xN'].iloc[0]\n",
    "url_listing_sample_image_570N_img"
   ]
  },
  {
   "cell_type": "code",
   "execution_count": 220,
   "metadata": {},
   "outputs": [
    {
     "data": {
      "text/plain": [
       "'https://i.etsystatic.com/26357829/r/il/8d32d2/3120353037/il_fullxfull.3120353037_hxif.jpg'"
      ]
     },
     "execution_count": 220,
     "metadata": {},
     "output_type": "execute_result"
    }
   ],
   "source": [
    "url_listing_sample_image_full_img = sample_listing_all_images_df['url_fullxfull'].iloc[0]\n",
    "url_listing_sample_image_full_img"
   ]
  },
  {
   "cell_type": "code",
   "execution_count": 163,
   "metadata": {},
   "outputs": [],
   "source": [
    "import os\n",
    "\n",
    "#may need a decorator here to prevent running this if it already ran before, since this is the time consuming step \n",
    "def download_image(url, pathname):\n",
    "    \"\"\"\n",
    "    Downloads a file given an URL and puts it in the folder `pathname`\n",
    "    \"\"\"\n",
    "    # if path doesn't exist, make that path dir\n",
    "    if not os.path.isdir(pathname):\n",
    "        os.makedirs(pathname)\n",
    "    # get the file name\n",
    "    filename = os.path.join(pathname, url.split(\"/\")[-1])\n",
    "    # download the body of response by chunk, not immediately\n",
    "    with requests.get(url, stream=True) as r:\n",
    "        r.raise_for_status()\n",
    "        with open(filename, 'wb') as f:\n",
    "            for chunk in r.iter_content(chunk_size=8192): \n",
    "                # If you have chunk encoded response uncomment if\n",
    "                # and set chunk_size parameter to None.\n",
    "                #if chunk: \n",
    "                f.write(chunk)\n",
    "    return filename\n",
    "\n",
    "\n",
    "# import tqdm\n",
    "#\n",
    "# def download_image(url, pathname):\n",
    "#     \"\"\"\n",
    "#     Downloads a file given an URL and puts it in the folder `pathname`\n",
    "#     \"\"\"\n",
    "#     # if path doesn't exist, make that path dir\n",
    "#     if not os.path.isdir(pathname):\n",
    "#         os.makedirs(pathname)\n",
    "#     # download the body of response by chunk, not immediately\n",
    "#     response = requests.get(url, stream=True)\n",
    "#     # get the total file size\n",
    "#     file_size = int(response.headers.get(\"Content-Length\", 0))\n",
    "#     # get the file name\n",
    "#     filename = os.path.join(pathname, url.split(\"/\")[-1])\n",
    "#     # progress bar, changing the unit to bytes instead of iteration (default by tqdm)\n",
    "#     progress = tqdm(response.iter_content(1024), f\"Downloading {filename}\", total=file_size, unit=\"B\", unit_scale=True, unit_divisor=1024)\n",
    "#     with open(filename, \"wb\") as f:\n",
    "#         for data in progress.iterable:\n",
    "#             # write data read to the file\n",
    "#             f.write(data)\n",
    "#             # update the progress bar manually\n",
    "#             progress.update(len(data))\n"
   ]
  },
  {
   "cell_type": "code",
   "execution_count": 164,
   "metadata": {},
   "outputs": [
    {
     "data": {
      "text/plain": [
       "'./Git_exclude/Painting_images/il_570xN.3120353037_hxif.jpg'"
      ]
     },
     "execution_count": 164,
     "metadata": {},
     "output_type": "execute_result"
    }
   ],
   "source": [
    "#Test the above code out:\n",
    "\n",
    "images_folder = './Git_exclude/Painting_images/'\n",
    "\n",
    "sample_image_570N = download_image(url_listing_sample_image_570N_img,images_folder)\n"
   ]
  },
  {
   "cell_type": "code",
   "execution_count": 177,
   "metadata": {},
   "outputs": [],
   "source": [
    "#Sample Image processing of the image to make sure to isolate the painting, then computing stats and pass the image to further transformer downstreams.\n",
    "import matplotlib.pyplot as plt\n",
    "import matplotlib.image as mpimg\n",
    "%matplotlib inline\n",
    "\n",
    "img = mpimg.imread('./Git_exclude/Painting_images/il_570xN.3120353037_hxif.jpg')"
   ]
  },
  {
   "cell_type": "code",
   "execution_count": 178,
   "metadata": {},
   "outputs": [
    {
     "data": {
      "text/plain": [
       "dtype('uint8')"
      ]
     },
     "execution_count": 178,
     "metadata": {},
     "output_type": "execute_result"
    }
   ],
   "source": [
    "img.dtype"
   ]
  },
  {
   "cell_type": "code",
   "execution_count": 196,
   "metadata": {},
   "outputs": [
    {
     "data": {
      "image/png": "[encoded data removed]",
      "text/plain": [
       "<Figure size 432x288 with 1 Axes>"
      ]
     },
     "metadata": {
      "needs_background": "light"
     },
     "output_type": "display_data"
    }
   ],
   "source": [
    "imgplot = plt.imshow(img)"
   ]
  },
  {
   "cell_type": "code",
   "execution_count": 304,
   "metadata": {},
   "outputs": [
    {
     "data": {
      "text/plain": [
       "(570, 570, 3)"
      ]
     },
     "execution_count": 304,
     "metadata": {},
     "output_type": "execute_result"
    }
   ],
   "source": [
    "img.shape"
   ]
  },
  {
   "cell_type": "markdown",
   "metadata": {},
   "source": [
    "#### Let's check the color properties of the image"
   ]
  },
  {
   "cell_type": "code",
   "execution_count": 227,
   "metadata": {},
   "outputs": [],
   "source": [
    "#Let's check if the mean colors actually match those reported by the /images request \n",
    "import numpy as np\n",
    "\n",
    "r_mean, g_mean, b_mean = np.mean(img,axis=(0,1))\n"
   ]
  },
  {
   "cell_type": "code",
   "execution_count": 228,
   "metadata": {},
   "outputs": [
    {
     "data": {
      "text/plain": [
       "175.06739919975377"
      ]
     },
     "execution_count": 228,
     "metadata": {},
     "output_type": "execute_result"
    }
   ],
   "source": [
    "r_mean"
   ]
  },
  {
   "cell_type": "code",
   "execution_count": 229,
   "metadata": {},
   "outputs": [
    {
     "data": {
      "text/plain": [
       "180.66092336103415"
      ]
     },
     "execution_count": 229,
     "metadata": {},
     "output_type": "execute_result"
    }
   ],
   "source": [
    "g_mean"
   ]
  },
  {
   "cell_type": "code",
   "execution_count": 261,
   "metadata": {},
   "outputs": [
    {
     "data": {
      "text/plain": [
       "187.952004"
      ]
     },
     "execution_count": 261,
     "metadata": {},
     "output_type": "execute_result"
    }
   ],
   "source": [
    "b_mean"
   ]
  },
  {
   "cell_type": "code",
   "execution_count": 202,
   "metadata": {},
   "outputs": [
    {
     "data": {
      "text/plain": [
       "<matplotlib.image.AxesImage at 0x232b899a2e0>"
      ]
     },
     "execution_count": 202,
     "metadata": {},
     "output_type": "execute_result"
    },
    {
     "data": {
      "image/png": "[encoded data removed]",
      "text/plain": [
       "<Figure size 432x288 with 1 Axes>"
      ]
     },
     "metadata": {
      "needs_background": "light"
     },
     "output_type": "display_data"
    }
   ],
   "source": [
    "img_red = img.copy()\n",
    "img_red[:,:,1:]=0\n",
    "plt.imshow(img_red)\n",
    "\n",
    "# #Alternatively:\n",
    "# img_red = np.zeros(img.shape,dtype=int)\n",
    "# img_red[:,:,0]=img[:,:,0]\n",
    "# plt.imshow(img_red)"
   ]
  },
  {
   "cell_type": "code",
   "execution_count": 235,
   "metadata": {},
   "outputs": [
    {
     "data": {
      "text/plain": [
       "array([175.0673992,   0.       ,   0.       ])"
      ]
     },
     "execution_count": 235,
     "metadata": {},
     "output_type": "execute_result"
    }
   ],
   "source": [
    "np.mean(img_red,axis=(0,1))"
   ]
  },
  {
   "cell_type": "code",
   "execution_count": 211,
   "metadata": {},
   "outputs": [
    {
     "data": {
      "text/plain": [
       "<matplotlib.image.AxesImage at 0x232b896fd30>"
      ]
     },
     "execution_count": 211,
     "metadata": {},
     "output_type": "execute_result"
    },
    {
     "data": {
      "image/png": "[encoded data removed]",
      "text/plain": [
       "<Figure size 432x288 with 1 Axes>"
      ]
     },
     "metadata": {
      "needs_background": "light"
     },
     "output_type": "display_data"
    }
   ],
   "source": [
    "img_green = img.copy()\n",
    "img_green[:,:,0]=0\n",
    "img_green[:,:,2]=0\n",
    "plt.imshow(img_green)\n",
    "\n",
    "# # #Alternatively:\n",
    "# img_green = np.zeros(img.shape,dtype=int)\n",
    "# img_green[:,:,1]=img[:,:,1]\n",
    "# plt.imshow(img_green)"
   ]
  },
  {
   "cell_type": "code",
   "execution_count": 236,
   "metadata": {},
   "outputs": [
    {
     "data": {
      "text/plain": [
       "array([  0.        , 180.66092336,   0.        ])"
      ]
     },
     "execution_count": 236,
     "metadata": {},
     "output_type": "execute_result"
    }
   ],
   "source": [
    "np.mean(img_green,axis=(0,1))"
   ]
  },
  {
   "cell_type": "code",
   "execution_count": 218,
   "metadata": {},
   "outputs": [
    {
     "data": {
      "text/plain": [
       "<matplotlib.image.AxesImage at 0x232b9b10400>"
      ]
     },
     "execution_count": 218,
     "metadata": {},
     "output_type": "execute_result"
    },
    {
     "data": {
      "image/png": "[encoded data removed]",
      "text/plain": [
       "<Figure size 432x288 with 1 Axes>"
      ]
     },
     "metadata": {
      "needs_background": "light"
     },
     "output_type": "display_data"
    }
   ],
   "source": [
    "img_blue = img.copy()\n",
    "img_blue[:,:,:2]=0\n",
    "plt.imshow(img_blue)\n",
    "\n",
    "# # #Alternatively:\n",
    "# img_blue = np.zeros(img.shape,dtype=int)\n",
    "# img_blue[:,:,2]=img[:,:,2]\n",
    "# plt.imshow(img_blue)"
   ]
  },
  {
   "cell_type": "code",
   "execution_count": 237,
   "metadata": {},
   "outputs": [
    {
     "data": {
      "text/plain": [
       "array([  0.        ,   0.        , 187.91155125])"
      ]
     },
     "execution_count": 237,
     "metadata": {},
     "output_type": "execute_result"
    }
   ],
   "source": [
    "np.mean(img_blue,axis=(0,1))"
   ]
  },
  {
   "cell_type": "code",
   "execution_count": 216,
   "metadata": {},
   "outputs": [],
   "source": [
    "img_test = img_red + img_green + img_blue"
   ]
  },
  {
   "cell_type": "code",
   "execution_count": 217,
   "metadata": {},
   "outputs": [
    {
     "data": {
      "text/plain": [
       "<matplotlib.image.AxesImage at 0x232b9ab9160>"
      ]
     },
     "execution_count": 217,
     "metadata": {},
     "output_type": "execute_result"
    },
    {
     "data": {
      "image/png": "[encoded data removed]",
      "text/plain": [
       "<Figure size 432x288 with 1 Axes>"
      ]
     },
     "metadata": {
      "needs_background": "light"
     },
     "output_type": "display_data"
    }
   ],
   "source": [
    "plt.imshow(img_test)"
   ]
  },
  {
   "cell_type": "code",
   "execution_count": 221,
   "metadata": {},
   "outputs": [],
   "source": [
    "#Note that the average colors don't match those reported... maybe because I am using the image resized to weird dimensions?"
   ]
  },
  {
   "cell_type": "code",
   "execution_count": 222,
   "metadata": {},
   "outputs": [],
   "source": [
    "#Let's try to load the full size image and see if that works:\n",
    "sample_image_full = download_image(url_listing_sample_image_full_img,images_folder)"
   ]
  },
  {
   "cell_type": "code",
   "execution_count": 240,
   "metadata": {},
   "outputs": [
    {
     "data": {
      "text/plain": [
       "'./Git_exclude/Painting_images/il_fullxfull.3120353037_hxif.jpg'"
      ]
     },
     "execution_count": 240,
     "metadata": {},
     "output_type": "execute_result"
    }
   ],
   "source": [
    "sample_image_full"
   ]
  },
  {
   "cell_type": "code",
   "execution_count": 241,
   "metadata": {},
   "outputs": [],
   "source": [
    "img_full = mpimg.imread(sample_image_full)"
   ]
  },
  {
   "cell_type": "code",
   "execution_count": 242,
   "metadata": {},
   "outputs": [
    {
     "data": {
      "image/png": "[encoded data removed]",
      "text/plain": [
       "<Figure size 432x288 with 1 Axes>"
      ]
     },
     "metadata": {
      "needs_background": "light"
     },
     "output_type": "display_data"
    }
   ],
   "source": [
    "imgplot_full = plt.imshow(img_full)"
   ]
  },
  {
   "cell_type": "code",
   "execution_count": 244,
   "metadata": {},
   "outputs": [
    {
     "data": {
      "text/plain": [
       "(1000, 1000, 3)"
      ]
     },
     "execution_count": 244,
     "metadata": {},
     "output_type": "execute_result"
    }
   ],
   "source": [
    "img_full.shape"
   ]
  },
  {
   "cell_type": "code",
   "execution_count": 245,
   "metadata": {},
   "outputs": [],
   "source": [
    "r_mean, g_mean, b_mean = np.mean(img_full,axis=(0,1))"
   ]
  },
  {
   "cell_type": "code",
   "execution_count": 262,
   "metadata": {},
   "outputs": [
    {
     "data": {
      "text/plain": [
       "175.070757"
      ]
     },
     "execution_count": 262,
     "metadata": {},
     "output_type": "execute_result"
    }
   ],
   "source": [
    "r_mean"
   ]
  },
  {
   "cell_type": "code",
   "execution_count": 264,
   "metadata": {},
   "outputs": [],
   "source": [
    "r_mean_nocontour, g_mean_nocontour, b_mean_nocontour = np.mean(img_full[200:800,150:850,:],axis=(0,1))"
   ]
  },
  {
   "cell_type": "code",
   "execution_count": 266,
   "metadata": {},
   "outputs": [
    {
     "data": {
      "text/plain": [
       "110.41776666666667"
      ]
     },
     "execution_count": 266,
     "metadata": {},
     "output_type": "execute_result"
    }
   ],
   "source": [
    "r_mean_nocontour"
   ]
  },
  {
   "cell_type": "code",
   "execution_count": 268,
   "metadata": {},
   "outputs": [
    {
     "data": {
      "text/plain": [
       "121.07627380952381"
      ]
     },
     "execution_count": 268,
     "metadata": {},
     "output_type": "execute_result"
    }
   ],
   "source": [
    "g_mean_nocontour"
   ]
  },
  {
   "cell_type": "code",
   "execution_count": 269,
   "metadata": {},
   "outputs": [
    {
     "data": {
      "text/plain": [
       "134.62788333333333"
      ]
     },
     "execution_count": 269,
     "metadata": {},
     "output_type": "execute_result"
    }
   ],
   "source": [
    "b_mean_nocontour"
   ]
  },
  {
   "cell_type": "code",
   "execution_count": 271,
   "metadata": {},
   "outputs": [
    {
     "data": {
      "text/plain": [
       "<matplotlib.image.AxesImage at 0x232bb3297f0>"
      ]
     },
     "execution_count": 271,
     "metadata": {},
     "output_type": "execute_result"
    },
    {
     "data": {
      "image/png": "[encoded data removed]",
      "text/plain": [
       "<Figure size 432x288 with 1 Axes>"
      ]
     },
     "metadata": {
      "needs_background": "light"
     },
     "output_type": "display_data"
    }
   ],
   "source": [
    "#Maybe the average is computed after removing all white pixels that surround the true image?\n",
    "\n",
    "img_no_contour = np.zeros(img_full.shape,dtype=int)\n",
    "\n",
    "img_no_contour[np.where(img_full!=[255,255,255])] = img_full[np.where(img_full!=[255,255,255])]\n",
    "\n",
    "plt.imshow(img_no_contour)\n"
   ]
  },
  {
   "cell_type": "code",
   "execution_count": 273,
   "metadata": {},
   "outputs": [
    {
     "data": {
      "text/plain": [
       "85.832232"
      ]
     },
     "execution_count": 273,
     "metadata": {},
     "output_type": "execute_result"
    }
   ],
   "source": [
    "r_mean_no_contour, g_mean_no_contour, b_mean_no_contour = np.mean(img_no_contour,axis=(0,1))\n",
    "r_mean_no_contour"
   ]
  },
  {
   "cell_type": "code",
   "execution_count": 275,
   "metadata": {},
   "outputs": [
    {
     "data": {
      "text/plain": [
       "91.4604"
      ]
     },
     "execution_count": 275,
     "metadata": {},
     "output_type": "execute_result"
    }
   ],
   "source": [
    "g_mean_no_contour"
   ]
  },
  {
   "cell_type": "code",
   "execution_count": 282,
   "metadata": {},
   "outputs": [
    {
     "data": {
      "text/plain": [
       "98.648964"
      ]
     },
     "execution_count": 282,
     "metadata": {},
     "output_type": "execute_result"
    }
   ],
   "source": [
    "b_mean_no_contour"
   ]
  },
  {
   "cell_type": "code",
   "execution_count": null,
   "metadata": {},
   "outputs": [],
   "source": [
    "r_mean, g_mean, b_mean "
   ]
  },
  {
   "cell_type": "code",
   "execution_count": 290,
   "metadata": {},
   "outputs": [
    {
     "data": {
      "text/plain": [
       "<matplotlib.image.AxesImage at 0x232bb42e640>"
      ]
     },
     "execution_count": 290,
     "metadata": {},
     "output_type": "execute_result"
    },
    {
     "data": {
      "image/png": "[encoded data removed]",
      "text/plain": [
       "<Figure size 432x288 with 1 Axes>"
      ]
     },
     "metadata": {
      "needs_background": "light"
     },
     "output_type": "display_data"
    }
   ],
   "source": [
    "img_mean = np.zeros(img_full.shape,dtype=int)\n",
    "\n",
    "img_mean[:,:,0] = r_mean_no_contour #r_mean\n",
    "img_mean[:,:,1] = g_mean_no_contour #g_mean\n",
    "img_mean[:,:,2] = b_mean_no_contour #b_mean\n",
    "\n",
    "plt.imshow(img_mean)"
   ]
  },
  {
   "cell_type": "markdown",
   "metadata": {},
   "source": [
    "### Try a different image of the same listing, with background"
   ]
  },
  {
   "cell_type": "code",
   "execution_count": 291,
   "metadata": {},
   "outputs": [
    {
     "data": {
      "text/plain": [
       "'https://openapi.etsy.com/v3/application/shops/26357829/listings/1016665059/images/3072618496'"
      ]
     },
     "execution_count": 291,
     "metadata": {},
     "output_type": "execute_result"
    }
   ],
   "source": [
    "url_listing_sample_image_570N_alt = 'https://openapi.etsy.com/v3/application/shops/{shop_id}/listings/{listing_id}/images/{listing_image_id}'.format(shop_id=first_100acrylic_paintings_df.iloc[0]['shop_id'],\n",
    "                                                        listing_id=first_100acrylic_paintings_df.iloc[0]['listing_id'], listing_image_id=sample_listing_all_images_df['listing_image_id'].iloc[1])\n",
    "url_listing_sample_image_570N_alt"
   ]
  },
  {
   "cell_type": "code",
   "execution_count": 292,
   "metadata": {},
   "outputs": [
    {
     "data": {
      "text/plain": [
       "<Response [200]>"
      ]
     },
     "execution_count": 292,
     "metadata": {},
     "output_type": "execute_result"
    }
   ],
   "source": [
    "response_listing_sample_image_alt = requests.get(url_listing_sample_image_570N_alt, headers = headers)\n",
    "response_listing_sample_image_alt\n"
   ]
  },
  {
   "cell_type": "code",
   "execution_count": 293,
   "metadata": {},
   "outputs": [
    {
     "data": {
      "text/plain": [
       "dict_keys(['listing_id', 'listing_image_id', 'hex_code', 'red', 'green', 'blue', 'hue', 'saturation', 'brightness', 'is_black_and_white', 'creation_tsz', 'rank', 'url_75x75', 'url_170x135', 'url_570xN', 'url_fullxfull', 'full_height', 'full_width'])"
      ]
     },
     "execution_count": 293,
     "metadata": {},
     "output_type": "execute_result"
    }
   ],
   "source": [
    "response_listing_sample_image_alt_data = response_listing_sample_image_alt.json() \n",
    "response_listing_sample_image_alt_data.keys()"
   ]
  },
  {
   "cell_type": "code",
   "execution_count": 294,
   "metadata": {},
   "outputs": [
    {
     "data": {
      "text/plain": [
       "'https://i.etsystatic.com/26357829/r/il/540db4/3072618496/il_570xN.3072618496_4zg7.jpg'"
      ]
     },
     "execution_count": 294,
     "metadata": {},
     "output_type": "execute_result"
    }
   ],
   "source": [
    "#The above doesn't return the image itself.. only metadata\n",
    "url_listing_sample_image_570N_img_alt = sample_listing_all_images_df['url_570xN'].iloc[1]\n",
    "url_listing_sample_image_570N_img_alt"
   ]
  },
  {
   "cell_type": "code",
   "execution_count": 296,
   "metadata": {},
   "outputs": [],
   "source": [
    "images_folder = './Git_exclude/Painting_images/'\n",
    "sample_image_570N_alt = download_image(url_listing_sample_image_570N_img_alt,images_folder)\n",
    "\n",
    "img_alt = mpimg.imread(sample_image_570N_alt)"
   ]
  },
  {
   "cell_type": "code",
   "execution_count": 297,
   "metadata": {},
   "outputs": [],
   "source": [
    "img_alt = mpimg.imread(sample_image_570N_alt)"
   ]
  },
  {
   "cell_type": "code",
   "execution_count": 298,
   "metadata": {},
   "outputs": [
    {
     "data": {
      "text/plain": [
       "<matplotlib.image.AxesImage at 0x232bb48e460>"
      ]
     },
     "execution_count": 298,
     "metadata": {},
     "output_type": "execute_result"
    },
    {
     "data": {
      "image/png": "[encoded data removed]",
      "text/plain": [
       "<Figure size 432x288 with 1 Axes>"
      ]
     },
     "metadata": {
      "needs_background": "light"
     },
     "output_type": "display_data"
    }
   ],
   "source": [
    "img_alt_mean = np.zeros(img_full.shape,dtype=int)\n",
    "\n",
    "r_mean_alt, g_mean_alt, b_mean_alt = np.mean(img_alt,axis=(0,1))\n",
    "\n",
    "img_alt_mean[:,:,0] = r_mean_alt #r_mean\n",
    "img_alt_mean[:,:,1] = g_mean_alt #g_mean\n",
    "img_alt_mean[:,:,2] = b_mean_alt #b_mean\n",
    "\n",
    "plt.imshow(img_alt_mean)"
   ]
  },
  {
   "cell_type": "code",
   "execution_count": 300,
   "metadata": {},
   "outputs": [
    {
     "data": {
      "text/plain": [
       "<matplotlib.image.AxesImage at 0x232bc355eb0>"
      ]
     },
     "execution_count": 300,
     "metadata": {},
     "output_type": "execute_result"
    },
    {
     "data": {
      "image/png": "[encoded data removed]",
      "text/plain": [
       "<Figure size 432x288 with 1 Axes>"
      ]
     },
     "metadata": {
      "needs_background": "light"
     },
     "output_type": "display_data"
    }
   ],
   "source": [
    "#So the manual average of the image does in fact pick up the background mostly\n",
    "#Is it the same for the numbers returned by the GET request?\n",
    "\n",
    "img_alt_mean_listing = np.zeros(img_full.shape,dtype=int)\n",
    "\n",
    "r_mean_alt_listing = sample_listing_all_images_df['red'].iloc[1]\n",
    "g_mean_alt_listing = sample_listing_all_images_df['green'].iloc[1]\n",
    "b_mean_alt_listing = sample_listing_all_images_df['blue'].iloc[1]\n",
    "\n",
    "img_alt_mean_listing[:,:,0] = r_mean_alt_listing #r_mean\n",
    "img_alt_mean_listing[:,:,1] = g_mean_alt_listing #g_mean\n",
    "img_alt_mean_listing[:,:,2] = b_mean_alt_listing #b_mean\n",
    "\n",
    "plt.imshow(img_alt_mean_listing)\n",
    "\n",
    "#So the mean colors returned by the listing seems to be robust to the profile, and I can consider it reliable for the most part.\n"
   ]
  },
  {
   "cell_type": "code",
   "execution_count": null,
   "metadata": {},
   "outputs": [],
   "source": []
  },
  {
   "cell_type": "code",
   "execution_count": null,
   "metadata": {},
   "outputs": [],
   "source": []
  },
  {
   "cell_type": "markdown",
   "metadata": {},
   "source": [
    "### Get variation images"
   ]
  },
  {
   "cell_type": "code",
   "execution_count": 295,
   "metadata": {},
   "outputs": [
    {
     "data": {
      "text/plain": [
       "'https://openapi.etsy.com/v3/application/shops/26357829/listings/1016665059/variation-images'"
      ]
     },
     "execution_count": 295,
     "metadata": {},
     "output_type": "execute_result"
    }
   ],
   "source": [
    "#Get all variation images for this listing, maybe there's another image with the right size without background?\n",
    "\n",
    "url_listing_variation_images = 'https://openapi.etsy.com/v3/application/shops/{shop_id}/listings/{listing_id}/variation-images'.format(shop_id=first_100acrylic_paintings_df.iloc[0]['shop_id'],\n",
    "                                                        listing_id=first_100acrylic_paintings_df.iloc[0]['listing_id'])\n",
    "url_listing_variation_images"
   ]
  },
  {
   "cell_type": "code",
   "execution_count": 248,
   "metadata": {},
   "outputs": [],
   "source": [
    "response_listing_variation_images = requests.get(url_listing_variation_images, headers = headers)"
   ]
  },
  {
   "cell_type": "code",
   "execution_count": 250,
   "metadata": {},
   "outputs": [],
   "source": [
    "response_listing_variation_images = response_listing_variation_imagese"
   ]
  },
  {
   "cell_type": "code",
   "execution_count": 251,
   "metadata": {},
   "outputs": [],
   "source": [
    "response_listing_variation_images_data = response_listing_variation_images.json() "
   ]
  },
  {
   "cell_type": "code",
   "execution_count": 252,
   "metadata": {},
   "outputs": [
    {
     "data": {
      "text/plain": [
       "dict_keys(['count', 'results'])"
      ]
     },
     "execution_count": 252,
     "metadata": {},
     "output_type": "execute_result"
    }
   ],
   "source": [
    "response_listing_variation_images_data.keys()"
   ]
  },
  {
   "cell_type": "code",
   "execution_count": 285,
   "metadata": {},
   "outputs": [
    {
     "data": {
      "text/plain": [
       "0"
      ]
     },
     "execution_count": 285,
     "metadata": {},
     "output_type": "execute_result"
    }
   ],
   "source": [
    "response_listing_variation_images_data['count']"
   ]
  },
  {
   "cell_type": "markdown",
   "metadata": {},
   "source": [
    "### Sample image processing with PIL "
   ]
  },
  {
   "cell_type": "code",
   "execution_count": 281,
   "metadata": {},
   "outputs": [
    {
     "name": "stdout",
     "output_type": "stream",
     "text": [
      "[7150.8723044469525, 6262.51064384, 5368.759188383988]\n"
     ]
    }
   ],
   "source": [
    "from PIL import ImageFilter, Image, ImageStat\n",
    "\n",
    "with Image.open(sample_image_full) as im:\n",
    "    #im.show()\n",
    "    #im_new = im.filter(ImageFilter.FIND_EDGES)\n",
    "    #im_new.show()\n",
    "    print(ImageStat.Stat(im).var)\n",
    "    \n"
   ]
  },
  {
   "cell_type": "code",
   "execution_count": 289,
   "metadata": {},
   "outputs": [
    {
     "name": "stdout",
     "output_type": "stream",
     "text": [
      "[175.070757, 180.7104, 187.952004]\n"
     ]
    }
   ],
   "source": [
    "print(ImageStat.Stat(im).mean)"
   ]
  },
  {
   "cell_type": "code",
   "execution_count": null,
   "metadata": {},
   "outputs": [],
   "source": []
  }
 ],
 "metadata": {
  "kernelspec": {
   "display_name": "Python 3",
   "language": "python",
   "name": "python3"
  },
  "language_info": {
   "codemirror_mode": {
    "name": "ipython",
    "version": 3
   },
   "file_extension": ".py",
   "mimetype": "text/x-python",
   "name": "python",
   "nbconvert_exporter": "python",
   "pygments_lexer": "ipython3",
   "version": "3.8.5"
  }
 },
 "nbformat": 4,
 "nbformat_minor": 4
}
