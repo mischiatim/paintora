{
 "cells": [
  {
   "cell_type": "code",
   "execution_count": 11,
   "metadata": {},
   "outputs": [],
   "source": [
    "import requests\n",
    "import json \n",
    "from dotenv import dotenv_values\n",
    "\n",
    "import pandas as pd"
   ]
  },
  {
   "cell_type": "code",
   "execution_count": 12,
   "metadata": {},
   "outputs": [],
   "source": [
    "#Read private API key \n",
    "#Note: will need to deal with this with Heroku's config vars for deployment\n",
    "config = dotenv_values('.env')\n",
    "etsy_key = config['x-api-key']\n"
   ]
  },
  {
   "cell_type": "code",
   "execution_count": 13,
   "metadata": {},
   "outputs": [],
   "source": [
    "headers = { 'x-api-key' : etsy_key }"
   ]
  },
  {
   "cell_type": "markdown",
   "metadata": {},
   "source": [
    "# Part I: Download basic listing data (price, dimensions, materials, etc.) for all paintings for sale within a certain price range. "
   ]
  },
  {
   "cell_type": "markdown",
   "metadata": {},
   "source": [
    "## Preparatory Steps"
   ]
  },
  {
   "cell_type": "markdown",
   "metadata": {},
   "source": [
    "### Get the full hierarchy tree of seller taxonomy nodes, to find the one I am interested in (paintings)"
   ]
  },
  {
   "cell_type": "code",
   "execution_count": 14,
   "metadata": {},
   "outputs": [],
   "source": [
    "url_taxonomy = 'https://openapi.etsy.com/v3/application/seller-taxonomy/nodes'"
   ]
  },
  {
   "cell_type": "code",
   "execution_count": 15,
   "metadata": {},
   "outputs": [],
   "source": [
    "response_taxonomy = requests.get(url_taxonomy, headers = headers)"
   ]
  },
  {
   "cell_type": "code",
   "execution_count": 21,
   "metadata": {},
   "outputs": [
    {
     "data": {
      "text/plain": [
       "<Response [429]>"
      ]
     },
     "execution_count": 21,
     "metadata": {},
     "output_type": "execute_result"
    }
   ],
   "source": [
    "response_taxonomy"
   ]
  },
  {
   "cell_type": "code",
   "execution_count": 22,
   "metadata": {},
   "outputs": [
    {
     "data": {
      "text/plain": [
       "'Too Many Requests'"
      ]
     },
     "execution_count": 22,
     "metadata": {},
     "output_type": "execute_result"
    }
   ],
   "source": [
    "response_taxonomy.reason"
   ]
  },
  {
   "cell_type": "code",
   "execution_count": 17,
   "metadata": {},
   "outputs": [],
   "source": [
    "response_taxonomy_data = response_taxonomy.json() "
   ]
  },
  {
   "cell_type": "code",
   "execution_count": 18,
   "metadata": {},
   "outputs": [
    {
     "data": {
      "text/plain": [
       "dict_keys(['error'])"
      ]
     },
     "execution_count": 18,
     "metadata": {},
     "output_type": "execute_result"
    }
   ],
   "source": [
    "response_taxonomy_data.keys()"
   ]
  },
  {
   "cell_type": "code",
   "execution_count": 19,
   "metadata": {},
   "outputs": [
    {
     "ename": "KeyError",
     "evalue": "'results'",
     "output_type": "error",
     "traceback": [
      "\u001b[1;31m---------------------------------------------------------------------------\u001b[0m",
      "\u001b[1;31mKeyError\u001b[0m                                  Traceback (most recent call last)",
      "\u001b[1;32m<ipython-input-19-8ea7e139e4b2>\u001b[0m in \u001b[0;36m<module>\u001b[1;34m\u001b[0m\n\u001b[0;32m      1\u001b[0m \u001b[1;31m#results is a list of nested dictionaries\u001b[0m\u001b[1;33m\u001b[0m\u001b[1;33m\u001b[0m\u001b[1;33m\u001b[0m\u001b[0m\n\u001b[1;32m----> 2\u001b[1;33m \u001b[0mlen\u001b[0m\u001b[1;33m(\u001b[0m\u001b[0mresponse_taxonomy_data\u001b[0m\u001b[1;33m[\u001b[0m\u001b[1;34m'results'\u001b[0m\u001b[1;33m]\u001b[0m\u001b[1;33m)\u001b[0m\u001b[1;33m\u001b[0m\u001b[1;33m\u001b[0m\u001b[0m\n\u001b[0m",
      "\u001b[1;31mKeyError\u001b[0m: 'results'"
     ]
    }
   ],
   "source": [
    "#results is a list of nested dictionaries\n",
    "len(response_taxonomy_data['results'])"
   ]
  },
  {
   "cell_type": "code",
   "execution_count": null,
   "metadata": {},
   "outputs": [],
   "source": [
    "#lets's start with the main tree to see the 15 main categories and find where painting may be\n",
    "[(main_category['name'], counter) for counter, main_category in enumerate(response_taxonomy_data['results'])]"
   ]
  },
  {
   "cell_type": "code",
   "execution_count": null,
   "metadata": {},
   "outputs": [],
   "source": [
    "#Let's dive into Art and Collectibles\n",
    "[(art_category['name'], counter) for counter, art_category in enumerate(response_taxonomy_data['results'][1]['children'])]\n",
    "#response_taxonomy_data['results'][1]['children']"
   ]
  },
  {
   "cell_type": "code",
   "execution_count": null,
   "metadata": {},
   "outputs": [],
   "source": [
    "#Let's look at painting\n",
    "response_taxonomy_data['results'][1]['children'][5]"
   ]
  },
  {
   "cell_type": "code",
   "execution_count": null,
   "metadata": {},
   "outputs": [],
   "source": [
    "#Paintings are themselves divided into different groups based on materials, and there are no more children, so I can now collect the taxonomy id's and the full path taxonomy id's just in case\n",
    "paintings_taxonomy_list = [(painting_category['name'], painting_category['id'], painting_category['full_path_taxonomy_ids']) for painting_category in response_taxonomy_data['results'][1]['children'][5]['children']]\n",
    "paintings_taxonomy_list"
   ]
  },
  {
   "cell_type": "markdown",
   "metadata": {},
   "source": [
    "### Paintings taxonomy"
   ]
  },
  {
   "cell_type": "code",
   "execution_count": null,
   "metadata": {},
   "outputs": [],
   "source": [
    "paintings_taxonomy_df = pd.DataFrame(paintings_taxonomy_list, columns = ['Material','Taxonomy Id','Full path Id'])"
   ]
  },
  {
   "cell_type": "code",
   "execution_count": null,
   "metadata": {},
   "outputs": [],
   "source": [
    "paintings_taxonomy_df"
   ]
  },
  {
   "cell_type": "code",
   "execution_count": null,
   "metadata": {},
   "outputs": [],
   "source": [
    "#I am also adding the number of available paintings in the price range of my interest ($250-$500), which I manually checked (as of 10/5):\n",
    "#paintings_taxonomy_df['num_listings_250to500USD']=[75333, 4084, 579, 1088, 1137, 6312, 77630, 354, 16597]\n",
    "paintings_taxonomy_df['num_listings_250to750USD']=[92172, 5068, 721, 1299, 1371, 8026, 97396, 422, 19796]"
   ]
  },
  {
   "cell_type": "code",
   "execution_count": null,
   "metadata": {},
   "outputs": [],
   "source": [
    "paintings_taxonomy_df"
   ]
  },
  {
   "cell_type": "code",
   "execution_count": null,
   "metadata": {},
   "outputs": [],
   "source": [
    "paintings_taxonomy_df['num_listings_250to750USD'].sum()"
   ]
  },
  {
   "cell_type": "code",
   "execution_count": null,
   "metadata": {},
   "outputs": [],
   "source": [
    "paintings_taxonomy_df.set_index('Taxonomy Id')\n"
   ]
  },
  {
   "cell_type": "code",
   "execution_count": null,
   "metadata": {},
   "outputs": [],
   "source": [
    "paintings_taxonomy_df.set_index('Taxonomy Id').loc[106]"
   ]
  },
  {
   "cell_type": "code",
   "execution_count": null,
   "metadata": {},
   "outputs": [],
   "source": [
    "#Now let's request the properties given for each listing in these categories, with a separate request\n",
    "url_properties_acrylic = 'https://openapi.etsy.com/v3/application/seller-taxonomy/nodes/106/properties'\n",
    "response_properties_acrylic = requests.get(url_properties_acrylic, headers = headers)\n",
    "response_properties_acrylic_data = response_properties_acrylic.json() "
   ]
  },
  {
   "cell_type": "code",
   "execution_count": null,
   "metadata": {},
   "outputs": [],
   "source": [
    "response_properties_acrylic_data.keys()"
   ]
  },
  {
   "cell_type": "code",
   "execution_count": null,
   "metadata": {},
   "outputs": [],
   "source": [
    "paintings_property_list_acrylic = [(painting_property['property_id'], painting_property['name']) for painting_property in response_properties_acrylic_data['results']]\n",
    "paintings_property_list_acrylic"
   ]
  },
  {
   "cell_type": "code",
   "execution_count": null,
   "metadata": {},
   "outputs": [],
   "source": [
    "#Let's check that the same properties and code apply to the other paintings' types, e.g. spray paint:\n",
    "\n",
    "url_properties_spraypaint = 'https://openapi.etsy.com/v3/application/seller-taxonomy/nodes/113/properties'\n",
    "response_properties_spraypaint = requests.get(url_properties_spraypaint, headers = headers)\n",
    "response_properties_spraypaint_data = response_properties_spraypaint.json() \n"
   ]
  },
  {
   "cell_type": "code",
   "execution_count": null,
   "metadata": {},
   "outputs": [],
   "source": [
    "paintings_property_list_spraypaint = [(painting_property['property_id'], painting_property['name']) for painting_property in response_properties_spraypaint_data['results']]\n",
    "paintings_property_list_spraypaint"
   ]
  },
  {
   "cell_type": "code",
   "execution_count": null,
   "metadata": {},
   "outputs": [],
   "source": [
    "#So this confirms that the possible properties for a painting don't change by material "
   ]
  },
  {
   "cell_type": "code",
   "execution_count": null,
   "metadata": {},
   "outputs": [],
   "source": [
    "paintings_properties_df = pd.DataFrame(paintings_property_list_spraypaint, columns = ['Property Id','Property'])"
   ]
  },
  {
   "cell_type": "code",
   "execution_count": null,
   "metadata": {},
   "outputs": [],
   "source": [
    "paintings_properties_df"
   ]
  },
  {
   "cell_type": "markdown",
   "metadata": {},
   "source": [
    "### Test GET request of the 'find all listings' type\n",
    "\n",
    "limit = num. listings to return (1-100, default 25)\n",
    "\n",
    "offset = for skipping responses (default 0)\n",
    "\n",
    "#keywords = search term or phrase that must appear (e.g. tree)\n",
    "\n",
    "sort_on = can be ('created', 'price', 'updated', default 'created')\n",
    "\n",
    "sort_order = 'ascending' or 'descending'\n",
    "\n",
    "min_price, max_price \n",
    "\n",
    "taxonomy_id = code for the type of painting: (106-114, 106 = acrylic, ...., 114=watercolor)"
   ]
  },
  {
   "cell_type": "code",
   "execution_count": null,
   "metadata": {},
   "outputs": [],
   "source": [
    "params = { 'limit' :100, #listings to return (1-100, default 25)\n",
    "            'offset' : 0,  #for skipping responses (default 0)\n",
    "            'sort_on': 'price',  #can be ('created', 'price', 'updated', default 'created')\n",
    "            'sort_order' : 'ascending', #'descending'\n",
    "             'min_price' : 250.0,\n",
    "             'max_price' : 750.0,\n",
    "             'taxonomy_id' : 106 #106 = acrylic, ...., 114=watercolor \n",
    "         }"
   ]
  },
  {
   "cell_type": "code",
   "execution_count": null,
   "metadata": {},
   "outputs": [],
   "source": [
    "url_listings_active = 'https://openapi.etsy.com/v3/application/listings/active'"
   ]
  },
  {
   "cell_type": "code",
   "execution_count": null,
   "metadata": {},
   "outputs": [],
   "source": [
    "response_paintings_active = requests.get(url_listings_active, params=params, headers = headers)"
   ]
  },
  {
   "cell_type": "code",
   "execution_count": null,
   "metadata": {},
   "outputs": [],
   "source": [
    "response_paintings_active"
   ]
  },
  {
   "cell_type": "code",
   "execution_count": null,
   "metadata": {},
   "outputs": [],
   "source": [
    "response_paintings_active_data = response_paintings_active.json() "
   ]
  },
  {
   "cell_type": "code",
   "execution_count": null,
   "metadata": {},
   "outputs": [],
   "source": [
    "response_paintings_active_data.keys()"
   ]
  },
  {
   "cell_type": "code",
   "execution_count": null,
   "metadata": {},
   "outputs": [],
   "source": [
    "response_paintings_active_data['results'][0:2]"
   ]
  },
  {
   "cell_type": "code",
   "execution_count": null,
   "metadata": {},
   "outputs": [],
   "source": [
    "first_100acrylic_paintings_df =  pd.DataFrame(response_paintings_active_data['results'],columns=['listing_id','user_id','shop_id','title','num_favorers','url','materials','item_length','item_width','item_dimensions_unit','style','price','taxonomy_id'])"
   ]
  },
  {
   "cell_type": "code",
   "execution_count": null,
   "metadata": {},
   "outputs": [],
   "source": [
    "first_100acrylic_paintings_df"
   ]
  },
  {
   "cell_type": "code",
   "execution_count": null,
   "metadata": {},
   "outputs": [],
   "source": [
    "first_100acrylic_paintings_df =  pd.DataFrame(response_paintings_active_data['results'])\n",
    "first_100acrylic_paintings_df"
   ]
  },
  {
   "cell_type": "code",
   "execution_count": null,
   "metadata": {},
   "outputs": [],
   "source": [
    "#Other available requests are: 'FindAllActiveListingsbyShop', 'getListing' (to get a single listing), 'getListingsByListingIds' (pass a list of ids),  'getListingProperties' (to return a single property by id)\n",
    "#'getAllListingFiles' that returns all the files associated to a listing (including images?) - this requires OAuth2 "
   ]
  },
  {
   "cell_type": "code",
   "execution_count": null,
   "metadata": {},
   "outputs": [],
   "source": [
    "#Test of concatenation\n",
    "first50acrylic_paintings_df = first_100acrylic_paintings_df.iloc[:50]"
   ]
  },
  {
   "cell_type": "code",
   "execution_count": null,
   "metadata": {},
   "outputs": [],
   "source": [
    "second50acrylic_paintings_df = first_100acrylic_paintings_df.iloc[50:]"
   ]
  },
  {
   "cell_type": "code",
   "execution_count": null,
   "metadata": {},
   "outputs": [],
   "source": [
    "first50acrylic_paintings_df = pd.concat([first50acrylic_paintings_df,second50acrylic_paintings_df])"
   ]
  },
  {
   "cell_type": "code",
   "execution_count": null,
   "metadata": {},
   "outputs": [],
   "source": [
    "first50acrylic_paintings_df"
   ]
  },
  {
   "cell_type": "code",
   "execution_count": null,
   "metadata": {},
   "outputs": [],
   "source": [
    "test = first50acrylic_paintings_df.iloc[98]['price']\n",
    "test['amount']/test['divisor']"
   ]
  },
  {
   "cell_type": "markdown",
   "metadata": {},
   "source": [
    "## Here is the actual loop requesting, organizing and saving all paintings listings of a particular material (from code 106=acrylic to code 114=watercolor) within the $250-750 price range  "
   ]
  },
  {
   "cell_type": "code",
   "execution_count": null,
   "metadata": {},
   "outputs": [],
   "source": [
    "from ediblepickle import checkpoint\n",
    "import os\n",
    "from urllib.parse import quote\n",
    "\n",
    "cache_dir = './Git_exclude/cache'\n",
    "if not os.path.exists(cache_dir):\n",
    "    os.mkdir(cache_dir)"
   ]
  },
  {
   "cell_type": "code",
   "execution_count": null,
   "metadata": {},
   "outputs": [],
   "source": [
    "import time"
   ]
  },
  {
   "cell_type": "code",
   "execution_count": null,
   "metadata": {},
   "outputs": [],
   "source": [
    "from retrying import retry"
   ]
  },
  {
   "cell_type": "code",
   "execution_count": null,
   "metadata": {},
   "outputs": [],
   "source": [
    "url_listings_active = 'https://openapi.etsy.com/v3/application/listings/active'"
   ]
  },
  {
   "cell_type": "code",
   "execution_count": null,
   "metadata": {},
   "outputs": [],
   "source": [
    "#This is the main workhorse function  to get 100 listings at a time, transform to dataframe and \n",
    "#the first decorator saves the results of any call with given parameters to cache, the second one keeps retrying if attampts fail\n",
    "@retry(stop_max_attempt_number=100,wait_fixed=1000)\n",
    "@checkpoint(key=lambda args, kwargs: 'tax'+ str(args[0]) + '_off'+ str(args[1]) + '_from' +str(int(min_price)) +'.pkl', work_dir=cache_dir)\n",
    "def get_100painting_listings(taxonomy_id,offset,min_price,max_price):\n",
    "    #basic parameters for the getAllListings call\n",
    "    params = {'limit' :100, #listings to return (1-100, default 25)\n",
    "            'offset' : offset,  #for skipping responses (default 0, it seems to work only up to 12000)\n",
    "            'sort_on': 'price',  #can be ('created', 'price', 'updated', default 'created')\n",
    "            'sort_order' : 'ascending', #'descending'\n",
    "             'min_price' : min_price,\n",
    "             'max_price' : max_price,\n",
    "             'taxonomy_id' : taxonomy_id #106 = acrylic, 107 = combination,  ...., 114=watercolor \n",
    "              }\n",
    "    response_100paintings = requests.get(url_listings_active, params=params, headers = headers)\n",
    "    response_100paintings_data = response_100paintings.json() \n",
    "    response_100paintings_df =  pd.DataFrame(response_100paintings_data['results'])\n",
    "    return response_100paintings_df"
   ]
  },
  {
   "cell_type": "code",
   "execution_count": null,
   "metadata": {},
   "outputs": [],
   "source": [
    "#I want a function to format the prices, that are returned by Etsy as a weird string like:\n",
    "#\"{'amount': 25000, 'divisor': 100, 'currency_code': 'USD'}\"\n",
    "#I want to convert the price into a floating value (amount/divisor) and throw away price that are not in USDollars as that would throw off my algorithm\n",
    "import numpy as np\n",
    "def format_price_USD(price_field_Etsy):\n",
    "    if price_field_Etsy['currency_code']=='USD':\n",
    "        return price_field_Etsy['amount']/price_field_Etsy['divisor']\n",
    "    else:\n",
    "        return np.nan"
   ]
  },
  {
   "cell_type": "code",
   "execution_count": null,
   "metadata": {},
   "outputs": [],
   "source": [
    "#Testing the basic iteration on taxonomy_id = 107 (combination) since there shouldn't be too many of these listings\n",
    "\n",
    "# taxonomy_id = 107\n",
    "\n",
    "# min_price = 250.0\n",
    "# max_price = 750.0\n",
    "\n",
    "# tax107_filename = './Git_exclude/Data/tax107_all_paintings_from_USD250.csv'\n",
    "\n",
    "# #If the files with the listing data already exists for this taxonomy id, I load it:\n",
    "# try:\n",
    "#     tax107_all_paintings_df_test = pd.read_csv(tax107_filename)\n",
    "\n",
    "#     print('Loaded listings file for taxonomy id 107.')\n",
    "\n",
    "# except:\n",
    "\n",
    "#     #Let's launch it a first time to initialize the dataframe with the first 100 listings of a given type\n",
    "#     offset = 0\n",
    "#     tax107_all_paintings_df = get_100painting_listings(taxonomy_id,offset,min_price,max_price)\n",
    "    \n",
    "#     #Then iterate over all paintings of that same type, which number is given in the paintings taxonomy df filled earlier\n",
    "#     tax107_num_listings = paintings_taxonomy_df.set_index('Taxonomy Id').loc[107]['num_listings_250to750USD']\n",
    "#     tax107_offsets_list = range(100,tax107_num_listings,100)\n",
    "    \n",
    "#     for offset in tax107_offsets_list:\n",
    "#         tax107_100paintings_df = get_100painting_listings(107,offset,min_price,max_price)\n",
    "#         tax107_all_paintings_df = pd.concat([tax107_all_paintings_df, tax107_100paintings_df])\n",
    "#         time.sleep(1)\n",
    "    \n",
    "#     #save to .csv file\n",
    "#     tax107_all_paintings_df.to_csv(tax107_filename,index=False)\n",
    "        \n",
    "#     print('Saved listings file for taxonomy id 107.')    "
   ]
  },
  {
   "cell_type": "code",
   "execution_count": null,
   "metadata": {},
   "outputs": [],
   "source": [
    "#Testing a more complicated iteration on taxonomy_id = 114, which has ~20000 entries, but I want to break the results into chunks of at most 12000 entries each\n",
    "#because request calls with offset>=12000 fail and so need to be handled appropriately\n",
    "\n",
    "# taxonomy_id = 114\n",
    "\n",
    "# tax114_filename = './Git_exclude/Data/tax114_all_paintings_from_USD250.csv'\n",
    "\n",
    "# #total number of listings:\n",
    "# tax_id_num_listings = paintings_taxonomy_df.set_index('Taxonomy Id').loc[taxonomy_id]['num_listings_250to750USD']\n",
    "# tax_id_num_listings\n",
    "\n",
    "# #starting offsets for each chunk:\n",
    "# starting_offsets = range(0,tax_id_num_listings,12000)\n",
    "\n",
    "# min_price = 250.0\n",
    "# max_price = 750.0\n",
    "\n",
    "# for i,starting_offset in enumerate(starting_offsets):\n",
    "    \n",
    "#     if i>0:\n",
    "#         tax114_next_csv_filename = tax114_filename[:-4]+f'_{i}.csv'\n",
    "#     else:\n",
    "#         tax114_next_csv_filename = tax114_filename\n",
    "    \n",
    "\n",
    "#     #If the files with the listing data already exists for this taxonomy id, I load it:\n",
    "#     try:\n",
    "#         tax_id_all_paintings_df = pd.read_csv(tax114_next_csv_filename)\n",
    "\n",
    "#         print(f'Loaded listings file {tax114_next_csv_filename} for taxonomy id {taxonomy_id}.')\n",
    "\n",
    "#     except:\n",
    "\n",
    "#         #Since the GET request seem to work only for offset<=12000, i.e. only for the first iteration of this code, for the following iterations\n",
    "#         #I use the following trick: after every multiple of 12000, I update the min price to look for and then use offset numbers modulo 12000\n",
    "        \n",
    "#         #Let's launch get_100painting_listings a first time to initialize the dataframe with the first 100 listings of a given type\n",
    "#         tax_id_all_paintings_df = get_100painting_listings(taxonomy_id,starting_offset%12000,min_price,max_price)\n",
    "\n",
    "#         #Then iterate attaching 100 painting listings at a time until reaching 12000 or the end\n",
    "#         if i<(len(starting_offsets)-1):\n",
    "#             tax_id_offsets_list = range(starting_offset+100,starting_offsets[i+1],100)\n",
    "#         else:\n",
    "#             tax_id_offsets_list = range(starting_offset+100,tax_id_num_listings,100)\n",
    "\n",
    "#         for offset in tax_id_offsets_list:\n",
    "#             tax_id_100paintings_df = get_100painting_listings(taxonomy_id,offset%12000,min_price,max_price)\n",
    "#             tax_id_all_paintings_df = pd.concat([tax_id_all_paintings_df, tax_id_100paintings_df])\n",
    "#             time.sleep(1)\n",
    "            \n",
    "#         #if I reached here and this is not the last call, update the min price to the next integer value so that the next block of 12000 offsets does not overlap with the previous\n",
    "#         #set of entries:\n",
    "#         if i<(len(starting_offsets)-1):\n",
    "#             last_price_field = tax_id_all_paintings_df.iloc[-1]['price']\n",
    "#             min_price = 0.1 + (last_price_field['amount']/last_price_field['divisor'])\n",
    "            \n",
    "#         #save to .csv file\n",
    "#         tax_id_all_paintings_df.to_csv(tax114_next_csv_filename,index=False)\n",
    "#         print(f'Saved listings file {tax114_next_csv_filename} for taxonomy id {taxonomy_id}.')\n",
    "\n",
    "    "
   ]
  },
  {
   "cell_type": "code",
   "execution_count": null,
   "metadata": {},
   "outputs": [],
   "source": [
    "#Iterate over all taxonomies of interest\n",
    "\n",
    "taxonomies_of_interest = [106, 107, 108, 109, 110, 111, 112, 113, 114]\n",
    "\n",
    "for taxonomy_id in taxonomies_of_interest:\n",
    "\n",
    "    min_price = 250.0\n",
    "    max_price = 750.0\n",
    "    \n",
    "    csv_filename = f'./Git_exclude/Data/tax{taxonomy_id}_all_paintings_from_USD{int(min_price)}.csv'\n",
    "    \n",
    "    #total number of listings:\n",
    "    tax_id_num_listings = paintings_taxonomy_df.set_index('Taxonomy Id').loc[taxonomy_id]['num_listings_250to750USD']\n",
    "\n",
    "    #I want to break this into chunks of at most 12000 entries each (because requests with larger offsets fail)\n",
    "    \n",
    "    #starting offsets for each chunk:\n",
    "    starting_offsets = range(0,tax_id_num_listings,12000)\n",
    "    \n",
    "    for i,starting_offset in enumerate(starting_offsets):\n",
    "\n",
    "        if i>0:\n",
    "            next_csv_filename = csv_filename[:-4]+f'_{i}.csv'\n",
    "        else:\n",
    "            next_csv_filename = csv_filename\n",
    "\n",
    "        #If the files with the listing data already exists for this taxonomy id, I load it:\n",
    "        try:\n",
    "            tax_id_all_paintings_df = pd.read_csv(next_csv_filename)\n",
    "\n",
    "            print(f'Loaded listings file {next_csv_filename} for taxonomy id {taxonomy_id}.')\n",
    "            \n",
    "            #if I reached here and this is not the last call, update the min price to the next decimal value so that the next block of 12000 offsets does not overlap with the previous\n",
    "            #set of entries:\n",
    "            if i<(len(starting_offsets)-1):\n",
    "                last_price = tax_id_all_paintings_df.iloc[-1]['price']\n",
    "                min_price = 0.1 + last_price\n",
    "                print(min_price)\n",
    "\n",
    "        except:\n",
    "\n",
    "            #Since the GET request seem to work only for offset<=12000, i.e. only for the first iteration of this code, for the following iterations\n",
    "            #I use the following trick: after every multiple of 12000, I update the min price to look for and then use offset numbers modulo 12000\n",
    "\n",
    "            #Let's launch get_100painting_listings a first time to initialize the dataframe with the first 100 listings of a given type\n",
    "            tax_id_all_paintings_df = get_100painting_listings(taxonomy_id,starting_offset%12000,min_price,max_price)\n",
    "\n",
    "            #Then iterate attaching 100 painting listings at a time until reaching 12000 or the end\n",
    "            if i<(len(starting_offsets)-1):\n",
    "                tax_id_offsets_list = range(starting_offset+100,starting_offsets[i+1],100)\n",
    "            else:\n",
    "                tax_id_offsets_list = range(starting_offset+100,tax_id_num_listings,100)\n",
    "\n",
    "            for offset in tax_id_offsets_list:\n",
    "                tax_id_100paintings_df = get_100painting_listings(taxonomy_id,offset%12000,min_price,max_price)\n",
    "                tax_id_all_paintings_df = pd.concat([tax_id_all_paintings_df, tax_id_100paintings_df])\n",
    "                time.sleep(1)\n",
    "\n",
    "            #clean the price column by making it into a float and removing if currency is not USD    \n",
    "            tax_id_all_paintings_df['price']=tax_id_all_paintings_df['price'].apply(format_price_USD)\n",
    "            tax_id_all_paintings_df.dropna(axis=0,subset=['price'],inplace=True)\n",
    "                \n",
    "            #if I reached here and this is not the last call, update the min price to the next decimal value so that the next block of 12000 offsets does not overlap with the previous\n",
    "            #set of entries:\n",
    "            if i<(len(starting_offsets)-1):\n",
    "                last_price = tax_id_all_paintings_df.iloc[-1]['price']\n",
    "                min_price = 0.1 + last_price\n",
    "\n",
    "            #save to .csv file\n",
    "            tax_id_all_paintings_df.to_csv(next_csv_filename,index=False)\n",
    "            print(f'Saved listings file {next_csv_filename} for taxonomy id {taxonomy_id}.')\n"
   ]
  },
  {
   "cell_type": "markdown",
   "metadata": {},
   "source": [
    "# PART 2: Reorganize downloaded raw files, combine taxonomy types, remove entries without critical information (dimensions, etc.), etc"
   ]
  },
  {
   "cell_type": "code",
   "execution_count": null,
   "metadata": {},
   "outputs": [],
   "source": [
    "#The taxonomy numbers are quite skewed: >50000 entries for 106 (acrylic) and 112 (oil), around 15000 for 114 (watercolor), around 4-5000 each for 107 (Combination) and 111 (Mixed),\n",
    "#but less than 1000 for all the other taxonomies. Hence I will drop all these other minor taxonomies, combine 107 and 111 in a new 'More than one' category and will at the end\n",
    "#have 4 categories: acrylic, oil, watercolor, more_than_one"
   ]
  },
  {
   "cell_type": "code",
   "execution_count": null,
   "metadata": {},
   "outputs": [],
   "source": [
    "#I will use taxonomy 114 (watercolors) as the example one to refine the data-cleaning pipeline because it has enough entries that the data is split into more than one file,\n",
    "#but is not as large as oil or acrylic which have 8 files each"
   ]
  },
  {
   "cell_type": "code",
   "execution_count": null,
   "metadata": {
    "tags": []
   },
   "outputs": [],
   "source": [
    "taxonomy_id = 114\n",
    "\n",
    "csv_filename_pattern = f'./Git_exclude/Data/tax{taxonomy_id}_all_paintings*.csv'\n"
   ]
  },
  {
   "cell_type": "code",
   "execution_count": null,
   "metadata": {
    "tags": []
   },
   "outputs": [],
   "source": [
    "csv_filename_pattern"
   ]
  },
  {
   "cell_type": "code",
   "execution_count": null,
   "metadata": {},
   "outputs": [],
   "source": [
    "import glob\n",
    "\n",
    "tax_csv_files = glob.glob(csv_filename_pattern)\n",
    "tax_csv_files"
   ]
  },
  {
   "cell_type": "code",
   "execution_count": null,
   "metadata": {},
   "outputs": [],
   "source": [
    "tax_114_paintings_df_temp = pd.read_csv(tax_csv_files[0])"
   ]
  },
  {
   "cell_type": "code",
   "execution_count": null,
   "metadata": {},
   "outputs": [],
   "source": [
    "tax_114_paintings_df_temp.head()"
   ]
  },
  {
   "cell_type": "code",
   "execution_count": null,
   "metadata": {},
   "outputs": [],
   "source": [
    "tax_114_paintings_df_temp.info()"
   ]
  },
  {
   "cell_type": "code",
   "execution_count": null,
   "metadata": {},
   "outputs": [],
   "source": [
    "tax_114_paintings_df_temp.describe()"
   ]
  },
  {
   "cell_type": "markdown",
   "metadata": {},
   "source": [
    "Info in the dataframe:\n",
    "1) identifiers of the painting and author/owner: listing_id, user_id, shop_id, shop_section_id, shipping_profile_id, url\n",
    "   This will not be needed in the model, but will need to keep track of listing_id and shop_id for cross reference, and the url to show the user if applicable\n",
    "2) price: the target variable\n",
    "\n"
   ]
  },
  {
   "cell_type": "code",
   "execution_count": null,
   "metadata": {},
   "outputs": [],
   "source": [
    "#let's see the distribution of prices in the dataset\n",
    "import matplotlib.pyplot as plt\n",
    "import seaborn as sns\n",
    "%matplotlib inline\n",
    "sns.distplot(tax_114_paintings_df_temp['price'])"
   ]
  },
  {
   "cell_type": "markdown",
   "metadata": {},
   "source": [
    "3) dimensions information (and weight): this is critical for modeling so I must process it and remove those that are missing such info\n",
    "   item_length, item_width, item_height, dimension_unit, item_weight, weight_unit -> lenght, width, height, area (all in inches), weight (in oz), aspect ratio "
   ]
  },
  {
   "cell_type": "code",
   "execution_count": null,
   "metadata": {},
   "outputs": [],
   "source": [
    "tax_114_paintings_df_temp['item_length'].isna()"
   ]
  },
  {
   "cell_type": "code",
   "execution_count": null,
   "metadata": {},
   "outputs": [],
   "source": [
    "#I am not sure why the dimensions are missing from the table when if I look at the url it shows the dimensions...\n",
    "tax_114_paintings_df_temp.iloc[0]['url']"
   ]
  },
  {
   "cell_type": "code",
   "execution_count": null,
   "metadata": {},
   "outputs": [],
   "source": [
    "tax_114_paintings_df_temp.iloc[0]"
   ]
  },
  {
   "cell_type": "code",
   "execution_count": null,
   "metadata": {},
   "outputs": [],
   "source": [
    "tax_114_paintings_df_temp.iloc[4]['url']"
   ]
  },
  {
   "cell_type": "code",
   "execution_count": null,
   "metadata": {},
   "outputs": [],
   "source": [
    "tax_114_paintings_df_temp.iloc[4]"
   ]
  },
  {
   "cell_type": "code",
   "execution_count": null,
   "metadata": {},
   "outputs": [],
   "source": [
    "tax_114_paintings_df_temp['item_dimensions_unit'].unique()"
   ]
  },
  {
   "cell_type": "code",
   "execution_count": null,
   "metadata": {},
   "outputs": [],
   "source": [
    "tax_114_paintings_df_temp['item_weight_unit'].unique()"
   ]
  },
  {
   "cell_type": "code",
   "execution_count": null,
   "metadata": {},
   "outputs": [],
   "source": [
    "#Item dimensions are critical for estimating the price, so I am going to have to drop all the entries that have nan's in either item length or item width or item_dimensions_unit\n",
    "#I do the same for weight since it's possible that there may be important information there (e.g. if the painting has a frame and is bigger it will weigh more)\n",
    "tax_114_paintings_df_temp.dropna(axis=0,subset=['item_length','item_width','item_height','item_dimensions_unit','item_weight','item_weight_unit'],inplace=True)"
   ]
  },
  {
   "cell_type": "code",
   "execution_count": null,
   "metadata": {},
   "outputs": [],
   "source": [
    "len(tax_114_paintings_df_temp)"
   ]
  },
  {
   "cell_type": "code",
   "execution_count": null,
   "metadata": {},
   "outputs": [],
   "source": [
    "#LEt's see an example of entry in which the units are mm\n",
    "tax_114_paintings_df_temp[tax_114_paintings_df_temp['item_dimensions_unit']=='mm']['item_length']"
   ]
  },
  {
   "cell_type": "code",
   "execution_count": null,
   "metadata": {},
   "outputs": [],
   "source": [
    "tax_114_paintings_df_temp.iloc[4][['item_length','item_width','item_dimensions_unit']]"
   ]
  },
  {
   "cell_type": "code",
   "execution_count": null,
   "metadata": {},
   "outputs": [],
   "source": [
    "#Let me process all the dimensions (converting measurement units, etc.) with the following function, that also creates new columns 'area' and 'aspect_ratio' (defined by width/length)\n",
    "def format_dimensions(length,width,unit):\n",
    "    if unit=='in':\n",
    "        area=width*length\n",
    "        aspect_ratio=width/length\n",
    "        return length,width,area,aspect_ratio\n",
    "    elif unit=='mm':\n",
    "        area=(width/25.4)*(length/25.4)\n",
    "        aspect_ratio=width/length\n",
    "        return length/25.4,width/25.4,area,aspect_ratio\n",
    "        "
   ]
  },
  {
   "cell_type": "code",
   "execution_count": null,
   "metadata": {},
   "outputs": [],
   "source": [
    "#need to make sure this gets executed only once, so I drop the column with the units afterwards\n",
    "tax_114_paintings_df_temp['length']=tax_114_paintings_df_temp[['item_length','item_dimensions_unit']].apply(lambda x:x[0]/25.4 if x[1]=='mm' else x[0], axis=1)\n",
    "tax_114_paintings_df_temp['width']=tax_114_paintings_df_temp[['item_width','item_dimensions_unit']].apply(lambda x:x[0]/25.4 if x[1]=='mm' else x[0], axis=1)\n",
    "tax_114_paintings_df_temp['height']=tax_114_paintings_df_temp[['item_height','item_dimensions_unit']].apply(lambda x:x[0]/25.4 if x[1]=='mm' else x[0], axis=1)\n",
    "tax_114_paintings_df_temp.drop(['item_length','item_width','item_height','item_dimensions_unit'],axis=1,inplace=True)\n",
    "#this is safer because sometimes people confuse height, length and width\n",
    "tax_114_paintings_df_temp['area']=tax_114_paintings_df_temp[['width','length','height']].apply(lambda x:(np.max(x)*np.median(x)), axis=1) \n",
    "tax_114_paintings_df_temp['aspect_ratio']=tax_114_paintings_df_temp[['width','length','height']].apply(lambda x:(np.max(x)/np.median(x)), axis=1)"
   ]
  },
  {
   "cell_type": "code",
   "execution_count": null,
   "metadata": {},
   "outputs": [],
   "source": [
    "#similar processing for the weight\n",
    "tax_114_paintings_df_temp['item_weight_unit'].unique()"
   ]
  },
  {
   "cell_type": "code",
   "execution_count": null,
   "metadata": {},
   "outputs": [],
   "source": [
    "tax_114_paintings_df_temp[tax_114_paintings_df_temp['item_weight_unit']=='g']['item_weight'][:4]"
   ]
  },
  {
   "cell_type": "code",
   "execution_count": null,
   "metadata": {},
   "outputs": [],
   "source": [
    "tax_114_paintings_df_temp['weight']=tax_114_paintings_df_temp[['item_weight','item_weight_unit']].apply(lambda x:x[0]/28.3495 if x[1]=='g' else x[0], axis=1)\n",
    "tax_114_paintings_df_temp.drop(['item_weight','item_weight_unit'],axis=1,inplace=True)"
   ]
  },
  {
   "cell_type": "code",
   "execution_count": null,
   "metadata": {},
   "outputs": [],
   "source": [
    "tax_114_paintings_df_temp.describe()"
   ]
  },
  {
   "cell_type": "markdown",
   "metadata": {},
   "source": [
    "4) Info about when piece was created or added into the system - original_creation_timestamp, when_made"
   ]
  },
  {
   "cell_type": "code",
   "execution_count": null,
   "metadata": {},
   "outputs": [],
   "source": [
    "tax_114_paintings_df_temp['when_made'].unique()"
   ]
  },
  {
   "cell_type": "code",
   "execution_count": null,
   "metadata": {},
   "outputs": [],
   "source": [
    "grouped_by_made_period = tax_114_paintings_df_temp.groupby(by='when_made')"
   ]
  },
  {
   "cell_type": "code",
   "execution_count": null,
   "metadata": {},
   "outputs": [],
   "source": [
    "grouped_by_made_period['listing_id'].count()"
   ]
  },
  {
   "cell_type": "code",
   "execution_count": null,
   "metadata": {},
   "outputs": [],
   "source": [
    "#it looks like the overwhelming majority of paintings is either done in the past 1-2 years or in the previous decade (2010-2019) so this variable may not be that informative.\n",
    "#I can perhaps use this as categorical data with 4 categories like ['made_to_order','made_2020s','made_2010s','made_before_2010']\n",
    "#First, let's check how many entries are missing the 'when made' tag to make sure we are not dropping too many cells if we decide to use this"
   ]
  },
  {
   "cell_type": "code",
   "execution_count": null,
   "metadata": {},
   "outputs": [],
   "source": [
    "sum(tax_114_paintings_df_temp['when_made'].isna())"
   ]
  },
  {
   "cell_type": "code",
   "execution_count": null,
   "metadata": {},
   "outputs": [],
   "source": [
    "#Drop the rows without 'when_made'\n",
    "tax_114_paintings_df_temp.dropna(axis=0,subset=['when_made'],inplace=True)"
   ]
  },
  {
   "cell_type": "code",
   "execution_count": null,
   "metadata": {},
   "outputs": [],
   "source": [
    "def format_when_made(when_made):\n",
    "    if when_made=='made_to_order':\n",
    "        return 'made_to_order'\n",
    "    elif when_made=='2020_2021':\n",
    "        return 'made_2020s'\n",
    "    elif when_made=='2010_2019':\n",
    "        return 'made_2010s'\n",
    "    else:\n",
    "        return 'made_before_2010'"
   ]
  },
  {
   "cell_type": "code",
   "execution_count": null,
   "metadata": {},
   "outputs": [],
   "source": [
    "#tax_114_paintings_df_temp['when_made']=tax_114_paintings_df_temp['when_made'].apply(lambda x:format_when_made(x), axis=1)\n",
    "tax_114_paintings_df_temp['when_made']=tax_114_paintings_df_temp['when_made'].apply(lambda x:format_when_made(x)) #, axis=1)"
   ]
  },
  {
   "cell_type": "code",
   "execution_count": null,
   "metadata": {},
   "outputs": [],
   "source": [
    "tax_114_paintings_df_temp.iloc[38]"
   ]
  },
  {
   "cell_type": "code",
   "execution_count": null,
   "metadata": {},
   "outputs": [],
   "source": [
    "#Next let's look at the age of a listing (which may or may not related to when the painting was actually created) and when it was last updated"
   ]
  },
  {
   "cell_type": "code",
   "execution_count": null,
   "metadata": {},
   "outputs": [],
   "source": [
    "from datetime import datetime\n",
    "#let's use end of the year as the reference day to which comparing every other date\n",
    "ref_date = datetime.strptime('2021-Dec-31','%Y-%b-%d') \n",
    "ref_date"
   ]
  },
  {
   "cell_type": "code",
   "execution_count": null,
   "metadata": {},
   "outputs": [],
   "source": [
    "tax_114_paintings_df_temp['days_from_original_creation'] = tax_114_paintings_df_temp['original_creation_timestamp'].apply(lambda x:(datetime.strptime('2021-Dec-31','%Y-%b-%d')-datetime.fromtimestamp(x)).days) #, axis=1)"
   ]
  },
  {
   "cell_type": "code",
   "execution_count": null,
   "metadata": {},
   "outputs": [],
   "source": [
    "tax_114_paintings_df_temp['days_from_last_modification'] = tax_114_paintings_df_temp['last_modified_timestamp'].apply(lambda x:(datetime.strptime('2021-Dec-31','%Y-%b-%d')-datetime.fromtimestamp(x)).days) #, axis=1)"
   ]
  },
  {
   "cell_type": "code",
   "execution_count": null,
   "metadata": {},
   "outputs": [],
   "source": [
    "tax_114_paintings_df_temp.describe()"
   ]
  },
  {
   "cell_type": "code",
   "execution_count": null,
   "metadata": {},
   "outputs": [],
   "source": [
    "#I can now drop all the other timestamp variables\n",
    "tax_114_paintings_df_temp.drop(['creation_timestamp','ending_timestamp','original_creation_timestamp','last_modified_timestamp','state_timestamp'],axis=1,inplace=True)"
   ]
  },
  {
   "cell_type": "code",
   "execution_count": null,
   "metadata": {},
   "outputs": [],
   "source": [
    "tax_114_paintings_df_temp.describe()"
   ]
  },
  {
   "cell_type": "markdown",
   "metadata": {},
   "source": [
    "5) Rankings given by either the seller or users: 'featured_rank', 'num_favorers'"
   ]
  },
  {
   "cell_type": "code",
   "execution_count": null,
   "metadata": {},
   "outputs": [],
   "source": [
    "#How many paintings have favorers\n",
    "tax_114_paintings_df_temp['num_favorers'].unique()"
   ]
  },
  {
   "cell_type": "code",
   "execution_count": null,
   "metadata": {},
   "outputs": [],
   "source": [
    "#many paintings have non-zero number of favorers, so this may be a useful attribute\n",
    "len(tax_114_paintings_df_temp[tax_114_paintings_df_temp['num_favorers']>0])"
   ]
  },
  {
   "cell_type": "code",
   "execution_count": null,
   "metadata": {},
   "outputs": [],
   "source": [
    "#However, is it missing in many paintings? No\n",
    "sum(tax_114_paintings_df_temp['num_favorers'].isna())"
   ]
  },
  {
   "cell_type": "code",
   "execution_count": null,
   "metadata": {},
   "outputs": [],
   "source": [
    "#Let's check featured_rank:\n",
    "tax_114_paintings_df_temp['featured_rank'].unique()"
   ]
  },
  {
   "cell_type": "code",
   "execution_count": null,
   "metadata": {},
   "outputs": [],
   "source": [
    "#many paintings have featured_rank different from default -1? Not very many, but it may be important and it is not missing in any entry, so I will leave this alone\n",
    "len(tax_114_paintings_df_temp[tax_114_paintings_df_temp['featured_rank']!=-1])"
   ]
  },
  {
   "cell_type": "code",
   "execution_count": null,
   "metadata": {},
   "outputs": [],
   "source": [
    "sum(tax_114_paintings_df_temp['featured_rank'].isna())"
   ]
  },
  {
   "cell_type": "markdown",
   "metadata": {},
   "source": [
    "6) A bunch of misc variable that may or may not matter, most of whilch I'll remove except the first few"
   ]
  },
  {
   "cell_type": "code",
   "execution_count": null,
   "metadata": {},
   "outputs": [],
   "source": [
    "#Who made the painting? Seller or somebody else?\n",
    "tax_114_paintings_df_temp['who_made'].value_counts()"
   ]
  },
  {
   "cell_type": "code",
   "execution_count": null,
   "metadata": {},
   "outputs": [],
   "source": [
    "#Let's redefine the above as a boolean: seller made TRUE or FALSE (if someone_else or collective made it)\n",
    "tax_114_paintings_df_temp['made_by_seller']=tax_114_paintings_df_temp['who_made'].apply(lambda x:True if 'i_did' else False) #, axis=1)"
   ]
  },
  {
   "cell_type": "code",
   "execution_count": null,
   "metadata": {},
   "outputs": [],
   "source": [
    "#Drop the original column\n",
    "tax_114_paintings_df_temp.drop(['who_made'],axis=1,inplace=True)"
   ]
  },
  {
   "cell_type": "code",
   "execution_count": null,
   "metadata": {},
   "outputs": [],
   "source": []
  },
  {
   "cell_type": "code",
   "execution_count": null,
   "metadata": {},
   "outputs": [],
   "source": [
    "#Quantity - most of the paintings have only quantity 1, and the other numbers vary a lot, so I will remove this \n",
    "tax_114_paintings_df_temp['quantity'].unique()"
   ]
  },
  {
   "cell_type": "code",
   "execution_count": null,
   "metadata": {},
   "outputs": [],
   "source": [
    "len(tax_114_paintings_df_temp[tax_114_paintings_df_temp['quantity']>1])"
   ]
  },
  {
   "cell_type": "code",
   "execution_count": null,
   "metadata": {},
   "outputs": [],
   "source": [
    "sum(tax_114_paintings_df_temp['quantity'].isna())"
   ]
  },
  {
   "cell_type": "code",
   "execution_count": null,
   "metadata": {},
   "outputs": [],
   "source": [
    "#Listing type - this is almost exclusively equal 0, so I will drop this\n",
    "tax_114_paintings_df_temp['listing_type'].unique()"
   ]
  },
  {
   "cell_type": "code",
   "execution_count": null,
   "metadata": {},
   "outputs": [],
   "source": [
    "len(tax_114_paintings_df_temp[tax_114_paintings_df_temp['listing_type']==1])"
   ]
  },
  {
   "cell_type": "code",
   "execution_count": null,
   "metadata": {},
   "outputs": [],
   "source": [
    "#Non-taxable - very few entries are true, so I will drop this\n",
    "tax_114_paintings_df_temp['non_taxable'].value_counts()"
   ]
  },
  {
   "cell_type": "code",
   "execution_count": null,
   "metadata": {},
   "outputs": [],
   "source": [
    "#Is personalizable - very few entries are true, so I will drop this\n",
    "tax_114_paintings_df_temp['is_personalizable'].value_counts()"
   ]
  },
  {
   "cell_type": "code",
   "execution_count": null,
   "metadata": {},
   "outputs": [],
   "source": [
    "#personalization_is_required - very few entries are true, so I will drop this (along with the other 'personalization' info)\n",
    "tax_114_paintings_df_temp['personalization_is_required'].value_counts()"
   ]
  },
  {
   "cell_type": "code",
   "execution_count": null,
   "metadata": {},
   "outputs": [],
   "source": [
    "#is_supply - very few entries are true, so I will drop this (along with the other )\n",
    "tax_114_paintings_df_temp['is_supply'].value_counts()"
   ]
  },
  {
   "cell_type": "code",
   "execution_count": null,
   "metadata": {},
   "outputs": [],
   "source": [
    "#is_private - no entries are true, so I will drop this (along with the other )\n",
    "tax_114_paintings_df_temp['is_private'].value_counts()"
   ]
  },
  {
   "cell_type": "code",
   "execution_count": null,
   "metadata": {},
   "outputs": [],
   "source": [
    "#is_customizable - >500 entries are true, so I will leave this alone\n",
    "tax_114_paintings_df_temp['is_customizable'].value_counts()"
   ]
  },
  {
   "cell_type": "code",
   "execution_count": null,
   "metadata": {},
   "outputs": [],
   "source": [
    " #has_variations - ~350 entries are true, so I will leave this alone\n",
    "tax_114_paintings_df_temp['has_variations'].value_counts()"
   ]
  },
  {
   "cell_type": "code",
   "execution_count": null,
   "metadata": {},
   "outputs": [],
   "source": [
    "#Here is where I drop at once the columns discussed above:\n",
    "tax_114_paintings_df_temp.drop(['quantity','listing_type','non_taxable','is_personalizable','personalization_is_required','is_supply','is_private'],axis=1,inplace=True)"
   ]
  },
  {
   "cell_type": "code",
   "execution_count": null,
   "metadata": {},
   "outputs": [],
   "source": [
    "#Also drop a bunch of other things that don't matter:"
   ]
  },
  {
   "cell_type": "code",
   "execution_count": null,
   "metadata": {},
   "outputs": [],
   "source": [
    "tax_114_paintings_df_temp.drop(['state','personalization_char_count_max','personalization_instructions','processing_min','processing_max','should_auto_renew','language','production_partners','file_data'],axis=1,inplace=True)"
   ]
  },
  {
   "cell_type": "code",
   "execution_count": null,
   "metadata": {},
   "outputs": [],
   "source": [
    "tax_114_paintings_df_temp.info()"
   ]
  },
  {
   "cell_type": "markdown",
   "metadata": {},
   "source": [
    "7) Look at 'tags', 'materials' and 'style', word tags that are added in some of the paintings"
   ]
  },
  {
   "cell_type": "code",
   "execution_count": null,
   "metadata": {},
   "outputs": [],
   "source": [
    "#The 'materials' don't seem to add a lot of information (mostly watercolors, paper, etc.) that is not already implied by taxonomy number \n",
    "#and on the contrary there may be problems due to different spellings - \n",
    "#for now I will keep this column but not use it \n",
    "tax_114_paintings_df_temp['materials'].value_counts()[:20]"
   ]
  },
  {
   "cell_type": "code",
   "execution_count": null,
   "metadata": {},
   "outputs": [],
   "source": [
    "#The style tags are added only in a very limited number of cases, so they are unlikely to be helpful - I leave them alone but not use them\n",
    "tax_114_paintings_df_temp['style'].value_counts()[:20]"
   ]
  },
  {
   "cell_type": "code",
   "execution_count": null,
   "metadata": {},
   "outputs": [],
   "source": [
    "#The generic 'tags' may (or may not) add valuable info but are messy - for now I'll leave them alone -  but I may try to do something smart with this later in machine-learning\n",
    "tax_114_paintings_df_temp['tags'].value_counts()[:20]"
   ]
  },
  {
   "cell_type": "markdown",
   "metadata": {},
   "source": [
    "8) Finally I will take care of taxonomy in the way discussed earlier, leaving only 4 types: 'Oil', 'Watercolor', 'Acrylic' and 'More than one' "
   ]
  },
  {
   "cell_type": "code",
   "execution_count": null,
   "metadata": {},
   "outputs": [],
   "source": [
    "#but less than 1000 for all the other taxonomies. Hence I will drop all these other minor taxonomies, combine 107 and 111 in a new 'More than one' category and will at the end\n",
    "#have 4 categories: acrylic, oil, watercolor, more_than_one"
   ]
  },
  {
   "cell_type": "code",
   "execution_count": null,
   "metadata": {},
   "outputs": [],
   "source": [
    "tax_114_paintings_df_temp['taxonomy_id'].value_counts()"
   ]
  },
  {
   "cell_type": "code",
   "execution_count": null,
   "metadata": {},
   "outputs": [],
   "source": [
    "def format_taxonomy_id(taxonomy_id):\n",
    "    if taxonomy_id==106:\n",
    "        return 'acrylic'\n",
    "    elif taxonomy_id==112:\n",
    "        return 'oil'\n",
    "    elif taxonomy_id==114:\n",
    "        return 'watercolor'\n",
    "    elif taxonomy_id in [107,111]:\n",
    "        return 'more_than_one'\n",
    "    else:\n",
    "        return 'other'"
   ]
  },
  {
   "cell_type": "code",
   "execution_count": null,
   "metadata": {},
   "outputs": [],
   "source": [
    "tax_114_paintings_df_temp['painting_type']=tax_114_paintings_df_temp['taxonomy_id'].apply(lambda x:format_taxonomy_id(x)) #, axis=1)"
   ]
  },
  {
   "cell_type": "code",
   "execution_count": null,
   "metadata": {},
   "outputs": [],
   "source": [
    "tax_114_paintings_df_temp['painting_type'].value_counts()"
   ]
  },
  {
   "cell_type": "code",
   "execution_count": null,
   "metadata": {},
   "outputs": [],
   "source": [
    "#So at the end of this cleaning procedure, the first set of ~8000 watercolor paintings (with 45 fields pf information) got reduced to \n",
    "#~3561 paintings with ~25 fields of information plus the price target column"
   ]
  },
  {
   "cell_type": "code",
   "execution_count": null,
   "metadata": {},
   "outputs": [],
   "source": [
    "len(tax_114_paintings_df_temp)"
   ]
  },
  {
   "cell_type": "code",
   "execution_count": null,
   "metadata": {},
   "outputs": [],
   "source": [
    "#Of the remaining 26 fields of information, 7 are just useful to identify the artifact (the _id's and url), \n",
    "# 5 are textual descriptions/tags that are unlikely to be very helpful (title, description, tags, materials, style),\n",
    "# 10 are numerical features that will be used in the predictor: featured_rank, num_favorers, length, width, height, area, aspect_ratio, weight, days_from_original_creation, days_from_last_modifications\n",
    "# 2 are categorical features that will be used in the predictor: painting_type (4 categories), when_made (4 categories)\n",
    "# 3 are boolean features: is_customizable, has_variations, made_by_seller"
   ]
  },
  {
   "cell_type": "code",
   "execution_count": null,
   "metadata": {},
   "outputs": [],
   "source": [
    "tax_114_paintings_df_temp.info()"
   ]
  },
  {
   "cell_type": "markdown",
   "metadata": {},
   "source": [
    "### Encapsulate all the preprocessing steps into a single function to be applied to each .csv file of raw data"
   ]
  },
  {
   "cell_type": "code",
   "execution_count": 23,
   "metadata": {
    "tags": []
   },
   "outputs": [],
   "source": [
    "from datetime import datetime\n",
    "\n",
    "def format_dimensions(dimension_unit_vec):\n",
    "    if dimension_unit_vec[1]=='in':\n",
    "        return dimension_unit_vec[0]\n",
    "    elif dimension_unit_vec[1]=='mm':\n",
    "        return dimension_unit_vec[0]/25.4\n",
    "    elif dimension_unit_vec[1]=='cm':\n",
    "        return dimension_unit_vec[0]/25.4\n",
    "    else:\n",
    "        print(f'measurement unit {dimension_unit_vec[1]} not supported for dimensions')\n",
    "\n",
    "def format_weight(weight_unit_vec):\n",
    "    if weight_unit_vec[1]=='oz':\n",
    "        return weight_unit_vec[0]\n",
    "    elif weight_unit_vec[1]=='g':\n",
    "        return weight_unit_vec[0]/28.3495\n",
    "    else:\n",
    "        print(f'measurement unit {weight_unit_vec[1]} not supported for weight')\n",
    "        \n",
    "def format_when_made(when_made):\n",
    "    if when_made=='made_to_order':\n",
    "        return 'made_to_order'\n",
    "    elif when_made=='2020_2021':\n",
    "        return 'made_2020s'\n",
    "    elif when_made=='2010_2019':\n",
    "        return 'made_2010s'\n",
    "    else:\n",
    "        return 'made_before_2010'\n",
    "    \n",
    "def format_taxonomy_id(taxonomy_id):\n",
    "    if taxonomy_id==106:\n",
    "        return 'acrylic'\n",
    "    elif taxonomy_id==112:\n",
    "        return 'oil'\n",
    "    elif taxonomy_id==114:\n",
    "        return 'watercolor'\n",
    "    elif taxonomy_id in [107,111]:\n",
    "        return 'more_than_one'\n",
    "    else:\n",
    "        return 'other'\n",
    "\n",
    "def clean_listings_dataframe(paintings_orig_df_by_taxonomy):\n",
    "\n",
    "    #This function will drop the paintings without dimensions info and 'when_made' information.\n",
    "    #Then for all remaining entries the info is consolidated into 27 fields of information in addition to the target column 'price':\n",
    "    # 7 fields are just useful to identify the artifact (the _id's and url), \n",
    "    # 5 are textual descriptions/tags that are unlikely to be very helpful (title, description, tags, materials, style),\n",
    "    # 10 are numerical features that will be used in the predictor: featured_rank, num_favorers, length, width, height, area, aspect_ratio, weight, days_from_original_creation, days_from_last_modifications\n",
    "    # 2 are categorical features that will be used in the predictor: painting_type (4 categories), when_made (4 categories)\n",
    "    # 3 are boolean features: is_customizable, has_variations, made_by_seller\n",
    "\n",
    "    #1) Item dimensions are critical for estimating the price, so I am going to have to drop all the entries that have nan's in either item length or item width or item_dimensions_unit\n",
    "    #I do the same for weight since it's possible that there may be important information there (e.g. if the painting has a frame and is bigger it will weigh more)\n",
    "    paintings_orig_df_by_taxonomy.dropna(axis=0,subset=['item_length','item_width','item_height','item_dimensions_unit','item_weight','item_weight_unit'],inplace=True)\n",
    "\n",
    "    #2) process all the dimensions (converting measurement units, etc.) as follows, also creating new columns 'area' and 'aspect_ratio' (defined by max dim/2nd dimension)\n",
    "    #need to make sure this gets executed only once, so I drop the column with the units afterwards\n",
    "    paintings_orig_df_by_taxonomy['length']=paintings_orig_df_by_taxonomy[['item_length','item_dimensions_unit']].apply(lambda x:format_dimensions(x), axis=1)\n",
    "    paintings_orig_df_by_taxonomy['width']=paintings_orig_df_by_taxonomy[['item_width','item_dimensions_unit']].apply(lambda x:format_dimensions(x), axis=1)\n",
    "    paintings_orig_df_by_taxonomy['height']=paintings_orig_df_by_taxonomy[['item_height','item_dimensions_unit']].apply(lambda x:format_dimensions(x), axis=1)\n",
    "    paintings_orig_df_by_taxonomy.drop(['item_length','item_width','item_height','item_dimensions_unit'],axis=1,inplace=True)\n",
    "    #this is safer because sometimes people confuse height, length and width\n",
    "    paintings_orig_df_by_taxonomy['max_dimension']=paintings_orig_df_by_taxonomy[['width','length','height']].apply(lambda x:np.max(x), axis=1) \n",
    "    paintings_orig_df_by_taxonomy['area']=paintings_orig_df_by_taxonomy[['width','length','height']].apply(lambda x:(np.max(x)*np.median(x)), axis=1) \n",
    "    paintings_orig_df_by_taxonomy['aspect_ratio']=paintings_orig_df_by_taxonomy[['width','length','height']].apply(lambda x:(np.max(x)/np.median(x)), axis=1)\n",
    "\n",
    "    #3) process the weight also, by consolidating units and renaming the column \n",
    "    paintings_orig_df_by_taxonomy['weight']=paintings_orig_df_by_taxonomy[['item_weight','item_weight_unit']].apply(lambda x:format_weight(x), axis=1)\n",
    "    paintings_orig_df_by_taxonomy.drop(['item_weight','item_weight_unit'],axis=1,inplace=True)\n",
    "\n",
    "    #4) The overwhelming majority of paintings is either done in the past 1-2 years or in the previous decade (2010-2019).\n",
    "    #Create categorical feature with 4 categories like ['made_to_order','made_2020s','made_2010s','made_before_2010'] using the original 'when_made' column\n",
    "    #Drop the rows without 'when_made'\n",
    "    paintings_orig_df_by_taxonomy.dropna(axis=0,subset=['when_made'],inplace=True)   \n",
    "    paintings_orig_df_by_taxonomy['when_made']=paintings_orig_df_by_taxonomy['when_made'].apply(lambda x:format_when_made(x)) #, axis=1)\n",
    "\n",
    "    #5) Convert timestamps for original creation and last modification into number of days from the end of 2021\n",
    "    ref_date = datetime.strptime('2021-Dec-31','%Y-%b-%d') \n",
    "    paintings_orig_df_by_taxonomy['days_from_original_creation'] = paintings_orig_df_by_taxonomy['original_creation_timestamp'].apply(lambda x:(datetime.strptime('2021-Dec-31','%Y-%b-%d')-datetime.fromtimestamp(x)).days) #, axis=1)\n",
    "    paintings_orig_df_by_taxonomy['days_from_last_modification'] = paintings_orig_df_by_taxonomy['last_modified_timestamp'].apply(lambda x:(datetime.strptime('2021-Dec-31','%Y-%b-%d')-datetime.fromtimestamp(x)).days) #, axis=1)\n",
    "\n",
    "    #6) Drop all the other timestamp variables\n",
    "    paintings_orig_df_by_taxonomy.drop(['creation_timestamp','ending_timestamp','original_creation_timestamp','last_modified_timestamp','state_timestamp'],axis=1,inplace=True)\n",
    "\n",
    "    #7) Fill the missing values for 'num_favorers' and 'featured_rank' (if any) with the default values 0 and -1 respectively, and the 'who_made' missing values with 'i_did',\n",
    "    #since these are the overwhelmingly must common cases\n",
    "    paintings_orig_df_by_taxonomy['num_favorers'].fillna(value=0,inplace=True)\n",
    "    paintings_orig_df_by_taxonomy['featured_rank'].fillna(value=-1,inplace=True)\n",
    "    paintings_orig_df_by_taxonomy['who_made'].fillna(value='i_did',inplace=True)\n",
    "    \n",
    "    #8) Redefine the 'who_made' variable as a boolean: seller made TRUE or FALSE (if someone_else or collective made it)\n",
    "    paintings_orig_df_by_taxonomy['made_by_seller']=paintings_orig_df_by_taxonomy['who_made'].apply(lambda x:True if x=='i_did' else False) #, axis=1)\n",
    "    #Drop the original column\n",
    "    paintings_orig_df_by_taxonomy.drop(['who_made'],axis=1,inplace=True)\n",
    "\n",
    "    #9) Drop a bunch of columns that are standard for the great majority of the paintings\n",
    "    paintings_orig_df_by_taxonomy.drop(['quantity','listing_type','non_taxable','is_personalizable','personalization_is_required','is_supply','is_private'],axis=1,inplace=True)\n",
    "\n",
    "    #10) Drop a bunch of other info that doesn't matter for the model:\n",
    "    paintings_orig_df_by_taxonomy.drop(['state','personalization_char_count_max','personalization_instructions','processing_min','processing_max','should_auto_renew','language','production_partners','file_data'],axis=1,inplace=True)\n",
    "\n",
    "    #11) Create a new 'painting_type' categorical value from 'taxonomy_id' with only 4 categories: acrylic, oil, watercolor, more_than_one\n",
    "    #(I keep the 'taxonomy_id' column also as an identifier of the item like listing_id, user_id, shop_id, etc.)   \n",
    "    paintings_orig_df_by_taxonomy['painting_type']=paintings_orig_df_by_taxonomy['taxonomy_id'].apply(lambda x:format_taxonomy_id(x)) #, axis=1)\n",
    "\n",
    "    #Note: I am leaving alone the 'free text' columns such as 'title', 'description', 'tags', 'materials' and 'style' for possible future use\n",
    "\n",
    "\n"
   ]
  },
  {
   "cell_type": "code",
   "execution_count": null,
   "metadata": {},
   "outputs": [],
   "source": [
    "#Test the previous procedure on the second subset of watercolor paintings to make sure it works as expected:\n",
    "\n",
    "taxonomy_id = 114\n",
    "\n",
    "csv_filename_pattern = f'./Git_exclude/Data/tax{taxonomy_id}_all_paintings*.csv'\n",
    "tax_csv_files = glob.glob(csv_filename_pattern)\n",
    "tax_114_paintings_df_temp_2 = pd.read_csv(tax_csv_files[1])"
   ]
  },
  {
   "cell_type": "code",
   "execution_count": null,
   "metadata": {},
   "outputs": [],
   "source": [
    "len(tax_114_paintings_df_temp_2)"
   ]
  },
  {
   "cell_type": "code",
   "execution_count": null,
   "metadata": {},
   "outputs": [],
   "source": [
    "tax_114_paintings_df_temp_2.info()"
   ]
  },
  {
   "cell_type": "code",
   "execution_count": null,
   "metadata": {},
   "outputs": [],
   "source": [
    "clean_listings_dataframe(tax_114_paintings_df_temp_2)"
   ]
  },
  {
   "cell_type": "code",
   "execution_count": null,
   "metadata": {},
   "outputs": [],
   "source": [
    "len(tax_114_paintings_df_temp_2)"
   ]
  },
  {
   "cell_type": "code",
   "execution_count": null,
   "metadata": {},
   "outputs": [],
   "source": [
    "tax_114_paintings_df_temp_2.info()"
   ]
  },
  {
   "cell_type": "code",
   "execution_count": null,
   "metadata": {},
   "outputs": [],
   "source": [
    "#So at the end of this cleaning procedure, the second set of ~5000 watercolor paintings (with 45 fields pf information) got reduced to \n",
    "#2200 paintings with ~25 fields of information plus the price target column"
   ]
  },
  {
   "cell_type": "code",
   "execution_count": null,
   "metadata": {},
   "outputs": [],
   "source": []
  },
  {
   "cell_type": "markdown",
   "metadata": {},
   "source": [
    "### Here is the iteration applying the cleaning procedure to all paintings of all taxonomies of interest, and creating a unique dataframe to carry forward for machine learning"
   ]
  },
  {
   "cell_type": "code",
   "execution_count": 24,
   "metadata": {},
   "outputs": [
    {
     "name": "stdout",
     "output_type": "stream",
     "text": [
      "Loaded listings file ./Git_exclude/Data/all_paintings_from_USD250_cleaned_listings.csv with all the cleaned listings (multiple taxonomies).\n"
     ]
    }
   ],
   "source": [
    "import glob\n",
    "\n",
    "#I will drop all the minor taxonomies that have less than 1000 paintings each, combine 107 (Combination) and 111 (Mixed) in a new 'More than one' category and will at the end\n",
    "#have 4 categories with the main taxonomies (106=acrylic, 112=oil, 114=watercolor) + 'more_than_one'\n",
    "\n",
    "min_price = 250.0\n",
    "\n",
    "csv_combined_filename = f'./Git_exclude/Data/all_paintings_from_USD{int(min_price)}_cleaned_listings.csv'\n",
    "    \n",
    "#If the file with all the cleaned listing data already exists, I load it, otherwise I create it with the cleaning steps chosen above\n",
    "try:\n",
    "    all_paintings_df = pd.read_csv(csv_combined_filename)\n",
    "\n",
    "    print(f'Loaded listings file {csv_combined_filename} with all the cleaned listings (multiple taxonomies).')\n",
    "\n",
    "except:\n",
    "    \n",
    "    try: #it by any chance there is a version of 'all_paintings_df' around, I delete it\n",
    "        del all_paintings_df\n",
    "    except NameError:\n",
    "        pass\n",
    "\n",
    "    taxonomies_of_interest = [106, 107, 111, 112, 114]\n",
    "\n",
    "    for taxonomy_id in taxonomies_of_interest:\n",
    "\n",
    "        csv_filename_pattern_tax_id = f'./Git_exclude/Data/tax{taxonomy_id}_all_paintings*.csv'\n",
    "        tax_id_csv_files = glob.glob(csv_filename_pattern_tax_id)\n",
    "\n",
    "        for csv_file in tax_id_csv_files:\n",
    "\n",
    "            tax_id_paintings_df_temp = pd.read_csv(csv_file)\n",
    "\n",
    "            clean_listings_dataframe(tax_id_paintings_df_temp)\n",
    "\n",
    "            try: #concatenate to the other\n",
    "                all_paintings_df = pd.concat([all_paintings_df, tax_id_paintings_df_temp])\n",
    "            except: #if it's the first iteration, I need to create the dataframe where the data of all paintings of all taxonomies will be stored\n",
    "                all_paintings_df = tax_id_paintings_df_temp\n",
    "\n",
    "    #because of the imbalance in prices (watercolors only had paintings up to 672$, oil up to 700$, acrylic up to 750$ and 'more_than_one' up to 662$), \n",
    "    #I only keep paintings with price <= 650$\n",
    "    all_paintings_df = all_paintings_df[all_paintings_df['price']<=650.0]\n",
    "    \n",
    "    #drop all paintings with largest dimension >72in, as those are outliers\n",
    "    all_paintings_df = all_paintings_df[all_paintings_df['max_dimension']<=72.0]\n",
    "\n",
    "    #sort by price in ascending order, with listing_id used next to break ties - this should shuffle the 4 painting types\n",
    "    all_paintings_df.sort_values(by=['price','listing_id'], ascending=True, inplace=True)\n",
    "\n",
    "    #reset index (dropping old ones that are meaningless)\n",
    "    all_paintings_df.reset_index(drop=True, inplace=True)\n",
    "    \n",
    "    #finally save to .csv file for further processing (machine learning model, etc.) and avoiding to recompute everything late\n",
    "    all_paintings_df.to_csv(csv_combined_filename,index=False)\n",
    "    print(f'Saved listings file {csv_combined_filename} with all the cleaned listings (multiple taxonomies).')\n",
    "    \n",
    "    "
   ]
  },
  {
   "cell_type": "code",
   "execution_count": null,
   "metadata": {},
   "outputs": [],
   "source": [
    "len(all_paintings_df)"
   ]
  },
  {
   "cell_type": "code",
   "execution_count": null,
   "metadata": {},
   "outputs": [],
   "source": [
    "#Let's check I have everything as expected\n",
    "all_paintings_df['taxonomy_id'].value_counts()"
   ]
  },
  {
   "cell_type": "code",
   "execution_count": null,
   "metadata": {},
   "outputs": [],
   "source": [
    "all_paintings_df['painting_type'].value_counts()"
   ]
  },
  {
   "cell_type": "code",
   "execution_count": 25,
   "metadata": {},
   "outputs": [
    {
     "name": "stderr",
     "output_type": "stream",
     "text": [
      "C:\\Users\\matte\\anaconda3\\lib\\site-packages\\seaborn\\distributions.py:2551: FutureWarning: `distplot` is a deprecated function and will be removed in a future version. Please adapt your code to use either `displot` (a figure-level function with similar flexibility) or `histplot` (an axes-level function for histograms).\n",
      "  warnings.warn(msg, FutureWarning)\n"
     ]
    },
    {
     "data": {
      "text/plain": [
       "<AxesSubplot:xlabel='price', ylabel='Density'>"
      ]
     },
     "execution_count": 25,
     "metadata": {},
     "output_type": "execute_result"
    },
    {
     "data": {
      "image/png": "[encoded data removed]",
      "text/plain": [
       "<Figure size 432x288 with 1 Axes>"
      ]
     },
     "metadata": {
      "needs_background": "light"
     },
     "output_type": "display_data"
    }
   ],
   "source": [
    "#Let's check the range of prices I have, especially for each painting type\n",
    "import matplotlib.pyplot as plt\n",
    "import seaborn as sns\n",
    "%matplotlib inline\n",
    "sns.distplot(all_paintings_df['price'])"
   ]
  },
  {
   "cell_type": "code",
   "execution_count": 26,
   "metadata": {},
   "outputs": [
    {
     "data": {
      "text/plain": [
       "<AxesSubplot:xlabel='price', ylabel='Count'>"
      ]
     },
     "execution_count": 26,
     "metadata": {},
     "output_type": "execute_result"
    },
    {
     "data": {
      "image/png": "[encoded data removed]",
      "text/plain": [
       "<Figure size 432x288 with 1 Axes>"
      ]
     },
     "metadata": {
      "needs_background": "light"
     },
     "output_type": "display_data"
    }
   ],
   "source": [
    "sns.histplot(all_paintings_df['price'])"
   ]
  },
  {
   "cell_type": "code",
   "execution_count": 27,
   "metadata": {},
   "outputs": [
    {
     "data": {
      "text/plain": [
       "<AxesSubplot:xlabel='price', ylabel='painting_type'>"
      ]
     },
     "execution_count": 27,
     "metadata": {},
     "output_type": "execute_result"
    },
    {
     "data": {
      "image/png": "[encoded data removed]",
      "text/plain": [
       "<Figure size 432x288 with 1 Axes>"
      ]
     },
     "metadata": {
      "needs_background": "light"
     },
     "output_type": "display_data"
    }
   ],
   "source": [
    "#Let's plot by painting type \n",
    "sns.violinplot(x=\"price\", y=\"painting_type\", data=all_paintings_df,palette='rainbow')"
   ]
  },
  {
   "cell_type": "code",
   "execution_count": 28,
   "metadata": {},
   "outputs": [
    {
     "data": {
      "text/html": [
       "<div>\n",
       "<style scoped>\n",
       "    .dataframe tbody tr th:only-of-type {\n",
       "        vertical-align: middle;\n",
       "    }\n",
       "\n",
       "    .dataframe tbody tr th {\n",
       "        vertical-align: top;\n",
       "    }\n",
       "\n",
       "    .dataframe thead th {\n",
       "        text-align: right;\n",
       "    }\n",
       "</style>\n",
       "<table border=\"1\" class=\"dataframe\">\n",
       "  <thead>\n",
       "    <tr style=\"text-align: right;\">\n",
       "      <th></th>\n",
       "      <th>count</th>\n",
       "      <th>mean</th>\n",
       "      <th>std</th>\n",
       "      <th>min</th>\n",
       "      <th>25%</th>\n",
       "      <th>50%</th>\n",
       "      <th>75%</th>\n",
       "      <th>max</th>\n",
       "    </tr>\n",
       "    <tr>\n",
       "      <th>painting_type</th>\n",
       "      <th></th>\n",
       "      <th></th>\n",
       "      <th></th>\n",
       "      <th></th>\n",
       "      <th></th>\n",
       "      <th></th>\n",
       "      <th></th>\n",
       "      <th></th>\n",
       "    </tr>\n",
       "  </thead>\n",
       "  <tbody>\n",
       "    <tr>\n",
       "      <th>acrylic</th>\n",
       "      <td>19635.0</td>\n",
       "      <td>388.141653</td>\n",
       "      <td>120.811372</td>\n",
       "      <td>250.0</td>\n",
       "      <td>275.0</td>\n",
       "      <td>362.0</td>\n",
       "      <td>495.0</td>\n",
       "      <td>650.0</td>\n",
       "    </tr>\n",
       "    <tr>\n",
       "      <th>more_than_one</th>\n",
       "      <td>2988.0</td>\n",
       "      <td>384.157848</td>\n",
       "      <td>111.782780</td>\n",
       "      <td>250.0</td>\n",
       "      <td>295.0</td>\n",
       "      <td>350.0</td>\n",
       "      <td>450.0</td>\n",
       "      <td>650.0</td>\n",
       "    </tr>\n",
       "    <tr>\n",
       "      <th>oil</th>\n",
       "      <td>17473.0</td>\n",
       "      <td>396.342334</td>\n",
       "      <td>111.317943</td>\n",
       "      <td>250.0</td>\n",
       "      <td>299.0</td>\n",
       "      <td>380.0</td>\n",
       "      <td>475.0</td>\n",
       "      <td>650.0</td>\n",
       "    </tr>\n",
       "    <tr>\n",
       "      <th>watercolor</th>\n",
       "      <td>5752.0</td>\n",
       "      <td>361.525421</td>\n",
       "      <td>103.776414</td>\n",
       "      <td>250.0</td>\n",
       "      <td>280.0</td>\n",
       "      <td>325.0</td>\n",
       "      <td>425.0</td>\n",
       "      <td>650.0</td>\n",
       "    </tr>\n",
       "  </tbody>\n",
       "</table>\n",
       "</div>"
      ],
      "text/plain": [
       "                 count        mean         std    min    25%    50%    75%  \\\n",
       "painting_type                                                                \n",
       "acrylic        19635.0  388.141653  120.811372  250.0  275.0  362.0  495.0   \n",
       "more_than_one   2988.0  384.157848  111.782780  250.0  295.0  350.0  450.0   \n",
       "oil            17473.0  396.342334  111.317943  250.0  299.0  380.0  475.0   \n",
       "watercolor      5752.0  361.525421  103.776414  250.0  280.0  325.0  425.0   \n",
       "\n",
       "                 max  \n",
       "painting_type         \n",
       "acrylic        650.0  \n",
       "more_than_one  650.0  \n",
       "oil            650.0  \n",
       "watercolor     650.0  "
      ]
     },
     "execution_count": 28,
     "metadata": {},
     "output_type": "execute_result"
    }
   ],
   "source": [
    "all_paintings_df.groupby(by='painting_type')['price'].describe()"
   ]
  },
  {
   "cell_type": "code",
   "execution_count": 29,
   "metadata": {},
   "outputs": [
    {
     "name": "stdout",
     "output_type": "stream",
     "text": [
      "<class 'pandas.core.frame.DataFrame'>\n",
      "RangeIndex: 45848 entries, 0 to 45847\n",
      "Data columns (total 29 columns):\n",
      " #   Column                       Non-Null Count  Dtype  \n",
      "---  ------                       --------------  -----  \n",
      " 0   listing_id                   45848 non-null  int64  \n",
      " 1   user_id                      45848 non-null  int64  \n",
      " 2   shop_id                      45848 non-null  int64  \n",
      " 3   title                        45848 non-null  object \n",
      " 4   description                  45848 non-null  object \n",
      " 5   shop_section_id              27170 non-null  float64\n",
      " 6   featured_rank                45848 non-null  int64  \n",
      " 7   url                          45848 non-null  object \n",
      " 8   num_favorers                 45848 non-null  int64  \n",
      " 9   is_customizable              45848 non-null  bool   \n",
      " 10  tags                         45848 non-null  object \n",
      " 11  materials                    45848 non-null  object \n",
      " 12  shipping_profile_id          30880 non-null  float64\n",
      " 13  when_made                    45848 non-null  object \n",
      " 14  style                        45848 non-null  object \n",
      " 15  has_variations               45848 non-null  bool   \n",
      " 16  price                        45848 non-null  float64\n",
      " 17  taxonomy_id                  45848 non-null  int64  \n",
      " 18  length                       45848 non-null  float64\n",
      " 19  width                        45848 non-null  float64\n",
      " 20  height                       45848 non-null  float64\n",
      " 21  max_dimension                45848 non-null  float64\n",
      " 22  area                         45848 non-null  float64\n",
      " 23  aspect_ratio                 45848 non-null  float64\n",
      " 24  weight                       45848 non-null  float64\n",
      " 25  days_from_original_creation  45848 non-null  int64  \n",
      " 26  days_from_last_modification  45848 non-null  int64  \n",
      " 27  made_by_seller               45848 non-null  bool   \n",
      " 28  painting_type                45848 non-null  object \n",
      "dtypes: bool(3), float64(10), int64(8), object(8)\n",
      "memory usage: 9.2+ MB\n"
     ]
    }
   ],
   "source": [
    "all_paintings_df.info()"
   ]
  },
  {
   "cell_type": "code",
   "execution_count": 30,
   "metadata": {},
   "outputs": [
    {
     "data": {
      "text/html": [
       "<div>\n",
       "<style scoped>\n",
       "    .dataframe tbody tr th:only-of-type {\n",
       "        vertical-align: middle;\n",
       "    }\n",
       "\n",
       "    .dataframe tbody tr th {\n",
       "        vertical-align: top;\n",
       "    }\n",
       "\n",
       "    .dataframe thead th {\n",
       "        text-align: right;\n",
       "    }\n",
       "</style>\n",
       "<table border=\"1\" class=\"dataframe\">\n",
       "  <thead>\n",
       "    <tr style=\"text-align: right;\">\n",
       "      <th></th>\n",
       "      <th>listing_id</th>\n",
       "      <th>user_id</th>\n",
       "      <th>shop_id</th>\n",
       "      <th>title</th>\n",
       "      <th>description</th>\n",
       "      <th>shop_section_id</th>\n",
       "      <th>featured_rank</th>\n",
       "      <th>url</th>\n",
       "      <th>num_favorers</th>\n",
       "      <th>is_customizable</th>\n",
       "      <th>...</th>\n",
       "      <th>width</th>\n",
       "      <th>height</th>\n",
       "      <th>max_dimension</th>\n",
       "      <th>area</th>\n",
       "      <th>aspect_ratio</th>\n",
       "      <th>weight</th>\n",
       "      <th>days_from_original_creation</th>\n",
       "      <th>days_from_last_modification</th>\n",
       "      <th>made_by_seller</th>\n",
       "      <th>painting_type</th>\n",
       "    </tr>\n",
       "  </thead>\n",
       "  <tbody>\n",
       "    <tr>\n",
       "      <th>0</th>\n",
       "      <td>28584215</td>\n",
       "      <td>7788342</td>\n",
       "      <td>5612716</td>\n",
       "      <td>Nuala - Original Watercolor (Framed)</td>\n",
       "      <td>This is an original watercolor, titled &amp;quot;N...</td>\n",
       "      <td>6306700.0</td>\n",
       "      <td>-1</td>\n",
       "      <td>https://www.etsy.com/listing/28584215/nuala-or...</td>\n",
       "      <td>10</td>\n",
       "      <td>False</td>\n",
       "      <td>...</td>\n",
       "      <td>26.0</td>\n",
       "      <td>8.0</td>\n",
       "      <td>30.0</td>\n",
       "      <td>780.0</td>\n",
       "      <td>1.153846</td>\n",
       "      <td>240.0</td>\n",
       "      <td>4536</td>\n",
       "      <td>168</td>\n",
       "      <td>True</td>\n",
       "      <td>watercolor</td>\n",
       "    </tr>\n",
       "    <tr>\n",
       "      <th>1</th>\n",
       "      <td>40722367</td>\n",
       "      <td>9264578</td>\n",
       "      <td>5800355</td>\n",
       "      <td>US Mail Plane</td>\n",
       "      <td>This is a painting of one of my favorites from...</td>\n",
       "      <td>6798937.0</td>\n",
       "      <td>-1</td>\n",
       "      <td>https://www.etsy.com/listing/40722367/us-mail-...</td>\n",
       "      <td>55</td>\n",
       "      <td>False</td>\n",
       "      <td>...</td>\n",
       "      <td>30.0</td>\n",
       "      <td>4.0</td>\n",
       "      <td>30.0</td>\n",
       "      <td>900.0</td>\n",
       "      <td>1.000000</td>\n",
       "      <td>96.0</td>\n",
       "      <td>4337</td>\n",
       "      <td>134</td>\n",
       "      <td>True</td>\n",
       "      <td>acrylic</td>\n",
       "    </tr>\n",
       "    <tr>\n",
       "      <th>2</th>\n",
       "      <td>47095684</td>\n",
       "      <td>9977031</td>\n",
       "      <td>5889085</td>\n",
       "      <td>Garden Window - original watercolor painting</td>\n",
       "      <td>Spring time in Santa Fe with a sunny window lo...</td>\n",
       "      <td>7409641.0</td>\n",
       "      <td>34</td>\n",
       "      <td>https://www.etsy.com/listing/47095684/garden-w...</td>\n",
       "      <td>32</td>\n",
       "      <td>True</td>\n",
       "      <td>...</td>\n",
       "      <td>16.0</td>\n",
       "      <td>1.0</td>\n",
       "      <td>20.0</td>\n",
       "      <td>320.0</td>\n",
       "      <td>1.250000</td>\n",
       "      <td>32.0</td>\n",
       "      <td>4247</td>\n",
       "      <td>90</td>\n",
       "      <td>True</td>\n",
       "      <td>watercolor</td>\n",
       "    </tr>\n",
       "    <tr>\n",
       "      <th>3</th>\n",
       "      <td>52229780</td>\n",
       "      <td>5976773</td>\n",
       "      <td>5315957</td>\n",
       "      <td>In the Landscape of the Divine Madness -- A Tr...</td>\n",
       "      <td>I like this one because it came straight from ...</td>\n",
       "      <td>6919244.0</td>\n",
       "      <td>-1</td>\n",
       "      <td>https://www.etsy.com/listing/52229780/in-the-l...</td>\n",
       "      <td>5</td>\n",
       "      <td>True</td>\n",
       "      <td>...</td>\n",
       "      <td>16.0</td>\n",
       "      <td>3.0</td>\n",
       "      <td>19.0</td>\n",
       "      <td>304.0</td>\n",
       "      <td>1.187500</td>\n",
       "      <td>48.0</td>\n",
       "      <td>4177</td>\n",
       "      <td>95</td>\n",
       "      <td>True</td>\n",
       "      <td>oil</td>\n",
       "    </tr>\n",
       "    <tr>\n",
       "      <th>4</th>\n",
       "      <td>55639432</td>\n",
       "      <td>9977031</td>\n",
       "      <td>5889085</td>\n",
       "      <td>Kanazawa Side Street - Original Watercolor Pai...</td>\n",
       "      <td>Pedestrian street in Kanazawa, Japan.\\n\\n12&amp;qu...</td>\n",
       "      <td>7033660.0</td>\n",
       "      <td>-1</td>\n",
       "      <td>https://www.etsy.com/listing/55639432/kanazawa...</td>\n",
       "      <td>37</td>\n",
       "      <td>True</td>\n",
       "      <td>...</td>\n",
       "      <td>22.0</td>\n",
       "      <td>1.0</td>\n",
       "      <td>26.0</td>\n",
       "      <td>572.0</td>\n",
       "      <td>1.181818</td>\n",
       "      <td>48.0</td>\n",
       "      <td>4133</td>\n",
       "      <td>90</td>\n",
       "      <td>True</td>\n",
       "      <td>watercolor</td>\n",
       "    </tr>\n",
       "  </tbody>\n",
       "</table>\n",
       "<p>5 rows × 29 columns</p>\n",
       "</div>"
      ],
      "text/plain": [
       "   listing_id  user_id  shop_id  \\\n",
       "0    28584215  7788342  5612716   \n",
       "1    40722367  9264578  5800355   \n",
       "2    47095684  9977031  5889085   \n",
       "3    52229780  5976773  5315957   \n",
       "4    55639432  9977031  5889085   \n",
       "\n",
       "                                               title  \\\n",
       "0               Nuala - Original Watercolor (Framed)   \n",
       "1                                      US Mail Plane   \n",
       "2       Garden Window - original watercolor painting   \n",
       "3  In the Landscape of the Divine Madness -- A Tr...   \n",
       "4  Kanazawa Side Street - Original Watercolor Pai...   \n",
       "\n",
       "                                         description  shop_section_id  \\\n",
       "0  This is an original watercolor, titled &quot;N...        6306700.0   \n",
       "1  This is a painting of one of my favorites from...        6798937.0   \n",
       "2  Spring time in Santa Fe with a sunny window lo...        7409641.0   \n",
       "3  I like this one because it came straight from ...        6919244.0   \n",
       "4  Pedestrian street in Kanazawa, Japan.\\n\\n12&qu...        7033660.0   \n",
       "\n",
       "   featured_rank                                                url  \\\n",
       "0             -1  https://www.etsy.com/listing/28584215/nuala-or...   \n",
       "1             -1  https://www.etsy.com/listing/40722367/us-mail-...   \n",
       "2             34  https://www.etsy.com/listing/47095684/garden-w...   \n",
       "3             -1  https://www.etsy.com/listing/52229780/in-the-l...   \n",
       "4             -1  https://www.etsy.com/listing/55639432/kanazawa...   \n",
       "\n",
       "   num_favorers  is_customizable  ... width height  max_dimension   area  \\\n",
       "0            10            False  ...  26.0    8.0           30.0  780.0   \n",
       "1            55            False  ...  30.0    4.0           30.0  900.0   \n",
       "2            32             True  ...  16.0    1.0           20.0  320.0   \n",
       "3             5             True  ...  16.0    3.0           19.0  304.0   \n",
       "4            37             True  ...  22.0    1.0           26.0  572.0   \n",
       "\n",
       "  aspect_ratio  weight  days_from_original_creation  \\\n",
       "0     1.153846   240.0                         4536   \n",
       "1     1.000000    96.0                         4337   \n",
       "2     1.250000    32.0                         4247   \n",
       "3     1.187500    48.0                         4177   \n",
       "4     1.181818    48.0                         4133   \n",
       "\n",
       "   days_from_last_modification  made_by_seller  painting_type  \n",
       "0                          168            True     watercolor  \n",
       "1                          134            True        acrylic  \n",
       "2                           90            True     watercolor  \n",
       "3                           95            True            oil  \n",
       "4                           90            True     watercolor  \n",
       "\n",
       "[5 rows x 29 columns]"
      ]
     },
     "execution_count": 30,
     "metadata": {},
     "output_type": "execute_result"
    }
   ],
   "source": [
    "all_paintings_df.head()"
   ]
  },
  {
   "cell_type": "markdown",
   "metadata": {},
   "source": [
    "# PART 3: Preliminary analysis - and further preselection - of combined data from all paintings of all taxonomies of interest"
   ]
  },
  {
   "cell_type": "markdown",
   "metadata": {},
   "source": [
    "Numerical features\n",
    "\n",
    "1) Dependence of price on painting dimensions"
   ]
  },
  {
   "cell_type": "code",
   "execution_count": null,
   "metadata": {},
   "outputs": [],
   "source": [
    "sns.jointplot(x='area',y='price',data=all_paintings_df,kind='hex')"
   ]
  },
  {
   "cell_type": "code",
   "execution_count": null,
   "metadata": {},
   "outputs": [],
   "source": [
    "sns.distplot(all_paintings_df['area'])"
   ]
  },
  {
   "cell_type": "code",
   "execution_count": null,
   "metadata": {},
   "outputs": [],
   "source": [
    "pd.set_option('display.max_colwidth',100)\n",
    "all_paintings_df.sort_values(by='area', ascending=False)[['length','width','height','aspect_ratio','area','weight','price','url']].head(20)"
   ]
  },
  {
   "cell_type": "code",
   "execution_count": null,
   "metadata": {},
   "outputs": [],
   "source": [
    "#I checked and most of the above were outliers, in that either the same number was reported on both height and length, or the reported unit was wrong, or the numbers were flat out reported wrong\n",
    "#So there will certainly be noise in these numbers, as well as in the aspect ratio and area numbers"
   ]
  },
  {
   "cell_type": "code",
   "execution_count": null,
   "metadata": {},
   "outputs": [],
   "source": [
    "#Let's try with max dimension that may be more robust to outliers\n",
    "sns.jointplot(x='max_dimension',y='price',data=all_paintings_df,kind='hex')"
   ]
  },
  {
   "cell_type": "code",
   "execution_count": null,
   "metadata": {},
   "outputs": [],
   "source": [
    "#aspect ratio looks even more prone to outliers than the area or max_dimension\n",
    "sns.jointplot(x='aspect_ratio',y='price',data=all_paintings_df,kind='hex',xlim=[0,5])"
   ]
  },
  {
   "cell_type": "code",
   "execution_count": null,
   "metadata": {},
   "outputs": [],
   "source": [
    "all_paintings_df.sort_values(by='aspect_ratio', ascending=False)[['length','width','height','aspect_ratio','area','weight','price','url']].head(20)"
   ]
  },
  {
   "cell_type": "code",
   "execution_count": null,
   "metadata": {},
   "outputs": [],
   "source": [
    "sns.jointplot(x='weight',y='price',data=all_paintings_df,kind='hist',xlim=[0,200])"
   ]
  },
  {
   "cell_type": "markdown",
   "metadata": {},
   "source": [
    "2) Dependence of price on num favorers and featured rank"
   ]
  },
  {
   "cell_type": "code",
   "execution_count": null,
   "metadata": {},
   "outputs": [],
   "source": [
    "sns.jointplot(x='num_favorers',y='price',data=all_paintings_df,kind='hist',xlim=[0,10])"
   ]
  },
  {
   "cell_type": "code",
   "execution_count": null,
   "metadata": {},
   "outputs": [],
   "source": [
    "sns.jointplot(x='num_favorers',y='price',data=all_paintings_df[all_paintings_df['num_favorers']>0],kind='hex',xlim=[0,20])"
   ]
  },
  {
   "cell_type": "code",
   "execution_count": null,
   "metadata": {},
   "outputs": [],
   "source": [
    "all_paintings_df['num_favorers'].value_counts()"
   ]
  },
  {
   "cell_type": "code",
   "execution_count": null,
   "metadata": {},
   "outputs": [],
   "source": [
    "sns.jointplot(x='featured_rank',y='price',data=all_paintings_df[all_paintings_df['featured_rank']>-1],kind='hex',xlim=[0,50])"
   ]
  },
  {
   "cell_type": "code",
   "execution_count": null,
   "metadata": {},
   "outputs": [],
   "source": [
    "all_paintings_df['featured_rank'].value_counts()"
   ]
  },
  {
   "cell_type": "markdown",
   "metadata": {},
   "source": [
    "3) Dependence on time of creation or modification vs price"
   ]
  },
  {
   "cell_type": "code",
   "execution_count": null,
   "metadata": {},
   "outputs": [],
   "source": [
    "sns.jointplot(x='days_from_original_creation',y='price',data=all_paintings_df,kind='hex',xlim=[0,1000])"
   ]
  },
  {
   "cell_type": "code",
   "execution_count": null,
   "metadata": {},
   "outputs": [],
   "source": [
    "sns.jointplot(x='days_from_last_modification',y='price',data=all_paintings_df,kind='hex',xlim=[0,300])"
   ]
  },
  {
   "cell_type": "markdown",
   "metadata": {},
   "source": [
    "Categorical features:\n",
    "    \n",
    "4) Dependence of price on the taxonomy (watercolors, oil, etc.)"
   ]
  },
  {
   "cell_type": "code",
   "execution_count": null,
   "metadata": {},
   "outputs": [],
   "source": [
    "sns.boxplot(x=\"painting_type\", y=\"price\", data=all_paintings_df,palette='rainbow')"
   ]
  },
  {
   "cell_type": "markdown",
   "metadata": {},
   "source": [
    "5) Dependence of price on when the painting was made (2020's, 2010s, etc)"
   ]
  },
  {
   "cell_type": "code",
   "execution_count": null,
   "metadata": {},
   "outputs": [],
   "source": [
    "sns.boxplot(x=\"when_made\", y=\"price\", data=all_paintings_df,palette='rainbow')"
   ]
  },
  {
   "cell_type": "markdown",
   "metadata": {},
   "source": [
    "Boolean features:\n",
    "\n",
    "6) Painting customizable"
   ]
  },
  {
   "cell_type": "code",
   "execution_count": null,
   "metadata": {},
   "outputs": [],
   "source": [
    "sns.boxplot(x=\"painting_type\", y=\"price\",hue='is_customizable', data=all_paintings_df,palette='rainbow')"
   ]
  },
  {
   "cell_type": "markdown",
   "metadata": {},
   "source": [
    "7) Painting has variations"
   ]
  },
  {
   "cell_type": "code",
   "execution_count": null,
   "metadata": {},
   "outputs": [],
   "source": [
    "sns.boxplot(x=\"painting_type\", y=\"price\",hue='has_variations', data=all_paintings_df,palette='rainbow')"
   ]
  },
  {
   "cell_type": "markdown",
   "metadata": {},
   "source": [
    "8) Painting made by seller"
   ]
  },
  {
   "cell_type": "code",
   "execution_count": null,
   "metadata": {},
   "outputs": [],
   "source": [
    "sns.boxplot(x=\"painting_type\", y=\"price\",hue='made_by_seller', data=all_paintings_df,palette='rainbow')"
   ]
  },
  {
   "cell_type": "code",
   "execution_count": null,
   "metadata": {},
   "outputs": [],
   "source": [
    "#It looks like many of the numerical or categorical features have a mild predictive power on the price of the painting\n",
    "#I need to quantify more qualitative features, such as the style of the paintings, its colors, etc."
   ]
  },
  {
   "cell_type": "markdown",
   "metadata": {},
   "source": [
    "### Extract style tags from the 'tags' column, and combine with possible 'style' tags already present  "
   ]
  },
  {
   "cell_type": "code",
   "execution_count": null,
   "metadata": {},
   "outputs": [],
   "source": [
    "#Let's check how many entries have tags and style information"
   ]
  },
  {
   "cell_type": "code",
   "execution_count": 31,
   "metadata": {},
   "outputs": [],
   "source": [
    "all_paintings_df['num_style_tags']=all_paintings_df['style'].apply(lambda x:len(eval(x)))"
   ]
  },
  {
   "cell_type": "code",
   "execution_count": 32,
   "metadata": {},
   "outputs": [
    {
     "data": {
      "text/plain": [
       "array([0, 1, 2], dtype=int64)"
      ]
     },
     "execution_count": 32,
     "metadata": {},
     "output_type": "execute_result"
    }
   ],
   "source": [
    "all_paintings_df['num_style_tags'].unique()"
   ]
  },
  {
   "cell_type": "code",
   "execution_count": 33,
   "metadata": {},
   "outputs": [
    {
     "data": {
      "text/plain": [
       "0    41743\n",
       "2     3619\n",
       "1      486\n",
       "Name: num_style_tags, dtype: int64"
      ]
     },
     "execution_count": 33,
     "metadata": {},
     "output_type": "execute_result"
    }
   ],
   "source": [
    "all_paintings_df['num_style_tags'].value_counts()"
   ]
  },
  {
   "cell_type": "code",
   "execution_count": 34,
   "metadata": {},
   "outputs": [],
   "source": [
    "#Only ~4000 paintings have style tags, but many more have general tags:\n",
    "all_paintings_df['num_tags']=all_paintings_df['tags'].apply(lambda x:len(eval(x)))"
   ]
  },
  {
   "cell_type": "code",
   "execution_count": 35,
   "metadata": {},
   "outputs": [
    {
     "data": {
      "text/plain": [
       "array([ 3, 12,  8, 13,  6,  7,  0,  9, 11,  4, 10,  5,  2,  1],\n",
       "      dtype=int64)"
      ]
     },
     "execution_count": 35,
     "metadata": {},
     "output_type": "execute_result"
    }
   ],
   "source": [
    "all_paintings_df['num_tags'].unique()"
   ]
  },
  {
   "cell_type": "code",
   "execution_count": 36,
   "metadata": {},
   "outputs": [
    {
     "data": {
      "text/plain": [
       "13    22176\n",
       "0      6241\n",
       "12     2833\n",
       "11     1975\n",
       "8      1766\n",
       "10     1756\n",
       "9      1753\n",
       "7      1631\n",
       "6      1591\n",
       "5      1426\n",
       "4      1116\n",
       "3       733\n",
       "1       480\n",
       "2       371\n",
       "Name: num_tags, dtype: int64"
      ]
     },
     "execution_count": 36,
     "metadata": {},
     "output_type": "execute_result"
    }
   ],
   "source": [
    "all_paintings_df['num_tags'].value_counts()"
   ]
  },
  {
   "cell_type": "code",
   "execution_count": 37,
   "metadata": {},
   "outputs": [],
   "source": [
    "#Can I find which of these tags are 'style' categorizations so to increase the number of entries which have style tags"
   ]
  },
  {
   "cell_type": "code",
   "execution_count": 38,
   "metadata": {},
   "outputs": [],
   "source": [
    "#Let's list all the different style tags found in exclusively the 'style' column and create a dictionary"
   ]
  },
  {
   "cell_type": "code",
   "execution_count": 39,
   "metadata": {},
   "outputs": [],
   "source": [
    "paintings_with_orig_style_tags_df = all_paintings_df[all_paintings_df['num_style_tags']>0]"
   ]
  },
  {
   "cell_type": "code",
   "execution_count": 40,
   "metadata": {},
   "outputs": [
    {
     "data": {
      "text/plain": [
       "\"['Southwestern']\""
      ]
     },
     "execution_count": 40,
     "metadata": {},
     "output_type": "execute_result"
    }
   ],
   "source": [
    "paintings_with_orig_style_tags_df['style'].iloc[0]"
   ]
  },
  {
   "cell_type": "code",
   "execution_count": 41,
   "metadata": {},
   "outputs": [
    {
     "name": "stderr",
     "output_type": "stream",
     "text": [
      "<ipython-input-41-4b222c6f3fe4>:2: SettingWithCopyWarning: \n",
      "A value is trying to be set on a copy of a slice from a DataFrame.\n",
      "Try using .loc[row_indexer,col_indexer] = value instead\n",
      "\n",
      "See the caveats in the documentation: https://pandas.pydata.org/pandas-docs/stable/user_guide/indexing.html#returning-a-view-versus-a-copy\n",
      "  paintings_with_orig_style_tags_df['style']=paintings_with_orig_style_tags_df['style'].apply(lambda x:eval(x))\n"
     ]
    }
   ],
   "source": [
    "#convert the style tags from strings representing lists to actual lists\n",
    "paintings_with_orig_style_tags_df['style']=paintings_with_orig_style_tags_df['style'].apply(lambda x:eval(x))"
   ]
  },
  {
   "cell_type": "code",
   "execution_count": 42,
   "metadata": {},
   "outputs": [
    {
     "data": {
      "text/plain": [
       "['Southwestern']"
      ]
     },
     "execution_count": 42,
     "metadata": {},
     "output_type": "execute_result"
    }
   ],
   "source": [
    "paintings_with_orig_style_tags_df['style'].iloc[0]"
   ]
  },
  {
   "cell_type": "code",
   "execution_count": 43,
   "metadata": {},
   "outputs": [],
   "source": [
    "style_all_list = []\n",
    "[style_all_list.append(style_tag.lower()) \n",
    " for style_tags in paintings_with_orig_style_tags_df['style']\n",
    " for style_tag in style_tags if style_tag.lower() not in style_all_list];"
   ]
  },
  {
   "cell_type": "code",
   "execution_count": 44,
   "metadata": {},
   "outputs": [
    {
     "data": {
      "text/plain": [
       "['southwestern',\n",
       " 'folk',\n",
       " 'modern',\n",
       " 'abstract',\n",
       " 'landscape',\n",
       " 'realism',\n",
       " 'mediterranean',\n",
       " 'traditional',\n",
       " 'expressionist',\n",
       " 'architectural',\n",
       " 'beach',\n",
       " 'nautical',\n",
       " 'art deco',\n",
       " 'historical',\n",
       " 'art nouveau',\n",
       " 'fantasy',\n",
       " 'hipster',\n",
       " 'minimalist',\n",
       " 'mod',\n",
       " 'hollywood regency',\n",
       " 'primitive',\n",
       " 'country western',\n",
       " 'rustic',\n",
       " 'mid century',\n",
       " 'cottage chic',\n",
       " 'boho',\n",
       " 'asian',\n",
       " 'retro',\n",
       " 'woodland',\n",
       " 'tribal',\n",
       " 'neoclassical',\n",
       " 'edwardian',\n",
       " 'zen',\n",
       " 'renaissance',\n",
       " 'goth',\n",
       " 'hippie',\n",
       " 'high fashion',\n",
       " 'spooky',\n",
       " 'avant garde',\n",
       " 'kitsch',\n",
       " 'athletic',\n",
       " 'rocker',\n",
       " 'automobilia',\n",
       " 'sci fi',\n",
       " 'expressionism',\n",
       " 'photorealism',\n",
       " 'steampunk',\n",
       " 'realism expressionism expressionist oil paint',\n",
       " 'impressionistic',\n",
       " 'african',\n",
       " 'impressionism',\n",
       " 'plein air',\n",
       " 'impressionist',\n",
       " 'horror',\n",
       " 'vintage',\n",
       " 'pop art',\n",
       " 'burlesque',\n",
       " 'expressionism impressionist expressionist',\n",
       " 'floral',\n",
       " 'americana american portrait painting realism',\n",
       " 'impressionism impressionist',\n",
       " 'antique english landscape watercolor art pain',\n",
       " 'nature inspired',\n",
       " 'romantic portrait man woman kissing painting',\n",
       " 'antique boats coastal landscape nautical art',\n",
       " 'contemporary art',\n",
       " 'модернизм',\n",
       " 'cовременный',\n",
       " 'romanticism',\n",
       " 'representational',\n",
       " 'kawaii',\n",
       " 'victorian',\n",
       " 'military',\n",
       " 'industrial',\n",
       " 'impressionist vintage impressionism',\n",
       " 'americana impressionist impressionism',\n",
       " 'european coastal landscape painting impressio',\n",
       " 'personalized',\n",
       " 'sentimental',\n",
       " 'традиционный',\n",
       " 'techie',\n",
       " 'resort',\n",
       " 'original portrait oil painting american india',\n",
       " 'romantic',\n",
       " 'mid century modern',\n",
       " 'surrealistic',\n",
       " '21st century impressionism',\n",
       " 'неоклассический',\n",
       " 'impressionist impressionism expressionist',\n",
       " 'regency',\n",
       " 'vintage abstract expressionist modernism mode',\n",
       " 'expressionist expressionism mcm mid century m',\n",
       " 'vintage boats nautical art coastal landscape ',\n",
       " 'coastal landscape beach seagulls art oil pain',\n",
       " 'american western desert indian art landscape',\n",
       " 'american expressionist portrait woman lady mc',\n",
       " 'expressionism mcm modernist modernism',\n",
       " 'italian landscape oil painting boats buldings',\n",
       " 'yellow sunflowers floral still life painting',\n",
       " 'coastal landscape art painting ships building',\n",
       " 'contemporary',\n",
       " 'mpressionist',\n",
       " 'streetscape',\n",
       " 'hip hop',\n",
       " 'impressionistic realism',\n",
       " 'pop',\n",
       " 'seascape',\n",
       " 'portrait',\n",
       " 'nude',\n",
       " 'antique oil painting landscape trees england',\n",
       " 'american impressionist landscape art lake tre',\n",
       " 'americana',\n",
       " 'vintage signed landscape oil painting indians',\n",
       " 'shabby chic',\n",
       " 'painterly',\n",
       " 'my style',\n",
       " 'illustration art',\n",
       " 'outsider art',\n",
       " 'artistic',\n",
       " 'americana portrait art deco woman folding fan',\n",
       " 'природный',\n",
       " 'european woman female portrait art painting',\n",
       " 'antque religious madonna christ jesus paintin',\n",
       " 'mcm decorative lee reynolds art painting boat',\n",
       " 'vintage oil painting landscape american cowbo',\n",
       " 'tropica; beach coastal landscape egrets birds',\n",
       " 'american impressionist oil painting landscape',\n",
       " 'cityscape',\n",
       " 'minimalism',\n",
       " 'abstract realism',\n",
       " 'realism european coastal landscape',\n",
       " 'abstract expressionist expressionism',\n",
       " 'realistic',\n",
       " 'german european landscape mountain home  art',\n",
       " 'german european landscape cow goat art',\n",
       " 'минимализм',\n",
       " 'деревенский',\n",
       " 'cредиземноморский',\n",
       " 'wildlife',\n",
       " 'морской',\n",
       " 'вестерн',\n",
       " 'абстрактный',\n",
       " 'nostalgic',\n",
       " 'expressionist expressionism',\n",
       " 'surrealism mid century modern modernist lands',\n",
       " 'modernism expressionist latin american art mc',\n",
       " 'music art',\n",
       " 'figurative',\n",
       " 'antique portrait oil painting woman french fr',\n",
       " 'still life painting yellow flowers mcm',\n",
       " 'americana landscape trees fall leaf impressio',\n",
       " 'american realism',\n",
       " 'mature',\n",
       " 'orientalist',\n",
       " 'american mcm expressionist oil painting abstr']"
      ]
     },
     "execution_count": 44,
     "metadata": {},
     "output_type": "execute_result"
    }
   ],
   "source": [
    "style_all_list"
   ]
  },
  {
   "cell_type": "code",
   "execution_count": 45,
   "metadata": {},
   "outputs": [],
   "source": [
    "paintings_with_tags_df = all_paintings_df.query('(num_tags>0) | (num_style_tags>0)')\n",
    "#paintings_with_tags_df = all_paintings_df[all_paintings_df['num_tags']>0 | all_paintings_df['num_style_tags']>0]"
   ]
  },
  {
   "cell_type": "code",
   "execution_count": 46,
   "metadata": {},
   "outputs": [
    {
     "data": {
      "text/plain": [
       "['original painting', 'painting', 'watercolor']"
      ]
     },
     "execution_count": 46,
     "metadata": {},
     "output_type": "execute_result"
    }
   ],
   "source": [
    "eval(paintings_with_tags_df['tags'].iloc[0]) "
   ]
  },
  {
   "cell_type": "code",
   "execution_count": 47,
   "metadata": {},
   "outputs": [
    {
     "data": {
      "text/plain": [
       "set()"
      ]
     },
     "execution_count": 47,
     "metadata": {},
     "output_type": "execute_result"
    }
   ],
   "source": [
    "set(eval(paintings_with_tags_df['tags'].iloc[0])).intersection(style_all_list)"
   ]
  },
  {
   "cell_type": "code",
   "execution_count": 48,
   "metadata": {},
   "outputs": [
    {
     "data": {
      "text/plain": [
       "{'contemporary', 'modern'}"
      ]
     },
     "execution_count": 48,
     "metadata": {},
     "output_type": "execute_result"
    }
   ],
   "source": [
    "set(eval(paintings_with_tags_df['tags'].iloc[10])).intersection(style_all_list)"
   ]
  },
  {
   "cell_type": "code",
   "execution_count": 49,
   "metadata": {},
   "outputs": [],
   "source": [
    "def format_style_tags(tags,style_tags):\n",
    "    tags_list = [tag.lower() for tag in eval(tags)]\n",
    "    style_tags_list = [style_tag.lower() for style_tag in eval(style_tags)]\n",
    "    return list(set(style_tags_list).union(set(tags_list).intersection(style_all_list)))"
   ]
  },
  {
   "cell_type": "code",
   "execution_count": 50,
   "metadata": {},
   "outputs": [
    {
     "name": "stderr",
     "output_type": "stream",
     "text": [
      "<ipython-input-50-39a36bf63911>:1: SettingWithCopyWarning: \n",
      "A value is trying to be set on a copy of a slice from a DataFrame.\n",
      "Try using .loc[row_indexer,col_indexer] = value instead\n",
      "\n",
      "See the caveats in the documentation: https://pandas.pydata.org/pandas-docs/stable/user_guide/indexing.html#returning-a-view-versus-a-copy\n",
      "  paintings_with_tags_df['style_tags_new']=paintings_with_tags_df[['tags','style']].apply(lambda x:format_style_tags(x[0],x[1]),axis=1)\n"
     ]
    }
   ],
   "source": [
    "paintings_with_tags_df['style_tags_new']=paintings_with_tags_df[['tags','style']].apply(lambda x:format_style_tags(x[0],x[1]),axis=1)"
   ]
  },
  {
   "cell_type": "code",
   "execution_count": 51,
   "metadata": {},
   "outputs": [
    {
     "data": {
      "text/html": [
       "<div>\n",
       "<style scoped>\n",
       "    .dataframe tbody tr th:only-of-type {\n",
       "        vertical-align: middle;\n",
       "    }\n",
       "\n",
       "    .dataframe tbody tr th {\n",
       "        vertical-align: top;\n",
       "    }\n",
       "\n",
       "    .dataframe thead th {\n",
       "        text-align: right;\n",
       "    }\n",
       "</style>\n",
       "<table border=\"1\" class=\"dataframe\">\n",
       "  <thead>\n",
       "    <tr style=\"text-align: right;\">\n",
       "      <th></th>\n",
       "      <th>tags</th>\n",
       "      <th>style</th>\n",
       "      <th>style_tags_new</th>\n",
       "    </tr>\n",
       "  </thead>\n",
       "  <tbody>\n",
       "    <tr>\n",
       "      <th>0</th>\n",
       "      <td>['original painting', 'painting', 'watercolor']</td>\n",
       "      <td>[]</td>\n",
       "      <td>[]</td>\n",
       "    </tr>\n",
       "    <tr>\n",
       "      <th>1</th>\n",
       "      <td>['toys', 'plane', 'vintage', 'children', 'nurs...</td>\n",
       "      <td>[]</td>\n",
       "      <td>[vintage]</td>\n",
       "    </tr>\n",
       "    <tr>\n",
       "      <th>2</th>\n",
       "      <td>['watercolor', 'southwest', 'adobe', 'santa fe...</td>\n",
       "      <td>[]</td>\n",
       "      <td>[]</td>\n",
       "    </tr>\n",
       "    <tr>\n",
       "      <th>3</th>\n",
       "      <td>['original painting', 'surreal', 'surrealism',...</td>\n",
       "      <td>[]</td>\n",
       "      <td>[abstract, landscape]</td>\n",
       "    </tr>\n",
       "    <tr>\n",
       "      <th>4</th>\n",
       "      <td>['original painting', 'landscape', 'japan', 'k...</td>\n",
       "      <td>[]</td>\n",
       "      <td>[streetscape, landscape]</td>\n",
       "    </tr>\n",
       "    <tr>\n",
       "      <th>5</th>\n",
       "      <td>['landscape', 'adobe', 'santa fe', 'new mexico...</td>\n",
       "      <td>['Southwestern']</td>\n",
       "      <td>[southwestern, landscape, cityscape]</td>\n",
       "    </tr>\n",
       "    <tr>\n",
       "      <th>6</th>\n",
       "      <td>['Garden of pink roses', 'watercolor painting'...</td>\n",
       "      <td>[]</td>\n",
       "      <td>[]</td>\n",
       "    </tr>\n",
       "    <tr>\n",
       "      <th>7</th>\n",
       "      <td>['japanese wildlife', 'japan wildlife art', 'o...</td>\n",
       "      <td>[]</td>\n",
       "      <td>[]</td>\n",
       "    </tr>\n",
       "    <tr>\n",
       "      <th>9</th>\n",
       "      <td>['custom portrait', 'Pet portrait', 'Custom pe...</td>\n",
       "      <td>['Folk', 'Modern']</td>\n",
       "      <td>[modern, folk]</td>\n",
       "    </tr>\n",
       "    <tr>\n",
       "      <th>10</th>\n",
       "      <td>['pen and ink', 'acrylic ink', 'line', 'blue',...</td>\n",
       "      <td>['Abstract', 'Modern']</td>\n",
       "      <td>[abstract, modern]</td>\n",
       "    </tr>\n",
       "    <tr>\n",
       "      <th>11</th>\n",
       "      <td>['abstract art', 'textured painting', 'modern'...</td>\n",
       "      <td>['Abstract', 'Abstract']</td>\n",
       "      <td>[abstract, contemporary, modern]</td>\n",
       "    </tr>\n",
       "    <tr>\n",
       "      <th>12</th>\n",
       "      <td>['watercolor', 'original', 'birds', 'water', '...</td>\n",
       "      <td>[]</td>\n",
       "      <td>[realism, fantasy]</td>\n",
       "    </tr>\n",
       "    <tr>\n",
       "      <th>13</th>\n",
       "      <td>['realism', 'canvas', 'original', 'blue glass'...</td>\n",
       "      <td>['Landscape', 'realism']</td>\n",
       "      <td>[realism, landscape]</td>\n",
       "    </tr>\n",
       "    <tr>\n",
       "      <th>14</th>\n",
       "      <td>['Art Painting', 'landscape painting', 'oil pa...</td>\n",
       "      <td>['Modern', 'Mediterranean']</td>\n",
       "      <td>[mediterranean, modern]</td>\n",
       "    </tr>\n",
       "    <tr>\n",
       "      <th>15</th>\n",
       "      <td>['Landscape Painting', 'Oil painting', 'Abstra...</td>\n",
       "      <td>['Abstract']</td>\n",
       "      <td>[abstract, impressionist]</td>\n",
       "    </tr>\n",
       "    <tr>\n",
       "      <th>16</th>\n",
       "      <td>['fun dog pictures', 'white german', 'rotweill...</td>\n",
       "      <td>[]</td>\n",
       "      <td>[]</td>\n",
       "    </tr>\n",
       "    <tr>\n",
       "      <th>17</th>\n",
       "      <td>['small painting', 'plein air', 'impressionism...</td>\n",
       "      <td>['Southwestern', 'Traditional']</td>\n",
       "      <td>[realism, southwestern, impressionism, abstrac...</td>\n",
       "    </tr>\n",
       "    <tr>\n",
       "      <th>18</th>\n",
       "      <td>['penguins', 'fish', 'sea', 'ocean', 'water', ...</td>\n",
       "      <td>[]</td>\n",
       "      <td>[]</td>\n",
       "    </tr>\n",
       "    <tr>\n",
       "      <th>19</th>\n",
       "      <td>['gesso art panel', '16 x 20', '20 x 24 framed...</td>\n",
       "      <td>[]</td>\n",
       "      <td>[]</td>\n",
       "    </tr>\n",
       "    <tr>\n",
       "      <th>20</th>\n",
       "      <td>['Sunset in NZ', 'original art', 'oil painting...</td>\n",
       "      <td>[]</td>\n",
       "      <td>[]</td>\n",
       "    </tr>\n",
       "  </tbody>\n",
       "</table>\n",
       "</div>"
      ],
      "text/plain": [
       "                                                 tags  \\\n",
       "0     ['original painting', 'painting', 'watercolor']   \n",
       "1   ['toys', 'plane', 'vintage', 'children', 'nurs...   \n",
       "2   ['watercolor', 'southwest', 'adobe', 'santa fe...   \n",
       "3   ['original painting', 'surreal', 'surrealism',...   \n",
       "4   ['original painting', 'landscape', 'japan', 'k...   \n",
       "5   ['landscape', 'adobe', 'santa fe', 'new mexico...   \n",
       "6   ['Garden of pink roses', 'watercolor painting'...   \n",
       "7   ['japanese wildlife', 'japan wildlife art', 'o...   \n",
       "9   ['custom portrait', 'Pet portrait', 'Custom pe...   \n",
       "10  ['pen and ink', 'acrylic ink', 'line', 'blue',...   \n",
       "11  ['abstract art', 'textured painting', 'modern'...   \n",
       "12  ['watercolor', 'original', 'birds', 'water', '...   \n",
       "13  ['realism', 'canvas', 'original', 'blue glass'...   \n",
       "14  ['Art Painting', 'landscape painting', 'oil pa...   \n",
       "15  ['Landscape Painting', 'Oil painting', 'Abstra...   \n",
       "16  ['fun dog pictures', 'white german', 'rotweill...   \n",
       "17  ['small painting', 'plein air', 'impressionism...   \n",
       "18  ['penguins', 'fish', 'sea', 'ocean', 'water', ...   \n",
       "19  ['gesso art panel', '16 x 20', '20 x 24 framed...   \n",
       "20  ['Sunset in NZ', 'original art', 'oil painting...   \n",
       "\n",
       "                              style  \\\n",
       "0                                []   \n",
       "1                                []   \n",
       "2                                []   \n",
       "3                                []   \n",
       "4                                []   \n",
       "5                  ['Southwestern']   \n",
       "6                                []   \n",
       "7                                []   \n",
       "9                ['Folk', 'Modern']   \n",
       "10           ['Abstract', 'Modern']   \n",
       "11         ['Abstract', 'Abstract']   \n",
       "12                               []   \n",
       "13         ['Landscape', 'realism']   \n",
       "14      ['Modern', 'Mediterranean']   \n",
       "15                     ['Abstract']   \n",
       "16                               []   \n",
       "17  ['Southwestern', 'Traditional']   \n",
       "18                               []   \n",
       "19                               []   \n",
       "20                               []   \n",
       "\n",
       "                                       style_tags_new  \n",
       "0                                                  []  \n",
       "1                                           [vintage]  \n",
       "2                                                  []  \n",
       "3                               [abstract, landscape]  \n",
       "4                            [streetscape, landscape]  \n",
       "5                [southwestern, landscape, cityscape]  \n",
       "6                                                  []  \n",
       "7                                                  []  \n",
       "9                                      [modern, folk]  \n",
       "10                                 [abstract, modern]  \n",
       "11                   [abstract, contemporary, modern]  \n",
       "12                                 [realism, fantasy]  \n",
       "13                               [realism, landscape]  \n",
       "14                            [mediterranean, modern]  \n",
       "15                          [abstract, impressionist]  \n",
       "16                                                 []  \n",
       "17  [realism, southwestern, impressionism, abstrac...  \n",
       "18                                                 []  \n",
       "19                                                 []  \n",
       "20                                                 []  "
      ]
     },
     "execution_count": 51,
     "metadata": {},
     "output_type": "execute_result"
    }
   ],
   "source": [
    "paintings_with_tags_df[['tags','style','style_tags_new']].head(20)"
   ]
  },
  {
   "cell_type": "code",
   "execution_count": 52,
   "metadata": {},
   "outputs": [
    {
     "name": "stderr",
     "output_type": "stream",
     "text": [
      "<ipython-input-52-855085f46001>:1: SettingWithCopyWarning: \n",
      "A value is trying to be set on a copy of a slice from a DataFrame.\n",
      "Try using .loc[row_indexer,col_indexer] = value instead\n",
      "\n",
      "See the caveats in the documentation: https://pandas.pydata.org/pandas-docs/stable/user_guide/indexing.html#returning-a-view-versus-a-copy\n",
      "  paintings_with_tags_df['num_style_tags_new']=paintings_with_tags_df['style_tags_new'].apply(lambda x:len(x))\n"
     ]
    }
   ],
   "source": [
    "paintings_with_tags_df['num_style_tags_new']=paintings_with_tags_df['style_tags_new'].apply(lambda x:len(x))"
   ]
  },
  {
   "cell_type": "code",
   "execution_count": 53,
   "metadata": {},
   "outputs": [
    {
     "data": {
      "text/plain": [
       "0     0\n",
       "1     1\n",
       "2     0\n",
       "3     2\n",
       "4     2\n",
       "5     3\n",
       "6     0\n",
       "7     0\n",
       "9     2\n",
       "10    2\n",
       "11    3\n",
       "12    2\n",
       "13    2\n",
       "14    2\n",
       "15    2\n",
       "16    0\n",
       "17    6\n",
       "18    0\n",
       "19    0\n",
       "20    0\n",
       "Name: num_style_tags_new, dtype: int64"
      ]
     },
     "execution_count": 53,
     "metadata": {},
     "output_type": "execute_result"
    }
   ],
   "source": [
    "paintings_with_tags_df['num_style_tags_new'].head(20)"
   ]
  },
  {
   "cell_type": "code",
   "execution_count": 54,
   "metadata": {},
   "outputs": [],
   "source": [
    "#Let's create a new dataframe with all the entries that have these new style tags\n",
    "paintings_with_new_style_tags_df = paintings_with_tags_df[paintings_with_tags_df['num_style_tags_new']>0]"
   ]
  },
  {
   "cell_type": "code",
   "execution_count": 55,
   "metadata": {},
   "outputs": [
    {
     "data": {
      "text/plain": [
       "19844"
      ]
     },
     "execution_count": 55,
     "metadata": {},
     "output_type": "execute_result"
    }
   ],
   "source": [
    "len(paintings_with_new_style_tags_df)"
   ]
  },
  {
   "cell_type": "code",
   "execution_count": 56,
   "metadata": {},
   "outputs": [
    {
     "name": "stdout",
     "output_type": "stream",
     "text": [
      "<class 'pandas.core.frame.DataFrame'>\n",
      "Int64Index: 19844 entries, 1 to 45844\n",
      "Data columns (total 33 columns):\n",
      " #   Column                       Non-Null Count  Dtype  \n",
      "---  ------                       --------------  -----  \n",
      " 0   listing_id                   19844 non-null  int64  \n",
      " 1   user_id                      19844 non-null  int64  \n",
      " 2   shop_id                      19844 non-null  int64  \n",
      " 3   title                        19844 non-null  object \n",
      " 4   description                  19844 non-null  object \n",
      " 5   shop_section_id              13228 non-null  float64\n",
      " 6   featured_rank                19844 non-null  int64  \n",
      " 7   url                          19844 non-null  object \n",
      " 8   num_favorers                 19844 non-null  int64  \n",
      " 9   is_customizable              19844 non-null  bool   \n",
      " 10  tags                         19844 non-null  object \n",
      " 11  materials                    19844 non-null  object \n",
      " 12  shipping_profile_id          13658 non-null  float64\n",
      " 13  when_made                    19844 non-null  object \n",
      " 14  style                        19844 non-null  object \n",
      " 15  has_variations               19844 non-null  bool   \n",
      " 16  price                        19844 non-null  float64\n",
      " 17  taxonomy_id                  19844 non-null  int64  \n",
      " 18  length                       19844 non-null  float64\n",
      " 19  width                        19844 non-null  float64\n",
      " 20  height                       19844 non-null  float64\n",
      " 21  max_dimension                19844 non-null  float64\n",
      " 22  area                         19844 non-null  float64\n",
      " 23  aspect_ratio                 19844 non-null  float64\n",
      " 24  weight                       19844 non-null  float64\n",
      " 25  days_from_original_creation  19844 non-null  int64  \n",
      " 26  days_from_last_modification  19844 non-null  int64  \n",
      " 27  made_by_seller               19844 non-null  bool   \n",
      " 28  painting_type                19844 non-null  object \n",
      " 29  num_style_tags               19844 non-null  int64  \n",
      " 30  num_tags                     19844 non-null  int64  \n",
      " 31  style_tags_new               19844 non-null  object \n",
      " 32  num_style_tags_new           19844 non-null  int64  \n",
      "dtypes: bool(3), float64(10), int64(11), object(9)\n",
      "memory usage: 4.8+ MB\n"
     ]
    }
   ],
   "source": [
    "paintings_with_new_style_tags_df.info()"
   ]
  },
  {
   "cell_type": "code",
   "execution_count": 57,
   "metadata": {},
   "outputs": [
    {
     "name": "stderr",
     "output_type": "stream",
     "text": [
      "C:\\Users\\matte\\anaconda3\\lib\\site-packages\\pandas\\core\\frame.py:4308: SettingWithCopyWarning: \n",
      "A value is trying to be set on a copy of a slice from a DataFrame\n",
      "\n",
      "See the caveats in the documentation: https://pandas.pydata.org/pandas-docs/stable/user_guide/indexing.html#returning-a-view-versus-a-copy\n",
      "  return super().drop(\n"
     ]
    }
   ],
   "source": [
    "paintings_with_new_style_tags_df.drop(['num_style_tags','num_tags','num_style_tags_new'],axis=1,inplace=True)"
   ]
  },
  {
   "cell_type": "code",
   "execution_count": 58,
   "metadata": {},
   "outputs": [
    {
     "name": "stdout",
     "output_type": "stream",
     "text": [
      "<class 'pandas.core.frame.DataFrame'>\n",
      "Int64Index: 19844 entries, 1 to 45844\n",
      "Data columns (total 30 columns):\n",
      " #   Column                       Non-Null Count  Dtype  \n",
      "---  ------                       --------------  -----  \n",
      " 0   listing_id                   19844 non-null  int64  \n",
      " 1   user_id                      19844 non-null  int64  \n",
      " 2   shop_id                      19844 non-null  int64  \n",
      " 3   title                        19844 non-null  object \n",
      " 4   description                  19844 non-null  object \n",
      " 5   shop_section_id              13228 non-null  float64\n",
      " 6   featured_rank                19844 non-null  int64  \n",
      " 7   url                          19844 non-null  object \n",
      " 8   num_favorers                 19844 non-null  int64  \n",
      " 9   is_customizable              19844 non-null  bool   \n",
      " 10  tags                         19844 non-null  object \n",
      " 11  materials                    19844 non-null  object \n",
      " 12  shipping_profile_id          13658 non-null  float64\n",
      " 13  when_made                    19844 non-null  object \n",
      " 14  style                        19844 non-null  object \n",
      " 15  has_variations               19844 non-null  bool   \n",
      " 16  price                        19844 non-null  float64\n",
      " 17  taxonomy_id                  19844 non-null  int64  \n",
      " 18  length                       19844 non-null  float64\n",
      " 19  width                        19844 non-null  float64\n",
      " 20  height                       19844 non-null  float64\n",
      " 21  max_dimension                19844 non-null  float64\n",
      " 22  area                         19844 non-null  float64\n",
      " 23  aspect_ratio                 19844 non-null  float64\n",
      " 24  weight                       19844 non-null  float64\n",
      " 25  days_from_original_creation  19844 non-null  int64  \n",
      " 26  days_from_last_modification  19844 non-null  int64  \n",
      " 27  made_by_seller               19844 non-null  bool   \n",
      " 28  painting_type                19844 non-null  object \n",
      " 29  style_tags_new               19844 non-null  object \n",
      "dtypes: bool(3), float64(10), int64(8), object(9)\n",
      "memory usage: 4.3+ MB\n"
     ]
    }
   ],
   "source": [
    "paintings_with_new_style_tags_df.info()"
   ]
  },
  {
   "cell_type": "markdown",
   "metadata": {},
   "source": [
    "### Save (if it doesn't already exist) the subset of paintings that have style tags into a new file for further processing"
   ]
  },
  {
   "cell_type": "code",
   "execution_count": 59,
   "metadata": {},
   "outputs": [
    {
     "name": "stdout",
     "output_type": "stream",
     "text": [
      "Loaded all listings file ./Git_exclude/Data/all_paintings_from_USD250_listings_with_style_tags.csv with some style-related tags, after cleaning up the data.\n"
     ]
    }
   ],
   "source": [
    "min_price = 250.0\n",
    "\n",
    "csv_combined_filename_w_style = f'./Git_exclude/Data/all_paintings_from_USD{int(min_price)}_listings_with_style_tags.csv'\n",
    "\n",
    "#If the file with all the cleaned listing data already exists, I load it, otherwise I create it with the cleaning steps chosen above\n",
    "try:\n",
    "    paintings_with_new_style_tags_df = pd.read_csv(csv_combined_filename_w_style)\n",
    "\n",
    "    print(f'Loaded all listings file {csv_combined_filename_w_style} with some style-related tags, after cleaning up the data.')\n",
    "\n",
    "except:\n",
    "\n",
    "    #finally save to .csv file for further processing (machine learning model, etc.) and avoiding to recompute everything late\n",
    "    paintings_with_new_style_tags_df.to_csv(csv_combined_filename_w_style,index=False)\n",
    "    print(f'Saved all listings file {csv_combined_filename_w_style} with some style-related tags, after cleaning up the data.')\n",
    "    "
   ]
  },
  {
   "cell_type": "code",
   "execution_count": null,
   "metadata": {},
   "outputs": [],
   "source": []
  },
  {
   "cell_type": "code",
   "execution_count": null,
   "metadata": {},
   "outputs": [],
   "source": []
  },
  {
   "cell_type": "markdown",
   "metadata": {},
   "source": [
    "# PART 4: Download Listing IMAGE information (urls of jpeg images, mean colors, etc.) - but not yet the images themselves - at least for the listings with style tags "
   ]
  },
  {
   "cell_type": "markdown",
   "metadata": {},
   "source": [
    "### Investigate information available about the images associated to a listing"
   ]
  },
  {
   "cell_type": "code",
   "execution_count": 60,
   "metadata": {},
   "outputs": [
    {
     "data": {
      "text/plain": [
       "5800355"
      ]
     },
     "execution_count": 60,
     "metadata": {},
     "output_type": "execute_result"
    }
   ],
   "source": [
    "#What I am interested though are the methods to get the listing image or images associated with a painting: getListingImage or get ListingImages\n",
    "#e.g. to get the images associated with the first painting above:\n",
    "\n",
    "paintings_with_new_style_tags_df.iloc[0]['shop_id']"
   ]
  },
  {
   "cell_type": "code",
   "execution_count": 61,
   "metadata": {},
   "outputs": [
    {
     "data": {
      "text/plain": [
       "'https://www.etsy.com/listing/40722367/us-mail-plane'"
      ]
     },
     "execution_count": 61,
     "metadata": {},
     "output_type": "execute_result"
    }
   ],
   "source": [
    "#url of the listing\n",
    "paintings_with_new_style_tags_df.iloc[0]['url']"
   ]
  },
  {
   "cell_type": "code",
   "execution_count": 62,
   "metadata": {},
   "outputs": [
    {
     "data": {
      "text/plain": [
       "'https://openapi.etsy.com/v3/application/shops/5800355/listings/40722367/images'"
      ]
     },
     "execution_count": 62,
     "metadata": {},
     "output_type": "execute_result"
    }
   ],
   "source": [
    "url_listing_images = 'https://openapi.etsy.com/v3/application/shops/{shop_id}/listings/{listing_id}/images'.format(shop_id=paintings_with_new_style_tags_df.iloc[0]['shop_id'],listing_id=paintings_with_new_style_tags_df.iloc[0]['listing_id'])\n",
    "url_listing_images"
   ]
  },
  {
   "cell_type": "code",
   "execution_count": 63,
   "metadata": {},
   "outputs": [],
   "source": [
    "response_listing_images = requests.get(url_listing_images, headers = headers)\n",
    "response_listing_images_data = response_listing_images.json() "
   ]
  },
  {
   "cell_type": "code",
   "execution_count": 64,
   "metadata": {},
   "outputs": [
    {
     "data": {
      "text/plain": [
       "{'error': 'Exceeded daily rate limit'}"
      ]
     },
     "execution_count": 64,
     "metadata": {},
     "output_type": "execute_result"
    }
   ],
   "source": [
    "response_listing_images_data"
   ]
  },
  {
   "cell_type": "code",
   "execution_count": null,
   "metadata": {},
   "outputs": [],
   "source": [
    "sample_listing_all_images_df =  pd.DataFrame(response_listing_images_data['results'])\n",
    "sample_listing_all_images_df"
   ]
  },
  {
   "cell_type": "code",
   "execution_count": null,
   "metadata": {},
   "outputs": [],
   "source": [
    "#Note that the mean colors are provided for each image... but are they the colors of the painting or of the image (in which the painted is often photographed in a room, etc.)?\n",
    "#Let's investigate"
   ]
  },
  {
   "cell_type": "code",
   "execution_count": null,
   "metadata": {},
   "outputs": [],
   "source": [
    "#Let me check by importing for example the first image and computing average colors myself. \n",
    "#We'll download the 570xN version of the image\n",
    "url_listing_sample_image_570N = 'https://openapi.etsy.com/v3/application/shops/{shop_id}/listings/{listing_id}/images/{listing_image_id}'.format(shop_id=paintings_with_new_style_tags_df.iloc[0]['shop_id'],\n",
    "                                                        listing_id=paintings_with_new_style_tags_df.iloc[0]['listing_id'], listing_image_id=sample_listing_all_images_df['listing_image_id'].iloc[0])\n",
    "url_listing_sample_image_570N\n",
    "\n"
   ]
  },
  {
   "cell_type": "markdown",
   "metadata": {},
   "source": [
    "### Here is the actual loop requesting, organizing and saving all image information for each the listings which has at least some style tags  "
   ]
  },
  {
   "cell_type": "code",
   "execution_count": 65,
   "metadata": {},
   "outputs": [],
   "source": [
    "from ediblepickle import checkpoint\n",
    "import os\n",
    "from urllib.parse import quote\n",
    "\n",
    "cache_dir = './Git_exclude/cache'\n",
    "if not os.path.exists(cache_dir):\n",
    "    os.mkdir(cache_dir)"
   ]
  },
  {
   "cell_type": "code",
   "execution_count": 66,
   "metadata": {},
   "outputs": [],
   "source": [
    "import time"
   ]
  },
  {
   "cell_type": "code",
   "execution_count": 67,
   "metadata": {},
   "outputs": [],
   "source": [
    "from retrying import retry"
   ]
  },
  {
   "cell_type": "code",
   "execution_count": 68,
   "metadata": {},
   "outputs": [],
   "source": [
    "#This is the main workhorse function to get image data from 1 listing at a time, transform to dataframe and \n",
    "#the first decorator saves the results of any call with given parameters to cache, the second one keeps retrying if attempts fail\n",
    "@retry(stop_max_attempt_number=100,wait_fixed=1000)\n",
    "@checkpoint(key=lambda args, kwargs: 'listing'+ str(args[1]) + '_image_data.pkl', work_dir=cache_dir)\n",
    "def get_image_info_single_listing(shop_id,listing_id):\n",
    "    \n",
    "    url_listing_images = f'https://openapi.etsy.com/v3/application/shops/{shop_id}/listings/{listing_id}/images'\n",
    "    \n",
    "    response_listing_images = requests.get(url_listing_images, headers = headers)\n",
    "    response_listing_images_data = response_listing_images.json() \n",
    "\n",
    "    response_listing_images_df =  pd.DataFrame(response_listing_images_data['results'])\n",
    "    return response_listing_images_df"
   ]
  },
  {
   "cell_type": "code",
   "execution_count": 69,
   "metadata": {},
   "outputs": [
    {
     "data": {
      "text/plain": [
       "listing_id                                                              40722367\n",
       "user_id                                                                  9264578\n",
       "shop_id                                                                  5800355\n",
       "title                                                              US Mail Plane\n",
       "description                    This is a painting of one of my favorites from...\n",
       "shop_section_id                                                        6798937.0\n",
       "featured_rank                                                                 -1\n",
       "url                            https://www.etsy.com/listing/40722367/us-mail-...\n",
       "num_favorers                                                                  55\n",
       "is_customizable                                                            False\n",
       "tags                           ['toys', 'plane', 'vintage', 'children', 'nurs...\n",
       "materials                                            ['acrylic paint on canvas']\n",
       "shipping_profile_id                                                34960513744.0\n",
       "when_made                                                             made_2010s\n",
       "style                                                                         []\n",
       "has_variations                                                             False\n",
       "price                                                                      250.0\n",
       "taxonomy_id                                                                  106\n",
       "length                                                                      30.0\n",
       "width                                                                       30.0\n",
       "height                                                                       4.0\n",
       "max_dimension                                                               30.0\n",
       "area                                                                       900.0\n",
       "aspect_ratio                                                                 1.0\n",
       "weight                                                                      96.0\n",
       "days_from_original_creation                                                 4337\n",
       "days_from_last_modification                                                  134\n",
       "made_by_seller                                                              True\n",
       "painting_type                                                            acrylic\n",
       "style_tags_new                                                       ['vintage']\n",
       "Name: 0, dtype: object"
      ]
     },
     "execution_count": 69,
     "metadata": {},
     "output_type": "execute_result"
    }
   ],
   "source": [
    "paintings_with_new_style_tags_df.iloc[0]"
   ]
  },
  {
   "cell_type": "code",
   "execution_count": 70,
   "metadata": {},
   "outputs": [],
   "source": [
    "temp_shops =[]\n",
    "temp_listings = []\n",
    "for shop_id,listing_id in paintings_with_new_style_tags_df[['shop_id','listing_id']].values:\n",
    "    temp_shops.append(shop_id)\n",
    "    temp_listings.append(listing_id)\n",
    "    \n",
    "    "
   ]
  },
  {
   "cell_type": "code",
   "execution_count": 71,
   "metadata": {},
   "outputs": [
    {
     "data": {
      "text/plain": [
       "7560273"
      ]
     },
     "execution_count": 71,
     "metadata": {},
     "output_type": "execute_result"
    }
   ],
   "source": [
    "temp_shops[10]"
   ]
  },
  {
   "cell_type": "code",
   "execution_count": 72,
   "metadata": {},
   "outputs": [
    {
     "data": {
      "text/plain": [
       "116737723"
      ]
     },
     "execution_count": 72,
     "metadata": {},
     "output_type": "execute_result"
    }
   ],
   "source": [
    "temp_listings[10]"
   ]
  },
  {
   "cell_type": "code",
   "execution_count": 73,
   "metadata": {},
   "outputs": [
    {
     "data": {
      "text/plain": [
       "listing_id                                                             116737723\n",
       "user_id                                                                 27448890\n",
       "shop_id                                                                  7560273\n",
       "title                                                   Street View oil painting\n",
       "description                    Oil on board, 12&quot;*29.5&quot;\\nI only want...\n",
       "shop_section_id                                                       12643705.0\n",
       "featured_rank                                                                 -1\n",
       "url                            https://www.etsy.com/listing/116737723/street-...\n",
       "num_favorers                                                                   2\n",
       "is_customizable                                                            False\n",
       "tags                           ['Landscape Painting', 'Oil painting', 'Abstra...\n",
       "materials                                                       ['Canvas board']\n",
       "shipping_profile_id                                                41972093919.0\n",
       "when_made                                                             made_2020s\n",
       "style                                                               ['Abstract']\n",
       "has_variations                                                             False\n",
       "price                                                                      250.0\n",
       "taxonomy_id                                                                  112\n",
       "length                                                                      29.0\n",
       "width                                                                       12.0\n",
       "height                                                                       1.0\n",
       "max_dimension                                                               29.0\n",
       "area                                                                       348.0\n",
       "aspect_ratio                                                            2.416667\n",
       "weight                                                                      71.0\n",
       "days_from_original_creation                                                 3317\n",
       "days_from_last_modification                                                  105\n",
       "made_by_seller                                                              True\n",
       "painting_type                                                                oil\n",
       "style_tags_new                                     ['impressionist', 'abstract']\n",
       "Name: 10, dtype: object"
      ]
     },
     "execution_count": 73,
     "metadata": {},
     "output_type": "execute_result"
    }
   ],
   "source": [
    "paintings_with_new_style_tags_df.iloc[10]"
   ]
  },
  {
   "cell_type": "code",
   "execution_count": 121,
   "metadata": {},
   "outputs": [
    {
     "name": "stdout",
     "output_type": "stream",
     "text": [
      "Loaded image data file ./Git_exclude/Data/image_info_all_listings_from_USD250_with_style_tags.csv for all listings with style tags.\n"
     ]
    }
   ],
   "source": [
    "#Iterate over all listings in the 'paintings_with_new_style_tags_df' dataframe, and create a new dataframe with the info of all images for each listing\n",
    "#Then save the dataframe to .csv file \n",
    "\n",
    "min_price = 250.0\n",
    "\n",
    "csv_filename_all_image_info_paintings_w_style = f'./Git_exclude/Data/image_info_all_listings_from_USD{int(min_price)}_with_style_tags.csv'\n",
    "\n",
    "#If the csv file with all the image info for listings with style info already exists, I load it, otherwise I create it with the following iteration\n",
    "try:\n",
    "    image_info_all_paintings_with_new_style_tags_df = pd.read_csv(csv_filename_all_image_info_paintings_w_style)\n",
    "\n",
    "    print(f'Loaded image data file {csv_filename_all_image_info_paintings_w_style} for all listings with style tags.')\n",
    "\n",
    "except:\n",
    "    \n",
    "    try: #it by any chance there is a version of 'image_info_all_paintings_with_new_style_tags_df' around, I delete it\n",
    "        del image_info_all_paintings_with_new_style_tags_df\n",
    "    except NameError:\n",
    "        pass\n",
    "        \n",
    "    for shop_id,listing_id in paintings_with_new_style_tags_df[['shop_id','listing_id']].values:\n",
    "\n",
    "        single_listing_all_image_info_df = get_image_info_single_listing(shop_id,listing_id)\n",
    "\n",
    "        try:\n",
    "            image_info_all_paintings_with_new_style_tags_df = pd.concat([image_info_all_paintings_with_new_style_tags_df, single_listing_all_image_info_df])\n",
    "\n",
    "        except: #if it's the first listing, I start the dataframe that will eventually contain info for all listings\n",
    "            image_info_all_paintings_with_new_style_tags_df = single_listing_all_image_info_df\n",
    "\n",
    "        time.sleep(1)\n",
    "    \n",
    "    #save to .csv file\n",
    "    image_info_all_paintings_with_new_style_tags_df.to_csv(csv_filename_all_image_info_paintings_w_style,index=False)\n",
    "    print(f'Saved image data file {csv_filename_all_image_info_paintings_w_style} for all listings with style tags.')\n",
    "    "
   ]
  },
  {
   "cell_type": "code",
   "execution_count": 122,
   "metadata": {},
   "outputs": [],
   "source": [
    "#check the image information for the first listing"
   ]
  },
  {
   "cell_type": "code",
   "execution_count": 123,
   "metadata": {},
   "outputs": [
    {
     "data": {
      "text/plain": [
       "81384"
      ]
     },
     "execution_count": 123,
     "metadata": {},
     "output_type": "execute_result"
    }
   ],
   "source": [
    "len(image_info_all_paintings_with_new_style_tags_df)"
   ]
  },
  {
   "cell_type": "code",
   "execution_count": 124,
   "metadata": {},
   "outputs": [
    {
     "data": {
      "text/html": [
       "<div>\n",
       "<style scoped>\n",
       "    .dataframe tbody tr th:only-of-type {\n",
       "        vertical-align: middle;\n",
       "    }\n",
       "\n",
       "    .dataframe tbody tr th {\n",
       "        vertical-align: top;\n",
       "    }\n",
       "\n",
       "    .dataframe thead th {\n",
       "        text-align: right;\n",
       "    }\n",
       "</style>\n",
       "<table border=\"1\" class=\"dataframe\">\n",
       "  <thead>\n",
       "    <tr style=\"text-align: right;\">\n",
       "      <th></th>\n",
       "      <th>listing_id</th>\n",
       "      <th>listing_image_id</th>\n",
       "      <th>hex_code</th>\n",
       "      <th>red</th>\n",
       "      <th>green</th>\n",
       "      <th>blue</th>\n",
       "      <th>hue</th>\n",
       "      <th>saturation</th>\n",
       "      <th>brightness</th>\n",
       "      <th>is_black_and_white</th>\n",
       "      <th>creation_tsz</th>\n",
       "      <th>rank</th>\n",
       "      <th>url_75x75</th>\n",
       "      <th>url_170x135</th>\n",
       "      <th>url_570xN</th>\n",
       "      <th>url_fullxfull</th>\n",
       "      <th>full_height</th>\n",
       "      <th>full_width</th>\n",
       "    </tr>\n",
       "  </thead>\n",
       "  <tbody>\n",
       "    <tr>\n",
       "      <th>0</th>\n",
       "      <td>40722367</td>\n",
       "      <td>1139187801</td>\n",
       "      <td>7F6756</td>\n",
       "      <td>127.0</td>\n",
       "      <td>103.0</td>\n",
       "      <td>86.0</td>\n",
       "      <td>25.0</td>\n",
       "      <td>32.0</td>\n",
       "      <td>49.0</td>\n",
       "      <td>False</td>\n",
       "      <td>1480217318</td>\n",
       "      <td>1</td>\n",
       "      <td>https://i.etsystatic.com/5800355/r/il/dcfe50/1...</td>\n",
       "      <td>https://i.etsystatic.com/5800355/r/il/dcfe50/1...</td>\n",
       "      <td>https://i.etsystatic.com/5800355/r/il/dcfe50/1...</td>\n",
       "      <td>https://i.etsystatic.com/5800355/r/il/dcfe50/1...</td>\n",
       "      <td>330</td>\n",
       "      <td>330</td>\n",
       "    </tr>\n",
       "    <tr>\n",
       "      <th>1</th>\n",
       "      <td>40722367</td>\n",
       "      <td>123489056</td>\n",
       "      <td>FFFFFF</td>\n",
       "      <td>255.0</td>\n",
       "      <td>255.0</td>\n",
       "      <td>255.0</td>\n",
       "      <td>0.0</td>\n",
       "      <td>0.0</td>\n",
       "      <td>100.0</td>\n",
       "      <td>False</td>\n",
       "      <td>1299877281</td>\n",
       "      <td>2</td>\n",
       "      <td>https://i.etsystatic.com/5800355/r/il/327acf/1...</td>\n",
       "      <td>https://i.etsystatic.com/5800355/r/il/327acf/1...</td>\n",
       "      <td>https://i.etsystatic.com/5800355/r/il/327acf/1...</td>\n",
       "      <td>https://i.etsystatic.com/5800355/r/il/327acf/1...</td>\n",
       "      <td>336</td>\n",
       "      <td>448</td>\n",
       "    </tr>\n",
       "    <tr>\n",
       "      <th>2</th>\n",
       "      <td>40722367</td>\n",
       "      <td>123489746</td>\n",
       "      <td>FFFFFF</td>\n",
       "      <td>255.0</td>\n",
       "      <td>255.0</td>\n",
       "      <td>255.0</td>\n",
       "      <td>0.0</td>\n",
       "      <td>0.0</td>\n",
       "      <td>100.0</td>\n",
       "      <td>False</td>\n",
       "      <td>1299877281</td>\n",
       "      <td>3</td>\n",
       "      <td>https://i.etsystatic.com/5800355/r/il/3fbb57/1...</td>\n",
       "      <td>https://i.etsystatic.com/5800355/r/il/3fbb57/1...</td>\n",
       "      <td>https://i.etsystatic.com/5800355/r/il/3fbb57/1...</td>\n",
       "      <td>https://i.etsystatic.com/5800355/r/il/3fbb57/1...</td>\n",
       "      <td>336</td>\n",
       "      <td>448</td>\n",
       "    </tr>\n",
       "    <tr>\n",
       "      <th>3</th>\n",
       "      <td>52229780</td>\n",
       "      <td>160763238</td>\n",
       "      <td>69685F</td>\n",
       "      <td>105.0</td>\n",
       "      <td>104.0</td>\n",
       "      <td>95.0</td>\n",
       "      <td>54.0</td>\n",
       "      <td>9.0</td>\n",
       "      <td>41.0</td>\n",
       "      <td>False</td>\n",
       "      <td>1299877281</td>\n",
       "      <td>1</td>\n",
       "      <td>https://i.etsystatic.com/5315957/r/il/44578a/1...</td>\n",
       "      <td>https://i.etsystatic.com/5315957/r/il/44578a/1...</td>\n",
       "      <td>https://i.etsystatic.com/5315957/r/il/44578a/1...</td>\n",
       "      <td>https://i.etsystatic.com/5315957/r/il/44578a/1...</td>\n",
       "      <td>800</td>\n",
       "      <td>640</td>\n",
       "    </tr>\n",
       "    <tr>\n",
       "      <th>4</th>\n",
       "      <td>52229780</td>\n",
       "      <td>160763263</td>\n",
       "      <td>5A584D</td>\n",
       "      <td>90.0</td>\n",
       "      <td>88.0</td>\n",
       "      <td>77.0</td>\n",
       "      <td>50.0</td>\n",
       "      <td>14.0</td>\n",
       "      <td>35.0</td>\n",
       "      <td>False</td>\n",
       "      <td>1299877281</td>\n",
       "      <td>2</td>\n",
       "      <td>https://i.etsystatic.com/5315957/r/il/e312fd/1...</td>\n",
       "      <td>https://i.etsystatic.com/5315957/r/il/e312fd/1...</td>\n",
       "      <td>https://i.etsystatic.com/5315957/r/il/e312fd/1...</td>\n",
       "      <td>https://i.etsystatic.com/5315957/r/il/e312fd/1...</td>\n",
       "      <td>450</td>\n",
       "      <td>600</td>\n",
       "    </tr>\n",
       "    <tr>\n",
       "      <th>5</th>\n",
       "      <td>55639432</td>\n",
       "      <td>172173593</td>\n",
       "      <td>989189</td>\n",
       "      <td>152.0</td>\n",
       "      <td>145.0</td>\n",
       "      <td>137.0</td>\n",
       "      <td>32.0</td>\n",
       "      <td>9.0</td>\n",
       "      <td>59.0</td>\n",
       "      <td>False</td>\n",
       "      <td>1299877281</td>\n",
       "      <td>1</td>\n",
       "      <td>https://i.etsystatic.com/5889085/r/il/108aae/1...</td>\n",
       "      <td>https://i.etsystatic.com/5889085/r/il/108aae/1...</td>\n",
       "      <td>https://i.etsystatic.com/5889085/r/il/108aae/1...</td>\n",
       "      <td>https://i.etsystatic.com/5889085/r/il/108aae/1...</td>\n",
       "      <td>720</td>\n",
       "      <td>455</td>\n",
       "    </tr>\n",
       "    <tr>\n",
       "      <th>6</th>\n",
       "      <td>55639432</td>\n",
       "      <td>1351294533</td>\n",
       "      <td>8F8C8A</td>\n",
       "      <td>143.0</td>\n",
       "      <td>140.0</td>\n",
       "      <td>138.0</td>\n",
       "      <td>24.0</td>\n",
       "      <td>3.0</td>\n",
       "      <td>56.0</td>\n",
       "      <td>False</td>\n",
       "      <td>1506099060</td>\n",
       "      <td>2</td>\n",
       "      <td>https://i.etsystatic.com/5889085/r/il/c3fdff/1...</td>\n",
       "      <td>https://i.etsystatic.com/5889085/r/il/c3fdff/1...</td>\n",
       "      <td>https://i.etsystatic.com/5889085/r/il/c3fdff/1...</td>\n",
       "      <td>https://i.etsystatic.com/5889085/r/il/c3fdff/1...</td>\n",
       "      <td>2304</td>\n",
       "      <td>2517</td>\n",
       "    </tr>\n",
       "    <tr>\n",
       "      <th>7</th>\n",
       "      <td>60004545</td>\n",
       "      <td>186780693</td>\n",
       "      <td>9FABA7</td>\n",
       "      <td>159.0</td>\n",
       "      <td>171.0</td>\n",
       "      <td>167.0</td>\n",
       "      <td>160.0</td>\n",
       "      <td>7.0</td>\n",
       "      <td>67.0</td>\n",
       "      <td>False</td>\n",
       "      <td>1299877281</td>\n",
       "      <td>1</td>\n",
       "      <td>https://i.etsystatic.com/5889085/r/il/360636/1...</td>\n",
       "      <td>https://i.etsystatic.com/5889085/r/il/360636/1...</td>\n",
       "      <td>https://i.etsystatic.com/5889085/r/il/360636/1...</td>\n",
       "      <td>https://i.etsystatic.com/5889085/r/il/360636/1...</td>\n",
       "      <td>638</td>\n",
       "      <td>848</td>\n",
       "    </tr>\n",
       "    <tr>\n",
       "      <th>8</th>\n",
       "      <td>60004545</td>\n",
       "      <td>1302048424</td>\n",
       "      <td>8C8F95</td>\n",
       "      <td>140.0</td>\n",
       "      <td>143.0</td>\n",
       "      <td>149.0</td>\n",
       "      <td>220.0</td>\n",
       "      <td>6.0</td>\n",
       "      <td>58.0</td>\n",
       "      <td>False</td>\n",
       "      <td>1505916172</td>\n",
       "      <td>2</td>\n",
       "      <td>https://i.etsystatic.com/5889085/r/il/e041a2/1...</td>\n",
       "      <td>https://i.etsystatic.com/5889085/r/il/e041a2/1...</td>\n",
       "      <td>https://i.etsystatic.com/5889085/r/il/e041a2/1...</td>\n",
       "      <td>https://i.etsystatic.com/5889085/r/il/e041a2/1...</td>\n",
       "      <td>2206</td>\n",
       "      <td>2715</td>\n",
       "    </tr>\n",
       "    <tr>\n",
       "      <th>9</th>\n",
       "      <td>71158029</td>\n",
       "      <td>231818207</td>\n",
       "      <td>92827D</td>\n",
       "      <td>146.0</td>\n",
       "      <td>130.0</td>\n",
       "      <td>125.0</td>\n",
       "      <td>14.0</td>\n",
       "      <td>14.0</td>\n",
       "      <td>57.0</td>\n",
       "      <td>False</td>\n",
       "      <td>1301532642</td>\n",
       "      <td>1</td>\n",
       "      <td>https://i.etsystatic.com/5945857/r/il/c8f25b/2...</td>\n",
       "      <td>https://i.etsystatic.com/5945857/r/il/c8f25b/2...</td>\n",
       "      <td>https://i.etsystatic.com/5945857/r/il/c8f25b/2...</td>\n",
       "      <td>https://i.etsystatic.com/5945857/r/il/c8f25b/2...</td>\n",
       "      <td>1500</td>\n",
       "      <td>1191</td>\n",
       "    </tr>\n",
       "  </tbody>\n",
       "</table>\n",
       "</div>"
      ],
      "text/plain": [
       "   listing_id  listing_image_id hex_code    red  green   blue    hue  \\\n",
       "0    40722367        1139187801   7F6756  127.0  103.0   86.0   25.0   \n",
       "1    40722367         123489056   FFFFFF  255.0  255.0  255.0    0.0   \n",
       "2    40722367         123489746   FFFFFF  255.0  255.0  255.0    0.0   \n",
       "3    52229780         160763238   69685F  105.0  104.0   95.0   54.0   \n",
       "4    52229780         160763263   5A584D   90.0   88.0   77.0   50.0   \n",
       "5    55639432         172173593   989189  152.0  145.0  137.0   32.0   \n",
       "6    55639432        1351294533   8F8C8A  143.0  140.0  138.0   24.0   \n",
       "7    60004545         186780693   9FABA7  159.0  171.0  167.0  160.0   \n",
       "8    60004545        1302048424   8C8F95  140.0  143.0  149.0  220.0   \n",
       "9    71158029         231818207   92827D  146.0  130.0  125.0   14.0   \n",
       "\n",
       "   saturation  brightness is_black_and_white  creation_tsz  rank  \\\n",
       "0        32.0        49.0              False    1480217318     1   \n",
       "1         0.0       100.0              False    1299877281     2   \n",
       "2         0.0       100.0              False    1299877281     3   \n",
       "3         9.0        41.0              False    1299877281     1   \n",
       "4        14.0        35.0              False    1299877281     2   \n",
       "5         9.0        59.0              False    1299877281     1   \n",
       "6         3.0        56.0              False    1506099060     2   \n",
       "7         7.0        67.0              False    1299877281     1   \n",
       "8         6.0        58.0              False    1505916172     2   \n",
       "9        14.0        57.0              False    1301532642     1   \n",
       "\n",
       "                                           url_75x75  \\\n",
       "0  https://i.etsystatic.com/5800355/r/il/dcfe50/1...   \n",
       "1  https://i.etsystatic.com/5800355/r/il/327acf/1...   \n",
       "2  https://i.etsystatic.com/5800355/r/il/3fbb57/1...   \n",
       "3  https://i.etsystatic.com/5315957/r/il/44578a/1...   \n",
       "4  https://i.etsystatic.com/5315957/r/il/e312fd/1...   \n",
       "5  https://i.etsystatic.com/5889085/r/il/108aae/1...   \n",
       "6  https://i.etsystatic.com/5889085/r/il/c3fdff/1...   \n",
       "7  https://i.etsystatic.com/5889085/r/il/360636/1...   \n",
       "8  https://i.etsystatic.com/5889085/r/il/e041a2/1...   \n",
       "9  https://i.etsystatic.com/5945857/r/il/c8f25b/2...   \n",
       "\n",
       "                                         url_170x135  \\\n",
       "0  https://i.etsystatic.com/5800355/r/il/dcfe50/1...   \n",
       "1  https://i.etsystatic.com/5800355/r/il/327acf/1...   \n",
       "2  https://i.etsystatic.com/5800355/r/il/3fbb57/1...   \n",
       "3  https://i.etsystatic.com/5315957/r/il/44578a/1...   \n",
       "4  https://i.etsystatic.com/5315957/r/il/e312fd/1...   \n",
       "5  https://i.etsystatic.com/5889085/r/il/108aae/1...   \n",
       "6  https://i.etsystatic.com/5889085/r/il/c3fdff/1...   \n",
       "7  https://i.etsystatic.com/5889085/r/il/360636/1...   \n",
       "8  https://i.etsystatic.com/5889085/r/il/e041a2/1...   \n",
       "9  https://i.etsystatic.com/5945857/r/il/c8f25b/2...   \n",
       "\n",
       "                                           url_570xN  \\\n",
       "0  https://i.etsystatic.com/5800355/r/il/dcfe50/1...   \n",
       "1  https://i.etsystatic.com/5800355/r/il/327acf/1...   \n",
       "2  https://i.etsystatic.com/5800355/r/il/3fbb57/1...   \n",
       "3  https://i.etsystatic.com/5315957/r/il/44578a/1...   \n",
       "4  https://i.etsystatic.com/5315957/r/il/e312fd/1...   \n",
       "5  https://i.etsystatic.com/5889085/r/il/108aae/1...   \n",
       "6  https://i.etsystatic.com/5889085/r/il/c3fdff/1...   \n",
       "7  https://i.etsystatic.com/5889085/r/il/360636/1...   \n",
       "8  https://i.etsystatic.com/5889085/r/il/e041a2/1...   \n",
       "9  https://i.etsystatic.com/5945857/r/il/c8f25b/2...   \n",
       "\n",
       "                                       url_fullxfull  full_height  full_width  \n",
       "0  https://i.etsystatic.com/5800355/r/il/dcfe50/1...          330         330  \n",
       "1  https://i.etsystatic.com/5800355/r/il/327acf/1...          336         448  \n",
       "2  https://i.etsystatic.com/5800355/r/il/3fbb57/1...          336         448  \n",
       "3  https://i.etsystatic.com/5315957/r/il/44578a/1...          800         640  \n",
       "4  https://i.etsystatic.com/5315957/r/il/e312fd/1...          450         600  \n",
       "5  https://i.etsystatic.com/5889085/r/il/108aae/1...          720         455  \n",
       "6  https://i.etsystatic.com/5889085/r/il/c3fdff/1...         2304        2517  \n",
       "7  https://i.etsystatic.com/5889085/r/il/360636/1...          638         848  \n",
       "8  https://i.etsystatic.com/5889085/r/il/e041a2/1...         2206        2715  \n",
       "9  https://i.etsystatic.com/5945857/r/il/c8f25b/2...         1500        1191  "
      ]
     },
     "execution_count": 124,
     "metadata": {},
     "output_type": "execute_result"
    }
   ],
   "source": [
    "image_info_all_paintings_with_new_style_tags_df.head(10)"
   ]
  },
  {
   "cell_type": "code",
   "execution_count": 125,
   "metadata": {},
   "outputs": [],
   "source": [
    "#sanity check that if I group by listing id (or keep only the image info where 'rank=1') I should get the same number of listings of the original dataframe with all paintings with style tags"
   ]
  },
  {
   "cell_type": "code",
   "execution_count": 126,
   "metadata": {},
   "outputs": [],
   "source": [
    "first_image_info_all_paintings_with_new_style_tags_df = image_info_all_paintings_with_new_style_tags_df[image_info_all_paintings_with_new_style_tags_df['rank']==1]"
   ]
  },
  {
   "cell_type": "code",
   "execution_count": 144,
   "metadata": {},
   "outputs": [
    {
     "data": {
      "text/plain": [
       "19449"
      ]
     },
     "execution_count": 144,
     "metadata": {},
     "output_type": "execute_result"
    }
   ],
   "source": [
    "#This confirms that I got valid data for each listing\n",
    "len(first_image_info_all_paintings_with_new_style_tags_df)"
   ]
  },
  {
   "cell_type": "code",
   "execution_count": 128,
   "metadata": {},
   "outputs": [],
   "source": [
    "#check that all the 'first images' (those with rank=1) have reasonable mean colors (not [0 0 0] or [255 255 255]). This can be \n",
    "#compactly investigated by verifying that the 'hex_code' is neither 'FFFFFF' nor '000000'."
   ]
  },
  {
   "cell_type": "code",
   "execution_count": 129,
   "metadata": {},
   "outputs": [],
   "source": [
    "listings_with_invalid_color_means = first_image_info_all_paintings_with_new_style_tags_df[(first_image_info_all_paintings_with_new_style_tags_df['hex_code']=='FFFFFF') | (first_image_info_all_paintings_with_new_style_tags_df['hex_code']=='000000')]"
   ]
  },
  {
   "cell_type": "code",
   "execution_count": 130,
   "metadata": {},
   "outputs": [
    {
     "data": {
      "text/plain": [
       "395"
      ]
     },
     "execution_count": 130,
     "metadata": {},
     "output_type": "execute_result"
    }
   ],
   "source": [
    "len(listings_with_invalid_color_means)"
   ]
  },
  {
   "cell_type": "code",
   "execution_count": 133,
   "metadata": {},
   "outputs": [],
   "source": [
    "#I am just going to drop these few listings:\n",
    "first_image_info_all_paintings_with_new_style_tags_df = first_image_info_all_paintings_with_new_style_tags_df[first_image_info_all_paintings_with_new_style_tags_df['hex_code'] != 'FFFFFF']\n",
    "first_image_info_all_paintings_with_new_style_tags_df = first_image_info_all_paintings_with_new_style_tags_df[first_image_info_all_paintings_with_new_style_tags_df['hex_code'] != '000000']"
   ]
  },
  {
   "cell_type": "code",
   "execution_count": 134,
   "metadata": {},
   "outputs": [
    {
     "data": {
      "text/plain": [
       "19449"
      ]
     },
     "execution_count": 134,
     "metadata": {},
     "output_type": "execute_result"
    }
   ],
   "source": [
    "len(first_image_info_all_paintings_with_new_style_tags_df)"
   ]
  },
  {
   "cell_type": "code",
   "execution_count": 131,
   "metadata": {},
   "outputs": [],
   "source": [
    "\n",
    "#This is a previous attempt to look into the second and third ranked images for a listing (if they exist) but was not worth in the end (as some had no valid mean colors in any of the images)\n",
    "\n",
    "# for listing_id in listings_with_invalid_color_means['listing_id']:\n",
    "#     try: \n",
    "#         image_2_hex_code=image_info_all_paintings_with_new_style_tags_df[(image_info_all_paintings_with_new_style_tags_df['listing_id']==listing_id) & (image_info_all_paintings_with_new_style_tags_df['rank']==2)]['hex_code']\n",
    "#         #print(f'found second image for listing {listing_id} with hex-code {image_2_hex_code}')\n",
    "#         if (image_2_hex_code.values[0] not in ['FFFFFF','000000']):\n",
    "#             #print(f'using second image for listing {listing_id}')\n",
    "#             first_image_info_all_paintings_with_new_style_tags_df[first_image_info_all_paintings_with_new_style_tags_df['listing_id']==listing_id]=image_info_all_paintings_with_new_style_tags_df[(image_info_all_paintings_with_new_style_tags_df['listing_id']==listing_id) & (image_info_all_paintings_with_new_style_tags_df['rank']==2)]\n",
    "#         else:\n",
    "#             try:\n",
    "#                 image_3_hex_code=image_info_all_paintings_with_new_style_tags_df[(image_info_all_paintings_with_new_style_tags_df['listing_id']==listing_id) & (image_info_all_paintings_with_new_style_tags_df['rank']==3)]['hex_code']\n",
    "#                 #print(f'found third image for listing {listing_id} with hex-code {image_3_hex_code}')\n",
    "#                 if (image_3_hex_code.values[0] not in ['FFFFFF','000000']):\n",
    "#                     first_image_info_all_paintings_with_new_style_tags_df[first_image_info_all_paintings_with_new_style_tags_df['listing_id']==listing_id]=image_info_all_paintings_with_new_style_tags_df[(image_info_all_paintings_with_new_style_tags_df['listing_id']==listing_id) & (image_info_all_paintings_with_new_style_tags_df['rank']==3)]\n",
    "#                     #print(f'using third image for listing {listing_id}')\n",
    "#             except:\n",
    "#                 continue\n",
    "#     except:\n",
    "#         continue"
   ]
  },
  {
   "cell_type": "markdown",
   "metadata": {},
   "source": [
    "### Here is where I join (inner join) the dataframe with image information with the main dataframe with all the listing info (for listings with style tags), and save the extended dataframe."
   ]
  },
  {
   "cell_type": "code",
   "execution_count": null,
   "metadata": {},
   "outputs": [],
   "source": [
    "#Before joining the image-info dataframe, I rename all columns with prefix 'image_' except for listing_id and listing_image_id, so there is no confusion later on"
   ]
  },
  {
   "cell_type": "code",
   "execution_count": 148,
   "metadata": {},
   "outputs": [],
   "source": [
    "first_image_info_all_paintings_with_new_style_tags_df = first_image_info_all_paintings_with_new_style_tags_df.add_prefix('image_')"
   ]
  },
  {
   "cell_type": "code",
   "execution_count": 149,
   "metadata": {},
   "outputs": [
    {
     "data": {
      "text/html": [
       "<div>\n",
       "<style scoped>\n",
       "    .dataframe tbody tr th:only-of-type {\n",
       "        vertical-align: middle;\n",
       "    }\n",
       "\n",
       "    .dataframe tbody tr th {\n",
       "        vertical-align: top;\n",
       "    }\n",
       "\n",
       "    .dataframe thead th {\n",
       "        text-align: right;\n",
       "    }\n",
       "</style>\n",
       "<table border=\"1\" class=\"dataframe\">\n",
       "  <thead>\n",
       "    <tr style=\"text-align: right;\">\n",
       "      <th></th>\n",
       "      <th>image_listing_id</th>\n",
       "      <th>image_listing_image_id</th>\n",
       "      <th>image_hex_code</th>\n",
       "      <th>image_red</th>\n",
       "      <th>image_green</th>\n",
       "      <th>image_blue</th>\n",
       "      <th>image_hue</th>\n",
       "      <th>image_saturation</th>\n",
       "      <th>image_brightness</th>\n",
       "      <th>image_is_black_and_white</th>\n",
       "      <th>image_creation_tsz</th>\n",
       "      <th>image_rank</th>\n",
       "      <th>image_url_75x75</th>\n",
       "      <th>image_url_170x135</th>\n",
       "      <th>image_url_570xN</th>\n",
       "      <th>image_url_fullxfull</th>\n",
       "      <th>image_full_height</th>\n",
       "      <th>image_full_width</th>\n",
       "    </tr>\n",
       "  </thead>\n",
       "  <tbody>\n",
       "    <tr>\n",
       "      <th>0</th>\n",
       "      <td>40722367</td>\n",
       "      <td>1139187801</td>\n",
       "      <td>7F6756</td>\n",
       "      <td>127.0</td>\n",
       "      <td>103.0</td>\n",
       "      <td>86.0</td>\n",
       "      <td>25.0</td>\n",
       "      <td>32.0</td>\n",
       "      <td>49.0</td>\n",
       "      <td>False</td>\n",
       "      <td>1480217318</td>\n",
       "      <td>1</td>\n",
       "      <td>https://i.etsystatic.com/5800355/r/il/dcfe50/1...</td>\n",
       "      <td>https://i.etsystatic.com/5800355/r/il/dcfe50/1...</td>\n",
       "      <td>https://i.etsystatic.com/5800355/r/il/dcfe50/1...</td>\n",
       "      <td>https://i.etsystatic.com/5800355/r/il/dcfe50/1...</td>\n",
       "      <td>330</td>\n",
       "      <td>330</td>\n",
       "    </tr>\n",
       "    <tr>\n",
       "      <th>3</th>\n",
       "      <td>52229780</td>\n",
       "      <td>160763238</td>\n",
       "      <td>69685F</td>\n",
       "      <td>105.0</td>\n",
       "      <td>104.0</td>\n",
       "      <td>95.0</td>\n",
       "      <td>54.0</td>\n",
       "      <td>9.0</td>\n",
       "      <td>41.0</td>\n",
       "      <td>False</td>\n",
       "      <td>1299877281</td>\n",
       "      <td>1</td>\n",
       "      <td>https://i.etsystatic.com/5315957/r/il/44578a/1...</td>\n",
       "      <td>https://i.etsystatic.com/5315957/r/il/44578a/1...</td>\n",
       "      <td>https://i.etsystatic.com/5315957/r/il/44578a/1...</td>\n",
       "      <td>https://i.etsystatic.com/5315957/r/il/44578a/1...</td>\n",
       "      <td>800</td>\n",
       "      <td>640</td>\n",
       "    </tr>\n",
       "    <tr>\n",
       "      <th>5</th>\n",
       "      <td>55639432</td>\n",
       "      <td>172173593</td>\n",
       "      <td>989189</td>\n",
       "      <td>152.0</td>\n",
       "      <td>145.0</td>\n",
       "      <td>137.0</td>\n",
       "      <td>32.0</td>\n",
       "      <td>9.0</td>\n",
       "      <td>59.0</td>\n",
       "      <td>False</td>\n",
       "      <td>1299877281</td>\n",
       "      <td>1</td>\n",
       "      <td>https://i.etsystatic.com/5889085/r/il/108aae/1...</td>\n",
       "      <td>https://i.etsystatic.com/5889085/r/il/108aae/1...</td>\n",
       "      <td>https://i.etsystatic.com/5889085/r/il/108aae/1...</td>\n",
       "      <td>https://i.etsystatic.com/5889085/r/il/108aae/1...</td>\n",
       "      <td>720</td>\n",
       "      <td>455</td>\n",
       "    </tr>\n",
       "    <tr>\n",
       "      <th>7</th>\n",
       "      <td>60004545</td>\n",
       "      <td>186780693</td>\n",
       "      <td>9FABA7</td>\n",
       "      <td>159.0</td>\n",
       "      <td>171.0</td>\n",
       "      <td>167.0</td>\n",
       "      <td>160.0</td>\n",
       "      <td>7.0</td>\n",
       "      <td>67.0</td>\n",
       "      <td>False</td>\n",
       "      <td>1299877281</td>\n",
       "      <td>1</td>\n",
       "      <td>https://i.etsystatic.com/5889085/r/il/360636/1...</td>\n",
       "      <td>https://i.etsystatic.com/5889085/r/il/360636/1...</td>\n",
       "      <td>https://i.etsystatic.com/5889085/r/il/360636/1...</td>\n",
       "      <td>https://i.etsystatic.com/5889085/r/il/360636/1...</td>\n",
       "      <td>638</td>\n",
       "      <td>848</td>\n",
       "    </tr>\n",
       "    <tr>\n",
       "      <th>9</th>\n",
       "      <td>71158029</td>\n",
       "      <td>231818207</td>\n",
       "      <td>92827D</td>\n",
       "      <td>146.0</td>\n",
       "      <td>130.0</td>\n",
       "      <td>125.0</td>\n",
       "      <td>14.0</td>\n",
       "      <td>14.0</td>\n",
       "      <td>57.0</td>\n",
       "      <td>False</td>\n",
       "      <td>1301532642</td>\n",
       "      <td>1</td>\n",
       "      <td>https://i.etsystatic.com/5945857/r/il/c8f25b/2...</td>\n",
       "      <td>https://i.etsystatic.com/5945857/r/il/c8f25b/2...</td>\n",
       "      <td>https://i.etsystatic.com/5945857/r/il/c8f25b/2...</td>\n",
       "      <td>https://i.etsystatic.com/5945857/r/il/c8f25b/2...</td>\n",
       "      <td>1500</td>\n",
       "      <td>1191</td>\n",
       "    </tr>\n",
       "  </tbody>\n",
       "</table>\n",
       "</div>"
      ],
      "text/plain": [
       "   image_listing_id  image_listing_image_id image_hex_code  image_red  \\\n",
       "0          40722367              1139187801         7F6756      127.0   \n",
       "3          52229780               160763238         69685F      105.0   \n",
       "5          55639432               172173593         989189      152.0   \n",
       "7          60004545               186780693         9FABA7      159.0   \n",
       "9          71158029               231818207         92827D      146.0   \n",
       "\n",
       "   image_green  image_blue  image_hue  image_saturation  image_brightness  \\\n",
       "0        103.0        86.0       25.0              32.0              49.0   \n",
       "3        104.0        95.0       54.0               9.0              41.0   \n",
       "5        145.0       137.0       32.0               9.0              59.0   \n",
       "7        171.0       167.0      160.0               7.0              67.0   \n",
       "9        130.0       125.0       14.0              14.0              57.0   \n",
       "\n",
       "  image_is_black_and_white  image_creation_tsz  image_rank  \\\n",
       "0                    False          1480217318           1   \n",
       "3                    False          1299877281           1   \n",
       "5                    False          1299877281           1   \n",
       "7                    False          1299877281           1   \n",
       "9                    False          1301532642           1   \n",
       "\n",
       "                                     image_url_75x75  \\\n",
       "0  https://i.etsystatic.com/5800355/r/il/dcfe50/1...   \n",
       "3  https://i.etsystatic.com/5315957/r/il/44578a/1...   \n",
       "5  https://i.etsystatic.com/5889085/r/il/108aae/1...   \n",
       "7  https://i.etsystatic.com/5889085/r/il/360636/1...   \n",
       "9  https://i.etsystatic.com/5945857/r/il/c8f25b/2...   \n",
       "\n",
       "                                   image_url_170x135  \\\n",
       "0  https://i.etsystatic.com/5800355/r/il/dcfe50/1...   \n",
       "3  https://i.etsystatic.com/5315957/r/il/44578a/1...   \n",
       "5  https://i.etsystatic.com/5889085/r/il/108aae/1...   \n",
       "7  https://i.etsystatic.com/5889085/r/il/360636/1...   \n",
       "9  https://i.etsystatic.com/5945857/r/il/c8f25b/2...   \n",
       "\n",
       "                                     image_url_570xN  \\\n",
       "0  https://i.etsystatic.com/5800355/r/il/dcfe50/1...   \n",
       "3  https://i.etsystatic.com/5315957/r/il/44578a/1...   \n",
       "5  https://i.etsystatic.com/5889085/r/il/108aae/1...   \n",
       "7  https://i.etsystatic.com/5889085/r/il/360636/1...   \n",
       "9  https://i.etsystatic.com/5945857/r/il/c8f25b/2...   \n",
       "\n",
       "                                 image_url_fullxfull  image_full_height  \\\n",
       "0  https://i.etsystatic.com/5800355/r/il/dcfe50/1...                330   \n",
       "3  https://i.etsystatic.com/5315957/r/il/44578a/1...                800   \n",
       "5  https://i.etsystatic.com/5889085/r/il/108aae/1...                720   \n",
       "7  https://i.etsystatic.com/5889085/r/il/360636/1...                638   \n",
       "9  https://i.etsystatic.com/5945857/r/il/c8f25b/2...               1500   \n",
       "\n",
       "   image_full_width  \n",
       "0               330  \n",
       "3               640  \n",
       "5               455  \n",
       "7               848  \n",
       "9              1191  "
      ]
     },
     "execution_count": 149,
     "metadata": {},
     "output_type": "execute_result"
    }
   ],
   "source": [
    "first_image_info_all_paintings_with_new_style_tags_df.head()"
   ]
  },
  {
   "cell_type": "code",
   "execution_count": 152,
   "metadata": {},
   "outputs": [],
   "source": [
    "first_image_info_all_paintings_with_new_style_tags_df.rename(columns={'image_listing_id': 'listing_id', 'image_listing_image_id': 'listing_image_id'},inplace=True)"
   ]
  },
  {
   "cell_type": "code",
   "execution_count": 153,
   "metadata": {},
   "outputs": [
    {
     "data": {
      "text/html": [
       "<div>\n",
       "<style scoped>\n",
       "    .dataframe tbody tr th:only-of-type {\n",
       "        vertical-align: middle;\n",
       "    }\n",
       "\n",
       "    .dataframe tbody tr th {\n",
       "        vertical-align: top;\n",
       "    }\n",
       "\n",
       "    .dataframe thead th {\n",
       "        text-align: right;\n",
       "    }\n",
       "</style>\n",
       "<table border=\"1\" class=\"dataframe\">\n",
       "  <thead>\n",
       "    <tr style=\"text-align: right;\">\n",
       "      <th></th>\n",
       "      <th>listing_id</th>\n",
       "      <th>listing_image_id</th>\n",
       "      <th>image_hex_code</th>\n",
       "      <th>image_red</th>\n",
       "      <th>image_green</th>\n",
       "      <th>image_blue</th>\n",
       "      <th>image_hue</th>\n",
       "      <th>image_saturation</th>\n",
       "      <th>image_brightness</th>\n",
       "      <th>image_is_black_and_white</th>\n",
       "      <th>image_creation_tsz</th>\n",
       "      <th>image_rank</th>\n",
       "      <th>image_url_75x75</th>\n",
       "      <th>image_url_170x135</th>\n",
       "      <th>image_url_570xN</th>\n",
       "      <th>image_url_fullxfull</th>\n",
       "      <th>image_full_height</th>\n",
       "      <th>image_full_width</th>\n",
       "    </tr>\n",
       "  </thead>\n",
       "  <tbody>\n",
       "    <tr>\n",
       "      <th>0</th>\n",
       "      <td>40722367</td>\n",
       "      <td>1139187801</td>\n",
       "      <td>7F6756</td>\n",
       "      <td>127.0</td>\n",
       "      <td>103.0</td>\n",
       "      <td>86.0</td>\n",
       "      <td>25.0</td>\n",
       "      <td>32.0</td>\n",
       "      <td>49.0</td>\n",
       "      <td>False</td>\n",
       "      <td>1480217318</td>\n",
       "      <td>1</td>\n",
       "      <td>https://i.etsystatic.com/5800355/r/il/dcfe50/1...</td>\n",
       "      <td>https://i.etsystatic.com/5800355/r/il/dcfe50/1...</td>\n",
       "      <td>https://i.etsystatic.com/5800355/r/il/dcfe50/1...</td>\n",
       "      <td>https://i.etsystatic.com/5800355/r/il/dcfe50/1...</td>\n",
       "      <td>330</td>\n",
       "      <td>330</td>\n",
       "    </tr>\n",
       "    <tr>\n",
       "      <th>3</th>\n",
       "      <td>52229780</td>\n",
       "      <td>160763238</td>\n",
       "      <td>69685F</td>\n",
       "      <td>105.0</td>\n",
       "      <td>104.0</td>\n",
       "      <td>95.0</td>\n",
       "      <td>54.0</td>\n",
       "      <td>9.0</td>\n",
       "      <td>41.0</td>\n",
       "      <td>False</td>\n",
       "      <td>1299877281</td>\n",
       "      <td>1</td>\n",
       "      <td>https://i.etsystatic.com/5315957/r/il/44578a/1...</td>\n",
       "      <td>https://i.etsystatic.com/5315957/r/il/44578a/1...</td>\n",
       "      <td>https://i.etsystatic.com/5315957/r/il/44578a/1...</td>\n",
       "      <td>https://i.etsystatic.com/5315957/r/il/44578a/1...</td>\n",
       "      <td>800</td>\n",
       "      <td>640</td>\n",
       "    </tr>\n",
       "    <tr>\n",
       "      <th>5</th>\n",
       "      <td>55639432</td>\n",
       "      <td>172173593</td>\n",
       "      <td>989189</td>\n",
       "      <td>152.0</td>\n",
       "      <td>145.0</td>\n",
       "      <td>137.0</td>\n",
       "      <td>32.0</td>\n",
       "      <td>9.0</td>\n",
       "      <td>59.0</td>\n",
       "      <td>False</td>\n",
       "      <td>1299877281</td>\n",
       "      <td>1</td>\n",
       "      <td>https://i.etsystatic.com/5889085/r/il/108aae/1...</td>\n",
       "      <td>https://i.etsystatic.com/5889085/r/il/108aae/1...</td>\n",
       "      <td>https://i.etsystatic.com/5889085/r/il/108aae/1...</td>\n",
       "      <td>https://i.etsystatic.com/5889085/r/il/108aae/1...</td>\n",
       "      <td>720</td>\n",
       "      <td>455</td>\n",
       "    </tr>\n",
       "    <tr>\n",
       "      <th>7</th>\n",
       "      <td>60004545</td>\n",
       "      <td>186780693</td>\n",
       "      <td>9FABA7</td>\n",
       "      <td>159.0</td>\n",
       "      <td>171.0</td>\n",
       "      <td>167.0</td>\n",
       "      <td>160.0</td>\n",
       "      <td>7.0</td>\n",
       "      <td>67.0</td>\n",
       "      <td>False</td>\n",
       "      <td>1299877281</td>\n",
       "      <td>1</td>\n",
       "      <td>https://i.etsystatic.com/5889085/r/il/360636/1...</td>\n",
       "      <td>https://i.etsystatic.com/5889085/r/il/360636/1...</td>\n",
       "      <td>https://i.etsystatic.com/5889085/r/il/360636/1...</td>\n",
       "      <td>https://i.etsystatic.com/5889085/r/il/360636/1...</td>\n",
       "      <td>638</td>\n",
       "      <td>848</td>\n",
       "    </tr>\n",
       "    <tr>\n",
       "      <th>9</th>\n",
       "      <td>71158029</td>\n",
       "      <td>231818207</td>\n",
       "      <td>92827D</td>\n",
       "      <td>146.0</td>\n",
       "      <td>130.0</td>\n",
       "      <td>125.0</td>\n",
       "      <td>14.0</td>\n",
       "      <td>14.0</td>\n",
       "      <td>57.0</td>\n",
       "      <td>False</td>\n",
       "      <td>1301532642</td>\n",
       "      <td>1</td>\n",
       "      <td>https://i.etsystatic.com/5945857/r/il/c8f25b/2...</td>\n",
       "      <td>https://i.etsystatic.com/5945857/r/il/c8f25b/2...</td>\n",
       "      <td>https://i.etsystatic.com/5945857/r/il/c8f25b/2...</td>\n",
       "      <td>https://i.etsystatic.com/5945857/r/il/c8f25b/2...</td>\n",
       "      <td>1500</td>\n",
       "      <td>1191</td>\n",
       "    </tr>\n",
       "  </tbody>\n",
       "</table>\n",
       "</div>"
      ],
      "text/plain": [
       "   listing_id  listing_image_id image_hex_code  image_red  image_green  \\\n",
       "0    40722367        1139187801         7F6756      127.0        103.0   \n",
       "3    52229780         160763238         69685F      105.0        104.0   \n",
       "5    55639432         172173593         989189      152.0        145.0   \n",
       "7    60004545         186780693         9FABA7      159.0        171.0   \n",
       "9    71158029         231818207         92827D      146.0        130.0   \n",
       "\n",
       "   image_blue  image_hue  image_saturation  image_brightness  \\\n",
       "0        86.0       25.0              32.0              49.0   \n",
       "3        95.0       54.0               9.0              41.0   \n",
       "5       137.0       32.0               9.0              59.0   \n",
       "7       167.0      160.0               7.0              67.0   \n",
       "9       125.0       14.0              14.0              57.0   \n",
       "\n",
       "  image_is_black_and_white  image_creation_tsz  image_rank  \\\n",
       "0                    False          1480217318           1   \n",
       "3                    False          1299877281           1   \n",
       "5                    False          1299877281           1   \n",
       "7                    False          1299877281           1   \n",
       "9                    False          1301532642           1   \n",
       "\n",
       "                                     image_url_75x75  \\\n",
       "0  https://i.etsystatic.com/5800355/r/il/dcfe50/1...   \n",
       "3  https://i.etsystatic.com/5315957/r/il/44578a/1...   \n",
       "5  https://i.etsystatic.com/5889085/r/il/108aae/1...   \n",
       "7  https://i.etsystatic.com/5889085/r/il/360636/1...   \n",
       "9  https://i.etsystatic.com/5945857/r/il/c8f25b/2...   \n",
       "\n",
       "                                   image_url_170x135  \\\n",
       "0  https://i.etsystatic.com/5800355/r/il/dcfe50/1...   \n",
       "3  https://i.etsystatic.com/5315957/r/il/44578a/1...   \n",
       "5  https://i.etsystatic.com/5889085/r/il/108aae/1...   \n",
       "7  https://i.etsystatic.com/5889085/r/il/360636/1...   \n",
       "9  https://i.etsystatic.com/5945857/r/il/c8f25b/2...   \n",
       "\n",
       "                                     image_url_570xN  \\\n",
       "0  https://i.etsystatic.com/5800355/r/il/dcfe50/1...   \n",
       "3  https://i.etsystatic.com/5315957/r/il/44578a/1...   \n",
       "5  https://i.etsystatic.com/5889085/r/il/108aae/1...   \n",
       "7  https://i.etsystatic.com/5889085/r/il/360636/1...   \n",
       "9  https://i.etsystatic.com/5945857/r/il/c8f25b/2...   \n",
       "\n",
       "                                 image_url_fullxfull  image_full_height  \\\n",
       "0  https://i.etsystatic.com/5800355/r/il/dcfe50/1...                330   \n",
       "3  https://i.etsystatic.com/5315957/r/il/44578a/1...                800   \n",
       "5  https://i.etsystatic.com/5889085/r/il/108aae/1...                720   \n",
       "7  https://i.etsystatic.com/5889085/r/il/360636/1...                638   \n",
       "9  https://i.etsystatic.com/5945857/r/il/c8f25b/2...               1500   \n",
       "\n",
       "   image_full_width  \n",
       "0               330  \n",
       "3               640  \n",
       "5               455  \n",
       "7               848  \n",
       "9              1191  "
      ]
     },
     "execution_count": 153,
     "metadata": {},
     "output_type": "execute_result"
    }
   ],
   "source": [
    "first_image_info_all_paintings_with_new_style_tags_df.head()"
   ]
  },
  {
   "cell_type": "code",
   "execution_count": 154,
   "metadata": {},
   "outputs": [],
   "source": [
    "paintings_with_new_style_tags_and_image_info_df=paintings_with_new_style_tags_df.merge(first_image_info_all_paintings_with_new_style_tags_df,how='inner',on='listing_id')"
   ]
  },
  {
   "cell_type": "code",
   "execution_count": 155,
   "metadata": {},
   "outputs": [
    {
     "data": {
      "text/plain": [
       "19459"
      ]
     },
     "execution_count": 155,
     "metadata": {},
     "output_type": "execute_result"
    }
   ],
   "source": [
    "len(paintings_with_new_style_tags_and_image_info_df)"
   ]
  },
  {
   "cell_type": "code",
   "execution_count": 156,
   "metadata": {},
   "outputs": [
    {
     "data": {
      "text/html": [
       "<div>\n",
       "<style scoped>\n",
       "    .dataframe tbody tr th:only-of-type {\n",
       "        vertical-align: middle;\n",
       "    }\n",
       "\n",
       "    .dataframe tbody tr th {\n",
       "        vertical-align: top;\n",
       "    }\n",
       "\n",
       "    .dataframe thead th {\n",
       "        text-align: right;\n",
       "    }\n",
       "</style>\n",
       "<table border=\"1\" class=\"dataframe\">\n",
       "  <thead>\n",
       "    <tr style=\"text-align: right;\">\n",
       "      <th></th>\n",
       "      <th>listing_id</th>\n",
       "      <th>user_id</th>\n",
       "      <th>shop_id</th>\n",
       "      <th>title</th>\n",
       "      <th>description</th>\n",
       "      <th>shop_section_id</th>\n",
       "      <th>featured_rank</th>\n",
       "      <th>url</th>\n",
       "      <th>num_favorers</th>\n",
       "      <th>is_customizable</th>\n",
       "      <th>...</th>\n",
       "      <th>image_brightness</th>\n",
       "      <th>image_is_black_and_white</th>\n",
       "      <th>image_creation_tsz</th>\n",
       "      <th>image_rank</th>\n",
       "      <th>image_url_75x75</th>\n",
       "      <th>image_url_170x135</th>\n",
       "      <th>image_url_570xN</th>\n",
       "      <th>image_url_fullxfull</th>\n",
       "      <th>image_full_height</th>\n",
       "      <th>image_full_width</th>\n",
       "    </tr>\n",
       "  </thead>\n",
       "  <tbody>\n",
       "    <tr>\n",
       "      <th>0</th>\n",
       "      <td>40722367</td>\n",
       "      <td>9264578</td>\n",
       "      <td>5800355</td>\n",
       "      <td>US Mail Plane</td>\n",
       "      <td>This is a painting of one of my favorites from...</td>\n",
       "      <td>6798937.0</td>\n",
       "      <td>-1</td>\n",
       "      <td>https://www.etsy.com/listing/40722367/us-mail-...</td>\n",
       "      <td>55</td>\n",
       "      <td>False</td>\n",
       "      <td>...</td>\n",
       "      <td>49.0</td>\n",
       "      <td>False</td>\n",
       "      <td>1480217318</td>\n",
       "      <td>1</td>\n",
       "      <td>https://i.etsystatic.com/5800355/r/il/dcfe50/1...</td>\n",
       "      <td>https://i.etsystatic.com/5800355/r/il/dcfe50/1...</td>\n",
       "      <td>https://i.etsystatic.com/5800355/r/il/dcfe50/1...</td>\n",
       "      <td>https://i.etsystatic.com/5800355/r/il/dcfe50/1...</td>\n",
       "      <td>330</td>\n",
       "      <td>330</td>\n",
       "    </tr>\n",
       "    <tr>\n",
       "      <th>1</th>\n",
       "      <td>52229780</td>\n",
       "      <td>5976773</td>\n",
       "      <td>5315957</td>\n",
       "      <td>In the Landscape of the Divine Madness -- A Tr...</td>\n",
       "      <td>I like this one because it came straight from ...</td>\n",
       "      <td>6919244.0</td>\n",
       "      <td>-1</td>\n",
       "      <td>https://www.etsy.com/listing/52229780/in-the-l...</td>\n",
       "      <td>5</td>\n",
       "      <td>True</td>\n",
       "      <td>...</td>\n",
       "      <td>41.0</td>\n",
       "      <td>False</td>\n",
       "      <td>1299877281</td>\n",
       "      <td>1</td>\n",
       "      <td>https://i.etsystatic.com/5315957/r/il/44578a/1...</td>\n",
       "      <td>https://i.etsystatic.com/5315957/r/il/44578a/1...</td>\n",
       "      <td>https://i.etsystatic.com/5315957/r/il/44578a/1...</td>\n",
       "      <td>https://i.etsystatic.com/5315957/r/il/44578a/1...</td>\n",
       "      <td>800</td>\n",
       "      <td>640</td>\n",
       "    </tr>\n",
       "    <tr>\n",
       "      <th>2</th>\n",
       "      <td>55639432</td>\n",
       "      <td>9977031</td>\n",
       "      <td>5889085</td>\n",
       "      <td>Kanazawa Side Street - Original Watercolor Pai...</td>\n",
       "      <td>Pedestrian street in Kanazawa, Japan.\\n\\n12&amp;qu...</td>\n",
       "      <td>7033660.0</td>\n",
       "      <td>-1</td>\n",
       "      <td>https://www.etsy.com/listing/55639432/kanazawa...</td>\n",
       "      <td>37</td>\n",
       "      <td>True</td>\n",
       "      <td>...</td>\n",
       "      <td>59.0</td>\n",
       "      <td>False</td>\n",
       "      <td>1299877281</td>\n",
       "      <td>1</td>\n",
       "      <td>https://i.etsystatic.com/5889085/r/il/108aae/1...</td>\n",
       "      <td>https://i.etsystatic.com/5889085/r/il/108aae/1...</td>\n",
       "      <td>https://i.etsystatic.com/5889085/r/il/108aae/1...</td>\n",
       "      <td>https://i.etsystatic.com/5889085/r/il/108aae/1...</td>\n",
       "      <td>720</td>\n",
       "      <td>455</td>\n",
       "    </tr>\n",
       "    <tr>\n",
       "      <th>3</th>\n",
       "      <td>60004545</td>\n",
       "      <td>9977031</td>\n",
       "      <td>5889085</td>\n",
       "      <td>The Old House - original watercolor painting</td>\n",
       "      <td>Row of adobe houses across the street from the...</td>\n",
       "      <td>7409641.0</td>\n",
       "      <td>-1</td>\n",
       "      <td>https://www.etsy.com/listing/60004545/the-old-...</td>\n",
       "      <td>12</td>\n",
       "      <td>True</td>\n",
       "      <td>...</td>\n",
       "      <td>67.0</td>\n",
       "      <td>False</td>\n",
       "      <td>1299877281</td>\n",
       "      <td>1</td>\n",
       "      <td>https://i.etsystatic.com/5889085/r/il/360636/1...</td>\n",
       "      <td>https://i.etsystatic.com/5889085/r/il/360636/1...</td>\n",
       "      <td>https://i.etsystatic.com/5889085/r/il/360636/1...</td>\n",
       "      <td>https://i.etsystatic.com/5889085/r/il/360636/1...</td>\n",
       "      <td>638</td>\n",
       "      <td>848</td>\n",
       "    </tr>\n",
       "    <tr>\n",
       "      <th>4</th>\n",
       "      <td>71158029</td>\n",
       "      <td>10438360</td>\n",
       "      <td>5945857</td>\n",
       "      <td>Custom Pet Portrait, Pet Commission, Dog Portr...</td>\n",
       "      <td>Custom Pet Portrait, Pet Commission, Dog Portr...</td>\n",
       "      <td>10625006.0</td>\n",
       "      <td>-1</td>\n",
       "      <td>https://www.etsy.com/listing/71158029/custom-p...</td>\n",
       "      <td>47</td>\n",
       "      <td>True</td>\n",
       "      <td>...</td>\n",
       "      <td>57.0</td>\n",
       "      <td>False</td>\n",
       "      <td>1301532642</td>\n",
       "      <td>1</td>\n",
       "      <td>https://i.etsystatic.com/5945857/r/il/c8f25b/2...</td>\n",
       "      <td>https://i.etsystatic.com/5945857/r/il/c8f25b/2...</td>\n",
       "      <td>https://i.etsystatic.com/5945857/r/il/c8f25b/2...</td>\n",
       "      <td>https://i.etsystatic.com/5945857/r/il/c8f25b/2...</td>\n",
       "      <td>1500</td>\n",
       "      <td>1191</td>\n",
       "    </tr>\n",
       "  </tbody>\n",
       "</table>\n",
       "<p>5 rows × 47 columns</p>\n",
       "</div>"
      ],
      "text/plain": [
       "   listing_id   user_id  shop_id  \\\n",
       "0    40722367   9264578  5800355   \n",
       "1    52229780   5976773  5315957   \n",
       "2    55639432   9977031  5889085   \n",
       "3    60004545   9977031  5889085   \n",
       "4    71158029  10438360  5945857   \n",
       "\n",
       "                                               title  \\\n",
       "0                                      US Mail Plane   \n",
       "1  In the Landscape of the Divine Madness -- A Tr...   \n",
       "2  Kanazawa Side Street - Original Watercolor Pai...   \n",
       "3       The Old House - original watercolor painting   \n",
       "4  Custom Pet Portrait, Pet Commission, Dog Portr...   \n",
       "\n",
       "                                         description  shop_section_id  \\\n",
       "0  This is a painting of one of my favorites from...        6798937.0   \n",
       "1  I like this one because it came straight from ...        6919244.0   \n",
       "2  Pedestrian street in Kanazawa, Japan.\\n\\n12&qu...        7033660.0   \n",
       "3  Row of adobe houses across the street from the...        7409641.0   \n",
       "4  Custom Pet Portrait, Pet Commission, Dog Portr...       10625006.0   \n",
       "\n",
       "   featured_rank                                                url  \\\n",
       "0             -1  https://www.etsy.com/listing/40722367/us-mail-...   \n",
       "1             -1  https://www.etsy.com/listing/52229780/in-the-l...   \n",
       "2             -1  https://www.etsy.com/listing/55639432/kanazawa...   \n",
       "3             -1  https://www.etsy.com/listing/60004545/the-old-...   \n",
       "4             -1  https://www.etsy.com/listing/71158029/custom-p...   \n",
       "\n",
       "   num_favorers  is_customizable  ... image_brightness  \\\n",
       "0            55            False  ...             49.0   \n",
       "1             5             True  ...             41.0   \n",
       "2            37             True  ...             59.0   \n",
       "3            12             True  ...             67.0   \n",
       "4            47             True  ...             57.0   \n",
       "\n",
       "  image_is_black_and_white  image_creation_tsz image_rank  \\\n",
       "0                    False          1480217318          1   \n",
       "1                    False          1299877281          1   \n",
       "2                    False          1299877281          1   \n",
       "3                    False          1299877281          1   \n",
       "4                    False          1301532642          1   \n",
       "\n",
       "                                     image_url_75x75  \\\n",
       "0  https://i.etsystatic.com/5800355/r/il/dcfe50/1...   \n",
       "1  https://i.etsystatic.com/5315957/r/il/44578a/1...   \n",
       "2  https://i.etsystatic.com/5889085/r/il/108aae/1...   \n",
       "3  https://i.etsystatic.com/5889085/r/il/360636/1...   \n",
       "4  https://i.etsystatic.com/5945857/r/il/c8f25b/2...   \n",
       "\n",
       "                                   image_url_170x135  \\\n",
       "0  https://i.etsystatic.com/5800355/r/il/dcfe50/1...   \n",
       "1  https://i.etsystatic.com/5315957/r/il/44578a/1...   \n",
       "2  https://i.etsystatic.com/5889085/r/il/108aae/1...   \n",
       "3  https://i.etsystatic.com/5889085/r/il/360636/1...   \n",
       "4  https://i.etsystatic.com/5945857/r/il/c8f25b/2...   \n",
       "\n",
       "                                     image_url_570xN  \\\n",
       "0  https://i.etsystatic.com/5800355/r/il/dcfe50/1...   \n",
       "1  https://i.etsystatic.com/5315957/r/il/44578a/1...   \n",
       "2  https://i.etsystatic.com/5889085/r/il/108aae/1...   \n",
       "3  https://i.etsystatic.com/5889085/r/il/360636/1...   \n",
       "4  https://i.etsystatic.com/5945857/r/il/c8f25b/2...   \n",
       "\n",
       "                                 image_url_fullxfull  image_full_height  \\\n",
       "0  https://i.etsystatic.com/5800355/r/il/dcfe50/1...                330   \n",
       "1  https://i.etsystatic.com/5315957/r/il/44578a/1...                800   \n",
       "2  https://i.etsystatic.com/5889085/r/il/108aae/1...                720   \n",
       "3  https://i.etsystatic.com/5889085/r/il/360636/1...                638   \n",
       "4  https://i.etsystatic.com/5945857/r/il/c8f25b/2...               1500   \n",
       "\n",
       "   image_full_width  \n",
       "0               330  \n",
       "1               640  \n",
       "2               455  \n",
       "3               848  \n",
       "4              1191  \n",
       "\n",
       "[5 rows x 47 columns]"
      ]
     },
     "execution_count": 156,
     "metadata": {},
     "output_type": "execute_result"
    }
   ],
   "source": [
    "paintings_with_new_style_tags_and_image_info_df.head()"
   ]
  },
  {
   "cell_type": "code",
   "execution_count": 139,
   "metadata": {},
   "outputs": [],
   "source": [
    "#Save the extended for use in the machine learning part of the project"
   ]
  },
  {
   "cell_type": "code",
   "execution_count": 158,
   "metadata": {},
   "outputs": [
    {
     "name": "stdout",
     "output_type": "stream",
     "text": [
      "Saved all listings file ./Git_exclude/Data/all_paintings_from_USD250_listings_with_style_and_image_info.csv with some style-related tags and image information, after cleaning up the data.\n"
     ]
    }
   ],
   "source": [
    "min_price = 250.0\n",
    "\n",
    "csv_combined_filename_w_style_n_image_info = f'./Git_exclude/Data/all_paintings_from_USD{int(min_price)}_listings_with_style_and_image_info.csv'\n",
    "\n",
    "#If the file with all the cleaned listing data already exists, I load it, otherwise I create it with the cleaning steps chosen above\n",
    "try:\n",
    "    paintings_with_new_style_tags_and_image_info_df = pd.read_csv(csv_combined_filename_w_style_n_image_info)\n",
    "\n",
    "    print(f'Loaded all listings file {csv_combined_filename_w_style_n_image_info} with some style-related tags and image information, after cleaning up the data.')\n",
    "\n",
    "except:\n",
    "\n",
    "    #finally save to .csv file for further processing (machine learning model, etc.) and avoiding to recompute everything late\n",
    "    paintings_with_new_style_tags_and_image_info_df.to_csv(csv_combined_filename_w_style_n_image_info,index=False)\n",
    "    print(f'Saved all listings file {csv_combined_filename_w_style_n_image_info} with some style-related tags and image information, after cleaning up the data.')"
   ]
  },
  {
   "cell_type": "code",
   "execution_count": null,
   "metadata": {},
   "outputs": [],
   "source": []
  },
  {
   "cell_type": "markdown",
   "metadata": {},
   "source": [
    "## PART 5: Download the images themselves"
   ]
  },
  {
   "cell_type": "markdown",
   "metadata": {},
   "source": [
    "### Let's try to actually download a listing image"
   ]
  },
  {
   "cell_type": "code",
   "execution_count": null,
   "metadata": {},
   "outputs": [],
   "source": [
    "response_listing_sample_image = requests.get(url_listing_sample_image_570N, headers = headers)"
   ]
  },
  {
   "cell_type": "code",
   "execution_count": null,
   "metadata": {},
   "outputs": [],
   "source": [
    "response_listing_sample_image"
   ]
  },
  {
   "cell_type": "code",
   "execution_count": null,
   "metadata": {},
   "outputs": [],
   "source": [
    "response_listing_sample_image_data = response_listing_sample_image.json() "
   ]
  },
  {
   "cell_type": "code",
   "execution_count": null,
   "metadata": {},
   "outputs": [],
   "source": [
    "response_listing_sample_image_data.keys()"
   ]
  },
  {
   "cell_type": "code",
   "execution_count": null,
   "metadata": {},
   "outputs": [],
   "source": [
    "#The above doesn't return the image itself.. only metadata"
   ]
  },
  {
   "cell_type": "code",
   "execution_count": null,
   "metadata": {},
   "outputs": [],
   "source": [
    "url_listing_sample_image_570N_img = sample_listing_all_images_df['url_570xN'].iloc[0]\n",
    "url_listing_sample_image_570N_img"
   ]
  },
  {
   "cell_type": "code",
   "execution_count": null,
   "metadata": {},
   "outputs": [],
   "source": [
    "url_listing_sample_image_full_img = sample_listing_all_images_df['url_fullxfull'].iloc[0]\n",
    "url_listing_sample_image_full_img"
   ]
  },
  {
   "cell_type": "code",
   "execution_count": null,
   "metadata": {},
   "outputs": [],
   "source": [
    "import os\n",
    "\n",
    "#may need a decorator here to prevent running this if it already ran before, since this is the time consuming step \n",
    "def download_image(url, pathname):\n",
    "    \"\"\"\n",
    "    Downloads a file given an URL and puts it in the folder `pathname`\n",
    "    \"\"\"\n",
    "    # if path doesn't exist, make that path dir\n",
    "    if not os.path.isdir(pathname):\n",
    "        os.makedirs(pathname)\n",
    "    # get the file name\n",
    "    filename = os.path.join(pathname, url.split(\"/\")[-1])\n",
    "    # download the body of response by chunk, not immediately\n",
    "    with requests.get(url, stream=True) as r:\n",
    "        r.raise_for_status()\n",
    "        with open(filename, 'wb') as f:\n",
    "            for chunk in r.iter_content(chunk_size=8192): \n",
    "                # If you have chunk encoded response uncomment if\n",
    "                # and set chunk_size parameter to None.\n",
    "                #if chunk: \n",
    "                f.write(chunk)\n",
    "    return filename\n",
    "\n",
    "\n",
    "# import tqdm\n",
    "#\n",
    "# def download_image(url, pathname):\n",
    "#     \"\"\"\n",
    "#     Downloads a file given an URL and puts it in the folder `pathname`\n",
    "#     \"\"\"\n",
    "#     # if path doesn't exist, make that path dir\n",
    "#     if not os.path.isdir(pathname):\n",
    "#         os.makedirs(pathname)\n",
    "#     # download the body of response by chunk, not immediately\n",
    "#     response = requests.get(url, stream=True)\n",
    "#     # get the total file size\n",
    "#     file_size = int(response.headers.get(\"Content-Length\", 0))\n",
    "#     # get the file name\n",
    "#     filename = os.path.join(pathname, url.split(\"/\")[-1])\n",
    "#     # progress bar, changing the unit to bytes instead of iteration (default by tqdm)\n",
    "#     progress = tqdm(response.iter_content(1024), f\"Downloading {filename}\", total=file_size, unit=\"B\", unit_scale=True, unit_divisor=1024)\n",
    "#     with open(filename, \"wb\") as f:\n",
    "#         for data in progress.iterable:\n",
    "#             # write data read to the file\n",
    "#             f.write(data)\n",
    "#             # update the progress bar manually\n",
    "#             progress.update(len(data))\n"
   ]
  },
  {
   "cell_type": "code",
   "execution_count": null,
   "metadata": {},
   "outputs": [],
   "source": [
    "#Test the above code out:\n",
    "\n",
    "images_folder = './Git_exclude/Painting_images/'\n",
    "\n",
    "sample_image_570N = download_image(url_listing_sample_image_570N_img,images_folder)\n"
   ]
  },
  {
   "cell_type": "code",
   "execution_count": null,
   "metadata": {},
   "outputs": [],
   "source": [
    "#Sample Image processing of the image to make sure to isolate the painting, then computing stats and pass the image to further transformer downstreams.\n",
    "import matplotlib.pyplot as plt\n",
    "import matplotlib.image as mpimg\n",
    "%matplotlib inline\n",
    "\n",
    "img = mpimg.imread('./Git_exclude/Painting_images/il_570xN.3120353037_hxif.jpg')"
   ]
  },
  {
   "cell_type": "code",
   "execution_count": null,
   "metadata": {},
   "outputs": [],
   "source": [
    "img.dtype"
   ]
  },
  {
   "cell_type": "code",
   "execution_count": null,
   "metadata": {},
   "outputs": [],
   "source": [
    "imgplot = plt.imshow(img)"
   ]
  },
  {
   "cell_type": "code",
   "execution_count": null,
   "metadata": {},
   "outputs": [],
   "source": [
    "img.shape"
   ]
  },
  {
   "cell_type": "markdown",
   "metadata": {},
   "source": [
    "#### Let's check the color properties of the image"
   ]
  },
  {
   "cell_type": "code",
   "execution_count": null,
   "metadata": {},
   "outputs": [],
   "source": [
    "#Let's check if the mean colors actually match those reported by the /images request \n",
    "import numpy as np\n",
    "\n",
    "r_mean, g_mean, b_mean = np.mean(img,axis=(0,1))\n"
   ]
  },
  {
   "cell_type": "code",
   "execution_count": null,
   "metadata": {},
   "outputs": [],
   "source": [
    "r_mean"
   ]
  },
  {
   "cell_type": "code",
   "execution_count": null,
   "metadata": {},
   "outputs": [],
   "source": [
    "g_mean"
   ]
  },
  {
   "cell_type": "code",
   "execution_count": 20,
   "metadata": {},
   "outputs": [
    {
     "ename": "NameError",
     "evalue": "name 'b_mean' is not defined",
     "output_type": "error",
     "traceback": [
      "\u001b[1;31m---------------------------------------------------------------------------\u001b[0m",
      "\u001b[1;31mNameError\u001b[0m                                 Traceback (most recent call last)",
      "\u001b[1;32m<ipython-input-20-a6445135a0a4>\u001b[0m in \u001b[0;36m<module>\u001b[1;34m\u001b[0m\n\u001b[1;32m----> 1\u001b[1;33m \u001b[0mb_mean\u001b[0m\u001b[1;33m\u001b[0m\u001b[1;33m\u001b[0m\u001b[0m\n\u001b[0m",
      "\u001b[1;31mNameError\u001b[0m: name 'b_mean' is not defined"
     ]
    }
   ],
   "source": [
    "b_mean"
   ]
  },
  {
   "cell_type": "code",
   "execution_count": null,
   "metadata": {},
   "outputs": [],
   "source": [
    "img_red = img.copy()\n",
    "img_red[:,:,1:]=0\n",
    "plt.imshow(img_red)\n",
    "\n",
    "# #Alternatively:\n",
    "# img_red = np.zeros(img.shape,dtype=int)\n",
    "# img_red[:,:,0]=img[:,:,0]\n",
    "# plt.imshow(img_red)"
   ]
  },
  {
   "cell_type": "code",
   "execution_count": null,
   "metadata": {},
   "outputs": [],
   "source": [
    "np.mean(img_red,axis=(0,1))"
   ]
  },
  {
   "cell_type": "code",
   "execution_count": null,
   "metadata": {},
   "outputs": [],
   "source": [
    "img_green = img.copy()\n",
    "img_green[:,:,0]=0\n",
    "img_green[:,:,2]=0\n",
    "plt.imshow(img_green)\n",
    "\n",
    "# # #Alternatively:\n",
    "# img_green = np.zeros(img.shape,dtype=int)\n",
    "# img_green[:,:,1]=img[:,:,1]\n",
    "# plt.imshow(img_green)"
   ]
  },
  {
   "cell_type": "code",
   "execution_count": null,
   "metadata": {},
   "outputs": [],
   "source": [
    "np.mean(img_green,axis=(0,1))"
   ]
  },
  {
   "cell_type": "code",
   "execution_count": null,
   "metadata": {},
   "outputs": [],
   "source": [
    "img_blue = img.copy()\n",
    "img_blue[:,:,:2]=0\n",
    "plt.imshow(img_blue)\n",
    "\n",
    "# # #Alternatively:\n",
    "# img_blue = np.zeros(img.shape,dtype=int)\n",
    "# img_blue[:,:,2]=img[:,:,2]\n",
    "# plt.imshow(img_blue)"
   ]
  },
  {
   "cell_type": "code",
   "execution_count": null,
   "metadata": {},
   "outputs": [],
   "source": [
    "np.mean(img_blue,axis=(0,1))"
   ]
  },
  {
   "cell_type": "code",
   "execution_count": null,
   "metadata": {},
   "outputs": [],
   "source": [
    "img_test = img_red + img_green + img_blue"
   ]
  },
  {
   "cell_type": "code",
   "execution_count": null,
   "metadata": {},
   "outputs": [],
   "source": [
    "plt.imshow(img_test)"
   ]
  },
  {
   "cell_type": "code",
   "execution_count": null,
   "metadata": {},
   "outputs": [],
   "source": [
    "#Note that the average colors don't match those reported... maybe because I am using the image resized to weird dimensions?"
   ]
  },
  {
   "cell_type": "code",
   "execution_count": null,
   "metadata": {},
   "outputs": [],
   "source": [
    "#Let's try to load the full size image and see if that works:\n",
    "sample_image_full = download_image(url_listing_sample_image_full_img,images_folder)"
   ]
  },
  {
   "cell_type": "code",
   "execution_count": null,
   "metadata": {},
   "outputs": [],
   "source": [
    "sample_image_full"
   ]
  },
  {
   "cell_type": "code",
   "execution_count": null,
   "metadata": {},
   "outputs": [],
   "source": [
    "img_full = mpimg.imread(sample_image_full)"
   ]
  },
  {
   "cell_type": "code",
   "execution_count": null,
   "metadata": {},
   "outputs": [],
   "source": [
    "imgplot_full = plt.imshow(img_full)"
   ]
  },
  {
   "cell_type": "code",
   "execution_count": null,
   "metadata": {},
   "outputs": [],
   "source": [
    "img_full.shape"
   ]
  },
  {
   "cell_type": "code",
   "execution_count": null,
   "metadata": {},
   "outputs": [],
   "source": [
    "r_mean, g_mean, b_mean = np.mean(img_full,axis=(0,1))"
   ]
  },
  {
   "cell_type": "code",
   "execution_count": null,
   "metadata": {},
   "outputs": [],
   "source": [
    "r_mean"
   ]
  },
  {
   "cell_type": "code",
   "execution_count": null,
   "metadata": {},
   "outputs": [],
   "source": [
    "r_mean_nocontour, g_mean_nocontour, b_mean_nocontour = np.mean(img_full[200:800,150:850,:],axis=(0,1))"
   ]
  },
  {
   "cell_type": "code",
   "execution_count": null,
   "metadata": {},
   "outputs": [],
   "source": [
    "r_mean_nocontour"
   ]
  },
  {
   "cell_type": "code",
   "execution_count": null,
   "metadata": {},
   "outputs": [],
   "source": [
    "g_mean_nocontour"
   ]
  },
  {
   "cell_type": "code",
   "execution_count": null,
   "metadata": {},
   "outputs": [],
   "source": [
    "b_mean_nocontour"
   ]
  },
  {
   "cell_type": "code",
   "execution_count": null,
   "metadata": {},
   "outputs": [],
   "source": [
    "#Maybe the average is computed after removing all white pixels that surround the true image?\n",
    "\n",
    "img_no_contour = np.zeros(img_full.shape,dtype=int)\n",
    "\n",
    "img_no_contour[np.where(img_full!=[255,255,255])] = img_full[np.where(img_full!=[255,255,255])]\n",
    "\n",
    "plt.imshow(img_no_contour)\n"
   ]
  },
  {
   "cell_type": "code",
   "execution_count": null,
   "metadata": {},
   "outputs": [],
   "source": [
    "r_mean_no_contour, g_mean_no_contour, b_mean_no_contour = np.mean(img_no_contour,axis=(0,1))\n",
    "r_mean_no_contour"
   ]
  },
  {
   "cell_type": "code",
   "execution_count": null,
   "metadata": {},
   "outputs": [],
   "source": [
    "g_mean_no_contour"
   ]
  },
  {
   "cell_type": "code",
   "execution_count": null,
   "metadata": {},
   "outputs": [],
   "source": [
    "b_mean_no_contour"
   ]
  },
  {
   "cell_type": "code",
   "execution_count": null,
   "metadata": {},
   "outputs": [],
   "source": [
    "r_mean, g_mean, b_mean "
   ]
  },
  {
   "cell_type": "code",
   "execution_count": null,
   "metadata": {},
   "outputs": [],
   "source": [
    "img_mean = np.zeros(img_full.shape,dtype=int)\n",
    "\n",
    "img_mean[:,:,0] = r_mean_no_contour #r_mean\n",
    "img_mean[:,:,1] = g_mean_no_contour #g_mean\n",
    "img_mean[:,:,2] = b_mean_no_contour #b_mean\n",
    "\n",
    "plt.imshow(img_mean)"
   ]
  },
  {
   "cell_type": "markdown",
   "metadata": {},
   "source": [
    "### Try a different image of the same listing, with background"
   ]
  },
  {
   "cell_type": "code",
   "execution_count": null,
   "metadata": {},
   "outputs": [],
   "source": [
    "url_listing_sample_image_570N_alt = 'https://openapi.etsy.com/v3/application/shops/{shop_id}/listings/{listing_id}/images/{listing_image_id}'.format(shop_id=first_100acrylic_paintings_df.iloc[0]['shop_id'],\n",
    "                                                        listing_id=first_100acrylic_paintings_df.iloc[0]['listing_id'], listing_image_id=sample_listing_all_images_df['listing_image_id'].iloc[1])\n",
    "url_listing_sample_image_570N_alt"
   ]
  },
  {
   "cell_type": "code",
   "execution_count": null,
   "metadata": {},
   "outputs": [],
   "source": [
    "response_listing_sample_image_alt = requests.get(url_listing_sample_image_570N_alt, headers = headers)\n",
    "response_listing_sample_image_alt\n"
   ]
  },
  {
   "cell_type": "code",
   "execution_count": null,
   "metadata": {},
   "outputs": [],
   "source": [
    "response_listing_sample_image_alt_data = response_listing_sample_image_alt.json() \n",
    "response_listing_sample_image_alt_data.keys()"
   ]
  },
  {
   "cell_type": "code",
   "execution_count": null,
   "metadata": {},
   "outputs": [],
   "source": [
    "#The above doesn't return the image itself.. only metadata\n",
    "url_listing_sample_image_570N_img_alt = sample_listing_all_images_df['url_570xN'].iloc[1]\n",
    "url_listing_sample_image_570N_img_alt"
   ]
  },
  {
   "cell_type": "code",
   "execution_count": null,
   "metadata": {},
   "outputs": [],
   "source": [
    "images_folder = './Git_exclude/Painting_images/'\n",
    "sample_image_570N_alt = download_image(url_listing_sample_image_570N_img_alt,images_folder)\n",
    "\n",
    "img_alt = mpimg.imread(sample_image_570N_alt)"
   ]
  },
  {
   "cell_type": "code",
   "execution_count": null,
   "metadata": {},
   "outputs": [],
   "source": [
    "img_alt = mpimg.imread(sample_image_570N_alt)"
   ]
  },
  {
   "cell_type": "code",
   "execution_count": null,
   "metadata": {},
   "outputs": [],
   "source": [
    "img_alt_mean = np.zeros(img_full.shape,dtype=int)\n",
    "\n",
    "r_mean_alt, g_mean_alt, b_mean_alt = np.mean(img_alt,axis=(0,1))\n",
    "\n",
    "img_alt_mean[:,:,0] = r_mean_alt #r_mean\n",
    "img_alt_mean[:,:,1] = g_mean_alt #g_mean\n",
    "img_alt_mean[:,:,2] = b_mean_alt #b_mean\n",
    "\n",
    "plt.imshow(img_alt_mean)"
   ]
  },
  {
   "cell_type": "code",
   "execution_count": null,
   "metadata": {},
   "outputs": [],
   "source": [
    "#So the manual average of the image does in fact pick up the background mostly\n",
    "#Is it the same for the numbers returned by the GET request?\n",
    "\n",
    "img_alt_mean_listing = np.zeros(img_full.shape,dtype=int)\n",
    "\n",
    "r_mean_alt_listing = sample_listing_all_images_df['red'].iloc[1]\n",
    "g_mean_alt_listing = sample_listing_all_images_df['green'].iloc[1]\n",
    "b_mean_alt_listing = sample_listing_all_images_df['blue'].iloc[1]\n",
    "\n",
    "img_alt_mean_listing[:,:,0] = r_mean_alt_listing #r_mean\n",
    "img_alt_mean_listing[:,:,1] = g_mean_alt_listing #g_mean\n",
    "img_alt_mean_listing[:,:,2] = b_mean_alt_listing #b_mean\n",
    "\n",
    "plt.imshow(img_alt_mean_listing)\n",
    "\n",
    "#So the mean colors returned by the listing seems to be robust to the profile, and I can consider it reliable for the most part.\n"
   ]
  },
  {
   "cell_type": "code",
   "execution_count": null,
   "metadata": {},
   "outputs": [],
   "source": []
  },
  {
   "cell_type": "code",
   "execution_count": null,
   "metadata": {},
   "outputs": [],
   "source": []
  },
  {
   "cell_type": "markdown",
   "metadata": {},
   "source": [
    "### Get variation images"
   ]
  },
  {
   "cell_type": "code",
   "execution_count": null,
   "metadata": {},
   "outputs": [],
   "source": [
    "#Get all variation images for this listing, maybe there's another image with the right size without background?\n",
    "\n",
    "url_listing_variation_images = 'https://openapi.etsy.com/v3/application/shops/{shop_id}/listings/{listing_id}/variation-images'.format(shop_id=first_100acrylic_paintings_df.iloc[0]['shop_id'],\n",
    "                                                        listing_id=first_100acrylic_paintings_df.iloc[0]['listing_id'])\n",
    "url_listing_variation_images"
   ]
  },
  {
   "cell_type": "code",
   "execution_count": null,
   "metadata": {},
   "outputs": [],
   "source": [
    "response_listing_variation_images = requests.get(url_listing_variation_images, headers = headers)"
   ]
  },
  {
   "cell_type": "code",
   "execution_count": null,
   "metadata": {},
   "outputs": [],
   "source": [
    "response_listing_variation_images = response_listing_variation_imagese"
   ]
  },
  {
   "cell_type": "code",
   "execution_count": null,
   "metadata": {},
   "outputs": [],
   "source": [
    "response_listing_variation_images_data = response_listing_variation_images.json() "
   ]
  },
  {
   "cell_type": "code",
   "execution_count": null,
   "metadata": {},
   "outputs": [],
   "source": [
    "response_listing_variation_images_data.keys()"
   ]
  },
  {
   "cell_type": "code",
   "execution_count": null,
   "metadata": {},
   "outputs": [],
   "source": [
    "response_listing_variation_images_data['count']"
   ]
  },
  {
   "cell_type": "markdown",
   "metadata": {},
   "source": [
    "### Sample image processing with PIL "
   ]
  },
  {
   "cell_type": "code",
   "execution_count": null,
   "metadata": {},
   "outputs": [],
   "source": [
    "from PIL import ImageFilter, Image, ImageStat\n",
    "\n",
    "with Image.open(sample_image_full) as im:\n",
    "    #im.show()\n",
    "    #im_new = im.filter(ImageFilter.FIND_EDGES)\n",
    "    #im_new.show()\n",
    "    print(ImageStat.Stat(im).var)\n",
    "    \n"
   ]
  },
  {
   "cell_type": "code",
   "execution_count": null,
   "metadata": {},
   "outputs": [],
   "source": [
    "print(ImageStat.Stat(im).mean)"
   ]
  },
  {
   "cell_type": "code",
   "execution_count": null,
   "metadata": {},
   "outputs": [],
   "source": []
  }
 ],
 "metadata": {
  "kernelspec": {
   "display_name": "Python 3",
   "language": "python",
   "name": "python3"
  },
  "language_info": {
   "codemirror_mode": {
    "name": "ipython",
    "version": 3
   },
   "file_extension": ".py",
   "mimetype": "text/x-python",
   "name": "python",
   "nbconvert_exporter": "python",
   "pygments_lexer": "ipython3",
   "version": "3.8.5"
  }
 },
 "nbformat": 4,
 "nbformat_minor": 4
}
