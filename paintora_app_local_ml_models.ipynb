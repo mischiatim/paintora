{
 "cells": [
  {
   "cell_type": "code",
   "execution_count": 59,
   "metadata": {
    "slideshow": null
   },
   "outputs": [],
   "source": [
    "import seaborn as sns\n",
    "sns.set()\n",
    "\n",
    "import matplotlib.pyplot as plt\n",
    "%matplotlib inline\n",
    "\n",
    "import numpy as np\n",
    "\n",
    "import pandas as pd\n",
    "\n",
    "import glob, os\n",
    "\n",
    "#To serialize and save the models after training them for the first time, then load them from memory afterwards to save time\n",
    "from joblib import dump, load\n",
    "#import dill "
   ]
  },
  {
   "cell_type": "markdown",
   "metadata": {
    "slideshow": null
   },
   "source": [
    "## Load and parse the data downloaded from Etsy and preselected-cleaned in the 'data_downloading' notebook\n"
   ]
  },
  {
   "cell_type": "code",
   "execution_count": 2,
   "metadata": {},
   "outputs": [
    {
     "data": {
      "text/plain": [
       "['./Git_exclude/Data\\\\all_paintings_from_USD250_cleaned_listings.csv',\n",
       " './Git_exclude/Data\\\\all_paintings_from_USD250_listings_with_style_and_image_info.csv',\n",
       " './Git_exclude/Data\\\\all_paintings_from_USD250_listings_with_style_tags.csv']"
      ]
     },
     "execution_count": 2,
     "metadata": {},
     "output_type": "execute_result"
    }
   ],
   "source": [
    "csv_filename_pattern = f'./Git_exclude/Data/all_paintings*.csv'\n",
    "\n",
    "all_paintings_csv_files = glob.glob(csv_filename_pattern)\n",
    "all_paintings_csv_files"
   ]
  },
  {
   "cell_type": "code",
   "execution_count": 3,
   "metadata": {},
   "outputs": [],
   "source": [
    "# #Option 1: load all paintings in the $250-650 range, even if they don't have style and image information (~50000 entries)\n",
    "\n",
    "# min_price = 250.0\n",
    "\n",
    "# csv_all_cleaned_listings = f'./Git_exclude/Data/all_paintings_from_USD{int(min_price)}_cleaned_listings.csv'\n",
    "\n",
    "# all_paintings_df = pd.read_csv(csv_all_cleaned_listings)\n",
    "\n",
    "# print(f'Loaded listings file {csv_all_cleaned_listings} with all the cleaned listings (multiple taxonomies, with or without style data).')"
   ]
  },
  {
   "cell_type": "code",
   "execution_count": 4,
   "metadata": {},
   "outputs": [],
   "source": [
    "#Option 2: load only the paintings in the $250-650 range that have style information (~20000 entries)\n",
    "\n",
    "# min_price = 250.0\n",
    "\n",
    "# csv_all_cleaned_listings_w_style = f'./Git_exclude/Data/all_paintings_from_USD{int(min_price)}_listings_with_style_tags.csv'\n",
    "# paintings_with_style_tags_df = pd.read_csv(csv_all_cleaned_listings_w_style)\n",
    "# print(f'Loaded all listings file {csv_all_cleaned_listings_w_style} with some style-related tags, after cleaning up the data.')"
   ]
  },
  {
   "cell_type": "code",
   "execution_count": 5,
   "metadata": {},
   "outputs": [
    {
     "name": "stdout",
     "output_type": "stream",
     "text": [
      "Loaded all listings file ./Git_exclude/Data/all_paintings_from_USD250_listings_with_style_and_image_info.csv with style-related tags and some image info, after cleaning up the data.\n"
     ]
    }
   ],
   "source": [
    "#Option 3: load only the paintings in the $250-650 range that have style and also some image information (~20000 entries, just ~300 fewer than option 2)\n",
    "\n",
    "min_price = 250.0\n",
    "\n",
    "csv_combined_filename_w_style_n_image_info = f'./Git_exclude/Data/all_paintings_from_USD{int(min_price)}_listings_with_style_and_image_info.csv'\n",
    "paintings_with_style_tags_and_image_info_df = pd.read_csv(csv_combined_filename_w_style_n_image_info)\n",
    "print(f'Loaded all listings file {csv_combined_filename_w_style_n_image_info} with style-related tags and some image info, after cleaning up the data.')\n"
   ]
  },
  {
   "cell_type": "code",
   "execution_count": 6,
   "metadata": {},
   "outputs": [
    {
     "name": "stdout",
     "output_type": "stream",
     "text": [
      "<class 'pandas.core.frame.DataFrame'>\n",
      "RangeIndex: 19459 entries, 0 to 19458\n",
      "Data columns (total 47 columns):\n",
      " #   Column                       Non-Null Count  Dtype  \n",
      "---  ------                       --------------  -----  \n",
      " 0   listing_id                   19459 non-null  int64  \n",
      " 1   user_id                      19459 non-null  int64  \n",
      " 2   shop_id                      19459 non-null  int64  \n",
      " 3   title                        19459 non-null  object \n",
      " 4   description                  19459 non-null  object \n",
      " 5   shop_section_id              12972 non-null  float64\n",
      " 6   featured_rank                19459 non-null  int64  \n",
      " 7   url                          19459 non-null  object \n",
      " 8   num_favorers                 19459 non-null  int64  \n",
      " 9   is_customizable              19459 non-null  bool   \n",
      " 10  tags                         19459 non-null  object \n",
      " 11  materials                    19459 non-null  object \n",
      " 12  shipping_profile_id          13401 non-null  float64\n",
      " 13  when_made                    19459 non-null  object \n",
      " 14  style                        19459 non-null  object \n",
      " 15  has_variations               19459 non-null  bool   \n",
      " 16  price                        19459 non-null  float64\n",
      " 17  taxonomy_id                  19459 non-null  int64  \n",
      " 18  length                       19459 non-null  float64\n",
      " 19  width                        19459 non-null  float64\n",
      " 20  height                       19459 non-null  float64\n",
      " 21  max_dimension                19459 non-null  float64\n",
      " 22  area                         19459 non-null  float64\n",
      " 23  aspect_ratio                 19459 non-null  float64\n",
      " 24  weight                       19459 non-null  float64\n",
      " 25  days_from_original_creation  19459 non-null  int64  \n",
      " 26  days_from_last_modification  19459 non-null  int64  \n",
      " 27  made_by_seller               19459 non-null  bool   \n",
      " 28  painting_type                19459 non-null  object \n",
      " 29  style_tags_new               19459 non-null  object \n",
      " 30  listing_image_id             19459 non-null  int64  \n",
      " 31  image_hex_code               19458 non-null  object \n",
      " 32  image_red                    19458 non-null  float64\n",
      " 33  image_green                  19458 non-null  float64\n",
      " 34  image_blue                   19458 non-null  float64\n",
      " 35  image_hue                    19458 non-null  float64\n",
      " 36  image_saturation             19458 non-null  float64\n",
      " 37  image_brightness             19458 non-null  float64\n",
      " 38  image_is_black_and_white     19427 non-null  object \n",
      " 39  image_creation_tsz           19459 non-null  int64  \n",
      " 40  image_rank                   19459 non-null  int64  \n",
      " 41  image_url_75x75              19459 non-null  object \n",
      " 42  image_url_170x135            19459 non-null  object \n",
      " 43  image_url_570xN              19459 non-null  object \n",
      " 44  image_url_fullxfull          19459 non-null  object \n",
      " 45  image_full_height            19459 non-null  int64  \n",
      " 46  image_full_width             19459 non-null  int64  \n",
      "dtypes: bool(3), float64(16), int64(13), object(15)\n",
      "memory usage: 6.6+ MB\n"
     ]
    }
   ],
   "source": [
    "paintings_with_style_tags_and_image_info_df.info()"
   ]
  },
  {
   "cell_type": "markdown",
   "metadata": {
    "slideshow": null
   },
   "source": [
    "Keep the labels to be predicted, in this case the prices, in a separate data structure than the features. "
   ]
  },
  {
   "cell_type": "code",
   "execution_count": 7,
   "metadata": {},
   "outputs": [],
   "source": [
    "prices = paintings_with_style_tags_and_image_info_df['price'].values"
   ]
  },
  {
   "cell_type": "code",
   "execution_count": 8,
   "metadata": {},
   "outputs": [
    {
     "data": {
      "text/plain": [
       "19459"
      ]
     },
     "execution_count": 8,
     "metadata": {},
     "output_type": "execute_result"
    }
   ],
   "source": [
    "len(prices)"
   ]
  },
  {
   "cell_type": "code",
   "execution_count": 20,
   "metadata": {},
   "outputs": [
    {
     "data": {
      "text/plain": [
       "array([250., 250., 250., 250., 250.])"
      ]
     },
     "execution_count": 20,
     "metadata": {},
     "output_type": "execute_result"
    }
   ],
   "source": [
    "#Note that this is a numpy array rather than a list (as in the ML miniproject) but it should be ok\n",
    "prices[:5]"
   ]
  },
  {
   "cell_type": "markdown",
   "metadata": {
    "slideshow": null
   },
   "source": [
    "# Models\n"
   ]
  },
  {
   "cell_type": "markdown",
   "metadata": {},
   "source": [
    "### Set aside 20% of the data for testing the model at the end - this also shuffles the dataframe as a bonus"
   ]
  },
  {
   "cell_type": "code",
   "execution_count": 21,
   "metadata": {},
   "outputs": [],
   "source": [
    "from sklearn.model_selection import train_test_split\n",
    "\n",
    "paintings_df_train, paintings_df_test = train_test_split(paintings_with_style_tags_and_image_info_df, test_size=0.2, random_state=1)"
   ]
  },
  {
   "cell_type": "code",
   "execution_count": 22,
   "metadata": {},
   "outputs": [
    {
     "data": {
      "text/plain": [
       "3892"
      ]
     },
     "execution_count": 22,
     "metadata": {},
     "output_type": "execute_result"
    }
   ],
   "source": [
    "len(paintings_df_test)"
   ]
  },
  {
   "cell_type": "code",
   "execution_count": 23,
   "metadata": {},
   "outputs": [
    {
     "data": {
      "text/plain": [
       "15567"
      ]
     },
     "execution_count": 23,
     "metadata": {},
     "output_type": "execute_result"
    }
   ],
   "source": [
    "len(paintings_df_train)"
   ]
  },
  {
   "cell_type": "code",
   "execution_count": 24,
   "metadata": {},
   "outputs": [
    {
     "data": {
      "text/html": [
       "<div>\n",
       "<style scoped>\n",
       "    .dataframe tbody tr th:only-of-type {\n",
       "        vertical-align: middle;\n",
       "    }\n",
       "\n",
       "    .dataframe tbody tr th {\n",
       "        vertical-align: top;\n",
       "    }\n",
       "\n",
       "    .dataframe thead th {\n",
       "        text-align: right;\n",
       "    }\n",
       "</style>\n",
       "<table border=\"1\" class=\"dataframe\">\n",
       "  <thead>\n",
       "    <tr style=\"text-align: right;\">\n",
       "      <th></th>\n",
       "      <th>listing_id</th>\n",
       "      <th>user_id</th>\n",
       "      <th>shop_id</th>\n",
       "      <th>title</th>\n",
       "      <th>description</th>\n",
       "      <th>shop_section_id</th>\n",
       "      <th>featured_rank</th>\n",
       "      <th>url</th>\n",
       "      <th>num_favorers</th>\n",
       "      <th>is_customizable</th>\n",
       "      <th>...</th>\n",
       "      <th>image_brightness</th>\n",
       "      <th>image_is_black_and_white</th>\n",
       "      <th>image_creation_tsz</th>\n",
       "      <th>image_rank</th>\n",
       "      <th>image_url_75x75</th>\n",
       "      <th>image_url_170x135</th>\n",
       "      <th>image_url_570xN</th>\n",
       "      <th>image_url_fullxfull</th>\n",
       "      <th>image_full_height</th>\n",
       "      <th>image_full_width</th>\n",
       "    </tr>\n",
       "  </thead>\n",
       "  <tbody>\n",
       "    <tr>\n",
       "      <th>4930</th>\n",
       "      <td>764408086</td>\n",
       "      <td>13034808</td>\n",
       "      <td>8946559</td>\n",
       "      <td>Granny Art Vintage Muted water scene on light ...</td>\n",
       "      <td>Vintage Muted seascape water scene on light oa...</td>\n",
       "      <td>17504291.0</td>\n",
       "      <td>-1</td>\n",
       "      <td>https://www.etsy.com/listing/764408086/granny-...</td>\n",
       "      <td>13</td>\n",
       "      <td>False</td>\n",
       "      <td>...</td>\n",
       "      <td>45.0</td>\n",
       "      <td>False</td>\n",
       "      <td>1581521804</td>\n",
       "      <td>1</td>\n",
       "      <td>https://i.etsystatic.com/8946559/r/il/3dd33f/2...</td>\n",
       "      <td>https://i.etsystatic.com/8946559/r/il/3dd33f/2...</td>\n",
       "      <td>https://i.etsystatic.com/8946559/r/il/3dd33f/2...</td>\n",
       "      <td>https://i.etsystatic.com/8946559/r/il/3dd33f/2...</td>\n",
       "      <td>1240</td>\n",
       "      <td>1360</td>\n",
       "    </tr>\n",
       "    <tr>\n",
       "      <th>8561</th>\n",
       "      <td>838240660</td>\n",
       "      <td>348464339</td>\n",
       "      <td>24594447</td>\n",
       "      <td>Jazz Saxophone Abstract 24x18 Original Oil Pai...</td>\n",
       "      <td>This unique original oil painting was inspired...</td>\n",
       "      <td>29940187.0</td>\n",
       "      <td>-1</td>\n",
       "      <td>https://www.etsy.com/listing/838240660/jazz-sa...</td>\n",
       "      <td>0</td>\n",
       "      <td>False</td>\n",
       "      <td>...</td>\n",
       "      <td>56.0</td>\n",
       "      <td>False</td>\n",
       "      <td>1615942394</td>\n",
       "      <td>1</td>\n",
       "      <td>https://i.etsystatic.com/24594447/r/il/e67e5e/...</td>\n",
       "      <td>https://i.etsystatic.com/24594447/r/il/e67e5e/...</td>\n",
       "      <td>https://i.etsystatic.com/24594447/r/il/e67e5e/...</td>\n",
       "      <td>https://i.etsystatic.com/24594447/r/il/e67e5e/...</td>\n",
       "      <td>1507</td>\n",
       "      <td>1500</td>\n",
       "    </tr>\n",
       "    <tr>\n",
       "      <th>3516</th>\n",
       "      <td>692697340</td>\n",
       "      <td>63771712</td>\n",
       "      <td>19532572</td>\n",
       "      <td>Yosemite Half Dome with Ariel the Airstream</td>\n",
       "      <td>Our Airstream parked in one of my favorite and...</td>\n",
       "      <td>NaN</td>\n",
       "      <td>0</td>\n",
       "      <td>https://www.etsy.com/listing/692697340/yosemit...</td>\n",
       "      <td>5</td>\n",
       "      <td>False</td>\n",
       "      <td>...</td>\n",
       "      <td>40.0</td>\n",
       "      <td>False</td>\n",
       "      <td>1586474349</td>\n",
       "      <td>1</td>\n",
       "      <td>https://i.etsystatic.com/19532572/r/il/c6d0e8/...</td>\n",
       "      <td>https://i.etsystatic.com/19532572/r/il/c6d0e8/...</td>\n",
       "      <td>https://i.etsystatic.com/19532572/r/il/c6d0e8/...</td>\n",
       "      <td>https://i.etsystatic.com/19532572/r/il/c6d0e8/...</td>\n",
       "      <td>3000</td>\n",
       "      <td>2250</td>\n",
       "    </tr>\n",
       "    <tr>\n",
       "      <th>5679</th>\n",
       "      <td>616076710</td>\n",
       "      <td>9358682</td>\n",
       "      <td>5817337</td>\n",
       "      <td>Lemon Painting, Original Oil Artwork, Still Li...</td>\n",
       "      <td>Original oil painting on a square 10 x 10 inch...</td>\n",
       "      <td>6861999.0</td>\n",
       "      <td>-1</td>\n",
       "      <td>https://www.etsy.com/listing/616076710/lemon-p...</td>\n",
       "      <td>35</td>\n",
       "      <td>False</td>\n",
       "      <td>...</td>\n",
       "      <td>60.0</td>\n",
       "      <td>False</td>\n",
       "      <td>1532024416</td>\n",
       "      <td>1</td>\n",
       "      <td>https://i.etsystatic.com/5817337/r/il/a3bb67/1...</td>\n",
       "      <td>https://i.etsystatic.com/5817337/r/il/a3bb67/1...</td>\n",
       "      <td>https://i.etsystatic.com/5817337/r/il/a3bb67/1...</td>\n",
       "      <td>https://i.etsystatic.com/5817337/r/il/a3bb67/1...</td>\n",
       "      <td>1000</td>\n",
       "      <td>1000</td>\n",
       "    </tr>\n",
       "    <tr>\n",
       "      <th>16632</th>\n",
       "      <td>658664886</td>\n",
       "      <td>59410411</td>\n",
       "      <td>10475229</td>\n",
       "      <td>Beyond In Love</td>\n",
       "      <td>Beyond In Love\\n\\nWatercolor, Gouache and Ink ...</td>\n",
       "      <td>23281398.0</td>\n",
       "      <td>-1</td>\n",
       "      <td>https://www.etsy.com/listing/658664886/beyond-...</td>\n",
       "      <td>7</td>\n",
       "      <td>True</td>\n",
       "      <td>...</td>\n",
       "      <td>53.0</td>\n",
       "      <td>False</td>\n",
       "      <td>1633897841</td>\n",
       "      <td>1</td>\n",
       "      <td>https://i.etsystatic.com/10475229/r/il/c2ce0b/...</td>\n",
       "      <td>https://i.etsystatic.com/10475229/r/il/c2ce0b/...</td>\n",
       "      <td>https://i.etsystatic.com/10475229/r/il/c2ce0b/...</td>\n",
       "      <td>https://i.etsystatic.com/10475229/r/il/c2ce0b/...</td>\n",
       "      <td>1814</td>\n",
       "      <td>2610</td>\n",
       "    </tr>\n",
       "  </tbody>\n",
       "</table>\n",
       "<p>5 rows × 47 columns</p>\n",
       "</div>"
      ],
      "text/plain": [
       "       listing_id    user_id   shop_id  \\\n",
       "4930    764408086   13034808   8946559   \n",
       "8561    838240660  348464339  24594447   \n",
       "3516    692697340   63771712  19532572   \n",
       "5679    616076710    9358682   5817337   \n",
       "16632   658664886   59410411  10475229   \n",
       "\n",
       "                                                   title  \\\n",
       "4930   Granny Art Vintage Muted water scene on light ...   \n",
       "8561   Jazz Saxophone Abstract 24x18 Original Oil Pai...   \n",
       "3516         Yosemite Half Dome with Ariel the Airstream   \n",
       "5679   Lemon Painting, Original Oil Artwork, Still Li...   \n",
       "16632                                     Beyond In Love   \n",
       "\n",
       "                                             description  shop_section_id  \\\n",
       "4930   Vintage Muted seascape water scene on light oa...       17504291.0   \n",
       "8561   This unique original oil painting was inspired...       29940187.0   \n",
       "3516   Our Airstream parked in one of my favorite and...              NaN   \n",
       "5679   Original oil painting on a square 10 x 10 inch...        6861999.0   \n",
       "16632  Beyond In Love\\n\\nWatercolor, Gouache and Ink ...       23281398.0   \n",
       "\n",
       "       featured_rank                                                url  \\\n",
       "4930              -1  https://www.etsy.com/listing/764408086/granny-...   \n",
       "8561              -1  https://www.etsy.com/listing/838240660/jazz-sa...   \n",
       "3516               0  https://www.etsy.com/listing/692697340/yosemit...   \n",
       "5679              -1  https://www.etsy.com/listing/616076710/lemon-p...   \n",
       "16632             -1  https://www.etsy.com/listing/658664886/beyond-...   \n",
       "\n",
       "       num_favorers  is_customizable  ... image_brightness  \\\n",
       "4930             13            False  ...             45.0   \n",
       "8561              0            False  ...             56.0   \n",
       "3516              5            False  ...             40.0   \n",
       "5679             35            False  ...             60.0   \n",
       "16632             7             True  ...             53.0   \n",
       "\n",
       "      image_is_black_and_white  image_creation_tsz image_rank  \\\n",
       "4930                     False          1581521804          1   \n",
       "8561                     False          1615942394          1   \n",
       "3516                     False          1586474349          1   \n",
       "5679                     False          1532024416          1   \n",
       "16632                    False          1633897841          1   \n",
       "\n",
       "                                         image_url_75x75  \\\n",
       "4930   https://i.etsystatic.com/8946559/r/il/3dd33f/2...   \n",
       "8561   https://i.etsystatic.com/24594447/r/il/e67e5e/...   \n",
       "3516   https://i.etsystatic.com/19532572/r/il/c6d0e8/...   \n",
       "5679   https://i.etsystatic.com/5817337/r/il/a3bb67/1...   \n",
       "16632  https://i.etsystatic.com/10475229/r/il/c2ce0b/...   \n",
       "\n",
       "                                       image_url_170x135  \\\n",
       "4930   https://i.etsystatic.com/8946559/r/il/3dd33f/2...   \n",
       "8561   https://i.etsystatic.com/24594447/r/il/e67e5e/...   \n",
       "3516   https://i.etsystatic.com/19532572/r/il/c6d0e8/...   \n",
       "5679   https://i.etsystatic.com/5817337/r/il/a3bb67/1...   \n",
       "16632  https://i.etsystatic.com/10475229/r/il/c2ce0b/...   \n",
       "\n",
       "                                         image_url_570xN  \\\n",
       "4930   https://i.etsystatic.com/8946559/r/il/3dd33f/2...   \n",
       "8561   https://i.etsystatic.com/24594447/r/il/e67e5e/...   \n",
       "3516   https://i.etsystatic.com/19532572/r/il/c6d0e8/...   \n",
       "5679   https://i.etsystatic.com/5817337/r/il/a3bb67/1...   \n",
       "16632  https://i.etsystatic.com/10475229/r/il/c2ce0b/...   \n",
       "\n",
       "                                     image_url_fullxfull  image_full_height  \\\n",
       "4930   https://i.etsystatic.com/8946559/r/il/3dd33f/2...               1240   \n",
       "8561   https://i.etsystatic.com/24594447/r/il/e67e5e/...               1507   \n",
       "3516   https://i.etsystatic.com/19532572/r/il/c6d0e8/...               3000   \n",
       "5679   https://i.etsystatic.com/5817337/r/il/a3bb67/1...               1000   \n",
       "16632  https://i.etsystatic.com/10475229/r/il/c2ce0b/...               1814   \n",
       "\n",
       "       image_full_width  \n",
       "4930               1360  \n",
       "8561               1500  \n",
       "3516               2250  \n",
       "5679               1000  \n",
       "16632              2610  \n",
       "\n",
       "[5 rows x 47 columns]"
      ]
     },
     "execution_count": 24,
     "metadata": {},
     "output_type": "execute_result"
    }
   ],
   "source": [
    "paintings_df_train.head()"
   ]
  },
  {
   "cell_type": "code",
   "execution_count": 26,
   "metadata": {},
   "outputs": [
    {
     "data": {
      "text/html": [
       "<div>\n",
       "<style scoped>\n",
       "    .dataframe tbody tr th:only-of-type {\n",
       "        vertical-align: middle;\n",
       "    }\n",
       "\n",
       "    .dataframe tbody tr th {\n",
       "        vertical-align: top;\n",
       "    }\n",
       "\n",
       "    .dataframe thead th {\n",
       "        text-align: right;\n",
       "    }\n",
       "</style>\n",
       "<table border=\"1\" class=\"dataframe\">\n",
       "  <thead>\n",
       "    <tr style=\"text-align: right;\">\n",
       "      <th></th>\n",
       "      <th>listing_id</th>\n",
       "      <th>user_id</th>\n",
       "      <th>shop_id</th>\n",
       "      <th>title</th>\n",
       "      <th>description</th>\n",
       "      <th>shop_section_id</th>\n",
       "      <th>featured_rank</th>\n",
       "      <th>url</th>\n",
       "      <th>num_favorers</th>\n",
       "      <th>is_customizable</th>\n",
       "      <th>...</th>\n",
       "      <th>image_brightness</th>\n",
       "      <th>image_is_black_and_white</th>\n",
       "      <th>image_creation_tsz</th>\n",
       "      <th>image_rank</th>\n",
       "      <th>image_url_75x75</th>\n",
       "      <th>image_url_170x135</th>\n",
       "      <th>image_url_570xN</th>\n",
       "      <th>image_url_fullxfull</th>\n",
       "      <th>image_full_height</th>\n",
       "      <th>image_full_width</th>\n",
       "    </tr>\n",
       "  </thead>\n",
       "  <tbody>\n",
       "    <tr>\n",
       "      <th>14269</th>\n",
       "      <td>1020376182</td>\n",
       "      <td>7171595</td>\n",
       "      <td>30323084</td>\n",
       "      <td>Moose Family</td>\n",
       "      <td>Springtime in Steamboat Springs, Colorado offe...</td>\n",
       "      <td>NaN</td>\n",
       "      <td>-1</td>\n",
       "      <td>https://www.etsy.com/listing/1020376182/moose-...</td>\n",
       "      <td>0</td>\n",
       "      <td>False</td>\n",
       "      <td>...</td>\n",
       "      <td>45.0</td>\n",
       "      <td>False</td>\n",
       "      <td>1628794732</td>\n",
       "      <td>1</td>\n",
       "      <td>https://i.etsystatic.com/30323084/c/1500/1192/...</td>\n",
       "      <td>https://i.etsystatic.com/30323084/c/1500/1192/...</td>\n",
       "      <td>https://i.etsystatic.com/30323084/r/il/83860f/...</td>\n",
       "      <td>https://i.etsystatic.com/30323084/r/il/83860f/...</td>\n",
       "      <td>2499</td>\n",
       "      <td>3000</td>\n",
       "    </tr>\n",
       "    <tr>\n",
       "      <th>16952</th>\n",
       "      <td>564549959</td>\n",
       "      <td>107586113</td>\n",
       "      <td>16213887</td>\n",
       "      <td>Acrylic painting- Mystery woman with red lips</td>\n",
       "      <td>Acrylic painting.\\n\\nDETAILS:\\n\\n* TITLE: &amp;quo...</td>\n",
       "      <td>NaN</td>\n",
       "      <td>-1</td>\n",
       "      <td>https://www.etsy.com/listing/564549959/acrylic...</td>\n",
       "      <td>1</td>\n",
       "      <td>False</td>\n",
       "      <td>...</td>\n",
       "      <td>49.0</td>\n",
       "      <td>False</td>\n",
       "      <td>1507916923</td>\n",
       "      <td>1</td>\n",
       "      <td>https://i.etsystatic.com/16213887/r/il/451e2c/...</td>\n",
       "      <td>https://i.etsystatic.com/16213887/r/il/451e2c/...</td>\n",
       "      <td>https://i.etsystatic.com/16213887/r/il/451e2c/...</td>\n",
       "      <td>https://i.etsystatic.com/16213887/r/il/451e2c/...</td>\n",
       "      <td>2250</td>\n",
       "      <td>3000</td>\n",
       "    </tr>\n",
       "    <tr>\n",
       "      <th>9759</th>\n",
       "      <td>1033593766</td>\n",
       "      <td>116323951</td>\n",
       "      <td>15411704</td>\n",
       "      <td>Early Mid Century California Plein Air Tide Po...</td>\n",
       "      <td>Frame 17 3/4 x 14 3/4&amp;quot;\\nMasonite : 11 x 1...</td>\n",
       "      <td>28276743.0</td>\n",
       "      <td>279</td>\n",
       "      <td>https://www.etsy.com/listing/1033593766/early-...</td>\n",
       "      <td>7</td>\n",
       "      <td>False</td>\n",
       "      <td>...</td>\n",
       "      <td>53.0</td>\n",
       "      <td>False</td>\n",
       "      <td>1625620520</td>\n",
       "      <td>1</td>\n",
       "      <td>https://i.etsystatic.com/15411704/r/il/eeeb02/...</td>\n",
       "      <td>https://i.etsystatic.com/15411704/r/il/eeeb02/...</td>\n",
       "      <td>https://i.etsystatic.com/15411704/r/il/eeeb02/...</td>\n",
       "      <td>https://i.etsystatic.com/15411704/r/il/eeeb02/...</td>\n",
       "      <td>2250</td>\n",
       "      <td>3000</td>\n",
       "    </tr>\n",
       "    <tr>\n",
       "      <th>620</th>\n",
       "      <td>685627441</td>\n",
       "      <td>116419745</td>\n",
       "      <td>15473440</td>\n",
       "      <td>Binary</td>\n",
       "      <td>This piece is titled, &amp;quot;Binary&amp;quot;. It i...</td>\n",
       "      <td>25715334.0</td>\n",
       "      <td>-1</td>\n",
       "      <td>https://www.etsy.com/listing/685627441/binary</td>\n",
       "      <td>3</td>\n",
       "      <td>False</td>\n",
       "      <td>...</td>\n",
       "      <td>43.0</td>\n",
       "      <td>False</td>\n",
       "      <td>1629945422</td>\n",
       "      <td>1</td>\n",
       "      <td>https://i.etsystatic.com/15473440/r/il/e5f21d/...</td>\n",
       "      <td>https://i.etsystatic.com/15473440/r/il/e5f21d/...</td>\n",
       "      <td>https://i.etsystatic.com/15473440/r/il/e5f21d/...</td>\n",
       "      <td>https://i.etsystatic.com/15473440/r/il/e5f21d/...</td>\n",
       "      <td>606</td>\n",
       "      <td>675</td>\n",
       "    </tr>\n",
       "    <tr>\n",
       "      <th>11395</th>\n",
       "      <td>953792299</td>\n",
       "      <td>20295098</td>\n",
       "      <td>8628312</td>\n",
       "      <td>Du Barry Fashion Studios (active 1940s to 1960s)</td>\n",
       "      <td>DU BARRY FASHION STUDIOS (active 1940s to 1960s)</td>\n",
       "      <td>NaN</td>\n",
       "      <td>-1</td>\n",
       "      <td>https://www.etsy.com/listing/953792299/du-barr...</td>\n",
       "      <td>0</td>\n",
       "      <td>False</td>\n",
       "      <td>...</td>\n",
       "      <td>58.0</td>\n",
       "      <td>False</td>\n",
       "      <td>1612122913</td>\n",
       "      <td>1</td>\n",
       "      <td>https://i.etsystatic.com/8628312/r/il/f16236/2...</td>\n",
       "      <td>https://i.etsystatic.com/8628312/r/il/f16236/2...</td>\n",
       "      <td>https://i.etsystatic.com/8628312/r/il/f16236/2...</td>\n",
       "      <td>https://i.etsystatic.com/8628312/r/il/f16236/2...</td>\n",
       "      <td>2992</td>\n",
       "      <td>2244</td>\n",
       "    </tr>\n",
       "  </tbody>\n",
       "</table>\n",
       "<p>5 rows × 47 columns</p>\n",
       "</div>"
      ],
      "text/plain": [
       "       listing_id    user_id   shop_id  \\\n",
       "14269  1020376182    7171595  30323084   \n",
       "16952   564549959  107586113  16213887   \n",
       "9759   1033593766  116323951  15411704   \n",
       "620     685627441  116419745  15473440   \n",
       "11395   953792299   20295098   8628312   \n",
       "\n",
       "                                                   title  \\\n",
       "14269                                       Moose Family   \n",
       "16952      Acrylic painting- Mystery woman with red lips   \n",
       "9759   Early Mid Century California Plein Air Tide Po...   \n",
       "620                                               Binary   \n",
       "11395   Du Barry Fashion Studios (active 1940s to 1960s)   \n",
       "\n",
       "                                             description  shop_section_id  \\\n",
       "14269  Springtime in Steamboat Springs, Colorado offe...              NaN   \n",
       "16952  Acrylic painting.\\n\\nDETAILS:\\n\\n* TITLE: &quo...              NaN   \n",
       "9759   Frame 17 3/4 x 14 3/4&quot;\\nMasonite : 11 x 1...       28276743.0   \n",
       "620    This piece is titled, &quot;Binary&quot;. It i...       25715334.0   \n",
       "11395   DU BARRY FASHION STUDIOS (active 1940s to 1960s)              NaN   \n",
       "\n",
       "       featured_rank                                                url  \\\n",
       "14269             -1  https://www.etsy.com/listing/1020376182/moose-...   \n",
       "16952             -1  https://www.etsy.com/listing/564549959/acrylic...   \n",
       "9759             279  https://www.etsy.com/listing/1033593766/early-...   \n",
       "620               -1      https://www.etsy.com/listing/685627441/binary   \n",
       "11395             -1  https://www.etsy.com/listing/953792299/du-barr...   \n",
       "\n",
       "       num_favorers  is_customizable  ... image_brightness  \\\n",
       "14269             0            False  ...             45.0   \n",
       "16952             1            False  ...             49.0   \n",
       "9759              7            False  ...             53.0   \n",
       "620               3            False  ...             43.0   \n",
       "11395             0            False  ...             58.0   \n",
       "\n",
       "      image_is_black_and_white  image_creation_tsz image_rank  \\\n",
       "14269                    False          1628794732          1   \n",
       "16952                    False          1507916923          1   \n",
       "9759                     False          1625620520          1   \n",
       "620                      False          1629945422          1   \n",
       "11395                    False          1612122913          1   \n",
       "\n",
       "                                         image_url_75x75  \\\n",
       "14269  https://i.etsystatic.com/30323084/c/1500/1192/...   \n",
       "16952  https://i.etsystatic.com/16213887/r/il/451e2c/...   \n",
       "9759   https://i.etsystatic.com/15411704/r/il/eeeb02/...   \n",
       "620    https://i.etsystatic.com/15473440/r/il/e5f21d/...   \n",
       "11395  https://i.etsystatic.com/8628312/r/il/f16236/2...   \n",
       "\n",
       "                                       image_url_170x135  \\\n",
       "14269  https://i.etsystatic.com/30323084/c/1500/1192/...   \n",
       "16952  https://i.etsystatic.com/16213887/r/il/451e2c/...   \n",
       "9759   https://i.etsystatic.com/15411704/r/il/eeeb02/...   \n",
       "620    https://i.etsystatic.com/15473440/r/il/e5f21d/...   \n",
       "11395  https://i.etsystatic.com/8628312/r/il/f16236/2...   \n",
       "\n",
       "                                         image_url_570xN  \\\n",
       "14269  https://i.etsystatic.com/30323084/r/il/83860f/...   \n",
       "16952  https://i.etsystatic.com/16213887/r/il/451e2c/...   \n",
       "9759   https://i.etsystatic.com/15411704/r/il/eeeb02/...   \n",
       "620    https://i.etsystatic.com/15473440/r/il/e5f21d/...   \n",
       "11395  https://i.etsystatic.com/8628312/r/il/f16236/2...   \n",
       "\n",
       "                                     image_url_fullxfull  image_full_height  \\\n",
       "14269  https://i.etsystatic.com/30323084/r/il/83860f/...               2499   \n",
       "16952  https://i.etsystatic.com/16213887/r/il/451e2c/...               2250   \n",
       "9759   https://i.etsystatic.com/15411704/r/il/eeeb02/...               2250   \n",
       "620    https://i.etsystatic.com/15473440/r/il/e5f21d/...                606   \n",
       "11395  https://i.etsystatic.com/8628312/r/il/f16236/2...               2992   \n",
       "\n",
       "       image_full_width  \n",
       "14269              3000  \n",
       "16952              3000  \n",
       "9759               3000  \n",
       "620                 675  \n",
       "11395              2244  \n",
       "\n",
       "[5 rows x 47 columns]"
      ]
     },
     "execution_count": 26,
     "metadata": {},
     "output_type": "execute_result"
    }
   ],
   "source": [
    "paintings_df_test.head()"
   ]
  },
  {
   "cell_type": "code",
   "execution_count": 27,
   "metadata": {},
   "outputs": [
    {
     "data": {
      "text/plain": [
       "Int64Index([14269, 16952, 9759, 620, 11395], dtype='int64')"
      ]
     },
     "execution_count": 27,
     "metadata": {},
     "output_type": "execute_result"
    }
   ],
   "source": [
    "paintings_df_test.index[:5]"
   ]
  },
  {
   "cell_type": "code",
   "execution_count": 28,
   "metadata": {},
   "outputs": [
    {
     "data": {
      "text/plain": [
       "acrylic          1698\n",
       "oil              1479\n",
       "watercolor        447\n",
       "more_than_one     268\n",
       "Name: painting_type, dtype: int64"
      ]
     },
     "execution_count": 28,
     "metadata": {},
     "output_type": "execute_result"
    }
   ],
   "source": [
    "#Make sure the test set has all 4 painting types represented\n",
    "paintings_df_test['painting_type'].value_counts()"
   ]
  },
  {
   "cell_type": "code",
   "execution_count": 30,
   "metadata": {},
   "outputs": [
    {
     "data": {
      "text/plain": [
       "acrylic          6747\n",
       "oil              6014\n",
       "watercolor       1674\n",
       "more_than_one    1132\n",
       "Name: painting_type, dtype: int64"
      ]
     },
     "execution_count": 30,
     "metadata": {},
     "output_type": "execute_result"
    }
   ],
   "source": [
    "paintings_df_train['painting_type'].value_counts()"
   ]
  },
  {
   "cell_type": "code",
   "execution_count": 44,
   "metadata": {},
   "outputs": [
    {
     "data": {
      "text/plain": [
       "<matplotlib.legend.Legend at 0x228c4e2d2e0>"
      ]
     },
     "execution_count": 44,
     "metadata": {},
     "output_type": "execute_result"
    },
    {
     "data": {
      "image/png": "[encoded data removed]",
      "text/plain": [
       "<Figure size 864x360 with 1 Axes>"
      ]
     },
     "metadata": {
      "needs_background": "light"
     },
     "output_type": "display_data"
    }
   ],
   "source": [
    "#check that the price distribution is also consistent:\n",
    "plt.figure(figsize=(12,5))\n",
    "sns.histplot(data=paintings_df_train,x='price',stat='probability',bins=20,color='blue')\n",
    "sns.histplot(data=paintings_df_test,x='price',stat='probability',bins=20,color='orange')\n",
    "#paintings_df_train['price'].plot(kind='hist')\n",
    "#paintings_df_test['price'].plot(kind='hist')\n",
    "plt.legend(['price - train','price - test'])"
   ]
  },
  {
   "cell_type": "code",
   "execution_count": 45,
   "metadata": {},
   "outputs": [],
   "source": [
    "#I need to also rearrange the 'prices' numpy array, so that I can later trace back the corresponding rows in the dataframe\n",
    "prices_train = prices[paintings_df_train.index]\n",
    "prices_test = prices[paintings_df_test.index]"
   ]
  },
  {
   "cell_type": "code",
   "execution_count": 47,
   "metadata": {},
   "outputs": [
    {
     "data": {
      "text/plain": [
       "15567"
      ]
     },
     "execution_count": 47,
     "metadata": {},
     "output_type": "execute_result"
    }
   ],
   "source": [
    "len(prices_train)"
   ]
  },
  {
   "cell_type": "code",
   "execution_count": 48,
   "metadata": {},
   "outputs": [
    {
     "data": {
      "text/plain": [
       "array([295., 350., 275., 300., 525.])"
      ]
     },
     "execution_count": 48,
     "metadata": {},
     "output_type": "execute_result"
    }
   ],
   "source": [
    "#sanity check\n",
    "prices_train[:5]"
   ]
  },
  {
   "cell_type": "code",
   "execution_count": 49,
   "metadata": {},
   "outputs": [
    {
     "data": {
      "text/plain": [
       "4930     295.0\n",
       "8561     350.0\n",
       "3516     275.0\n",
       "5679     300.0\n",
       "16632    525.0\n",
       "Name: price, dtype: float64"
      ]
     },
     "execution_count": 49,
     "metadata": {},
     "output_type": "execute_result"
    }
   ],
   "source": [
    "paintings_df_train['price'].iloc[:5]"
   ]
  },
  {
   "cell_type": "code",
   "execution_count": 52,
   "metadata": {},
   "outputs": [
    {
     "data": {
      "text/plain": [
       "array([295.  , 399.99, 450.  , 275.  , 500.  ])"
      ]
     },
     "execution_count": 52,
     "metadata": {},
     "output_type": "execute_result"
    }
   ],
   "source": [
    "#sanity check\n",
    "prices_test[-5:]"
   ]
  },
  {
   "cell_type": "code",
   "execution_count": 53,
   "metadata": {},
   "outputs": [
    {
     "data": {
      "text/plain": [
       "5056     295.00\n",
       "10907    399.99\n",
       "13123    450.00\n",
       "3946     275.00\n",
       "15285    500.00\n",
       "Name: price, dtype: float64"
      ]
     },
     "execution_count": 53,
     "metadata": {},
     "output_type": "execute_result"
    }
   ],
   "source": [
    "paintings_df_test['price'].iloc[-5:]"
   ]
  },
  {
   "cell_type": "markdown",
   "metadata": {},
   "source": [
    "### Feature types"
   ]
  },
  {
   "cell_type": "code",
   "execution_count": 91,
   "metadata": {},
   "outputs": [],
   "source": [
    "#Let's divide the columns (features) into different groups, as I will test different models with different combinations of features\n",
    "numerical_columns = ['num_favorers','featured_rank','max_dimension','aspect_ratio','area','weight','days_from_original_creation','days_from_last_modification'] \n",
    "\n",
    "categorical_columns = ['painting_type','when_made','made_by_seller','is_customizable','has_variations']\n",
    "\n",
    "text_columns = ['style_tags_new','tags','materials']\n",
    "\n",
    "image_columns = ['image_red','image_green','image_blue','image_hue','image_saturation','image_brightness']\n"
   ]
  },
  {
   "cell_type": "markdown",
   "metadata": {},
   "source": [
    "### Baseline results picking the mean price of the paintings in the training set as my predictions"
   ]
  },
  {
   "cell_type": "code",
   "execution_count": 102,
   "metadata": {},
   "outputs": [],
   "source": [
    "trivial_price_pred_train = np.ones(len(prices_train)) * np.mean(prices_train)"
   ]
  },
  {
   "cell_type": "code",
   "execution_count": 103,
   "metadata": {},
   "outputs": [],
   "source": [
    "trivial_price_pred_test = np.ones(len(prices_test)) * np.mean(prices_train)"
   ]
  },
  {
   "cell_type": "code",
   "execution_count": 124,
   "metadata": {},
   "outputs": [
    {
     "name": "stdout",
     "output_type": "stream",
     "text": [
      "Trivial model using the mean price of the training set paintings:\n",
      "Training R^2: 0.0\n",
      "Testing R^2: -0.0011129435654106956\n",
      "Training RMSE: USD 115.65203927194021\n",
      "Testing RMSE: USD 115.5684146996469\n",
      "Training MAE: USD 98.77566847195826\n",
      "Testing MAE: USD 98.81188688275215\n"
     ]
    }
   ],
   "source": [
    "from sklearn import metrics\n",
    "\n",
    "def print_all_scores_train_test(y_train,y_train_pred,y_test,y_test_pred,model_name='Results'):\n",
    "    print(model_name+':')\n",
    "    print(\"Training R^2:\", metrics.r2_score(y_train, y_train_pred))\n",
    "    print(\"Testing R^2:\", metrics.r2_score(y_test, y_test_pred))\n",
    "    print(\"Training RMSE: USD\", np.sqrt(metrics.mean_squared_error(y_train, y_train_pred)))\n",
    "    print(\"Testing RMSE: USD\", np.sqrt(metrics.mean_squared_error(y_test, y_test_pred)))\n",
    "    print(\"Training MAE: USD\", metrics.mean_absolute_error(y_train, y_train_pred))\n",
    "    print(\"Testing MAE: USD\", metrics.mean_absolute_error(y_test, y_test_pred))\n",
    "\n",
    "print_all_scores_train_test(prices_train,trivial_price_pred_train,prices_test,trivial_price_pred_test,model_name='Trivial model using the mean price of the training set paintings')"
   ]
  },
  {
   "cell_type": "code",
   "execution_count": null,
   "metadata": {},
   "outputs": [],
   "source": []
  },
  {
   "cell_type": "code",
   "execution_count": null,
   "metadata": {},
   "outputs": [],
   "source": []
  },
  {
   "cell_type": "markdown",
   "metadata": {
    "slideshow": null
   },
   "source": [
    "## 1) Models using only numerical features"
   ]
  },
  {
   "cell_type": "markdown",
   "metadata": {
    "slideshow": null
   },
   "source": [
    "To select only the numerical features, I use scikit-learn's [`ColumnTransformer`](https://scikit-learn.org/stable/modules/generated/sklearn.compose.ColumnTransformer.html), which works with Pandas data frames (or alternatively with NumPy arrays)."
   ]
  },
  {
   "cell_type": "markdown",
   "metadata": {},
   "source": [
    "I will scale each of the numerical variables using a StandardScaler so they are all comparable to each other"
   ]
  },
  {
   "cell_type": "code",
   "execution_count": 65,
   "metadata": {
    "slideshow": null
   },
   "outputs": [],
   "source": [
    "from sklearn.compose import ColumnTransformer\n",
    "from sklearn.preprocessing import StandardScaler #, MinMaxScaler\n",
    "\n",
    "#I could select and scale at the same time:\n",
    "numerical_scaler_selector = ColumnTransformer([\n",
    "    ('numerical scaled (std)', StandardScaler(), numerical_columns),\n",
    "], remainder='drop')"
   ]
  },
  {
   "cell_type": "code",
   "execution_count": 66,
   "metadata": {},
   "outputs": [],
   "source": [
    "#Let's test it out - note that it returns a numpy array, with mean equal to zero :\n",
    "test = numerical_scaler_selector.fit_transform(paintings_with_style_tags_and_image_info_df)"
   ]
  },
  {
   "cell_type": "code",
   "execution_count": 67,
   "metadata": {},
   "outputs": [
    {
     "data": {
      "text/plain": [
       "array([ 0.58513566, -0.10930993,  0.41210228, -0.35295979,  0.89841081,\n",
       "        0.27424499,  5.09195353,  0.0992361 ])"
      ]
     },
     "execution_count": 67,
     "metadata": {},
     "output_type": "execute_result"
    }
   ],
   "source": [
    "test[0]"
   ]
  },
  {
   "cell_type": "code",
   "execution_count": 68,
   "metadata": {},
   "outputs": [
    {
     "data": {
      "text/plain": [
       "array([-9.49386460e-18, -1.46059455e-18, -3.62227449e-16,  1.33279253e-17,\n",
       "        1.16847564e-16, -7.59509168e-17,  1.82574319e-17,  3.89978746e-16])"
      ]
     },
     "execution_count": 68,
     "metadata": {},
     "output_type": "execute_result"
    }
   ],
   "source": [
    "np.mean(test,axis=0)"
   ]
  },
  {
   "cell_type": "code",
   "execution_count": 69,
   "metadata": {},
   "outputs": [
    {
     "data": {
      "text/plain": [
       "array([1., 1., 1., 1., 1., 1., 1., 1.])"
      ]
     },
     "execution_count": 69,
     "metadata": {},
     "output_type": "execute_result"
    }
   ],
   "source": [
    "np.std(test,axis=0)"
   ]
  },
  {
   "cell_type": "code",
   "execution_count": 70,
   "metadata": {},
   "outputs": [],
   "source": [
    "#But it's probably cleaner to keep the selector and the scaling separately, e.g. \n",
    "numerical_selector = ColumnTransformer([\n",
    "    ('numerical', 'passthrough', numerical_columns),\n",
    "], remainder='drop')"
   ]
  },
  {
   "cell_type": "code",
   "execution_count": 71,
   "metadata": {},
   "outputs": [],
   "source": [
    "#and then do the scaling of part of a Pipeline, e.g.\n",
    "from sklearn.pipeline import Pipeline\n",
    "\n",
    "numerical_preproc_pipe = Pipeline([\n",
    "    ('numerical selector', numerical_selector),\n",
    "    ('standard scaling', StandardScaler()),\n",
    "])"
   ]
  },
  {
   "cell_type": "code",
   "execution_count": 72,
   "metadata": {},
   "outputs": [],
   "source": [
    "#Let's check that I get the same results as before:\n",
    "test2 = numerical_preproc_pipe.fit_transform(paintings_with_style_tags_and_image_info_df)"
   ]
  },
  {
   "cell_type": "code",
   "execution_count": 73,
   "metadata": {},
   "outputs": [
    {
     "data": {
      "text/plain": [
       "array([ 0.58513566, -0.10930993,  0.41210228, -0.35295979,  0.89841081,\n",
       "        0.27424499,  5.09195353,  0.0992361 ])"
      ]
     },
     "execution_count": 73,
     "metadata": {},
     "output_type": "execute_result"
    }
   ],
   "source": [
    "test2[0]"
   ]
  },
  {
   "cell_type": "markdown",
   "metadata": {},
   "source": [
    "### Model 1a) Linear regression using only numerical features"
   ]
  },
  {
   "cell_type": "code",
   "execution_count": 74,
   "metadata": {},
   "outputs": [],
   "source": [
    "#This is a good start since it has no parameters to fit, and the solution should be really fast to compute (no cross-validation, etc.)\n",
    "from sklearn.linear_model import LinearRegression\n",
    "\n",
    "numerical_linreg_pipe = Pipeline([('numerical preproc', numerical_preproc_pipe),\n",
    "                      ('linear reg', LinearRegression())])"
   ]
  },
  {
   "cell_type": "code",
   "execution_count": 75,
   "metadata": {},
   "outputs": [
    {
     "data": {
      "text/html": [
       "<style>div.sk-top-container {color: black;background-color: white;}div.sk-toggleable {background-color: white;}label.sk-toggleable__label {cursor: pointer;display: block;width: 100%;margin-bottom: 0;padding: 0.2em 0.3em;box-sizing: border-box;text-align: center;}div.sk-toggleable__content {max-height: 0;max-width: 0;overflow: hidden;text-align: left;background-color: #f0f8ff;}div.sk-toggleable__content pre {margin: 0.2em;color: black;border-radius: 0.25em;background-color: #f0f8ff;}input.sk-toggleable__control:checked~div.sk-toggleable__content {max-height: 200px;max-width: 100%;overflow: auto;}div.sk-estimator input.sk-toggleable__control:checked~label.sk-toggleable__label {background-color: #d4ebff;}div.sk-label input.sk-toggleable__control:checked~label.sk-toggleable__label {background-color: #d4ebff;}input.sk-hidden--visually {border: 0;clip: rect(1px 1px 1px 1px);clip: rect(1px, 1px, 1px, 1px);height: 1px;margin: -1px;overflow: hidden;padding: 0;position: absolute;width: 1px;}div.sk-estimator {font-family: monospace;background-color: #f0f8ff;margin: 0.25em 0.25em;border: 1px dotted black;border-radius: 0.25em;box-sizing: border-box;}div.sk-estimator:hover {background-color: #d4ebff;}div.sk-parallel-item::after {content: \"\";width: 100%;border-bottom: 1px solid gray;flex-grow: 1;}div.sk-label:hover label.sk-toggleable__label {background-color: #d4ebff;}div.sk-serial::before {content: \"\";position: absolute;border-left: 1px solid gray;box-sizing: border-box;top: 2em;bottom: 0;left: 50%;}div.sk-serial {display: flex;flex-direction: column;align-items: center;background-color: white;}div.sk-item {z-index: 1;}div.sk-parallel {display: flex;align-items: stretch;justify-content: center;background-color: white;}div.sk-parallel-item {display: flex;flex-direction: column;position: relative;background-color: white;}div.sk-parallel-item:first-child::after {align-self: flex-end;width: 50%;}div.sk-parallel-item:last-child::after {align-self: flex-start;width: 50%;}div.sk-parallel-item:only-child::after {width: 0;}div.sk-dashed-wrapped {border: 1px dashed gray;margin: 0.2em;box-sizing: border-box;padding-bottom: 0.1em;background-color: white;position: relative;}div.sk-label label {font-family: monospace;font-weight: bold;background-color: white;display: inline-block;line-height: 1.2em;}div.sk-label-container {position: relative;z-index: 2;text-align: center;}div.sk-container {display: inline-block;position: relative;}</style><div class=\"sk-top-container\"><div class=\"sk-container\"><div class=\"sk-item sk-dashed-wrapped\"><div class=\"sk-label-container\"><div class=\"sk-label sk-toggleable\"><input class=\"sk-toggleable__control sk-hidden--visually\" id=\"efb5b975-b029-4334-a384-bcc56b3d9789\" type=\"checkbox\" ><label class=\"sk-toggleable__label\" for=\"efb5b975-b029-4334-a384-bcc56b3d9789\">Pipeline</label><div class=\"sk-toggleable__content\"><pre>Pipeline(steps=[('numerical preproc',\n",
       "                 Pipeline(steps=[('numerical selector',\n",
       "                                  ColumnTransformer(transformers=[('numerical',\n",
       "                                                                   'passthrough',\n",
       "                                                                   ['num_favorers',\n",
       "                                                                    'featured_rank',\n",
       "                                                                    'max_dimension',\n",
       "                                                                    'aspect_ratio',\n",
       "                                                                    'area',\n",
       "                                                                    'weight',\n",
       "                                                                    'days_from_original_creation',\n",
       "                                                                    'days_from_last_modification'])])),\n",
       "                                 ('standard scaling', StandardScaler())])),\n",
       "                ('linear reg', LinearRegression())])</pre></div></div></div><div class=\"sk-serial\"><div class=\"sk-item\"><div class=\"sk-label-container\"><div class=\"sk-label sk-toggleable\"><input class=\"sk-toggleable__control sk-hidden--visually\" id=\"631f4100-f589-40a7-9732-dd9501e7728c\" type=\"checkbox\" ><label class=\"sk-toggleable__label\" for=\"631f4100-f589-40a7-9732-dd9501e7728c\">numerical preproc: Pipeline</label><div class=\"sk-toggleable__content\"><pre>Pipeline(steps=[('numerical selector',\n",
       "                 ColumnTransformer(transformers=[('numerical', 'passthrough',\n",
       "                                                  ['num_favorers',\n",
       "                                                   'featured_rank',\n",
       "                                                   'max_dimension',\n",
       "                                                   'aspect_ratio', 'area',\n",
       "                                                   'weight',\n",
       "                                                   'days_from_original_creation',\n",
       "                                                   'days_from_last_modification'])])),\n",
       "                ('standard scaling', StandardScaler())])</pre></div></div></div><div class=\"sk-serial\"><div class=\"sk-item sk-dashed-wrapped\"><div class=\"sk-label-container\"><div class=\"sk-label sk-toggleable\"><input class=\"sk-toggleable__control sk-hidden--visually\" id=\"034d4afc-1f43-4b0a-8155-3bc7b29e45d4\" type=\"checkbox\" ><label class=\"sk-toggleable__label\" for=\"034d4afc-1f43-4b0a-8155-3bc7b29e45d4\">numerical selector: ColumnTransformer</label><div class=\"sk-toggleable__content\"><pre>ColumnTransformer(transformers=[('numerical', 'passthrough',\n",
       "                                 ['num_favorers', 'featured_rank',\n",
       "                                  'max_dimension', 'aspect_ratio', 'area',\n",
       "                                  'weight', 'days_from_original_creation',\n",
       "                                  'days_from_last_modification'])])</pre></div></div></div><div class=\"sk-parallel\"><div class=\"sk-parallel-item\"><div class=\"sk-item\"><div class=\"sk-label-container\"><div class=\"sk-label sk-toggleable\"><input class=\"sk-toggleable__control sk-hidden--visually\" id=\"5bca1ebf-9275-4689-a752-809c2c08c876\" type=\"checkbox\" ><label class=\"sk-toggleable__label\" for=\"5bca1ebf-9275-4689-a752-809c2c08c876\">numerical</label><div class=\"sk-toggleable__content\"><pre>['num_favorers', 'featured_rank', 'max_dimension', 'aspect_ratio', 'area', 'weight', 'days_from_original_creation', 'days_from_last_modification']</pre></div></div></div><div class=\"sk-serial\"><div class=\"sk-item\"><div class=\"sk-estimator sk-toggleable\"><input class=\"sk-toggleable__control sk-hidden--visually\" id=\"ee037eab-617e-4ba5-bf3d-7167cd09e371\" type=\"checkbox\" ><label class=\"sk-toggleable__label\" for=\"ee037eab-617e-4ba5-bf3d-7167cd09e371\">passthrough</label><div class=\"sk-toggleable__content\"><pre>passthrough</pre></div></div></div></div></div></div></div></div><div class=\"sk-item\"><div class=\"sk-estimator sk-toggleable\"><input class=\"sk-toggleable__control sk-hidden--visually\" id=\"316c9235-e79d-45ec-8582-f426376abe75\" type=\"checkbox\" ><label class=\"sk-toggleable__label\" for=\"316c9235-e79d-45ec-8582-f426376abe75\">StandardScaler</label><div class=\"sk-toggleable__content\"><pre>StandardScaler()</pre></div></div></div></div></div><div class=\"sk-item\"><div class=\"sk-estimator sk-toggleable\"><input class=\"sk-toggleable__control sk-hidden--visually\" id=\"8574e0c5-c18a-4e21-82c2-5bfc7691a945\" type=\"checkbox\" ><label class=\"sk-toggleable__label\" for=\"8574e0c5-c18a-4e21-82c2-5bfc7691a945\">LinearRegression</label><div class=\"sk-toggleable__content\"><pre>LinearRegression()</pre></div></div></div></div></div></div></div>"
      ],
      "text/plain": [
       "Pipeline(steps=[('numerical preproc',\n",
       "                 Pipeline(steps=[('numerical selector',\n",
       "                                  ColumnTransformer(transformers=[('numerical',\n",
       "                                                                   'passthrough',\n",
       "                                                                   ['num_favorers',\n",
       "                                                                    'featured_rank',\n",
       "                                                                    'max_dimension',\n",
       "                                                                    'aspect_ratio',\n",
       "                                                                    'area',\n",
       "                                                                    'weight',\n",
       "                                                                    'days_from_original_creation',\n",
       "                                                                    'days_from_last_modification'])])),\n",
       "                                 ('standard scaling', StandardScaler())])),\n",
       "                ('linear reg', LinearRegression())])"
      ]
     },
     "execution_count": 75,
     "metadata": {},
     "output_type": "execute_result"
    }
   ],
   "source": [
    "#Let's visualize this pipeline:\n",
    "from sklearn import set_config\n",
    "set_config(display='diagram')\n",
    "\n",
    "numerical_linreg_pipe"
   ]
  },
  {
   "cell_type": "code",
   "execution_count": 126,
   "metadata": {},
   "outputs": [],
   "source": [
    "#Train the model\n",
    "numerical_linreg_pipe.fit(paintings_df_train,prices_train);"
   ]
  },
  {
   "cell_type": "code",
   "execution_count": 127,
   "metadata": {},
   "outputs": [],
   "source": [
    "#Predict prices on training set:\n",
    "prices_train_pred = numerical_linreg_pipe.predict(paintings_df_train)"
   ]
  },
  {
   "cell_type": "code",
   "execution_count": 128,
   "metadata": {},
   "outputs": [
    {
     "data": {
      "text/plain": [
       "0.06578759944869916"
      ]
     },
     "execution_count": 128,
     "metadata": {},
     "output_type": "execute_result"
    }
   ],
   "source": [
    "#And return the R2 score as follows:\n",
    "numerical_linreg_pipe.score(paintings_df_train,prices_train)"
   ]
  },
  {
   "cell_type": "code",
   "execution_count": 129,
   "metadata": {},
   "outputs": [],
   "source": [
    "#Predict prices on test set:\n",
    "prices_test_pred = numerical_linreg_pipe.predict(paintings_df_test)"
   ]
  },
  {
   "cell_type": "code",
   "execution_count": 130,
   "metadata": {},
   "outputs": [
    {
     "data": {
      "text/plain": [
       "0.0788971295497991"
      ]
     },
     "execution_count": 130,
     "metadata": {},
     "output_type": "execute_result"
    }
   ],
   "source": [
    "#And return the R2 score as follows:\n",
    "numerical_linreg_pipe.score(paintings_df_test,prices_test)"
   ]
  },
  {
   "cell_type": "code",
   "execution_count": 131,
   "metadata": {},
   "outputs": [
    {
     "name": "stdout",
     "output_type": "stream",
     "text": [
      "Linear regression model using only numerical features:\n",
      "Training R^2: 0.06578759944869916\n",
      "Testing R^2: 0.0788971295497991\n",
      "Training RMSE: USD 111.78308956396623\n",
      "Testing RMSE: USD 110.85408089777948\n",
      "Training MAE: USD 94.86939480487499\n",
      "Testing MAE: USD 94.18784831024173\n"
     ]
    }
   ],
   "source": [
    "#Print results, using the function defined earlier:\n",
    "\n",
    "print_all_scores_train_test(prices_train,prices_train_pred,prices_test,prices_test_pred,model_name='Linear regression model using only numerical features')\n",
    "\n",
    "#Note that I am not overfitting the training data, since the model actually does better on test data"
   ]
  },
  {
   "cell_type": "code",
   "execution_count": 107,
   "metadata": {},
   "outputs": [
    {
     "data": {
      "text/plain": [
       "Text(0, 0.5, 'predicted prices (test)')"
      ]
     },
     "execution_count": 107,
     "metadata": {},
     "output_type": "execute_result"
    },
    {
     "data": {
      "image/png": "[encoded data removed]",
      "text/plain": [
       "<Figure size 432x288 with 1 Axes>"
      ]
     },
     "metadata": {
      "needs_background": "light"
     },
     "output_type": "display_data"
    }
   ],
   "source": [
    "plt.scatter(prices_test,prices_test_pred)\n",
    "plt.xlabel('actual prices (test)')\n",
    "plt.ylabel('predicted prices (test)')"
   ]
  },
  {
   "cell_type": "code",
   "execution_count": 108,
   "metadata": {},
   "outputs": [
    {
     "name": "stderr",
     "output_type": "stream",
     "text": [
      "C:\\Users\\matte\\anaconda3\\lib\\site-packages\\seaborn\\distributions.py:2551: FutureWarning: `distplot` is a deprecated function and will be removed in a future version. Please adapt your code to use either `displot` (a figure-level function with similar flexibility) or `histplot` (an axes-level function for histograms).\n",
      "  warnings.warn(msg, FutureWarning)\n"
     ]
    },
    {
     "data": {
      "image/png": "[encoded data removed]",
      "text/plain": [
       "<Figure size 432x288 with 1 Axes>"
      ]
     },
     "metadata": {
      "needs_background": "light"
     },
     "output_type": "display_data"
    }
   ],
   "source": [
    "#Plot residuals:\n",
    "sns.distplot((prices_test-prices_test_pred),bins=50);"
   ]
  },
  {
   "cell_type": "code",
   "execution_count": 114,
   "metadata": {},
   "outputs": [
    {
     "name": "stdout",
     "output_type": "stream",
     "text": [
      "394.353173379585\n"
     ]
    }
   ],
   "source": [
    "#Let's look at the coefficients of the model\n",
    "# intercept\n",
    "print(numerical_linreg_pipe['linear reg'].intercept_)"
   ]
  },
  {
   "cell_type": "code",
   "execution_count": 115,
   "metadata": {},
   "outputs": [
    {
     "data": {
      "text/html": [
       "<div>\n",
       "<style scoped>\n",
       "    .dataframe tbody tr th:only-of-type {\n",
       "        vertical-align: middle;\n",
       "    }\n",
       "\n",
       "    .dataframe tbody tr th {\n",
       "        vertical-align: top;\n",
       "    }\n",
       "\n",
       "    .dataframe thead th {\n",
       "        text-align: right;\n",
       "    }\n",
       "</style>\n",
       "<table border=\"1\" class=\"dataframe\">\n",
       "  <thead>\n",
       "    <tr style=\"text-align: right;\">\n",
       "      <th></th>\n",
       "      <th>Lin Reg Coeff</th>\n",
       "    </tr>\n",
       "  </thead>\n",
       "  <tbody>\n",
       "    <tr>\n",
       "      <th>num_favorers</th>\n",
       "      <td>1.554021</td>\n",
       "    </tr>\n",
       "    <tr>\n",
       "      <th>featured_rank</th>\n",
       "      <td>2.069825</td>\n",
       "    </tr>\n",
       "    <tr>\n",
       "      <th>max_dimension</th>\n",
       "      <td>0.122143</td>\n",
       "    </tr>\n",
       "    <tr>\n",
       "      <th>aspect_ratio</th>\n",
       "      <td>12.318451</td>\n",
       "    </tr>\n",
       "    <tr>\n",
       "      <th>area</th>\n",
       "      <td>23.225107</td>\n",
       "    </tr>\n",
       "    <tr>\n",
       "      <th>weight</th>\n",
       "      <td>8.439767</td>\n",
       "    </tr>\n",
       "    <tr>\n",
       "      <th>days_from_original_creation</th>\n",
       "      <td>-0.335826</td>\n",
       "    </tr>\n",
       "    <tr>\n",
       "      <th>days_from_last_modification</th>\n",
       "      <td>1.729450</td>\n",
       "    </tr>\n",
       "  </tbody>\n",
       "</table>\n",
       "</div>"
      ],
      "text/plain": [
       "                             Lin Reg Coeff\n",
       "num_favorers                      1.554021\n",
       "featured_rank                     2.069825\n",
       "max_dimension                     0.122143\n",
       "aspect_ratio                     12.318451\n",
       "area                             23.225107\n",
       "weight                            8.439767\n",
       "days_from_original_creation      -0.335826\n",
       "days_from_last_modification       1.729450"
      ]
     },
     "execution_count": 115,
     "metadata": {},
     "output_type": "execute_result"
    }
   ],
   "source": [
    "#coefficients for each variable:\n",
    "coeff_df = pd.DataFrame(numerical_linreg_pipe['linear reg'].coef_,numerical_columns,columns=['Lin Reg Coeff'])\n",
    "coeff_df"
   ]
  },
  {
   "cell_type": "code",
   "execution_count": 116,
   "metadata": {},
   "outputs": [],
   "source": [
    "#looks like area and aspect_ratio are the most informative numerical variables"
   ]
  },
  {
   "cell_type": "markdown",
   "metadata": {},
   "source": [
    "### Model 1b) Polynomial regression using only numerical features"
   ]
  },
  {
   "cell_type": "code",
   "execution_count": 118,
   "metadata": {},
   "outputs": [],
   "source": [
    "from sklearn.preprocessing import PolynomialFeatures\n",
    "\n",
    "numerical_polyreg_pipe = Pipeline([('numerical preproc', numerical_preproc_pipe),\n",
    "                      ('polynomial_trans', PolynomialFeatures(degree=3,include_bias=False)),            \n",
    "                      ('linear reg', LinearRegression())])"
   ]
  },
  {
   "cell_type": "code",
   "execution_count": 120,
   "metadata": {},
   "outputs": [
    {
     "data": {
      "text/html": [
       "<style>div.sk-top-container {color: black;background-color: white;}div.sk-toggleable {background-color: white;}label.sk-toggleable__label {cursor: pointer;display: block;width: 100%;margin-bottom: 0;padding: 0.2em 0.3em;box-sizing: border-box;text-align: center;}div.sk-toggleable__content {max-height: 0;max-width: 0;overflow: hidden;text-align: left;background-color: #f0f8ff;}div.sk-toggleable__content pre {margin: 0.2em;color: black;border-radius: 0.25em;background-color: #f0f8ff;}input.sk-toggleable__control:checked~div.sk-toggleable__content {max-height: 200px;max-width: 100%;overflow: auto;}div.sk-estimator input.sk-toggleable__control:checked~label.sk-toggleable__label {background-color: #d4ebff;}div.sk-label input.sk-toggleable__control:checked~label.sk-toggleable__label {background-color: #d4ebff;}input.sk-hidden--visually {border: 0;clip: rect(1px 1px 1px 1px);clip: rect(1px, 1px, 1px, 1px);height: 1px;margin: -1px;overflow: hidden;padding: 0;position: absolute;width: 1px;}div.sk-estimator {font-family: monospace;background-color: #f0f8ff;margin: 0.25em 0.25em;border: 1px dotted black;border-radius: 0.25em;box-sizing: border-box;}div.sk-estimator:hover {background-color: #d4ebff;}div.sk-parallel-item::after {content: \"\";width: 100%;border-bottom: 1px solid gray;flex-grow: 1;}div.sk-label:hover label.sk-toggleable__label {background-color: #d4ebff;}div.sk-serial::before {content: \"\";position: absolute;border-left: 1px solid gray;box-sizing: border-box;top: 2em;bottom: 0;left: 50%;}div.sk-serial {display: flex;flex-direction: column;align-items: center;background-color: white;}div.sk-item {z-index: 1;}div.sk-parallel {display: flex;align-items: stretch;justify-content: center;background-color: white;}div.sk-parallel-item {display: flex;flex-direction: column;position: relative;background-color: white;}div.sk-parallel-item:first-child::after {align-self: flex-end;width: 50%;}div.sk-parallel-item:last-child::after {align-self: flex-start;width: 50%;}div.sk-parallel-item:only-child::after {width: 0;}div.sk-dashed-wrapped {border: 1px dashed gray;margin: 0.2em;box-sizing: border-box;padding-bottom: 0.1em;background-color: white;position: relative;}div.sk-label label {font-family: monospace;font-weight: bold;background-color: white;display: inline-block;line-height: 1.2em;}div.sk-label-container {position: relative;z-index: 2;text-align: center;}div.sk-container {display: inline-block;position: relative;}</style><div class=\"sk-top-container\"><div class=\"sk-container\"><div class=\"sk-item sk-dashed-wrapped\"><div class=\"sk-label-container\"><div class=\"sk-label sk-toggleable\"><input class=\"sk-toggleable__control sk-hidden--visually\" id=\"36478af4-c2bb-4cd6-bfdb-1bf5d31de241\" type=\"checkbox\" ><label class=\"sk-toggleable__label\" for=\"36478af4-c2bb-4cd6-bfdb-1bf5d31de241\">Pipeline</label><div class=\"sk-toggleable__content\"><pre>Pipeline(steps=[('numerical preproc',\n",
       "                 Pipeline(steps=[('numerical selector',\n",
       "                                  ColumnTransformer(transformers=[('numerical',\n",
       "                                                                   'passthrough',\n",
       "                                                                   ['num_favorers',\n",
       "                                                                    'featured_rank',\n",
       "                                                                    'max_dimension',\n",
       "                                                                    'aspect_ratio',\n",
       "                                                                    'area',\n",
       "                                                                    'weight',\n",
       "                                                                    'days_from_original_creation',\n",
       "                                                                    'days_from_last_modification'])])),\n",
       "                                 ('standard scaling', StandardScaler())])),\n",
       "                ('polynomial_trans',\n",
       "                 PolynomialFeatures(degree=3, include_bias=False)),\n",
       "                ('linear reg', LinearRegression())])</pre></div></div></div><div class=\"sk-serial\"><div class=\"sk-item\"><div class=\"sk-label-container\"><div class=\"sk-label sk-toggleable\"><input class=\"sk-toggleable__control sk-hidden--visually\" id=\"8496f6aa-80ef-4fbc-be2e-725b30c6ef17\" type=\"checkbox\" ><label class=\"sk-toggleable__label\" for=\"8496f6aa-80ef-4fbc-be2e-725b30c6ef17\">numerical preproc: Pipeline</label><div class=\"sk-toggleable__content\"><pre>Pipeline(steps=[('numerical selector',\n",
       "                 ColumnTransformer(transformers=[('numerical', 'passthrough',\n",
       "                                                  ['num_favorers',\n",
       "                                                   'featured_rank',\n",
       "                                                   'max_dimension',\n",
       "                                                   'aspect_ratio', 'area',\n",
       "                                                   'weight',\n",
       "                                                   'days_from_original_creation',\n",
       "                                                   'days_from_last_modification'])])),\n",
       "                ('standard scaling', StandardScaler())])</pre></div></div></div><div class=\"sk-serial\"><div class=\"sk-item sk-dashed-wrapped\"><div class=\"sk-label-container\"><div class=\"sk-label sk-toggleable\"><input class=\"sk-toggleable__control sk-hidden--visually\" id=\"f892cac2-02d3-44b0-8478-a1fa85229d96\" type=\"checkbox\" ><label class=\"sk-toggleable__label\" for=\"f892cac2-02d3-44b0-8478-a1fa85229d96\">numerical selector: ColumnTransformer</label><div class=\"sk-toggleable__content\"><pre>ColumnTransformer(transformers=[('numerical', 'passthrough',\n",
       "                                 ['num_favorers', 'featured_rank',\n",
       "                                  'max_dimension', 'aspect_ratio', 'area',\n",
       "                                  'weight', 'days_from_original_creation',\n",
       "                                  'days_from_last_modification'])])</pre></div></div></div><div class=\"sk-parallel\"><div class=\"sk-parallel-item\"><div class=\"sk-item\"><div class=\"sk-label-container\"><div class=\"sk-label sk-toggleable\"><input class=\"sk-toggleable__control sk-hidden--visually\" id=\"8fc8231d-3d35-4e8a-9bac-c02c4cfb2172\" type=\"checkbox\" ><label class=\"sk-toggleable__label\" for=\"8fc8231d-3d35-4e8a-9bac-c02c4cfb2172\">numerical</label><div class=\"sk-toggleable__content\"><pre>['num_favorers', 'featured_rank', 'max_dimension', 'aspect_ratio', 'area', 'weight', 'days_from_original_creation', 'days_from_last_modification']</pre></div></div></div><div class=\"sk-serial\"><div class=\"sk-item\"><div class=\"sk-estimator sk-toggleable\"><input class=\"sk-toggleable__control sk-hidden--visually\" id=\"c4f9d113-a733-41e5-8a69-8c34b608b571\" type=\"checkbox\" ><label class=\"sk-toggleable__label\" for=\"c4f9d113-a733-41e5-8a69-8c34b608b571\">passthrough</label><div class=\"sk-toggleable__content\"><pre>passthrough</pre></div></div></div></div></div></div></div></div><div class=\"sk-item\"><div class=\"sk-estimator sk-toggleable\"><input class=\"sk-toggleable__control sk-hidden--visually\" id=\"06c3de11-8273-455f-b83a-b49331da857a\" type=\"checkbox\" ><label class=\"sk-toggleable__label\" for=\"06c3de11-8273-455f-b83a-b49331da857a\">StandardScaler</label><div class=\"sk-toggleable__content\"><pre>StandardScaler()</pre></div></div></div></div></div><div class=\"sk-item\"><div class=\"sk-estimator sk-toggleable\"><input class=\"sk-toggleable__control sk-hidden--visually\" id=\"a427d4c3-783b-416b-a198-ecb0225cb0a3\" type=\"checkbox\" ><label class=\"sk-toggleable__label\" for=\"a427d4c3-783b-416b-a198-ecb0225cb0a3\">PolynomialFeatures</label><div class=\"sk-toggleable__content\"><pre>PolynomialFeatures(degree=3, include_bias=False)</pre></div></div></div><div class=\"sk-item\"><div class=\"sk-estimator sk-toggleable\"><input class=\"sk-toggleable__control sk-hidden--visually\" id=\"7cb83913-05bb-4c75-897f-b1ee52b5ec63\" type=\"checkbox\" ><label class=\"sk-toggleable__label\" for=\"7cb83913-05bb-4c75-897f-b1ee52b5ec63\">LinearRegression</label><div class=\"sk-toggleable__content\"><pre>LinearRegression()</pre></div></div></div></div></div></div></div>"
      ],
      "text/plain": [
       "Pipeline(steps=[('numerical preproc',\n",
       "                 Pipeline(steps=[('numerical selector',\n",
       "                                  ColumnTransformer(transformers=[('numerical',\n",
       "                                                                   'passthrough',\n",
       "                                                                   ['num_favorers',\n",
       "                                                                    'featured_rank',\n",
       "                                                                    'max_dimension',\n",
       "                                                                    'aspect_ratio',\n",
       "                                                                    'area',\n",
       "                                                                    'weight',\n",
       "                                                                    'days_from_original_creation',\n",
       "                                                                    'days_from_last_modification'])])),\n",
       "                                 ('standard scaling', StandardScaler())])),\n",
       "                ('polynomial_trans',\n",
       "                 PolynomialFeatures(degree=3, include_bias=False)),\n",
       "                ('linear reg', LinearRegression())])"
      ]
     },
     "execution_count": 120,
     "metadata": {},
     "output_type": "execute_result"
    }
   ],
   "source": [
    "#Train the model\n",
    "numerical_polyreg_pipe.fit(paintings_df_train,prices_train)"
   ]
  },
  {
   "cell_type": "code",
   "execution_count": 121,
   "metadata": {},
   "outputs": [
    {
     "data": {
      "text/plain": [
       "0.0983159678208011"
      ]
     },
     "execution_count": 121,
     "metadata": {},
     "output_type": "execute_result"
    }
   ],
   "source": [
    "#Predict prices on training set:\n",
    "prices_train_pred = numerical_polyreg_pipe.predict(paintings_df_train)\n",
    "#And return the R2 score as follows:\n",
    "numerical_polyreg_pipe.score(paintings_df_train,prices_train)"
   ]
  },
  {
   "cell_type": "code",
   "execution_count": 122,
   "metadata": {},
   "outputs": [
    {
     "data": {
      "text/plain": [
       "0.04567696996191417"
      ]
     },
     "execution_count": 122,
     "metadata": {},
     "output_type": "execute_result"
    }
   ],
   "source": [
    "#Predict prices on test set:\n",
    "prices_test_pred = numerical_polyreg_pipe.predict(paintings_df_test)\n",
    "#And return the R2 score as follows:\n",
    "numerical_polyreg_pipe.score(paintings_df_test,prices_test)"
   ]
  },
  {
   "cell_type": "code",
   "execution_count": 125,
   "metadata": {},
   "outputs": [
    {
     "name": "stdout",
     "output_type": "stream",
     "text": [
      "Polynomial regression model using only numerical features:\n",
      "Training R^2: 0.0983159678208011\n",
      "Testing R^2: 0.04567696996191417\n",
      "Training RMSE: USD 109.81975852825491\n",
      "Testing RMSE: USD 112.83538625949616\n",
      "Training MAE: USD 92.06916866633601\n",
      "Testing MAE: USD 93.17433793546634\n"
     ]
    }
   ],
   "source": [
    "#Print results using the function defined earlier:\n",
    "\n",
    "print_all_scores_train_test(prices_train,prices_train_pred,prices_test,prices_test_pred,model_name='Polynomial regression model using only numerical features')\n"
   ]
  },
  {
   "cell_type": "code",
   "execution_count": null,
   "metadata": {},
   "outputs": [],
   "source": [
    "#It looks like I am already overfitting the training data, so let's try to replace the linear regression with a ridge regression or LASSO model"
   ]
  },
  {
   "cell_type": "code",
   "execution_count": 133,
   "metadata": {},
   "outputs": [
    {
     "data": {
      "text/html": [
       "<style>div.sk-top-container {color: black;background-color: white;}div.sk-toggleable {background-color: white;}label.sk-toggleable__label {cursor: pointer;display: block;width: 100%;margin-bottom: 0;padding: 0.2em 0.3em;box-sizing: border-box;text-align: center;}div.sk-toggleable__content {max-height: 0;max-width: 0;overflow: hidden;text-align: left;background-color: #f0f8ff;}div.sk-toggleable__content pre {margin: 0.2em;color: black;border-radius: 0.25em;background-color: #f0f8ff;}input.sk-toggleable__control:checked~div.sk-toggleable__content {max-height: 200px;max-width: 100%;overflow: auto;}div.sk-estimator input.sk-toggleable__control:checked~label.sk-toggleable__label {background-color: #d4ebff;}div.sk-label input.sk-toggleable__control:checked~label.sk-toggleable__label {background-color: #d4ebff;}input.sk-hidden--visually {border: 0;clip: rect(1px 1px 1px 1px);clip: rect(1px, 1px, 1px, 1px);height: 1px;margin: -1px;overflow: hidden;padding: 0;position: absolute;width: 1px;}div.sk-estimator {font-family: monospace;background-color: #f0f8ff;margin: 0.25em 0.25em;border: 1px dotted black;border-radius: 0.25em;box-sizing: border-box;}div.sk-estimator:hover {background-color: #d4ebff;}div.sk-parallel-item::after {content: \"\";width: 100%;border-bottom: 1px solid gray;flex-grow: 1;}div.sk-label:hover label.sk-toggleable__label {background-color: #d4ebff;}div.sk-serial::before {content: \"\";position: absolute;border-left: 1px solid gray;box-sizing: border-box;top: 2em;bottom: 0;left: 50%;}div.sk-serial {display: flex;flex-direction: column;align-items: center;background-color: white;}div.sk-item {z-index: 1;}div.sk-parallel {display: flex;align-items: stretch;justify-content: center;background-color: white;}div.sk-parallel-item {display: flex;flex-direction: column;position: relative;background-color: white;}div.sk-parallel-item:first-child::after {align-self: flex-end;width: 50%;}div.sk-parallel-item:last-child::after {align-self: flex-start;width: 50%;}div.sk-parallel-item:only-child::after {width: 0;}div.sk-dashed-wrapped {border: 1px dashed gray;margin: 0.2em;box-sizing: border-box;padding-bottom: 0.1em;background-color: white;position: relative;}div.sk-label label {font-family: monospace;font-weight: bold;background-color: white;display: inline-block;line-height: 1.2em;}div.sk-label-container {position: relative;z-index: 2;text-align: center;}div.sk-container {display: inline-block;position: relative;}</style><div class=\"sk-top-container\"><div class=\"sk-container\"><div class=\"sk-item sk-dashed-wrapped\"><div class=\"sk-label-container\"><div class=\"sk-label sk-toggleable\"><input class=\"sk-toggleable__control sk-hidden--visually\" id=\"0014f7b6-852d-4190-b95c-f8375626e32e\" type=\"checkbox\" ><label class=\"sk-toggleable__label\" for=\"0014f7b6-852d-4190-b95c-f8375626e32e\">Pipeline</label><div class=\"sk-toggleable__content\"><pre>Pipeline(steps=[('numerical preproc',\n",
       "                 Pipeline(steps=[('numerical selector',\n",
       "                                  ColumnTransformer(transformers=[('numerical',\n",
       "                                                                   'passthrough',\n",
       "                                                                   ['num_favorers',\n",
       "                                                                    'featured_rank',\n",
       "                                                                    'max_dimension',\n",
       "                                                                    'aspect_ratio',\n",
       "                                                                    'area',\n",
       "                                                                    'weight',\n",
       "                                                                    'days_from_original_creation',\n",
       "                                                                    'days_from_last_modification'])])),\n",
       "                                 ('standard scaling', StandardScaler())])),\n",
       "                ('polynomial_trans',\n",
       "                 PolynomialFeatures(degree=3, include_bias=False)),\n",
       "                ('ridge', Ridge(alpha=10))])</pre></div></div></div><div class=\"sk-serial\"><div class=\"sk-item\"><div class=\"sk-label-container\"><div class=\"sk-label sk-toggleable\"><input class=\"sk-toggleable__control sk-hidden--visually\" id=\"9419ed31-2488-4561-9362-f1af00253084\" type=\"checkbox\" ><label class=\"sk-toggleable__label\" for=\"9419ed31-2488-4561-9362-f1af00253084\">numerical preproc: Pipeline</label><div class=\"sk-toggleable__content\"><pre>Pipeline(steps=[('numerical selector',\n",
       "                 ColumnTransformer(transformers=[('numerical', 'passthrough',\n",
       "                                                  ['num_favorers',\n",
       "                                                   'featured_rank',\n",
       "                                                   'max_dimension',\n",
       "                                                   'aspect_ratio', 'area',\n",
       "                                                   'weight',\n",
       "                                                   'days_from_original_creation',\n",
       "                                                   'days_from_last_modification'])])),\n",
       "                ('standard scaling', StandardScaler())])</pre></div></div></div><div class=\"sk-serial\"><div class=\"sk-item sk-dashed-wrapped\"><div class=\"sk-label-container\"><div class=\"sk-label sk-toggleable\"><input class=\"sk-toggleable__control sk-hidden--visually\" id=\"8a631a9c-d3eb-4171-8490-9df4299de568\" type=\"checkbox\" ><label class=\"sk-toggleable__label\" for=\"8a631a9c-d3eb-4171-8490-9df4299de568\">numerical selector: ColumnTransformer</label><div class=\"sk-toggleable__content\"><pre>ColumnTransformer(transformers=[('numerical', 'passthrough',\n",
       "                                 ['num_favorers', 'featured_rank',\n",
       "                                  'max_dimension', 'aspect_ratio', 'area',\n",
       "                                  'weight', 'days_from_original_creation',\n",
       "                                  'days_from_last_modification'])])</pre></div></div></div><div class=\"sk-parallel\"><div class=\"sk-parallel-item\"><div class=\"sk-item\"><div class=\"sk-label-container\"><div class=\"sk-label sk-toggleable\"><input class=\"sk-toggleable__control sk-hidden--visually\" id=\"81614a35-183c-4fdc-8506-6e758a561191\" type=\"checkbox\" ><label class=\"sk-toggleable__label\" for=\"81614a35-183c-4fdc-8506-6e758a561191\">numerical</label><div class=\"sk-toggleable__content\"><pre>['num_favorers', 'featured_rank', 'max_dimension', 'aspect_ratio', 'area', 'weight', 'days_from_original_creation', 'days_from_last_modification']</pre></div></div></div><div class=\"sk-serial\"><div class=\"sk-item\"><div class=\"sk-estimator sk-toggleable\"><input class=\"sk-toggleable__control sk-hidden--visually\" id=\"92f9db5c-87b7-4d4d-beaf-0e2f7e2e08fb\" type=\"checkbox\" ><label class=\"sk-toggleable__label\" for=\"92f9db5c-87b7-4d4d-beaf-0e2f7e2e08fb\">passthrough</label><div class=\"sk-toggleable__content\"><pre>passthrough</pre></div></div></div></div></div></div></div></div><div class=\"sk-item\"><div class=\"sk-estimator sk-toggleable\"><input class=\"sk-toggleable__control sk-hidden--visually\" id=\"d7ebc779-4c3c-4f96-af42-29e9f8edc10d\" type=\"checkbox\" ><label class=\"sk-toggleable__label\" for=\"d7ebc779-4c3c-4f96-af42-29e9f8edc10d\">StandardScaler</label><div class=\"sk-toggleable__content\"><pre>StandardScaler()</pre></div></div></div></div></div><div class=\"sk-item\"><div class=\"sk-estimator sk-toggleable\"><input class=\"sk-toggleable__control sk-hidden--visually\" id=\"6f137886-a5f2-46d4-9a74-86753ace408f\" type=\"checkbox\" ><label class=\"sk-toggleable__label\" for=\"6f137886-a5f2-46d4-9a74-86753ace408f\">PolynomialFeatures</label><div class=\"sk-toggleable__content\"><pre>PolynomialFeatures(degree=3, include_bias=False)</pre></div></div></div><div class=\"sk-item\"><div class=\"sk-estimator sk-toggleable\"><input class=\"sk-toggleable__control sk-hidden--visually\" id=\"bd562e4d-4be4-435b-8ce6-a3ca348f69c9\" type=\"checkbox\" ><label class=\"sk-toggleable__label\" for=\"bd562e4d-4be4-435b-8ce6-a3ca348f69c9\">Ridge</label><div class=\"sk-toggleable__content\"><pre>Ridge(alpha=10)</pre></div></div></div></div></div></div></div>"
      ],
      "text/plain": [
       "Pipeline(steps=[('numerical preproc',\n",
       "                 Pipeline(steps=[('numerical selector',\n",
       "                                  ColumnTransformer(transformers=[('numerical',\n",
       "                                                                   'passthrough',\n",
       "                                                                   ['num_favorers',\n",
       "                                                                    'featured_rank',\n",
       "                                                                    'max_dimension',\n",
       "                                                                    'aspect_ratio',\n",
       "                                                                    'area',\n",
       "                                                                    'weight',\n",
       "                                                                    'days_from_original_creation',\n",
       "                                                                    'days_from_last_modification'])])),\n",
       "                                 ('standard scaling', StandardScaler())])),\n",
       "                ('polynomial_trans',\n",
       "                 PolynomialFeatures(degree=3, include_bias=False)),\n",
       "                ('ridge', Ridge(alpha=10))])"
      ]
     },
     "execution_count": 133,
     "metadata": {},
     "output_type": "execute_result"
    }
   ],
   "source": [
    "from sklearn.linear_model import Ridge\n",
    "\n",
    "numerical_polyreg_ridge_pipe = Pipeline([('numerical preproc', numerical_preproc_pipe),\n",
    "                      ('polynomial_trans', PolynomialFeatures(degree=3,include_bias=False)),            \n",
    "                      ('ridge', Ridge(alpha=10))])\n",
    "\n",
    "numerical_polyreg_ridge_pipe"
   ]
  },
  {
   "cell_type": "code",
   "execution_count": 134,
   "metadata": {},
   "outputs": [
    {
     "data": {
      "text/plain": [
       "{'memory': None,\n",
       " 'steps': [('numerical preproc',\n",
       "   Pipeline(steps=[('numerical selector',\n",
       "                    ColumnTransformer(transformers=[('numerical', 'passthrough',\n",
       "                                                     ['num_favorers',\n",
       "                                                      'featured_rank',\n",
       "                                                      'max_dimension',\n",
       "                                                      'aspect_ratio', 'area',\n",
       "                                                      'weight',\n",
       "                                                      'days_from_original_creation',\n",
       "                                                      'days_from_last_modification'])])),\n",
       "                   ('standard scaling', StandardScaler())])),\n",
       "  ('polynomial_trans', PolynomialFeatures(degree=3, include_bias=False)),\n",
       "  ('ridge', Ridge(alpha=10))],\n",
       " 'verbose': False,\n",
       " 'numerical preproc': Pipeline(steps=[('numerical selector',\n",
       "                  ColumnTransformer(transformers=[('numerical', 'passthrough',\n",
       "                                                   ['num_favorers',\n",
       "                                                    'featured_rank',\n",
       "                                                    'max_dimension',\n",
       "                                                    'aspect_ratio', 'area',\n",
       "                                                    'weight',\n",
       "                                                    'days_from_original_creation',\n",
       "                                                    'days_from_last_modification'])])),\n",
       "                 ('standard scaling', StandardScaler())]),\n",
       " 'polynomial_trans': PolynomialFeatures(degree=3, include_bias=False),\n",
       " 'ridge': Ridge(alpha=10),\n",
       " 'numerical preproc__memory': None,\n",
       " 'numerical preproc__steps': [('numerical selector',\n",
       "   ColumnTransformer(transformers=[('numerical', 'passthrough',\n",
       "                                    ['num_favorers', 'featured_rank',\n",
       "                                     'max_dimension', 'aspect_ratio', 'area',\n",
       "                                     'weight', 'days_from_original_creation',\n",
       "                                     'days_from_last_modification'])])),\n",
       "  ('standard scaling', StandardScaler())],\n",
       " 'numerical preproc__verbose': False,\n",
       " 'numerical preproc__numerical selector': ColumnTransformer(transformers=[('numerical', 'passthrough',\n",
       "                                  ['num_favorers', 'featured_rank',\n",
       "                                   'max_dimension', 'aspect_ratio', 'area',\n",
       "                                   'weight', 'days_from_original_creation',\n",
       "                                   'days_from_last_modification'])]),\n",
       " 'numerical preproc__standard scaling': StandardScaler(),\n",
       " 'numerical preproc__numerical selector__n_jobs': None,\n",
       " 'numerical preproc__numerical selector__remainder': 'drop',\n",
       " 'numerical preproc__numerical selector__sparse_threshold': 0.3,\n",
       " 'numerical preproc__numerical selector__transformer_weights': None,\n",
       " 'numerical preproc__numerical selector__transformers': [('numerical',\n",
       "   'passthrough',\n",
       "   ['num_favorers',\n",
       "    'featured_rank',\n",
       "    'max_dimension',\n",
       "    'aspect_ratio',\n",
       "    'area',\n",
       "    'weight',\n",
       "    'days_from_original_creation',\n",
       "    'days_from_last_modification'])],\n",
       " 'numerical preproc__numerical selector__verbose': False,\n",
       " 'numerical preproc__numerical selector__numerical': 'passthrough',\n",
       " 'numerical preproc__standard scaling__copy': True,\n",
       " 'numerical preproc__standard scaling__with_mean': True,\n",
       " 'numerical preproc__standard scaling__with_std': True,\n",
       " 'polynomial_trans__degree': 3,\n",
       " 'polynomial_trans__include_bias': False,\n",
       " 'polynomial_trans__interaction_only': False,\n",
       " 'polynomial_trans__order': 'C',\n",
       " 'ridge__alpha': 10,\n",
       " 'ridge__copy_X': True,\n",
       " 'ridge__fit_intercept': True,\n",
       " 'ridge__max_iter': None,\n",
       " 'ridge__normalize': False,\n",
       " 'ridge__random_state': None,\n",
       " 'ridge__solver': 'auto',\n",
       " 'ridge__tol': 0.001}"
      ]
     },
     "execution_count": 134,
     "metadata": {},
     "output_type": "execute_result"
    }
   ],
   "source": [
    "numerical_polyreg_ridge_pipe.get_params()"
   ]
  },
  {
   "cell_type": "code",
   "execution_count": 145,
   "metadata": {},
   "outputs": [],
   "source": [
    "from sklearn.model_selection import GridSearchCV\n",
    "\n",
    "#I will then need to search for the right alpha using Cross Validation:\n",
    "#Let's do a cross validation as before and see how well does this model perform:\n",
    "param_grid = {'ridge__alpha': np.logspace(0,8,20)} \n",
    "numerical_polyreg_ridge_CVmodel = GridSearchCV(numerical_polyreg_ridge_pipe, param_grid, cv=5, n_jobs=2, verbose=1)"
   ]
  },
  {
   "cell_type": "code",
   "execution_count": 146,
   "metadata": {},
   "outputs": [
    {
     "name": "stdout",
     "output_type": "stream",
     "text": [
      "Fitting 5 folds for each of 20 candidates, totalling 100 fits\n"
     ]
    },
    {
     "name": "stderr",
     "output_type": "stream",
     "text": [
      "[Parallel(n_jobs=2)]: Using backend LokyBackend with 2 concurrent workers.\n",
      "[Parallel(n_jobs=2)]: Done  46 tasks      | elapsed:    6.2s\n",
      "[Parallel(n_jobs=2)]: Done 100 out of 100 | elapsed:   11.8s finished\n"
     ]
    },
    {
     "data": {
      "text/html": [
       "<style>div.sk-top-container {color: black;background-color: white;}div.sk-toggleable {background-color: white;}label.sk-toggleable__label {cursor: pointer;display: block;width: 100%;margin-bottom: 0;padding: 0.2em 0.3em;box-sizing: border-box;text-align: center;}div.sk-toggleable__content {max-height: 0;max-width: 0;overflow: hidden;text-align: left;background-color: #f0f8ff;}div.sk-toggleable__content pre {margin: 0.2em;color: black;border-radius: 0.25em;background-color: #f0f8ff;}input.sk-toggleable__control:checked~div.sk-toggleable__content {max-height: 200px;max-width: 100%;overflow: auto;}div.sk-estimator input.sk-toggleable__control:checked~label.sk-toggleable__label {background-color: #d4ebff;}div.sk-label input.sk-toggleable__control:checked~label.sk-toggleable__label {background-color: #d4ebff;}input.sk-hidden--visually {border: 0;clip: rect(1px 1px 1px 1px);clip: rect(1px, 1px, 1px, 1px);height: 1px;margin: -1px;overflow: hidden;padding: 0;position: absolute;width: 1px;}div.sk-estimator {font-family: monospace;background-color: #f0f8ff;margin: 0.25em 0.25em;border: 1px dotted black;border-radius: 0.25em;box-sizing: border-box;}div.sk-estimator:hover {background-color: #d4ebff;}div.sk-parallel-item::after {content: \"\";width: 100%;border-bottom: 1px solid gray;flex-grow: 1;}div.sk-label:hover label.sk-toggleable__label {background-color: #d4ebff;}div.sk-serial::before {content: \"\";position: absolute;border-left: 1px solid gray;box-sizing: border-box;top: 2em;bottom: 0;left: 50%;}div.sk-serial {display: flex;flex-direction: column;align-items: center;background-color: white;}div.sk-item {z-index: 1;}div.sk-parallel {display: flex;align-items: stretch;justify-content: center;background-color: white;}div.sk-parallel-item {display: flex;flex-direction: column;position: relative;background-color: white;}div.sk-parallel-item:first-child::after {align-self: flex-end;width: 50%;}div.sk-parallel-item:last-child::after {align-self: flex-start;width: 50%;}div.sk-parallel-item:only-child::after {width: 0;}div.sk-dashed-wrapped {border: 1px dashed gray;margin: 0.2em;box-sizing: border-box;padding-bottom: 0.1em;background-color: white;position: relative;}div.sk-label label {font-family: monospace;font-weight: bold;background-color: white;display: inline-block;line-height: 1.2em;}div.sk-label-container {position: relative;z-index: 2;text-align: center;}div.sk-container {display: inline-block;position: relative;}</style><div class=\"sk-top-container\"><div class=\"sk-container\"><div class=\"sk-item sk-dashed-wrapped\"><div class=\"sk-label-container\"><div class=\"sk-label sk-toggleable\"><input class=\"sk-toggleable__control sk-hidden--visually\" id=\"d0749273-e039-4ea0-897b-ee38dc9ca392\" type=\"checkbox\" ><label class=\"sk-toggleable__label\" for=\"d0749273-e039-4ea0-897b-ee38dc9ca392\">GridSearchCV</label><div class=\"sk-toggleable__content\"><pre>GridSearchCV(cv=5,\n",
       "             estimator=Pipeline(steps=[('numerical preproc',\n",
       "                                        Pipeline(steps=[('numerical selector',\n",
       "                                                         ColumnTransformer(transformers=[('numerical',\n",
       "                                                                                          'passthrough',\n",
       "                                                                                          ['num_favorers',\n",
       "                                                                                           'featured_rank',\n",
       "                                                                                           'max_dimension',\n",
       "                                                                                           'aspect_ratio',\n",
       "                                                                                           'area',\n",
       "                                                                                           'weight',\n",
       "                                                                                           'days_from_original_creation',\n",
       "                                                                                           'days_from_last_modification'])])),\n",
       "                                                        ('standard scaling',\n",
       "                                                         StandardScaler())])),\n",
       "                                       ('poly...\n",
       "             n_jobs=2,\n",
       "             param_grid={'ridge__alpha': array([1.00000000e+00, 2.63665090e+00, 6.95192796e+00, 1.83298071e+01,\n",
       "       4.83293024e+01, 1.27427499e+02, 3.35981829e+02, 8.85866790e+02,\n",
       "       2.33572147e+03, 6.15848211e+03, 1.62377674e+04, 4.28133240e+04,\n",
       "       1.12883789e+05, 2.97635144e+05, 7.84759970e+05, 2.06913808e+06,\n",
       "       5.45559478e+06, 1.43844989e+07, 3.79269019e+07, 1.00000000e+08])},\n",
       "             verbose=1)</pre></div></div></div><div class=\"sk-parallel\"><div class=\"sk-parallel-item\"><div class=\"sk-item\"><div class=\"sk-serial\"><div class=\"sk-item\"><div class=\"sk-serial\"><div class=\"sk-item\"><div class=\"sk-label-container\"><div class=\"sk-label sk-toggleable\"><input class=\"sk-toggleable__control sk-hidden--visually\" id=\"3af0a22f-59ea-4694-978b-00a73980874c\" type=\"checkbox\" ><label class=\"sk-toggleable__label\" for=\"3af0a22f-59ea-4694-978b-00a73980874c\">numerical preproc: Pipeline</label><div class=\"sk-toggleable__content\"><pre>Pipeline(steps=[('numerical selector',\n",
       "                 ColumnTransformer(transformers=[('numerical', 'passthrough',\n",
       "                                                  ['num_favorers',\n",
       "                                                   'featured_rank',\n",
       "                                                   'max_dimension',\n",
       "                                                   'aspect_ratio', 'area',\n",
       "                                                   'weight',\n",
       "                                                   'days_from_original_creation',\n",
       "                                                   'days_from_last_modification'])])),\n",
       "                ('standard scaling', StandardScaler())])</pre></div></div></div><div class=\"sk-serial\"><div class=\"sk-item sk-dashed-wrapped\"><div class=\"sk-label-container\"><div class=\"sk-label sk-toggleable\"><input class=\"sk-toggleable__control sk-hidden--visually\" id=\"fb5bffe6-9b70-4a87-bf26-6a00dfb7809f\" type=\"checkbox\" ><label class=\"sk-toggleable__label\" for=\"fb5bffe6-9b70-4a87-bf26-6a00dfb7809f\">numerical selector: ColumnTransformer</label><div class=\"sk-toggleable__content\"><pre>ColumnTransformer(transformers=[('numerical', 'passthrough',\n",
       "                                 ['num_favorers', 'featured_rank',\n",
       "                                  'max_dimension', 'aspect_ratio', 'area',\n",
       "                                  'weight', 'days_from_original_creation',\n",
       "                                  'days_from_last_modification'])])</pre></div></div></div><div class=\"sk-parallel\"><div class=\"sk-parallel-item\"><div class=\"sk-item\"><div class=\"sk-label-container\"><div class=\"sk-label sk-toggleable\"><input class=\"sk-toggleable__control sk-hidden--visually\" id=\"f888c877-4633-4646-a715-7c5ea63e9d83\" type=\"checkbox\" ><label class=\"sk-toggleable__label\" for=\"f888c877-4633-4646-a715-7c5ea63e9d83\">numerical</label><div class=\"sk-toggleable__content\"><pre>['num_favorers', 'featured_rank', 'max_dimension', 'aspect_ratio', 'area', 'weight', 'days_from_original_creation', 'days_from_last_modification']</pre></div></div></div><div class=\"sk-serial\"><div class=\"sk-item\"><div class=\"sk-estimator sk-toggleable\"><input class=\"sk-toggleable__control sk-hidden--visually\" id=\"2ce56650-4bcf-4a89-9d78-9fc599c87983\" type=\"checkbox\" ><label class=\"sk-toggleable__label\" for=\"2ce56650-4bcf-4a89-9d78-9fc599c87983\">passthrough</label><div class=\"sk-toggleable__content\"><pre>passthrough</pre></div></div></div></div></div></div></div></div><div class=\"sk-item\"><div class=\"sk-estimator sk-toggleable\"><input class=\"sk-toggleable__control sk-hidden--visually\" id=\"9cfc0e57-5870-4297-bdd6-f2ae12d9ab73\" type=\"checkbox\" ><label class=\"sk-toggleable__label\" for=\"9cfc0e57-5870-4297-bdd6-f2ae12d9ab73\">StandardScaler</label><div class=\"sk-toggleable__content\"><pre>StandardScaler()</pre></div></div></div></div></div><div class=\"sk-item\"><div class=\"sk-estimator sk-toggleable\"><input class=\"sk-toggleable__control sk-hidden--visually\" id=\"9663221b-5411-431b-8daa-b6cbe592a755\" type=\"checkbox\" ><label class=\"sk-toggleable__label\" for=\"9663221b-5411-431b-8daa-b6cbe592a755\">PolynomialFeatures</label><div class=\"sk-toggleable__content\"><pre>PolynomialFeatures(degree=3, include_bias=False)</pre></div></div></div><div class=\"sk-item\"><div class=\"sk-estimator sk-toggleable\"><input class=\"sk-toggleable__control sk-hidden--visually\" id=\"a78c2699-0c71-4730-aa2e-020362afa7aa\" type=\"checkbox\" ><label class=\"sk-toggleable__label\" for=\"a78c2699-0c71-4730-aa2e-020362afa7aa\">Ridge</label><div class=\"sk-toggleable__content\"><pre>Ridge(alpha=10)</pre></div></div></div></div></div></div></div></div></div></div></div></div>"
      ],
      "text/plain": [
       "GridSearchCV(cv=5,\n",
       "             estimator=Pipeline(steps=[('numerical preproc',\n",
       "                                        Pipeline(steps=[('numerical selector',\n",
       "                                                         ColumnTransformer(transformers=[('numerical',\n",
       "                                                                                          'passthrough',\n",
       "                                                                                          ['num_favorers',\n",
       "                                                                                           'featured_rank',\n",
       "                                                                                           'max_dimension',\n",
       "                                                                                           'aspect_ratio',\n",
       "                                                                                           'area',\n",
       "                                                                                           'weight',\n",
       "                                                                                           'days_from_original_creation',\n",
       "                                                                                           'days_from_last_modification'])])),\n",
       "                                                        ('standard scaling',\n",
       "                                                         StandardScaler())])),\n",
       "                                       ('poly...\n",
       "             n_jobs=2,\n",
       "             param_grid={'ridge__alpha': array([1.00000000e+00, 2.63665090e+00, 6.95192796e+00, 1.83298071e+01,\n",
       "       4.83293024e+01, 1.27427499e+02, 3.35981829e+02, 8.85866790e+02,\n",
       "       2.33572147e+03, 6.15848211e+03, 1.62377674e+04, 4.28133240e+04,\n",
       "       1.12883789e+05, 2.97635144e+05, 7.84759970e+05, 2.06913808e+06,\n",
       "       5.45559478e+06, 1.43844989e+07, 3.79269019e+07, 1.00000000e+08])},\n",
       "             verbose=1)"
      ]
     },
     "execution_count": 146,
     "metadata": {},
     "output_type": "execute_result"
    }
   ],
   "source": [
    "numerical_polyreg_ridge_CVmodel.fit(paintings_df_train,prices_train)"
   ]
  },
  {
   "cell_type": "code",
   "execution_count": 147,
   "metadata": {},
   "outputs": [
    {
     "data": {
      "text/plain": [
       "{'ridge__alpha': 112883.78916846884}"
      ]
     },
     "execution_count": 147,
     "metadata": {},
     "output_type": "execute_result"
    }
   ],
   "source": [
    "numerical_polyreg_ridge_CVmodel.best_params_"
   ]
  },
  {
   "cell_type": "code",
   "execution_count": 148,
   "metadata": {},
   "outputs": [
    {
     "data": {
      "text/plain": [
       "0.054777721398355794"
      ]
     },
     "execution_count": 148,
     "metadata": {},
     "output_type": "execute_result"
    }
   ],
   "source": [
    "#Predict prices on training set:\n",
    "prices_train_pred = numerical_polyreg_ridge_CVmodel.predict(paintings_df_train)\n",
    "#And return the R2 score as follows:\n",
    "numerical_polyreg_ridge_CVmodel.score(paintings_df_train,prices_train)"
   ]
  },
  {
   "cell_type": "code",
   "execution_count": 149,
   "metadata": {},
   "outputs": [
    {
     "data": {
      "text/plain": [
       "0.05370241101252504"
      ]
     },
     "execution_count": 149,
     "metadata": {},
     "output_type": "execute_result"
    }
   ],
   "source": [
    "#Predict prices on test set:\n",
    "prices_test_pred = numerical_polyreg_ridge_CVmodel.predict(paintings_df_test)\n",
    "#And return the R2 score as follows:\n",
    "numerical_polyreg_ridge_CVmodel.score(paintings_df_test,prices_test)"
   ]
  },
  {
   "cell_type": "code",
   "execution_count": 150,
   "metadata": {},
   "outputs": [
    {
     "name": "stdout",
     "output_type": "stream",
     "text": [
      "Polynomial Ridge regression model using only numerical features:\n",
      "Training R^2: 0.054777721398355794\n",
      "Testing R^2: 0.05370241101252504\n",
      "Training RMSE: USD 112.43985312756409\n",
      "Testing RMSE: USD 112.35993633953481\n",
      "Training MAE: USD 95.70448509932582\n",
      "Testing MAE: USD 95.69392863236232\n"
     ]
    }
   ],
   "source": [
    "print_all_scores_train_test(prices_train,prices_train_pred,prices_test,prices_test_pred,model_name='Polynomial Ridge regression model using only numerical features')"
   ]
  },
  {
   "cell_type": "code",
   "execution_count": 151,
   "metadata": {},
   "outputs": [],
   "source": [
    "#Now I am not overfitting, but the performance is worse than normal linear regression"
   ]
  },
  {
   "cell_type": "code",
   "execution_count": 153,
   "metadata": {},
   "outputs": [
    {
     "data": {
      "text/plain": [
       "{'mean_fit_time': array([0.06916919, 0.05421906, 0.05441866, 0.05501666, 0.05421886,\n",
       "        0.05481744, 0.0548172 , 0.05720901, 0.05960164, 0.05940237,\n",
       "        0.05720944, 0.05840549, 0.06019921, 0.05740829, 0.06139565,\n",
       "        0.06079731, 0.05880399, 0.05780792, 0.05960126, 0.05581379]),\n",
       " 'std_fit_time': array([0.02482214, 0.00079767, 0.00161935, 0.00193267, 0.00101629,\n",
       "        0.00063037, 0.00126082, 0.00232447, 0.00097667, 0.00376124,\n",
       "        0.00195302, 0.00101655, 0.00135196, 0.00079749, 0.00135195,\n",
       "        0.00089164, 0.00227295, 0.00126101, 0.00193238, 0.00308817]),\n",
       " 'mean_score_time': array([0.00757523, 0.00797405, 0.00817423, 0.00777483, 0.00777531,\n",
       "        0.00817366, 0.00837259, 0.00777478, 0.00916948, 0.00916991,\n",
       "        0.00877109, 0.00857201, 0.00877137, 0.00857244, 0.00897045,\n",
       "        0.00917001, 0.00817361, 0.00817294, 0.00857234, 0.00817409]),\n",
       " 'std_score_time': array([0.00101649, 0.00063075, 0.00039767, 0.00039852, 0.00074572,\n",
       "        0.00039866, 0.00048829, 0.00039849, 0.0003988 , 0.00074563,\n",
       "        0.00039871, 0.00048864, 0.00039802, 0.00079696, 0.00062977,\n",
       "        0.00074566, 0.00039833, 0.00074592, 0.00048823, 0.00074555]),\n",
       " 'param_ridge__alpha': masked_array(data=[1.0, 2.636650898730358, 6.951927961775605,\n",
       "                    18.329807108324356, 48.32930238571752,\n",
       "                    127.42749857031335, 335.9818286283781,\n",
       "                    885.8667904100823, 2335.7214690901214,\n",
       "                    6158.48211066026, 16237.76739188721, 42813.32398719396,\n",
       "                    112883.78916846884, 297635.1441631313,\n",
       "                    784759.9703514606, 2069138.0811147902,\n",
       "                    5455594.781168515, 14384498.882876601,\n",
       "                    37926901.90732246, 100000000.0],\n",
       "              mask=[False, False, False, False, False, False, False, False,\n",
       "                    False, False, False, False, False, False, False, False,\n",
       "                    False, False, False, False],\n",
       "        fill_value='?',\n",
       "             dtype=object),\n",
       " 'params': [{'ridge__alpha': 1.0},\n",
       "  {'ridge__alpha': 2.636650898730358},\n",
       "  {'ridge__alpha': 6.951927961775605},\n",
       "  {'ridge__alpha': 18.329807108324356},\n",
       "  {'ridge__alpha': 48.32930238571752},\n",
       "  {'ridge__alpha': 127.42749857031335},\n",
       "  {'ridge__alpha': 335.9818286283781},\n",
       "  {'ridge__alpha': 885.8667904100823},\n",
       "  {'ridge__alpha': 2335.7214690901214},\n",
       "  {'ridge__alpha': 6158.48211066026},\n",
       "  {'ridge__alpha': 16237.76739188721},\n",
       "  {'ridge__alpha': 42813.32398719396},\n",
       "  {'ridge__alpha': 112883.78916846884},\n",
       "  {'ridge__alpha': 297635.1441631313},\n",
       "  {'ridge__alpha': 784759.9703514606},\n",
       "  {'ridge__alpha': 2069138.0811147902},\n",
       "  {'ridge__alpha': 5455594.781168515},\n",
       "  {'ridge__alpha': 14384498.882876601},\n",
       "  {'ridge__alpha': 37926901.90732246},\n",
       "  {'ridge__alpha': 100000000.0}],\n",
       " 'split0_test_score': array([0.01964818, 0.023353  , 0.02860975, 0.03486194, 0.04114875,\n",
       "        0.04709544, 0.05248917, 0.05773608, 0.06179912, 0.06149356,\n",
       "        0.05630644, 0.04906766, 0.04196232, 0.03506828, 0.02778151,\n",
       "        0.02051675, 0.01405607, 0.00872656, 0.0048661 , 0.00248683]),\n",
       " 'split1_test_score': array([-2.43391122, -2.28562458, -1.88771288, -1.0670392 , -0.27181913,\n",
       "        -0.09699183, -0.12606026, -0.07310082, -0.2724039 , -0.54702042,\n",
       "        -0.40814541, -0.13171248, -0.03630508, -0.02974974, -0.01912626,\n",
       "        -0.01097375, -0.00991281, -0.0093606 , -0.00814209, -0.00672573]),\n",
       " 'split2_test_score': array([0.02912168, 0.03029782, 0.03364877, 0.04052309, 0.05198447,\n",
       "        0.06670507, 0.07900634, 0.08392798, 0.08226186, 0.07616912,\n",
       "        0.06702418, 0.05647852, 0.04538901, 0.03431173, 0.0241747 ,\n",
       "        0.01592579, 0.01010141, 0.00614508, 0.0032901 , 0.00137438]),\n",
       " 'split3_test_score': array([-0.02760278, -0.02661565, -0.02304604, -0.01431878,  0.00150176,\n",
       "         0.02306926,  0.04497016,  0.061095  ,  0.0689803 ,  0.06874154,\n",
       "         0.06422223,  0.05862457,  0.05007978,  0.03968716,  0.03017293,\n",
       "         0.02209006,  0.01522176,  0.00959108,  0.00553868,  0.002986  ]),\n",
       " 'split4_test_score': array([-0.09527843, -0.10011791, -0.11353367, -0.13868318, -0.16662734,\n",
       "        -0.18191535, -0.18372714, -0.17609173, -0.15362418, -0.10348666,\n",
       "        -0.0302453 ,  0.0243379 ,  0.04317001,  0.0377506 ,  0.0241593 ,\n",
       "         0.01604028,  0.01308618,  0.00925848,  0.00513428,  0.00226332]),\n",
       " 'mean_test_score': array([-5.01604512e-01, -4.71741465e-01, -3.92406815e-01, -2.28931228e-01,\n",
       "        -6.87622994e-02, -2.84074830e-02, -2.66643441e-02, -9.28669731e-03,\n",
       "        -4.25973575e-02, -8.88205730e-02, -5.01675699e-02,  1.13592326e-02,\n",
       "         2.88592093e-02,  2.34136063e-02,  1.74324369e-02,  1.27198246e-02,\n",
       "         8.51052115e-03,  4.87212117e-03,  2.13741387e-03,  4.76961583e-04]),\n",
       " 'std_test_score': array([0.96715691, 0.9081382 , 0.749522  , 0.423986  , 0.12837983,\n",
       "        0.09556717, 0.10687501, 0.10003077, 0.14427476, 0.2386646 ,\n",
       "        0.18259281, 0.07256673, 0.03269991, 0.02665078, 0.01842102,\n",
       "        0.01209366, 0.00936675, 0.00721881, 0.00519601, 0.00363896]),\n",
       " 'rank_test_score': array([20, 19, 18, 17, 15, 12, 11, 10, 13, 16, 14,  5,  1,  2,  3,  4,  6,\n",
       "         7,  8,  9])}"
      ]
     },
     "execution_count": 153,
     "metadata": {},
     "output_type": "execute_result"
    }
   ],
   "source": [
    "numerical_polyreg_ridge_CVmodel.cv_results_"
   ]
  },
  {
   "cell_type": "code",
   "execution_count": 154,
   "metadata": {},
   "outputs": [],
   "source": [
    "#Let's try Lasso next:"
   ]
  },
  {
   "cell_type": "code",
   "execution_count": 155,
   "metadata": {},
   "outputs": [
    {
     "data": {
      "text/html": [
       "<style>div.sk-top-container {color: black;background-color: white;}div.sk-toggleable {background-color: white;}label.sk-toggleable__label {cursor: pointer;display: block;width: 100%;margin-bottom: 0;padding: 0.2em 0.3em;box-sizing: border-box;text-align: center;}div.sk-toggleable__content {max-height: 0;max-width: 0;overflow: hidden;text-align: left;background-color: #f0f8ff;}div.sk-toggleable__content pre {margin: 0.2em;color: black;border-radius: 0.25em;background-color: #f0f8ff;}input.sk-toggleable__control:checked~div.sk-toggleable__content {max-height: 200px;max-width: 100%;overflow: auto;}div.sk-estimator input.sk-toggleable__control:checked~label.sk-toggleable__label {background-color: #d4ebff;}div.sk-label input.sk-toggleable__control:checked~label.sk-toggleable__label {background-color: #d4ebff;}input.sk-hidden--visually {border: 0;clip: rect(1px 1px 1px 1px);clip: rect(1px, 1px, 1px, 1px);height: 1px;margin: -1px;overflow: hidden;padding: 0;position: absolute;width: 1px;}div.sk-estimator {font-family: monospace;background-color: #f0f8ff;margin: 0.25em 0.25em;border: 1px dotted black;border-radius: 0.25em;box-sizing: border-box;}div.sk-estimator:hover {background-color: #d4ebff;}div.sk-parallel-item::after {content: \"\";width: 100%;border-bottom: 1px solid gray;flex-grow: 1;}div.sk-label:hover label.sk-toggleable__label {background-color: #d4ebff;}div.sk-serial::before {content: \"\";position: absolute;border-left: 1px solid gray;box-sizing: border-box;top: 2em;bottom: 0;left: 50%;}div.sk-serial {display: flex;flex-direction: column;align-items: center;background-color: white;}div.sk-item {z-index: 1;}div.sk-parallel {display: flex;align-items: stretch;justify-content: center;background-color: white;}div.sk-parallel-item {display: flex;flex-direction: column;position: relative;background-color: white;}div.sk-parallel-item:first-child::after {align-self: flex-end;width: 50%;}div.sk-parallel-item:last-child::after {align-self: flex-start;width: 50%;}div.sk-parallel-item:only-child::after {width: 0;}div.sk-dashed-wrapped {border: 1px dashed gray;margin: 0.2em;box-sizing: border-box;padding-bottom: 0.1em;background-color: white;position: relative;}div.sk-label label {font-family: monospace;font-weight: bold;background-color: white;display: inline-block;line-height: 1.2em;}div.sk-label-container {position: relative;z-index: 2;text-align: center;}div.sk-container {display: inline-block;position: relative;}</style><div class=\"sk-top-container\"><div class=\"sk-container\"><div class=\"sk-item sk-dashed-wrapped\"><div class=\"sk-label-container\"><div class=\"sk-label sk-toggleable\"><input class=\"sk-toggleable__control sk-hidden--visually\" id=\"9fed86bd-e6b9-4ae8-b5e1-6286c2dbf6fc\" type=\"checkbox\" ><label class=\"sk-toggleable__label\" for=\"9fed86bd-e6b9-4ae8-b5e1-6286c2dbf6fc\">Pipeline</label><div class=\"sk-toggleable__content\"><pre>Pipeline(steps=[('numerical preproc',\n",
       "                 Pipeline(steps=[('numerical selector',\n",
       "                                  ColumnTransformer(transformers=[('numerical',\n",
       "                                                                   'passthrough',\n",
       "                                                                   ['num_favorers',\n",
       "                                                                    'featured_rank',\n",
       "                                                                    'max_dimension',\n",
       "                                                                    'aspect_ratio',\n",
       "                                                                    'area',\n",
       "                                                                    'weight',\n",
       "                                                                    'days_from_original_creation',\n",
       "                                                                    'days_from_last_modification'])])),\n",
       "                                 ('standard scaling', StandardScaler())])),\n",
       "                ('polynomial_trans',\n",
       "                 PolynomialFeatures(degree=3, include_bias=False)),\n",
       "                ('lasso', Lasso(alpha=1))])</pre></div></div></div><div class=\"sk-serial\"><div class=\"sk-item\"><div class=\"sk-label-container\"><div class=\"sk-label sk-toggleable\"><input class=\"sk-toggleable__control sk-hidden--visually\" id=\"0dd74955-b45c-4f88-ab13-3223353cdd07\" type=\"checkbox\" ><label class=\"sk-toggleable__label\" for=\"0dd74955-b45c-4f88-ab13-3223353cdd07\">numerical preproc: Pipeline</label><div class=\"sk-toggleable__content\"><pre>Pipeline(steps=[('numerical selector',\n",
       "                 ColumnTransformer(transformers=[('numerical', 'passthrough',\n",
       "                                                  ['num_favorers',\n",
       "                                                   'featured_rank',\n",
       "                                                   'max_dimension',\n",
       "                                                   'aspect_ratio', 'area',\n",
       "                                                   'weight',\n",
       "                                                   'days_from_original_creation',\n",
       "                                                   'days_from_last_modification'])])),\n",
       "                ('standard scaling', StandardScaler())])</pre></div></div></div><div class=\"sk-serial\"><div class=\"sk-item sk-dashed-wrapped\"><div class=\"sk-label-container\"><div class=\"sk-label sk-toggleable\"><input class=\"sk-toggleable__control sk-hidden--visually\" id=\"1b5f789b-a0da-4093-9c9c-337f6e616298\" type=\"checkbox\" ><label class=\"sk-toggleable__label\" for=\"1b5f789b-a0da-4093-9c9c-337f6e616298\">numerical selector: ColumnTransformer</label><div class=\"sk-toggleable__content\"><pre>ColumnTransformer(transformers=[('numerical', 'passthrough',\n",
       "                                 ['num_favorers', 'featured_rank',\n",
       "                                  'max_dimension', 'aspect_ratio', 'area',\n",
       "                                  'weight', 'days_from_original_creation',\n",
       "                                  'days_from_last_modification'])])</pre></div></div></div><div class=\"sk-parallel\"><div class=\"sk-parallel-item\"><div class=\"sk-item\"><div class=\"sk-label-container\"><div class=\"sk-label sk-toggleable\"><input class=\"sk-toggleable__control sk-hidden--visually\" id=\"652f9b97-6bbf-4166-9aa3-cdf747bc91f2\" type=\"checkbox\" ><label class=\"sk-toggleable__label\" for=\"652f9b97-6bbf-4166-9aa3-cdf747bc91f2\">numerical</label><div class=\"sk-toggleable__content\"><pre>['num_favorers', 'featured_rank', 'max_dimension', 'aspect_ratio', 'area', 'weight', 'days_from_original_creation', 'days_from_last_modification']</pre></div></div></div><div class=\"sk-serial\"><div class=\"sk-item\"><div class=\"sk-estimator sk-toggleable\"><input class=\"sk-toggleable__control sk-hidden--visually\" id=\"382c0384-147c-495a-a98c-6ea6cea4376a\" type=\"checkbox\" ><label class=\"sk-toggleable__label\" for=\"382c0384-147c-495a-a98c-6ea6cea4376a\">passthrough</label><div class=\"sk-toggleable__content\"><pre>passthrough</pre></div></div></div></div></div></div></div></div><div class=\"sk-item\"><div class=\"sk-estimator sk-toggleable\"><input class=\"sk-toggleable__control sk-hidden--visually\" id=\"9b96b115-b402-49b2-85df-609ddb6b8cd7\" type=\"checkbox\" ><label class=\"sk-toggleable__label\" for=\"9b96b115-b402-49b2-85df-609ddb6b8cd7\">StandardScaler</label><div class=\"sk-toggleable__content\"><pre>StandardScaler()</pre></div></div></div></div></div><div class=\"sk-item\"><div class=\"sk-estimator sk-toggleable\"><input class=\"sk-toggleable__control sk-hidden--visually\" id=\"3b485815-b4bb-458d-9c13-dc9e41221993\" type=\"checkbox\" ><label class=\"sk-toggleable__label\" for=\"3b485815-b4bb-458d-9c13-dc9e41221993\">PolynomialFeatures</label><div class=\"sk-toggleable__content\"><pre>PolynomialFeatures(degree=3, include_bias=False)</pre></div></div></div><div class=\"sk-item\"><div class=\"sk-estimator sk-toggleable\"><input class=\"sk-toggleable__control sk-hidden--visually\" id=\"75a31c43-82f1-4ff2-ac98-ebe77fb4cd05\" type=\"checkbox\" ><label class=\"sk-toggleable__label\" for=\"75a31c43-82f1-4ff2-ac98-ebe77fb4cd05\">Lasso</label><div class=\"sk-toggleable__content\"><pre>Lasso(alpha=1)</pre></div></div></div></div></div></div></div>"
      ],
      "text/plain": [
       "Pipeline(steps=[('numerical preproc',\n",
       "                 Pipeline(steps=[('numerical selector',\n",
       "                                  ColumnTransformer(transformers=[('numerical',\n",
       "                                                                   'passthrough',\n",
       "                                                                   ['num_favorers',\n",
       "                                                                    'featured_rank',\n",
       "                                                                    'max_dimension',\n",
       "                                                                    'aspect_ratio',\n",
       "                                                                    'area',\n",
       "                                                                    'weight',\n",
       "                                                                    'days_from_original_creation',\n",
       "                                                                    'days_from_last_modification'])])),\n",
       "                                 ('standard scaling', StandardScaler())])),\n",
       "                ('polynomial_trans',\n",
       "                 PolynomialFeatures(degree=3, include_bias=False)),\n",
       "                ('lasso', Lasso(alpha=1))])"
      ]
     },
     "execution_count": 155,
     "metadata": {},
     "output_type": "execute_result"
    }
   ],
   "source": [
    "from sklearn.linear_model import Lasso\n",
    "\n",
    "numerical_polyreg_lasso_pipe = Pipeline([('numerical preproc', numerical_preproc_pipe),\n",
    "                      ('polynomial_trans', PolynomialFeatures(degree=3,include_bias=False)),            \n",
    "                      ('lasso', Lasso(alpha=1))])\n",
    "\n",
    "numerical_polyreg_lasso_pipe"
   ]
  },
  {
   "cell_type": "code",
   "execution_count": 156,
   "metadata": {},
   "outputs": [],
   "source": [
    "from sklearn.model_selection import GridSearchCV\n",
    "\n",
    "#I will then need to search for the right alpha using Cross Validation:\n",
    "#Let's do a cross validation as before and see how well does this model perform:\n",
    "param_grid = {'lasso__alpha': np.linspace(0,10,1)} \n",
    "numerical_polyreg_lasso_CVmodel = GridSearchCV(numerical_polyreg_lasso_pipe, param_grid, cv=5, n_jobs=2, verbose=1)"
   ]
  },
  {
   "cell_type": "code",
   "execution_count": 157,
   "metadata": {},
   "outputs": [
    {
     "name": "stdout",
     "output_type": "stream",
     "text": [
      "Fitting 5 folds for each of 1 candidates, totalling 5 fits\n"
     ]
    },
    {
     "name": "stderr",
     "output_type": "stream",
     "text": [
      "[Parallel(n_jobs=2)]: Using backend LokyBackend with 2 concurrent workers.\n",
      "[Parallel(n_jobs=2)]: Done   5 out of   5 | elapsed:    6.2s finished\n",
      "C:\\Users\\matte\\anaconda3\\lib\\site-packages\\sklearn\\pipeline.py:335: UserWarning: With alpha=0, this algorithm does not converge well. You are advised to use the LinearRegression estimator\n",
      "  self._final_estimator.fit(Xt, y, **fit_params_last_step)\n",
      "C:\\Users\\matte\\anaconda3\\lib\\site-packages\\sklearn\\linear_model\\_coordinate_descent.py:529: UserWarning: Coordinate descent with no regularization may lead to unexpected results and is discouraged.\n",
      "  model = cd_fast.enet_coordinate_descent(\n",
      "C:\\Users\\matte\\anaconda3\\lib\\site-packages\\sklearn\\linear_model\\_coordinate_descent.py:529: ConvergenceWarning: Objective did not converge. You might want to increase the number of iterations. Duality gap: 94043860.21990487, tolerance: 20821.476132083513\n",
      "  model = cd_fast.enet_coordinate_descent(\n"
     ]
    },
    {
     "data": {
      "text/html": [
       "<style>div.sk-top-container {color: black;background-color: white;}div.sk-toggleable {background-color: white;}label.sk-toggleable__label {cursor: pointer;display: block;width: 100%;margin-bottom: 0;padding: 0.2em 0.3em;box-sizing: border-box;text-align: center;}div.sk-toggleable__content {max-height: 0;max-width: 0;overflow: hidden;text-align: left;background-color: #f0f8ff;}div.sk-toggleable__content pre {margin: 0.2em;color: black;border-radius: 0.25em;background-color: #f0f8ff;}input.sk-toggleable__control:checked~div.sk-toggleable__content {max-height: 200px;max-width: 100%;overflow: auto;}div.sk-estimator input.sk-toggleable__control:checked~label.sk-toggleable__label {background-color: #d4ebff;}div.sk-label input.sk-toggleable__control:checked~label.sk-toggleable__label {background-color: #d4ebff;}input.sk-hidden--visually {border: 0;clip: rect(1px 1px 1px 1px);clip: rect(1px, 1px, 1px, 1px);height: 1px;margin: -1px;overflow: hidden;padding: 0;position: absolute;width: 1px;}div.sk-estimator {font-family: monospace;background-color: #f0f8ff;margin: 0.25em 0.25em;border: 1px dotted black;border-radius: 0.25em;box-sizing: border-box;}div.sk-estimator:hover {background-color: #d4ebff;}div.sk-parallel-item::after {content: \"\";width: 100%;border-bottom: 1px solid gray;flex-grow: 1;}div.sk-label:hover label.sk-toggleable__label {background-color: #d4ebff;}div.sk-serial::before {content: \"\";position: absolute;border-left: 1px solid gray;box-sizing: border-box;top: 2em;bottom: 0;left: 50%;}div.sk-serial {display: flex;flex-direction: column;align-items: center;background-color: white;}div.sk-item {z-index: 1;}div.sk-parallel {display: flex;align-items: stretch;justify-content: center;background-color: white;}div.sk-parallel-item {display: flex;flex-direction: column;position: relative;background-color: white;}div.sk-parallel-item:first-child::after {align-self: flex-end;width: 50%;}div.sk-parallel-item:last-child::after {align-self: flex-start;width: 50%;}div.sk-parallel-item:only-child::after {width: 0;}div.sk-dashed-wrapped {border: 1px dashed gray;margin: 0.2em;box-sizing: border-box;padding-bottom: 0.1em;background-color: white;position: relative;}div.sk-label label {font-family: monospace;font-weight: bold;background-color: white;display: inline-block;line-height: 1.2em;}div.sk-label-container {position: relative;z-index: 2;text-align: center;}div.sk-container {display: inline-block;position: relative;}</style><div class=\"sk-top-container\"><div class=\"sk-container\"><div class=\"sk-item sk-dashed-wrapped\"><div class=\"sk-label-container\"><div class=\"sk-label sk-toggleable\"><input class=\"sk-toggleable__control sk-hidden--visually\" id=\"0d1261f7-5af3-45bb-9da8-83be3bc1a60c\" type=\"checkbox\" ><label class=\"sk-toggleable__label\" for=\"0d1261f7-5af3-45bb-9da8-83be3bc1a60c\">GridSearchCV</label><div class=\"sk-toggleable__content\"><pre>GridSearchCV(cv=5,\n",
       "             estimator=Pipeline(steps=[('numerical preproc',\n",
       "                                        Pipeline(steps=[('numerical selector',\n",
       "                                                         ColumnTransformer(transformers=[('numerical',\n",
       "                                                                                          'passthrough',\n",
       "                                                                                          ['num_favorers',\n",
       "                                                                                           'featured_rank',\n",
       "                                                                                           'max_dimension',\n",
       "                                                                                           'aspect_ratio',\n",
       "                                                                                           'area',\n",
       "                                                                                           'weight',\n",
       "                                                                                           'days_from_original_creation',\n",
       "                                                                                           'days_from_last_modification'])])),\n",
       "                                                        ('standard scaling',\n",
       "                                                         StandardScaler())])),\n",
       "                                       ('polynomial_trans',\n",
       "                                        PolynomialFeatures(degree=3,\n",
       "                                                           include_bias=False)),\n",
       "                                       ('lasso', Lasso(alpha=1))]),\n",
       "             n_jobs=2, param_grid={'lasso__alpha': array([0.])}, verbose=1)</pre></div></div></div><div class=\"sk-parallel\"><div class=\"sk-parallel-item\"><div class=\"sk-item\"><div class=\"sk-serial\"><div class=\"sk-item\"><div class=\"sk-serial\"><div class=\"sk-item\"><div class=\"sk-label-container\"><div class=\"sk-label sk-toggleable\"><input class=\"sk-toggleable__control sk-hidden--visually\" id=\"934c7133-58a1-4331-ae22-a924c307d690\" type=\"checkbox\" ><label class=\"sk-toggleable__label\" for=\"934c7133-58a1-4331-ae22-a924c307d690\">numerical preproc: Pipeline</label><div class=\"sk-toggleable__content\"><pre>Pipeline(steps=[('numerical selector',\n",
       "                 ColumnTransformer(transformers=[('numerical', 'passthrough',\n",
       "                                                  ['num_favorers',\n",
       "                                                   'featured_rank',\n",
       "                                                   'max_dimension',\n",
       "                                                   'aspect_ratio', 'area',\n",
       "                                                   'weight',\n",
       "                                                   'days_from_original_creation',\n",
       "                                                   'days_from_last_modification'])])),\n",
       "                ('standard scaling', StandardScaler())])</pre></div></div></div><div class=\"sk-serial\"><div class=\"sk-item sk-dashed-wrapped\"><div class=\"sk-label-container\"><div class=\"sk-label sk-toggleable\"><input class=\"sk-toggleable__control sk-hidden--visually\" id=\"da300833-563d-4c5c-8282-0547096f1020\" type=\"checkbox\" ><label class=\"sk-toggleable__label\" for=\"da300833-563d-4c5c-8282-0547096f1020\">numerical selector: ColumnTransformer</label><div class=\"sk-toggleable__content\"><pre>ColumnTransformer(transformers=[('numerical', 'passthrough',\n",
       "                                 ['num_favorers', 'featured_rank',\n",
       "                                  'max_dimension', 'aspect_ratio', 'area',\n",
       "                                  'weight', 'days_from_original_creation',\n",
       "                                  'days_from_last_modification'])])</pre></div></div></div><div class=\"sk-parallel\"><div class=\"sk-parallel-item\"><div class=\"sk-item\"><div class=\"sk-label-container\"><div class=\"sk-label sk-toggleable\"><input class=\"sk-toggleable__control sk-hidden--visually\" id=\"ee16a7e5-96a1-44e5-9045-5a70860b7e4a\" type=\"checkbox\" ><label class=\"sk-toggleable__label\" for=\"ee16a7e5-96a1-44e5-9045-5a70860b7e4a\">numerical</label><div class=\"sk-toggleable__content\"><pre>['num_favorers', 'featured_rank', 'max_dimension', 'aspect_ratio', 'area', 'weight', 'days_from_original_creation', 'days_from_last_modification']</pre></div></div></div><div class=\"sk-serial\"><div class=\"sk-item\"><div class=\"sk-estimator sk-toggleable\"><input class=\"sk-toggleable__control sk-hidden--visually\" id=\"873f8be9-836a-42c6-8455-71a9f9a21145\" type=\"checkbox\" ><label class=\"sk-toggleable__label\" for=\"873f8be9-836a-42c6-8455-71a9f9a21145\">passthrough</label><div class=\"sk-toggleable__content\"><pre>passthrough</pre></div></div></div></div></div></div></div></div><div class=\"sk-item\"><div class=\"sk-estimator sk-toggleable\"><input class=\"sk-toggleable__control sk-hidden--visually\" id=\"545428b1-21cb-4e2f-b2a9-b1e596286454\" type=\"checkbox\" ><label class=\"sk-toggleable__label\" for=\"545428b1-21cb-4e2f-b2a9-b1e596286454\">StandardScaler</label><div class=\"sk-toggleable__content\"><pre>StandardScaler()</pre></div></div></div></div></div><div class=\"sk-item\"><div class=\"sk-estimator sk-toggleable\"><input class=\"sk-toggleable__control sk-hidden--visually\" id=\"a6faed93-b68a-46f5-9a10-000f9a29d7fb\" type=\"checkbox\" ><label class=\"sk-toggleable__label\" for=\"a6faed93-b68a-46f5-9a10-000f9a29d7fb\">PolynomialFeatures</label><div class=\"sk-toggleable__content\"><pre>PolynomialFeatures(degree=3, include_bias=False)</pre></div></div></div><div class=\"sk-item\"><div class=\"sk-estimator sk-toggleable\"><input class=\"sk-toggleable__control sk-hidden--visually\" id=\"309407f8-438c-4bfc-8517-8f73869c3705\" type=\"checkbox\" ><label class=\"sk-toggleable__label\" for=\"309407f8-438c-4bfc-8517-8f73869c3705\">Lasso</label><div class=\"sk-toggleable__content\"><pre>Lasso(alpha=1)</pre></div></div></div></div></div></div></div></div></div></div></div></div>"
      ],
      "text/plain": [
       "GridSearchCV(cv=5,\n",
       "             estimator=Pipeline(steps=[('numerical preproc',\n",
       "                                        Pipeline(steps=[('numerical selector',\n",
       "                                                         ColumnTransformer(transformers=[('numerical',\n",
       "                                                                                          'passthrough',\n",
       "                                                                                          ['num_favorers',\n",
       "                                                                                           'featured_rank',\n",
       "                                                                                           'max_dimension',\n",
       "                                                                                           'aspect_ratio',\n",
       "                                                                                           'area',\n",
       "                                                                                           'weight',\n",
       "                                                                                           'days_from_original_creation',\n",
       "                                                                                           'days_from_last_modification'])])),\n",
       "                                                        ('standard scaling',\n",
       "                                                         StandardScaler())])),\n",
       "                                       ('polynomial_trans',\n",
       "                                        PolynomialFeatures(degree=3,\n",
       "                                                           include_bias=False)),\n",
       "                                       ('lasso', Lasso(alpha=1))]),\n",
       "             n_jobs=2, param_grid={'lasso__alpha': array([0.])}, verbose=1)"
      ]
     },
     "execution_count": 157,
     "metadata": {},
     "output_type": "execute_result"
    }
   ],
   "source": [
    "numerical_polyreg_lasso_CVmodel.fit(paintings_df_train,prices_train)"
   ]
  },
  {
   "cell_type": "code",
   "execution_count": 162,
   "metadata": {},
   "outputs": [
    {
     "data": {
      "text/plain": [
       "{'lasso__alpha': 0.0}"
      ]
     },
     "execution_count": 162,
     "metadata": {},
     "output_type": "execute_result"
    }
   ],
   "source": [
    "numerical_polyreg_lasso_CVmodel.best_params_"
   ]
  },
  {
   "cell_type": "code",
   "execution_count": null,
   "metadata": {},
   "outputs": [],
   "source": [
    "#By picking alpha=0, the model is saying that linear regression (with polynomial features) is the best choice. \n",
    "#However, we already know this overfits a bit the training data, and does not improve much the perofrmance w.r.t. pure linear model. "
   ]
  },
  {
   "cell_type": "code",
   "execution_count": 159,
   "metadata": {},
   "outputs": [
    {
     "data": {
      "text/plain": [
       "0.09666481258747983"
      ]
     },
     "execution_count": 159,
     "metadata": {},
     "output_type": "execute_result"
    }
   ],
   "source": [
    "#Predict prices on training set:\n",
    "prices_train_pred = numerical_polyreg_lasso_CVmodel.predict(paintings_df_train)\n",
    "#And return the R2 score as follows:\n",
    "numerical_polyreg_lasso_CVmodel.score(paintings_df_train,prices_train)"
   ]
  },
  {
   "cell_type": "code",
   "execution_count": 160,
   "metadata": {},
   "outputs": [
    {
     "data": {
      "text/plain": [
       "0.05811890705196254"
      ]
     },
     "execution_count": 160,
     "metadata": {},
     "output_type": "execute_result"
    }
   ],
   "source": [
    "#Predict prices on test set:\n",
    "prices_test_pred = numerical_polyreg_lasso_CVmodel.predict(paintings_df_test)\n",
    "#And return the R2 score as follows:\n",
    "numerical_polyreg_lasso_CVmodel.score(paintings_df_test,prices_test)"
   ]
  },
  {
   "cell_type": "code",
   "execution_count": 163,
   "metadata": {},
   "outputs": [
    {
     "name": "stdout",
     "output_type": "stream",
     "text": [
      "Polynomial Lasso regression model using only numerical features:\n",
      "Training R^2: 0.09666481258747983\n",
      "Testing R^2: 0.05811890705196254\n",
      "Training RMSE: USD 109.92026298783618\n",
      "Testing RMSE: USD 112.09743034993375\n",
      "Training MAE: USD 92.17825402854534\n",
      "Testing MAE: USD 92.95426647710445\n"
     ]
    }
   ],
   "source": [
    "print_all_scores_train_test(prices_train,prices_train_pred,prices_test,prices_test_pred,model_name='Polynomial Lasso regression model using only numerical features')"
   ]
  },
  {
   "cell_type": "code",
   "execution_count": 164,
   "metadata": {},
   "outputs": [
    {
     "data": {
      "text/plain": [
       "Text(0, 0.5, 'predicted prices (test)')"
      ]
     },
     "execution_count": 164,
     "metadata": {},
     "output_type": "execute_result"
    },
    {
     "data": {
      "image/png": "[encoded data removed]",
      "text/plain": [
       "<Figure size 432x288 with 1 Axes>"
      ]
     },
     "metadata": {
      "needs_background": "light"
     },
     "output_type": "display_data"
    }
   ],
   "source": [
    "plt.scatter(prices_test,prices_test_pred)\n",
    "plt.xlabel('actual prices (test)')\n",
    "plt.ylabel('predicted prices (test)')"
   ]
  },
  {
   "cell_type": "code",
   "execution_count": 165,
   "metadata": {},
   "outputs": [
    {
     "name": "stderr",
     "output_type": "stream",
     "text": [
      "C:\\Users\\matte\\anaconda3\\lib\\site-packages\\seaborn\\distributions.py:2551: FutureWarning: `distplot` is a deprecated function and will be removed in a future version. Please adapt your code to use either `displot` (a figure-level function with similar flexibility) or `histplot` (an axes-level function for histograms).\n",
      "  warnings.warn(msg, FutureWarning)\n"
     ]
    },
    {
     "data": {
      "image/png": "[encoded data removed]",
      "text/plain": [
       "<Figure size 432x288 with 1 Axes>"
      ]
     },
     "metadata": {
      "needs_background": "light"
     },
     "output_type": "display_data"
    }
   ],
   "source": [
    "#Plot residuals:\n",
    "sns.distplot((prices_test-prices_test_pred),bins=50);"
   ]
  },
  {
   "cell_type": "code",
   "execution_count": 169,
   "metadata": {},
   "outputs": [
    {
     "data": {
      "text/plain": [
       "389.98116926461955"
      ]
     },
     "execution_count": 169,
     "metadata": {},
     "output_type": "execute_result"
    }
   ],
   "source": [
    "#Let's look at the coefficients of the model\n",
    "# intercept\n",
    "numerical_polyreg_lasso_CVmodel.best_estimator_['lasso'].intercept_"
   ]
  },
  {
   "cell_type": "code",
   "execution_count": 176,
   "metadata": {},
   "outputs": [
    {
     "data": {
      "text/html": [
       "<div>\n",
       "<style scoped>\n",
       "    .dataframe tbody tr th:only-of-type {\n",
       "        vertical-align: middle;\n",
       "    }\n",
       "\n",
       "    .dataframe tbody tr th {\n",
       "        vertical-align: top;\n",
       "    }\n",
       "\n",
       "    .dataframe thead th {\n",
       "        text-align: right;\n",
       "    }\n",
       "</style>\n",
       "<table border=\"1\" class=\"dataframe\">\n",
       "  <thead>\n",
       "    <tr style=\"text-align: right;\">\n",
       "      <th></th>\n",
       "      <th>Lasso Reg Coeff</th>\n",
       "    </tr>\n",
       "  </thead>\n",
       "  <tbody>\n",
       "    <tr>\n",
       "      <th>4</th>\n",
       "      <td>29.613393</td>\n",
       "    </tr>\n",
       "    <tr>\n",
       "      <th>134</th>\n",
       "      <td>23.217979</td>\n",
       "    </tr>\n",
       "    <tr>\n",
       "      <th>61</th>\n",
       "      <td>21.388187</td>\n",
       "    </tr>\n",
       "    <tr>\n",
       "      <th>10</th>\n",
       "      <td>20.359942</td>\n",
       "    </tr>\n",
       "    <tr>\n",
       "      <th>17</th>\n",
       "      <td>18.993093</td>\n",
       "    </tr>\n",
       "    <tr>\n",
       "      <th>...</th>\n",
       "      <td>...</td>\n",
       "    </tr>\n",
       "    <tr>\n",
       "      <th>12</th>\n",
       "      <td>-13.647082</td>\n",
       "    </tr>\n",
       "    <tr>\n",
       "      <th>19</th>\n",
       "      <td>-14.577884</td>\n",
       "    </tr>\n",
       "    <tr>\n",
       "      <th>36</th>\n",
       "      <td>-18.540016</td>\n",
       "    </tr>\n",
       "    <tr>\n",
       "      <th>115</th>\n",
       "      <td>-24.515830</td>\n",
       "    </tr>\n",
       "    <tr>\n",
       "      <th>30</th>\n",
       "      <td>-25.672416</td>\n",
       "    </tr>\n",
       "  </tbody>\n",
       "</table>\n",
       "<p>164 rows × 1 columns</p>\n",
       "</div>"
      ],
      "text/plain": [
       "     Lasso Reg Coeff\n",
       "4          29.613393\n",
       "134        23.217979\n",
       "61         21.388187\n",
       "10         20.359942\n",
       "17         18.993093\n",
       "..               ...\n",
       "12        -13.647082\n",
       "19        -14.577884\n",
       "36        -18.540016\n",
       "115       -24.515830\n",
       "30        -25.672416\n",
       "\n",
       "[164 rows x 1 columns]"
      ]
     },
     "execution_count": 176,
     "metadata": {},
     "output_type": "execute_result"
    }
   ],
   "source": [
    "#coefficients for each variable:\n",
    "coeff_df = pd.DataFrame(numerical_polyreg_lasso_CVmodel.best_estimator_['lasso'].coef_,columns=['Lasso Reg Coeff']) #numerical_columns,\n",
    "coeff_df.sort_values(by='Lasso Reg Coeff', ascending=False)"
   ]
  },
  {
   "cell_type": "code",
   "execution_count": null,
   "metadata": {},
   "outputs": [],
   "source": [
    "### The best linear model using only numerical variables seems to be the basic Linear Regression model, so I save it (unless alread done so)"
   ]
  },
  {
   "cell_type": "code",
   "execution_count": null,
   "metadata": {},
   "outputs": [],
   "source": [
    "#To save the trained model:\n",
    "from joblib import dump, load\n",
    "dump(model, 'filename.joblib') "
   ]
  },
  {
   "cell_type": "code",
   "execution_count": null,
   "metadata": {},
   "outputs": [],
   "source": [
    "#To load the model later:\n",
    "clf = load('filename.joblib') "
   ]
  },
  {
   "cell_type": "code",
   "execution_count": null,
   "metadata": {},
   "outputs": [],
   "source": [
    "#I will save the model with dill after fitting the model the first time, then I will load it from memory the following times\n",
    "from joblib import dump, load\n",
    "\n",
    "load('numerical_linreg_pipe.joblib') \n",
    "\n",
    "#If the model file already exists, I load it:\n",
    "try:\n",
    "    with open('numerical_linreg_pipe.joblib', 'rb') as f:\n",
    "        numerical_linreg_pipe = load(f)\n",
    "        print('Loaded pickle file with numerical-only linear regression.')\n",
    "except: #if not, actually perform the fit then save the model for next time:\n",
    "    \n",
    "    numerical_linreg_pipe.fit(paintings_df_train,prices_train);\n",
    "    \n",
    "    with open('numerical_linreg_pipe.joblib', 'wb') as f:\n",
    "        dump(numerical_linreg_pipe, 'numerical_linreg_pipe.joblib') \n",
    "    print('Saved pickle file with numerical-only linear regression.')\n",
    "\n",
    "# #Version with dill\n",
    "\n",
    "# import dill\n",
    "\n",
    "# #If the model file already exists, I load it:\n",
    "# try:\n",
    "#     with open('lat_long_model.dill', 'rb') as f:\n",
    "#         lat_long_model = dill.load(f)\n",
    "#         print('Loaded pickle file with lat-long model.')\n",
    "# except: #if not, actually perform the fit then save the model for next time:\n",
    "    \n",
    "#     lat_long_model.fit(data_shuffled, star_ratings_shuffled)\n",
    "    \n",
    "#     with open('lat_long_model.dill', 'wb') as f:\n",
    "#         dill.dump(lat_long_model, f)\n",
    "#     print('Saved pickle file with lat-long model.')\n"
   ]
  },
  {
   "cell_type": "markdown",
   "metadata": {},
   "source": [
    "## 2) Models using only categorical features"
   ]
  },
  {
   "cell_type": "code",
   "execution_count": null,
   "metadata": {},
   "outputs": [],
   "source": [
    "#TO be continued..."
   ]
  },
  {
   "cell_type": "code",
   "execution_count": null,
   "metadata": {},
   "outputs": [],
   "source": []
  },
  {
   "cell_type": "code",
   "execution_count": null,
   "metadata": {},
   "outputs": [],
   "source": []
  },
  {
   "cell_type": "code",
   "execution_count": null,
   "metadata": {},
   "outputs": [],
   "source": []
  },
  {
   "cell_type": "code",
   "execution_count": null,
   "metadata": {},
   "outputs": [],
   "source": []
  },
  {
   "cell_type": "markdown",
   "metadata": {},
   "source": [
    "## n) Nearest Neighbors Regression"
   ]
  },
  {
   "cell_type": "markdown",
   "metadata": {
    "slideshow": null
   },
   "source": [
    "Now, let's feed the output of the transformer in to a `KNeighborsRegressor`. As a sanity check, we'll test it with the first 5 rows."
   ]
  },
  {
   "cell_type": "code",
   "execution_count": 34,
   "metadata": {
    "slideshow": null
   },
   "outputs": [
    {
     "data": {
      "text/plain": [
       "array([4. , 4.2, 4. , 3.8, 4.2])"
      ]
     },
     "execution_count": 34,
     "metadata": {},
     "output_type": "execute_result"
    }
   ],
   "source": [
    "from sklearn.neighbors import KNeighborsRegressor\n",
    "\n",
    "# Training the model\n",
    "data_transform = to_data_frame.transform(data)\n",
    "data_transform = selector.fit_transform(data_transform)\n",
    "knn = KNeighborsRegressor(n_neighbors=5)\n",
    "knn.fit(data_transform, star_ratings)\n",
    "\n",
    "# Making predictions\n",
    "test_data = data[:5]\n",
    "test_data_transform = to_data_frame.transform(test_data)\n",
    "test_data_transform = selector.transform(test_data_transform)\n",
    "knn.predict(test_data_transform)"
   ]
  },
  {
   "cell_type": "markdown",
   "metadata": {
    "slideshow": null
   },
   "source": [
    "We are not ready to submit to the grader; there are two things we still need to do:\n",
    "1. Wrap all the steps necessary to go from our data (list of dictionaries) to predicted ratings\n",
    "1. Determine the optimal value for our predictor's hyperparameter\n",
    "\n",
    "For the first point, we will use a pipeline, ensuring that our model applies all the required transformations given the form of the input data. Remember that a pipeline is made with a list of `(step_name, estimator)` tuples."
   ]
  },
  {
   "cell_type": "code",
   "execution_count": 35,
   "metadata": {
    "slideshow": null
   },
   "outputs": [],
   "source": [
    "from sklearn.pipeline import Pipeline\n",
    "\n",
    "pipe = Pipeline([\n",
    "    ('to dataframe', ToDataFrame()),\n",
    "    ('lat long selector', selector),\n",
    "    ('regressor',KNeighborsRegressor(n_neighbors=5))\n",
    "])\n",
    "\n"
   ]
  },
  {
   "cell_type": "code",
   "execution_count": 36,
   "metadata": {},
   "outputs": [
    {
     "data": {
      "text/html": [
       "<style>div.sk-top-container {color: black;background-color: white;}div.sk-toggleable {background-color: white;}label.sk-toggleable__label {cursor: pointer;display: block;width: 100%;margin-bottom: 0;padding: 0.2em 0.3em;box-sizing: border-box;text-align: center;}div.sk-toggleable__content {max-height: 0;max-width: 0;overflow: hidden;text-align: left;background-color: #f0f8ff;}div.sk-toggleable__content pre {margin: 0.2em;color: black;border-radius: 0.25em;background-color: #f0f8ff;}input.sk-toggleable__control:checked~div.sk-toggleable__content {max-height: 200px;max-width: 100%;overflow: auto;}div.sk-estimator input.sk-toggleable__control:checked~label.sk-toggleable__label {background-color: #d4ebff;}div.sk-label input.sk-toggleable__control:checked~label.sk-toggleable__label {background-color: #d4ebff;}input.sk-hidden--visually {border: 0;clip: rect(1px 1px 1px 1px);clip: rect(1px, 1px, 1px, 1px);height: 1px;margin: -1px;overflow: hidden;padding: 0;position: absolute;width: 1px;}div.sk-estimator {font-family: monospace;background-color: #f0f8ff;margin: 0.25em 0.25em;border: 1px dotted black;border-radius: 0.25em;box-sizing: border-box;}div.sk-estimator:hover {background-color: #d4ebff;}div.sk-parallel-item::after {content: \"\";width: 100%;border-bottom: 1px solid gray;flex-grow: 1;}div.sk-label:hover label.sk-toggleable__label {background-color: #d4ebff;}div.sk-serial::before {content: \"\";position: absolute;border-left: 1px solid gray;box-sizing: border-box;top: 2em;bottom: 0;left: 50%;}div.sk-serial {display: flex;flex-direction: column;align-items: center;background-color: white;}div.sk-item {z-index: 1;}div.sk-parallel {display: flex;align-items: stretch;justify-content: center;background-color: white;}div.sk-parallel-item {display: flex;flex-direction: column;position: relative;background-color: white;}div.sk-parallel-item:first-child::after {align-self: flex-end;width: 50%;}div.sk-parallel-item:last-child::after {align-self: flex-start;width: 50%;}div.sk-parallel-item:only-child::after {width: 0;}div.sk-dashed-wrapped {border: 1px dashed gray;margin: 0.2em;box-sizing: border-box;padding-bottom: 0.1em;background-color: white;position: relative;}div.sk-label label {font-family: monospace;font-weight: bold;background-color: white;display: inline-block;line-height: 1.2em;}div.sk-label-container {position: relative;z-index: 2;text-align: center;}div.sk-container {display: inline-block;position: relative;}</style><div class=\"sk-top-container\"><div class=\"sk-container\"><div class=\"sk-item sk-dashed-wrapped\"><div class=\"sk-label-container\"><div class=\"sk-label sk-toggleable\"><input class=\"sk-toggleable__control sk-hidden--visually\" id=\"abdca975-68f1-4b37-a9d1-a9a858cb1910\" type=\"checkbox\" ><label class=\"sk-toggleable__label\" for=\"abdca975-68f1-4b37-a9d1-a9a858cb1910\">Pipeline</label><div class=\"sk-toggleable__content\"><pre>Pipeline(steps=[('to dataframe', ToDataFrame()),\n",
       "                ('lat long selector',\n",
       "                 ColumnTransformer(transformers=[('lat_long', 'passthrough',\n",
       "                                                  ['latitude', 'longitude']),\n",
       "                                                 ('other', 'drop',\n",
       "                                                  ['business_id',\n",
       "                                                   'full_address', 'hours',\n",
       "                                                   'open', 'categories', 'city',\n",
       "                                                   'review_count', 'name',\n",
       "                                                   'neighborhoods', 'state',\n",
       "                                                   'stars', 'attributes',\n",
       "                                                   'type'])])),\n",
       "                ('regressor', KNeighborsRegressor())])</pre></div></div></div><div class=\"sk-serial\"><div class=\"sk-item\"><div class=\"sk-estimator sk-toggleable\"><input class=\"sk-toggleable__control sk-hidden--visually\" id=\"fd7d8a14-35f7-48b0-a45e-cf1f3de429b9\" type=\"checkbox\" ><label class=\"sk-toggleable__label\" for=\"fd7d8a14-35f7-48b0-a45e-cf1f3de429b9\">ToDataFrame</label><div class=\"sk-toggleable__content\"><pre>ToDataFrame()</pre></div></div></div><div class=\"sk-item sk-dashed-wrapped\"><div class=\"sk-label-container\"><div class=\"sk-label sk-toggleable\"><input class=\"sk-toggleable__control sk-hidden--visually\" id=\"41cdafe1-1799-494d-abc0-46af2b3bdda8\" type=\"checkbox\" ><label class=\"sk-toggleable__label\" for=\"41cdafe1-1799-494d-abc0-46af2b3bdda8\">lat long selector: ColumnTransformer</label><div class=\"sk-toggleable__content\"><pre>ColumnTransformer(transformers=[('lat_long', 'passthrough',\n",
       "                                 ['latitude', 'longitude']),\n",
       "                                ('other', 'drop',\n",
       "                                 ['business_id', 'full_address', 'hours',\n",
       "                                  'open', 'categories', 'city', 'review_count',\n",
       "                                  'name', 'neighborhoods', 'state', 'stars',\n",
       "                                  'attributes', 'type'])])</pre></div></div></div><div class=\"sk-parallel\"><div class=\"sk-parallel-item\"><div class=\"sk-item\"><div class=\"sk-label-container\"><div class=\"sk-label sk-toggleable\"><input class=\"sk-toggleable__control sk-hidden--visually\" id=\"47d36a53-0b05-4d6a-9b39-21ad03fdeebb\" type=\"checkbox\" ><label class=\"sk-toggleable__label\" for=\"47d36a53-0b05-4d6a-9b39-21ad03fdeebb\">lat_long</label><div class=\"sk-toggleable__content\"><pre>['latitude', 'longitude']</pre></div></div></div><div class=\"sk-serial\"><div class=\"sk-item\"><div class=\"sk-estimator sk-toggleable\"><input class=\"sk-toggleable__control sk-hidden--visually\" id=\"bd893f7e-0ff7-41f2-9c2f-55dc69095364\" type=\"checkbox\" ><label class=\"sk-toggleable__label\" for=\"bd893f7e-0ff7-41f2-9c2f-55dc69095364\">passthrough</label><div class=\"sk-toggleable__content\"><pre>passthrough</pre></div></div></div></div></div></div><div class=\"sk-parallel-item\"><div class=\"sk-item\"><div class=\"sk-label-container\"><div class=\"sk-label sk-toggleable\"><input class=\"sk-toggleable__control sk-hidden--visually\" id=\"d9bd2b6e-e7a6-417a-b15b-a9fdfe55a78d\" type=\"checkbox\" ><label class=\"sk-toggleable__label\" for=\"d9bd2b6e-e7a6-417a-b15b-a9fdfe55a78d\">other</label><div class=\"sk-toggleable__content\"><pre>['business_id', 'full_address', 'hours', 'open', 'categories', 'city', 'review_count', 'name', 'neighborhoods', 'state', 'stars', 'attributes', 'type']</pre></div></div></div><div class=\"sk-serial\"><div class=\"sk-item\"><div class=\"sk-estimator sk-toggleable\"><input class=\"sk-toggleable__control sk-hidden--visually\" id=\"23d095a0-91be-4ca0-b13f-4247b45341bc\" type=\"checkbox\" ><label class=\"sk-toggleable__label\" for=\"23d095a0-91be-4ca0-b13f-4247b45341bc\">drop</label><div class=\"sk-toggleable__content\"><pre>drop</pre></div></div></div></div></div></div></div></div><div class=\"sk-item\"><div class=\"sk-estimator sk-toggleable\"><input class=\"sk-toggleable__control sk-hidden--visually\" id=\"f9b78cda-20a9-4e80-8a43-7e85e9ed66c1\" type=\"checkbox\" ><label class=\"sk-toggleable__label\" for=\"f9b78cda-20a9-4e80-8a43-7e85e9ed66c1\">KNeighborsRegressor</label><div class=\"sk-toggleable__content\"><pre>KNeighborsRegressor()</pre></div></div></div></div></div></div></div>"
      ],
      "text/plain": [
       "Pipeline(steps=[('to dataframe', ToDataFrame()),\n",
       "                ('lat long selector',\n",
       "                 ColumnTransformer(transformers=[('lat_long', 'passthrough',\n",
       "                                                  ['latitude', 'longitude']),\n",
       "                                                 ('other', 'drop',\n",
       "                                                  ['business_id',\n",
       "                                                   'full_address', 'hours',\n",
       "                                                   'open', 'categories', 'city',\n",
       "                                                   'review_count', 'name',\n",
       "                                                   'neighborhoods', 'state',\n",
       "                                                   'stars', 'attributes',\n",
       "                                                   'type'])])),\n",
       "                ('regressor', KNeighborsRegressor())])"
      ]
     },
     "execution_count": 36,
     "metadata": {},
     "output_type": "execute_result"
    }
   ],
   "source": [
    "from sklearn import set_config\n",
    "set_config(display='diagram')\n",
    "\n",
    "pipe\n"
   ]
  },
  {
   "cell_type": "code",
   "execution_count": 37,
   "metadata": {},
   "outputs": [
    {
     "data": {
      "text/plain": [
       "{'to dataframe': ToDataFrame(),\n",
       " 'lat long selector': ColumnTransformer(transformers=[('lat_long', 'passthrough',\n",
       "                                  ['latitude', 'longitude']),\n",
       "                                 ('other', 'drop',\n",
       "                                  ['business_id', 'full_address', 'hours',\n",
       "                                   'open', 'categories', 'city', 'review_count',\n",
       "                                   'name', 'neighborhoods', 'state', 'stars',\n",
       "                                   'attributes', 'type'])]),\n",
       " 'regressor': KNeighborsRegressor()}"
      ]
     },
     "execution_count": 37,
     "metadata": {},
     "output_type": "execute_result"
    }
   ],
   "source": [
    "#can access the steps by name:\n",
    "pipe.named_steps"
   ]
  },
  {
   "cell_type": "code",
   "execution_count": 38,
   "metadata": {},
   "outputs": [
    {
     "data": {
      "text/plain": [
       "{'memory': None,\n",
       " 'steps': [('to dataframe', ToDataFrame()),\n",
       "  ('lat long selector',\n",
       "   ColumnTransformer(transformers=[('lat_long', 'passthrough',\n",
       "                                    ['latitude', 'longitude']),\n",
       "                                   ('other', 'drop',\n",
       "                                    ['business_id', 'full_address', 'hours',\n",
       "                                     'open', 'categories', 'city', 'review_count',\n",
       "                                     'name', 'neighborhoods', 'state', 'stars',\n",
       "                                     'attributes', 'type'])])),\n",
       "  ('regressor', KNeighborsRegressor())],\n",
       " 'verbose': False,\n",
       " 'to dataframe': ToDataFrame(),\n",
       " 'lat long selector': ColumnTransformer(transformers=[('lat_long', 'passthrough',\n",
       "                                  ['latitude', 'longitude']),\n",
       "                                 ('other', 'drop',\n",
       "                                  ['business_id', 'full_address', 'hours',\n",
       "                                   'open', 'categories', 'city', 'review_count',\n",
       "                                   'name', 'neighborhoods', 'state', 'stars',\n",
       "                                   'attributes', 'type'])]),\n",
       " 'regressor': KNeighborsRegressor(),\n",
       " 'lat long selector__n_jobs': None,\n",
       " 'lat long selector__remainder': 'drop',\n",
       " 'lat long selector__sparse_threshold': 0.3,\n",
       " 'lat long selector__transformer_weights': None,\n",
       " 'lat long selector__transformers': [('lat_long',\n",
       "   'passthrough',\n",
       "   ['latitude', 'longitude']),\n",
       "  ('other',\n",
       "   'drop',\n",
       "   ['business_id',\n",
       "    'full_address',\n",
       "    'hours',\n",
       "    'open',\n",
       "    'categories',\n",
       "    'city',\n",
       "    'review_count',\n",
       "    'name',\n",
       "    'neighborhoods',\n",
       "    'state',\n",
       "    'stars',\n",
       "    'attributes',\n",
       "    'type'])],\n",
       " 'lat long selector__verbose': False,\n",
       " 'lat long selector__lat_long': 'passthrough',\n",
       " 'lat long selector__other': 'drop',\n",
       " 'regressor__algorithm': 'auto',\n",
       " 'regressor__leaf_size': 30,\n",
       " 'regressor__metric': 'minkowski',\n",
       " 'regressor__metric_params': None,\n",
       " 'regressor__n_jobs': None,\n",
       " 'regressor__n_neighbors': 5,\n",
       " 'regressor__p': 2,\n",
       " 'regressor__weights': 'uniform'}"
      ]
     },
     "execution_count": 38,
     "metadata": {},
     "output_type": "execute_result"
    }
   ],
   "source": [
    "#and see the parameters with (I guess only after fitting..)\n",
    "pipe.get_params()"
   ]
  },
  {
   "cell_type": "markdown",
   "metadata": {
    "slideshow": null
   },
   "source": [
    "Now let's fit and predict."
   ]
  },
  {
   "cell_type": "code",
   "execution_count": 39,
   "metadata": {
    "slideshow": null
   },
   "outputs": [
    {
     "data": {
      "text/plain": [
       "array([4. , 4.2, 4. , 3.8, 4.2])"
      ]
     },
     "execution_count": 39,
     "metadata": {},
     "output_type": "execute_result"
    }
   ],
   "source": [
    "pipe.fit(data, star_ratings)\n",
    "pipe.predict(data[:5])"
   ]
  },
  {
   "cell_type": "markdown",
   "metadata": {
    "slideshow": null
   },
   "source": [
    "Let's now focus on the second point. The `KNeighborsRegressor` takes the `n_neighbors` hyperparameter, which tells it how many nearest neighbors to average together when making a prediction. There is no reason to believe that 5 is the optimum value. We will need to determine a better value for this hyperparameter. A common approach is to use a hyperparameter searching tool such as [`GridSearchCV`](http://scikit-learn.org/stable/modules/generated/sklearn.model_selection.GridSearchCV.html#sklearn.model_selection.GridSearchCV). You may need to refer back to the notebooks about the ways to interface searching tools and pipelines."
   ]
  },
  {
   "cell_type": "markdown",
   "metadata": {
    "slideshow": null
   },
   "source": [
    "You should consider whether the data needs to be shuffled as it might not have been randomized. For example, the data could be ordered by a certain feature or by the labels. If you perform a train/test split with [`train_test_split`](http://scikit-learn.org/stable/modules/generated/sklearn.model_selection.train_test_split.html#sklearn.model_selection.train_test_split), the data is shuffled by default. However, when using `GridSearchCV`, the folds are not shuffled when you use the default K-folds cross-validation.\n",
    "\n",
    "The code below will plot a rolling mean of the star ratings. Do you need to shuffle the data?"
   ]
  },
  {
   "cell_type": "code",
   "execution_count": 40,
   "metadata": {
    "slideshow": null
   },
   "outputs": [
    {
     "data": {
      "image/png": "[encoded data removed]",
      "text/plain": [
       "<Figure size 432x288 with 1 Axes>"
      ]
     },
     "metadata": {},
     "output_type": "display_data"
    }
   ],
   "source": [
    "from pandas import Series\n",
    "import matplotlib.pyplot as plt\n",
    "\n",
    "plt.plot(Series.rolling(Series(star_ratings), window=1000).mean());"
   ]
  },
  {
   "cell_type": "markdown",
   "metadata": {
    "slideshow": null
   },
   "source": [
    "Once you've found a good value of `n_neighbors`, submit the model to the grader. Note, \"good\" is a relative measure here. The reference solution has an $R^2$ score of only 0.02. There is just rather little signal available for modeling."
   ]
  },
  {
   "cell_type": "code",
   "execution_count": 41,
   "metadata": {
    "slideshow": null
   },
   "outputs": [],
   "source": [
    "from sklearn.model_selection import GridSearchCV\n",
    "\n",
    "param_grid = {'regressor__n_neighbors': range(1, 80, 2)} \n",
    "lat_long_model = GridSearchCV(pipe, param_grid, cv=5, n_jobs=2, verbose=1)\n",
    "\n",
    "#Doing the following directly, without reshuffling the data, gave crappy results so I am commenting it now \n",
    "#lat_long_model.fit(data, star_ratings)"
   ]
  },
  {
   "cell_type": "code",
   "execution_count": 42,
   "metadata": {},
   "outputs": [
    {
     "data": {
      "text/plain": [
       "37938"
      ]
     },
     "execution_count": 42,
     "metadata": {},
     "output_type": "execute_result"
    }
   ],
   "source": [
    "len(df.index)"
   ]
  },
  {
   "cell_type": "code",
   "execution_count": 43,
   "metadata": {},
   "outputs": [],
   "source": [
    "#Let's try to train the pipeline on shuffled data, since the estimator was performly so poorly \n",
    "#(as it would have picked up the monotonic relation in the training set, which would then make it perform\n",
    "#poorly on the test data that don't have that monotonic relation)"
   ]
  },
  {
   "cell_type": "code",
   "execution_count": 44,
   "metadata": {},
   "outputs": [],
   "source": [
    "shuffle_rows_idx = np.random.RandomState(seed=101).permutation(len(df.index))"
   ]
  },
  {
   "cell_type": "code",
   "execution_count": 45,
   "metadata": {},
   "outputs": [
    {
     "data": {
      "text/plain": [
       "37938"
      ]
     },
     "execution_count": 45,
     "metadata": {},
     "output_type": "execute_result"
    }
   ],
   "source": [
    "len(shuffle_rows_idx)"
   ]
  },
  {
   "cell_type": "code",
   "execution_count": 46,
   "metadata": {},
   "outputs": [
    {
     "data": {
      "text/plain": [
       "array([27749, 37472, 27631,  6094, 13092, 17414, 18069, 28532, 12465,\n",
       "        4666])"
      ]
     },
     "execution_count": 46,
     "metadata": {},
     "output_type": "execute_result"
    }
   ],
   "source": [
    "shuffle_rows_idx[:10]"
   ]
  },
  {
   "cell_type": "code",
   "execution_count": 47,
   "metadata": {},
   "outputs": [],
   "source": [
    "#Apply the same reshuffling to the rows of the 'data' dataframe and the array of labels"
   ]
  },
  {
   "cell_type": "code",
   "execution_count": 48,
   "metadata": {},
   "outputs": [],
   "source": [
    "data_shuffled = [data[i] for i in shuffle_rows_idx]"
   ]
  },
  {
   "cell_type": "code",
   "execution_count": 49,
   "metadata": {},
   "outputs": [
    {
     "data": {
      "text/plain": [
       "{'business_id': 'yaMFJWd8aDipVDRNZjxaPA',\n",
       " 'full_address': 'The Balmoral Hotel\\n1 Princes St\\nOld Town\\nEdinburgh EH2 2EQ',\n",
       " 'hours': {'Monday': {'close': '00:00', 'open': '09:00'},\n",
       "  'Tuesday': {'close': '00:00', 'open': '09:00'},\n",
       "  'Friday': {'close': '00:00', 'open': '09:00'},\n",
       "  'Wednesday': {'close': '00:00', 'open': '09:00'},\n",
       "  'Thursday': {'close': '00:00', 'open': '09:00'},\n",
       "  'Sunday': {'close': '00:00', 'open': '09:00'},\n",
       "  'Saturday': {'close': '00:00', 'open': '09:00'}},\n",
       " 'open': True,\n",
       " 'categories': ['Food', 'Coffee & Tea'],\n",
       " 'city': 'Edinburgh',\n",
       " 'review_count': 5,\n",
       " 'name': 'Palm Court',\n",
       " 'neighborhoods': ['Old Town'],\n",
       " 'longitude': -3.189613,\n",
       " 'state': 'EDH',\n",
       " 'stars': 4.0,\n",
       " 'latitude': 55.9526566,\n",
       " 'attributes': {'Wi-Fi': 'paid',\n",
       "  'Price Range': 4,\n",
       "  'Alcohol': 'full_bar',\n",
       "  'Coat Check': True,\n",
       "  'Happy Hour': False,\n",
       "  'Outdoor Seating': False,\n",
       "  'Parking': {'garage': False,\n",
       "   'street': False,\n",
       "   'validated': False,\n",
       "   'lot': False,\n",
       "   'valet': False},\n",
       "  'Accepts Credit Cards': True,\n",
       "  'Wheelchair Accessible': True},\n",
       " 'type': 'business'}"
      ]
     },
     "execution_count": 49,
     "metadata": {},
     "output_type": "execute_result"
    }
   ],
   "source": [
    "data_shuffled[0]"
   ]
  },
  {
   "cell_type": "code",
   "execution_count": 50,
   "metadata": {},
   "outputs": [
    {
     "data": {
      "text/plain": [
       "{'business_id': 'yaMFJWd8aDipVDRNZjxaPA',\n",
       " 'full_address': 'The Balmoral Hotel\\n1 Princes St\\nOld Town\\nEdinburgh EH2 2EQ',\n",
       " 'hours': {'Monday': {'close': '00:00', 'open': '09:00'},\n",
       "  'Tuesday': {'close': '00:00', 'open': '09:00'},\n",
       "  'Friday': {'close': '00:00', 'open': '09:00'},\n",
       "  'Wednesday': {'close': '00:00', 'open': '09:00'},\n",
       "  'Thursday': {'close': '00:00', 'open': '09:00'},\n",
       "  'Sunday': {'close': '00:00', 'open': '09:00'},\n",
       "  'Saturday': {'close': '00:00', 'open': '09:00'}},\n",
       " 'open': True,\n",
       " 'categories': ['Food', 'Coffee & Tea'],\n",
       " 'city': 'Edinburgh',\n",
       " 'review_count': 5,\n",
       " 'name': 'Palm Court',\n",
       " 'neighborhoods': ['Old Town'],\n",
       " 'longitude': -3.189613,\n",
       " 'state': 'EDH',\n",
       " 'stars': 4.0,\n",
       " 'latitude': 55.9526566,\n",
       " 'attributes': {'Wi-Fi': 'paid',\n",
       "  'Price Range': 4,\n",
       "  'Alcohol': 'full_bar',\n",
       "  'Coat Check': True,\n",
       "  'Happy Hour': False,\n",
       "  'Outdoor Seating': False,\n",
       "  'Parking': {'garage': False,\n",
       "   'street': False,\n",
       "   'validated': False,\n",
       "   'lot': False,\n",
       "   'valet': False},\n",
       "  'Accepts Credit Cards': True,\n",
       "  'Wheelchair Accessible': True},\n",
       " 'type': 'business'}"
      ]
     },
     "execution_count": 50,
     "metadata": {},
     "output_type": "execute_result"
    }
   ],
   "source": [
    "data[27749]"
   ]
  },
  {
   "cell_type": "code",
   "execution_count": 51,
   "metadata": {},
   "outputs": [],
   "source": [
    "star_ratings_shuffled = star_ratings.copy()\n",
    "\n",
    "for i, i_shuf in enumerate(shuffle_rows_idx):\n",
    "    star_ratings_shuffled[i] = star_ratings[i_shuf]"
   ]
  },
  {
   "cell_type": "code",
   "execution_count": 52,
   "metadata": {},
   "outputs": [
    {
     "data": {
      "text/plain": [
       "4.0"
      ]
     },
     "execution_count": 52,
     "metadata": {},
     "output_type": "execute_result"
    }
   ],
   "source": [
    "star_ratings_shuffled[0]"
   ]
  },
  {
   "cell_type": "code",
   "execution_count": 53,
   "metadata": {},
   "outputs": [
    {
     "data": {
      "text/plain": [
       "4.0"
      ]
     },
     "execution_count": 53,
     "metadata": {},
     "output_type": "execute_result"
    }
   ],
   "source": [
    "star_ratings[27749]"
   ]
  },
  {
   "cell_type": "code",
   "execution_count": 54,
   "metadata": {},
   "outputs": [
    {
     "data": {
      "text/plain": [
       "4.0"
      ]
     },
     "execution_count": 54,
     "metadata": {},
     "output_type": "execute_result"
    }
   ],
   "source": [
    "star_ratings_shuffled[2]"
   ]
  },
  {
   "cell_type": "code",
   "execution_count": 55,
   "metadata": {},
   "outputs": [
    {
     "data": {
      "text/plain": [
       "4.0"
      ]
     },
     "execution_count": 55,
     "metadata": {},
     "output_type": "execute_result"
    }
   ],
   "source": [
    "star_ratings[27631]"
   ]
  },
  {
   "cell_type": "code",
   "execution_count": 56,
   "metadata": {},
   "outputs": [
    {
     "data": {
      "image/png": "[encoded data removed]",
      "text/plain": [
       "<Figure size 432x288 with 1 Axes>"
      ]
     },
     "metadata": {},
     "output_type": "display_data"
    }
   ],
   "source": [
    "#Shuffle seems to have worked, as confirmed by this plot:\n",
    "plt.plot(Series.rolling(Series(star_ratings_shuffled), window=1000).mean());\n"
   ]
  },
  {
   "cell_type": "markdown",
   "metadata": {},
   "source": [
    "### This is the step that does the fitting, which is time consuming so once I got it working well I saved the model with 'dill' and in the following iterations I just loaded the model from memory\n"
   ]
  },
  {
   "cell_type": "code",
   "execution_count": 57,
   "metadata": {},
   "outputs": [
    {
     "name": "stdout",
     "output_type": "stream",
     "text": [
      "Loaded pickle file with lat-long model.\n"
     ]
    }
   ],
   "source": [
    "#I will save the model with dill after fitting the model the first time, then I will load it from memory the following times\n",
    "import dill\n",
    "\n",
    "#If the model file already exists, I load it:\n",
    "try:\n",
    "    with open('lat_long_model.dill', 'rb') as f:\n",
    "        lat_long_model = dill.load(f)\n",
    "        print('Loaded pickle file with lat-long model.')\n",
    "except: #if not, actually perform the fit then save the model for next time:\n",
    "    \n",
    "    lat_long_model.fit(data_shuffled, star_ratings_shuffled)\n",
    "    \n",
    "    with open('lat_long_model.dill', 'wb') as f:\n",
    "        dill.dump(lat_long_model, f)\n",
    "    print('Saved pickle file with lat-long model.')\n"
   ]
  },
  {
   "cell_type": "code",
   "execution_count": 58,
   "metadata": {},
   "outputs": [
    {
     "data": {
      "text/plain": [
       "{'mean_fit_time': array([0.31031671, 0.25429988, 0.25634913, 0.30448503, 0.30310516,\n",
       "        0.30763321, 0.28803892, 0.25615807, 0.28948727, 0.28568292,\n",
       "        0.27822719, 0.30068026, 0.26416235, 0.26170411, 0.29616361,\n",
       "        0.28795762, 0.28720355, 0.29786735, 0.29280725, 0.281423  ,\n",
       "        0.25811419, 0.28116522, 0.2710392 , 0.28757052, 0.27150102,\n",
       "        0.25751028, 0.27196698, 0.28942199, 0.26810493, 0.2644876 ,\n",
       "        0.27520437, 0.29240789, 0.22081633, 0.24692397, 0.23243327,\n",
       "        0.31394067, 0.27959347, 0.25400114, 0.2340641 , 0.22626362]),\n",
       " 'std_fit_time': array([0.00763525, 0.04732071, 0.0513129 , 0.00750896, 0.03243072,\n",
       "        0.01948195, 0.04078417, 0.04947574, 0.04119073, 0.03643361,\n",
       "        0.05114815, 0.03856726, 0.05773887, 0.05347444, 0.03395494,\n",
       "        0.04051516, 0.04191097, 0.03537533, 0.03453338, 0.04976126,\n",
       "        0.05986515, 0.04840777, 0.05288595, 0.0448675 , 0.04768975,\n",
       "        0.04939519, 0.04781436, 0.03921592, 0.05080988, 0.04748003,\n",
       "        0.06026837, 0.04489075, 0.01504562, 0.04978145, 0.04843975,\n",
       "        0.00931932, 0.05280083, 0.04791294, 0.05073629, 0.03737579]),\n",
       " 'mean_score_time': array([0.07422199, 0.0674108 , 0.07393708, 0.0860013 , 0.0832953 ,\n",
       "        0.08780179, 0.09101143, 0.08222494, 0.09330025, 0.09931064,\n",
       "        0.09299202, 0.10878344, 0.09628997, 0.09972124, 0.10452509,\n",
       "        0.11648693, 0.1170289 , 0.12055154, 0.12583566, 0.11620355,\n",
       "        0.11478887, 0.12126603, 0.12495918, 0.12682886, 0.13043041,\n",
       "        0.12153502, 0.13761706, 0.13815389, 0.14131784, 0.1438448 ,\n",
       "        0.14548554, 0.16304049, 0.11889281, 0.1442811 , 0.13633218,\n",
       "        0.1891499 , 0.16705999, 0.15745668, 0.15408502, 0.15204525]),\n",
       " 'std_score_time': array([0.00242257, 0.01303427, 0.01872508, 0.00174805, 0.01325732,\n",
       "        0.01403961, 0.01628461, 0.01122819, 0.01372057, 0.0167199 ,\n",
       "        0.01819758, 0.01132908, 0.01735615, 0.01974703, 0.01457404,\n",
       "        0.01574187, 0.01894051, 0.01869092, 0.02065517, 0.02360199,\n",
       "        0.02461896, 0.01853023, 0.0229895 , 0.02611994, 0.02507706,\n",
       "        0.02565688, 0.02298634, 0.02527403, 0.0254135 , 0.0271993 ,\n",
       "        0.02871591, 0.02320488, 0.00143454, 0.02949205, 0.0213129 ,\n",
       "        0.00108937, 0.03007554, 0.03117844, 0.02372061, 0.02736741]),\n",
       " 'param_regressor__n_neighbors': masked_array(data=[1, 3, 5, 7, 9, 11, 13, 15, 17, 19, 21, 23, 25, 27, 29,\n",
       "                    31, 33, 35, 37, 39, 41, 43, 45, 47, 49, 51, 53, 55, 57,\n",
       "                    59, 61, 63, 65, 67, 69, 71, 73, 75, 77, 79],\n",
       "              mask=[False, False, False, False, False, False, False, False,\n",
       "                    False, False, False, False, False, False, False, False,\n",
       "                    False, False, False, False, False, False, False, False,\n",
       "                    False, False, False, False, False, False, False, False,\n",
       "                    False, False, False, False, False, False, False, False],\n",
       "        fill_value='?',\n",
       "             dtype=object),\n",
       " 'params': [{'regressor__n_neighbors': 1},\n",
       "  {'regressor__n_neighbors': 3},\n",
       "  {'regressor__n_neighbors': 5},\n",
       "  {'regressor__n_neighbors': 7},\n",
       "  {'regressor__n_neighbors': 9},\n",
       "  {'regressor__n_neighbors': 11},\n",
       "  {'regressor__n_neighbors': 13},\n",
       "  {'regressor__n_neighbors': 15},\n",
       "  {'regressor__n_neighbors': 17},\n",
       "  {'regressor__n_neighbors': 19},\n",
       "  {'regressor__n_neighbors': 21},\n",
       "  {'regressor__n_neighbors': 23},\n",
       "  {'regressor__n_neighbors': 25},\n",
       "  {'regressor__n_neighbors': 27},\n",
       "  {'regressor__n_neighbors': 29},\n",
       "  {'regressor__n_neighbors': 31},\n",
       "  {'regressor__n_neighbors': 33},\n",
       "  {'regressor__n_neighbors': 35},\n",
       "  {'regressor__n_neighbors': 37},\n",
       "  {'regressor__n_neighbors': 39},\n",
       "  {'regressor__n_neighbors': 41},\n",
       "  {'regressor__n_neighbors': 43},\n",
       "  {'regressor__n_neighbors': 45},\n",
       "  {'regressor__n_neighbors': 47},\n",
       "  {'regressor__n_neighbors': 49},\n",
       "  {'regressor__n_neighbors': 51},\n",
       "  {'regressor__n_neighbors': 53},\n",
       "  {'regressor__n_neighbors': 55},\n",
       "  {'regressor__n_neighbors': 57},\n",
       "  {'regressor__n_neighbors': 59},\n",
       "  {'regressor__n_neighbors': 61},\n",
       "  {'regressor__n_neighbors': 63},\n",
       "  {'regressor__n_neighbors': 65},\n",
       "  {'regressor__n_neighbors': 67},\n",
       "  {'regressor__n_neighbors': 69},\n",
       "  {'regressor__n_neighbors': 71},\n",
       "  {'regressor__n_neighbors': 73},\n",
       "  {'regressor__n_neighbors': 75},\n",
       "  {'regressor__n_neighbors': 77},\n",
       "  {'regressor__n_neighbors': 79}],\n",
       " 'split0_test_score': array([-0.75572528, -0.19480555, -0.09432149, -0.04154563, -0.02473318,\n",
       "        -0.01724783, -0.01482701, -0.00600991, -0.00251493,  0.00141294,\n",
       "         0.00974935,  0.01159085,  0.0161512 ,  0.01658487,  0.01786456,\n",
       "         0.01922169,  0.01846731,  0.01886075,  0.01837174,  0.01723232,\n",
       "         0.01788437,  0.01768473,  0.01849855,  0.0190151 ,  0.01966604,\n",
       "         0.02003968,  0.02022684,  0.0202175 ,  0.02086048,  0.02060153,\n",
       "         0.02033855,  0.01995766,  0.01928781,  0.01897797,  0.01848479,\n",
       "         0.0182094 ,  0.01707263,  0.01774424,  0.01808898,  0.01768674]),\n",
       " 'split1_test_score': array([-0.73921057, -0.20786679, -0.11358705, -0.05919   , -0.02649996,\n",
       "        -0.01101065, -0.00642965, -0.0009408 ,  0.00109428,  0.00620882,\n",
       "         0.00860437,  0.01180917,  0.01259777,  0.01467244,  0.01536016,\n",
       "         0.01403248,  0.01499874,  0.0159746 ,  0.01623021,  0.01673418,\n",
       "         0.01711938,  0.01820594,  0.01762499,  0.01855316,  0.01864336,\n",
       "         0.01815339,  0.01823361,  0.0175808 ,  0.01750926,  0.01805548,\n",
       "         0.01730568,  0.01732035,  0.01895286,  0.01891941,  0.02024127,\n",
       "         0.02011351,  0.02051555,  0.02108887,  0.02061328,  0.02054714]),\n",
       " 'split2_test_score': array([-7.74969345e-01, -2.02443019e-01, -1.10157636e-01, -5.29946645e-02,\n",
       "        -2.70874221e-02, -1.22867785e-02, -1.12044386e-03,  4.42579611e-04,\n",
       "         6.68077087e-03,  1.03355543e-02,  1.64508294e-02,  1.61079495e-02,\n",
       "         1.86274548e-02,  1.95735318e-02,  1.88532523e-02,  1.84893266e-02,\n",
       "         1.84852295e-02,  2.12146991e-02,  2.08168972e-02,  2.17119704e-02,\n",
       "         2.15993239e-02,  2.34719080e-02,  2.44692310e-02,  2.47312228e-02,\n",
       "         2.49084236e-02,  2.39040357e-02,  2.38393820e-02,  2.31039642e-02,\n",
       "         2.22841332e-02,  2.14502782e-02,  2.15596503e-02,  2.14262231e-02,\n",
       "         2.12988832e-02,  1.98919507e-02,  1.99517619e-02,  2.01271310e-02,\n",
       "         1.92902703e-02,  2.00675612e-02,  2.04447410e-02,  1.99724220e-02]),\n",
       " 'split3_test_score': array([-0.77991388, -0.21757578, -0.10731073, -0.07231892, -0.05340782,\n",
       "        -0.02873102, -0.01719627, -0.00660607, -0.00096954,  0.00151682,\n",
       "         0.00329888,  0.00434974,  0.00638249,  0.00610213,  0.00514433,\n",
       "         0.00813783,  0.00931031,  0.00928791,  0.0119453 ,  0.01267763,\n",
       "         0.0138044 ,  0.01410521,  0.01459657,  0.01478507,  0.01438699,\n",
       "         0.01601349,  0.01594496,  0.01562502,  0.01562734,  0.01621264,\n",
       "         0.01653173,  0.0165781 ,  0.01716816,  0.01809718,  0.0174307 ,\n",
       "         0.01790203,  0.01817466,  0.01874367,  0.01868375,  0.01893454]),\n",
       " 'split4_test_score': array([-0.75304264, -0.23415019, -0.11594121, -0.07734619, -0.05292964,\n",
       "        -0.03384367, -0.01748666, -0.00881994, -0.00209848,  0.00345816,\n",
       "         0.00749555,  0.00963154,  0.01250597,  0.01668535,  0.02026743,\n",
       "         0.02154033,  0.0217578 ,  0.02302421,  0.02476754,  0.02420139,\n",
       "         0.02375673,  0.0241612 ,  0.02442115,  0.02357506,  0.02244486,\n",
       "         0.02216624,  0.02254618,  0.02343327,  0.02274404,  0.02326956,\n",
       "         0.02300619,  0.02311635,  0.02334571,  0.02395667,  0.02424323,\n",
       "         0.02492839,  0.02516237,  0.02464641,  0.02443895,  0.02379984]),\n",
       " 'mean_test_score': array([-7.60572342e-01, -2.11368267e-01, -1.08263623e-01, -6.06790806e-02,\n",
       "        -3.69316048e-02, -2.06239910e-02, -1.14120073e-02, -4.38682855e-03,\n",
       "         4.38421009e-04,  4.58645828e-03,  9.11979527e-03,  1.06978519e-02,\n",
       "         1.32529771e-02,  1.47236648e-02,  1.54979464e-02,  1.62843302e-02,\n",
       "         1.66038777e-02,  1.76724337e-02,  1.84263372e-02,  1.85114974e-02,\n",
       "         1.88328424e-02,  1.95257971e-02,  1.99221004e-02,  2.01319231e-02,\n",
       "         2.00099358e-02,  2.00553699e-02,  2.01581942e-02,  1.99921101e-02,\n",
       "         1.98050519e-02,  1.99178971e-02,  1.97483599e-02,  1.96797364e-02,\n",
       "         2.00106842e-02,  1.99686362e-02,  2.00703497e-02,  2.02560913e-02,\n",
       "         2.00430942e-02,  2.04581512e-02,  2.04539382e-02,  2.01881356e-02]),\n",
       " 'std_test_score': array([0.01495249, 0.01359259, 0.00756522, 0.01296638, 0.01328105,\n",
       "        0.00909734, 0.00652321, 0.00353299, 0.00336267, 0.00336009,\n",
       "        0.00426444, 0.00381411, 0.00413463, 0.00458622, 0.00541892,\n",
       "        0.00474451, 0.00422723, 0.00481216, 0.0043071 , 0.00403601,\n",
       "        0.00349339, 0.00378346, 0.00391363, 0.0036149 , 0.00356447,\n",
       "        0.0028008 , 0.00285355, 0.00304834, 0.00277926, 0.00249987,\n",
       "        0.00247208, 0.00245457, 0.00212148, 0.0020734 , 0.00232112,\n",
       "        0.00251388, 0.00280398, 0.00238314, 0.00221957, 0.00205174]),\n",
       " 'rank_test_score': array([40, 39, 38, 37, 36, 35, 34, 33, 32, 31, 30, 29, 28, 27, 26, 25, 24,\n",
       "        23, 22, 21, 20, 19, 14,  6, 11,  8,  5, 12, 16, 15, 17, 18, 10, 13,\n",
       "         7,  3,  9,  1,  2,  4], dtype=int32)}"
      ]
     },
     "execution_count": 58,
     "metadata": {},
     "output_type": "execute_result"
    }
   ],
   "source": [
    "lat_long_model.cv_results_"
   ]
  },
  {
   "cell_type": "code",
   "execution_count": 59,
   "metadata": {},
   "outputs": [],
   "source": [
    "#The performance (as assessed in the 'mean_test_score' for the max index, which is 2 before the last) of this model\n",
    "#is in the R^2=0.02 range, so it's comparable to what was mentioned earlier as the goal"
   ]
  },
  {
   "cell_type": "code",
   "execution_count": 60,
   "metadata": {},
   "outputs": [
    {
     "data": {
      "text/plain": [
       "{'regressor__n_neighbors': 75}"
      ]
     },
     "execution_count": 60,
     "metadata": {},
     "output_type": "execute_result"
    }
   ],
   "source": [
    "lat_long_model.best_params_"
   ]
  },
  {
   "cell_type": "code",
   "execution_count": 61,
   "metadata": {
    "slideshow": null
   },
   "outputs": [],
   "source": [
    "##Note: without shuffling the training data, and only looking at 1-10 neighbors, the pipeline gave a terrible score on the test set: -0.922 \n",
    "\n",
    "##With shuffling the data but only looking at 1-10 neighbors, the score was just slightly better: -0.7959\n",
    "\n",
    "##Only when I increased the number of possible neighbors to 50-80 did I get sufficient performances\n",
    "\n",
    "#grader.score('ml__lat_long_model', lat_long_model.predict)  # Edit to appropriate name"
   ]
  },
  {
   "cell_type": "markdown",
   "metadata": {
    "slideshow": null
   },
   "source": [
    "## Question 4: category_model"
   ]
  },
  {
   "cell_type": "markdown",
   "metadata": {
    "slideshow": null
   },
   "source": [
    "While location is important, we could also try seeing how predictive the\n",
    "venue's category is. Build an estimator that considers only the `'categories'` field of the data.\n",
    "\n",
    "The categories come as a list of strings, but the scikit-learn's predictors all need numeric input. We ultimately want to create a column in our feature matrix to represent every category. For a given row, only the columns that represent the categories it contains will be filled with a one, otherwise, it will be filled with a zero. The described method is similar to **one-hot encoding**, however, an observation/row can contain more than one \"hot\", non-zero, column.\n",
    "\n",
    "To achieve our encoding plan, we need to use scikit-learn's provides [`DictVectorizer`](http://scikit-learn.org/stable/modules/generated/sklearn.feature_extraction.DictVectorizer.html#sklearn.feature_extraction.DictVectorizer). This transformer takes a 1-D array of dictionaries and creates a column in the output matrix for each key in the dictionary and fills it with the value associated with it. Missing keys are filled with zeros. However, we need to build a transformer that takes an array of strings and returns an array of dictionaries with keys given by those strings and values of one. For example, it should transform `X_in` into `X_out`."
   ]
  },
  {
   "cell_type": "code",
   "execution_count": 62,
   "metadata": {
    "slideshow": null
   },
   "outputs": [
    {
     "name": "stdout",
     "output_type": "stream",
     "text": [
      "0       [a]\n",
      "1    [b, c]\n",
      "dtype: object\n",
      "0            {'a': 1}\n",
      "1    {'b': 1, 'c': 1}\n",
      "dtype: object\n"
     ]
    }
   ],
   "source": [
    "X_in = pd.Series([['a'], ['b', 'c']])\n",
    "X_out = pd.Series([{'a': 1}, {'b': 1, 'c': 1}])\n",
    "\n",
    "print(X_in)\n",
    "print(X_out)"
   ]
  },
  {
   "cell_type": "code",
   "execution_count": 63,
   "metadata": {},
   "outputs": [
    {
     "data": {
      "text/plain": [
       "{'a': 1}"
      ]
     },
     "execution_count": 63,
     "metadata": {},
     "output_type": "execute_result"
    }
   ],
   "source": [
    "def stringlist_to_dict(stringlist):\n",
    "    dict = {}\n",
    "    for string in stringlist:\n",
    "        dict[string]=1\n",
    "    return dict\n",
    "\n",
    "stringlist_to_dict(['a'])"
   ]
  },
  {
   "cell_type": "code",
   "execution_count": 64,
   "metadata": {},
   "outputs": [
    {
     "data": {
      "text/plain": [
       "{'b': 1, 'c': 1}"
      ]
     },
     "execution_count": 64,
     "metadata": {},
     "output_type": "execute_result"
    }
   ],
   "source": [
    "stringlist_to_dict(['b','c'])"
   ]
  },
  {
   "cell_type": "code",
   "execution_count": 65,
   "metadata": {},
   "outputs": [
    {
     "data": {
      "text/plain": [
       "0            {'a': 1}\n",
       "1    {'b': 1, 'c': 1}\n",
       "dtype: object"
      ]
     },
     "execution_count": 65,
     "metadata": {},
     "output_type": "execute_result"
    }
   ],
   "source": [
    "pd.Series([stringlist_to_dict(string_list) for string_list in X_in])"
   ]
  },
  {
   "cell_type": "code",
   "execution_count": 66,
   "metadata": {},
   "outputs": [
    {
     "data": {
      "text/plain": [
       "0                          [Doctors, Health & Medical]\n",
       "1                                        [Restaurants]\n",
       "2                [American (Traditional), Restaurants]\n",
       "3    [Food, Ice Cream & Frozen Yogurt, Fast Food, R...\n",
       "4                               [Chinese, Restaurants]\n",
       "Name: categories, dtype: object"
      ]
     },
     "execution_count": 66,
     "metadata": {},
     "output_type": "execute_result"
    }
   ],
   "source": [
    "#df.head()\n",
    "df['categories'].iloc[:5]"
   ]
  },
  {
   "cell_type": "code",
   "execution_count": 67,
   "metadata": {},
   "outputs": [
    {
     "data": {
      "text/plain": [
       "0                    {'Doctors': 1, 'Health & Medical': 1}\n",
       "1                                       {'Restaurants': 1}\n",
       "2          {'American (Traditional)': 1, 'Restaurants': 1}\n",
       "3        {'Food': 1, 'Ice Cream & Frozen Yogurt': 1, 'F...\n",
       "4                         {'Chinese': 1, 'Restaurants': 1}\n",
       "                               ...                        \n",
       "37933    {'Bars': 1, 'Hookah Bars': 1, 'Nightlife': 1, ...\n",
       "37934    {'Active Life': 1, 'Barre Classes': 1, 'Pilate...\n",
       "37935                {'Yelp Events': 1, 'Local Flavor': 1}\n",
       "37936    {'Kosher': 1, 'Italian': 1, 'Pizza': 1, 'Resta...\n",
       "37937    {'Food': 1, 'Ethnic Food': 1, 'Grocery': 1, 'S...\n",
       "Name: categories, Length: 37938, dtype: object"
      ]
     },
     "execution_count": 67,
     "metadata": {},
     "output_type": "execute_result"
    }
   ],
   "source": [
    "df['categories'].apply(stringlist_to_dict)"
   ]
  },
  {
   "cell_type": "code",
   "execution_count": 68,
   "metadata": {},
   "outputs": [
    {
     "data": {
      "text/plain": [
       "0            {'a': 1}\n",
       "1    {'b': 1, 'c': 1}\n",
       "dtype: object"
      ]
     },
     "execution_count": 68,
     "metadata": {},
     "output_type": "execute_result"
    }
   ],
   "source": [
    "X_in.apply(stringlist_to_dict)"
   ]
  },
  {
   "cell_type": "code",
   "execution_count": 69,
   "metadata": {
    "slideshow": null
   },
   "outputs": [],
   "source": [
    "class DictEncoder(BaseEstimator, TransformerMixin):\n",
    "    \n",
    "    def fit(self, X, y=None):\n",
    "        return self\n",
    "    \n",
    "    def transform(self, X):\n",
    "        # X will be a pandas series. Return a pandas series of dictionaries\n",
    "        return X.apply(stringlist_to_dict)"
   ]
  },
  {
   "cell_type": "markdown",
   "metadata": {
    "slideshow": null
   },
   "source": [
    "Now let's test out that our `DictEncoder` works out as expected."
   ]
  },
  {
   "cell_type": "code",
   "execution_count": 70,
   "metadata": {
    "slideshow": null
   },
   "outputs": [
    {
     "data": {
      "text/plain": [
       "True"
      ]
     },
     "execution_count": 70,
     "metadata": {},
     "output_type": "execute_result"
    }
   ],
   "source": [
    "# Check that DictEncoder transforms a series of list of strings into the expected series of dictionaries\n",
    "grader.check((DictEncoder().fit_transform(X_in) == X_out).all())"
   ]
  },
  {
   "cell_type": "markdown",
   "metadata": {
    "slideshow": null
   },
   "source": [
    "Now, create a pipeline object of the two step transformation for the categories data. Afterwards, create a `ColumnTransformer` object that will use the aforementioned pipeline object to transform the `'categories'` field."
   ]
  },
  {
   "cell_type": "code",
   "execution_count": 71,
   "metadata": {},
   "outputs": [],
   "source": [
    "from sklearn.feature_extraction import DictVectorizer\n",
    "\n",
    "pipe_categ_encoding = Pipeline([\n",
    "    ('to dict series',DictEncoder()),\n",
    "    ('to binary vectors',DictVectorizer())\n",
    "])"
   ]
  },
  {
   "cell_type": "code",
   "execution_count": 72,
   "metadata": {},
   "outputs": [
    {
     "data": {
      "text/plain": [
       "<2x3 sparse matrix of type '<class 'numpy.float64'>'\n",
       "\twith 3 stored elements in Compressed Sparse Row format>"
      ]
     },
     "execution_count": 72,
     "metadata": {},
     "output_type": "execute_result"
    }
   ],
   "source": [
    "#test the little pipeline first:\n",
    "pipe_categ_encoding.fit_transform(X_in)"
   ]
  },
  {
   "cell_type": "code",
   "execution_count": 73,
   "metadata": {},
   "outputs": [
    {
     "data": {
      "text/plain": [
       "array([[1., 0., 0.],\n",
       "       [0., 1., 1.]])"
      ]
     },
     "execution_count": 73,
     "metadata": {},
     "output_type": "execute_result"
    }
   ],
   "source": [
    "#to visualize how these columns look like:\n",
    "pipe_categ_encoding.fit_transform(X_in).toarray()\n"
   ]
  },
  {
   "cell_type": "code",
   "execution_count": 74,
   "metadata": {},
   "outputs": [
    {
     "data": {
      "text/plain": [
       "['business_id',\n",
       " 'full_address',\n",
       " 'hours',\n",
       " 'open',\n",
       " 'city',\n",
       " 'review_count',\n",
       " 'name',\n",
       " 'neighborhoods',\n",
       " 'longitude',\n",
       " 'state',\n",
       " 'stars',\n",
       " 'latitude',\n",
       " 'attributes',\n",
       " 'type']"
      ]
     },
     "execution_count": 74,
     "metadata": {},
     "output_type": "execute_result"
    }
   ],
   "source": [
    "#this is not really needed, but I just have it here to visualize the other columns I will not be using\n",
    "other_columns = [column for column in df.columns if column != 'categories']\n",
    "other_columns\n"
   ]
  },
  {
   "cell_type": "code",
   "execution_count": 75,
   "metadata": {},
   "outputs": [],
   "source": [
    "#note: here 'categories' should not be bracketed (['categories']) because our transformer expects a series \n",
    "#(a one-dimensional object) and would give error if you try to do ['categories'] which returns a 2-dim object\n",
    "\n",
    "# #Old version:\n",
    "# categ_tranform = ColumnTransformer([\n",
    "#     ('categories', pipe_categ_encoding, 'categories'),\n",
    "#     ('other', 'drop', other_columns)\n",
    "# ])\n",
    "\n",
    "#This is a cleaner version to clarify I am dropping all other columns (although 'drop' is the default anyway):\n",
    "categ_tranform = ColumnTransformer([\n",
    "    ('categories', pipe_categ_encoding, 'categories'),\n",
    "], remainder='drop')"
   ]
  },
  {
   "cell_type": "code",
   "execution_count": 76,
   "metadata": {
    "slideshow": null
   },
   "outputs": [
    {
     "data": {
      "text/plain": [
       "<37938x706 sparse matrix of type '<class 'numpy.float64'>'\n",
       "\twith 108205 stored elements in Compressed Sparse Row format>"
      ]
     },
     "execution_count": 76,
     "metadata": {},
     "output_type": "execute_result"
    }
   ],
   "source": [
    "#Let's test this in isolation\n",
    "categ_tranform.fit_transform(df)"
   ]
  },
  {
   "cell_type": "markdown",
   "metadata": {
    "slideshow": null
   },
   "source": [
    "Finally, create a pipeline object that will\n",
    "1. Convert our list of dictionaries into a data frame\n",
    "1. Select the `'categories'` column and encode the data\n",
    "1. Train a regularized linear model such as `Ridge`\n",
    "\n",
    "There will be a large number of features, one for each category, so there is a significant danger of overfitting. Use cross validation to choose the best regularization parameter."
   ]
  },
  {
   "cell_type": "code",
   "execution_count": 77,
   "metadata": {},
   "outputs": [],
   "source": [
    "from sklearn.linear_model import Ridge\n",
    "\n",
    "pipe_categ = Pipeline([\n",
    "    ('to dataframe', ToDataFrame()),\n",
    "    ('categories selection and encoding', categ_tranform),\n",
    "    ('regressor',Ridge(alpha=0.001))\n",
    "])"
   ]
  },
  {
   "cell_type": "code",
   "execution_count": 78,
   "metadata": {},
   "outputs": [
    {
     "data": {
      "text/html": [
       "<style>div.sk-top-container {color: black;background-color: white;}div.sk-toggleable {background-color: white;}label.sk-toggleable__label {cursor: pointer;display: block;width: 100%;margin-bottom: 0;padding: 0.2em 0.3em;box-sizing: border-box;text-align: center;}div.sk-toggleable__content {max-height: 0;max-width: 0;overflow: hidden;text-align: left;background-color: #f0f8ff;}div.sk-toggleable__content pre {margin: 0.2em;color: black;border-radius: 0.25em;background-color: #f0f8ff;}input.sk-toggleable__control:checked~div.sk-toggleable__content {max-height: 200px;max-width: 100%;overflow: auto;}div.sk-estimator input.sk-toggleable__control:checked~label.sk-toggleable__label {background-color: #d4ebff;}div.sk-label input.sk-toggleable__control:checked~label.sk-toggleable__label {background-color: #d4ebff;}input.sk-hidden--visually {border: 0;clip: rect(1px 1px 1px 1px);clip: rect(1px, 1px, 1px, 1px);height: 1px;margin: -1px;overflow: hidden;padding: 0;position: absolute;width: 1px;}div.sk-estimator {font-family: monospace;background-color: #f0f8ff;margin: 0.25em 0.25em;border: 1px dotted black;border-radius: 0.25em;box-sizing: border-box;}div.sk-estimator:hover {background-color: #d4ebff;}div.sk-parallel-item::after {content: \"\";width: 100%;border-bottom: 1px solid gray;flex-grow: 1;}div.sk-label:hover label.sk-toggleable__label {background-color: #d4ebff;}div.sk-serial::before {content: \"\";position: absolute;border-left: 1px solid gray;box-sizing: border-box;top: 2em;bottom: 0;left: 50%;}div.sk-serial {display: flex;flex-direction: column;align-items: center;background-color: white;}div.sk-item {z-index: 1;}div.sk-parallel {display: flex;align-items: stretch;justify-content: center;background-color: white;}div.sk-parallel-item {display: flex;flex-direction: column;position: relative;background-color: white;}div.sk-parallel-item:first-child::after {align-self: flex-end;width: 50%;}div.sk-parallel-item:last-child::after {align-self: flex-start;width: 50%;}div.sk-parallel-item:only-child::after {width: 0;}div.sk-dashed-wrapped {border: 1px dashed gray;margin: 0.2em;box-sizing: border-box;padding-bottom: 0.1em;background-color: white;position: relative;}div.sk-label label {font-family: monospace;font-weight: bold;background-color: white;display: inline-block;line-height: 1.2em;}div.sk-label-container {position: relative;z-index: 2;text-align: center;}div.sk-container {display: inline-block;position: relative;}</style><div class=\"sk-top-container\"><div class=\"sk-container\"><div class=\"sk-item sk-dashed-wrapped\"><div class=\"sk-label-container\"><div class=\"sk-label sk-toggleable\"><input class=\"sk-toggleable__control sk-hidden--visually\" id=\"a4a245a7-03d6-45c8-b029-26ee599154cc\" type=\"checkbox\" ><label class=\"sk-toggleable__label\" for=\"a4a245a7-03d6-45c8-b029-26ee599154cc\">Pipeline</label><div class=\"sk-toggleable__content\"><pre>Pipeline(steps=[('to dataframe', ToDataFrame()),\n",
       "                ('categories selection and encoding',\n",
       "                 ColumnTransformer(transformers=[('categories',\n",
       "                                                  Pipeline(steps=[('to dict '\n",
       "                                                                   'series',\n",
       "                                                                   DictEncoder()),\n",
       "                                                                  ('to binary '\n",
       "                                                                   'vectors',\n",
       "                                                                   DictVectorizer())]),\n",
       "                                                  'categories')])),\n",
       "                ('regressor', Ridge(alpha=0.001))])</pre></div></div></div><div class=\"sk-serial\"><div class=\"sk-item\"><div class=\"sk-estimator sk-toggleable\"><input class=\"sk-toggleable__control sk-hidden--visually\" id=\"7344c949-a5b2-4d0c-ab38-5d831b37d244\" type=\"checkbox\" ><label class=\"sk-toggleable__label\" for=\"7344c949-a5b2-4d0c-ab38-5d831b37d244\">ToDataFrame</label><div class=\"sk-toggleable__content\"><pre>ToDataFrame()</pre></div></div></div><div class=\"sk-item sk-dashed-wrapped\"><div class=\"sk-label-container\"><div class=\"sk-label sk-toggleable\"><input class=\"sk-toggleable__control sk-hidden--visually\" id=\"facea586-b51a-4600-90a6-d774ce7a895a\" type=\"checkbox\" ><label class=\"sk-toggleable__label\" for=\"facea586-b51a-4600-90a6-d774ce7a895a\">categories selection and encoding: ColumnTransformer</label><div class=\"sk-toggleable__content\"><pre>ColumnTransformer(transformers=[('categories',\n",
       "                                 Pipeline(steps=[('to dict series',\n",
       "                                                  DictEncoder()),\n",
       "                                                 ('to binary vectors',\n",
       "                                                  DictVectorizer())]),\n",
       "                                 'categories')])</pre></div></div></div><div class=\"sk-parallel\"><div class=\"sk-parallel-item\"><div class=\"sk-item\"><div class=\"sk-label-container\"><div class=\"sk-label sk-toggleable\"><input class=\"sk-toggleable__control sk-hidden--visually\" id=\"8d9d00c0-eb00-493f-9823-890116f7d21e\" type=\"checkbox\" ><label class=\"sk-toggleable__label\" for=\"8d9d00c0-eb00-493f-9823-890116f7d21e\">categories</label><div class=\"sk-toggleable__content\"><pre>categories</pre></div></div></div><div class=\"sk-serial\"><div class=\"sk-item\"><div class=\"sk-serial\"><div class=\"sk-item\"><div class=\"sk-estimator sk-toggleable\"><input class=\"sk-toggleable__control sk-hidden--visually\" id=\"bc8809a4-c972-49d5-91b1-b15afbc8ce8b\" type=\"checkbox\" ><label class=\"sk-toggleable__label\" for=\"bc8809a4-c972-49d5-91b1-b15afbc8ce8b\">DictEncoder</label><div class=\"sk-toggleable__content\"><pre>DictEncoder()</pre></div></div></div><div class=\"sk-item\"><div class=\"sk-estimator sk-toggleable\"><input class=\"sk-toggleable__control sk-hidden--visually\" id=\"4029d61d-cecb-4f02-98a7-743c534b5874\" type=\"checkbox\" ><label class=\"sk-toggleable__label\" for=\"4029d61d-cecb-4f02-98a7-743c534b5874\">DictVectorizer</label><div class=\"sk-toggleable__content\"><pre>DictVectorizer()</pre></div></div></div></div></div></div></div></div></div></div><div class=\"sk-item\"><div class=\"sk-estimator sk-toggleable\"><input class=\"sk-toggleable__control sk-hidden--visually\" id=\"b2ab648b-afe9-456a-9440-12c6a67026c4\" type=\"checkbox\" ><label class=\"sk-toggleable__label\" for=\"b2ab648b-afe9-456a-9440-12c6a67026c4\">Ridge</label><div class=\"sk-toggleable__content\"><pre>Ridge(alpha=0.001)</pre></div></div></div></div></div></div></div>"
      ],
      "text/plain": [
       "Pipeline(steps=[('to dataframe', ToDataFrame()),\n",
       "                ('categories selection and encoding',\n",
       "                 ColumnTransformer(transformers=[('categories',\n",
       "                                                  Pipeline(steps=[('to dict '\n",
       "                                                                   'series',\n",
       "                                                                   DictEncoder()),\n",
       "                                                                  ('to binary '\n",
       "                                                                   'vectors',\n",
       "                                                                   DictVectorizer())]),\n",
       "                                                  'categories')])),\n",
       "                ('regressor', Ridge(alpha=0.001))])"
      ]
     },
     "execution_count": 78,
     "metadata": {},
     "output_type": "execute_result"
    }
   ],
   "source": [
    "#Let's see if the pipeline works (i.e. can be fit successfully)\n",
    "pipe_categ.fit(data_shuffled, star_ratings_shuffled)\n"
   ]
  },
  {
   "cell_type": "code",
   "execution_count": 79,
   "metadata": {},
   "outputs": [
    {
     "data": {
      "text/plain": [
       "{'memory': None,\n",
       " 'steps': [('to dataframe', ToDataFrame()),\n",
       "  ('categories selection and encoding',\n",
       "   ColumnTransformer(transformers=[('categories',\n",
       "                                    Pipeline(steps=[('to dict series',\n",
       "                                                     DictEncoder()),\n",
       "                                                    ('to binary vectors',\n",
       "                                                     DictVectorizer())]),\n",
       "                                    'categories')])),\n",
       "  ('regressor', Ridge(alpha=0.001))],\n",
       " 'verbose': False,\n",
       " 'to dataframe': ToDataFrame(),\n",
       " 'categories selection and encoding': ColumnTransformer(transformers=[('categories',\n",
       "                                  Pipeline(steps=[('to dict series',\n",
       "                                                   DictEncoder()),\n",
       "                                                  ('to binary vectors',\n",
       "                                                   DictVectorizer())]),\n",
       "                                  'categories')]),\n",
       " 'regressor': Ridge(alpha=0.001),\n",
       " 'categories selection and encoding__n_jobs': None,\n",
       " 'categories selection and encoding__remainder': 'drop',\n",
       " 'categories selection and encoding__sparse_threshold': 0.3,\n",
       " 'categories selection and encoding__transformer_weights': None,\n",
       " 'categories selection and encoding__transformers': [('categories',\n",
       "   Pipeline(steps=[('to dict series', DictEncoder()),\n",
       "                   ('to binary vectors', DictVectorizer())]),\n",
       "   'categories')],\n",
       " 'categories selection and encoding__verbose': False,\n",
       " 'categories selection and encoding__categories': Pipeline(steps=[('to dict series', DictEncoder()),\n",
       "                 ('to binary vectors', DictVectorizer())]),\n",
       " 'categories selection and encoding__categories__memory': None,\n",
       " 'categories selection and encoding__categories__steps': [('to dict series',\n",
       "   DictEncoder()),\n",
       "  ('to binary vectors', DictVectorizer())],\n",
       " 'categories selection and encoding__categories__verbose': False,\n",
       " 'categories selection and encoding__categories__to dict series': DictEncoder(),\n",
       " 'categories selection and encoding__categories__to binary vectors': DictVectorizer(),\n",
       " 'categories selection and encoding__categories__to binary vectors__dtype': numpy.float64,\n",
       " 'categories selection and encoding__categories__to binary vectors__separator': '=',\n",
       " 'categories selection and encoding__categories__to binary vectors__sort': True,\n",
       " 'categories selection and encoding__categories__to binary vectors__sparse': True,\n",
       " 'regressor__alpha': 0.001,\n",
       " 'regressor__copy_X': True,\n",
       " 'regressor__fit_intercept': True,\n",
       " 'regressor__max_iter': None,\n",
       " 'regressor__normalize': False,\n",
       " 'regressor__random_state': None,\n",
       " 'regressor__solver': 'auto',\n",
       " 'regressor__tol': 0.001}"
      ]
     },
     "execution_count": 79,
     "metadata": {},
     "output_type": "execute_result"
    }
   ],
   "source": [
    "pipe_categ.get_params()"
   ]
  },
  {
   "cell_type": "code",
   "execution_count": 80,
   "metadata": {},
   "outputs": [],
   "source": [
    "#import np\n",
    "#from sklearn.model_selection import GridSearchCV\n",
    "\n",
    "param_grid = {'regressor__alpha': np.logspace(-5,5,10)} \n",
    "category_model = GridSearchCV(pipe_categ, param_grid, cv=5, n_jobs=2, verbose=1)\n"
   ]
  },
  {
   "cell_type": "markdown",
   "metadata": {},
   "source": [
    "### This is the step that does the fitting, which is time consuming so once I got it working well I saved the model with 'dill' and in the following iterations I just loaded the model from memory"
   ]
  },
  {
   "cell_type": "code",
   "execution_count": 81,
   "metadata": {},
   "outputs": [
    {
     "name": "stdout",
     "output_type": "stream",
     "text": [
      "Loaded pickle file with category model.\n"
     ]
    }
   ],
   "source": [
    "#I will save the model with dill after fitting the model the first time, then I will load it from memory the following times\n",
    "import dill\n",
    "\n",
    "#If the model file already exists, I load it:\n",
    "try:\n",
    "    with open('category_model.dill', 'rb') as f:\n",
    "        category_model = dill.load(f)\n",
    "        print('Loaded pickle file with category model.')\n",
    "except: #if not, actually perform the fit then save the model for next time:\n",
    "    \n",
    "    category_model.fit(data_shuffled, star_ratings_shuffled)\n",
    "    \n",
    "    with open('category_model.dill', 'wb') as f:\n",
    "        dill.dump(category_model, f)\n",
    "    print('Saved pickle file with category model.')"
   ]
  },
  {
   "cell_type": "code",
   "execution_count": 82,
   "metadata": {},
   "outputs": [
    {
     "data": {
      "text/plain": [
       "{'regressor__alpha': 3.593813663804626}"
      ]
     },
     "execution_count": 82,
     "metadata": {},
     "output_type": "execute_result"
    }
   ],
   "source": [
    "category_model.best_params_"
   ]
  },
  {
   "cell_type": "code",
   "execution_count": 83,
   "metadata": {},
   "outputs": [
    {
     "data": {
      "text/plain": [
       "{'mean_fit_time': array([0.48531518, 0.51297684, 0.50246615, 0.54530277, 0.52666807,\n",
       "        0.47363896, 0.40665159, 0.38662996, 0.43180146, 0.309513  ]),\n",
       " 'std_fit_time': array([0.08905216, 0.08792356, 0.08278589, 0.08225683, 0.03501576,\n",
       "        0.06665968, 0.0740036 , 0.07943187, 0.07294974, 0.015022  ]),\n",
       " 'mean_score_time': array([0.07652116, 0.08809199, 0.08513875, 0.08997145, 0.08667512,\n",
       "        0.09187498, 0.08175406, 0.08113384, 0.09276829, 0.06228304]),\n",
       " 'std_score_time': array([0.01854407, 0.01870421, 0.01923949, 0.01607151, 0.01710597,\n",
       "        0.01655862, 0.02161346, 0.01652238, 0.01797501, 0.00216464]),\n",
       " 'param_regressor__alpha': masked_array(data=[1e-05, 0.0001291549665014884, 0.0016681005372000592,\n",
       "                    0.021544346900318846, 0.2782559402207126,\n",
       "                    3.593813663804626, 46.41588833612782,\n",
       "                    599.4842503189421, 7742.636826811277, 100000.0],\n",
       "              mask=[False, False, False, False, False, False, False, False,\n",
       "                    False, False],\n",
       "        fill_value='?',\n",
       "             dtype=object),\n",
       " 'params': [{'regressor__alpha': 1e-05},\n",
       "  {'regressor__alpha': 0.0001291549665014884},\n",
       "  {'regressor__alpha': 0.0016681005372000592},\n",
       "  {'regressor__alpha': 0.021544346900318846},\n",
       "  {'regressor__alpha': 0.2782559402207126},\n",
       "  {'regressor__alpha': 3.593813663804626},\n",
       "  {'regressor__alpha': 46.41588833612782},\n",
       "  {'regressor__alpha': 599.4842503189421},\n",
       "  {'regressor__alpha': 7742.636826811277},\n",
       "  {'regressor__alpha': 100000.0}],\n",
       " 'split0_test_score': array([0.15977436, 0.1597777 , 0.15978793, 0.16007636, 0.16265283,\n",
       "        0.16994495, 0.16272787, 0.10732083, 0.04099725, 0.00614718]),\n",
       " 'split1_test_score': array([0.17449742, 0.17446197, 0.17450877, 0.17476842, 0.17749064,\n",
       "        0.18410576, 0.17430145, 0.1097345 , 0.04054261, 0.00605329]),\n",
       " 'split2_test_score': array([0.15943893, 0.15943779, 0.15945788, 0.15964875, 0.1618081 ,\n",
       "        0.16784301, 0.15873914, 0.10174592, 0.03791994, 0.00511918]),\n",
       " 'split3_test_score': array([0.17092437, 0.17089989, 0.17093532, 0.17109681, 0.17274781,\n",
       "        0.17648024, 0.1637675 , 0.1022142 , 0.03868647, 0.00548721]),\n",
       " 'split4_test_score': array([0.17035806, 0.17036019, 0.17033747, 0.1705682 , 0.17280124,\n",
       "        0.1779726 , 0.16748382, 0.10894443, 0.0398015 , 0.00598122]),\n",
       " 'mean_test_score': array([0.16699863, 0.16698751, 0.16700547, 0.16723171, 0.16950012,\n",
       "        0.17526931, 0.16540396, 0.10599198, 0.03958955, 0.00575762]),\n",
       " 'std_test_score': array([0.0062011 , 0.00618916, 0.00619523, 0.00618989, 0.00618621,\n",
       "        0.00583705, 0.00524882, 0.00337016, 0.00114351, 0.0003924 ]),\n",
       " 'rank_test_score': array([ 5,  6,  4,  3,  2,  1,  7,  8,  9, 10], dtype=int32)}"
      ]
     },
     "execution_count": 83,
     "metadata": {},
     "output_type": "execute_result"
    }
   ],
   "source": [
    "#Let's see how was the performance of this model on the different folds\n",
    "category_model.cv_results_"
   ]
  },
  {
   "cell_type": "code",
   "execution_count": 84,
   "metadata": {},
   "outputs": [
    {
     "data": {
      "text/plain": [
       "0.17526931271462565"
      ]
     },
     "execution_count": 84,
     "metadata": {},
     "output_type": "execute_result"
    }
   ],
   "source": [
    "#It's around 0.16-0.17 on the test folds. The best score (the mean of scores on test folds for the best choice of parameter)\n",
    "#can be looked at with:\n",
    "category_model.best_score_"
   ]
  },
  {
   "cell_type": "code",
   "execution_count": null,
   "metadata": {},
   "outputs": [],
   "source": []
  },
  {
   "cell_type": "code",
   "execution_count": 85,
   "metadata": {
    "slideshow": null
   },
   "outputs": [],
   "source": [
    "#grader.score('ml__category_model', category_model.predict)  # Edit to appropriate name"
   ]
  },
  {
   "cell_type": "markdown",
   "metadata": {
    "slideshow": null
   },
   "source": [
    "**Extension:** Some categories (e.g., Restaurants) are not very specific. Others (Japanese sushi) are much more so.  One way to deal with this is with an measure call term frequency-inverse document frequency (tf-idf). Add in a [`TfidfTransformer`](https://scikit-learn.org/stable/modules/generated/sklearn.feature_extraction.text.TfidfVectorizer.html) between the `DictVectorizer` and the linear model, and see if that improves performance."
   ]
  },
  {
   "cell_type": "code",
   "execution_count": 86,
   "metadata": {},
   "outputs": [],
   "source": [
    "#Define category_model_improved as described above"
   ]
  },
  {
   "cell_type": "code",
   "execution_count": null,
   "metadata": {},
   "outputs": [],
   "source": []
  },
  {
   "cell_type": "markdown",
   "metadata": {
    "slideshow": null
   },
   "source": [
    "## Question 5: attribute_model"
   ]
  },
  {
   "cell_type": "markdown",
   "metadata": {
    "slideshow": null
   },
   "source": [
    "There is even more information in the attributes for each venue.  Let's build an estimator based on these.\n",
    "\n",
    "Venues attributes may be nested:\n",
    "```python\n",
    "{\n",
    "  'Attire': 'casual',\n",
    "  'Accepts Credit Cards': True,\n",
    "  'Ambiance': {'casual': False, 'classy': False}\n",
    "}\n",
    "```\n",
    "We wish to encode them in the same manner as our categories data using the `DictVectorizer`. Before we do so, we need to flatten the dictionary to a single level:\n",
    "```python\n",
    "{\n",
    "  'Attire_casual' : 1,\n",
    "  'Accepts Credit Cards': 1,\n",
    "  'Ambiance_casual': 0,\n",
    "  'Ambiance_classy': 0\n",
    "}\n",
    "```\n",
    "Build a custom transformer that flattens the dictionary for the `'attributes'` field. Similar to what was done before, create a model that properly encodes the attribute data and learns to predict the ratings.\n",
    "\n",
    "You may find it difficult to find a single regressor that does well enough. A common solution is to use a linear model to fit the linear part of some data, and use a non-linear model to fit the residual that the linear model can't fit. Build a custom predictor that takes as an argument two other predictors. It should use the first to fit the raw data and the second to fit the residuals of the first."
   ]
  },
  {
   "cell_type": "code",
   "execution_count": 87,
   "metadata": {},
   "outputs": [
    {
     "data": {
      "text/plain": [
       "0                        {'By Appointment Only': True}\n",
       "1    {'Take-out': True, 'Good For': {'dessert': Fal...\n",
       "2    {'Take-out': True, 'Good For': {'dessert': Fal...\n",
       "3    {'Take-out': True, 'Wi-Fi': 'free', 'Takes Res...\n",
       "4    {'Take-out': True, 'Has TV': False, 'Outdoor S...\n",
       "Name: attributes, dtype: object"
      ]
     },
     "execution_count": 87,
     "metadata": {},
     "output_type": "execute_result"
    }
   ],
   "source": [
    "df.iloc[:5]['attributes']"
   ]
  },
  {
   "cell_type": "code",
   "execution_count": 88,
   "metadata": {},
   "outputs": [
    {
     "data": {
      "text/plain": [
       "{'Take-out': True,\n",
       " 'Good For': {'dessert': False,\n",
       "  'latenight': False,\n",
       "  'lunch': True,\n",
       "  'dinner': False,\n",
       "  'breakfast': False,\n",
       "  'brunch': False},\n",
       " 'Caters': False,\n",
       " 'Noise Level': 'average',\n",
       " 'Takes Reservations': False,\n",
       " 'Delivery': False,\n",
       " 'Ambience': {'romantic': False,\n",
       "  'intimate': False,\n",
       "  'touristy': False,\n",
       "  'hipster': False,\n",
       "  'divey': False,\n",
       "  'classy': False,\n",
       "  'trendy': False,\n",
       "  'upscale': False,\n",
       "  'casual': False},\n",
       " 'Parking': {'garage': False,\n",
       "  'street': False,\n",
       "  'validated': False,\n",
       "  'lot': True,\n",
       "  'valet': False},\n",
       " 'Has TV': True,\n",
       " 'Outdoor Seating': False,\n",
       " 'Attire': 'casual',\n",
       " 'Alcohol': 'none',\n",
       " 'Waiter Service': True,\n",
       " 'Accepts Credit Cards': True,\n",
       " 'Good for Kids': True,\n",
       " 'Good For Groups': True,\n",
       " 'Price Range': 1}"
      ]
     },
     "execution_count": 88,
     "metadata": {},
     "output_type": "execute_result"
    }
   ],
   "source": [
    "df.iloc[1]['attributes']"
   ]
  },
  {
   "cell_type": "code",
   "execution_count": 89,
   "metadata": {},
   "outputs": [
    {
     "data": {
      "text/plain": [
       "dict_items([('dessert', False), ('latenight', False), ('lunch', True), ('dinner', False), ('breakfast', False), ('brunch', False)])"
      ]
     },
     "execution_count": 89,
     "metadata": {},
     "output_type": "execute_result"
    }
   ],
   "source": [
    "df.iloc[1]['attributes']['Good For'].items()"
   ]
  },
  {
   "cell_type": "code",
   "execution_count": 90,
   "metadata": {},
   "outputs": [],
   "source": [
    "def flatten_dict(nested_dict):\n",
    "    flat_dict={}\n",
    "    for key,val in nested_dict.items():\n",
    "        if isinstance(val,bool):\n",
    "            flat_dict[key] = int(val)\n",
    "        else: #in this case the value of the first dict is a dict itself or is a single, non-boolean, value (string, number, etc.) \n",
    "            #print(val)\n",
    "            try: \n",
    "                for inner_key, inner_val in nested_dict[key].items():\n",
    "                    extend_key = '_'.join([key,inner_key])\n",
    "                    flat_dict[extend_key] = int(inner_val)\n",
    "\n",
    "            except: #case of a single value but not boolean\n",
    "                extend_key = '_'.join([key,str(val)])\n",
    "                flat_dict[extend_key] = 1\n",
    "    return flat_dict\n",
    "        "
   ]
  },
  {
   "cell_type": "code",
   "execution_count": 91,
   "metadata": {},
   "outputs": [
    {
     "data": {
      "text/plain": [
       "{'Take-out': 1,\n",
       " 'Good For_dessert': 0,\n",
       " 'Good For_latenight': 0,\n",
       " 'Good For_lunch': 1,\n",
       " 'Good For_dinner': 0,\n",
       " 'Good For_breakfast': 0,\n",
       " 'Good For_brunch': 0,\n",
       " 'Caters': 0,\n",
       " 'Noise Level_average': 1,\n",
       " 'Takes Reservations': 0,\n",
       " 'Delivery': 0,\n",
       " 'Ambience_romantic': 0,\n",
       " 'Ambience_intimate': 0,\n",
       " 'Ambience_touristy': 0,\n",
       " 'Ambience_hipster': 0,\n",
       " 'Ambience_divey': 0,\n",
       " 'Ambience_classy': 0,\n",
       " 'Ambience_trendy': 0,\n",
       " 'Ambience_upscale': 0,\n",
       " 'Ambience_casual': 0,\n",
       " 'Parking_garage': 0,\n",
       " 'Parking_street': 0,\n",
       " 'Parking_validated': 0,\n",
       " 'Parking_lot': 1,\n",
       " 'Parking_valet': 0,\n",
       " 'Has TV': 1,\n",
       " 'Outdoor Seating': 0,\n",
       " 'Attire_casual': 1,\n",
       " 'Alcohol_none': 1,\n",
       " 'Waiter Service': 1,\n",
       " 'Accepts Credit Cards': 1,\n",
       " 'Good for Kids': 1,\n",
       " 'Good For Groups': 1,\n",
       " 'Price Range_1': 1}"
      ]
     },
     "execution_count": 91,
     "metadata": {},
     "output_type": "execute_result"
    }
   ],
   "source": [
    "flatten_dict(df.iloc[1]['attributes'])"
   ]
  },
  {
   "cell_type": "code",
   "execution_count": 92,
   "metadata": {},
   "outputs": [],
   "source": [
    "class DictFlattener(BaseEstimator, TransformerMixin):\n",
    "    \n",
    "    def fit(self, X, y=None):\n",
    "        return self\n",
    "    \n",
    "    def transform(self, X):\n",
    "        # X will be a pandas column made of nested dictionaries. Return a pandas series of flattened dictionaries\n",
    "        return X.apply(flatten_dict)"
   ]
  },
  {
   "cell_type": "code",
   "execution_count": 93,
   "metadata": {},
   "outputs": [
    {
     "data": {
      "text/plain": [
       "0                               {'By Appointment Only': 1}\n",
       "1        {'Take-out': 1, 'Good For_dessert': 0, 'Good F...\n",
       "2        {'Take-out': 1, 'Good For_dessert': 0, 'Good F...\n",
       "3        {'Take-out': 1, 'Wi-Fi_free': 1, 'Takes Reserv...\n",
       "4        {'Take-out': 1, 'Has TV': 0, 'Outdoor Seating'...\n",
       "                               ...                        \n",
       "37933    {'Alcohol_none': 1, 'Good For Dancing': 1, 'No...\n",
       "37934                                                   {}\n",
       "37935                                 {'Good for Kids': 0}\n",
       "37936    {'Take-out': 1, 'Wi-Fi_no': 1, 'Good For_desse...\n",
       "37937    {'Parking_garage': 0, 'Parking_street': 0, 'Pa...\n",
       "Name: attributes, Length: 37938, dtype: object"
      ]
     },
     "execution_count": 93,
     "metadata": {},
     "output_type": "execute_result"
    }
   ],
   "source": [
    "test_flattener = DictFlattener()\n",
    "test_flattened_attributes = test_flattener.fit_transform(df['attributes'])\n",
    "test_flattened_attributes"
   ]
  },
  {
   "cell_type": "code",
   "execution_count": 94,
   "metadata": {},
   "outputs": [],
   "source": [
    "from sklearn.feature_extraction import DictVectorizer\n",
    "\n",
    "pipe_attrib_encoding = Pipeline([\n",
    "    ('to dict series',DictFlattener()),\n",
    "    ('to binary vectors',DictVectorizer())\n",
    "])"
   ]
  },
  {
   "cell_type": "code",
   "execution_count": 95,
   "metadata": {},
   "outputs": [],
   "source": [
    "attrib_tranform = ColumnTransformer([\n",
    "    ('attributes', pipe_attrib_encoding, 'attributes'),\n",
    "], remainder='drop')"
   ]
  },
  {
   "cell_type": "code",
   "execution_count": 96,
   "metadata": {},
   "outputs": [],
   "source": [
    "#Let's see how the attribute columns look like at this point\n",
    "pipe_attrib_before_reg = Pipeline([\n",
    "    ('to dataframe', ToDataFrame()),\n",
    "    ('attributes selection and encoding', attrib_tranform),\n",
    "])"
   ]
  },
  {
   "cell_type": "code",
   "execution_count": 97,
   "metadata": {},
   "outputs": [
    {
     "data": {
      "text/plain": [
       "<37938x96 sparse matrix of type '<class 'numpy.float64'>'\n",
       "\twith 531447 stored elements in Compressed Sparse Row format>"
      ]
     },
     "execution_count": 97,
     "metadata": {},
     "output_type": "execute_result"
    }
   ],
   "source": [
    "test_vectorizer = DictVectorizer()\n",
    "test_vectorized_attributes = test_vectorizer.fit_transform(test_flattened_attributes)\n",
    "test_vectorized_attributes"
   ]
  },
  {
   "cell_type": "code",
   "execution_count": 98,
   "metadata": {},
   "outputs": [
    {
     "data": {
      "text/plain": [
       "['Accepts Credit Cards',\n",
       " 'Accepts Insurance',\n",
       " 'Ages Allowed_18plus',\n",
       " 'Ages Allowed_21plus',\n",
       " 'Ages Allowed_allages',\n",
       " 'Alcohol_beer_and_wine',\n",
       " 'Alcohol_full_bar',\n",
       " 'Alcohol_none',\n",
       " 'Ambience_casual',\n",
       " 'Ambience_classy',\n",
       " 'Ambience_divey',\n",
       " 'Ambience_hipster',\n",
       " 'Ambience_intimate',\n",
       " 'Ambience_romantic',\n",
       " 'Ambience_touristy',\n",
       " 'Ambience_trendy',\n",
       " 'Ambience_upscale',\n",
       " 'Attire_casual',\n",
       " 'Attire_dressy',\n",
       " 'Attire_formal',\n",
       " 'BYOB',\n",
       " 'BYOB/Corkage_no',\n",
       " 'BYOB/Corkage_yes_corkage',\n",
       " 'BYOB/Corkage_yes_free',\n",
       " 'By Appointment Only',\n",
       " 'Caters',\n",
       " 'Coat Check',\n",
       " 'Corkage',\n",
       " 'Delivery',\n",
       " 'Dietary Restrictions_dairy-free',\n",
       " 'Dietary Restrictions_gluten-free',\n",
       " 'Dietary Restrictions_halal',\n",
       " 'Dietary Restrictions_kosher',\n",
       " 'Dietary Restrictions_soy-free',\n",
       " 'Dietary Restrictions_vegan',\n",
       " 'Dietary Restrictions_vegetarian',\n",
       " 'Dogs Allowed',\n",
       " 'Drive-Thru',\n",
       " 'Good For Dancing',\n",
       " 'Good For Groups',\n",
       " 'Good For Kids',\n",
       " 'Good For_breakfast',\n",
       " 'Good For_brunch',\n",
       " 'Good For_dessert',\n",
       " 'Good For_dinner',\n",
       " 'Good For_latenight',\n",
       " 'Good For_lunch',\n",
       " 'Good for Kids',\n",
       " 'Hair Types Specialized In_africanamerican',\n",
       " 'Hair Types Specialized In_asian',\n",
       " 'Hair Types Specialized In_coloring',\n",
       " 'Hair Types Specialized In_curly',\n",
       " 'Hair Types Specialized In_extensions',\n",
       " 'Hair Types Specialized In_kids',\n",
       " 'Hair Types Specialized In_perms',\n",
       " 'Hair Types Specialized In_straightperms',\n",
       " 'Happy Hour',\n",
       " 'Has TV',\n",
       " 'Music_background_music',\n",
       " 'Music_dj',\n",
       " 'Music_jukebox',\n",
       " 'Music_karaoke',\n",
       " 'Music_live',\n",
       " 'Music_playlist',\n",
       " 'Music_video',\n",
       " 'Noise Level_average',\n",
       " 'Noise Level_loud',\n",
       " 'Noise Level_quiet',\n",
       " 'Noise Level_very_loud',\n",
       " 'Open 24 Hours',\n",
       " 'Order at Counter',\n",
       " 'Outdoor Seating',\n",
       " 'Parking_garage',\n",
       " 'Parking_lot',\n",
       " 'Parking_street',\n",
       " 'Parking_valet',\n",
       " 'Parking_validated',\n",
       " 'Payment Types_amex',\n",
       " 'Payment Types_cash_only',\n",
       " 'Payment Types_discover',\n",
       " 'Payment Types_mastercard',\n",
       " 'Payment Types_visa',\n",
       " 'Price Range_1',\n",
       " 'Price Range_2',\n",
       " 'Price Range_3',\n",
       " 'Price Range_4',\n",
       " 'Smoking_no',\n",
       " 'Smoking_outdoor',\n",
       " 'Smoking_yes',\n",
       " 'Take-out',\n",
       " 'Takes Reservations',\n",
       " 'Waiter Service',\n",
       " 'Wheelchair Accessible',\n",
       " 'Wi-Fi_free',\n",
       " 'Wi-Fi_no',\n",
       " 'Wi-Fi_paid']"
      ]
     },
     "execution_count": 98,
     "metadata": {},
     "output_type": "execute_result"
    }
   ],
   "source": [
    "test_vectorizer.feature_names_"
   ]
  },
  {
   "cell_type": "code",
   "execution_count": 99,
   "metadata": {},
   "outputs": [],
   "source": [
    "attribute_columns = pipe_attrib_before_reg.fit_transform(data_shuffled)"
   ]
  },
  {
   "cell_type": "code",
   "execution_count": 100,
   "metadata": {},
   "outputs": [
    {
     "data": {
      "text/plain": [
       "<37938x96 sparse matrix of type '<class 'numpy.float64'>'\n",
       "\twith 531447 stored elements in Compressed Sparse Row format>"
      ]
     },
     "execution_count": 100,
     "metadata": {},
     "output_type": "execute_result"
    }
   ],
   "source": [
    "attribute_columns"
   ]
  },
  {
   "cell_type": "code",
   "execution_count": 101,
   "metadata": {},
   "outputs": [
    {
     "data": {
      "text/html": [
       "<div>\n",
       "<style scoped>\n",
       "    .dataframe tbody tr th:only-of-type {\n",
       "        vertical-align: middle;\n",
       "    }\n",
       "\n",
       "    .dataframe tbody tr th {\n",
       "        vertical-align: top;\n",
       "    }\n",
       "\n",
       "    .dataframe thead th {\n",
       "        text-align: right;\n",
       "    }\n",
       "</style>\n",
       "<table border=\"1\" class=\"dataframe\">\n",
       "  <thead>\n",
       "    <tr style=\"text-align: right;\">\n",
       "      <th></th>\n",
       "      <th>Accepts Credit Cards</th>\n",
       "      <th>Accepts Insurance</th>\n",
       "      <th>Ages Allowed_18plus</th>\n",
       "      <th>Ages Allowed_21plus</th>\n",
       "      <th>Ages Allowed_allages</th>\n",
       "      <th>Alcohol_beer_and_wine</th>\n",
       "      <th>Alcohol_full_bar</th>\n",
       "      <th>Alcohol_none</th>\n",
       "      <th>Ambience_casual</th>\n",
       "      <th>Ambience_classy</th>\n",
       "      <th>...</th>\n",
       "      <th>Smoking_no</th>\n",
       "      <th>Smoking_outdoor</th>\n",
       "      <th>Smoking_yes</th>\n",
       "      <th>Take-out</th>\n",
       "      <th>Takes Reservations</th>\n",
       "      <th>Waiter Service</th>\n",
       "      <th>Wheelchair Accessible</th>\n",
       "      <th>Wi-Fi_free</th>\n",
       "      <th>Wi-Fi_no</th>\n",
       "      <th>Wi-Fi_paid</th>\n",
       "    </tr>\n",
       "  </thead>\n",
       "  <tbody>\n",
       "    <tr>\n",
       "      <th>0</th>\n",
       "      <td>1.0</td>\n",
       "      <td>0.0</td>\n",
       "      <td>0.0</td>\n",
       "      <td>0.0</td>\n",
       "      <td>0.0</td>\n",
       "      <td>0.0</td>\n",
       "      <td>1.0</td>\n",
       "      <td>0.0</td>\n",
       "      <td>0.0</td>\n",
       "      <td>0.0</td>\n",
       "      <td>...</td>\n",
       "      <td>0.0</td>\n",
       "      <td>0.0</td>\n",
       "      <td>0.0</td>\n",
       "      <td>0.0</td>\n",
       "      <td>0.0</td>\n",
       "      <td>0.0</td>\n",
       "      <td>1.0</td>\n",
       "      <td>0.0</td>\n",
       "      <td>0.0</td>\n",
       "      <td>1.0</td>\n",
       "    </tr>\n",
       "    <tr>\n",
       "      <th>1</th>\n",
       "      <td>0.0</td>\n",
       "      <td>0.0</td>\n",
       "      <td>0.0</td>\n",
       "      <td>0.0</td>\n",
       "      <td>0.0</td>\n",
       "      <td>0.0</td>\n",
       "      <td>0.0</td>\n",
       "      <td>0.0</td>\n",
       "      <td>0.0</td>\n",
       "      <td>0.0</td>\n",
       "      <td>...</td>\n",
       "      <td>0.0</td>\n",
       "      <td>0.0</td>\n",
       "      <td>0.0</td>\n",
       "      <td>0.0</td>\n",
       "      <td>0.0</td>\n",
       "      <td>0.0</td>\n",
       "      <td>0.0</td>\n",
       "      <td>0.0</td>\n",
       "      <td>0.0</td>\n",
       "      <td>0.0</td>\n",
       "    </tr>\n",
       "    <tr>\n",
       "      <th>2</th>\n",
       "      <td>1.0</td>\n",
       "      <td>0.0</td>\n",
       "      <td>0.0</td>\n",
       "      <td>0.0</td>\n",
       "      <td>0.0</td>\n",
       "      <td>0.0</td>\n",
       "      <td>0.0</td>\n",
       "      <td>0.0</td>\n",
       "      <td>0.0</td>\n",
       "      <td>0.0</td>\n",
       "      <td>...</td>\n",
       "      <td>0.0</td>\n",
       "      <td>0.0</td>\n",
       "      <td>0.0</td>\n",
       "      <td>0.0</td>\n",
       "      <td>0.0</td>\n",
       "      <td>0.0</td>\n",
       "      <td>0.0</td>\n",
       "      <td>0.0</td>\n",
       "      <td>0.0</td>\n",
       "      <td>0.0</td>\n",
       "    </tr>\n",
       "    <tr>\n",
       "      <th>3</th>\n",
       "      <td>0.0</td>\n",
       "      <td>0.0</td>\n",
       "      <td>0.0</td>\n",
       "      <td>0.0</td>\n",
       "      <td>0.0</td>\n",
       "      <td>0.0</td>\n",
       "      <td>0.0</td>\n",
       "      <td>0.0</td>\n",
       "      <td>0.0</td>\n",
       "      <td>0.0</td>\n",
       "      <td>...</td>\n",
       "      <td>0.0</td>\n",
       "      <td>0.0</td>\n",
       "      <td>0.0</td>\n",
       "      <td>0.0</td>\n",
       "      <td>0.0</td>\n",
       "      <td>0.0</td>\n",
       "      <td>0.0</td>\n",
       "      <td>0.0</td>\n",
       "      <td>0.0</td>\n",
       "      <td>0.0</td>\n",
       "    </tr>\n",
       "    <tr>\n",
       "      <th>4</th>\n",
       "      <td>0.0</td>\n",
       "      <td>0.0</td>\n",
       "      <td>0.0</td>\n",
       "      <td>0.0</td>\n",
       "      <td>0.0</td>\n",
       "      <td>0.0</td>\n",
       "      <td>0.0</td>\n",
       "      <td>0.0</td>\n",
       "      <td>0.0</td>\n",
       "      <td>0.0</td>\n",
       "      <td>...</td>\n",
       "      <td>0.0</td>\n",
       "      <td>0.0</td>\n",
       "      <td>0.0</td>\n",
       "      <td>0.0</td>\n",
       "      <td>0.0</td>\n",
       "      <td>0.0</td>\n",
       "      <td>0.0</td>\n",
       "      <td>0.0</td>\n",
       "      <td>0.0</td>\n",
       "      <td>0.0</td>\n",
       "    </tr>\n",
       "    <tr>\n",
       "      <th>...</th>\n",
       "      <td>...</td>\n",
       "      <td>...</td>\n",
       "      <td>...</td>\n",
       "      <td>...</td>\n",
       "      <td>...</td>\n",
       "      <td>...</td>\n",
       "      <td>...</td>\n",
       "      <td>...</td>\n",
       "      <td>...</td>\n",
       "      <td>...</td>\n",
       "      <td>...</td>\n",
       "      <td>...</td>\n",
       "      <td>...</td>\n",
       "      <td>...</td>\n",
       "      <td>...</td>\n",
       "      <td>...</td>\n",
       "      <td>...</td>\n",
       "      <td>...</td>\n",
       "      <td>...</td>\n",
       "      <td>...</td>\n",
       "      <td>...</td>\n",
       "    </tr>\n",
       "    <tr>\n",
       "      <th>37933</th>\n",
       "      <td>1.0</td>\n",
       "      <td>0.0</td>\n",
       "      <td>0.0</td>\n",
       "      <td>0.0</td>\n",
       "      <td>0.0</td>\n",
       "      <td>0.0</td>\n",
       "      <td>0.0</td>\n",
       "      <td>0.0</td>\n",
       "      <td>0.0</td>\n",
       "      <td>0.0</td>\n",
       "      <td>...</td>\n",
       "      <td>0.0</td>\n",
       "      <td>0.0</td>\n",
       "      <td>0.0</td>\n",
       "      <td>0.0</td>\n",
       "      <td>0.0</td>\n",
       "      <td>0.0</td>\n",
       "      <td>0.0</td>\n",
       "      <td>0.0</td>\n",
       "      <td>0.0</td>\n",
       "      <td>0.0</td>\n",
       "    </tr>\n",
       "    <tr>\n",
       "      <th>37934</th>\n",
       "      <td>0.0</td>\n",
       "      <td>0.0</td>\n",
       "      <td>0.0</td>\n",
       "      <td>0.0</td>\n",
       "      <td>0.0</td>\n",
       "      <td>0.0</td>\n",
       "      <td>0.0</td>\n",
       "      <td>0.0</td>\n",
       "      <td>0.0</td>\n",
       "      <td>0.0</td>\n",
       "      <td>...</td>\n",
       "      <td>0.0</td>\n",
       "      <td>0.0</td>\n",
       "      <td>0.0</td>\n",
       "      <td>0.0</td>\n",
       "      <td>0.0</td>\n",
       "      <td>0.0</td>\n",
       "      <td>0.0</td>\n",
       "      <td>0.0</td>\n",
       "      <td>0.0</td>\n",
       "      <td>0.0</td>\n",
       "    </tr>\n",
       "    <tr>\n",
       "      <th>37935</th>\n",
       "      <td>1.0</td>\n",
       "      <td>0.0</td>\n",
       "      <td>0.0</td>\n",
       "      <td>0.0</td>\n",
       "      <td>0.0</td>\n",
       "      <td>0.0</td>\n",
       "      <td>1.0</td>\n",
       "      <td>0.0</td>\n",
       "      <td>0.0</td>\n",
       "      <td>0.0</td>\n",
       "      <td>...</td>\n",
       "      <td>0.0</td>\n",
       "      <td>1.0</td>\n",
       "      <td>0.0</td>\n",
       "      <td>0.0</td>\n",
       "      <td>1.0</td>\n",
       "      <td>1.0</td>\n",
       "      <td>1.0</td>\n",
       "      <td>1.0</td>\n",
       "      <td>0.0</td>\n",
       "      <td>0.0</td>\n",
       "    </tr>\n",
       "    <tr>\n",
       "      <th>37936</th>\n",
       "      <td>0.0</td>\n",
       "      <td>0.0</td>\n",
       "      <td>0.0</td>\n",
       "      <td>0.0</td>\n",
       "      <td>0.0</td>\n",
       "      <td>0.0</td>\n",
       "      <td>0.0</td>\n",
       "      <td>0.0</td>\n",
       "      <td>0.0</td>\n",
       "      <td>0.0</td>\n",
       "      <td>...</td>\n",
       "      <td>0.0</td>\n",
       "      <td>0.0</td>\n",
       "      <td>0.0</td>\n",
       "      <td>0.0</td>\n",
       "      <td>0.0</td>\n",
       "      <td>0.0</td>\n",
       "      <td>0.0</td>\n",
       "      <td>0.0</td>\n",
       "      <td>0.0</td>\n",
       "      <td>0.0</td>\n",
       "    </tr>\n",
       "    <tr>\n",
       "      <th>37937</th>\n",
       "      <td>1.0</td>\n",
       "      <td>0.0</td>\n",
       "      <td>0.0</td>\n",
       "      <td>0.0</td>\n",
       "      <td>0.0</td>\n",
       "      <td>0.0</td>\n",
       "      <td>1.0</td>\n",
       "      <td>0.0</td>\n",
       "      <td>0.0</td>\n",
       "      <td>0.0</td>\n",
       "      <td>...</td>\n",
       "      <td>0.0</td>\n",
       "      <td>0.0</td>\n",
       "      <td>0.0</td>\n",
       "      <td>0.0</td>\n",
       "      <td>1.0</td>\n",
       "      <td>1.0</td>\n",
       "      <td>0.0</td>\n",
       "      <td>0.0</td>\n",
       "      <td>1.0</td>\n",
       "      <td>0.0</td>\n",
       "    </tr>\n",
       "  </tbody>\n",
       "</table>\n",
       "<p>37938 rows × 96 columns</p>\n",
       "</div>"
      ],
      "text/plain": [
       "       Accepts Credit Cards  Accepts Insurance  Ages Allowed_18plus  \\\n",
       "0                       1.0                0.0                  0.0   \n",
       "1                       0.0                0.0                  0.0   \n",
       "2                       1.0                0.0                  0.0   \n",
       "3                       0.0                0.0                  0.0   \n",
       "4                       0.0                0.0                  0.0   \n",
       "...                     ...                ...                  ...   \n",
       "37933                   1.0                0.0                  0.0   \n",
       "37934                   0.0                0.0                  0.0   \n",
       "37935                   1.0                0.0                  0.0   \n",
       "37936                   0.0                0.0                  0.0   \n",
       "37937                   1.0                0.0                  0.0   \n",
       "\n",
       "       Ages Allowed_21plus  Ages Allowed_allages  Alcohol_beer_and_wine  \\\n",
       "0                      0.0                   0.0                    0.0   \n",
       "1                      0.0                   0.0                    0.0   \n",
       "2                      0.0                   0.0                    0.0   \n",
       "3                      0.0                   0.0                    0.0   \n",
       "4                      0.0                   0.0                    0.0   \n",
       "...                    ...                   ...                    ...   \n",
       "37933                  0.0                   0.0                    0.0   \n",
       "37934                  0.0                   0.0                    0.0   \n",
       "37935                  0.0                   0.0                    0.0   \n",
       "37936                  0.0                   0.0                    0.0   \n",
       "37937                  0.0                   0.0                    0.0   \n",
       "\n",
       "       Alcohol_full_bar  Alcohol_none  Ambience_casual  Ambience_classy  ...  \\\n",
       "0                   1.0           0.0              0.0              0.0  ...   \n",
       "1                   0.0           0.0              0.0              0.0  ...   \n",
       "2                   0.0           0.0              0.0              0.0  ...   \n",
       "3                   0.0           0.0              0.0              0.0  ...   \n",
       "4                   0.0           0.0              0.0              0.0  ...   \n",
       "...                 ...           ...              ...              ...  ...   \n",
       "37933               0.0           0.0              0.0              0.0  ...   \n",
       "37934               0.0           0.0              0.0              0.0  ...   \n",
       "37935               1.0           0.0              0.0              0.0  ...   \n",
       "37936               0.0           0.0              0.0              0.0  ...   \n",
       "37937               1.0           0.0              0.0              0.0  ...   \n",
       "\n",
       "       Smoking_no  Smoking_outdoor  Smoking_yes  Take-out  Takes Reservations  \\\n",
       "0             0.0              0.0          0.0       0.0                 0.0   \n",
       "1             0.0              0.0          0.0       0.0                 0.0   \n",
       "2             0.0              0.0          0.0       0.0                 0.0   \n",
       "3             0.0              0.0          0.0       0.0                 0.0   \n",
       "4             0.0              0.0          0.0       0.0                 0.0   \n",
       "...           ...              ...          ...       ...                 ...   \n",
       "37933         0.0              0.0          0.0       0.0                 0.0   \n",
       "37934         0.0              0.0          0.0       0.0                 0.0   \n",
       "37935         0.0              1.0          0.0       0.0                 1.0   \n",
       "37936         0.0              0.0          0.0       0.0                 0.0   \n",
       "37937         0.0              0.0          0.0       0.0                 1.0   \n",
       "\n",
       "       Waiter Service  Wheelchair Accessible  Wi-Fi_free  Wi-Fi_no  Wi-Fi_paid  \n",
       "0                 0.0                    1.0         0.0       0.0         1.0  \n",
       "1                 0.0                    0.0         0.0       0.0         0.0  \n",
       "2                 0.0                    0.0         0.0       0.0         0.0  \n",
       "3                 0.0                    0.0         0.0       0.0         0.0  \n",
       "4                 0.0                    0.0         0.0       0.0         0.0  \n",
       "...               ...                    ...         ...       ...         ...  \n",
       "37933             0.0                    0.0         0.0       0.0         0.0  \n",
       "37934             0.0                    0.0         0.0       0.0         0.0  \n",
       "37935             1.0                    1.0         1.0       0.0         0.0  \n",
       "37936             0.0                    0.0         0.0       0.0         0.0  \n",
       "37937             1.0                    0.0         0.0       1.0         0.0  \n",
       "\n",
       "[37938 rows x 96 columns]"
      ]
     },
     "execution_count": 101,
     "metadata": {},
     "output_type": "execute_result"
    }
   ],
   "source": [
    "attribute_columns_df = pd.DataFrame(attribute_columns.todense(),columns=test_vectorizer.feature_names_)\n",
    "attribute_columns_df"
   ]
  },
  {
   "cell_type": "code",
   "execution_count": 102,
   "metadata": {},
   "outputs": [
    {
     "data": {
      "text/plain": [
       "{'Wi-Fi': 'paid',\n",
       " 'Price Range': 4,\n",
       " 'Alcohol': 'full_bar',\n",
       " 'Coat Check': True,\n",
       " 'Happy Hour': False,\n",
       " 'Outdoor Seating': False,\n",
       " 'Parking': {'garage': False,\n",
       "  'street': False,\n",
       "  'validated': False,\n",
       "  'lot': False,\n",
       "  'valet': False},\n",
       " 'Accepts Credit Cards': True,\n",
       " 'Wheelchair Accessible': True}"
      ]
     },
     "execution_count": 102,
     "metadata": {},
     "output_type": "execute_result"
    }
   ],
   "source": [
    "#LEt's check if the data is correct\n",
    "df.iloc[shuffle_rows_idx[0]]['attributes']"
   ]
  },
  {
   "cell_type": "code",
   "execution_count": null,
   "metadata": {},
   "outputs": [],
   "source": []
  },
  {
   "cell_type": "code",
   "execution_count": 103,
   "metadata": {},
   "outputs": [],
   "source": [
    "from sklearn.linear_model import Ridge\n",
    "\n",
    "pipe_attrib = Pipeline([\n",
    "    ('to dataframe', ToDataFrame()),\n",
    "    ('attributes selection and encoding', attrib_tranform),\n",
    "    ('regressor',Ridge(alpha=0.001))\n",
    "])"
   ]
  },
  {
   "cell_type": "code",
   "execution_count": 104,
   "metadata": {},
   "outputs": [
    {
     "data": {
      "text/html": [
       "<style>div.sk-top-container {color: black;background-color: white;}div.sk-toggleable {background-color: white;}label.sk-toggleable__label {cursor: pointer;display: block;width: 100%;margin-bottom: 0;padding: 0.2em 0.3em;box-sizing: border-box;text-align: center;}div.sk-toggleable__content {max-height: 0;max-width: 0;overflow: hidden;text-align: left;background-color: #f0f8ff;}div.sk-toggleable__content pre {margin: 0.2em;color: black;border-radius: 0.25em;background-color: #f0f8ff;}input.sk-toggleable__control:checked~div.sk-toggleable__content {max-height: 200px;max-width: 100%;overflow: auto;}div.sk-estimator input.sk-toggleable__control:checked~label.sk-toggleable__label {background-color: #d4ebff;}div.sk-label input.sk-toggleable__control:checked~label.sk-toggleable__label {background-color: #d4ebff;}input.sk-hidden--visually {border: 0;clip: rect(1px 1px 1px 1px);clip: rect(1px, 1px, 1px, 1px);height: 1px;margin: -1px;overflow: hidden;padding: 0;position: absolute;width: 1px;}div.sk-estimator {font-family: monospace;background-color: #f0f8ff;margin: 0.25em 0.25em;border: 1px dotted black;border-radius: 0.25em;box-sizing: border-box;}div.sk-estimator:hover {background-color: #d4ebff;}div.sk-parallel-item::after {content: \"\";width: 100%;border-bottom: 1px solid gray;flex-grow: 1;}div.sk-label:hover label.sk-toggleable__label {background-color: #d4ebff;}div.sk-serial::before {content: \"\";position: absolute;border-left: 1px solid gray;box-sizing: border-box;top: 2em;bottom: 0;left: 50%;}div.sk-serial {display: flex;flex-direction: column;align-items: center;background-color: white;}div.sk-item {z-index: 1;}div.sk-parallel {display: flex;align-items: stretch;justify-content: center;background-color: white;}div.sk-parallel-item {display: flex;flex-direction: column;position: relative;background-color: white;}div.sk-parallel-item:first-child::after {align-self: flex-end;width: 50%;}div.sk-parallel-item:last-child::after {align-self: flex-start;width: 50%;}div.sk-parallel-item:only-child::after {width: 0;}div.sk-dashed-wrapped {border: 1px dashed gray;margin: 0.2em;box-sizing: border-box;padding-bottom: 0.1em;background-color: white;position: relative;}div.sk-label label {font-family: monospace;font-weight: bold;background-color: white;display: inline-block;line-height: 1.2em;}div.sk-label-container {position: relative;z-index: 2;text-align: center;}div.sk-container {display: inline-block;position: relative;}</style><div class=\"sk-top-container\"><div class=\"sk-container\"><div class=\"sk-item sk-dashed-wrapped\"><div class=\"sk-label-container\"><div class=\"sk-label sk-toggleable\"><input class=\"sk-toggleable__control sk-hidden--visually\" id=\"d0a87472-744b-41e5-93dc-235bd1804645\" type=\"checkbox\" ><label class=\"sk-toggleable__label\" for=\"d0a87472-744b-41e5-93dc-235bd1804645\">Pipeline</label><div class=\"sk-toggleable__content\"><pre>Pipeline(steps=[('to dataframe', ToDataFrame()),\n",
       "                ('attributes selection and encoding',\n",
       "                 ColumnTransformer(transformers=[('attributes',\n",
       "                                                  Pipeline(steps=[('to dict '\n",
       "                                                                   'series',\n",
       "                                                                   DictFlattener()),\n",
       "                                                                  ('to binary '\n",
       "                                                                   'vectors',\n",
       "                                                                   DictVectorizer())]),\n",
       "                                                  'attributes')])),\n",
       "                ('regressor', Ridge(alpha=0.001))])</pre></div></div></div><div class=\"sk-serial\"><div class=\"sk-item\"><div class=\"sk-estimator sk-toggleable\"><input class=\"sk-toggleable__control sk-hidden--visually\" id=\"729b5374-20ef-4e5a-8318-e3f9cbb3e66d\" type=\"checkbox\" ><label class=\"sk-toggleable__label\" for=\"729b5374-20ef-4e5a-8318-e3f9cbb3e66d\">ToDataFrame</label><div class=\"sk-toggleable__content\"><pre>ToDataFrame()</pre></div></div></div><div class=\"sk-item sk-dashed-wrapped\"><div class=\"sk-label-container\"><div class=\"sk-label sk-toggleable\"><input class=\"sk-toggleable__control sk-hidden--visually\" id=\"e7056185-8972-460a-bc06-4e5b931944f9\" type=\"checkbox\" ><label class=\"sk-toggleable__label\" for=\"e7056185-8972-460a-bc06-4e5b931944f9\">attributes selection and encoding: ColumnTransformer</label><div class=\"sk-toggleable__content\"><pre>ColumnTransformer(transformers=[('attributes',\n",
       "                                 Pipeline(steps=[('to dict series',\n",
       "                                                  DictFlattener()),\n",
       "                                                 ('to binary vectors',\n",
       "                                                  DictVectorizer())]),\n",
       "                                 'attributes')])</pre></div></div></div><div class=\"sk-parallel\"><div class=\"sk-parallel-item\"><div class=\"sk-item\"><div class=\"sk-label-container\"><div class=\"sk-label sk-toggleable\"><input class=\"sk-toggleable__control sk-hidden--visually\" id=\"cf405baa-2fa4-45fe-b9b2-374c9db4c05b\" type=\"checkbox\" ><label class=\"sk-toggleable__label\" for=\"cf405baa-2fa4-45fe-b9b2-374c9db4c05b\">attributes</label><div class=\"sk-toggleable__content\"><pre>attributes</pre></div></div></div><div class=\"sk-serial\"><div class=\"sk-item\"><div class=\"sk-serial\"><div class=\"sk-item\"><div class=\"sk-estimator sk-toggleable\"><input class=\"sk-toggleable__control sk-hidden--visually\" id=\"d19b1db1-e3a5-4ba7-8a9f-db81a9403703\" type=\"checkbox\" ><label class=\"sk-toggleable__label\" for=\"d19b1db1-e3a5-4ba7-8a9f-db81a9403703\">DictFlattener</label><div class=\"sk-toggleable__content\"><pre>DictFlattener()</pre></div></div></div><div class=\"sk-item\"><div class=\"sk-estimator sk-toggleable\"><input class=\"sk-toggleable__control sk-hidden--visually\" id=\"f56002fc-45b6-4e6c-9878-5f03b8e0f19a\" type=\"checkbox\" ><label class=\"sk-toggleable__label\" for=\"f56002fc-45b6-4e6c-9878-5f03b8e0f19a\">DictVectorizer</label><div class=\"sk-toggleable__content\"><pre>DictVectorizer()</pre></div></div></div></div></div></div></div></div></div></div><div class=\"sk-item\"><div class=\"sk-estimator sk-toggleable\"><input class=\"sk-toggleable__control sk-hidden--visually\" id=\"f90a159e-74d7-4b41-bb10-af09d907c01a\" type=\"checkbox\" ><label class=\"sk-toggleable__label\" for=\"f90a159e-74d7-4b41-bb10-af09d907c01a\">Ridge</label><div class=\"sk-toggleable__content\"><pre>Ridge(alpha=0.001)</pre></div></div></div></div></div></div></div>"
      ],
      "text/plain": [
       "Pipeline(steps=[('to dataframe', ToDataFrame()),\n",
       "                ('attributes selection and encoding',\n",
       "                 ColumnTransformer(transformers=[('attributes',\n",
       "                                                  Pipeline(steps=[('to dict '\n",
       "                                                                   'series',\n",
       "                                                                   DictFlattener()),\n",
       "                                                                  ('to binary '\n",
       "                                                                   'vectors',\n",
       "                                                                   DictVectorizer())]),\n",
       "                                                  'attributes')])),\n",
       "                ('regressor', Ridge(alpha=0.001))])"
      ]
     },
     "execution_count": 104,
     "metadata": {},
     "output_type": "execute_result"
    }
   ],
   "source": [
    "pipe_attrib"
   ]
  },
  {
   "cell_type": "code",
   "execution_count": 105,
   "metadata": {},
   "outputs": [],
   "source": [
    "#Because all these attribute features are 0 or 1, there really is no need to do any scaling, etc."
   ]
  },
  {
   "cell_type": "code",
   "execution_count": 106,
   "metadata": {},
   "outputs": [],
   "source": [
    "#Let's do a cross validation as before and see how well does this model perform:\n",
    "param_grid = {'regressor__alpha': np.logspace(-5,5,10)} \n",
    "attribute_model_linear = GridSearchCV(pipe_attrib, param_grid, cv=5, n_jobs=2, verbose=1)"
   ]
  },
  {
   "cell_type": "code",
   "execution_count": 107,
   "metadata": {},
   "outputs": [
    {
     "name": "stdout",
     "output_type": "stream",
     "text": [
      "Loaded pickle file with attribute model PURELY LINEAR.\n"
     ]
    }
   ],
   "source": [
    "#I will save the model with dill after fitting the model the first time, then I will load it from memory the following times\n",
    "import dill\n",
    "\n",
    "#If the model file already exists, I load it:\n",
    "try:\n",
    "    with open('attribute_model_linear.dill', 'rb') as f:\n",
    "        attribute_model_linear = dill.load(f)\n",
    "        print('Loaded pickle file with attribute model PURELY LINEAR.')\n",
    "except: #if not, actually perform the fit then save the model for next time:\n",
    "    \n",
    "    attribute_model_linear.fit(data_shuffled, star_ratings_shuffled)\n",
    "    \n",
    "    with open('attribute_model_linear.dill', 'wb') as f:\n",
    "        dill.dump(attribute_model_linear, f)\n",
    "    print('Saved pickle file with attribute model PURELY LINEAR.')"
   ]
  },
  {
   "cell_type": "code",
   "execution_count": 108,
   "metadata": {},
   "outputs": [
    {
     "data": {
      "text/plain": [
       "{'regressor__alpha': 3.593813663804626}"
      ]
     },
     "execution_count": 108,
     "metadata": {},
     "output_type": "execute_result"
    }
   ],
   "source": [
    "#Let's check the optimized 'alpha' to make sure I am not at the edge of the search space\n",
    "attribute_model_linear.best_params_"
   ]
  },
  {
   "cell_type": "code",
   "execution_count": 109,
   "metadata": {},
   "outputs": [
    {
     "data": {
      "text/plain": [
       "{'mean_fit_time': array([0.91598926, 0.91220169, 1.01593409, 0.89907689, 0.88850031,\n",
       "        0.89570875, 0.89332337, 0.79154811, 0.84176702, 0.81857204]),\n",
       " 'std_fit_time': array([0.1403404 , 0.21749226, 0.14260783, 0.18129673, 0.14922617,\n",
       "        0.13580751, 0.16494217, 0.09178925, 0.17068837, 0.16452408]),\n",
       " 'mean_score_time': array([0.17948961, 0.14176545, 0.19908466, 0.17052131, 0.20418367,\n",
       "        0.20438395, 0.17782383, 0.21418939, 0.15639744, 0.15324898]),\n",
       " 'std_score_time': array([0.04748012, 0.00251481, 0.04235872, 0.03393325, 0.04377204,\n",
       "        0.05108225, 0.04253237, 0.03912811, 0.00689144, 0.01274317]),\n",
       " 'param_regressor__alpha': masked_array(data=[1e-05, 0.0001291549665014884, 0.0016681005372000592,\n",
       "                    0.021544346900318846, 0.2782559402207126,\n",
       "                    3.593813663804626, 46.41588833612782,\n",
       "                    599.4842503189421, 7742.636826811277, 100000.0],\n",
       "              mask=[False, False, False, False, False, False, False, False,\n",
       "                    False, False],\n",
       "        fill_value='?',\n",
       "             dtype=object),\n",
       " 'params': [{'regressor__alpha': 1e-05},\n",
       "  {'regressor__alpha': 0.0001291549665014884},\n",
       "  {'regressor__alpha': 0.0016681005372000592},\n",
       "  {'regressor__alpha': 0.021544346900318846},\n",
       "  {'regressor__alpha': 0.2782559402207126},\n",
       "  {'regressor__alpha': 3.593813663804626},\n",
       "  {'regressor__alpha': 46.41588833612782},\n",
       "  {'regressor__alpha': 599.4842503189421},\n",
       "  {'regressor__alpha': 7742.636826811277},\n",
       "  {'regressor__alpha': 100000.0}],\n",
       " 'split0_test_score': array([0.07019159, 0.07019159, 0.07019157, 0.0701914 , 0.07018794,\n",
       "        0.07015363, 0.0693972 , 0.0632922 , 0.03457109, 0.00894514]),\n",
       " 'split1_test_score': array([0.07059855, 0.07059771, 0.07060047, 0.07065734, 0.07061546,\n",
       "        0.07086973, 0.07087847, 0.06428578, 0.0346321 , 0.00922484]),\n",
       " 'split2_test_score': array([0.06111239, 0.06110428, 0.06111227, 0.06111497, 0.0611397 ,\n",
       "        0.0613656 , 0.06163961, 0.05735088, 0.03132091, 0.00777726]),\n",
       " 'split3_test_score': array([0.07541421, 0.07541411, 0.075408  , 0.07542384, 0.07557989,\n",
       "        0.07599506, 0.07591235, 0.06808168, 0.03572118, 0.00907769]),\n",
       " 'split4_test_score': array([0.07059734, 0.0705962 , 0.07059663, 0.07060439, 0.07067235,\n",
       "        0.07109153, 0.0710945 , 0.06458206, 0.03377038, 0.00863191]),\n",
       " 'mean_test_score': array([0.06958282, 0.06958078, 0.06958179, 0.06959839, 0.06963907,\n",
       "        0.06989511, 0.06978443, 0.06351852, 0.03400313, 0.00873137]),\n",
       " 'std_test_score': array([0.00465156, 0.0046544 , 0.00465009, 0.00465595, 0.00468732,\n",
       "        0.00474152, 0.00462499, 0.00348233, 0.00147773, 0.00051563]),\n",
       " 'rank_test_score': array([ 5,  7,  6,  4,  3,  1,  2,  8,  9, 10], dtype=int32)}"
      ]
     },
     "execution_count": 109,
     "metadata": {},
     "output_type": "execute_result"
    }
   ],
   "source": [
    "#and check for the performance of this model\n",
    "attribute_model_linear.cv_results_"
   ]
  },
  {
   "cell_type": "code",
   "execution_count": 110,
   "metadata": {},
   "outputs": [
    {
     "data": {
      "text/plain": [
       "0.06989510915561545"
      ]
     },
     "execution_count": 110,
     "metadata": {},
     "output_type": "execute_result"
    }
   ],
   "source": [
    "attribute_model_linear.best_score_"
   ]
  },
  {
   "cell_type": "code",
   "execution_count": 111,
   "metadata": {},
   "outputs": [],
   "source": [
    "## Let's check how badly does the purely linear model on the grader test set\n",
    "#grader.score('ml__attribute_model', attribute_model_linear.predict)  "
   ]
  },
  {
   "cell_type": "code",
   "execution_count": 112,
   "metadata": {},
   "outputs": [],
   "source": [
    "#Not that bad: around 0.75, but of course it's insufficient to pass the 0.9 threshold"
   ]
  },
  {
   "cell_type": "code",
   "execution_count": 113,
   "metadata": {},
   "outputs": [],
   "source": [
    "#I now need to add a nonliner predictor at the end. First let's assess how the residuals from the linear predictor \n",
    "#look like for a random subset of the training data, and see if we can infer anything on \n",
    "#how to design the nonlinear model"
   ]
  },
  {
   "cell_type": "code",
   "execution_count": 114,
   "metadata": {},
   "outputs": [
    {
     "data": {
      "text/plain": [
       "{'business_id': 'yaMFJWd8aDipVDRNZjxaPA',\n",
       " 'full_address': 'The Balmoral Hotel\\n1 Princes St\\nOld Town\\nEdinburgh EH2 2EQ',\n",
       " 'hours': {'Monday': {'close': '00:00', 'open': '09:00'},\n",
       "  'Tuesday': {'close': '00:00', 'open': '09:00'},\n",
       "  'Friday': {'close': '00:00', 'open': '09:00'},\n",
       "  'Wednesday': {'close': '00:00', 'open': '09:00'},\n",
       "  'Thursday': {'close': '00:00', 'open': '09:00'},\n",
       "  'Sunday': {'close': '00:00', 'open': '09:00'},\n",
       "  'Saturday': {'close': '00:00', 'open': '09:00'}},\n",
       " 'open': True,\n",
       " 'categories': ['Food', 'Coffee & Tea'],\n",
       " 'city': 'Edinburgh',\n",
       " 'review_count': 5,\n",
       " 'name': 'Palm Court',\n",
       " 'neighborhoods': ['Old Town'],\n",
       " 'longitude': -3.189613,\n",
       " 'state': 'EDH',\n",
       " 'stars': 4.0,\n",
       " 'latitude': 55.9526566,\n",
       " 'attributes': {'Wi-Fi': 'paid',\n",
       "  'Price Range': 4,\n",
       "  'Alcohol': 'full_bar',\n",
       "  'Coat Check': True,\n",
       "  'Happy Hour': False,\n",
       "  'Outdoor Seating': False,\n",
       "  'Parking': {'garage': False,\n",
       "   'street': False,\n",
       "   'validated': False,\n",
       "   'lot': False,\n",
       "   'valet': False},\n",
       "  'Accepts Credit Cards': True,\n",
       "  'Wheelchair Accessible': True},\n",
       " 'type': 'business'}"
      ]
     },
     "execution_count": 114,
     "metadata": {},
     "output_type": "execute_result"
    }
   ],
   "source": [
    "#recall that data_shuffled (like data) is a list of dictionaries\n",
    "data_shuffled[0]"
   ]
  },
  {
   "cell_type": "code",
   "execution_count": 115,
   "metadata": {},
   "outputs": [
    {
     "data": {
      "text/plain": [
       "37938"
      ]
     },
     "execution_count": 115,
     "metadata": {},
     "output_type": "execute_result"
    }
   ],
   "source": [
    "len(data_shuffled)"
   ]
  },
  {
   "cell_type": "code",
   "execution_count": 116,
   "metadata": {},
   "outputs": [
    {
     "data": {
      "text/plain": [
       "37938"
      ]
     },
     "execution_count": 116,
     "metadata": {},
     "output_type": "execute_result"
    }
   ],
   "source": [
    "len(star_ratings_shuffled)"
   ]
  },
  {
   "cell_type": "code",
   "execution_count": 117,
   "metadata": {},
   "outputs": [],
   "source": [
    "#Let's pick every 8-th element (roughly 5000 points) as a temporary test set to look at\n",
    "data_shuffled_test = data_shuffled[::8]\n",
    "star_ratings_shuffled_test = star_ratings_shuffled[::8]"
   ]
  },
  {
   "cell_type": "code",
   "execution_count": 118,
   "metadata": {},
   "outputs": [],
   "source": [
    "star_ratings_predicted_test = attribute_model_linear.predict(data_shuffled_test)"
   ]
  },
  {
   "cell_type": "code",
   "execution_count": 119,
   "metadata": {},
   "outputs": [
    {
     "data": {
      "text/plain": [
       "0.06345590812350554"
      ]
     },
     "execution_count": 119,
     "metadata": {},
     "output_type": "execute_result"
    }
   ],
   "source": [
    "attribute_model_linear.score(data_shuffled_test,np.array(star_ratings_shuffled_test))"
   ]
  },
  {
   "cell_type": "code",
   "execution_count": 120,
   "metadata": {},
   "outputs": [
    {
     "data": {
      "text/plain": [
       "Text(0, 0.5, 'predicted with linear model')"
      ]
     },
     "execution_count": 120,
     "metadata": {},
     "output_type": "execute_result"
    },
    {
     "data": {
      "image/png": "[encoded data removed]",
      "text/plain": [
       "<Figure size 432x288 with 1 Axes>"
      ]
     },
     "metadata": {},
     "output_type": "display_data"
    }
   ],
   "source": [
    "plt.plot(star_ratings_shuffled_test,star_ratings_predicted_test,'g.')\n",
    "plt.xlabel('true rating')\n",
    "plt.ylabel('predicted with linear model')"
   ]
  },
  {
   "cell_type": "markdown",
   "metadata": {},
   "source": [
    "### Here starts the analysis of the analysis and fitting of the residuals after the linear modeling"
   ]
  },
  {
   "cell_type": "code",
   "execution_count": 121,
   "metadata": {},
   "outputs": [],
   "source": [
    "res_linear_model_test = star_ratings_shuffled_test - star_ratings_predicted_test "
   ]
  },
  {
   "cell_type": "code",
   "execution_count": 122,
   "metadata": {},
   "outputs": [
    {
     "data": {
      "text/plain": [
       "[<matplotlib.lines.Line2D at 0x7fccb0927670>]"
      ]
     },
     "execution_count": 122,
     "metadata": {},
     "output_type": "execute_result"
    },
    {
     "data": {
      "image/png": "[encoded data removed]",
      "text/plain": [
       "<Figure size 432x288 with 1 Axes>"
      ]
     },
     "metadata": {},
     "output_type": "display_data"
    }
   ],
   "source": [
    "plt.plot(res_linear_model_test[:1000])"
   ]
  },
  {
   "cell_type": "code",
   "execution_count": 123,
   "metadata": {},
   "outputs": [
    {
     "data": {
      "text/plain": [
       "Text(0, 0.5, 'linear model error')"
      ]
     },
     "execution_count": 123,
     "metadata": {},
     "output_type": "execute_result"
    },
    {
     "data": {
      "image/png": "[encoded data removed]",
      "text/plain": [
       "<Figure size 432x288 with 1 Axes>"
      ]
     },
     "metadata": {},
     "output_type": "display_data"
    }
   ],
   "source": [
    "#Let's see where we make the most errors, by plotting residuals as a function of star rating\n",
    "plt.plot(star_ratings_shuffled_test,res_linear_model_test,'g.')\n",
    "plt.xlabel('actual rating')\n",
    "plt.ylabel('linear model error')"
   ]
  },
  {
   "cell_type": "code",
   "execution_count": 124,
   "metadata": {},
   "outputs": [
    {
     "name": "stderr",
     "output_type": "stream",
     "text": [
      "/opt/conda/envs/data3/lib/python3.8/site-packages/seaborn/distributions.py:2551: FutureWarning: `distplot` is a deprecated function and will be removed in a future version. Please adapt your code to use either `displot` (a figure-level function with similar flexibility) or `histplot` (an axes-level function for histograms).\n",
      "  warnings.warn(msg, FutureWarning)\n"
     ]
    },
    {
     "data": {
      "text/plain": [
       "<AxesSubplot:ylabel='Density'>"
      ]
     },
     "execution_count": 124,
     "metadata": {},
     "output_type": "execute_result"
    },
    {
     "data": {
      "image/png": "[encoded data removed]",
      "text/plain": [
       "<Figure size 432x288 with 1 Axes>"
      ]
     },
     "metadata": {},
     "output_type": "display_data"
    }
   ],
   "source": [
    "#It looks we are mostly predicting a star rating of 3-4 no-matter the actual rating... let's check if that's the case\n",
    "sns.distplot(star_ratings_predicted_test)"
   ]
  },
  {
   "cell_type": "code",
   "execution_count": 125,
   "metadata": {},
   "outputs": [
    {
     "data": {
      "text/plain": [
       "<AxesSubplot:ylabel='Count'>"
      ]
     },
     "execution_count": 125,
     "metadata": {},
     "output_type": "execute_result"
    },
    {
     "data": {
      "image/png": "[encoded data removed]",
      "text/plain": [
       "<Figure size 432x288 with 1 Axes>"
      ]
     },
     "metadata": {},
     "output_type": "display_data"
    }
   ],
   "source": [
    "#Whereas the actual star ratings are more spread-out\n",
    "sns.histplot(star_ratings_shuffled_test)"
   ]
  },
  {
   "cell_type": "markdown",
   "metadata": {},
   "source": [
    "### Start with a polynomial model (order 2 or 3)"
   ]
  },
  {
   "cell_type": "code",
   "execution_count": 126,
   "metadata": {},
   "outputs": [],
   "source": [
    "#Since we have errors in both directions (negative and positive), fitting a third order polynomial \n",
    "#or something like that to the residual error should work"
   ]
  },
  {
   "cell_type": "code",
   "execution_count": 127,
   "metadata": {},
   "outputs": [],
   "source": [
    "from sklearn.preprocessing import PolynomialFeatures, MinMaxScaler\n",
    "\n",
    "second_order_residual_pipe = Pipeline([('to dataframe', ToDataFrame()),\n",
    "    ('attributes selection and encoding', attrib_tranform),                                                                    \n",
    "    ('polynomial_trans', PolynomialFeatures(degree=2,include_bias=False)),\n",
    "    ('ridge', Ridge(alpha=1)) \n",
    "    ])\n",
    "\n",
    "# I also tried 3rd order but gave worse results (probably it was overfitting, and I could only fit it on some of the data\n",
    "# as it was taking too long to train)\n",
    "#\n",
    "# third_order_residual_pipe = Pipeline([('to dataframe', ToDataFrame()),\n",
    "#     ('attributes selection and encoding', attrib_tranform),                                                                    \n",
    "#     ('polynomial_trans', PolynomialFeatures(3,include_bias=False)),\n",
    "#     ('ridge', Ridge(alpha=100)) #('ridge', Ridge(alpha=1)) #('ridge', Ridge(alpha=0.001))\n",
    "#     ])\n",
    "\n",
    "\n",
    "#I also tried order 4 but it crashed when fitting because it ran out of memory"
   ]
  },
  {
   "cell_type": "code",
   "execution_count": 128,
   "metadata": {},
   "outputs": [
    {
     "data": {
      "text/plain": [
       "(4743,)"
      ]
     },
     "execution_count": 128,
     "metadata": {},
     "output_type": "execute_result"
    }
   ],
   "source": [
    "np.array(res_linear_model_test).shape"
   ]
  },
  {
   "cell_type": "code",
   "execution_count": 129,
   "metadata": {},
   "outputs": [
    {
     "data": {
      "text/html": [
       "<style>div.sk-top-container {color: black;background-color: white;}div.sk-toggleable {background-color: white;}label.sk-toggleable__label {cursor: pointer;display: block;width: 100%;margin-bottom: 0;padding: 0.2em 0.3em;box-sizing: border-box;text-align: center;}div.sk-toggleable__content {max-height: 0;max-width: 0;overflow: hidden;text-align: left;background-color: #f0f8ff;}div.sk-toggleable__content pre {margin: 0.2em;color: black;border-radius: 0.25em;background-color: #f0f8ff;}input.sk-toggleable__control:checked~div.sk-toggleable__content {max-height: 200px;max-width: 100%;overflow: auto;}div.sk-estimator input.sk-toggleable__control:checked~label.sk-toggleable__label {background-color: #d4ebff;}div.sk-label input.sk-toggleable__control:checked~label.sk-toggleable__label {background-color: #d4ebff;}input.sk-hidden--visually {border: 0;clip: rect(1px 1px 1px 1px);clip: rect(1px, 1px, 1px, 1px);height: 1px;margin: -1px;overflow: hidden;padding: 0;position: absolute;width: 1px;}div.sk-estimator {font-family: monospace;background-color: #f0f8ff;margin: 0.25em 0.25em;border: 1px dotted black;border-radius: 0.25em;box-sizing: border-box;}div.sk-estimator:hover {background-color: #d4ebff;}div.sk-parallel-item::after {content: \"\";width: 100%;border-bottom: 1px solid gray;flex-grow: 1;}div.sk-label:hover label.sk-toggleable__label {background-color: #d4ebff;}div.sk-serial::before {content: \"\";position: absolute;border-left: 1px solid gray;box-sizing: border-box;top: 2em;bottom: 0;left: 50%;}div.sk-serial {display: flex;flex-direction: column;align-items: center;background-color: white;}div.sk-item {z-index: 1;}div.sk-parallel {display: flex;align-items: stretch;justify-content: center;background-color: white;}div.sk-parallel-item {display: flex;flex-direction: column;position: relative;background-color: white;}div.sk-parallel-item:first-child::after {align-self: flex-end;width: 50%;}div.sk-parallel-item:last-child::after {align-self: flex-start;width: 50%;}div.sk-parallel-item:only-child::after {width: 0;}div.sk-dashed-wrapped {border: 1px dashed gray;margin: 0.2em;box-sizing: border-box;padding-bottom: 0.1em;background-color: white;position: relative;}div.sk-label label {font-family: monospace;font-weight: bold;background-color: white;display: inline-block;line-height: 1.2em;}div.sk-label-container {position: relative;z-index: 2;text-align: center;}div.sk-container {display: inline-block;position: relative;}</style><div class=\"sk-top-container\"><div class=\"sk-container\"><div class=\"sk-item sk-dashed-wrapped\"><div class=\"sk-label-container\"><div class=\"sk-label sk-toggleable\"><input class=\"sk-toggleable__control sk-hidden--visually\" id=\"432ef0f8-feb8-483f-b0ef-814b01eff07d\" type=\"checkbox\" ><label class=\"sk-toggleable__label\" for=\"432ef0f8-feb8-483f-b0ef-814b01eff07d\">Pipeline</label><div class=\"sk-toggleable__content\"><pre>Pipeline(steps=[('to dataframe', ToDataFrame()),\n",
       "                ('attributes selection and encoding',\n",
       "                 ColumnTransformer(transformers=[('attributes',\n",
       "                                                  Pipeline(steps=[('to dict '\n",
       "                                                                   'series',\n",
       "                                                                   DictFlattener()),\n",
       "                                                                  ('to binary '\n",
       "                                                                   'vectors',\n",
       "                                                                   DictVectorizer())]),\n",
       "                                                  'attributes')])),\n",
       "                ('polynomial_trans', PolynomialFeatures(include_bias=False)),\n",
       "                ('ridge', Ridge(alpha=1))])</pre></div></div></div><div class=\"sk-serial\"><div class=\"sk-item\"><div class=\"sk-estimator sk-toggleable\"><input class=\"sk-toggleable__control sk-hidden--visually\" id=\"fda2e9b3-7f7c-49df-b208-a684eb16dc04\" type=\"checkbox\" ><label class=\"sk-toggleable__label\" for=\"fda2e9b3-7f7c-49df-b208-a684eb16dc04\">ToDataFrame</label><div class=\"sk-toggleable__content\"><pre>ToDataFrame()</pre></div></div></div><div class=\"sk-item sk-dashed-wrapped\"><div class=\"sk-label-container\"><div class=\"sk-label sk-toggleable\"><input class=\"sk-toggleable__control sk-hidden--visually\" id=\"9cad8555-e04f-4891-a62f-b66e237b07f1\" type=\"checkbox\" ><label class=\"sk-toggleable__label\" for=\"9cad8555-e04f-4891-a62f-b66e237b07f1\">attributes selection and encoding: ColumnTransformer</label><div class=\"sk-toggleable__content\"><pre>ColumnTransformer(transformers=[('attributes',\n",
       "                                 Pipeline(steps=[('to dict series',\n",
       "                                                  DictFlattener()),\n",
       "                                                 ('to binary vectors',\n",
       "                                                  DictVectorizer())]),\n",
       "                                 'attributes')])</pre></div></div></div><div class=\"sk-parallel\"><div class=\"sk-parallel-item\"><div class=\"sk-item\"><div class=\"sk-label-container\"><div class=\"sk-label sk-toggleable\"><input class=\"sk-toggleable__control sk-hidden--visually\" id=\"3750fce0-c4dd-4159-bce4-496bb0a5ebca\" type=\"checkbox\" ><label class=\"sk-toggleable__label\" for=\"3750fce0-c4dd-4159-bce4-496bb0a5ebca\">attributes</label><div class=\"sk-toggleable__content\"><pre>attributes</pre></div></div></div><div class=\"sk-serial\"><div class=\"sk-item\"><div class=\"sk-serial\"><div class=\"sk-item\"><div class=\"sk-estimator sk-toggleable\"><input class=\"sk-toggleable__control sk-hidden--visually\" id=\"b527e702-4f10-4c14-8e92-cb918f2c0233\" type=\"checkbox\" ><label class=\"sk-toggleable__label\" for=\"b527e702-4f10-4c14-8e92-cb918f2c0233\">DictFlattener</label><div class=\"sk-toggleable__content\"><pre>DictFlattener()</pre></div></div></div><div class=\"sk-item\"><div class=\"sk-estimator sk-toggleable\"><input class=\"sk-toggleable__control sk-hidden--visually\" id=\"08ee0c6d-04df-492d-a964-cd24a7e29159\" type=\"checkbox\" ><label class=\"sk-toggleable__label\" for=\"08ee0c6d-04df-492d-a964-cd24a7e29159\">DictVectorizer</label><div class=\"sk-toggleable__content\"><pre>DictVectorizer()</pre></div></div></div></div></div></div></div></div></div></div><div class=\"sk-item\"><div class=\"sk-estimator sk-toggleable\"><input class=\"sk-toggleable__control sk-hidden--visually\" id=\"f0762c50-a7f1-478a-b3ec-7cb555f45ad4\" type=\"checkbox\" ><label class=\"sk-toggleable__label\" for=\"f0762c50-a7f1-478a-b3ec-7cb555f45ad4\">PolynomialFeatures</label><div class=\"sk-toggleable__content\"><pre>PolynomialFeatures(include_bias=False)</pre></div></div></div><div class=\"sk-item\"><div class=\"sk-estimator sk-toggleable\"><input class=\"sk-toggleable__control sk-hidden--visually\" id=\"c67588df-b837-47bb-99a9-575785a9c2cf\" type=\"checkbox\" ><label class=\"sk-toggleable__label\" for=\"c67588df-b837-47bb-99a9-575785a9c2cf\">Ridge</label><div class=\"sk-toggleable__content\"><pre>Ridge(alpha=1)</pre></div></div></div></div></div></div></div>"
      ],
      "text/plain": [
       "Pipeline(steps=[('to dataframe', ToDataFrame()),\n",
       "                ('attributes selection and encoding',\n",
       "                 ColumnTransformer(transformers=[('attributes',\n",
       "                                                  Pipeline(steps=[('to dict '\n",
       "                                                                   'series',\n",
       "                                                                   DictFlattener()),\n",
       "                                                                  ('to binary '\n",
       "                                                                   'vectors',\n",
       "                                                                   DictVectorizer())]),\n",
       "                                                  'attributes')])),\n",
       "                ('polynomial_trans', PolynomialFeatures(include_bias=False)),\n",
       "                ('ridge', Ridge(alpha=1))])"
      ]
     },
     "execution_count": 129,
     "metadata": {},
     "output_type": "execute_result"
    }
   ],
   "source": [
    "#let's first see how the model does on just the 'test' subset of residuals\n",
    "\n",
    "second_order_residual_pipe.fit(data_shuffled_test,np.array(res_linear_model_test))\n",
    "\n",
    "#third_order_residual_pipe.fit(data_shuffled_test,np.array(res_linear_model_test))"
   ]
  },
  {
   "cell_type": "code",
   "execution_count": 130,
   "metadata": {},
   "outputs": [
    {
     "data": {
      "text/plain": [
       "array([ 0.79011618,  0.09837049, -0.00653432, ..., -0.02523548,\n",
       "        0.53139525, -0.02523548])"
      ]
     },
     "execution_count": 130,
     "metadata": {},
     "output_type": "execute_result"
    }
   ],
   "source": [
    "second_order_residual_pipe_pred = second_order_residual_pipe.predict(data_shuffled_test)\n",
    "second_order_residual_pipe_pred\n",
    "\n",
    "#third_order_residual_pipe_pred = third_order_residual_pipe.predict(data_shuffled_test)\n",
    "#third_order_residual_pipe_pred"
   ]
  },
  {
   "cell_type": "code",
   "execution_count": 131,
   "metadata": {},
   "outputs": [
    {
     "data": {
      "text/plain": [
       "-2.145824847150685"
      ]
     },
     "execution_count": 131,
     "metadata": {},
     "output_type": "execute_result"
    }
   ],
   "source": [
    "second_order_residual_pipe_pred.min()\n",
    "#third_order_residual_pipe_pred.min()"
   ]
  },
  {
   "cell_type": "code",
   "execution_count": 132,
   "metadata": {},
   "outputs": [
    {
     "data": {
      "text/plain": [
       "1.4604716118543917"
      ]
     },
     "execution_count": 132,
     "metadata": {},
     "output_type": "execute_result"
    }
   ],
   "source": [
    "second_order_residual_pipe_pred.max()\n",
    "#third_order_residual_pipe_pred.max()"
   ]
  },
  {
   "cell_type": "code",
   "execution_count": 133,
   "metadata": {},
   "outputs": [
    {
     "data": {
      "text/plain": [
       "Text(0, 0.5, 'predicted with nonlinear residual model')"
      ]
     },
     "execution_count": 133,
     "metadata": {},
     "output_type": "execute_result"
    },
    {
     "data": {
      "image/png": "[encoded data removed]",
      "text/plain": [
       "<Figure size 432x288 with 1 Axes>"
      ]
     },
     "metadata": {},
     "output_type": "display_data"
    }
   ],
   "source": [
    "plt.plot(res_linear_model_test,second_order_residual_pipe_pred,'g.')\n",
    "plt.xlabel('true residual error from linear model')\n",
    "plt.ylabel('predicted with 2nd order nonlinear residual model')\n",
    "\n",
    "#plt.plot(res_linear_model_test,third_order_residual_pipe_pred,'g.')\n",
    "#plt.xlabel('true residual error from linear model')\n",
    "#plt.ylabel('predicted with 3rd order nonlinear residual model')"
   ]
  },
  {
   "cell_type": "code",
   "execution_count": 134,
   "metadata": {},
   "outputs": [
    {
     "data": {
      "text/plain": [
       "0.14250370238212984"
      ]
     },
     "execution_count": 134,
     "metadata": {},
     "output_type": "execute_result"
    }
   ],
   "source": [
    "#Although just on training data, the nonlinear predictor seems to be performing ok at least on some of the points. \n",
    "#Let's quantify:\n",
    "second_order_residual_pipe.score(data_shuffled_test,res_linear_model_test)\n",
    "#third_order_residual_pipe.score(data_shuffled_test,res_linear_model_test)"
   ]
  },
  {
   "cell_type": "code",
   "execution_count": 135,
   "metadata": {},
   "outputs": [
    {
     "data": {
      "text/plain": [
       "{'memory': None,\n",
       " 'steps': [('to dataframe', ToDataFrame()),\n",
       "  ('attributes selection and encoding',\n",
       "   ColumnTransformer(transformers=[('attributes',\n",
       "                                    Pipeline(steps=[('to dict series',\n",
       "                                                     DictFlattener()),\n",
       "                                                    ('to binary vectors',\n",
       "                                                     DictVectorizer())]),\n",
       "                                    'attributes')])),\n",
       "  ('polynomial_trans', PolynomialFeatures(include_bias=False)),\n",
       "  ('ridge', Ridge(alpha=1))],\n",
       " 'verbose': False,\n",
       " 'to dataframe': ToDataFrame(),\n",
       " 'attributes selection and encoding': ColumnTransformer(transformers=[('attributes',\n",
       "                                  Pipeline(steps=[('to dict series',\n",
       "                                                   DictFlattener()),\n",
       "                                                  ('to binary vectors',\n",
       "                                                   DictVectorizer())]),\n",
       "                                  'attributes')]),\n",
       " 'polynomial_trans': PolynomialFeatures(include_bias=False),\n",
       " 'ridge': Ridge(alpha=1),\n",
       " 'attributes selection and encoding__n_jobs': None,\n",
       " 'attributes selection and encoding__remainder': 'drop',\n",
       " 'attributes selection and encoding__sparse_threshold': 0.3,\n",
       " 'attributes selection and encoding__transformer_weights': None,\n",
       " 'attributes selection and encoding__transformers': [('attributes',\n",
       "   Pipeline(steps=[('to dict series', DictFlattener()),\n",
       "                   ('to binary vectors', DictVectorizer())]),\n",
       "   'attributes')],\n",
       " 'attributes selection and encoding__verbose': False,\n",
       " 'attributes selection and encoding__attributes': Pipeline(steps=[('to dict series', DictFlattener()),\n",
       "                 ('to binary vectors', DictVectorizer())]),\n",
       " 'attributes selection and encoding__attributes__memory': None,\n",
       " 'attributes selection and encoding__attributes__steps': [('to dict series',\n",
       "   DictFlattener()),\n",
       "  ('to binary vectors', DictVectorizer())],\n",
       " 'attributes selection and encoding__attributes__verbose': False,\n",
       " 'attributes selection and encoding__attributes__to dict series': DictFlattener(),\n",
       " 'attributes selection and encoding__attributes__to binary vectors': DictVectorizer(),\n",
       " 'attributes selection and encoding__attributes__to binary vectors__dtype': numpy.float64,\n",
       " 'attributes selection and encoding__attributes__to binary vectors__separator': '=',\n",
       " 'attributes selection and encoding__attributes__to binary vectors__sort': True,\n",
       " 'attributes selection and encoding__attributes__to binary vectors__sparse': True,\n",
       " 'polynomial_trans__degree': 2,\n",
       " 'polynomial_trans__include_bias': False,\n",
       " 'polynomial_trans__interaction_only': False,\n",
       " 'polynomial_trans__order': 'C',\n",
       " 'ridge__alpha': 1,\n",
       " 'ridge__copy_X': True,\n",
       " 'ridge__fit_intercept': True,\n",
       " 'ridge__max_iter': None,\n",
       " 'ridge__normalize': False,\n",
       " 'ridge__random_state': None,\n",
       " 'ridge__solver': 'auto',\n",
       " 'ridge__tol': 0.001}"
      ]
     },
     "execution_count": 135,
     "metadata": {},
     "output_type": "execute_result"
    }
   ],
   "source": [
    "second_order_residual_pipe.get_params()\n",
    "#third_order_residual_pipe.get_params()"
   ]
  },
  {
   "cell_type": "code",
   "execution_count": 136,
   "metadata": {},
   "outputs": [
    {
     "data": {
      "text/plain": [
       "array([ 0.08651004,  0.08129538,  0.01358685, ..., -0.32824648,\n",
       "        0.        , -0.05797433])"
      ]
     },
     "execution_count": 136,
     "metadata": {},
     "output_type": "execute_result"
    }
   ],
   "source": [
    "#What are the coefficients of the final ridge predictor?\n",
    "second_order_residual_pipe[-1].coef_\n",
    "#third_order_residual_pipe[-1].coef_"
   ]
  },
  {
   "cell_type": "code",
   "execution_count": 137,
   "metadata": {},
   "outputs": [],
   "source": [
    "#Let's try with cross validation to check for robustness of this result, and extend to the whole set of residuals\n",
    "param_grid = {'ridge__alpha': np.logspace(-2,4,10)} \n",
    "second_order_residual_only_model = GridSearchCV(second_order_residual_pipe, param_grid, cv=5, n_jobs=2, verbose=15)\n",
    "\n",
    "#param_grid = {'ridge__alpha': np.logspace(-2,4,10)} \n",
    "#third_order_residual_only_model = GridSearchCV(third_order_residual_pipe, param_grid, cv=5, n_jobs=2, verbose=15)\n",
    "\n",
    "# #I first tried the following, but the very small values of alpha took a long time to converge, and the best value ended up \n",
    "# #being much higher - around 100-1000, so I focused on that region more afterwards\n",
    "# param_grid = {'ridge__alpha': np.logspace(-5,5,10)} \n",
    "# third_order_residual_only_model = GridSearchCV(third_order_residual_pipe, param_grid, cv=5, n_jobs=2, verbose=15)"
   ]
  },
  {
   "cell_type": "code",
   "execution_count": 138,
   "metadata": {},
   "outputs": [
    {
     "name": "stdout",
     "output_type": "stream",
     "text": [
      "Fitting 5 folds for each of 10 candidates, totalling 50 fits\n"
     ]
    },
    {
     "name": "stderr",
     "output_type": "stream",
     "text": [
      "[Parallel(n_jobs=2)]: Using backend LokyBackend with 2 concurrent workers.\n",
      "[Parallel(n_jobs=2)]: Done   1 tasks      | elapsed:   44.8s\n",
      "[Parallel(n_jobs=2)]: Done   2 tasks      | elapsed:   46.0s\n",
      "[Parallel(n_jobs=2)]: Done   3 tasks      | elapsed:  1.5min\n",
      "[Parallel(n_jobs=2)]: Done   4 tasks      | elapsed:  1.5min\n",
      "[Parallel(n_jobs=2)]: Done   5 tasks      | elapsed:  2.0min\n",
      "[Parallel(n_jobs=2)]: Done   6 tasks      | elapsed:  2.2min\n",
      "[Parallel(n_jobs=2)]: Done   7 tasks      | elapsed:  2.5min\n",
      "[Parallel(n_jobs=2)]: Done   8 tasks      | elapsed:  2.7min\n",
      "[Parallel(n_jobs=2)]: Done   9 tasks      | elapsed:  3.0min\n",
      "[Parallel(n_jobs=2)]: Done  10 tasks      | elapsed:  3.2min\n",
      "[Parallel(n_jobs=2)]: Done  11 tasks      | elapsed:  3.3min\n",
      "[Parallel(n_jobs=2)]: Done  12 tasks      | elapsed:  3.5min\n",
      "[Parallel(n_jobs=2)]: Done  13 tasks      | elapsed:  3.7min\n",
      "[Parallel(n_jobs=2)]: Done  14 tasks      | elapsed:  3.9min\n",
      "[Parallel(n_jobs=2)]: Done  15 tasks      | elapsed:  4.0min\n",
      "[Parallel(n_jobs=2)]: Done  16 tasks      | elapsed:  4.1min\n",
      "[Parallel(n_jobs=2)]: Done  17 tasks      | elapsed:  4.2min\n",
      "[Parallel(n_jobs=2)]: Done  18 tasks      | elapsed:  4.3min\n",
      "[Parallel(n_jobs=2)]: Done  19 tasks      | elapsed:  4.4min\n",
      "[Parallel(n_jobs=2)]: Done  20 tasks      | elapsed:  4.5min\n",
      "[Parallel(n_jobs=2)]: Done  21 tasks      | elapsed:  4.5min\n",
      "[Parallel(n_jobs=2)]: Done  22 tasks      | elapsed:  4.6min\n",
      "[Parallel(n_jobs=2)]: Done  23 tasks      | elapsed:  4.7min\n",
      "[Parallel(n_jobs=2)]: Done  24 tasks      | elapsed:  4.8min\n",
      "[Parallel(n_jobs=2)]: Done  25 tasks      | elapsed:  4.8min\n",
      "[Parallel(n_jobs=2)]: Done  26 tasks      | elapsed:  4.9min\n",
      "[Parallel(n_jobs=2)]: Done  27 tasks      | elapsed:  4.9min\n",
      "[Parallel(n_jobs=2)]: Done  28 tasks      | elapsed:  5.0min\n",
      "[Parallel(n_jobs=2)]: Done  29 tasks      | elapsed:  5.0min\n",
      "[Parallel(n_jobs=2)]: Done  30 tasks      | elapsed:  5.1min\n",
      "[Parallel(n_jobs=2)]: Done  31 tasks      | elapsed:  5.1min\n",
      "[Parallel(n_jobs=2)]: Done  32 tasks      | elapsed:  5.1min\n",
      "[Parallel(n_jobs=2)]: Done  33 tasks      | elapsed:  5.2min\n",
      "[Parallel(n_jobs=2)]: Done  34 tasks      | elapsed:  5.2min\n",
      "[Parallel(n_jobs=2)]: Done  35 tasks      | elapsed:  5.2min\n",
      "[Parallel(n_jobs=2)]: Done  36 tasks      | elapsed:  5.3min\n",
      "[Parallel(n_jobs=2)]: Done  37 tasks      | elapsed:  5.3min\n",
      "[Parallel(n_jobs=2)]: Done  38 tasks      | elapsed:  5.4min\n",
      "[Parallel(n_jobs=2)]: Done  39 tasks      | elapsed:  5.4min\n",
      "[Parallel(n_jobs=2)]: Done  40 tasks      | elapsed:  5.4min\n",
      "[Parallel(n_jobs=2)]: Done  41 tasks      | elapsed:  5.4min\n",
      "[Parallel(n_jobs=2)]: Done  42 tasks      | elapsed:  5.5min\n",
      "[Parallel(n_jobs=2)]: Done  43 tasks      | elapsed:  5.5min\n",
      "[Parallel(n_jobs=2)]: Done  44 tasks      | elapsed:  5.5min\n",
      "[Parallel(n_jobs=2)]: Done  45 tasks      | elapsed:  5.6min\n",
      "[Parallel(n_jobs=2)]: Done  46 tasks      | elapsed:  5.6min\n",
      "[Parallel(n_jobs=2)]: Done  47 tasks      | elapsed:  5.6min\n",
      "[Parallel(n_jobs=2)]: Done  50 out of  50 | elapsed:  5.7min finished\n"
     ]
    },
    {
     "data": {
      "text/html": [
       "<style>div.sk-top-container {color: black;background-color: white;}div.sk-toggleable {background-color: white;}label.sk-toggleable__label {cursor: pointer;display: block;width: 100%;margin-bottom: 0;padding: 0.2em 0.3em;box-sizing: border-box;text-align: center;}div.sk-toggleable__content {max-height: 0;max-width: 0;overflow: hidden;text-align: left;background-color: #f0f8ff;}div.sk-toggleable__content pre {margin: 0.2em;color: black;border-radius: 0.25em;background-color: #f0f8ff;}input.sk-toggleable__control:checked~div.sk-toggleable__content {max-height: 200px;max-width: 100%;overflow: auto;}div.sk-estimator input.sk-toggleable__control:checked~label.sk-toggleable__label {background-color: #d4ebff;}div.sk-label input.sk-toggleable__control:checked~label.sk-toggleable__label {background-color: #d4ebff;}input.sk-hidden--visually {border: 0;clip: rect(1px 1px 1px 1px);clip: rect(1px, 1px, 1px, 1px);height: 1px;margin: -1px;overflow: hidden;padding: 0;position: absolute;width: 1px;}div.sk-estimator {font-family: monospace;background-color: #f0f8ff;margin: 0.25em 0.25em;border: 1px dotted black;border-radius: 0.25em;box-sizing: border-box;}div.sk-estimator:hover {background-color: #d4ebff;}div.sk-parallel-item::after {content: \"\";width: 100%;border-bottom: 1px solid gray;flex-grow: 1;}div.sk-label:hover label.sk-toggleable__label {background-color: #d4ebff;}div.sk-serial::before {content: \"\";position: absolute;border-left: 1px solid gray;box-sizing: border-box;top: 2em;bottom: 0;left: 50%;}div.sk-serial {display: flex;flex-direction: column;align-items: center;background-color: white;}div.sk-item {z-index: 1;}div.sk-parallel {display: flex;align-items: stretch;justify-content: center;background-color: white;}div.sk-parallel-item {display: flex;flex-direction: column;position: relative;background-color: white;}div.sk-parallel-item:first-child::after {align-self: flex-end;width: 50%;}div.sk-parallel-item:last-child::after {align-self: flex-start;width: 50%;}div.sk-parallel-item:only-child::after {width: 0;}div.sk-dashed-wrapped {border: 1px dashed gray;margin: 0.2em;box-sizing: border-box;padding-bottom: 0.1em;background-color: white;position: relative;}div.sk-label label {font-family: monospace;font-weight: bold;background-color: white;display: inline-block;line-height: 1.2em;}div.sk-label-container {position: relative;z-index: 2;text-align: center;}div.sk-container {display: inline-block;position: relative;}</style><div class=\"sk-top-container\"><div class=\"sk-container\"><div class=\"sk-item sk-dashed-wrapped\"><div class=\"sk-label-container\"><div class=\"sk-label sk-toggleable\"><input class=\"sk-toggleable__control sk-hidden--visually\" id=\"aafac5f3-edd5-4ce5-a280-c014fb8b5d05\" type=\"checkbox\" ><label class=\"sk-toggleable__label\" for=\"aafac5f3-edd5-4ce5-a280-c014fb8b5d05\">GridSearchCV</label><div class=\"sk-toggleable__content\"><pre>GridSearchCV(cv=5,\n",
       "             estimator=Pipeline(steps=[('to dataframe', ToDataFrame()),\n",
       "                                       ('attributes selection and encoding',\n",
       "                                        ColumnTransformer(transformers=[('attributes',\n",
       "                                                                         Pipeline(steps=[('to '\n",
       "                                                                                          'dict '\n",
       "                                                                                          'series',\n",
       "                                                                                          DictFlattener()),\n",
       "                                                                                         ('to '\n",
       "                                                                                          'binary '\n",
       "                                                                                          'vectors',\n",
       "                                                                                          DictVectorizer())]),\n",
       "                                                                         'attributes')])),\n",
       "                                       ('polynomial_trans',\n",
       "                                        PolynomialFeatures(include_bias=False)),\n",
       "                                       ('ridge', Ridge(alpha=1))]),\n",
       "             n_jobs=2,\n",
       "             param_grid={'ridge__alpha': array([1.00000000e-02, 4.64158883e-02, 2.15443469e-01, 1.00000000e+00,\n",
       "       4.64158883e+00, 2.15443469e+01, 1.00000000e+02, 4.64158883e+02,\n",
       "       2.15443469e+03, 1.00000000e+04])},\n",
       "             verbose=15)</pre></div></div></div><div class=\"sk-parallel\"><div class=\"sk-parallel-item\"><div class=\"sk-item\"><div class=\"sk-serial\"><div class=\"sk-item\"><div class=\"sk-serial\"><div class=\"sk-item\"><div class=\"sk-estimator sk-toggleable\"><input class=\"sk-toggleable__control sk-hidden--visually\" id=\"5513eeec-9c70-442b-8ccf-3ed2410a12f7\" type=\"checkbox\" ><label class=\"sk-toggleable__label\" for=\"5513eeec-9c70-442b-8ccf-3ed2410a12f7\">ToDataFrame</label><div class=\"sk-toggleable__content\"><pre>ToDataFrame()</pre></div></div></div><div class=\"sk-item sk-dashed-wrapped\"><div class=\"sk-label-container\"><div class=\"sk-label sk-toggleable\"><input class=\"sk-toggleable__control sk-hidden--visually\" id=\"cc3975c5-ceed-40b1-8bf3-3a2ee23e2d06\" type=\"checkbox\" ><label class=\"sk-toggleable__label\" for=\"cc3975c5-ceed-40b1-8bf3-3a2ee23e2d06\">attributes selection and encoding: ColumnTransformer</label><div class=\"sk-toggleable__content\"><pre>ColumnTransformer(transformers=[('attributes',\n",
       "                                 Pipeline(steps=[('to dict series',\n",
       "                                                  DictFlattener()),\n",
       "                                                 ('to binary vectors',\n",
       "                                                  DictVectorizer())]),\n",
       "                                 'attributes')])</pre></div></div></div><div class=\"sk-parallel\"><div class=\"sk-parallel-item\"><div class=\"sk-item\"><div class=\"sk-label-container\"><div class=\"sk-label sk-toggleable\"><input class=\"sk-toggleable__control sk-hidden--visually\" id=\"9330603a-2da7-4d8b-9c4d-b492b1037aa4\" type=\"checkbox\" ><label class=\"sk-toggleable__label\" for=\"9330603a-2da7-4d8b-9c4d-b492b1037aa4\">attributes</label><div class=\"sk-toggleable__content\"><pre>attributes</pre></div></div></div><div class=\"sk-serial\"><div class=\"sk-item\"><div class=\"sk-serial\"><div class=\"sk-item\"><div class=\"sk-estimator sk-toggleable\"><input class=\"sk-toggleable__control sk-hidden--visually\" id=\"76831c33-17c9-4083-a7ed-88e822a38a57\" type=\"checkbox\" ><label class=\"sk-toggleable__label\" for=\"76831c33-17c9-4083-a7ed-88e822a38a57\">DictFlattener</label><div class=\"sk-toggleable__content\"><pre>DictFlattener()</pre></div></div></div><div class=\"sk-item\"><div class=\"sk-estimator sk-toggleable\"><input class=\"sk-toggleable__control sk-hidden--visually\" id=\"a18a6a3c-04c5-4e51-b810-1be9617ce3a6\" type=\"checkbox\" ><label class=\"sk-toggleable__label\" for=\"a18a6a3c-04c5-4e51-b810-1be9617ce3a6\">DictVectorizer</label><div class=\"sk-toggleable__content\"><pre>DictVectorizer()</pre></div></div></div></div></div></div></div></div></div></div><div class=\"sk-item\"><div class=\"sk-estimator sk-toggleable\"><input class=\"sk-toggleable__control sk-hidden--visually\" id=\"3b5a1ba3-7c0b-4590-ad1f-e0e487bc4636\" type=\"checkbox\" ><label class=\"sk-toggleable__label\" for=\"3b5a1ba3-7c0b-4590-ad1f-e0e487bc4636\">PolynomialFeatures</label><div class=\"sk-toggleable__content\"><pre>PolynomialFeatures(include_bias=False)</pre></div></div></div><div class=\"sk-item\"><div class=\"sk-estimator sk-toggleable\"><input class=\"sk-toggleable__control sk-hidden--visually\" id=\"577bbd24-801e-4d3f-a314-5fc7b71feaba\" type=\"checkbox\" ><label class=\"sk-toggleable__label\" for=\"577bbd24-801e-4d3f-a314-5fc7b71feaba\">Ridge</label><div class=\"sk-toggleable__content\"><pre>Ridge(alpha=1)</pre></div></div></div></div></div></div></div></div></div></div></div></div>"
      ],
      "text/plain": [
       "GridSearchCV(cv=5,\n",
       "             estimator=Pipeline(steps=[('to dataframe', ToDataFrame()),\n",
       "                                       ('attributes selection and encoding',\n",
       "                                        ColumnTransformer(transformers=[('attributes',\n",
       "                                                                         Pipeline(steps=[('to '\n",
       "                                                                                          'dict '\n",
       "                                                                                          'series',\n",
       "                                                                                          DictFlattener()),\n",
       "                                                                                         ('to '\n",
       "                                                                                          'binary '\n",
       "                                                                                          'vectors',\n",
       "                                                                                          DictVectorizer())]),\n",
       "                                                                         'attributes')])),\n",
       "                                       ('polynomial_trans',\n",
       "                                        PolynomialFeatures(include_bias=False)),\n",
       "                                       ('ridge', Ridge(alpha=1))]),\n",
       "             n_jobs=2,\n",
       "             param_grid={'ridge__alpha': array([1.00000000e-02, 4.64158883e-02, 2.15443469e-01, 1.00000000e+00,\n",
       "       4.64158883e+00, 2.15443469e+01, 1.00000000e+02, 4.64158883e+02,\n",
       "       2.15443469e+03, 1.00000000e+04])},\n",
       "             verbose=15)"
      ]
     },
     "execution_count": 138,
     "metadata": {},
     "output_type": "execute_result"
    }
   ],
   "source": [
    "second_order_residual_only_model.fit(data_shuffled,star_ratings_shuffled-np.array(attribute_model_linear.predict(data_shuffled)))\n",
    "    \n",
    "   "
   ]
  },
  {
   "cell_type": "code",
   "execution_count": 139,
   "metadata": {},
   "outputs": [],
   "source": [
    "#I will save the model with dill after fitting the model the first time, then I will load it from memory the following times\n",
    "\n",
    "import dill\n",
    "\n",
    "#If the model file already exists, I load it:\n",
    "try:\n",
    "    with open('attribute_model_2ndorder_residuals_only.dill', 'rb') as f:\n",
    "        second_order_residual_only_model = dill.load(f)\n",
    "        print('Loaded pickle file with attribute model 2nd degree polynomial for RESIDUALS ONLY.')\n",
    "except: #if not, actually perform the fit then save the model for next time:\n",
    "    \n",
    "    second_order_residual_only_model.fit(data_shuffled,star_ratings_shuffled-np.array(attribute_model_linear.predict(data_shuffled)))\n",
    "    \n",
    "    with open('attribute_model_2ndorder_residuals_only.dill', 'wb') as f:\n",
    "        dill.dump(second_order_residual_only_model, f)\n",
    "    print('Saved pickle file with attribute model 2nd degree polynomial for RESIDUALS ONLY.')\n",
    "\n",
    "    \n",
    "#For the 3rd order, I had to limit myself to fitting on my smaller test set:\n",
    "#third_order_residual_only_model.fit(data_shuffled_test,res_linear_model_test)\n",
    "# #For some reason, this never converged with the full dataset when I used the 3rd order polynomial... probably too many points perhaps\n",
    "#third_order_residual_only_model.fit(data_shuffled,star_ratings_shuffled-np.array(attribute_model_linear.predict(data_shuffled)))\n",
    "          \n",
    "# #If the model file already exists, I load it:\n",
    "# try:\n",
    "#     with open('attribute_model_3rdorder_residuals_only.dill', 'rb') as f:\n",
    "#         third_order_residual_only_model = dill.load(f)\n",
    "#         print('Loaded pickle file with attribute model 3rd degree polynomial for RESIDUALS ONLY.')\n",
    "# except: #if not, actually perform the fit then save the model for next time:\n",
    "    \n",
    "#     third_order_residual_only_model.fit(data_shuffled_test,star_ratings_shuffled_test-np.array(attribute_model_linear.predict(data_shuffled_test)))\n",
    "    \n",
    "#     with open('attribute_model_3rdorder_residuals_only.dill', 'wb') as f:\n",
    "#         dill.dump(third_order_residual_only_model, f)\n",
    "#     print('Saved pickle file with attribute model 3rd degree polynomial for RESIDUALS ONLY.')"
   ]
  },
  {
   "cell_type": "code",
   "execution_count": 142,
   "metadata": {},
   "outputs": [
    {
     "data": {
      "text/plain": [
       "{'ridge__alpha': 100.0}"
      ]
     },
     "execution_count": 142,
     "metadata": {},
     "output_type": "execute_result"
    }
   ],
   "source": [
    "second_order_residual_only_model.best_params_\n",
    "#third_order_residual_only_model.best_params_"
   ]
  },
  {
   "cell_type": "code",
   "execution_count": 143,
   "metadata": {},
   "outputs": [
    {
     "data": {
      "text/plain": [
       "0.020390562206198594"
      ]
     },
     "execution_count": 143,
     "metadata": {},
     "output_type": "execute_result"
    }
   ],
   "source": [
    "second_order_residual_only_model.best_score_\n",
    "#third_order_residual_only_model.best_score_"
   ]
  },
  {
   "cell_type": "code",
   "execution_count": 144,
   "metadata": {},
   "outputs": [],
   "source": [
    "#So I expect this predictor to perform ok when combined with the linear one in the fashion suggested in the problem"
   ]
  },
  {
   "cell_type": "code",
   "execution_count": 145,
   "metadata": {},
   "outputs": [],
   "source": [
    "#Build a custom predictor that takes as an argument two other predictors. \n",
    "#It should use the first to fit the raw data and the second to fit the residuals of the first."
   ]
  },
  {
   "cell_type": "code",
   "execution_count": 146,
   "metadata": {},
   "outputs": [],
   "source": [
    "class CascadePredictor(BaseEstimator, RegressorMixin):\n",
    "  def __init__(self, Predictor1, Predictor2):\n",
    "    # initialization code\n",
    "    self.predictor1 = Predictor1\n",
    "    self.predictor2 = Predictor2\n",
    "\n",
    "  def fit(self, X, y):\n",
    "    # fit the model:\n",
    "    self.predictor1.fit(X, y)\n",
    "    res = y - np.array(self.predictor1.predict(X))\n",
    "    self.predictor2.fit(X, res)\n",
    "    return self\n",
    "\n",
    "  def predict(self, X):\n",
    "    # make predictions \n",
    "    return np.array(self.predictor1.predict(X)) + np.array(self.predictor2.predict(X))\n",
    "\n",
    "  #def score(self, X, y):\n",
    "  #  # custom score implementation\n",
    "  #  # this is optional, if not defined default is R^2\n",
    "  #  return ..."
   ]
  },
  {
   "cell_type": "code",
   "execution_count": 147,
   "metadata": {},
   "outputs": [],
   "source": [
    "attribute_pipe = CascadePredictor(Predictor1=pipe_attrib,Predictor2=second_order_residual_pipe)\n",
    "#attribute_pipe = CascadePredictor(Predictor1=pipe_attrib,Predictor2=third_order_residual_pipe)"
   ]
  },
  {
   "cell_type": "code",
   "execution_count": 148,
   "metadata": {},
   "outputs": [
    {
     "data": {
      "text/plain": [
       "{'memory': None,\n",
       " 'steps': [('to dataframe', ToDataFrame()),\n",
       "  ('attributes selection and encoding',\n",
       "   ColumnTransformer(transformers=[('attributes',\n",
       "                                    Pipeline(steps=[('to dict series',\n",
       "                                                     DictFlattener()),\n",
       "                                                    ('to binary vectors',\n",
       "                                                     DictVectorizer())]),\n",
       "                                    'attributes')])),\n",
       "  ('regressor', Ridge(alpha=0.001))],\n",
       " 'verbose': False,\n",
       " 'to dataframe': ToDataFrame(),\n",
       " 'attributes selection and encoding': ColumnTransformer(transformers=[('attributes',\n",
       "                                  Pipeline(steps=[('to dict series',\n",
       "                                                   DictFlattener()),\n",
       "                                                  ('to binary vectors',\n",
       "                                                   DictVectorizer())]),\n",
       "                                  'attributes')]),\n",
       " 'regressor': Ridge(alpha=0.001),\n",
       " 'attributes selection and encoding__n_jobs': None,\n",
       " 'attributes selection and encoding__remainder': 'drop',\n",
       " 'attributes selection and encoding__sparse_threshold': 0.3,\n",
       " 'attributes selection and encoding__transformer_weights': None,\n",
       " 'attributes selection and encoding__transformers': [('attributes',\n",
       "   Pipeline(steps=[('to dict series', DictFlattener()),\n",
       "                   ('to binary vectors', DictVectorizer())]),\n",
       "   'attributes')],\n",
       " 'attributes selection and encoding__verbose': False,\n",
       " 'attributes selection and encoding__attributes': Pipeline(steps=[('to dict series', DictFlattener()),\n",
       "                 ('to binary vectors', DictVectorizer())]),\n",
       " 'attributes selection and encoding__attributes__memory': None,\n",
       " 'attributes selection and encoding__attributes__steps': [('to dict series',\n",
       "   DictFlattener()),\n",
       "  ('to binary vectors', DictVectorizer())],\n",
       " 'attributes selection and encoding__attributes__verbose': False,\n",
       " 'attributes selection and encoding__attributes__to dict series': DictFlattener(),\n",
       " 'attributes selection and encoding__attributes__to binary vectors': DictVectorizer(),\n",
       " 'attributes selection and encoding__attributes__to binary vectors__dtype': numpy.float64,\n",
       " 'attributes selection and encoding__attributes__to binary vectors__separator': '=',\n",
       " 'attributes selection and encoding__attributes__to binary vectors__sort': True,\n",
       " 'attributes selection and encoding__attributes__to binary vectors__sparse': True,\n",
       " 'regressor__alpha': 0.001,\n",
       " 'regressor__copy_X': True,\n",
       " 'regressor__fit_intercept': True,\n",
       " 'regressor__max_iter': None,\n",
       " 'regressor__normalize': False,\n",
       " 'regressor__random_state': None,\n",
       " 'regressor__solver': 'auto',\n",
       " 'regressor__tol': 0.001}"
      ]
     },
     "execution_count": 148,
     "metadata": {},
     "output_type": "execute_result"
    }
   ],
   "source": [
    "attribute_pipe.predictor1.get_params()"
   ]
  },
  {
   "cell_type": "code",
   "execution_count": 149,
   "metadata": {},
   "outputs": [
    {
     "data": {
      "text/html": [
       "<style>div.sk-top-container {color: black;background-color: white;}div.sk-toggleable {background-color: white;}label.sk-toggleable__label {cursor: pointer;display: block;width: 100%;margin-bottom: 0;padding: 0.2em 0.3em;box-sizing: border-box;text-align: center;}div.sk-toggleable__content {max-height: 0;max-width: 0;overflow: hidden;text-align: left;background-color: #f0f8ff;}div.sk-toggleable__content pre {margin: 0.2em;color: black;border-radius: 0.25em;background-color: #f0f8ff;}input.sk-toggleable__control:checked~div.sk-toggleable__content {max-height: 200px;max-width: 100%;overflow: auto;}div.sk-estimator input.sk-toggleable__control:checked~label.sk-toggleable__label {background-color: #d4ebff;}div.sk-label input.sk-toggleable__control:checked~label.sk-toggleable__label {background-color: #d4ebff;}input.sk-hidden--visually {border: 0;clip: rect(1px 1px 1px 1px);clip: rect(1px, 1px, 1px, 1px);height: 1px;margin: -1px;overflow: hidden;padding: 0;position: absolute;width: 1px;}div.sk-estimator {font-family: monospace;background-color: #f0f8ff;margin: 0.25em 0.25em;border: 1px dotted black;border-radius: 0.25em;box-sizing: border-box;}div.sk-estimator:hover {background-color: #d4ebff;}div.sk-parallel-item::after {content: \"\";width: 100%;border-bottom: 1px solid gray;flex-grow: 1;}div.sk-label:hover label.sk-toggleable__label {background-color: #d4ebff;}div.sk-serial::before {content: \"\";position: absolute;border-left: 1px solid gray;box-sizing: border-box;top: 2em;bottom: 0;left: 50%;}div.sk-serial {display: flex;flex-direction: column;align-items: center;background-color: white;}div.sk-item {z-index: 1;}div.sk-parallel {display: flex;align-items: stretch;justify-content: center;background-color: white;}div.sk-parallel-item {display: flex;flex-direction: column;position: relative;background-color: white;}div.sk-parallel-item:first-child::after {align-self: flex-end;width: 50%;}div.sk-parallel-item:last-child::after {align-self: flex-start;width: 50%;}div.sk-parallel-item:only-child::after {width: 0;}div.sk-dashed-wrapped {border: 1px dashed gray;margin: 0.2em;box-sizing: border-box;padding-bottom: 0.1em;background-color: white;position: relative;}div.sk-label label {font-family: monospace;font-weight: bold;background-color: white;display: inline-block;line-height: 1.2em;}div.sk-label-container {position: relative;z-index: 2;text-align: center;}div.sk-container {display: inline-block;position: relative;}</style><div class=\"sk-top-container\"><div class=\"sk-container\"><div class=\"sk-item sk-dashed-wrapped\"><div class=\"sk-label-container\"><div class=\"sk-label sk-toggleable\"><input class=\"sk-toggleable__control sk-hidden--visually\" id=\"7bef6190-3088-43ec-9bdd-c4dba4a0bdc1\" type=\"checkbox\" ><label class=\"sk-toggleable__label\" for=\"7bef6190-3088-43ec-9bdd-c4dba4a0bdc1\">Pipeline</label><div class=\"sk-toggleable__content\"><pre>Pipeline(steps=[('to dataframe', ToDataFrame()),\n",
       "                ('attributes selection and encoding',\n",
       "                 ColumnTransformer(transformers=[('attributes',\n",
       "                                                  Pipeline(steps=[('to dict '\n",
       "                                                                   'series',\n",
       "                                                                   DictFlattener()),\n",
       "                                                                  ('to binary '\n",
       "                                                                   'vectors',\n",
       "                                                                   DictVectorizer())]),\n",
       "                                                  'attributes')])),\n",
       "                ('regressor', Ridge(alpha=3.6))])</pre></div></div></div><div class=\"sk-serial\"><div class=\"sk-item\"><div class=\"sk-estimator sk-toggleable\"><input class=\"sk-toggleable__control sk-hidden--visually\" id=\"2f22aa05-ed42-4ebd-aa2b-dc7732b31f29\" type=\"checkbox\" ><label class=\"sk-toggleable__label\" for=\"2f22aa05-ed42-4ebd-aa2b-dc7732b31f29\">ToDataFrame</label><div class=\"sk-toggleable__content\"><pre>ToDataFrame()</pre></div></div></div><div class=\"sk-item sk-dashed-wrapped\"><div class=\"sk-label-container\"><div class=\"sk-label sk-toggleable\"><input class=\"sk-toggleable__control sk-hidden--visually\" id=\"28b1f7f3-d328-4968-a797-e4d4bcbda293\" type=\"checkbox\" ><label class=\"sk-toggleable__label\" for=\"28b1f7f3-d328-4968-a797-e4d4bcbda293\">attributes selection and encoding: ColumnTransformer</label><div class=\"sk-toggleable__content\"><pre>ColumnTransformer(transformers=[('attributes',\n",
       "                                 Pipeline(steps=[('to dict series',\n",
       "                                                  DictFlattener()),\n",
       "                                                 ('to binary vectors',\n",
       "                                                  DictVectorizer())]),\n",
       "                                 'attributes')])</pre></div></div></div><div class=\"sk-parallel\"><div class=\"sk-parallel-item\"><div class=\"sk-item\"><div class=\"sk-label-container\"><div class=\"sk-label sk-toggleable\"><input class=\"sk-toggleable__control sk-hidden--visually\" id=\"9c286fb2-7b50-40f0-ab00-a20b970f9371\" type=\"checkbox\" ><label class=\"sk-toggleable__label\" for=\"9c286fb2-7b50-40f0-ab00-a20b970f9371\">attributes</label><div class=\"sk-toggleable__content\"><pre>attributes</pre></div></div></div><div class=\"sk-serial\"><div class=\"sk-item\"><div class=\"sk-serial\"><div class=\"sk-item\"><div class=\"sk-estimator sk-toggleable\"><input class=\"sk-toggleable__control sk-hidden--visually\" id=\"2c6fc4b3-3457-4462-95d5-2d5de0d6b2f4\" type=\"checkbox\" ><label class=\"sk-toggleable__label\" for=\"2c6fc4b3-3457-4462-95d5-2d5de0d6b2f4\">DictFlattener</label><div class=\"sk-toggleable__content\"><pre>DictFlattener()</pre></div></div></div><div class=\"sk-item\"><div class=\"sk-estimator sk-toggleable\"><input class=\"sk-toggleable__control sk-hidden--visually\" id=\"0233502c-0cb8-445c-a3d6-6fd031a1076c\" type=\"checkbox\" ><label class=\"sk-toggleable__label\" for=\"0233502c-0cb8-445c-a3d6-6fd031a1076c\">DictVectorizer</label><div class=\"sk-toggleable__content\"><pre>DictVectorizer()</pre></div></div></div></div></div></div></div></div></div></div><div class=\"sk-item\"><div class=\"sk-estimator sk-toggleable\"><input class=\"sk-toggleable__control sk-hidden--visually\" id=\"74feaa7a-2139-49a5-ac0b-64eeea601f77\" type=\"checkbox\" ><label class=\"sk-toggleable__label\" for=\"74feaa7a-2139-49a5-ac0b-64eeea601f77\">Ridge</label><div class=\"sk-toggleable__content\"><pre>Ridge(alpha=3.6)</pre></div></div></div></div></div></div></div>"
      ],
      "text/plain": [
       "Pipeline(steps=[('to dataframe', ToDataFrame()),\n",
       "                ('attributes selection and encoding',\n",
       "                 ColumnTransformer(transformers=[('attributes',\n",
       "                                                  Pipeline(steps=[('to dict '\n",
       "                                                                   'series',\n",
       "                                                                   DictFlattener()),\n",
       "                                                                  ('to binary '\n",
       "                                                                   'vectors',\n",
       "                                                                   DictVectorizer())]),\n",
       "                                                  'attributes')])),\n",
       "                ('regressor', Ridge(alpha=3.6))])"
      ]
     },
     "execution_count": 149,
     "metadata": {},
     "output_type": "execute_result"
    }
   ],
   "source": [
    "params_dict1 = {'regressor__alpha':3.6}\n",
    "attribute_pipe.predictor1.set_params(**params_dict1) #based on what found for the linear model alone"
   ]
  },
  {
   "cell_type": "code",
   "execution_count": 150,
   "metadata": {},
   "outputs": [
    {
     "data": {
      "text/html": [
       "<style>div.sk-top-container {color: black;background-color: white;}div.sk-toggleable {background-color: white;}label.sk-toggleable__label {cursor: pointer;display: block;width: 100%;margin-bottom: 0;padding: 0.2em 0.3em;box-sizing: border-box;text-align: center;}div.sk-toggleable__content {max-height: 0;max-width: 0;overflow: hidden;text-align: left;background-color: #f0f8ff;}div.sk-toggleable__content pre {margin: 0.2em;color: black;border-radius: 0.25em;background-color: #f0f8ff;}input.sk-toggleable__control:checked~div.sk-toggleable__content {max-height: 200px;max-width: 100%;overflow: auto;}div.sk-estimator input.sk-toggleable__control:checked~label.sk-toggleable__label {background-color: #d4ebff;}div.sk-label input.sk-toggleable__control:checked~label.sk-toggleable__label {background-color: #d4ebff;}input.sk-hidden--visually {border: 0;clip: rect(1px 1px 1px 1px);clip: rect(1px, 1px, 1px, 1px);height: 1px;margin: -1px;overflow: hidden;padding: 0;position: absolute;width: 1px;}div.sk-estimator {font-family: monospace;background-color: #f0f8ff;margin: 0.25em 0.25em;border: 1px dotted black;border-radius: 0.25em;box-sizing: border-box;}div.sk-estimator:hover {background-color: #d4ebff;}div.sk-parallel-item::after {content: \"\";width: 100%;border-bottom: 1px solid gray;flex-grow: 1;}div.sk-label:hover label.sk-toggleable__label {background-color: #d4ebff;}div.sk-serial::before {content: \"\";position: absolute;border-left: 1px solid gray;box-sizing: border-box;top: 2em;bottom: 0;left: 50%;}div.sk-serial {display: flex;flex-direction: column;align-items: center;background-color: white;}div.sk-item {z-index: 1;}div.sk-parallel {display: flex;align-items: stretch;justify-content: center;background-color: white;}div.sk-parallel-item {display: flex;flex-direction: column;position: relative;background-color: white;}div.sk-parallel-item:first-child::after {align-self: flex-end;width: 50%;}div.sk-parallel-item:last-child::after {align-self: flex-start;width: 50%;}div.sk-parallel-item:only-child::after {width: 0;}div.sk-dashed-wrapped {border: 1px dashed gray;margin: 0.2em;box-sizing: border-box;padding-bottom: 0.1em;background-color: white;position: relative;}div.sk-label label {font-family: monospace;font-weight: bold;background-color: white;display: inline-block;line-height: 1.2em;}div.sk-label-container {position: relative;z-index: 2;text-align: center;}div.sk-container {display: inline-block;position: relative;}</style><div class=\"sk-top-container\"><div class=\"sk-container\"><div class=\"sk-item sk-dashed-wrapped\"><div class=\"sk-label-container\"><div class=\"sk-label sk-toggleable\"><input class=\"sk-toggleable__control sk-hidden--visually\" id=\"e5664131-0875-47c2-ad2b-a57dbbb63ff0\" type=\"checkbox\" ><label class=\"sk-toggleable__label\" for=\"e5664131-0875-47c2-ad2b-a57dbbb63ff0\">Pipeline</label><div class=\"sk-toggleable__content\"><pre>Pipeline(steps=[('to dataframe', ToDataFrame()),\n",
       "                ('attributes selection and encoding',\n",
       "                 ColumnTransformer(transformers=[('attributes',\n",
       "                                                  Pipeline(steps=[('to dict '\n",
       "                                                                   'series',\n",
       "                                                                   DictFlattener()),\n",
       "                                                                  ('to binary '\n",
       "                                                                   'vectors',\n",
       "                                                                   DictVectorizer())]),\n",
       "                                                  'attributes')])),\n",
       "                ('polynomial_trans', PolynomialFeatures(include_bias=False)),\n",
       "                ('ridge', Ridge(alpha=100))])</pre></div></div></div><div class=\"sk-serial\"><div class=\"sk-item\"><div class=\"sk-estimator sk-toggleable\"><input class=\"sk-toggleable__control sk-hidden--visually\" id=\"133dd9e0-4366-407d-a4b4-06043aacad88\" type=\"checkbox\" ><label class=\"sk-toggleable__label\" for=\"133dd9e0-4366-407d-a4b4-06043aacad88\">ToDataFrame</label><div class=\"sk-toggleable__content\"><pre>ToDataFrame()</pre></div></div></div><div class=\"sk-item sk-dashed-wrapped\"><div class=\"sk-label-container\"><div class=\"sk-label sk-toggleable\"><input class=\"sk-toggleable__control sk-hidden--visually\" id=\"f26b0496-8ee5-45c9-b61b-be1327fc6a57\" type=\"checkbox\" ><label class=\"sk-toggleable__label\" for=\"f26b0496-8ee5-45c9-b61b-be1327fc6a57\">attributes selection and encoding: ColumnTransformer</label><div class=\"sk-toggleable__content\"><pre>ColumnTransformer(transformers=[('attributes',\n",
       "                                 Pipeline(steps=[('to dict series',\n",
       "                                                  DictFlattener()),\n",
       "                                                 ('to binary vectors',\n",
       "                                                  DictVectorizer())]),\n",
       "                                 'attributes')])</pre></div></div></div><div class=\"sk-parallel\"><div class=\"sk-parallel-item\"><div class=\"sk-item\"><div class=\"sk-label-container\"><div class=\"sk-label sk-toggleable\"><input class=\"sk-toggleable__control sk-hidden--visually\" id=\"24720d92-0a86-463a-81e0-dcadb8e73c93\" type=\"checkbox\" ><label class=\"sk-toggleable__label\" for=\"24720d92-0a86-463a-81e0-dcadb8e73c93\">attributes</label><div class=\"sk-toggleable__content\"><pre>attributes</pre></div></div></div><div class=\"sk-serial\"><div class=\"sk-item\"><div class=\"sk-serial\"><div class=\"sk-item\"><div class=\"sk-estimator sk-toggleable\"><input class=\"sk-toggleable__control sk-hidden--visually\" id=\"90ea6a11-d45e-4ecc-8816-89790959b177\" type=\"checkbox\" ><label class=\"sk-toggleable__label\" for=\"90ea6a11-d45e-4ecc-8816-89790959b177\">DictFlattener</label><div class=\"sk-toggleable__content\"><pre>DictFlattener()</pre></div></div></div><div class=\"sk-item\"><div class=\"sk-estimator sk-toggleable\"><input class=\"sk-toggleable__control sk-hidden--visually\" id=\"1c8116d6-70d2-4645-b416-dab777bb09c3\" type=\"checkbox\" ><label class=\"sk-toggleable__label\" for=\"1c8116d6-70d2-4645-b416-dab777bb09c3\">DictVectorizer</label><div class=\"sk-toggleable__content\"><pre>DictVectorizer()</pre></div></div></div></div></div></div></div></div></div></div><div class=\"sk-item\"><div class=\"sk-estimator sk-toggleable\"><input class=\"sk-toggleable__control sk-hidden--visually\" id=\"7b579755-5c0d-428f-9b07-1cb793ae081e\" type=\"checkbox\" ><label class=\"sk-toggleable__label\" for=\"7b579755-5c0d-428f-9b07-1cb793ae081e\">PolynomialFeatures</label><div class=\"sk-toggleable__content\"><pre>PolynomialFeatures(include_bias=False)</pre></div></div></div><div class=\"sk-item\"><div class=\"sk-estimator sk-toggleable\"><input class=\"sk-toggleable__control sk-hidden--visually\" id=\"ed99099c-49a9-4013-a06d-4fb9bcd34e9c\" type=\"checkbox\" ><label class=\"sk-toggleable__label\" for=\"ed99099c-49a9-4013-a06d-4fb9bcd34e9c\">Ridge</label><div class=\"sk-toggleable__content\"><pre>Ridge(alpha=100)</pre></div></div></div></div></div></div></div>"
      ],
      "text/plain": [
       "Pipeline(steps=[('to dataframe', ToDataFrame()),\n",
       "                ('attributes selection and encoding',\n",
       "                 ColumnTransformer(transformers=[('attributes',\n",
       "                                                  Pipeline(steps=[('to dict '\n",
       "                                                                   'series',\n",
       "                                                                   DictFlattener()),\n",
       "                                                                  ('to binary '\n",
       "                                                                   'vectors',\n",
       "                                                                   DictVectorizer())]),\n",
       "                                                  'attributes')])),\n",
       "                ('polynomial_trans', PolynomialFeatures(include_bias=False)),\n",
       "                ('ridge', Ridge(alpha=100))])"
      ]
     },
     "execution_count": 150,
     "metadata": {},
     "output_type": "execute_result"
    }
   ],
   "source": [
    "#for 2nd order version:\n",
    "params_dict2 = {'ridge__alpha':100} \n",
    "attribute_pipe.predictor2.set_params(**params_dict2)\n",
    "#for 3rd order version:\n",
    "#params_dict2 = {'ridge__alpha':1000} #{'ridge__alpha':0.001} #{'ridge__alpha':1e-05}"
   ]
  },
  {
   "cell_type": "code",
   "execution_count": null,
   "metadata": {},
   "outputs": [],
   "source": [
    "#I will save the model with dill after fitting the model the first time, then I will load it from memory the following times\n",
    "\n",
    "import dill\n",
    "\n",
    "#If the model file already exists, I load it:\n",
    "try:\n",
    "    with open('attribute_model_linear_plus_2nddorder.dill', 'rb') as f:\n",
    "        attribute_pipe = dill.load(f)\n",
    "        print('Loaded pickle file with attribute model linear + 2nd degree polynomial on the residuals.')\n",
    "except: #if not, actually perform the fit then save the model for next time:\n",
    "    \n",
    "    attribute_pipe.fit(data_shuffled,star_ratings_shuffled-np.array(attribute_model_linear.predict(data_shuffled)))\n",
    "    \n",
    "    with open('attribute_model_linear_plus_2nddorder.dill', 'wb') as f:\n",
    "        dill.dump(attribute_pipe, f)\n",
    "    print('Saved pickle file with attribute model linear + 2nd degree polynomial on the residuals.')\n",
    "\n",
    "# # For the 3rd order polynomial this did not work:\n",
    "# #attribute_pipe.fit(data_shuffled, star_ratings_shuffled)\n",
    "# # and I instead had to use:\n",
    "# #attribute_pipe.fit(data_shuffled_test,star_ratings_shuffled_test)\n",
    "    \n",
    "# try:\n",
    "#     with open('attribute_model_linear_plus_3rddorder.dill', 'rb') as f:\n",
    "#         attribute_pipe = dill.load(f)\n",
    "#         print('Loaded pickle file with attribute model linear + 3rd degree polynomial on the residuals.')\n",
    "# except: #if not, actually perform the fit then save the model for next time:\n",
    "    \n",
    "#     attribute_pipe.fit(data_shuffled_test,star_ratings_shuffled_test-np.array(attribute_model_linear.predict(data_shuffled_test)))\n",
    "    \n",
    "#     with open('attribute_model_linear_plus_3rddorder.dill', 'wb') as f:\n",
    "#         dill.dump(attribute_pipe, f)\n",
    "#     print('Saved pickle file with attribute model linear + 3rd degree polynomial on the residuals.')    "
   ]
  },
  {
   "cell_type": "code",
   "execution_count": null,
   "metadata": {},
   "outputs": [],
   "source": [
    "attribute_pipe.predict(data_shuffled_test)"
   ]
  },
  {
   "cell_type": "code",
   "execution_count": null,
   "metadata": {},
   "outputs": [],
   "source": [
    "attribute_pipe.score(data_shuffled_test,star_ratings_shuffled_test)"
   ]
  },
  {
   "cell_type": "code",
   "execution_count": null,
   "metadata": {},
   "outputs": [],
   "source": [
    "attribute_pipe.predict(data_shuffled)"
   ]
  },
  {
   "cell_type": "code",
   "execution_count": null,
   "metadata": {},
   "outputs": [],
   "source": [
    "attribute_pipe.score(data_shuffled,star_ratings_shuffled)"
   ]
  },
  {
   "cell_type": "code",
   "execution_count": null,
   "metadata": {},
   "outputs": [],
   "source": [
    "#Let's check the grader on this:\n",
    "#grader.score('ml__attribute_model', attribute_pipe.predict)"
   ]
  },
  {
   "cell_type": "code",
   "execution_count": 158,
   "metadata": {},
   "outputs": [],
   "source": [
    "#What if I let GridSearch look for the best combination of regressor__alpha and ridge__alpha?"
   ]
  },
  {
   "cell_type": "code",
   "execution_count": 159,
   "metadata": {},
   "outputs": [
    {
     "name": "stderr",
     "output_type": "stream",
     "text": [
      "/opt/conda/envs/data3/lib/python3.8/site-packages/sklearn/base.py:209: FutureWarning: From version 0.24, get_params will raise an AttributeError if a parameter cannot be retrieved as an instance attribute. Previously it would return None.\n",
      "  warnings.warn('From version 0.24, get_params will raise an '\n"
     ]
    },
    {
     "data": {
      "text/plain": [
       "dict_keys(['Predictor1', 'Predictor2'])"
      ]
     },
     "execution_count": 159,
     "metadata": {},
     "output_type": "execute_result"
    }
   ],
   "source": [
    "attribute_pipe.get_params().keys()"
   ]
  },
  {
   "cell_type": "code",
   "execution_count": 160,
   "metadata": {},
   "outputs": [],
   "source": [
    "#This doesn't seem to work:\n",
    "#Let's try with cross validation to check for robustness of this result, and extend to the whole set of residuals\n",
    "param_grid = {'Predictor1.regressor__alpha':np.logspace(-5,5,10),'Predictor2.ridge__alpha': np.logspace(-2,4,10)} \n",
    "attribute_cascade_model = GridSearchCV(attribute_pipe, param_grid, cv=5, n_jobs=2, verbose=1)\n"
   ]
  },
  {
   "cell_type": "code",
   "execution_count": 161,
   "metadata": {},
   "outputs": [
    {
     "name": "stdout",
     "output_type": "stream",
     "text": [
      "Fitting 5 folds for each of 100 candidates, totalling 500 fits\n"
     ]
    },
    {
     "name": "stderr",
     "output_type": "stream",
     "text": [
      "[Parallel(n_jobs=1)]: Using backend SequentialBackend with 1 concurrent workers.\n"
     ]
    },
    {
     "ename": "ValueError",
     "evalue": "Invalid parameter Predictor1.regressor for estimator CascadePredictor(Predictor1=None, Predictor2=None). Check the list of available parameters with `estimator.get_params().keys()`.",
     "output_type": "error",
     "traceback": [
      "\u001b[0;31m---------------------------------------------------------------------------\u001b[0m",
      "\u001b[0;31mValueError\u001b[0m                                Traceback (most recent call last)",
      "\u001b[0;32m<ipython-input-161-07db0258643a>\u001b[0m in \u001b[0;36m<module>\u001b[0;34m\u001b[0m\n\u001b[0;32m----> 1\u001b[0;31m \u001b[0mattribute_cascade_model\u001b[0m\u001b[0;34m.\u001b[0m\u001b[0mfit\u001b[0m\u001b[0;34m(\u001b[0m\u001b[0mdata_shuffled\u001b[0m\u001b[0;34m,\u001b[0m \u001b[0mstar_ratings_shuffled\u001b[0m\u001b[0;34m)\u001b[0m\u001b[0;34m\u001b[0m\u001b[0;34m\u001b[0m\u001b[0m\n\u001b[0m",
      "\u001b[0;32m/opt/conda/envs/data3/lib/python3.8/site-packages/sklearn/utils/validation.py\u001b[0m in \u001b[0;36minner_f\u001b[0;34m(*args, **kwargs)\u001b[0m\n\u001b[1;32m     70\u001b[0m                           FutureWarning)\n\u001b[1;32m     71\u001b[0m         \u001b[0mkwargs\u001b[0m\u001b[0;34m.\u001b[0m\u001b[0mupdate\u001b[0m\u001b[0;34m(\u001b[0m\u001b[0;34m{\u001b[0m\u001b[0mk\u001b[0m\u001b[0;34m:\u001b[0m \u001b[0marg\u001b[0m \u001b[0;32mfor\u001b[0m \u001b[0mk\u001b[0m\u001b[0;34m,\u001b[0m \u001b[0marg\u001b[0m \u001b[0;32min\u001b[0m \u001b[0mzip\u001b[0m\u001b[0;34m(\u001b[0m\u001b[0msig\u001b[0m\u001b[0;34m.\u001b[0m\u001b[0mparameters\u001b[0m\u001b[0;34m,\u001b[0m \u001b[0margs\u001b[0m\u001b[0;34m)\u001b[0m\u001b[0;34m}\u001b[0m\u001b[0;34m)\u001b[0m\u001b[0;34m\u001b[0m\u001b[0;34m\u001b[0m\u001b[0m\n\u001b[0;32m---> 72\u001b[0;31m         \u001b[0;32mreturn\u001b[0m \u001b[0mf\u001b[0m\u001b[0;34m(\u001b[0m\u001b[0;34m**\u001b[0m\u001b[0mkwargs\u001b[0m\u001b[0;34m)\u001b[0m\u001b[0;34m\u001b[0m\u001b[0;34m\u001b[0m\u001b[0m\n\u001b[0m\u001b[1;32m     73\u001b[0m     \u001b[0;32mreturn\u001b[0m \u001b[0minner_f\u001b[0m\u001b[0;34m\u001b[0m\u001b[0;34m\u001b[0m\u001b[0m\n\u001b[1;32m     74\u001b[0m \u001b[0;34m\u001b[0m\u001b[0m\n",
      "\u001b[0;32m/opt/conda/envs/data3/lib/python3.8/site-packages/sklearn/model_selection/_search.py\u001b[0m in \u001b[0;36mfit\u001b[0;34m(self, X, y, groups, **fit_params)\u001b[0m\n\u001b[1;32m    734\u001b[0m                 \u001b[0;32mreturn\u001b[0m \u001b[0mresults\u001b[0m\u001b[0;34m\u001b[0m\u001b[0;34m\u001b[0m\u001b[0m\n\u001b[1;32m    735\u001b[0m \u001b[0;34m\u001b[0m\u001b[0m\n\u001b[0;32m--> 736\u001b[0;31m             \u001b[0mself\u001b[0m\u001b[0;34m.\u001b[0m\u001b[0m_run_search\u001b[0m\u001b[0;34m(\u001b[0m\u001b[0mevaluate_candidates\u001b[0m\u001b[0;34m)\u001b[0m\u001b[0;34m\u001b[0m\u001b[0;34m\u001b[0m\u001b[0m\n\u001b[0m\u001b[1;32m    737\u001b[0m \u001b[0;34m\u001b[0m\u001b[0m\n\u001b[1;32m    738\u001b[0m         \u001b[0;31m# For multi-metric evaluation, store the best_index_, best_params_ and\u001b[0m\u001b[0;34m\u001b[0m\u001b[0;34m\u001b[0m\u001b[0;34m\u001b[0m\u001b[0m\n",
      "\u001b[0;32m/opt/conda/envs/data3/lib/python3.8/site-packages/sklearn/model_selection/_search.py\u001b[0m in \u001b[0;36m_run_search\u001b[0;34m(self, evaluate_candidates)\u001b[0m\n\u001b[1;32m   1186\u001b[0m     \u001b[0;32mdef\u001b[0m \u001b[0m_run_search\u001b[0m\u001b[0;34m(\u001b[0m\u001b[0mself\u001b[0m\u001b[0;34m,\u001b[0m \u001b[0mevaluate_candidates\u001b[0m\u001b[0;34m)\u001b[0m\u001b[0;34m:\u001b[0m\u001b[0;34m\u001b[0m\u001b[0;34m\u001b[0m\u001b[0m\n\u001b[1;32m   1187\u001b[0m         \u001b[0;34m\"\"\"Search all candidates in param_grid\"\"\"\u001b[0m\u001b[0;34m\u001b[0m\u001b[0;34m\u001b[0m\u001b[0m\n\u001b[0;32m-> 1188\u001b[0;31m         \u001b[0mevaluate_candidates\u001b[0m\u001b[0;34m(\u001b[0m\u001b[0mParameterGrid\u001b[0m\u001b[0;34m(\u001b[0m\u001b[0mself\u001b[0m\u001b[0;34m.\u001b[0m\u001b[0mparam_grid\u001b[0m\u001b[0;34m)\u001b[0m\u001b[0;34m)\u001b[0m\u001b[0;34m\u001b[0m\u001b[0;34m\u001b[0m\u001b[0m\n\u001b[0m\u001b[1;32m   1189\u001b[0m \u001b[0;34m\u001b[0m\u001b[0m\n\u001b[1;32m   1190\u001b[0m \u001b[0;34m\u001b[0m\u001b[0m\n",
      "\u001b[0;32m/opt/conda/envs/data3/lib/python3.8/site-packages/sklearn/model_selection/_search.py\u001b[0m in \u001b[0;36mevaluate_candidates\u001b[0;34m(candidate_params)\u001b[0m\n\u001b[1;32m    706\u001b[0m                               n_splits, n_candidates, n_candidates * n_splits))\n\u001b[1;32m    707\u001b[0m \u001b[0;34m\u001b[0m\u001b[0m\n\u001b[0;32m--> 708\u001b[0;31m                 out = parallel(delayed(_fit_and_score)(clone(base_estimator),\n\u001b[0m\u001b[1;32m    709\u001b[0m                                                        \u001b[0mX\u001b[0m\u001b[0;34m,\u001b[0m \u001b[0my\u001b[0m\u001b[0;34m,\u001b[0m\u001b[0;34m\u001b[0m\u001b[0;34m\u001b[0m\u001b[0m\n\u001b[1;32m    710\u001b[0m                                                        \u001b[0mtrain\u001b[0m\u001b[0;34m=\u001b[0m\u001b[0mtrain\u001b[0m\u001b[0;34m,\u001b[0m \u001b[0mtest\u001b[0m\u001b[0;34m=\u001b[0m\u001b[0mtest\u001b[0m\u001b[0;34m,\u001b[0m\u001b[0;34m\u001b[0m\u001b[0;34m\u001b[0m\u001b[0m\n",
      "\u001b[0;32m/opt/conda/envs/data3/lib/python3.8/site-packages/joblib/parallel.py\u001b[0m in \u001b[0;36m__call__\u001b[0;34m(self, iterable)\u001b[0m\n\u001b[1;32m   1039\u001b[0m             \u001b[0;31m# remaining jobs.\u001b[0m\u001b[0;34m\u001b[0m\u001b[0;34m\u001b[0m\u001b[0;34m\u001b[0m\u001b[0m\n\u001b[1;32m   1040\u001b[0m             \u001b[0mself\u001b[0m\u001b[0;34m.\u001b[0m\u001b[0m_iterating\u001b[0m \u001b[0;34m=\u001b[0m \u001b[0;32mFalse\u001b[0m\u001b[0;34m\u001b[0m\u001b[0;34m\u001b[0m\u001b[0m\n\u001b[0;32m-> 1041\u001b[0;31m             \u001b[0;32mif\u001b[0m \u001b[0mself\u001b[0m\u001b[0;34m.\u001b[0m\u001b[0mdispatch_one_batch\u001b[0m\u001b[0;34m(\u001b[0m\u001b[0miterator\u001b[0m\u001b[0;34m)\u001b[0m\u001b[0;34m:\u001b[0m\u001b[0;34m\u001b[0m\u001b[0;34m\u001b[0m\u001b[0m\n\u001b[0m\u001b[1;32m   1042\u001b[0m                 \u001b[0mself\u001b[0m\u001b[0;34m.\u001b[0m\u001b[0m_iterating\u001b[0m \u001b[0;34m=\u001b[0m \u001b[0mself\u001b[0m\u001b[0;34m.\u001b[0m\u001b[0m_original_iterator\u001b[0m \u001b[0;32mis\u001b[0m \u001b[0;32mnot\u001b[0m \u001b[0;32mNone\u001b[0m\u001b[0;34m\u001b[0m\u001b[0;34m\u001b[0m\u001b[0m\n\u001b[1;32m   1043\u001b[0m \u001b[0;34m\u001b[0m\u001b[0m\n",
      "\u001b[0;32m/opt/conda/envs/data3/lib/python3.8/site-packages/joblib/parallel.py\u001b[0m in \u001b[0;36mdispatch_one_batch\u001b[0;34m(self, iterator)\u001b[0m\n\u001b[1;32m    857\u001b[0m                 \u001b[0;32mreturn\u001b[0m \u001b[0;32mFalse\u001b[0m\u001b[0;34m\u001b[0m\u001b[0;34m\u001b[0m\u001b[0m\n\u001b[1;32m    858\u001b[0m             \u001b[0;32melse\u001b[0m\u001b[0;34m:\u001b[0m\u001b[0;34m\u001b[0m\u001b[0;34m\u001b[0m\u001b[0m\n\u001b[0;32m--> 859\u001b[0;31m                 \u001b[0mself\u001b[0m\u001b[0;34m.\u001b[0m\u001b[0m_dispatch\u001b[0m\u001b[0;34m(\u001b[0m\u001b[0mtasks\u001b[0m\u001b[0;34m)\u001b[0m\u001b[0;34m\u001b[0m\u001b[0;34m\u001b[0m\u001b[0m\n\u001b[0m\u001b[1;32m    860\u001b[0m                 \u001b[0;32mreturn\u001b[0m \u001b[0;32mTrue\u001b[0m\u001b[0;34m\u001b[0m\u001b[0;34m\u001b[0m\u001b[0m\n\u001b[1;32m    861\u001b[0m \u001b[0;34m\u001b[0m\u001b[0m\n",
      "\u001b[0;32m/opt/conda/envs/data3/lib/python3.8/site-packages/joblib/parallel.py\u001b[0m in \u001b[0;36m_dispatch\u001b[0;34m(self, batch)\u001b[0m\n\u001b[1;32m    775\u001b[0m         \u001b[0;32mwith\u001b[0m \u001b[0mself\u001b[0m\u001b[0;34m.\u001b[0m\u001b[0m_lock\u001b[0m\u001b[0;34m:\u001b[0m\u001b[0;34m\u001b[0m\u001b[0;34m\u001b[0m\u001b[0m\n\u001b[1;32m    776\u001b[0m             \u001b[0mjob_idx\u001b[0m \u001b[0;34m=\u001b[0m \u001b[0mlen\u001b[0m\u001b[0;34m(\u001b[0m\u001b[0mself\u001b[0m\u001b[0;34m.\u001b[0m\u001b[0m_jobs\u001b[0m\u001b[0;34m)\u001b[0m\u001b[0;34m\u001b[0m\u001b[0;34m\u001b[0m\u001b[0m\n\u001b[0;32m--> 777\u001b[0;31m             \u001b[0mjob\u001b[0m \u001b[0;34m=\u001b[0m \u001b[0mself\u001b[0m\u001b[0;34m.\u001b[0m\u001b[0m_backend\u001b[0m\u001b[0;34m.\u001b[0m\u001b[0mapply_async\u001b[0m\u001b[0;34m(\u001b[0m\u001b[0mbatch\u001b[0m\u001b[0;34m,\u001b[0m \u001b[0mcallback\u001b[0m\u001b[0;34m=\u001b[0m\u001b[0mcb\u001b[0m\u001b[0;34m)\u001b[0m\u001b[0;34m\u001b[0m\u001b[0;34m\u001b[0m\u001b[0m\n\u001b[0m\u001b[1;32m    778\u001b[0m             \u001b[0;31m# A job can complete so quickly than its callback is\u001b[0m\u001b[0;34m\u001b[0m\u001b[0;34m\u001b[0m\u001b[0;34m\u001b[0m\u001b[0m\n\u001b[1;32m    779\u001b[0m             \u001b[0;31m# called before we get here, causing self._jobs to\u001b[0m\u001b[0;34m\u001b[0m\u001b[0;34m\u001b[0m\u001b[0;34m\u001b[0m\u001b[0m\n",
      "\u001b[0;32m/opt/conda/envs/data3/lib/python3.8/site-packages/joblib/_parallel_backends.py\u001b[0m in \u001b[0;36mapply_async\u001b[0;34m(self, func, callback)\u001b[0m\n\u001b[1;32m    206\u001b[0m     \u001b[0;32mdef\u001b[0m \u001b[0mapply_async\u001b[0m\u001b[0;34m(\u001b[0m\u001b[0mself\u001b[0m\u001b[0;34m,\u001b[0m \u001b[0mfunc\u001b[0m\u001b[0;34m,\u001b[0m \u001b[0mcallback\u001b[0m\u001b[0;34m=\u001b[0m\u001b[0;32mNone\u001b[0m\u001b[0;34m)\u001b[0m\u001b[0;34m:\u001b[0m\u001b[0;34m\u001b[0m\u001b[0;34m\u001b[0m\u001b[0m\n\u001b[1;32m    207\u001b[0m         \u001b[0;34m\"\"\"Schedule a func to be run\"\"\"\u001b[0m\u001b[0;34m\u001b[0m\u001b[0;34m\u001b[0m\u001b[0m\n\u001b[0;32m--> 208\u001b[0;31m         \u001b[0mresult\u001b[0m \u001b[0;34m=\u001b[0m \u001b[0mImmediateResult\u001b[0m\u001b[0;34m(\u001b[0m\u001b[0mfunc\u001b[0m\u001b[0;34m)\u001b[0m\u001b[0;34m\u001b[0m\u001b[0;34m\u001b[0m\u001b[0m\n\u001b[0m\u001b[1;32m    209\u001b[0m         \u001b[0;32mif\u001b[0m \u001b[0mcallback\u001b[0m\u001b[0;34m:\u001b[0m\u001b[0;34m\u001b[0m\u001b[0;34m\u001b[0m\u001b[0m\n\u001b[1;32m    210\u001b[0m             \u001b[0mcallback\u001b[0m\u001b[0;34m(\u001b[0m\u001b[0mresult\u001b[0m\u001b[0;34m)\u001b[0m\u001b[0;34m\u001b[0m\u001b[0;34m\u001b[0m\u001b[0m\n",
      "\u001b[0;32m/opt/conda/envs/data3/lib/python3.8/site-packages/joblib/_parallel_backends.py\u001b[0m in \u001b[0;36m__init__\u001b[0;34m(self, batch)\u001b[0m\n\u001b[1;32m    570\u001b[0m         \u001b[0;31m# Don't delay the application, to avoid keeping the input\u001b[0m\u001b[0;34m\u001b[0m\u001b[0;34m\u001b[0m\u001b[0;34m\u001b[0m\u001b[0m\n\u001b[1;32m    571\u001b[0m         \u001b[0;31m# arguments in memory\u001b[0m\u001b[0;34m\u001b[0m\u001b[0;34m\u001b[0m\u001b[0;34m\u001b[0m\u001b[0m\n\u001b[0;32m--> 572\u001b[0;31m         \u001b[0mself\u001b[0m\u001b[0;34m.\u001b[0m\u001b[0mresults\u001b[0m \u001b[0;34m=\u001b[0m \u001b[0mbatch\u001b[0m\u001b[0;34m(\u001b[0m\u001b[0;34m)\u001b[0m\u001b[0;34m\u001b[0m\u001b[0;34m\u001b[0m\u001b[0m\n\u001b[0m\u001b[1;32m    573\u001b[0m \u001b[0;34m\u001b[0m\u001b[0m\n\u001b[1;32m    574\u001b[0m     \u001b[0;32mdef\u001b[0m \u001b[0mget\u001b[0m\u001b[0;34m(\u001b[0m\u001b[0mself\u001b[0m\u001b[0;34m)\u001b[0m\u001b[0;34m:\u001b[0m\u001b[0;34m\u001b[0m\u001b[0;34m\u001b[0m\u001b[0m\n",
      "\u001b[0;32m/opt/conda/envs/data3/lib/python3.8/site-packages/joblib/parallel.py\u001b[0m in \u001b[0;36m__call__\u001b[0;34m(self)\u001b[0m\n\u001b[1;32m    260\u001b[0m         \u001b[0;31m# change the default number of processes to -1\u001b[0m\u001b[0;34m\u001b[0m\u001b[0;34m\u001b[0m\u001b[0;34m\u001b[0m\u001b[0m\n\u001b[1;32m    261\u001b[0m         \u001b[0;32mwith\u001b[0m \u001b[0mparallel_backend\u001b[0m\u001b[0;34m(\u001b[0m\u001b[0mself\u001b[0m\u001b[0;34m.\u001b[0m\u001b[0m_backend\u001b[0m\u001b[0;34m,\u001b[0m \u001b[0mn_jobs\u001b[0m\u001b[0;34m=\u001b[0m\u001b[0mself\u001b[0m\u001b[0;34m.\u001b[0m\u001b[0m_n_jobs\u001b[0m\u001b[0;34m)\u001b[0m\u001b[0;34m:\u001b[0m\u001b[0;34m\u001b[0m\u001b[0;34m\u001b[0m\u001b[0m\n\u001b[0;32m--> 262\u001b[0;31m             return [func(*args, **kwargs)\n\u001b[0m\u001b[1;32m    263\u001b[0m                     for func, args, kwargs in self.items]\n\u001b[1;32m    264\u001b[0m \u001b[0;34m\u001b[0m\u001b[0m\n",
      "\u001b[0;32m/opt/conda/envs/data3/lib/python3.8/site-packages/joblib/parallel.py\u001b[0m in \u001b[0;36m<listcomp>\u001b[0;34m(.0)\u001b[0m\n\u001b[1;32m    260\u001b[0m         \u001b[0;31m# change the default number of processes to -1\u001b[0m\u001b[0;34m\u001b[0m\u001b[0;34m\u001b[0m\u001b[0;34m\u001b[0m\u001b[0m\n\u001b[1;32m    261\u001b[0m         \u001b[0;32mwith\u001b[0m \u001b[0mparallel_backend\u001b[0m\u001b[0;34m(\u001b[0m\u001b[0mself\u001b[0m\u001b[0;34m.\u001b[0m\u001b[0m_backend\u001b[0m\u001b[0;34m,\u001b[0m \u001b[0mn_jobs\u001b[0m\u001b[0;34m=\u001b[0m\u001b[0mself\u001b[0m\u001b[0;34m.\u001b[0m\u001b[0m_n_jobs\u001b[0m\u001b[0;34m)\u001b[0m\u001b[0;34m:\u001b[0m\u001b[0;34m\u001b[0m\u001b[0;34m\u001b[0m\u001b[0m\n\u001b[0;32m--> 262\u001b[0;31m             return [func(*args, **kwargs)\n\u001b[0m\u001b[1;32m    263\u001b[0m                     for func, args, kwargs in self.items]\n\u001b[1;32m    264\u001b[0m \u001b[0;34m\u001b[0m\u001b[0m\n",
      "\u001b[0;32m/opt/conda/envs/data3/lib/python3.8/site-packages/sklearn/model_selection/_validation.py\u001b[0m in \u001b[0;36m_fit_and_score\u001b[0;34m(estimator, X, y, scorer, train, test, verbose, parameters, fit_params, return_train_score, return_parameters, return_n_test_samples, return_times, return_estimator, error_score)\u001b[0m\n\u001b[1;32m    518\u001b[0m             \u001b[0mcloned_parameters\u001b[0m\u001b[0;34m[\u001b[0m\u001b[0mk\u001b[0m\u001b[0;34m]\u001b[0m \u001b[0;34m=\u001b[0m \u001b[0mclone\u001b[0m\u001b[0;34m(\u001b[0m\u001b[0mv\u001b[0m\u001b[0;34m,\u001b[0m \u001b[0msafe\u001b[0m\u001b[0;34m=\u001b[0m\u001b[0;32mFalse\u001b[0m\u001b[0;34m)\u001b[0m\u001b[0;34m\u001b[0m\u001b[0;34m\u001b[0m\u001b[0m\n\u001b[1;32m    519\u001b[0m \u001b[0;34m\u001b[0m\u001b[0m\n\u001b[0;32m--> 520\u001b[0;31m         \u001b[0mestimator\u001b[0m \u001b[0;34m=\u001b[0m \u001b[0mestimator\u001b[0m\u001b[0;34m.\u001b[0m\u001b[0mset_params\u001b[0m\u001b[0;34m(\u001b[0m\u001b[0;34m**\u001b[0m\u001b[0mcloned_parameters\u001b[0m\u001b[0;34m)\u001b[0m\u001b[0;34m\u001b[0m\u001b[0;34m\u001b[0m\u001b[0m\n\u001b[0m\u001b[1;32m    521\u001b[0m \u001b[0;34m\u001b[0m\u001b[0m\n\u001b[1;32m    522\u001b[0m     \u001b[0mstart_time\u001b[0m \u001b[0;34m=\u001b[0m \u001b[0mtime\u001b[0m\u001b[0;34m.\u001b[0m\u001b[0mtime\u001b[0m\u001b[0;34m(\u001b[0m\u001b[0;34m)\u001b[0m\u001b[0;34m\u001b[0m\u001b[0;34m\u001b[0m\u001b[0m\n",
      "\u001b[0;32m/opt/conda/envs/data3/lib/python3.8/site-packages/sklearn/base.py\u001b[0m in \u001b[0;36mset_params\u001b[0;34m(self, **params)\u001b[0m\n\u001b[1;32m    247\u001b[0m             \u001b[0mkey\u001b[0m\u001b[0;34m,\u001b[0m \u001b[0mdelim\u001b[0m\u001b[0;34m,\u001b[0m \u001b[0msub_key\u001b[0m \u001b[0;34m=\u001b[0m \u001b[0mkey\u001b[0m\u001b[0;34m.\u001b[0m\u001b[0mpartition\u001b[0m\u001b[0;34m(\u001b[0m\u001b[0;34m'__'\u001b[0m\u001b[0;34m)\u001b[0m\u001b[0;34m\u001b[0m\u001b[0;34m\u001b[0m\u001b[0m\n\u001b[1;32m    248\u001b[0m             \u001b[0;32mif\u001b[0m \u001b[0mkey\u001b[0m \u001b[0;32mnot\u001b[0m \u001b[0;32min\u001b[0m \u001b[0mvalid_params\u001b[0m\u001b[0;34m:\u001b[0m\u001b[0;34m\u001b[0m\u001b[0;34m\u001b[0m\u001b[0m\n\u001b[0;32m--> 249\u001b[0;31m                 raise ValueError('Invalid parameter %s for estimator %s. '\n\u001b[0m\u001b[1;32m    250\u001b[0m                                  \u001b[0;34m'Check the list of available parameters '\u001b[0m\u001b[0;34m\u001b[0m\u001b[0;34m\u001b[0m\u001b[0m\n\u001b[1;32m    251\u001b[0m                                  \u001b[0;34m'with `estimator.get_params().keys()`.'\u001b[0m \u001b[0;34m%\u001b[0m\u001b[0;34m\u001b[0m\u001b[0;34m\u001b[0m\u001b[0m\n",
      "\u001b[0;31mValueError\u001b[0m: Invalid parameter Predictor1.regressor for estimator CascadePredictor(Predictor1=None, Predictor2=None). Check the list of available parameters with `estimator.get_params().keys()`."
     ]
    }
   ],
   "source": [
    "attribute_cascade_model.fit(data_shuffled, star_ratings_shuffled)"
   ]
  },
  {
   "cell_type": "code",
   "execution_count": 164,
   "metadata": {},
   "outputs": [],
   "source": [
    "#This doesn't seem to work either:\n",
    "pipe_attrib_list = [pipe_attrib.set_params(**{'regressor__alpha':n}) for n in np.logspace(-5,5,10)]\n",
    "\n",
    "third_order_residual_pipe_list = [third_order_residual_pipe.set_params(**{'ridge__alpha':n}) for n in np.logspace(-2,4,10)]\n",
    "\n",
    "param_grid = {'Predictor1':pipe_attrib_list,'Predictor2': third_order_residual_pipe_list} \n",
    "attribute_cascade_model = GridSearchCV(attribute_pipe, param_grid, cv=5, n_jobs=1, verbose=1)"
   ]
  },
  {
   "cell_type": "code",
   "execution_count": 165,
   "metadata": {},
   "outputs": [
    {
     "name": "stderr",
     "output_type": "stream",
     "text": [
      "/opt/conda/envs/data3/lib/python3.8/site-packages/sklearn/base.py:209: FutureWarning: From version 0.24, get_params will raise an AttributeError if a parameter cannot be retrieved as an instance attribute. Previously it would return None.\n",
      "  warnings.warn('From version 0.24, get_params will raise an '\n",
      "[Parallel(n_jobs=1)]: Using backend SequentialBackend with 1 concurrent workers.\n",
      "/opt/conda/envs/data3/lib/python3.8/site-packages/sklearn/model_selection/_validation.py:548: FitFailedWarning: Estimator fit failed. The score on this train-test partition for these parameters will be set to nan. Details: \n",
      "Traceback (most recent call last):\n",
      "  File \"/opt/conda/envs/data3/lib/python3.8/site-packages/sklearn/model_selection/_validation.py\", line 531, in _fit_and_score\n",
      "    estimator.fit(X_train, y_train, **fit_params)\n",
      "  File \"<ipython-input-146-7904274ec013>\", line 9, in fit\n",
      "    self.predictor1.fit(X, y)\n",
      "AttributeError: 'NoneType' object has no attribute 'fit'\n",
      "\n",
      "  warnings.warn(\"Estimator fit failed. The score on this train-test\"\n"
     ]
    },
    {
     "name": "stdout",
     "output_type": "stream",
     "text": [
      "Fitting 5 folds for each of 100 candidates, totalling 500 fits\n"
     ]
    },
    {
     "name": "stderr",
     "output_type": "stream",
     "text": [
      "[Parallel(n_jobs=1)]: Done 500 out of 500 | elapsed:   12.5s finished\n"
     ]
    },
    {
     "ename": "RuntimeError",
     "evalue": "Cannot clone object CascadePredictor(Predictor1=Pipeline(steps=[('to dataframe', ToDataFrame()),\n                                            ('attributes selection and '\n                                             'encoding',\n                                             ColumnTransformer(transformers=[('attributes',\n                                                                              Pipeline(steps=[('to '\n                                                                                               'dict '\n                                                                                               'series',\n                                                                                               DictFlattener()),\n                                                                                              ('to '\n                                                                                               'binary '\n                                                                                               'vectors',\n                                                                                               DictVectorizer())]),\n                                                                              'attributes')])),\n                                            ('regressor',\n                                             Ridge(alpha=100000.0))]),\n                 Predictor2=Pipeline(steps=[('to dataframe', ToDataFrame()),\n                                            ('attributes selection and '\n                                             'encoding',\n                                             ColumnTransformer(transformers=[('attributes',\n                                                                              Pipeline(steps=[('to '\n                                                                                               'dict '\n                                                                                               'series',\n                                                                                               DictFlattener()),\n                                                                                              ('to '\n                                                                                               'binary '\n                                                                                               'vectors',\n                                                                                               DictVectorizer())]),\n                                                                              'attributes')])),\n                                            ('polynomial_trans',\n                                             PolynomialFeatures(include_bias=False)),\n                                            ('ridge', Ridge(alpha=10000.0))])), as the constructor either does not set or modifies parameter Predictor1",
     "output_type": "error",
     "traceback": [
      "\u001b[0;31m---------------------------------------------------------------------------\u001b[0m",
      "\u001b[0;31mRuntimeError\u001b[0m                              Traceback (most recent call last)",
      "\u001b[0;32m<ipython-input-165-07db0258643a>\u001b[0m in \u001b[0;36m<module>\u001b[0;34m\u001b[0m\n\u001b[0;32m----> 1\u001b[0;31m \u001b[0mattribute_cascade_model\u001b[0m\u001b[0;34m.\u001b[0m\u001b[0mfit\u001b[0m\u001b[0;34m(\u001b[0m\u001b[0mdata_shuffled\u001b[0m\u001b[0;34m,\u001b[0m \u001b[0mstar_ratings_shuffled\u001b[0m\u001b[0;34m)\u001b[0m\u001b[0;34m\u001b[0m\u001b[0;34m\u001b[0m\u001b[0m\n\u001b[0m",
      "\u001b[0;32m/opt/conda/envs/data3/lib/python3.8/site-packages/sklearn/utils/validation.py\u001b[0m in \u001b[0;36minner_f\u001b[0;34m(*args, **kwargs)\u001b[0m\n\u001b[1;32m     70\u001b[0m                           FutureWarning)\n\u001b[1;32m     71\u001b[0m         \u001b[0mkwargs\u001b[0m\u001b[0;34m.\u001b[0m\u001b[0mupdate\u001b[0m\u001b[0;34m(\u001b[0m\u001b[0;34m{\u001b[0m\u001b[0mk\u001b[0m\u001b[0;34m:\u001b[0m \u001b[0marg\u001b[0m \u001b[0;32mfor\u001b[0m \u001b[0mk\u001b[0m\u001b[0;34m,\u001b[0m \u001b[0marg\u001b[0m \u001b[0;32min\u001b[0m \u001b[0mzip\u001b[0m\u001b[0;34m(\u001b[0m\u001b[0msig\u001b[0m\u001b[0;34m.\u001b[0m\u001b[0mparameters\u001b[0m\u001b[0;34m,\u001b[0m \u001b[0margs\u001b[0m\u001b[0;34m)\u001b[0m\u001b[0;34m}\u001b[0m\u001b[0;34m)\u001b[0m\u001b[0;34m\u001b[0m\u001b[0;34m\u001b[0m\u001b[0m\n\u001b[0;32m---> 72\u001b[0;31m         \u001b[0;32mreturn\u001b[0m \u001b[0mf\u001b[0m\u001b[0;34m(\u001b[0m\u001b[0;34m**\u001b[0m\u001b[0mkwargs\u001b[0m\u001b[0;34m)\u001b[0m\u001b[0;34m\u001b[0m\u001b[0;34m\u001b[0m\u001b[0m\n\u001b[0m\u001b[1;32m     73\u001b[0m     \u001b[0;32mreturn\u001b[0m \u001b[0minner_f\u001b[0m\u001b[0;34m\u001b[0m\u001b[0;34m\u001b[0m\u001b[0m\n\u001b[1;32m     74\u001b[0m \u001b[0;34m\u001b[0m\u001b[0m\n",
      "\u001b[0;32m/opt/conda/envs/data3/lib/python3.8/site-packages/sklearn/model_selection/_search.py\u001b[0m in \u001b[0;36mfit\u001b[0;34m(self, X, y, groups, **fit_params)\u001b[0m\n\u001b[1;32m    759\u001b[0m             \u001b[0;31m# we clone again after setting params in case some\u001b[0m\u001b[0;34m\u001b[0m\u001b[0;34m\u001b[0m\u001b[0;34m\u001b[0m\u001b[0m\n\u001b[1;32m    760\u001b[0m             \u001b[0;31m# of the params are estimators as well.\u001b[0m\u001b[0;34m\u001b[0m\u001b[0;34m\u001b[0m\u001b[0;34m\u001b[0m\u001b[0m\n\u001b[0;32m--> 761\u001b[0;31m             self.best_estimator_ = clone(clone(base_estimator).set_params(\n\u001b[0m\u001b[1;32m    762\u001b[0m                 **self.best_params_))\n\u001b[1;32m    763\u001b[0m             \u001b[0mrefit_start_time\u001b[0m \u001b[0;34m=\u001b[0m \u001b[0mtime\u001b[0m\u001b[0;34m.\u001b[0m\u001b[0mtime\u001b[0m\u001b[0;34m(\u001b[0m\u001b[0;34m)\u001b[0m\u001b[0;34m\u001b[0m\u001b[0;34m\u001b[0m\u001b[0m\n",
      "\u001b[0;32m/opt/conda/envs/data3/lib/python3.8/site-packages/sklearn/utils/validation.py\u001b[0m in \u001b[0;36minner_f\u001b[0;34m(*args, **kwargs)\u001b[0m\n\u001b[1;32m     70\u001b[0m                           FutureWarning)\n\u001b[1;32m     71\u001b[0m         \u001b[0mkwargs\u001b[0m\u001b[0;34m.\u001b[0m\u001b[0mupdate\u001b[0m\u001b[0;34m(\u001b[0m\u001b[0;34m{\u001b[0m\u001b[0mk\u001b[0m\u001b[0;34m:\u001b[0m \u001b[0marg\u001b[0m \u001b[0;32mfor\u001b[0m \u001b[0mk\u001b[0m\u001b[0;34m,\u001b[0m \u001b[0marg\u001b[0m \u001b[0;32min\u001b[0m \u001b[0mzip\u001b[0m\u001b[0;34m(\u001b[0m\u001b[0msig\u001b[0m\u001b[0;34m.\u001b[0m\u001b[0mparameters\u001b[0m\u001b[0;34m,\u001b[0m \u001b[0margs\u001b[0m\u001b[0;34m)\u001b[0m\u001b[0;34m}\u001b[0m\u001b[0;34m)\u001b[0m\u001b[0;34m\u001b[0m\u001b[0;34m\u001b[0m\u001b[0m\n\u001b[0;32m---> 72\u001b[0;31m         \u001b[0;32mreturn\u001b[0m \u001b[0mf\u001b[0m\u001b[0;34m(\u001b[0m\u001b[0;34m**\u001b[0m\u001b[0mkwargs\u001b[0m\u001b[0;34m)\u001b[0m\u001b[0;34m\u001b[0m\u001b[0;34m\u001b[0m\u001b[0m\n\u001b[0m\u001b[1;32m     73\u001b[0m     \u001b[0;32mreturn\u001b[0m \u001b[0minner_f\u001b[0m\u001b[0;34m\u001b[0m\u001b[0;34m\u001b[0m\u001b[0m\n\u001b[1;32m     74\u001b[0m \u001b[0;34m\u001b[0m\u001b[0m\n",
      "\u001b[0;32m/opt/conda/envs/data3/lib/python3.8/site-packages/sklearn/base.py\u001b[0m in \u001b[0;36mclone\u001b[0;34m(estimator, safe)\u001b[0m\n\u001b[1;32m     94\u001b[0m         \u001b[0mparam2\u001b[0m \u001b[0;34m=\u001b[0m \u001b[0mparams_set\u001b[0m\u001b[0;34m[\u001b[0m\u001b[0mname\u001b[0m\u001b[0;34m]\u001b[0m\u001b[0;34m\u001b[0m\u001b[0;34m\u001b[0m\u001b[0m\n\u001b[1;32m     95\u001b[0m         \u001b[0;32mif\u001b[0m \u001b[0mparam1\u001b[0m \u001b[0;32mis\u001b[0m \u001b[0;32mnot\u001b[0m \u001b[0mparam2\u001b[0m\u001b[0;34m:\u001b[0m\u001b[0;34m\u001b[0m\u001b[0;34m\u001b[0m\u001b[0m\n\u001b[0;32m---> 96\u001b[0;31m             raise RuntimeError('Cannot clone object %s, as the constructor '\n\u001b[0m\u001b[1;32m     97\u001b[0m                                \u001b[0;34m'either does not set or modifies parameter %s'\u001b[0m \u001b[0;34m%\u001b[0m\u001b[0;34m\u001b[0m\u001b[0;34m\u001b[0m\u001b[0m\n\u001b[1;32m     98\u001b[0m                                (estimator, name))\n",
      "\u001b[0;31mRuntimeError\u001b[0m: Cannot clone object CascadePredictor(Predictor1=Pipeline(steps=[('to dataframe', ToDataFrame()),\n                                            ('attributes selection and '\n                                             'encoding',\n                                             ColumnTransformer(transformers=[('attributes',\n                                                                              Pipeline(steps=[('to '\n                                                                                               'dict '\n                                                                                               'series',\n                                                                                               DictFlattener()),\n                                                                                              ('to '\n                                                                                               'binary '\n                                                                                               'vectors',\n                                                                                               DictVectorizer())]),\n                                                                              'attributes')])),\n                                            ('regressor',\n                                             Ridge(alpha=100000.0))]),\n                 Predictor2=Pipeline(steps=[('to dataframe', ToDataFrame()),\n                                            ('attributes selection and '\n                                             'encoding',\n                                             ColumnTransformer(transformers=[('attributes',\n                                                                              Pipeline(steps=[('to '\n                                                                                               'dict '\n                                                                                               'series',\n                                                                                               DictFlattener()),\n                                                                                              ('to '\n                                                                                               'binary '\n                                                                                               'vectors',\n                                                                                               DictVectorizer())]),\n                                                                              'attributes')])),\n                                            ('polynomial_trans',\n                                             PolynomialFeatures(include_bias=False)),\n                                            ('ridge', Ridge(alpha=10000.0))])), as the constructor either does not set or modifies parameter Predictor1"
     ]
    }
   ],
   "source": [
    "attribute_cascade_model.fit(data_shuffled, star_ratings_shuffled)"
   ]
  },
  {
   "cell_type": "code",
   "execution_count": null,
   "metadata": {},
   "outputs": [],
   "source": [
    "#grader.score('ml__attribute_model', attribute_cascade_model.predict) "
   ]
  },
  {
   "cell_type": "markdown",
   "metadata": {
    "slideshow": null
   },
   "source": [
    "## Question 6: full_model"
   ]
  },
  {
   "cell_type": "markdown",
   "metadata": {
    "slideshow": null
   },
   "source": [
    "So far we have only built models based on individual features.  Now we will build an ensemble regressor that averages together the estimates of the four previous regressors.\n",
    "\n",
    "In order to use the existing models as input to a predictor, we will have to turn them into transformers; a predictor can only be in the final step of a pipeline. Build a custom `ModelTransformer` class that takes a predictor as an argument. When `fit` is called, the predictor should be fit. When `transform` is called, the predictor's `predict` method should be called, and its results returned as the transformation.\n",
    "\n",
    "Note that the output of the `transform` method should be a 2-D array with a single column in order for it to work well with the scikit-learn pipeline. If you're using NumPy arrays, you can use `.reshape(-1, 1)` to create a column vector. If you are just using Python lists, you will want a list of lists of single elements."
   ]
  },
  {
   "cell_type": "code",
   "execution_count": 166,
   "metadata": {
    "slideshow": null
   },
   "outputs": [],
   "source": [
    "class ModelTransformer(BaseEstimator, TransformerMixin):\n",
    "    \n",
    "    def __init__(self, model):\n",
    "        self.predictor = model\n",
    "            \n",
    "    def fit(self, X, y):\n",
    "        # Fit the stored predictor.\n",
    "        self.predictor.fit(X, y)\n",
    "        return self\n",
    "    \n",
    "    def transform(self, X):\n",
    "        # Use predict on the stored predictor as a \"transformation\".\n",
    "        # Be sure to return a 2-D array.\n",
    "        return np.array(self.predictor.predict(X)).reshape(-1,1)\n",
    "    "
   ]
  },
  {
   "cell_type": "markdown",
   "metadata": {
    "slideshow": null
   },
   "source": [
    "Let's now test it out on our `city_model`."
   ]
  },
  {
   "cell_type": "code",
   "execution_count": 167,
   "metadata": {},
   "outputs": [
    {
     "data": {
      "text/plain": [
       "True"
      ]
     },
     "execution_count": 167,
     "metadata": {},
     "output_type": "execute_result"
    }
   ],
   "source": [
    "city_trans = ModelTransformer(city_model)\n",
    "city_trans.fit(data, star_ratings)\n",
    "X_t = city_trans.transform(data[:5])\n",
    "\n",
    "# Check that the transformation output is a 2-D array with one column\n",
    "grader.check(np.array(X_t).shape[-1] == 1)"
   ]
  },
  {
   "cell_type": "code",
   "execution_count": 168,
   "metadata": {},
   "outputs": [],
   "source": [
    "#sanity check: the results should also look like those obtained earlier, which were:\n",
    "#array([3.67029039, 3.75      , 3.75      , 3.75      , 3.75      ])\n",
    "#That's what the next line tests"
   ]
  },
  {
   "cell_type": "code",
   "execution_count": 169,
   "metadata": {
    "slideshow": null
   },
   "outputs": [
    {
     "data": {
      "text/plain": [
       "True"
      ]
     },
     "execution_count": 169,
     "metadata": {},
     "output_type": "execute_result"
    }
   ],
   "source": [
    "y_pred = np.array(city_model.predict(data[:5]))\n",
    "\n",
    "# Check that the transformation output is the same as the model's predictions\n",
    "grader.check((y_pred.reshape(-1, 1) == X_t).all())"
   ]
  },
  {
   "cell_type": "markdown",
   "metadata": {
    "slideshow": null
   },
   "source": [
    "Create an instance of `ModelTransformer` for each of the previous four models. Combine these together in a single feature matrix with a\n",
    "[`FeatureUnion`](http://scikit-learn.org/stable/modules/generated/sklearn.pipeline.FeatureUnion.html#sklearn.pipeline.FeatureUnion)."
   ]
  },
  {
   "cell_type": "code",
   "execution_count": 170,
   "metadata": {},
   "outputs": [
    {
     "name": "stdout",
     "output_type": "stream",
     "text": [
      "Fitting 5 folds for each of 40 candidates, totalling 200 fits\n"
     ]
    },
    {
     "name": "stderr",
     "output_type": "stream",
     "text": [
      "[Parallel(n_jobs=2)]: Using backend LokyBackend with 2 concurrent workers.\n",
      "[Parallel(n_jobs=2)]: Done  46 tasks      | elapsed:   46.2s\n",
      "[Parallel(n_jobs=2)]: Done 196 tasks      | elapsed:  3.2min\n",
      "[Parallel(n_jobs=2)]: Done 200 out of 200 | elapsed:  3.2min finished\n"
     ]
    }
   ],
   "source": [
    "#Latitude-Longitude Model\n",
    "\n",
    "#Recall that:\n",
    "#lat_long_model = GridSearchCV(pipe, param_grid, cv=5, n_jobs=2, verbose=1)\n",
    "#so it may take a bit to compute\n",
    "lat_long_trans = ModelTransformer(lat_long_model)\n",
    "\n",
    "# #For debug:\n",
    "#lat_long_trans.fit(data, star_ratings)\n",
    "#Y_t = lat_long_trans.transform(data[:5])\n",
    "#print(Y_t)\n",
    "##compare with the results of actually running that model\n",
    "#print(lat_long_model.predict(data[:5]))"
   ]
  },
  {
   "cell_type": "code",
   "execution_count": 174,
   "metadata": {},
   "outputs": [
    {
     "name": "stdout",
     "output_type": "stream",
     "text": [
      "Fitting 5 folds for each of 10 candidates, totalling 50 fits\n"
     ]
    },
    {
     "name": "stderr",
     "output_type": "stream",
     "text": [
      "[Parallel(n_jobs=2)]: Using backend LokyBackend with 2 concurrent workers.\n",
      "[Parallel(n_jobs=2)]: Done  46 tasks      | elapsed:   50.1s\n",
      "[Parallel(n_jobs=2)]: Done  50 out of  50 | elapsed:   53.6s finished\n"
     ]
    }
   ],
   "source": [
    "#Category Model:\n",
    "\n",
    "#Recall that:\n",
    "#param_grid = {'regressor__alpha': np.logspace(-5,5,10)} \n",
    "#category_model = GridSearchCV(pipe_categ, param_grid, cv=5, n_jobs=2, verbose=1)\n",
    "\n",
    "category_trans = ModelTransformer(category_model)\n",
    "\n",
    "# #For debug:\n",
    "#category_trans.fit(data_shuffled, star_ratings_shuffled)\n",
    "#Z_t = category_trans.transform(data[:5])\n",
    "#print(Z_t)\n",
    "##compare with the results of actually running that model\n",
    "#print(category_model.predict(data[:5]))"
   ]
  },
  {
   "cell_type": "code",
   "execution_count": 177,
   "metadata": {},
   "outputs": [],
   "source": [
    "#Attribute model (linear + nonlinear):\n",
    "\n",
    "# #Recall that:\n",
    "# attribute_pipe = CascadePredictor(Predictor1=pipe_attrib,Predictor2=second_order_residual_pipe)\n",
    "# #attribute_pipe = CascadePredictor(Predictor1=pipe_attrib,Predictor2=third_order_residual_pipe)\n",
    "\n",
    "# params_dict1 = {'regressor__alpha':3.6}\n",
    "# attribute_pipe.predictor1.set_params(**params_dict1) #based on what found for the linear model alone\n",
    "\n",
    "# #for 2nd order version:\n",
    "# params_dict2 = {'ridge__alpha':100} \n",
    "# attribute_pipe.predictor2.set_params(**params_dict2)\n",
    "# #for 3rd order version:\n",
    "# #params_dict2 = {'ridge__alpha':1000} #{'ridge__alpha':0.001} #{'ridge__alpha':1e-05}\n",
    "\n",
    "attribute_trans = ModelTransformer(attribute_pipe)\n",
    "\n",
    "# #For debug:\n",
    "#attribute_trans.fit(data_shuffled, star_ratings_shuffled)\n",
    "#K_t = attribute_trans.transform(data[:5])\n",
    "#print(K_t)\n",
    "##compare with the results of actually running that model\n",
    "#print(attribute_pipe.predict(data[:5]))"
   ]
  },
  {
   "cell_type": "code",
   "execution_count": 180,
   "metadata": {},
   "outputs": [],
   "source": [
    "#All the individual transformers behave as expected. Let's now make their union."
   ]
  },
  {
   "cell_type": "code",
   "execution_count": 182,
   "metadata": {
    "slideshow": null
   },
   "outputs": [],
   "source": [
    "from sklearn.pipeline import FeatureUnion\n",
    "\n",
    "union = FeatureUnion([\n",
    "        # FeatureUnion uses the same syntax as Pipeline\n",
    "        ('city model',city_trans),\n",
    "        ('lat long model', lat_long_trans),\n",
    "        ('category model', category_trans),\n",
    "        ('attribute model', attribute_trans)\n",
    "    ])"
   ]
  },
  {
   "cell_type": "code",
   "execution_count": 183,
   "metadata": {},
   "outputs": [
    {
     "name": "stderr",
     "output_type": "stream",
     "text": [
      "/opt/conda/envs/data3/lib/python3.8/site-packages/sklearn/base.py:209: FutureWarning: From version 0.24, get_params will raise an AttributeError if a parameter cannot be retrieved as an instance attribute. Previously it would return None.\n",
      "  warnings.warn('From version 0.24, get_params will raise an '\n"
     ]
    },
    {
     "data": {
      "text/html": [
       "<style>div.sk-top-container {color: black;background-color: white;}div.sk-toggleable {background-color: white;}label.sk-toggleable__label {cursor: pointer;display: block;width: 100%;margin-bottom: 0;padding: 0.2em 0.3em;box-sizing: border-box;text-align: center;}div.sk-toggleable__content {max-height: 0;max-width: 0;overflow: hidden;text-align: left;background-color: #f0f8ff;}div.sk-toggleable__content pre {margin: 0.2em;color: black;border-radius: 0.25em;background-color: #f0f8ff;}input.sk-toggleable__control:checked~div.sk-toggleable__content {max-height: 200px;max-width: 100%;overflow: auto;}div.sk-estimator input.sk-toggleable__control:checked~label.sk-toggleable__label {background-color: #d4ebff;}div.sk-label input.sk-toggleable__control:checked~label.sk-toggleable__label {background-color: #d4ebff;}input.sk-hidden--visually {border: 0;clip: rect(1px 1px 1px 1px);clip: rect(1px, 1px, 1px, 1px);height: 1px;margin: -1px;overflow: hidden;padding: 0;position: absolute;width: 1px;}div.sk-estimator {font-family: monospace;background-color: #f0f8ff;margin: 0.25em 0.25em;border: 1px dotted black;border-radius: 0.25em;box-sizing: border-box;}div.sk-estimator:hover {background-color: #d4ebff;}div.sk-parallel-item::after {content: \"\";width: 100%;border-bottom: 1px solid gray;flex-grow: 1;}div.sk-label:hover label.sk-toggleable__label {background-color: #d4ebff;}div.sk-serial::before {content: \"\";position: absolute;border-left: 1px solid gray;box-sizing: border-box;top: 2em;bottom: 0;left: 50%;}div.sk-serial {display: flex;flex-direction: column;align-items: center;background-color: white;}div.sk-item {z-index: 1;}div.sk-parallel {display: flex;align-items: stretch;justify-content: center;background-color: white;}div.sk-parallel-item {display: flex;flex-direction: column;position: relative;background-color: white;}div.sk-parallel-item:first-child::after {align-self: flex-end;width: 50%;}div.sk-parallel-item:last-child::after {align-self: flex-start;width: 50%;}div.sk-parallel-item:only-child::after {width: 0;}div.sk-dashed-wrapped {border: 1px dashed gray;margin: 0.2em;box-sizing: border-box;padding-bottom: 0.1em;background-color: white;position: relative;}div.sk-label label {font-family: monospace;font-weight: bold;background-color: white;display: inline-block;line-height: 1.2em;}div.sk-label-container {position: relative;z-index: 2;text-align: center;}div.sk-container {display: inline-block;position: relative;}</style><div class=\"sk-top-container\"><div class=\"sk-container\"><div class=\"sk-item sk-dashed-wrapped\"><div class=\"sk-label-container\"><div class=\"sk-label sk-toggleable\"><input class=\"sk-toggleable__control sk-hidden--visually\" id=\"027455e7-dacd-41ce-b62f-b20f9e488bcc\" type=\"checkbox\" ><label class=\"sk-toggleable__label\" for=\"027455e7-dacd-41ce-b62f-b20f9e488bcc\">FeatureUnion</label><div class=\"sk-toggleable__content\"><pre>FeatureUnion(transformer_list=[('city model', ModelTransformer(model=None)),\n",
       "                               ('lat long model', ModelTransformer(model=None)),\n",
       "                               ('category model', ModelTransformer(model=None)),\n",
       "                               ('attribute model',\n",
       "                                ModelTransformer(model=None))])</pre></div></div></div><div class=\"sk-parallel\"><div class=\"sk-parallel-item\"><div class=\"sk-item\"><div class=\"sk-label-container\"><div class=\"sk-label sk-toggleable\"><label>city model</label></div></div><div class=\"sk-serial\"><div class=\"sk-item\"><div class=\"sk-estimator sk-toggleable\"><input class=\"sk-toggleable__control sk-hidden--visually\" id=\"45eba5eb-ab73-4452-aab5-14357560ad69\" type=\"checkbox\" ><label class=\"sk-toggleable__label\" for=\"45eba5eb-ab73-4452-aab5-14357560ad69\">ModelTransformer</label><div class=\"sk-toggleable__content\"><pre>ModelTransformer(model=None)</pre></div></div></div></div></div></div><div class=\"sk-parallel-item\"><div class=\"sk-item\"><div class=\"sk-label-container\"><div class=\"sk-label sk-toggleable\"><label>lat long model</label></div></div><div class=\"sk-serial\"><div class=\"sk-item\"><div class=\"sk-estimator sk-toggleable\"><input class=\"sk-toggleable__control sk-hidden--visually\" id=\"5132b97d-5940-4e65-ab0d-b00552e52139\" type=\"checkbox\" ><label class=\"sk-toggleable__label\" for=\"5132b97d-5940-4e65-ab0d-b00552e52139\">ModelTransformer</label><div class=\"sk-toggleable__content\"><pre>ModelTransformer(model=None)</pre></div></div></div></div></div></div><div class=\"sk-parallel-item\"><div class=\"sk-item\"><div class=\"sk-label-container\"><div class=\"sk-label sk-toggleable\"><label>category model</label></div></div><div class=\"sk-serial\"><div class=\"sk-item\"><div class=\"sk-estimator sk-toggleable\"><input class=\"sk-toggleable__control sk-hidden--visually\" id=\"e5622473-5b7e-418b-935e-6b5fd2aae595\" type=\"checkbox\" ><label class=\"sk-toggleable__label\" for=\"e5622473-5b7e-418b-935e-6b5fd2aae595\">ModelTransformer</label><div class=\"sk-toggleable__content\"><pre>ModelTransformer(model=None)</pre></div></div></div></div></div></div><div class=\"sk-parallel-item\"><div class=\"sk-item\"><div class=\"sk-label-container\"><div class=\"sk-label sk-toggleable\"><label>attribute model</label></div></div><div class=\"sk-serial\"><div class=\"sk-item\"><div class=\"sk-estimator sk-toggleable\"><input class=\"sk-toggleable__control sk-hidden--visually\" id=\"46778571-d199-4e20-ae13-f2edc3c52ef6\" type=\"checkbox\" ><label class=\"sk-toggleable__label\" for=\"46778571-d199-4e20-ae13-f2edc3c52ef6\">ModelTransformer</label><div class=\"sk-toggleable__content\"><pre>ModelTransformer(model=None)</pre></div></div></div></div></div></div></div></div></div></div>"
      ],
      "text/plain": [
       "FeatureUnion(transformer_list=[('city model', ModelTransformer(model=None)),\n",
       "                               ('lat long model', ModelTransformer(model=None)),\n",
       "                               ('category model', ModelTransformer(model=None)),\n",
       "                               ('attribute model',\n",
       "                                ModelTransformer(model=None))])"
      ]
     },
     "execution_count": 183,
     "metadata": {},
     "output_type": "execute_result"
    }
   ],
   "source": [
    "union"
   ]
  },
  {
   "cell_type": "markdown",
   "metadata": {
    "slideshow": null
   },
   "source": [
    "Our `FeatureUnion` object should return a feature matrix with four columns."
   ]
  },
  {
   "cell_type": "code",
   "execution_count": 184,
   "metadata": {
    "slideshow": null
   },
   "outputs": [
    {
     "name": "stdout",
     "output_type": "stream",
     "text": [
      "Fitting 5 folds for each of 40 candidates, totalling 200 fits\n"
     ]
    },
    {
     "name": "stderr",
     "output_type": "stream",
     "text": [
      "[Parallel(n_jobs=2)]: Using backend LokyBackend with 2 concurrent workers.\n",
      "[Parallel(n_jobs=2)]: Done  46 tasks      | elapsed:   45.6s\n",
      "[Parallel(n_jobs=2)]: Done 196 tasks      | elapsed:  3.1min\n",
      "[Parallel(n_jobs=2)]: Done 200 out of 200 | elapsed:  3.2min finished\n"
     ]
    },
    {
     "name": "stdout",
     "output_type": "stream",
     "text": [
      "Fitting 5 folds for each of 10 candidates, totalling 50 fits\n"
     ]
    },
    {
     "name": "stderr",
     "output_type": "stream",
     "text": [
      "[Parallel(n_jobs=2)]: Using backend LokyBackend with 2 concurrent workers.\n",
      "[Parallel(n_jobs=2)]: Done  46 tasks      | elapsed:   47.7s\n",
      "[Parallel(n_jobs=2)]: Done  50 out of  50 | elapsed:   51.0s finished\n"
     ]
    },
    {
     "data": {
      "text/plain": [
       "True"
      ]
     },
     "execution_count": 184,
     "metadata": {},
     "output_type": "execute_result"
    }
   ],
   "source": [
    "union.fit(data_shuffled, star_ratings_shuffled)\n",
    "X_t = union.transform(data[:5])\n",
    "\n",
    "# Transformed data should have 5 rows and 4 columns\n",
    "grader.check(X_t.shape == (5, 4))"
   ]
  },
  {
   "cell_type": "markdown",
   "metadata": {
    "slideshow": null
   },
   "source": [
    "Finally, use a pipeline to combine the feature union with a linear regression (or another model) to weight the predictions."
   ]
  },
  {
   "cell_type": "code",
   "execution_count": 185,
   "metadata": {
    "slideshow": null
   },
   "outputs": [
    {
     "name": "stderr",
     "output_type": "stream",
     "text": [
      "/opt/conda/envs/data3/lib/python3.8/site-packages/sklearn/base.py:209: FutureWarning: From version 0.24, get_params will raise an AttributeError if a parameter cannot be retrieved as an instance attribute. Previously it would return None.\n",
      "  warnings.warn('From version 0.24, get_params will raise an '\n"
     ]
    },
    {
     "data": {
      "text/html": [
       "<style>div.sk-top-container {color: black;background-color: white;}div.sk-toggleable {background-color: white;}label.sk-toggleable__label {cursor: pointer;display: block;width: 100%;margin-bottom: 0;padding: 0.2em 0.3em;box-sizing: border-box;text-align: center;}div.sk-toggleable__content {max-height: 0;max-width: 0;overflow: hidden;text-align: left;background-color: #f0f8ff;}div.sk-toggleable__content pre {margin: 0.2em;color: black;border-radius: 0.25em;background-color: #f0f8ff;}input.sk-toggleable__control:checked~div.sk-toggleable__content {max-height: 200px;max-width: 100%;overflow: auto;}div.sk-estimator input.sk-toggleable__control:checked~label.sk-toggleable__label {background-color: #d4ebff;}div.sk-label input.sk-toggleable__control:checked~label.sk-toggleable__label {background-color: #d4ebff;}input.sk-hidden--visually {border: 0;clip: rect(1px 1px 1px 1px);clip: rect(1px, 1px, 1px, 1px);height: 1px;margin: -1px;overflow: hidden;padding: 0;position: absolute;width: 1px;}div.sk-estimator {font-family: monospace;background-color: #f0f8ff;margin: 0.25em 0.25em;border: 1px dotted black;border-radius: 0.25em;box-sizing: border-box;}div.sk-estimator:hover {background-color: #d4ebff;}div.sk-parallel-item::after {content: \"\";width: 100%;border-bottom: 1px solid gray;flex-grow: 1;}div.sk-label:hover label.sk-toggleable__label {background-color: #d4ebff;}div.sk-serial::before {content: \"\";position: absolute;border-left: 1px solid gray;box-sizing: border-box;top: 2em;bottom: 0;left: 50%;}div.sk-serial {display: flex;flex-direction: column;align-items: center;background-color: white;}div.sk-item {z-index: 1;}div.sk-parallel {display: flex;align-items: stretch;justify-content: center;background-color: white;}div.sk-parallel-item {display: flex;flex-direction: column;position: relative;background-color: white;}div.sk-parallel-item:first-child::after {align-self: flex-end;width: 50%;}div.sk-parallel-item:last-child::after {align-self: flex-start;width: 50%;}div.sk-parallel-item:only-child::after {width: 0;}div.sk-dashed-wrapped {border: 1px dashed gray;margin: 0.2em;box-sizing: border-box;padding-bottom: 0.1em;background-color: white;position: relative;}div.sk-label label {font-family: monospace;font-weight: bold;background-color: white;display: inline-block;line-height: 1.2em;}div.sk-label-container {position: relative;z-index: 2;text-align: center;}div.sk-container {display: inline-block;position: relative;}</style><div class=\"sk-top-container\"><div class=\"sk-container\"><div class=\"sk-item sk-dashed-wrapped\"><div class=\"sk-label-container\"><div class=\"sk-label sk-toggleable\"><input class=\"sk-toggleable__control sk-hidden--visually\" id=\"f9f71fed-7ca6-4e91-b893-bf0611bce641\" type=\"checkbox\" ><label class=\"sk-toggleable__label\" for=\"f9f71fed-7ca6-4e91-b893-bf0611bce641\">Pipeline</label><div class=\"sk-toggleable__content\"><pre>Pipeline(steps=[('individual models',\n",
       "                 FeatureUnion(transformer_list=[('city model',\n",
       "                                                 ModelTransformer(model=None)),\n",
       "                                                ('lat long model',\n",
       "                                                 ModelTransformer(model=None)),\n",
       "                                                ('category model',\n",
       "                                                 ModelTransformer(model=None)),\n",
       "                                                ('attribute model',\n",
       "                                                 ModelTransformer(model=None))])),\n",
       "                ('linear combination', LinearRegression())])</pre></div></div></div><div class=\"sk-serial\"><div class=\"sk-item sk-dashed-wrapped\"><div class=\"sk-label-container\"><div class=\"sk-label sk-toggleable\"><input class=\"sk-toggleable__control sk-hidden--visually\" id=\"84f19f79-c0cb-46d1-a8ba-cabaaf2d59b8\" type=\"checkbox\" ><label class=\"sk-toggleable__label\" for=\"84f19f79-c0cb-46d1-a8ba-cabaaf2d59b8\">individual models: FeatureUnion</label><div class=\"sk-toggleable__content\"><pre>FeatureUnion(transformer_list=[('city model', ModelTransformer(model=None)),\n",
       "                               ('lat long model', ModelTransformer(model=None)),\n",
       "                               ('category model', ModelTransformer(model=None)),\n",
       "                               ('attribute model',\n",
       "                                ModelTransformer(model=None))])</pre></div></div></div><div class=\"sk-parallel\"><div class=\"sk-parallel-item\"><div class=\"sk-item\"><div class=\"sk-label-container\"><div class=\"sk-label sk-toggleable\"><label>city model</label></div></div><div class=\"sk-serial\"><div class=\"sk-item\"><div class=\"sk-estimator sk-toggleable\"><input class=\"sk-toggleable__control sk-hidden--visually\" id=\"9632d424-4e8d-4631-b14f-a055bf13de95\" type=\"checkbox\" ><label class=\"sk-toggleable__label\" for=\"9632d424-4e8d-4631-b14f-a055bf13de95\">ModelTransformer</label><div class=\"sk-toggleable__content\"><pre>ModelTransformer(model=None)</pre></div></div></div></div></div></div><div class=\"sk-parallel-item\"><div class=\"sk-item\"><div class=\"sk-label-container\"><div class=\"sk-label sk-toggleable\"><label>lat long model</label></div></div><div class=\"sk-serial\"><div class=\"sk-item\"><div class=\"sk-estimator sk-toggleable\"><input class=\"sk-toggleable__control sk-hidden--visually\" id=\"6838f425-024c-4b4a-a861-a268b38df43c\" type=\"checkbox\" ><label class=\"sk-toggleable__label\" for=\"6838f425-024c-4b4a-a861-a268b38df43c\">ModelTransformer</label><div class=\"sk-toggleable__content\"><pre>ModelTransformer(model=None)</pre></div></div></div></div></div></div><div class=\"sk-parallel-item\"><div class=\"sk-item\"><div class=\"sk-label-container\"><div class=\"sk-label sk-toggleable\"><label>category model</label></div></div><div class=\"sk-serial\"><div class=\"sk-item\"><div class=\"sk-estimator sk-toggleable\"><input class=\"sk-toggleable__control sk-hidden--visually\" id=\"cc214d2b-9253-4405-88da-ce24bd52c376\" type=\"checkbox\" ><label class=\"sk-toggleable__label\" for=\"cc214d2b-9253-4405-88da-ce24bd52c376\">ModelTransformer</label><div class=\"sk-toggleable__content\"><pre>ModelTransformer(model=None)</pre></div></div></div></div></div></div><div class=\"sk-parallel-item\"><div class=\"sk-item\"><div class=\"sk-label-container\"><div class=\"sk-label sk-toggleable\"><label>attribute model</label></div></div><div class=\"sk-serial\"><div class=\"sk-item\"><div class=\"sk-estimator sk-toggleable\"><input class=\"sk-toggleable__control sk-hidden--visually\" id=\"e29cc7d1-0fc7-48a7-962e-4da63926228b\" type=\"checkbox\" ><label class=\"sk-toggleable__label\" for=\"e29cc7d1-0fc7-48a7-962e-4da63926228b\">ModelTransformer</label><div class=\"sk-toggleable__content\"><pre>ModelTransformer(model=None)</pre></div></div></div></div></div></div></div></div><div class=\"sk-item\"><div class=\"sk-estimator sk-toggleable\"><input class=\"sk-toggleable__control sk-hidden--visually\" id=\"3a03873c-da4e-442d-84d2-10bf4cbfcd93\" type=\"checkbox\" ><label class=\"sk-toggleable__label\" for=\"3a03873c-da4e-442d-84d2-10bf4cbfcd93\">LinearRegression</label><div class=\"sk-toggleable__content\"><pre>LinearRegression()</pre></div></div></div></div></div></div></div>"
      ],
      "text/plain": [
       "Pipeline(steps=[('individual models',\n",
       "                 FeatureUnion(transformer_list=[('city model',\n",
       "                                                 ModelTransformer(model=None)),\n",
       "                                                ('lat long model',\n",
       "                                                 ModelTransformer(model=None)),\n",
       "                                                ('category model',\n",
       "                                                 ModelTransformer(model=None)),\n",
       "                                                ('attribute model',\n",
       "                                                 ModelTransformer(model=None))])),\n",
       "                ('linear combination', LinearRegression())])"
      ]
     },
     "execution_count": 185,
     "metadata": {},
     "output_type": "execute_result"
    }
   ],
   "source": [
    "from sklearn.linear_model import LinearRegression\n",
    "\n",
    "#note: there is no need of scaling because the output of each transformer is a rating prediction in this case,\n",
    "#and thus all columns are in the same unit and comparable with each other.\n",
    "#Moreover, I am using linear regression that technicaly does not need rescaling since it has a closed form solution\n",
    "\n",
    "full_model = Pipeline([\n",
    "    ('individual models', union),\n",
    "    ('linear combination', LinearRegression())\n",
    "],memory=full_model_cachedir)\n",
    "full_model"
   ]
  },
  {
   "cell_type": "code",
   "execution_count": 186,
   "metadata": {},
   "outputs": [
    {
     "name": "stdout",
     "output_type": "stream",
     "text": [
      "Fitting 5 folds for each of 40 candidates, totalling 200 fits\n"
     ]
    },
    {
     "name": "stderr",
     "output_type": "stream",
     "text": [
      "[Parallel(n_jobs=2)]: Using backend LokyBackend with 2 concurrent workers.\n",
      "[Parallel(n_jobs=2)]: Done  46 tasks      | elapsed:   45.3s\n",
      "[Parallel(n_jobs=2)]: Done 196 tasks      | elapsed:  3.1min\n",
      "[Parallel(n_jobs=2)]: Done 200 out of 200 | elapsed:  3.2min finished\n"
     ]
    },
    {
     "name": "stdout",
     "output_type": "stream",
     "text": [
      "Fitting 5 folds for each of 10 candidates, totalling 50 fits\n"
     ]
    },
    {
     "name": "stderr",
     "output_type": "stream",
     "text": [
      "[Parallel(n_jobs=2)]: Using backend LokyBackend with 2 concurrent workers.\n",
      "[Parallel(n_jobs=2)]: Done  46 tasks      | elapsed:   48.2s\n",
      "[Parallel(n_jobs=2)]: Done  50 out of  50 | elapsed:   51.4s finished\n",
      "/opt/conda/envs/data3/lib/python3.8/site-packages/sklearn/base.py:209: FutureWarning: From version 0.24, get_params will raise an AttributeError if a parameter cannot be retrieved as an instance attribute. Previously it would return None.\n",
      "  warnings.warn('From version 0.24, get_params will raise an '\n"
     ]
    },
    {
     "data": {
      "text/html": [
       "<style>div.sk-top-container {color: black;background-color: white;}div.sk-toggleable {background-color: white;}label.sk-toggleable__label {cursor: pointer;display: block;width: 100%;margin-bottom: 0;padding: 0.2em 0.3em;box-sizing: border-box;text-align: center;}div.sk-toggleable__content {max-height: 0;max-width: 0;overflow: hidden;text-align: left;background-color: #f0f8ff;}div.sk-toggleable__content pre {margin: 0.2em;color: black;border-radius: 0.25em;background-color: #f0f8ff;}input.sk-toggleable__control:checked~div.sk-toggleable__content {max-height: 200px;max-width: 100%;overflow: auto;}div.sk-estimator input.sk-toggleable__control:checked~label.sk-toggleable__label {background-color: #d4ebff;}div.sk-label input.sk-toggleable__control:checked~label.sk-toggleable__label {background-color: #d4ebff;}input.sk-hidden--visually {border: 0;clip: rect(1px 1px 1px 1px);clip: rect(1px, 1px, 1px, 1px);height: 1px;margin: -1px;overflow: hidden;padding: 0;position: absolute;width: 1px;}div.sk-estimator {font-family: monospace;background-color: #f0f8ff;margin: 0.25em 0.25em;border: 1px dotted black;border-radius: 0.25em;box-sizing: border-box;}div.sk-estimator:hover {background-color: #d4ebff;}div.sk-parallel-item::after {content: \"\";width: 100%;border-bottom: 1px solid gray;flex-grow: 1;}div.sk-label:hover label.sk-toggleable__label {background-color: #d4ebff;}div.sk-serial::before {content: \"\";position: absolute;border-left: 1px solid gray;box-sizing: border-box;top: 2em;bottom: 0;left: 50%;}div.sk-serial {display: flex;flex-direction: column;align-items: center;background-color: white;}div.sk-item {z-index: 1;}div.sk-parallel {display: flex;align-items: stretch;justify-content: center;background-color: white;}div.sk-parallel-item {display: flex;flex-direction: column;position: relative;background-color: white;}div.sk-parallel-item:first-child::after {align-self: flex-end;width: 50%;}div.sk-parallel-item:last-child::after {align-self: flex-start;width: 50%;}div.sk-parallel-item:only-child::after {width: 0;}div.sk-dashed-wrapped {border: 1px dashed gray;margin: 0.2em;box-sizing: border-box;padding-bottom: 0.1em;background-color: white;position: relative;}div.sk-label label {font-family: monospace;font-weight: bold;background-color: white;display: inline-block;line-height: 1.2em;}div.sk-label-container {position: relative;z-index: 2;text-align: center;}div.sk-container {display: inline-block;position: relative;}</style><div class=\"sk-top-container\"><div class=\"sk-container\"><div class=\"sk-item sk-dashed-wrapped\"><div class=\"sk-label-container\"><div class=\"sk-label sk-toggleable\"><input class=\"sk-toggleable__control sk-hidden--visually\" id=\"00c94f76-491d-4de9-9e69-62f1de6e2eb0\" type=\"checkbox\" ><label class=\"sk-toggleable__label\" for=\"00c94f76-491d-4de9-9e69-62f1de6e2eb0\">Pipeline</label><div class=\"sk-toggleable__content\"><pre>Pipeline(steps=[('individual models',\n",
       "                 FeatureUnion(transformer_list=[('city model',\n",
       "                                                 ModelTransformer(model=None)),\n",
       "                                                ('lat long model',\n",
       "                                                 ModelTransformer(model=None)),\n",
       "                                                ('category model',\n",
       "                                                 ModelTransformer(model=None)),\n",
       "                                                ('attribute model',\n",
       "                                                 ModelTransformer(model=None))])),\n",
       "                ('linear combination', LinearRegression())])</pre></div></div></div><div class=\"sk-serial\"><div class=\"sk-item sk-dashed-wrapped\"><div class=\"sk-label-container\"><div class=\"sk-label sk-toggleable\"><input class=\"sk-toggleable__control sk-hidden--visually\" id=\"c3de7b9f-5c71-4ef6-b882-20955bb6b909\" type=\"checkbox\" ><label class=\"sk-toggleable__label\" for=\"c3de7b9f-5c71-4ef6-b882-20955bb6b909\">individual models: FeatureUnion</label><div class=\"sk-toggleable__content\"><pre>FeatureUnion(transformer_list=[('city model', ModelTransformer(model=None)),\n",
       "                               ('lat long model', ModelTransformer(model=None)),\n",
       "                               ('category model', ModelTransformer(model=None)),\n",
       "                               ('attribute model',\n",
       "                                ModelTransformer(model=None))])</pre></div></div></div><div class=\"sk-parallel\"><div class=\"sk-parallel-item\"><div class=\"sk-item\"><div class=\"sk-label-container\"><div class=\"sk-label sk-toggleable\"><label>city model</label></div></div><div class=\"sk-serial\"><div class=\"sk-item\"><div class=\"sk-estimator sk-toggleable\"><input class=\"sk-toggleable__control sk-hidden--visually\" id=\"ae0267ba-6c55-4af7-bc18-f3a6d3673b6d\" type=\"checkbox\" ><label class=\"sk-toggleable__label\" for=\"ae0267ba-6c55-4af7-bc18-f3a6d3673b6d\">ModelTransformer</label><div class=\"sk-toggleable__content\"><pre>ModelTransformer(model=None)</pre></div></div></div></div></div></div><div class=\"sk-parallel-item\"><div class=\"sk-item\"><div class=\"sk-label-container\"><div class=\"sk-label sk-toggleable\"><label>lat long model</label></div></div><div class=\"sk-serial\"><div class=\"sk-item\"><div class=\"sk-estimator sk-toggleable\"><input class=\"sk-toggleable__control sk-hidden--visually\" id=\"42cd8cc6-13b4-44c1-b7f1-6a940b7651ee\" type=\"checkbox\" ><label class=\"sk-toggleable__label\" for=\"42cd8cc6-13b4-44c1-b7f1-6a940b7651ee\">ModelTransformer</label><div class=\"sk-toggleable__content\"><pre>ModelTransformer(model=None)</pre></div></div></div></div></div></div><div class=\"sk-parallel-item\"><div class=\"sk-item\"><div class=\"sk-label-container\"><div class=\"sk-label sk-toggleable\"><label>category model</label></div></div><div class=\"sk-serial\"><div class=\"sk-item\"><div class=\"sk-estimator sk-toggleable\"><input class=\"sk-toggleable__control sk-hidden--visually\" id=\"5e1e4fd6-faef-420c-ad9f-56accf09c2e3\" type=\"checkbox\" ><label class=\"sk-toggleable__label\" for=\"5e1e4fd6-faef-420c-ad9f-56accf09c2e3\">ModelTransformer</label><div class=\"sk-toggleable__content\"><pre>ModelTransformer(model=None)</pre></div></div></div></div></div></div><div class=\"sk-parallel-item\"><div class=\"sk-item\"><div class=\"sk-label-container\"><div class=\"sk-label sk-toggleable\"><label>attribute model</label></div></div><div class=\"sk-serial\"><div class=\"sk-item\"><div class=\"sk-estimator sk-toggleable\"><input class=\"sk-toggleable__control sk-hidden--visually\" id=\"c306ca77-7fd4-441d-86f3-dce8d93a2a29\" type=\"checkbox\" ><label class=\"sk-toggleable__label\" for=\"c306ca77-7fd4-441d-86f3-dce8d93a2a29\">ModelTransformer</label><div class=\"sk-toggleable__content\"><pre>ModelTransformer(model=None)</pre></div></div></div></div></div></div></div></div><div class=\"sk-item\"><div class=\"sk-estimator sk-toggleable\"><input class=\"sk-toggleable__control sk-hidden--visually\" id=\"b0fb1c6b-c19e-4279-b3f9-5e239e1082fe\" type=\"checkbox\" ><label class=\"sk-toggleable__label\" for=\"b0fb1c6b-c19e-4279-b3f9-5e239e1082fe\">LinearRegression</label><div class=\"sk-toggleable__content\"><pre>LinearRegression()</pre></div></div></div></div></div></div></div>"
      ],
      "text/plain": [
       "Pipeline(steps=[('individual models',\n",
       "                 FeatureUnion(transformer_list=[('city model',\n",
       "                                                 ModelTransformer(model=None)),\n",
       "                                                ('lat long model',\n",
       "                                                 ModelTransformer(model=None)),\n",
       "                                                ('category model',\n",
       "                                                 ModelTransformer(model=None)),\n",
       "                                                ('attribute model',\n",
       "                                                 ModelTransformer(model=None))])),\n",
       "                ('linear combination', LinearRegression())])"
      ]
     },
     "execution_count": 186,
     "metadata": {},
     "output_type": "execute_result"
    }
   ],
   "source": [
    "full_model.fit(data_shuffled, star_ratings_shuffled)"
   ]
  },
  {
   "cell_type": "code",
   "execution_count": 188,
   "metadata": {},
   "outputs": [],
   "source": [
    "#grader.score('ml__full_model', full_model.predict)\n",
    "#Score for this was 0.9079"
   ]
  },
  {
   "cell_type": "code",
   "execution_count": 191,
   "metadata": {},
   "outputs": [
    {
     "data": {
      "text/plain": [
       "{'individual models': FeatureUnion(transformer_list=[('city model', ModelTransformer(model=None)),\n",
       "                                ('lat long model', ModelTransformer(model=None)),\n",
       "                                ('category model', ModelTransformer(model=None)),\n",
       "                                ('attribute model',\n",
       "                                 ModelTransformer(model=None))]),\n",
       " 'linear combination': LinearRegression()}"
      ]
     },
     "execution_count": 191,
     "metadata": {},
     "output_type": "execute_result"
    }
   ],
   "source": [
    "full_model.named_steps"
   ]
  },
  {
   "cell_type": "code",
   "execution_count": 196,
   "metadata": {},
   "outputs": [
    {
     "data": {
      "text/plain": [
       "array([0.25461241, 0.63292679, 0.91057331, 0.39377044])"
      ]
     },
     "execution_count": 196,
     "metadata": {},
     "output_type": "execute_result"
    }
   ],
   "source": [
    "#Here are the weights learnt for each of the 4 individual models:\n",
    "full_model['linear combination'].coef_"
   ]
  },
  {
   "cell_type": "code",
   "execution_count": 197,
   "metadata": {},
   "outputs": [
    {
     "data": {
      "text/plain": [
       "0.22857107047077152"
      ]
     },
     "execution_count": 197,
     "metadata": {},
     "output_type": "execute_result"
    }
   ],
   "source": [
    "#Here is the score of the full model on the training data (the whole dataset):\n",
    "full_model.score(data_shuffled, star_ratings_shuffled)"
   ]
  },
  {
   "cell_type": "code",
   "execution_count": 198,
   "metadata": {},
   "outputs": [
    {
     "data": {
      "text/plain": [
       "0.2285710704707714"
      ]
     },
     "execution_count": 198,
     "metadata": {},
     "output_type": "execute_result"
    }
   ],
   "source": [
    "#sanity check:\n",
    "full_model.score(data, star_ratings)"
   ]
  },
  {
   "cell_type": "code",
   "execution_count": 199,
   "metadata": {},
   "outputs": [],
   "source": [
    "#Let me now try with the RandomForestRegressor in place of linear regression as the last step"
   ]
  },
  {
   "cell_type": "code",
   "execution_count": 205,
   "metadata": {},
   "outputs": [
    {
     "data": {
      "text/html": [
       "<style>div.sk-top-container {color: black;background-color: white;}div.sk-toggleable {background-color: white;}label.sk-toggleable__label {cursor: pointer;display: block;width: 100%;margin-bottom: 0;padding: 0.2em 0.3em;box-sizing: border-box;text-align: center;}div.sk-toggleable__content {max-height: 0;max-width: 0;overflow: hidden;text-align: left;background-color: #f0f8ff;}div.sk-toggleable__content pre {margin: 0.2em;color: black;border-radius: 0.25em;background-color: #f0f8ff;}input.sk-toggleable__control:checked~div.sk-toggleable__content {max-height: 200px;max-width: 100%;overflow: auto;}div.sk-estimator input.sk-toggleable__control:checked~label.sk-toggleable__label {background-color: #d4ebff;}div.sk-label input.sk-toggleable__control:checked~label.sk-toggleable__label {background-color: #d4ebff;}input.sk-hidden--visually {border: 0;clip: rect(1px 1px 1px 1px);clip: rect(1px, 1px, 1px, 1px);height: 1px;margin: -1px;overflow: hidden;padding: 0;position: absolute;width: 1px;}div.sk-estimator {font-family: monospace;background-color: #f0f8ff;margin: 0.25em 0.25em;border: 1px dotted black;border-radius: 0.25em;box-sizing: border-box;}div.sk-estimator:hover {background-color: #d4ebff;}div.sk-parallel-item::after {content: \"\";width: 100%;border-bottom: 1px solid gray;flex-grow: 1;}div.sk-label:hover label.sk-toggleable__label {background-color: #d4ebff;}div.sk-serial::before {content: \"\";position: absolute;border-left: 1px solid gray;box-sizing: border-box;top: 2em;bottom: 0;left: 50%;}div.sk-serial {display: flex;flex-direction: column;align-items: center;background-color: white;}div.sk-item {z-index: 1;}div.sk-parallel {display: flex;align-items: stretch;justify-content: center;background-color: white;}div.sk-parallel-item {display: flex;flex-direction: column;position: relative;background-color: white;}div.sk-parallel-item:first-child::after {align-self: flex-end;width: 50%;}div.sk-parallel-item:last-child::after {align-self: flex-start;width: 50%;}div.sk-parallel-item:only-child::after {width: 0;}div.sk-dashed-wrapped {border: 1px dashed gray;margin: 0.2em;box-sizing: border-box;padding-bottom: 0.1em;background-color: white;position: relative;}div.sk-label label {font-family: monospace;font-weight: bold;background-color: white;display: inline-block;line-height: 1.2em;}div.sk-label-container {position: relative;z-index: 2;text-align: center;}div.sk-container {display: inline-block;position: relative;}</style><div class=\"sk-top-container\"><div class=\"sk-container\"><div class=\"sk-item sk-dashed-wrapped\"><div class=\"sk-label-container\"><div class=\"sk-label sk-toggleable\"><input class=\"sk-toggleable__control sk-hidden--visually\" id=\"c0cc353a-49ad-4190-a24b-75da6a5c2cdd\" type=\"checkbox\" ><label class=\"sk-toggleable__label\" for=\"c0cc353a-49ad-4190-a24b-75da6a5c2cdd\">Pipeline</label><div class=\"sk-toggleable__content\"><pre>Pipeline(steps=[('individual models',\n",
       "                 FeatureUnion(transformer_list=[('city model',\n",
       "                                                 ModelTransformer(model=None)),\n",
       "                                                ('lat long model',\n",
       "                                                 ModelTransformer(model=None)),\n",
       "                                                ('category model',\n",
       "                                                 ModelTransformer(model=None)),\n",
       "                                                ('attribute model',\n",
       "                                                 ModelTransformer(model=None))])),\n",
       "                ('linear combination', RandomForestRegressor())])</pre></div></div></div><div class=\"sk-serial\"><div class=\"sk-item sk-dashed-wrapped\"><div class=\"sk-label-container\"><div class=\"sk-label sk-toggleable\"><input class=\"sk-toggleable__control sk-hidden--visually\" id=\"0d4c087e-b5f2-470b-92ba-4fb72540066e\" type=\"checkbox\" ><label class=\"sk-toggleable__label\" for=\"0d4c087e-b5f2-470b-92ba-4fb72540066e\">individual models: FeatureUnion</label><div class=\"sk-toggleable__content\"><pre>FeatureUnion(transformer_list=[('city model', ModelTransformer(model=None)),\n",
       "                               ('lat long model', ModelTransformer(model=None)),\n",
       "                               ('category model', ModelTransformer(model=None)),\n",
       "                               ('attribute model',\n",
       "                                ModelTransformer(model=None))])</pre></div></div></div><div class=\"sk-parallel\"><div class=\"sk-parallel-item\"><div class=\"sk-item\"><div class=\"sk-label-container\"><div class=\"sk-label sk-toggleable\"><label>city model</label></div></div><div class=\"sk-serial\"><div class=\"sk-item\"><div class=\"sk-estimator sk-toggleable\"><input class=\"sk-toggleable__control sk-hidden--visually\" id=\"cbbdd0f2-be38-4c00-a5ab-a8ef2e3fca27\" type=\"checkbox\" ><label class=\"sk-toggleable__label\" for=\"cbbdd0f2-be38-4c00-a5ab-a8ef2e3fca27\">ModelTransformer</label><div class=\"sk-toggleable__content\"><pre>ModelTransformer(model=None)</pre></div></div></div></div></div></div><div class=\"sk-parallel-item\"><div class=\"sk-item\"><div class=\"sk-label-container\"><div class=\"sk-label sk-toggleable\"><label>lat long model</label></div></div><div class=\"sk-serial\"><div class=\"sk-item\"><div class=\"sk-estimator sk-toggleable\"><input class=\"sk-toggleable__control sk-hidden--visually\" id=\"749ab042-3c2d-49ea-82c7-dd375867a4e6\" type=\"checkbox\" ><label class=\"sk-toggleable__label\" for=\"749ab042-3c2d-49ea-82c7-dd375867a4e6\">ModelTransformer</label><div class=\"sk-toggleable__content\"><pre>ModelTransformer(model=None)</pre></div></div></div></div></div></div><div class=\"sk-parallel-item\"><div class=\"sk-item\"><div class=\"sk-label-container\"><div class=\"sk-label sk-toggleable\"><label>category model</label></div></div><div class=\"sk-serial\"><div class=\"sk-item\"><div class=\"sk-estimator sk-toggleable\"><input class=\"sk-toggleable__control sk-hidden--visually\" id=\"4abcfa9e-35f2-4bd6-b88b-8bfbb6db1eb2\" type=\"checkbox\" ><label class=\"sk-toggleable__label\" for=\"4abcfa9e-35f2-4bd6-b88b-8bfbb6db1eb2\">ModelTransformer</label><div class=\"sk-toggleable__content\"><pre>ModelTransformer(model=None)</pre></div></div></div></div></div></div><div class=\"sk-parallel-item\"><div class=\"sk-item\"><div class=\"sk-label-container\"><div class=\"sk-label sk-toggleable\"><label>attribute model</label></div></div><div class=\"sk-serial\"><div class=\"sk-item\"><div class=\"sk-estimator sk-toggleable\"><input class=\"sk-toggleable__control sk-hidden--visually\" id=\"20fddc20-9a95-456a-9a54-cd1bf6d82d42\" type=\"checkbox\" ><label class=\"sk-toggleable__label\" for=\"20fddc20-9a95-456a-9a54-cd1bf6d82d42\">ModelTransformer</label><div class=\"sk-toggleable__content\"><pre>ModelTransformer(model=None)</pre></div></div></div></div></div></div></div></div><div class=\"sk-item\"><div class=\"sk-estimator sk-toggleable\"><input class=\"sk-toggleable__control sk-hidden--visually\" id=\"9a57c0cb-dfc7-4996-b118-a5fb36ed58b7\" type=\"checkbox\" ><label class=\"sk-toggleable__label\" for=\"9a57c0cb-dfc7-4996-b118-a5fb36ed58b7\">RandomForestRegressor</label><div class=\"sk-toggleable__content\"><pre>RandomForestRegressor()</pre></div></div></div></div></div></div></div>"
      ],
      "text/plain": [
       "Pipeline(steps=[('individual models',\n",
       "                 FeatureUnion(transformer_list=[('city model',\n",
       "                                                 ModelTransformer(model=None)),\n",
       "                                                ('lat long model',\n",
       "                                                 ModelTransformer(model=None)),\n",
       "                                                ('category model',\n",
       "                                                 ModelTransformer(model=None)),\n",
       "                                                ('attribute model',\n",
       "                                                 ModelTransformer(model=None))])),\n",
       "                ('linear combination', RandomForestRegressor())])"
      ]
     },
     "execution_count": 205,
     "metadata": {},
     "output_type": "execute_result"
    }
   ],
   "source": [
    "from sklearn.ensemble import RandomForestRegressor\n",
    "\n",
    "forest_model_cachedir='./forest_model_cachedir'\n",
    "\n",
    "forest_model = Pipeline([\n",
    "    ('individual models', union),\n",
    "    ('random forest', RandomForestRegressor())\n",
    "]) #,memory=forest_model_cachedir)\n",
    "forest_model"
   ]
  },
  {
   "cell_type": "code",
   "execution_count": 206,
   "metadata": {},
   "outputs": [
    {
     "name": "stdout",
     "output_type": "stream",
     "text": [
      "Fitting 5 folds for each of 40 candidates, totalling 200 fits\n"
     ]
    },
    {
     "name": "stderr",
     "output_type": "stream",
     "text": [
      "[Parallel(n_jobs=2)]: Using backend LokyBackend with 2 concurrent workers.\n",
      "[Parallel(n_jobs=2)]: Done  46 tasks      | elapsed:   46.6s\n",
      "[Parallel(n_jobs=2)]: Done 196 tasks      | elapsed:  3.2min\n",
      "[Parallel(n_jobs=2)]: Done 200 out of 200 | elapsed:  3.2min finished\n"
     ]
    },
    {
     "name": "stdout",
     "output_type": "stream",
     "text": [
      "Fitting 5 folds for each of 10 candidates, totalling 50 fits\n"
     ]
    },
    {
     "name": "stderr",
     "output_type": "stream",
     "text": [
      "[Parallel(n_jobs=2)]: Using backend LokyBackend with 2 concurrent workers.\n",
      "[Parallel(n_jobs=2)]: Done  46 tasks      | elapsed:   47.9s\n",
      "[Parallel(n_jobs=2)]: Done  50 out of  50 | elapsed:   51.1s finished\n",
      "/opt/conda/envs/data3/lib/python3.8/site-packages/sklearn/base.py:209: FutureWarning: From version 0.24, get_params will raise an AttributeError if a parameter cannot be retrieved as an instance attribute. Previously it would return None.\n",
      "  warnings.warn('From version 0.24, get_params will raise an '\n"
     ]
    },
    {
     "data": {
      "text/html": [
       "<style>div.sk-top-container {color: black;background-color: white;}div.sk-toggleable {background-color: white;}label.sk-toggleable__label {cursor: pointer;display: block;width: 100%;margin-bottom: 0;padding: 0.2em 0.3em;box-sizing: border-box;text-align: center;}div.sk-toggleable__content {max-height: 0;max-width: 0;overflow: hidden;text-align: left;background-color: #f0f8ff;}div.sk-toggleable__content pre {margin: 0.2em;color: black;border-radius: 0.25em;background-color: #f0f8ff;}input.sk-toggleable__control:checked~div.sk-toggleable__content {max-height: 200px;max-width: 100%;overflow: auto;}div.sk-estimator input.sk-toggleable__control:checked~label.sk-toggleable__label {background-color: #d4ebff;}div.sk-label input.sk-toggleable__control:checked~label.sk-toggleable__label {background-color: #d4ebff;}input.sk-hidden--visually {border: 0;clip: rect(1px 1px 1px 1px);clip: rect(1px, 1px, 1px, 1px);height: 1px;margin: -1px;overflow: hidden;padding: 0;position: absolute;width: 1px;}div.sk-estimator {font-family: monospace;background-color: #f0f8ff;margin: 0.25em 0.25em;border: 1px dotted black;border-radius: 0.25em;box-sizing: border-box;}div.sk-estimator:hover {background-color: #d4ebff;}div.sk-parallel-item::after {content: \"\";width: 100%;border-bottom: 1px solid gray;flex-grow: 1;}div.sk-label:hover label.sk-toggleable__label {background-color: #d4ebff;}div.sk-serial::before {content: \"\";position: absolute;border-left: 1px solid gray;box-sizing: border-box;top: 2em;bottom: 0;left: 50%;}div.sk-serial {display: flex;flex-direction: column;align-items: center;background-color: white;}div.sk-item {z-index: 1;}div.sk-parallel {display: flex;align-items: stretch;justify-content: center;background-color: white;}div.sk-parallel-item {display: flex;flex-direction: column;position: relative;background-color: white;}div.sk-parallel-item:first-child::after {align-self: flex-end;width: 50%;}div.sk-parallel-item:last-child::after {align-self: flex-start;width: 50%;}div.sk-parallel-item:only-child::after {width: 0;}div.sk-dashed-wrapped {border: 1px dashed gray;margin: 0.2em;box-sizing: border-box;padding-bottom: 0.1em;background-color: white;position: relative;}div.sk-label label {font-family: monospace;font-weight: bold;background-color: white;display: inline-block;line-height: 1.2em;}div.sk-label-container {position: relative;z-index: 2;text-align: center;}div.sk-container {display: inline-block;position: relative;}</style><div class=\"sk-top-container\"><div class=\"sk-container\"><div class=\"sk-item sk-dashed-wrapped\"><div class=\"sk-label-container\"><div class=\"sk-label sk-toggleable\"><input class=\"sk-toggleable__control sk-hidden--visually\" id=\"b2907ecc-48c2-4011-8ea2-d6b53b6bcdef\" type=\"checkbox\" ><label class=\"sk-toggleable__label\" for=\"b2907ecc-48c2-4011-8ea2-d6b53b6bcdef\">Pipeline</label><div class=\"sk-toggleable__content\"><pre>Pipeline(steps=[('individual models',\n",
       "                 FeatureUnion(transformer_list=[('city model',\n",
       "                                                 ModelTransformer(model=None)),\n",
       "                                                ('lat long model',\n",
       "                                                 ModelTransformer(model=None)),\n",
       "                                                ('category model',\n",
       "                                                 ModelTransformer(model=None)),\n",
       "                                                ('attribute model',\n",
       "                                                 ModelTransformer(model=None))])),\n",
       "                ('linear combination', RandomForestRegressor())])</pre></div></div></div><div class=\"sk-serial\"><div class=\"sk-item sk-dashed-wrapped\"><div class=\"sk-label-container\"><div class=\"sk-label sk-toggleable\"><input class=\"sk-toggleable__control sk-hidden--visually\" id=\"92adf17e-d2b7-441b-b6d8-9a2d463d2419\" type=\"checkbox\" ><label class=\"sk-toggleable__label\" for=\"92adf17e-d2b7-441b-b6d8-9a2d463d2419\">individual models: FeatureUnion</label><div class=\"sk-toggleable__content\"><pre>FeatureUnion(transformer_list=[('city model', ModelTransformer(model=None)),\n",
       "                               ('lat long model', ModelTransformer(model=None)),\n",
       "                               ('category model', ModelTransformer(model=None)),\n",
       "                               ('attribute model',\n",
       "                                ModelTransformer(model=None))])</pre></div></div></div><div class=\"sk-parallel\"><div class=\"sk-parallel-item\"><div class=\"sk-item\"><div class=\"sk-label-container\"><div class=\"sk-label sk-toggleable\"><label>city model</label></div></div><div class=\"sk-serial\"><div class=\"sk-item\"><div class=\"sk-estimator sk-toggleable\"><input class=\"sk-toggleable__control sk-hidden--visually\" id=\"56aaa9ec-741f-4514-ad61-5c5ba9a75315\" type=\"checkbox\" ><label class=\"sk-toggleable__label\" for=\"56aaa9ec-741f-4514-ad61-5c5ba9a75315\">ModelTransformer</label><div class=\"sk-toggleable__content\"><pre>ModelTransformer(model=None)</pre></div></div></div></div></div></div><div class=\"sk-parallel-item\"><div class=\"sk-item\"><div class=\"sk-label-container\"><div class=\"sk-label sk-toggleable\"><label>lat long model</label></div></div><div class=\"sk-serial\"><div class=\"sk-item\"><div class=\"sk-estimator sk-toggleable\"><input class=\"sk-toggleable__control sk-hidden--visually\" id=\"8f482090-674d-46d2-b26f-86bf900d7701\" type=\"checkbox\" ><label class=\"sk-toggleable__label\" for=\"8f482090-674d-46d2-b26f-86bf900d7701\">ModelTransformer</label><div class=\"sk-toggleable__content\"><pre>ModelTransformer(model=None)</pre></div></div></div></div></div></div><div class=\"sk-parallel-item\"><div class=\"sk-item\"><div class=\"sk-label-container\"><div class=\"sk-label sk-toggleable\"><label>category model</label></div></div><div class=\"sk-serial\"><div class=\"sk-item\"><div class=\"sk-estimator sk-toggleable\"><input class=\"sk-toggleable__control sk-hidden--visually\" id=\"950b3070-b664-4f63-99f7-0663dbd22c1d\" type=\"checkbox\" ><label class=\"sk-toggleable__label\" for=\"950b3070-b664-4f63-99f7-0663dbd22c1d\">ModelTransformer</label><div class=\"sk-toggleable__content\"><pre>ModelTransformer(model=None)</pre></div></div></div></div></div></div><div class=\"sk-parallel-item\"><div class=\"sk-item\"><div class=\"sk-label-container\"><div class=\"sk-label sk-toggleable\"><label>attribute model</label></div></div><div class=\"sk-serial\"><div class=\"sk-item\"><div class=\"sk-estimator sk-toggleable\"><input class=\"sk-toggleable__control sk-hidden--visually\" id=\"cd06248e-c39a-40fb-ae21-1c51b977dccb\" type=\"checkbox\" ><label class=\"sk-toggleable__label\" for=\"cd06248e-c39a-40fb-ae21-1c51b977dccb\">ModelTransformer</label><div class=\"sk-toggleable__content\"><pre>ModelTransformer(model=None)</pre></div></div></div></div></div></div></div></div><div class=\"sk-item\"><div class=\"sk-estimator sk-toggleable\"><input class=\"sk-toggleable__control sk-hidden--visually\" id=\"167876a1-7d4c-4f26-8fa4-6bf72c8b0dc8\" type=\"checkbox\" ><label class=\"sk-toggleable__label\" for=\"167876a1-7d4c-4f26-8fa4-6bf72c8b0dc8\">RandomForestRegressor</label><div class=\"sk-toggleable__content\"><pre>RandomForestRegressor()</pre></div></div></div></div></div></div></div>"
      ],
      "text/plain": [
       "Pipeline(steps=[('individual models',\n",
       "                 FeatureUnion(transformer_list=[('city model',\n",
       "                                                 ModelTransformer(model=None)),\n",
       "                                                ('lat long model',\n",
       "                                                 ModelTransformer(model=None)),\n",
       "                                                ('category model',\n",
       "                                                 ModelTransformer(model=None)),\n",
       "                                                ('attribute model',\n",
       "                                                 ModelTransformer(model=None))])),\n",
       "                ('linear combination', RandomForestRegressor())])"
      ]
     },
     "execution_count": 206,
     "metadata": {},
     "output_type": "execute_result"
    }
   ],
   "source": [
    "forest_model.fit(data_shuffled, star_ratings_shuffled)"
   ]
  },
  {
   "cell_type": "code",
   "execution_count": 210,
   "metadata": {},
   "outputs": [
    {
     "data": {
      "text/plain": [
       "0.8640414845612089"
      ]
     },
     "execution_count": 210,
     "metadata": {},
     "output_type": "execute_result"
    }
   ],
   "source": [
    "#Here is the score of the forest model on the training data (the whole dataset):\n",
    "forest_model.score(data_shuffled, star_ratings_shuffled)"
   ]
  },
  {
   "cell_type": "code",
   "execution_count": 211,
   "metadata": {
    "slideshow": null
   },
   "outputs": [
    {
     "name": "stdout",
     "output_type": "stream",
     "text": [
      "==================\n",
      "Your score: 0.6455\n",
      "==================\n"
     ]
    }
   ],
   "source": [
    "##Let's see how it does on the grader:\n",
    "#grader.score('ml__full_model', forest_model.predict)"
   ]
  },
  {
   "cell_type": "markdown",
   "metadata": {
    "slideshow": null
   },
   "source": [
    "**Extension:** Try a non-linear model such as [`RandomForestRegressor`](http://scikit-learn.org/stable/modules/generated/sklearn.ensemble.RandomForestRegressor.html#sklearn.ensemble.RandomForestRegressor) to blend the predictions of the four models. Are you able to get better results? If so, what do you think it's learning how to do?"
   ]
  },
  {
   "cell_type": "markdown",
   "metadata": {
    "slideshow": null
   },
   "source": [
    "*Copyright &copy; 2021 Pragmatic Institute. This content is licensed solely for personal use. Redistribution or publication of this material is strictly prohibited.*"
   ]
  }
 ],
 "metadata": {
  "kernelspec": {
   "display_name": "Python 3",
   "language": "python",
   "name": "python3"
  },
  "language_info": {
   "codemirror_mode": {
    "name": "ipython",
    "version": 3
   },
   "file_extension": ".py",
   "mimetype": "text/x-python",
   "name": "python",
   "nbconvert_exporter": "python",
   "pygments_lexer": "ipython3",
   "version": "3.8.5"
  },
  "nbclean": true
 },
 "nbformat": 4,
 "nbformat_minor": 4
}
